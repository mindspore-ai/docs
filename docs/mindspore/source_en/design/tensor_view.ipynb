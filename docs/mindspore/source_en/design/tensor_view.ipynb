{
 "cells": [
  {
   "attachments": {},
   "cell_type": "markdown",
   "id": "2579fa00-0dc6-4672-8a96-5a6bb315881f",
   "metadata": {},
   "source": [
    "# TENSOR VIEWS\n",
    "\n",
    "[![View source on Gitee](https://mindspore-website.obs.cn-north-4.myhuaweicloud.com/website-images/master/resource/_static/logo_source_en.svg)](https://gitee.com/mindspore/docs/blob/master/docs/mindspore/source_en/design/tensor_view.ipynb)"
   ]
  },
  {
   "attachments": {},
   "cell_type": "markdown",
   "id": "d2f9816d-fa7a-4524-accb-4fa3c30a2dc4",
   "metadata": {},
   "source": [
    "MindSpore allows a tensor to be a [view-class Operators](#view-class-operators) of an existing tensor. View tensor shares the same underlying data with its base tensor. Supporting View avoids explicit data copy, thus allows us to do fast and memory efficient reshaping, slicing and element-wise operations."
   ]
  },
  {
   "cell_type": "markdown",
   "metadata": {},
   "source": [
    "For example, to get a view of an existing tensor t, you can call t.view(...).\n",
    "\n",
    "```python\n",
    "from mindspore import Tensor\n",
    "import numpy as np\n",
    "t = Tensor(np.array([[1, 2, 3], [2, 3, 4]], dtype=np.float32))\n",
    "b = t.view((3, 2))\n",
    "# Modifying view tensor changes base tensor as well.\n",
    "b[0][0] = 100\n",
    "print(t[0][0])\n",
    "# 100\n",
    "```\n",
    "\n",
    "Since views share underlying data with its base tensor, if you edit the data in the view, it will be reflected in the base tensor as well."
   ]
  },
  {
   "cell_type": "markdown",
   "id": "b5584f1a-2bf6-4ea1-a393-99aa015926d8",
   "metadata": {},
   "source": [
    "Typically a MindSpore op returns a new tensor as output, e.g. [add()](https://www.mindspore.cn/docs/zh-CN/master/api_python/ops/mindspore.ops.add.html). But in case of view ops, outputs are views of input tensors to avoid unnecessary data copy. No data movement occurs when creating a view, view tensor just changes the way it interprets the same data. Taking a view of contiguous tensor could potentially produce a non-contiguous tensor. Users should pay additional attention as contiguity might have implicit performance impact. [transpose()](https://www.mindspore.cn/docs/zh-CN/master/api_python/ops/mindspore.ops.transpose.html) is a common example.\n",
    "\n",
    "```python\n",
    "from mindspore import Tensor\n",
    "import numpy as np\n",
    "base = Tensor([[0, 1], [2, 3]])\n",
    "base.is_contiguous()\n",
    "# True\n",
    "t = base.transpose(1, 0) # t is a view of base. No data movement happened here.\n",
    "t.is_contiguous()\n",
    "# False\n",
    "# To get a contiguous tensor, call `.contiguous()` to enforce\n",
    "# copying data when `t` is not contiguous.\n",
    "c = t.contiguous()\n",
    "c.is_contiguous()\n",
    "# True\n",
    "```"
   ]
  },
  {
   "cell_type": "markdown",
   "id": "72d6cbde",
   "metadata": {},
   "source": [
    "## view-class Operators\n",
    "\n",
    "For reference, here’s a full list of view ops in MindSpore:\n",
    "\n",
    "[broadcast_to()](https://www.mindspore.cn/docs/zh-CN/master/api_python/ops/mindspore.ops.broadcast_to.html)\n",
    "\n",
    "[diagonal()](https://www.mindspore.cn/docs/zh-CN/master/api_python/ops/mindspore.ops.diagonal.html)\n",
    "\n",
    "[expand_as()](https://www.mindspore.cn/docs/zh-CN/master/api_python/mindspore/Tensor/mindspore.Tensor.expand_as.html)\n",
    "\n",
    "[movedim()](https://www.mindspore.cn/docs/zh-CN/master/api_python/ops/mindspore.ops.movedim.html)\n",
    "\n",
    "[narrow()](https://www.mindspore.cn/docs/zh-CN/master/api_python/ops/mindspore.ops.narrow.html)\n",
    "\n",
    "[permute()](https://www.mindspore.cn/docs/zh-CN/master/api_python/ops/mindspore.ops.permute.html)\n",
    "\n",
    "[squeeze()](https://www.mindspore.cn/docs/zh-CN/master/api_python/ops/mindspore.ops.squeeze.html)\n",
    "\n",
    "[transpose()](https://www.mindspore.cn/docs/zh-CN/master/api_python/ops/mindspore.ops.transpose.html)\n",
    "\n",
    "[t()](https://www.mindspore.cn/docs/zh-CN/master/api_python/ops/mindspore.ops.t.html)\n",
    "\n",
    "[T](https://www.mindspore.cn/docs/zh-CN/master/api_python/mindspore/Tensor/mindspore.Tensor.T.html)\n",
    "\n",
    "[unsqueeze()](https://www.mindspore.cn/docs/zh-CN/master/api_python/ops/mindspore.ops.unsqueeze.html)\n",
    "\n",
    "[view()](https://www.mindspore.cn/docs/zh-CN/master/api_python/mindspore/Tensor/mindspore.Tensor.view.html)\n",
    "\n",
    "[view_as()](https://www.mindspore.cn/docs/zh-CN/master/api_python/mindspore/Tensor/mindspore.Tensor.view_as.html)\n",
    "\n",
    "[unbind()](https://www.mindspore.cn/docs/zh-CN/master/api_python/ops/mindspore.ops.unbind.html)\n",
    "\n",
    "[split()](https://www.mindspore.cn/docs/zh-CN/master/api_python/ops/mindspore.ops.split.html)\n",
    "\n",
    "[hsplit()](https://www.mindspore.cn/docs/zh-CN/master/api_python/ops/mindspore.ops.hsplit.html)\n",
    "\n",
    "[vsplit()](https://www.mindspore.cn/docs/zh-CN/master/api_python/ops/mindspore.ops.vsplit.html)\n",
    "\n",
    "[tensor_split()](https://www.mindspore.cn/docs/zh-CN/master/api_python/ops/mindspore.ops.tensor_split.html)\n",
    "\n",
    "[swapaxes()](https://www.mindspore.cn/docs/zh-CN/master/api_python/ops/mindspore.ops.swapaxes.html)\n",
    "\n",
    "[swapdims()](https://www.mindspore.cn/docs/zh-CN/master/api_python/ops/mindspore.ops.swapdims.html)"
   ]
  }
 ],
 "metadata": {
  "kernelspec": {
   "display_name": "MindSpore",
   "language": "python",
   "name": "mindspore"
  },
  "language_info": {
   "codemirror_mode": {
    "name": "ipython",
    "version": 3
   },
   "file_extension": ".py",
   "mimetype": "text/x-python",
   "name": "python",
   "nbconvert_exporter": "python",
   "pygments_lexer": "ipython3",
   "version": "3.7.5"
  },
  "vscode": {
   "interpreter": {
    "hash": "8c9da313289c39257cb28b126d2dadd33153d4da4d524f730c81a4aaccbd2ca7"
   }
  }
 },
 "nbformat": 4,
 "nbformat_minor": 5
}
