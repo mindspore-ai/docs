{
 "cells": [
  {
   "cell_type": "markdown",
   "metadata": {},
   "source": [
    "# 损失缩放\n",
    "\n",
    "`Ascend` `GPU` `模型调优`\n",
    "\n",
    "感谢：[ZOMI酱](https://www.zhihu.com/people/ZOMI) 提供编辑\n",
    "\n",
    "[![在线运行](https://gitee.com/mindspore/docs/raw/r1.6/resource/_static/logo_modelarts.png)](https://authoring-modelarts-cnnorth4.huaweicloud.com/console/lab?share-url-b64=aHR0cHM6Ly9taW5kc3BvcmUtd2Vic2l0ZS5vYnMuY24tbm9ydGgtNC5teWh1YXdlaWNsb3VkLmNvbS9ub3RlYm9vay9tYXN0ZXIvcHJvZ3JhbW1pbmdfZ3VpZGUvemhfY24vbWluZHNwb3JlX2xvc3NzY2FsZS5pcHluYg==&imageid=65f636a0-56cf-49df-b941-7d2a07ba8c8c)&emsp;[![下载Notebook](https://gitee.com/mindspore/docs/raw/r1.6/resource/_static/logo_notebook.png)](https://mindspore-website.obs.cn-north-4.myhuaweicloud.com/notebook/r1.6/programming_guide/zh_cn/mindspore_lossscale.ipynb)&emsp;[![下载样例代码](https://gitee.com/mindspore/docs/raw/r1.6/resource/_static/logo_download_code.png)](https://mindspore-website.obs.cn-north-4.myhuaweicloud.com/notebook/r1.6/programming_guide/zh_cn/mindspore_lossscale.py)&emsp;[![查看源文件](https://gitee.com/mindspore/docs/raw/r1.6/resource/_static/logo_source.png)](https://gitee.com/mindspore/docs/blob/r1.6/docs/mindspore/programming_guide/source_zh_cn/lossscale.ipynb)\n",
    "\n",
    "## 概述\n",
    "\n",
    "损失缩放（Loss Scale）技术主要是作用于混合精度训练的过程当中。\n",
    "\n",
    "在混合精度训练的过程中，会使用FP16类型来替代FP32类型进行数据存储，从而达到减少内存和提高计算速度的效果。但是由于FP16类型要比FP32类型表示的范围小很多，所以当参数（如梯度）在训练过程中变得很小时，就会发生数据下溢的情况。而Loss Scale损失缩放，正是为了解决FP16类型数据下溢问题而提出的。\n",
    "\n",
    "其主要思想是在计算损失值loss的时候，将loss扩大一定的倍数。由于链式法则的存在，梯度也会相应扩大，然后在优化器更新权重时再缩小相应的倍数，从而避免了数据下溢的情况又不影响计算结果。\n",
    "\n",
    "MindSpore中提供了两种Loss Scale的方式，分别是`FixedLossScaleManager`和`DynamicLossScaleManager`，需要和Model配合使用。在使用Model构建模型时，可配置混合精度策略`amp_level`和Loss Scale方式`loss_scale_manager`。\n",
    "\n",
    "## 使用FP16训练问题\n",
    "\n",
    "首先来看看为什么需要混合精度。使用FP16训练神经网络，相对比使用FP32带来的优点有：\n",
    "\n",
    "- **减少内存占用**：FP16的位宽是FP32的一半，因此权重等参数所占用的内存也是原来的一半，节省下来的内存可以放更大的网络模型或者使用更多的数据进行训练。\n",
    "- **加快通讯效率**：针对分布式训练，特别是在大模型训练的过程中，通讯的开销制约了网络模型训练的整体性能，通讯的位宽少了意味着可以提升通讯性能，减少等待时间，加快数据的流通。\n",
    "- **计算效率更高**：在特殊的AI加速芯片如华为Ascend 910和310系列，或者NVIDIA VOLTA架构的Titan V and Tesla V100的GPU上，使用FP16的执行运算性能比FP32更加快。\n",
    "\n",
    "但是使用FP16同样会带来一些问题，其中最重要的是精度溢出和舍入误差，Loss Scale就是为了解决精度溢出而提出的。\n",
    "\n",
    "## 损失缩放原理\n",
    "\n",
    "如图所示，如果仅仅使用FP32训练，模型收敛得比较好，但是如果用了混合精度训练，会存在网络模型无法收敛的情况。原因是梯度的值太小，使用FP16表示会造成了数据下溢出（Underflow）的问题，导致模型不收敛，如图中灰色的部分。于是需要引入损失缩放（Loss Scale）技术。\n",
    "\n",
    "![loss-scale1](images/loss_scale1.png)\n",
    "\n",
    "下面是在网络模型训练阶段， 某一层的激活函数梯度分布式中，其中有68%的网络模型激活参数位0，另外有4%的精度在$2^{-32},2^{-20}$这个区间内，直接使用FP16对这里面的数据进行表示，会截断下溢的数据，所有的梯度值都会变为0。\n",
    "\n",
    "![loss-scale2](images/loss_scale2.png)\n",
    "\n",
    "为了解决梯度过小数据下溢的问题，对前向计算出来的Loss值进行放大操作，也就是把FP32的参数乘以某一个因子系数后，把可能溢出的小数位数据往前移，平移到FP16能表示的数据范围内。根据链式求导法则，放大Loss后会作用在反向传播的每一层梯度，这样比在每一层梯度上进行放大更加高效。\n",
    "\n",
    "![loss-scale3](images/loss_scale3.png)\n",
    "\n",
    "损失放大是需要结合混合精度实现的，其主要的主要思路是：\n",
    "\n",
    "- **Scale up阶段**：网络模型前向计算后在反响传播前，将得到的损失变化值DLoss增大$2^K$倍。\n",
    "- **Scale down阶段**：反向传播后，将权重梯度缩$2^K$倍，恢复FP32值进行存储。\n",
    "\n",
    "**动态损失缩放（Dynamic Loss Scale）**：上面提到的损失缩放都是使用一个默认值对损失值进行缩放，为了充分利用FP16的动态范围，可以更好地缓解舍入误差，尽量使用比较大的放大倍数。总结动态损失缩放算法，就是每当梯度溢出时候减少损失缩放规模，并且间歇性地尝试增加损失规模，从而实现在不引起溢出的情况下使用最高损失缩放因子，更好地恢复精度。\n",
    "\n",
    "动态损失缩放的算法如下：\n",
    "\n",
    "1. 动态损失缩放的算法会从比较高的缩放因子开始（如$2^{24}$），然后开始进行训练，并在迭代中检查数是否会溢出（Infs/Nans）；\n",
    "2. 如果没有梯度溢出，则不调整缩放因子，继续进行迭代；如果检测到梯度溢出，则缩放因子会减半，重新确认梯度更新情况，直到参数不出现在溢出的范围内；\n",
    "3. 在训练的后期，loss已经趋近收敛稳定，梯度更新的幅度往往小了，这个时候可以允许更高的损失缩放因子来再次防止数据下溢。\n",
    "4. 因此，动态损失缩放算法会尝试在每N（N=2000）次迭代将损失缩放增加F倍数，然后执行步骤2检查是否溢出。\n",
    "\n",
    "## MindSpore中使用损失缩放\n",
    "\n",
    "下面将会分别介绍MindSpore中，使用损失缩放算法的主要两个API [FixedLossScaleManager](https://www.mindspore.cn/docs/api/zh-CN/r1.6/api_python/mindspore/mindspore.FixedLossScaleManager.html)和[DynamicLossScaleManager](https://www.mindspore.cn/docs/api/zh-CN/r1.6/api_python/mindspore/mindspore.DynamicLossScaleManager.html)。\n",
    "\n",
    "### FixedLossScaleManager\n",
    "\n",
    "`FixedLossScaleManager`在进行缩放的时候，不会改变scale的大小，scale的值由入参loss_scale控制，可以由用户指定，不指定则取默认值。\n",
    "\n",
    "`FixedLossScaleManager`的另一个参数是`drop_overflow_update`，用来控制发生溢出时是否更新参数。\n",
    "\n",
    "一般情况下LossScale功能不需要和优化器配合使用，但使用`FixedLossScaleManager`时，如果`drop_overflow_update`为False，那么优化器需设置`loss_scale`的值，且`loss_scale`的值要与`FixedLossScaleManager`的相同。\n",
    "\n",
    "`FixedLossScaleManager`具体用法如下：\n",
    "\n",
    "1. import必要的库，并声明使用图模式下执行。"
   ]
  },
  {
   "cell_type": "code",
   "execution_count": 1,
   "metadata": {
    "ExecuteTime": {
     "end_time": "2022-01-04T11:52:27.337659Z",
     "start_time": "2022-01-04T11:52:25.727247Z"
    }
   },
   "outputs": [],
   "source": [
    "import numpy as np\n",
    "import mindspore\n",
    "import mindspore.nn as nn\n",
    "from mindspore.nn import Accuracy\n",
    "from mindspore import context, Model, FixedLossScaleManager, DynamicLossScaleManager, Tensor\n",
    "from mindspore.train.callback import LossMonitor\n",
    "from mindspore.common.initializer import Normal\n",
    "from mindspore import dataset as ds\n",
    "\n",
    "mindspore.set_seed(0)\n",
    "context.set_context(mode=context.GRAPH_MODE)"
   ]
  },
  {
   "cell_type": "markdown",
   "metadata": {},
   "source": [
    "2. 定义LeNet5网络模型，任何网络模型都可以使用Loss Scale机制。"
   ]
  },
  {
   "cell_type": "code",
   "execution_count": 2,
   "metadata": {
    "ExecuteTime": {
     "end_time": "2022-01-04T11:52:27.346312Z",
     "start_time": "2022-01-04T11:52:27.339680Z"
    }
   },
   "outputs": [],
   "source": [
    "class LeNet5(nn.Cell):\n",
    "    \"\"\"\n",
    "    Lenet network\n",
    "\n",
    "    Args:\n",
    "        num_class (int): Number of classes. Default: 10.\n",
    "        num_channel (int): Number of channels. Default: 1.\n",
    "\n",
    "    Returns:\n",
    "        Tensor, output tensor\n",
    "\n",
    "\n",
    "    \"\"\"\n",
    "    def __init__(self, num_class=10, num_channel=1):\n",
    "        super(LeNet5, self).__init__()\n",
    "        self.conv1 = nn.Conv2d(num_channel, 6, 5, pad_mode='valid')\n",
    "        self.conv2 = nn.Conv2d(6, 16, 5, pad_mode='valid')\n",
    "        self.fc1 = nn.Dense(16 * 5 * 5, 120, weight_init=Normal(0.02))\n",
    "        self.fc2 = nn.Dense(120, 84, weight_init=Normal(0.02))\n",
    "        self.fc3 = nn.Dense(84, num_class, weight_init=Normal(0.02))\n",
    "        self.relu = nn.ReLU()\n",
    "        self.max_pool2d = nn.MaxPool2d(kernel_size=2, stride=2)\n",
    "        self.flatten = nn.Flatten()\n",
    "\n",
    "    def construct(self, x):\n",
    "        x = self.max_pool2d(self.relu(self.conv1(x)))\n",
    "        x = self.max_pool2d(self.relu(self.conv2(x)))\n",
    "        x = self.flatten(x)\n",
    "        x = self.relu(self.fc1(x))\n",
    "        x = self.relu(self.fc2(x))\n",
    "        x = self.fc3(x)\n",
    "        return x"
   ]
  },
  {
   "cell_type": "markdown",
   "metadata": {},
   "source": [
    "3. 定义数据集和训练流程中常用的接口。"
   ]
  },
  {
   "cell_type": "code",
   "execution_count": 3,
   "metadata": {
    "ExecuteTime": {
     "end_time": "2022-01-04T11:52:27.434071Z",
     "start_time": "2022-01-04T11:52:27.347351Z"
    }
   },
   "outputs": [],
   "source": [
    "# create dataset\n",
    "def get_data(num, img_size=(1, 32, 32), num_classes=10, is_onehot=True):\n",
    "    for _ in range(num):\n",
    "        img = np.random.randn(*img_size)\n",
    "        target = np.random.randint(0, num_classes)\n",
    "        target_ret = np.array([target]).astype(np.float32)\n",
    "        if is_onehot:\n",
    "            target_onehot = np.zeros(shape=(num_classes,))\n",
    "            target_onehot[target] = 1\n",
    "            target_ret = target_onehot.astype(np.float32)\n",
    "        yield img.astype(np.float32), target_ret\n",
    "\n",
    "def create_dataset(num_data=1024, batch_size=32, repeat_size=1):\n",
    "    input_data = ds.GeneratorDataset(list(get_data(num_data)), column_names=['data', 'label'])\n",
    "    input_data = input_data.batch(batch_size, drop_remainder=True)\n",
    "    input_data = input_data.repeat(repeat_size)\n",
    "    return input_data\n",
    "\n",
    "ds_train = create_dataset()\n",
    "\n",
    "# Initialize network\n",
    "network = LeNet5(10)\n",
    "\n",
    "# Define Loss and Optimizer\n",
    "net_loss = nn.SoftmaxCrossEntropyWithLogits(reduction=\"mean\")"
   ]
  },
  {
   "cell_type": "markdown",
   "metadata": {},
   "source": [
    "4. 真正使用Loss Scale的API接口，作用于优化器和模型中。"
   ]
  },
  {
   "cell_type": "code",
   "execution_count": 4,
   "metadata": {
    "ExecuteTime": {
     "end_time": "2022-01-04T11:56:15.952282Z",
     "start_time": "2022-01-04T11:56:11.772494Z"
    }
   },
   "outputs": [
    {
     "name": "stdout",
     "output_type": "stream",
     "text": [
      "epoch: 1 step: 32, loss is 2.3018966\n",
      "epoch: 2 step: 32, loss is 2.2965345\n",
      "epoch: 3 step: 32, loss is 2.3021417\n",
      "epoch: 4 step: 32, loss is 2.2995133\n",
      "epoch: 5 step: 32, loss is 2.3040886\n",
      "epoch: 6 step: 32, loss is 2.3131478\n",
      "epoch: 7 step: 32, loss is 2.2919555\n",
      "epoch: 8 step: 32, loss is 2.311748\n",
      "epoch: 9 step: 32, loss is 2.304955\n",
      "epoch: 10 step: 32, loss is 2.2682834\n"
     ]
    }
   ],
   "source": [
    "# Define Loss Scale, optimizer and model\n",
    "#1) Drop the parameter update if there is an overflow\n",
    "loss_scale_manager = FixedLossScaleManager()\n",
    "net_opt = nn.Momentum(network.trainable_params(), learning_rate=0.01, momentum=0.9)\n",
    "model = Model(network, net_loss, net_opt, metrics={\"Accuracy\": Accuracy()}, amp_level=\"O0\", loss_scale_manager=loss_scale_manager)\n",
    "\n",
    "#2) Execute parameter update even if overflow occurs\n",
    "loss_scale = 1024.0\n",
    "loss_scale_manager = FixedLossScaleManager(loss_scale, False)\n",
    "net_opt = nn.Momentum(network.trainable_params(), learning_rate=0.01, momentum=0.9, loss_scale=loss_scale)\n",
    "model = Model(network, net_loss, net_opt, metrics={\"Accuracy\": Accuracy()}, amp_level=\"O0\", loss_scale_manager=loss_scale_manager)\n",
    "\n",
    "# Run training\n",
    "model.train(epoch=10, train_dataset=ds_train, callbacks=[LossMonitor()])"
   ]
  },
  {
   "cell_type": "markdown",
   "metadata": {},
   "source": [
    "### LossScale与优化器\n",
    "\n",
    "前面提到了使用`FixedLossScaleManager`且`drop_overflow_update`为False时，优化器需要配合使用。\n",
    "\n",
    "这是由于采用此方式进行配置时，梯度与`loss_scale`系数之间的除法运算在优化器中进行。优化器设置与`FixedLossScaleManager`相同的`loss_scale`，训练结果才是正确的。\n",
    "\n",
    "> 后续MindSpore会优化不同场景下溢出检测功能的用法，并逐步移除优化器中的`loss_scale`参数，到时便无需配置优化器的`loss_scale`参数。\n",
    "\n",
    "需要注意的是，当前MindSpore提供的部分优化器如`AdamWeightDecay`，未提供`loss_scale`参数。如果使用`FixedLossScaleManager`，且`drop_overflow_update`配置为False，优化器中未能进行梯度与`loss_scale`之间的除法运算，此时需要自定义`TrainOneStepCell`，并在其中对梯度除`loss_scale`，以使最终的计算结果正确，定义方式如下："
   ]
  },
  {
   "cell_type": "code",
   "execution_count": 5,
   "metadata": {
    "ExecuteTime": {
     "end_time": "2022-01-04T11:56:21.678205Z",
     "start_time": "2022-01-04T11:56:21.670289Z"
    }
   },
   "outputs": [],
   "source": [
    "import mindspore\n",
    "from mindspore import nn, ops, Tensor\n",
    "\n",
    "grad_scale = ops.MultitypeFuncGraph(\"grad_scale\")\n",
    "\n",
    "@grad_scale.register(\"Tensor\", \"Tensor\")\n",
    "def gradient_scale(scale, grad):\n",
    "    return grad * ops.cast(scale, ops.dtype(grad))\n",
    "\n",
    "class CustomTrainOneStepCell(nn.TrainOneStepCell):\n",
    "    def __init__(self, network, optimizer, sens=1.0):\n",
    "        super(CustomTrainOneStepCell, self).__init__(network, optimizer, sens)\n",
    "        self.hyper_map = ops.HyperMap()\n",
    "        self.reciprocal_sense = Tensor(1 / sens, mindspore.float32)\n",
    "\n",
    "    def scale_grad(self, gradients):\n",
    "        gradients = self.hyper_map(ops.partial(grad_scale, self.reciprocal_sense), gradients)\n",
    "        return gradients\n",
    "\n",
    "    def construct(self, *inputs):\n",
    "        loss = self.network(*inputs)\n",
    "        sens = ops.fill(loss.dtype, loss.shape, self.sens)\n",
    "        # calculate gradients, the sens will equal to the loss_scale\n",
    "        grads = self.grad(self.network, self.weights)(*inputs, sens)\n",
    "        # gradients / loss_scale\n",
    "        grads = self.scale_grad(grads)\n",
    "        # reduce gradients in distributed scenarios\n",
    "        grads = self.grad_reducer(grads)\n",
    "        loss = ops.depend(loss, self.optimizer(grads))\n",
    "        return loss"
   ]
  },
  {
   "cell_type": "markdown",
   "metadata": {},
   "source": [
    "- network：参与训练的网络，该网络包含前向网络和损失函数的计算逻辑，输入数据和标签，输出损失函数值。\n",
    "- optimizer：所使用的优化器。\n",
    "- sens：参数用于接收用户指定的`loss_scale`，训练过程中梯度值会放大`loss_scale`倍。\n",
    "- scale_grad函数：用于梯度与`loss_scale`系数之间的除法运算，还原梯度。\n",
    "- construct函数：参照`nn.TrainOneStepCell`定义`construct`的计算逻辑，并在获取梯度后调用`scale_grad`。\n",
    "\n",
    "自定义`TrainOneStepCell`后，需要手动构建训练网络，如下:"
   ]
  },
  {
   "cell_type": "code",
   "execution_count": 6,
   "metadata": {
    "ExecuteTime": {
     "end_time": "2022-01-04T11:56:23.840287Z",
     "start_time": "2022-01-04T11:56:23.803964Z"
    }
   },
   "outputs": [],
   "source": [
    "from mindspore import nn, FixedLossScaleManager\n",
    "\n",
    "network = LeNet5(10)\n",
    "\n",
    "# Define Loss and Optimizer\n",
    "net_loss = nn.SoftmaxCrossEntropyWithLogits(reduction=\"mean\")\n",
    "net_opt = nn.AdamWeightDecay(network.trainable_params(), learning_rate=0.01)\n",
    "\n",
    "# Define LossScaleManager\n",
    "loss_scale = 1024.0\n",
    "loss_scale_manager = FixedLossScaleManager(loss_scale, False)\n",
    "\n",
    "# Build train network\n",
    "net_with_loss = nn.WithLossCell(network, net_loss)\n",
    "net_with_train = CustomTrainOneStepCell(net_with_loss, net_opt, loss_scale)"
   ]
  },
  {
   "cell_type": "markdown",
   "metadata": {},
   "source": [
    "构建训练网络后可以直接运行或通过Model运行："
   ]
  },
  {
   "cell_type": "code",
   "execution_count": 7,
   "metadata": {
    "ExecuteTime": {
     "end_time": "2022-01-04T11:56:27.736660Z",
     "start_time": "2022-01-04T11:56:25.183879Z"
    }
   },
   "outputs": [],
   "source": [
    "epochs = 2\n",
    "\n",
    "#1) Execute net_with_train\n",
    "ds_train = create_dataset()\n",
    "\n",
    "for epoch in range(epochs):\n",
    "    for d in ds_train.create_dict_iterator():\n",
    "        result = net_with_train(d[\"data\"], d[\"label\"])\n",
    "\n",
    "#2) Define Model and run\n",
    "model = Model(net_with_train)\n",
    "\n",
    "ds_train = create_dataset()\n",
    "\n",
    "model.train(epoch=epochs, train_dataset=ds_train)"
   ]
  },
  {
   "cell_type": "markdown",
   "metadata": {},
   "source": [
    "在此场景下使用`Model`进行训练时，`loss_scale_manager`和`amp_level`无需配置，因为`CustomTrainOneStepCell`中已经包含了混合精度的计算逻辑。\n",
    "\n",
    "### DynamicLossScaleManager\n",
    "\n",
    "`DynamicLossScaleManager`在训练过程中可以动态改变scale的大小，在没有发生溢出的情况下，要尽可能保持较大的scale。\n",
    "\n",
    "`DynamicLossScaleManager`会首先将scale设置为一个初始值，该值由入参init_loss_scale控制。\n",
    "\n",
    "在训练过程中，如果不发生溢出，在更新scale_window次参数后，会尝试扩大scale的值，如果发生了溢出，则跳过参数更新，并缩小scale的值，入参scale_factor是控制扩大或缩小的步数，scale_window控制没有发生溢出时，最大的连续更新步数。\n",
    "\n",
    "具体用法如下，仅需将`FixedLossScaleManager`样例中定义LossScale，优化器和模型部分的代码改成如下代码："
   ]
  },
  {
   "cell_type": "code",
   "execution_count": 8,
   "metadata": {
    "ExecuteTime": {
     "end_time": "2022-01-04T11:56:27.770593Z",
     "start_time": "2022-01-04T11:56:27.738247Z"
    }
   },
   "outputs": [],
   "source": [
    "# Define Loss Scale, optimizer and model\n",
    "scale_factor = 4\n",
    "scale_window = 3000\n",
    "loss_scale_manager = DynamicLossScaleManager(scale_factor, scale_window)\n",
    "net_opt = nn.Momentum(network.trainable_params(), learning_rate=0.01, momentum=0.9)\n",
    "model = Model(network, net_loss, net_opt, metrics={\"Accuracy\": Accuracy()}, amp_level=\"O0\", loss_scale_manager=loss_scale_manager)"
   ]
  },
  {
   "cell_type": "markdown",
   "metadata": {},
   "source": [
    "> 图片引用自[automatic-mixed-precision](https://developer.nvidia.com/automatic-mixed-precision)"
   ]
  }
 ],
 "metadata": {
  "kernelspec": {
   "display_name": "MindSpore",
   "language": "python",
   "name": "mindspore"
  },
  "language_info": {
   "codemirror_mode": {
    "name": "ipython",
    "version": 3
   },
   "file_extension": ".py",
   "mimetype": "text/x-python",
   "name": "python",
   "nbconvert_exporter": "python",
   "pygments_lexer": "ipython3",
   "version": "3.7.5"
  }
 },
 "nbformat": 4,
 "nbformat_minor": 4
}
