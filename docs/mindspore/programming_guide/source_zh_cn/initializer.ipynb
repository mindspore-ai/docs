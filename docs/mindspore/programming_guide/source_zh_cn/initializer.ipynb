{
 "cells": [
  {
   "cell_type": "markdown",
   "source": [
    "# 参数初始化\n",
    "\n",
    "[![](https://gitee.com/mindspore/docs/raw/master/resource/_static/logo_source.png)](https://gitee.com/mindspore/docs/blob/master/docs/mindspore/programming_guide/source_zh_cn/initializer.ipynb)&emsp;[![](https://gitee.com/mindspore/docs/raw/master/resource/_static/logo_notebook.png)](https://obs.dualstack.cn-north-4.myhuaweicloud.com/mindspore-website/notebook/master/programming_guide/zh_cn/mindspore_initializer.ipynb)&emsp;[![](https://gitee.com/mindspore/docs/raw/master/resource/_static/logo_modelarts.png)](https://authoring-modelarts-cnnorth4.huaweicloud.com/console/lab?share-url-b64=aHR0cHM6Ly9taW5kc3BvcmUtd2Vic2l0ZS5vYnMuY24tbm9ydGgtNC5teWh1YXdlaWNsb3VkLmNvbS9ub3RlYm9vay9tYXN0ZXIvcHJvZ3JhbW1pbmdfZ3VpZGUvemhfY24vbWluZHNwb3JlX2luaXRpYWxpemVyLmlweW5i&imageid=65f636a0-56cf-49df-b941-7d2a07ba8c8c)"
   ],
   "metadata": {}
  },
  {
   "cell_type": "markdown",
   "source": [
    "## 概述\n",
    "\n",
    "MindSpore提供了权重初始化模块，用户可以通过封装算子和initializer方法来调用字符串、Initializer子类或自定义Tensor等方式完成对网络参数进行初始化。Initializer类是MindSpore中用于进行初始化的基本数据结构，其子类包含了几种不同类型的数据分布（Zero，One，XavierUniform，HeUniform，HeNormal，Constant，Uniform，Normal，TruncatedNormal）。下面针对封装算子和initializer方法两种参数初始化模式进行详细介绍。"
   ],
   "metadata": {}
  },
  {
   "cell_type": "markdown",
   "source": [
    "## 使用封装算子对参数初始化                                                                                 \n",
    "MindSpore提供了多种参数初始化的方式，并在部分算子中封装了参数初始化的功能。本节将介绍带有参数初始化功能的算子对参数进行初始化的方法，以`Conv2d`算子为例，分别介绍以字符串，`Initializer`子类和自定义`Tensor`等方式对网络中的参数进行初始化，以下代码示例中均以`Initializer`的子类`Normal`为例，代码示例中`Normal`均可替换成`Initializer`子类中任何一个。"
   ],
   "metadata": {}
  },
  {
   "cell_type": "markdown",
   "source": [
    "### 字符串                                                                                               \n",
    "使用字符串对网络参数进行初始化，字符串的内容需要与`Initializer`子类的名称保持一致，使用字符串方式进行初始化将使用`Initializer`子类中的默认参数，例如使用字符串`Normal`等同于使用`Initializer`的子类`Normal()`，代码样例如下："
   ],
   "metadata": {}
  },
  {
   "cell_type": "code",
   "execution_count": 1,
   "source": [
    "import numpy as np\n",
    "import mindspore.nn as nn\n",
    "from mindspore import Tensor\n",
    "from mindspore import set_seed\n",
    "\n",
    "set_seed(1)\n",
    "\n",
    "input_data = Tensor(np.ones([1, 3, 16, 50], dtype=np.float32))\n",
    "net = nn.Conv2d(3, 64, 3, weight_init='Normal')\n",
    "output = net(input_data)\n",
    "print(output)"
   ],
   "outputs": [
    {
     "output_type": "stream",
     "name": "stdout",
     "text": [
      "[[[[ 3.10382620e-02  4.38603461e-02  4.38603461e-02 ...  4.38603461e-02\n",
      "     4.38603461e-02  1.38719045e-02]\n",
      "   [ 3.26051228e-02  3.54298912e-02  3.54298912e-02 ...  3.54298912e-02\n",
      "     3.54298912e-02 -5.54019120e-03]\n",
      "   [ 3.26051228e-02  3.54298912e-02  3.54298912e-02 ...  3.54298912e-02\n",
      "     3.54298912e-02 -5.54019120e-03]\n",
      "   ...\n",
      "   [ 3.26051228e-02  3.54298912e-02  3.54298912e-02 ...  3.54298912e-02\n",
      "     3.54298912e-02 -5.54019120e-03]\n",
      "   [ 3.26051228e-02  3.54298912e-02  3.54298912e-02 ...  3.54298912e-02\n",
      "     3.54298912e-02 -5.54019120e-03]\n",
      "   [ 9.66199022e-03  1.24104535e-02  1.24104535e-02 ...  1.24104535e-02\n",
      "     1.24104535e-02 -1.38977719e-02]]\n",
      "\n",
      "  ...\n",
      "\n",
      "  [[ 3.98553275e-02 -1.35465711e-03 -1.35465711e-03 ... -1.35465711e-03\n",
      "    -1.35465711e-03 -1.00310734e-02]\n",
      "   [ 4.38403059e-03 -3.60766202e-02 -3.60766202e-02 ... -3.60766202e-02\n",
      "    -3.60766202e-02 -2.95619294e-02]\n",
      "   [ 4.38403059e-03 -3.60766202e-02 -3.60766202e-02 ... -3.60766202e-02\n",
      "    -3.60766202e-02 -2.95619294e-02]\n",
      "   ...\n",
      "   [ 4.38403059e-03 -3.60766202e-02 -3.60766202e-02 ... -3.60766202e-02\n",
      "    -3.60766202e-02 -2.95619294e-02]\n",
      "   [ 4.38403059e-03 -3.60766202e-02 -3.60766202e-02 ... -3.60766202e-02\n",
      "    -3.60766202e-02 -2.95619294e-02]\n",
      "   [ 1.33139016e-02  6.74417242e-05  6.74417242e-05 ...  6.74417242e-05\n",
      "     6.74417242e-05 -2.27325838e-02]]]]\n"
     ]
    }
   ],
   "metadata": {}
  },
  {
   "cell_type": "markdown",
   "source": [
    "### Initializer子类                                                                                   \n",
    "使用`Initializer`子类对网络参数进行初始化，与使用字符串对参数进行初始化的效果类似，不同的是使用字符串进行参数初始化是使用`Initializer`子类的默认参数，如要使用`Initializer`子类中的参数，就必须使用`Initializer`子类的方式对参数进行初始化，以`Normal(0.2)`为例，代码样例如下："
   ],
   "metadata": {}
  },
  {
   "cell_type": "code",
   "execution_count": 2,
   "source": [
    "import numpy as np\n",
    "import mindspore.nn as nn\n",
    "from mindspore import Tensor\n",
    "from mindspore import set_seed\n",
    "from mindspore.common.initializer import Normal\n",
    "\n",
    "set_seed(1)\n",
    "\n",
    "input_data = Tensor(np.ones([1, 3, 16, 50], dtype=np.float32))\n",
    "net = nn.Conv2d(3, 64, 3, weight_init=Normal(0.2))\n",
    "output = net(input_data)\n",
    "print(output)"
   ],
   "outputs": [
    {
     "output_type": "stream",
     "name": "stdout",
     "text": [
      "[[[[ 6.2076533e-01  8.7720710e-01  8.7720710e-01 ...  8.7720710e-01\n",
      "     8.7720710e-01  2.7743810e-01]\n",
      "   [ 6.5210247e-01  7.0859784e-01  7.0859784e-01 ...  7.0859784e-01\n",
      "     7.0859784e-01 -1.1080378e-01]\n",
      "   [ 6.5210247e-01  7.0859784e-01  7.0859784e-01 ...  7.0859784e-01\n",
      "     7.0859784e-01 -1.1080378e-01]\n",
      "   ...\n",
      "   [ 6.5210247e-01  7.0859784e-01  7.0859784e-01 ...  7.0859784e-01\n",
      "     7.0859784e-01 -1.1080378e-01]\n",
      "   [ 6.5210247e-01  7.0859784e-01  7.0859784e-01 ...  7.0859784e-01\n",
      "     7.0859784e-01 -1.1080378e-01]\n",
      "   [ 1.9323981e-01  2.4820906e-01  2.4820906e-01 ...  2.4820906e-01\n",
      "     2.4820906e-01 -2.7795550e-01]]\n",
      "\n",
      "  ...\n",
      "\n",
      "  [[ 7.9710668e-01 -2.7093157e-02 -2.7093157e-02 ... -2.7093157e-02\n",
      "    -2.7093157e-02 -2.0062150e-01]\n",
      "   [ 8.7680638e-02 -7.2153252e-01 -7.2153252e-01 ... -7.2153252e-01\n",
      "    -7.2153252e-01 -5.9123868e-01]\n",
      "   [ 8.7680638e-02 -7.2153252e-01 -7.2153252e-01 ... -7.2153252e-01\n",
      "    -7.2153252e-01 -5.9123868e-01]\n",
      "   ...\n",
      "   [ 8.7680638e-02 -7.2153252e-01 -7.2153252e-01 ... -7.2153252e-01\n",
      "    -7.2153252e-01 -5.9123868e-01]\n",
      "   [ 8.7680638e-02 -7.2153252e-01 -7.2153252e-01 ... -7.2153252e-01\n",
      "    -7.2153252e-01 -5.9123868e-01]\n",
      "   [ 2.6627803e-01  1.3488382e-03  1.3488382e-03 ...  1.3488382e-03\n",
      "     1.3488382e-03 -4.5465171e-01]]]]\n"
     ]
    }
   ],
   "metadata": {}
  },
  {
   "cell_type": "markdown",
   "source": [
    "### 自定义的Tensor                                                                \n",
    "除上述两种初始化方法外，当网络要使用MindSpore中没有的数据类型对参数进行初始化，用户可以通过自定义`Tensor`的方式来对参数进行初始化，代码样例如下："
   ],
   "metadata": {}
  },
  {
   "cell_type": "code",
   "execution_count": 3,
   "source": [
    "import numpy as np\n",
    "import mindspore.nn as nn\n",
    "from mindspore import Tensor\n",
    "from mindspore import dtype as mstype\n",
    "\n",
    "weight = Tensor(np.ones([64, 3, 3, 3]), dtype=mstype.float32)\n",
    "input_data = Tensor(np.ones([1, 3, 16, 50], dtype=np.float32))\n",
    "net = nn.Conv2d(3, 64, 3, weight_init=weight)\n",
    "output = net(input_data)\n",
    "print(output)"
   ],
   "outputs": [
    {
     "output_type": "stream",
     "name": "stdout",
     "text": [
      "[[[[12. 18. 18. ... 18. 18. 12.]\n",
      "   [18. 27. 27. ... 27. 27. 18.]\n",
      "   [18. 27. 27. ... 27. 27. 18.]\n",
      "   ...\n",
      "   [18. 27. 27. ... 27. 27. 18.]\n",
      "   [18. 27. 27. ... 27. 27. 18.]\n",
      "   [12. 18. 18. ... 18. 18. 12.]]\n",
      "\n",
      "  ...\n",
      "\n",
      "  [[12. 18. 18. ... 18. 18. 12.]\n",
      "   [18. 27. 27. ... 27. 27. 18.]\n",
      "   [18. 27. 27. ... 27. 27. 18.]\n",
      "   ...\n",
      "   [18. 27. 27. ... 27. 27. 18.]\n",
      "   [18. 27. 27. ... 27. 27. 18.]\n",
      "   [12. 18. 18. ... 18. 18. 12.]]]]\n"
     ]
    }
   ],
   "metadata": {}
  },
  {
   "cell_type": "markdown",
   "source": [
    "## 使用initializer方法对参数初始化\n",
    "\n",
    "在上述代码样例中，给出了如何在网络中进行参数初始化的方法，如在网络中使用nn层封装`Conv2d`算子，参数`weight_init`作为要初始化的数据类型传入`Conv2d`算子，算子会在初始化时通过调用`Parameter`类，进而调用封装在`Parameter`类中的`initializer`方法来完成对参数的初始化。然而有一些算子并没有像`Conv2d`那样在内部对参数初始化的功能进行封装，如`Conv3d`算子的权重就是作为参数传入`Conv3d`算子，此时就需要手动的定义权重的初始化。\n",
    "\n",
    "当对参数进行初始化时，可以使用`initializer`方法调用`Initializer`子类中不同的数据类型来对参数进行初始化，进而产生不同类型的数据。\n",
    "\n",
    "使用initializer进行参数初始化时，支持传入的参数有`init`、`shape`、`dtype`：\n",
    "\n",
    "- `init`：支持传入`Tensor`、 `str`、 `Initializer的子类`。\n",
    "\n",
    "- `shape`：支持传入`list`、 `tuple`、 `int`。\n",
    "\n",
    "- `dtype`：支持传入`mindspore.dtype`。"
   ],
   "metadata": {}
  },
  {
   "cell_type": "markdown",
   "source": [
    "### init参数为Tensor"
   ],
   "metadata": {}
  },
  {
   "cell_type": "markdown",
   "source": [
    "代码样例如下："
   ],
   "metadata": {}
  },
  {
   "cell_type": "markdown",
   "source": [
    "```python\n",
    "import numpy as np\n",
    "from mindspore import Tensor\n",
    "from mindspore import dtype as mstype\n",
    "from mindspore import set_seed\n",
    "from mindspore.common.initializer import initializer\n",
    "import mindspore.ops as ops\n",
    "\n",
    "set_seed(1)\n",
    "\n",
    "input_data = Tensor(np.ones([16, 3, 10, 32, 32]), dtype=mstype.float32)\n",
    "weight_init = Tensor(np.ones([32, 3, 4, 3, 3]), dtype=mstype.float32)\n",
    "weight = initializer(weight_init, shape=[32, 3, 4, 3, 3])\n",
    "conv3d = ops.Conv3D(out_channel=32, kernel_size=(4, 3, 3))\n",
    "output = conv3d(input_data, weight)\n",
    "print(output)\n",
    "```"
   ],
   "metadata": {
    "ExecuteTime": {
     "end_time": "2021-02-03T02:59:50.340750Z",
     "start_time": "2021-02-03T02:59:49.571048Z"
    }
   }
  },
  {
   "cell_type": "markdown",
   "source": [
    "输出如下：\n",
    "\n",
    "```text\n",
    "[[[[[108 108 108 ... 108 108 108]\n",
    "    [108 108 108 ... 108 108 108]\n",
    "    [108 108 108 ... 108 108 108]\n",
    "    ...\n",
    "    [108 108 108 ... 108 108 108]\n",
    "    [108 108 108 ... 108 108 108]\n",
    "    [108 108 108 ... 108 108 108]]\n",
    "    ...\n",
    "   [[108 108 108 ... 108 108 108]\n",
    "    [108 108 108 ... 108 108 108]\n",
    "    [108 108 108 ... 108 108 108]\n",
    "    ...\n",
    "    [108 108 108 ... 108 108 108]\n",
    "    [108 108 108 ... 108 108 108]\n",
    "    [108 108 108 ... 108 108 108]]]]]\n",
    "```"
   ],
   "metadata": {}
  },
  {
   "cell_type": "markdown",
   "source": [
    "### init参数为str"
   ],
   "metadata": {}
  },
  {
   "cell_type": "markdown",
   "source": [
    "代码样例如下："
   ],
   "metadata": {}
  },
  {
   "cell_type": "markdown",
   "source": [
    "```python\n",
    "import numpy as np\n",
    "from mindspore import Tensor\n",
    "from mindspore import dtype as mstype\n",
    "from mindspore import set_seed\n",
    "from mindspore.common.initializer import initializer\n",
    "import mindspore.ops as ops\n",
    "\n",
    "set_seed(1)\n",
    "\n",
    "input_data = Tensor(np.ones([16, 3, 10, 32, 32]), dtype=mstype.float32)\n",
    "weight = initializer('Normal', shape=[32, 3, 4, 3, 3], dtype=mstype.float32)\n",
    "conv3d = ops.Conv3D(out_channel=32, kernel_size=(4, 3, 3))\n",
    "output = conv3d(input_data, weight)\n",
    "print(output)\n",
    "```"
   ],
   "metadata": {}
  },
  {
   "cell_type": "markdown",
   "source": [
    "输出如下：\n",
    "\n",
    "```text\n",
    "[[[[[0 0 0 ... 0 0 0]\n",
    "    [0 0 0 ... 0 0 0]\n",
    "    [0 0 0 ... 0 0 0]]\n",
    "    ...\n",
    "    [0 0 0 ... 0 0 0]\n",
    "    [0 0 0 ... 0 0 0]\n",
    "    [0 0 0 ... 0 0 0]]\n",
    "    ...\n",
    "   [[0 0 0 ... 0 0 0]\n",
    "    [0 0 0 ... 0 0 0]\n",
    "    [0 0 0 ... 0 0 0]]\n",
    "    ...\n",
    "    [0 0 0 ... 0 0 0]\n",
    "    [0 0 0 ... 0 0 0]\n",
    "    [0 0 0 ... 0 0 0]]]]]\n",
    "```"
   ],
   "metadata": {}
  },
  {
   "cell_type": "markdown",
   "source": [
    "### init参数为Initializer子类"
   ],
   "metadata": {}
  },
  {
   "cell_type": "markdown",
   "source": [
    "代码样例如下："
   ],
   "metadata": {}
  },
  {
   "cell_type": "markdown",
   "source": [
    "```python\n",
    "import numpy as np\n",
    "from mindspore import Tensor\n",
    "from mindspore import dtype as mstype\n",
    "from mindspore import set_seed\n",
    "import mindspore.ops as ops\n",
    "from mindspore.common.initializer import Normal, initializer\n",
    "\n",
    "set_seed(1)\n",
    "\n",
    "input_data = Tensor(np.ones([16, 3, 10, 32, 32]), dtype=mstype.float32)\n",
    "weight = initializer(Normal(0.2), shape=[32, 3, 4, 3, 3], dtype=mstype.float32)\n",
    "conv3d = ops.Conv3D(out_channel=32, kernel_size=(4, 3, 3))\n",
    "output = conv3d(input_data, weight)\n",
    "print(output)\n",
    "```"
   ],
   "metadata": {}
  },
  {
   "cell_type": "markdown",
   "source": [
    "```text\n",
    "[[[[[0 0 0 ... 0 0 0]\n",
    "    [0 0 0 ... 0 0 0]\n",
    "    [0 0 0 ... 0 0 0]]\n",
    "    ...\n",
    "    [0 0 0 ... 0 0 0]\n",
    "    [0 0 0 ... 0 0 0]\n",
    "    [0 0 0 ... 0 0 0]]\n",
    "    ...\n",
    "   [[0 0 0 ... 0 0 0]\n",
    "    [0 0 0 ... 0 0 0]\n",
    "    [0 0 0 ... 0 0 0]]\n",
    "    ...\n",
    "    [0 0 0 ... 0 0 0]\n",
    "    [0 0 0 ... 0 0 0]\n",
    "    [0 0 0 ... 0 0 0]]]]]\n",
    "```"
   ],
   "metadata": {}
  },
  {
   "cell_type": "markdown",
   "source": [
    "### 在Parameter中的应用"
   ],
   "metadata": {}
  },
  {
   "cell_type": "markdown",
   "source": [
    "\n",
    "```python\n",
    "mindspore.Parameter(default_input, name, requires_grad=True, layerwise_parallel=False)\n",
    "```\n",
    "\n",
    "初始化一个`Parameter`对象，传入的数据支持`Tensor`、`Initializer`、`int`和`float`四种类型。\n",
    "\n",
    "`Initializer`是初始化器，可调用`initializer`接口生成`Initializer`对象。\n",
    "\n",
    "当使用`init`去初始化`Tensor`时，`Tensor`仅保存张量的形状和类型，而不保存实际数据，所以不会占用任何内存，可调用`init_data`接口将`Parameter`里保存的`Tensor`转化为数据。\n",
    "\n",
    "可为每个`Parameter`指定一个名称，便于后续操作和更新。如果在Cell里初始化一个Parameter作为Cell的属性时，建议使用默认值None，否则可能会出现Parameter的name与预期的不一致的情况。\n",
    "\n",
    "当参数需要被更新时，需要将`requires_grad`设置为`True`。\n",
    "\n",
    "当`layerwise_parallel`（混合并行）配置为`True`时，参数广播和参数梯度聚合时会过滤掉该参数。\n",
    "\n",
    "有关分布式并行的相关配置，可以参考文档：https://www.mindspore.cn/docs/programming_guide/zh-CN/master/auto_parallel.html 。\n",
    "\n",
    "下例通过三种不同的数据类型构造了`Parameter`，三个`Parameter`都需要更新，都不采用layerwise并行。\n",
    "\n",
    "代码样例如下："
   ],
   "metadata": {}
  },
  {
   "cell_type": "code",
   "execution_count": 6,
   "source": [
    "import numpy as np\n",
    "from mindspore import Tensor, Parameter\n",
    "from mindspore import dtype as mstype\n",
    "from mindspore.common.initializer import initializer\n",
    "\n",
    "x = Parameter(default_input=Tensor(np.arange(2*3).reshape((2, 3))), name=\"x\")\n",
    "y = Parameter(default_input=initializer('ones', [1, 2, 3], mstype.float32), name='y')\n",
    "z = Parameter(default_input=2.0, name='z')\n",
    "\n",
    "print(x, \"\\n\\n\", y, \"\\n\\n\", z)"
   ],
   "outputs": [
    {
     "output_type": "stream",
     "name": "stdout",
     "text": [
      " Parameter (name=x, shape=(2, 3), dtype=Int64, requires_grad=True) \n",
      "\n",
      " Parameter (name=y, shape=(1, 2, 3), dtype=Float32, requires_grad=True) \n",
      "\n",
      " Parameter (name=z, shape=(), dtype=Float32, requires_grad=True)\n"
     ]
    }
   ],
   "metadata": {}
  }
 ],
 "metadata": {
  "kernelspec": {
   "display_name": "Python 3",
   "language": "python",
   "name": "python3"
  },
  "language_info": {
   "codemirror_mode": {
    "name": "ipython",
    "version": 3
   },
   "file_extension": ".py",
   "mimetype": "text/x-python",
   "name": "python",
   "nbconvert_exporter": "python",
   "pygments_lexer": "ipython3",
   "version": "3.7.6"
  }
 },
 "nbformat": 4,
 "nbformat_minor": 4
}