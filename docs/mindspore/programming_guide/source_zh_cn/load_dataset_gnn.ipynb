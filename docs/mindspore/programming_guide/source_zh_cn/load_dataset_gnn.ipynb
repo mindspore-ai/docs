{
 "cells": [
  {
   "cell_type": "markdown",
   "metadata": {},
   "source": [
    "# 加载图数据集\n",
    "\n",
    "`Ascend` `GPU` `CPU` `数据准备`\n",
    "\n",
    "[![在线运行](https://gitee.com/mindspore/docs/raw/r1.6/resource/_static/logo_modelarts.png)](https://authoring-modelarts-cnnorth4.huaweicloud.com/console/lab?share-url-b64=aHR0cHM6Ly9vYnMuZHVhbHN0YWNrLmNuLW5vcnRoLTQubXlodWF3ZWljbG91ZC5jb20vbWluZHNwb3JlLXdlYnNpdGUvbm90ZWJvb2svbWFzdGVyL3Byb2dyYW1taW5nX2d1aWRlL3poX2NuL21pbmRzcG9yZV9sb2FkX2RhdGFzZXRfZ25uLmlweW5i&imageid=65f636a0-56cf-49df-b941-7d2a07ba8c8c)&emsp;\n",
    "[![下载Notebook](https://gitee.com/mindspore/docs/raw/r1.6/resource/_static/logo_notebook.png)](https://obs.dualstack.cn-north-4.myhuaweicloud.com/mindspore-website/notebook/r1.6/programming_guide/zh_cn/mindspore_load_dataset_gnn.ipynb)&emsp;[![下载样例代码](https://gitee.com/mindspore/docs/raw/r1.6/resource/_static/logo_download_code.png)](https://obs.dualstack.cn-north-4.myhuaweicloud.com/mindspore-website/notebook/r1.6/programming_guide/zh_cn/mindspore_load_dataset_gnn.py)&emsp;\n",
    "[![查看源文件](https://gitee.com/mindspore/docs/raw/r1.6/resource/_static/logo_source.png)](https://gitee.com/mindspore/docs/blob/r1.6/docs/mindspore/programming_guide/source_zh_cn/load_dataset_gnn.ipynb)\n"
   ]
  },
  {
   "cell_type": "markdown",
   "metadata": {},
   "source": [
    "## 概述\n",
    "\n",
    "MindSpore提供的`mindspore.dataset`模块可以帮助用户构建数据集对象，分批次地读取文本数据。同时，在各个数据集类中还内置了数据处理和数据分词算子，使得数据在训练过程中能够像经过pipeline管道的水一样源源不断地流向训练系统，提升数据训练效果。\n",
    "\n",
    "此外，MindSpore还支持分布式场景数据加载，用户可以在加载数据集时指定分片数目，具体用法参见[数据并行模式加载数据集](https://www.mindspore.cn/docs/programming_guide/zh-CN/r1.6/distributed_training_ascend.html#id6)。\n",
    "\n",
    "下面，本文将简要演示如何使用MindSpore加载和处理图数据。"
   ]
  },
  {
   "cell_type": "markdown",
   "metadata": {},
   "source": [
    "## 图的概念\n",
    "\n",
    "在介绍图数据的读取及增强之前，先介绍图的基本概念进行，有助于后续内容更好地理解。通常一个图（graph) `G`是由一系列的节点(vertices) `V`以及边（eage）`E`组成的，每条边都连接着图中的两个节点，用公式可表述为：`G = F(V, E)`，简单的图如下所示。\n",
    "\n",
    "![basicGraph.png](https://gitee.com/mindspore/docs/raw/r1.6/docs/mindspore/programming_guide/source_zh_cn/images/basic_graph.png)\n",
    "\n",
    "图中包含节点V = {a, b, c, d}，和边E = {(a, b), (b, c), (c, d), (d, b)}，针对图中的连接关系通常需借助数学的方式进行描述，如常用的基于邻接矩阵的方式，用于描述上述图连接关系的矩阵C如下，其中a、 b、c、d对应为第1、2、 3、4个节点。\n",
    "\n",
    "$$C=\\begin{bmatrix}\n",
    "1&1&0&0\\\\\n",
    "1&1&1&1\\\\\n",
    "0&1&1&1\\\\\n",
    "0&1&1&1\\\\\n",
    "\\end{bmatrix}$$"
   ]
  },
  {
   "cell_type": "markdown",
   "metadata": {},
   "source": [
    "## 数据集准备环节"
   ]
  },
  {
   "cell_type": "markdown",
   "metadata": {},
   "source": [
    "1. 数据集介绍：常用的图数据集包含Cora、Citeseer、PubMed等，在本文中我们基于Cora数据集进行介绍。\n",
    "- 原始数据集可以从[ucsc网站](https://linqs-data.soe.ucsc.edu/public/lbc/cora.tgz)进行下载，本文采用在github提供的[预处理后的版本](https://github.com/kimiyoung/planetoid)[[1]](#参考文献)。\n",
    "- Cora数据集主体部分(`cora.content`)包含2708条样本，每条样本描述1篇科学论文的信息，论文都属于7个类别中的一个。每条样本数据包含三部分，依次为论文编号、论文的词向量（一个1433位的二进制）、论文的类别；引用数据集部分(`cora.cites`)包含5429行，每行包含两个论文编号，表示第二篇论文对第一篇论文进行了引用。"
   ]
  },
  {
   "cell_type": "markdown",
   "metadata": {},
   "source": [
    "2. 数据集下载：下载预处理后的cora数据集目录如下所示。\n",
    "\n",
    "```text\n",
    ".\n",
    "└── cora\n",
    "    ├── ind.cora.allx\n",
    "    ├── ind.cora.ally\n",
    "    ├── ind.cora.graph\n",
    "    ├── ind.cora.test.index\n",
    "    ├── ind.cora.tx\n",
    "    ├── ind.cora.ty\n",
    "    ├── ind.cora.x\n",
    "    ├── ind.cora.y\n",
    "    ├── trans.cora.graph\n",
    "    ├── trans.cora.tx\n",
    "    ├── trans.cora.ty\n",
    "    ├── trans.cora.x\n",
    "    └── trans.cora.y\n",
    "```\n",
    "\n",
    "以下示例代码将cora数据集下载并解压到指定位置。"
   ]
  },
  {
   "cell_type": "code",
   "execution_count": 2,
   "metadata": {},
   "outputs": [
    {
     "name": "stdout",
     "output_type": "stream",
     "text": [
      "Cloning into 'planetoid'...\n",
      "remote: Enumerating objects: 86, done.\u001b[K\n",
      "remote: Total 86 (delta 0), reused 0 (delta 0), pack-reused 86\u001b[K\n",
      "Unpacking objects: 100% (86/86), done.\n"
     ]
    }
   ],
   "source": [
    "!mkdir -p ./cora\n",
    "!git clone https://github.com/kimiyoung/planetoid\n",
    "!cp planetoid/data/*.cora.* ./cora\n",
    "!rm -rf planetoid"
   ]
  },
  {
   "cell_type": "markdown",
   "metadata": {},
   "source": [
    "3. 数据集格式转换：将数据集转换为MindRecord格式，可借助models仓库提供的转换脚本进行转换，生成的MindRecord文件在`./cora_mindrecord`路径下。"
   ]
  },
  {
   "cell_type": "code",
   "execution_count": 3,
   "metadata": {},
   "outputs": [
    {
     "name": "stdout",
     "output_type": "stream",
     "text": [
      "Cloning into 'models'...\n",
      "remote: Enumerating objects: 3475, done.\u001b[K\n",
      "remote: Counting objects: 100% (3475/3475), done.\u001b[K\n",
      "remote: Compressing objects: 100% (1276/1276), done.\u001b[K\n",
      "remote: Total 16325 (delta 2612), reused 2429 (delta 2195), pack-reused 12850\u001b[K\n",
      "Receiving objects: 100% (16325/16325), 79.56 MiB | 6.66 MiB/s, done.\n",
      "Resolving deltas: 100% (9993/9993), done.\n",
      "Checking out files: 100% (7152/7152), done.\n",
      "Namespace(graph_api_args='./cora', mindrecord_file='./cora_mindrecord/cora_mr', mindrecord_header_size_by_bit=18, mindrecord_page_size_by_bit=20, mindrecord_partitions=1, mindrecord_script='cora', mindrecord_workers=8, num_edge_tasks=1, num_node_tasks=1)\n",
      "Init writer  ...\n",
      "exec task 0, parallel: False ...\n",
      "Node task is 0\n",
      "transformed 512 record...\n",
      "transformed 1024 record...\n",
      "transformed 1536 record...\n",
      "transformed 2048 record...\n",
      "transformed 2560 record...\n",
      "Processed 2708 lines for nodes.\n",
      "transformed 2708 record...\n",
      "exec task 0, parallel: False ...\n",
      "Edge task is 0\n",
      "transformed 512 record...\n",
      "transformed 1024 record...\n",
      "transformed 1536 record...\n",
      "transformed 2048 record...\n",
      "transformed 2560 record...\n",
      "transformed 3072 record...\n",
      "transformed 3584 record...\n",
      "transformed 4096 record...\n",
      "transformed 4608 record...\n",
      "transformed 5120 record...\n",
      "transformed 5632 record...\n",
      "transformed 6144 record...\n",
      "transformed 6656 record...\n",
      "transformed 7168 record...\n",
      "transformed 7680 record...\n",
      "transformed 8192 record...\n",
      "transformed 8704 record...\n",
      "transformed 9216 record...\n",
      "transformed 9728 record...\n",
      "transformed 10240 record...\n",
      "transformed 10752 record...\n",
      "Processed 10858 lines for edges.\n",
      "transformed 10858 record...\n",
      "--------------------------------------------\n",
      "END. Total time: 4.108929634094238\n",
      "--------------------------------------------\n"
     ]
    }
   ],
   "source": [
    "!git clone https://gitee.com/mindspore/models.git\n",
    "SRC_PATH = \"./cora\"\n",
    "MINDRECORD_PATH = \"./cora_mindrecord\"\n",
    "\n",
    "!rm -rf $MINDRECORD_PATH\n",
    "!mkdir $MINDRECORD_PATH\n",
    "\n",
    "!python models/utils/graph_to_mindrecord/writer.py --mindrecord_script cora --mindrecord_file \"$MINDRECORD_PATH/cora_mr\" --mindrecord_partitions 1 --mindrecord_header_size_by_bit 18 --mindrecord_page_size_by_bit 20 --graph_api_args \"$SRC_PATH\""
   ]
  },
  {
   "cell_type": "markdown",
   "metadata": {},
   "source": [
    "## 加载数据集"
   ]
  },
  {
   "cell_type": "markdown",
   "metadata": {},
   "source": [
    "MindSpore目前支持加载文本领域常用的经典数据集和多种数据存储格式下的数据集，用户也可以通过构建自定义数据集类实现自定义方式的数据加载。各种数据集的详细加载方法，可参考编程指南中[数据集加载](https://www.mindspore.cn/docs/programming_guide/zh-CN/r1.6/dataset_loading.html)章节。\n",
    "\n",
    "下面演示使用`MindSpore.dataset`模块中的`MindDataset`类加载上述已转换成mindrecord格式的cora数据集。\n",
    "\n",
    "1. 配置数据集目录，创建数据集对象。"
   ]
  },
  {
   "cell_type": "code",
   "execution_count": 4,
   "metadata": {},
   "outputs": [],
   "source": [
    "import mindspore.dataset as ds\n",
    "import numpy as np\n",
    "\n",
    "data_file = \"./cora_mindrecord/cora_mr\"\n",
    "dataset = ds.GraphData(data_file)"
   ]
  },
  {
   "cell_type": "markdown",
   "metadata": {},
   "source": [
    "2. 访问对应的接口，获取图信息及特性、标签内容。"
   ]
  },
  {
   "cell_type": "code",
   "execution_count": 5,
   "metadata": {},
   "outputs": [
    {
     "name": "stdout",
     "output_type": "stream",
     "text": [
      "graph info: {'node_type': [0], 'edge_type': [0], 'node_num': {0: 2708}, 'edge_num': {0: 10858}, 'node_feature_type': [1, 2], 'edge_feature_type': []}\n",
      "node shape: 2708\n",
      "features shape: (2708, 1433)\n",
      "labels shape: (2708,)\n",
      "labels: [3 4 4 ... 3 3 3]\n"
     ]
    }
   ],
   "source": [
    "# 查看图中结构信息\n",
    "graph = dataset.graph_info()\n",
    "print(\"graph info:\", graph)\n",
    "\n",
    "# 获取所有的节点信息\n",
    "nodes = dataset.get_all_nodes(0)\n",
    "nodes_list = nodes.tolist()\n",
    "print(\"node shape:\", len(nodes_list))\n",
    "\n",
    "# 获取特征和标签信息，总共2708条数据\n",
    "# 每条数据中特征信息是用于描述论文i，长度为1433的二进制表示，标签信息指的是论文所属的种类\n",
    "raw_tensor = dataset.get_node_feature(nodes_list, [1, 2])\n",
    "features, labels = raw_tensor[0], raw_tensor[1]\n",
    "\n",
    "print(\"features shape:\", features.shape)\n",
    "print(\"labels shape:\", labels.shape)\n",
    "print(\"labels:\", labels)"
   ]
  },
  {
   "cell_type": "markdown",
   "metadata": {},
   "source": [
    "## 数据处理"
   ]
  },
  {
   "cell_type": "markdown",
   "metadata": {},
   "source": [
    "MindSpore目前支持的数据处理算子及其详细使用方法，可参考编程指南中[数据处理](https://www.mindspore.cn/docs/programming_guide/zh-CN/r1.6/pipeline.html)章节。\n",
    "\n",
    "下面演示构建pipeline，对节点进行采样等操作。\n",
    "\n",
    "1. 获取节点的邻居节点，构造邻接矩阵。"
   ]
  },
  {
   "cell_type": "code",
   "execution_count": 6,
   "metadata": {},
   "outputs": [
    {
     "name": "stdout",
     "output_type": "stream",
     "text": [
      "neighbor:\n",
      " [[   0  633 1862 ...   -1   -1   -1]\n",
      " [   1    2  652 ...   -1   -1   -1]\n",
      " [   2 1986  332 ...   -1   -1   -1]\n",
      " ...\n",
      " [2705  287   -1 ...   -1   -1   -1]\n",
      " [2706  165 2707 ...   -1   -1   -1]\n",
      " [2707  598  165 ...   -1   -1   -1]]\n"
     ]
    }
   ],
   "source": [
    "neighbor = dataset.get_all_neighbors(nodes_list, 0)\n",
    "# neighbor的第一列是node_id，第二列到最后一列存储的是第一列的邻居节点，如果不存在这么多，则用-1补齐。\n",
    "print(\"neighbor:\\n\", neighbor)"
   ]
  },
  {
   "cell_type": "markdown",
   "metadata": {},
   "source": [
    "2. 依据节点的邻居节点信息，构造邻接矩阵。"
   ]
  },
  {
   "cell_type": "code",
   "execution_count": 7,
   "metadata": {},
   "outputs": [
    {
     "name": "stdout",
     "output_type": "stream",
     "text": [
      "adj:\n",
      " [[0. 0. 0. ... 0. 0. 0.]\n",
      " [0. 0. 1. ... 0. 0. 0.]\n",
      " [0. 1. 0. ... 0. 0. 0.]\n",
      " ...\n",
      " [0. 0. 0. ... 0. 0. 0.]\n",
      " [0. 0. 0. ... 0. 0. 1.]\n",
      " [0. 0. 0. ... 0. 1. 0.]]\n"
     ]
    }
   ],
   "source": [
    "nodes_num = labels.shape[0]\n",
    "node_map = {node_id: index for index, node_id in enumerate(nodes_list)}\n",
    "adj = np.zeros([nodes_num, nodes_num], dtype=np.float32)\n",
    "\n",
    "for index, value in np.ndenumerate(neighbor):\n",
    "    # neighbor的第一列是node_id，第二列到最后一列存储的是第一列的邻居节点，如果不存在这么多，则用-1补齐。\n",
    "    if value >= 0 and index[1] > 0:\n",
    "        adj[node_map[neighbor[index[0], 0]], node_map[value]] = 1\n",
    "\n",
    "print(\"adj:\\n\", adj)"
   ]
  },
  {
   "cell_type": "markdown",
   "metadata": {},
   "source": [
    "3. 节点采样，支持常见的多次跳跃采样与随机游走采样方法等。\n",
    "- 多跳邻接点采样如（a）图所示，当次采样的节点将作为下次采样的起始点；随机游走方式如（b）图所示，随机选择一条路径依次遍历相邻的节点，对应图中则选择了从V<sub>i</sub>到V<sub>j</sub>的游走路径。\n",
    "\n",
    "![graphNodeSample.png](https://gitee.com/mindspore/docs/raw/r1.6/docs/mindspore/programming_guide/source_zh_cn/images/graph_node_sample.png)"
   ]
  },
  {
   "cell_type": "code",
   "execution_count": 8,
   "metadata": {},
   "outputs": [
    {
     "name": "stdout",
     "output_type": "stream",
     "text": [
      "neighbor:\n",
      " [[   0  633 2582]\n",
      " [   1  654    2]\n",
      " [   2    1 1986]\n",
      " [   3 2544 2544]\n",
      " [   4 1256 2175]\n",
      " [   5 1629 2546]\n",
      " [   6 1042 1602]\n",
      " [   7  208  208]\n",
      " [   8 1996  269]\n",
      " [   9  723 2614]\n",
      " [  10 2545  476]\n",
      " [  11 1839 1655]\n",
      " [  12 2661 1001]\n",
      " [  13 1810 1701]\n",
      " [  14 2034 2075]\n",
      " [  15 1093 1090]\n",
      " [  16 2642 2444]\n",
      " [  17 1316  927]\n",
      " [  18 2082 2145]\n",
      " [  19 1939 1939]\n",
      " [  20 2269 2374]]\n",
      "walks:\n",
      " [[   0 2582]\n",
      " [   1    2]\n",
      " [   2 1454]\n",
      " [   3 2544]\n",
      " [   4 1016]\n",
      " [   5 1629]\n",
      " [   6 1042]\n",
      " [   7  208]\n",
      " [   8 1996]\n",
      " [   9  723]\n",
      " [  10  476]\n",
      " [  11 1839]\n",
      " [  12 1318]\n",
      " [  13 1701]\n",
      " [  14  158]\n",
      " [  15 1093]\n",
      " [  16 2642]\n",
      " [  17 1315]\n",
      " [  18 1560]\n",
      " [  19 1939]\n",
      " [  20 2374]]\n"
     ]
    }
   ],
   "source": [
    "# 基于多次跳跃进行节点采样\n",
    "neighbor = dataset.get_sampled_neighbors(nodes_list[0:21], [2], [0])\n",
    "print(\"neighbor:\\n\", neighbor)\n",
    "\n",
    "# 基于随机游走进行节点采样\n",
    "meta_path = [0]\n",
    "walks = dataset.random_walk(nodes_list[0:21], meta_path)\n",
    "print(\"walks:\\n\", walks)"
   ]
  },
  {
   "cell_type": "markdown",
   "metadata": {},
   "source": [
    "4. 通过节点获取边/通过边获取节点。"
   ]
  },
  {
   "cell_type": "code",
   "execution_count": 9,
   "metadata": {},
   "outputs": [
    {
     "name": "stdout",
     "output_type": "stream",
     "text": [
      "part edges: [0 1 2 3 4 5 6 7 8 9]\n",
      "nodes: [[   0  633]\n",
      " [   0 1862]\n",
      " [   0 2582]\n",
      " [   1    2]\n",
      " [   1  652]\n",
      " [   1  654]\n",
      " [   2 1986]\n",
      " [   2  332]\n",
      " [   2 1666]\n",
      " [   2    1]]\n"
     ]
    }
   ],
   "source": [
    "# 通过边获取节点\n",
    "part_edges = dataset.get_all_edges(0)[:10]\n",
    "nodes = dataset.get_nodes_from_edges(part_edges)\n",
    "print(\"part edges:\", part_edges)\n",
    "print(\"nodes:\", nodes)\n",
    "\n",
    "# 通过节点获取边\n",
    "# nodes_pair_list = [(0, 1), (1, 2), (1, 3), (1, 4)]\n",
    "# edges = dataset.get_edges_from_nodes(nodes_pair_list)\n",
    "# print(\"edges:\", edges)"
   ]
  },
  {
   "cell_type": "markdown",
   "metadata": {},
   "source": [
    "## 参考文献\n",
    "\n",
    "[1] Yang Z, Cohen W, Salakhudinov R. [Revisiting semi-supervised learning with graph embeddings](http://proceedings.mlr.press/v48/yanga16.pdf)."
   ]
  }
 ],
 "metadata": {
  "kernelspec": {
   "display_name": "MindSpore",
   "language": "python",
   "name": "mindspore"
  },
  "language_info": {
   "codemirror_mode": {
    "name": "ipython",
    "version": 3
   },
   "file_extension": ".py",
   "mimetype": "text/x-python",
   "name": "python",
   "nbconvert_exporter": "python",
   "pygments_lexer": "ipython3",
   "version": "3.7.10"
  }
 },
 "nbformat": 4,
 "nbformat_minor": 4
}
