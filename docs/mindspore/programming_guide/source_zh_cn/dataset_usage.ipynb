{
 "cells": [
  {
   "cell_type": "markdown",
   "metadata": {},
   "source": [
    "# 数据集对象使用方法\n",
    "\n",
    "[![](https://gitee.com/mindspore/docs/raw/master/resource/_static/logo_source.png)](https://gitee.com/mindspore/docs/blob/master/docs/mindspore/programming_guide/source_zh_cn/dataset_usage.ipynb)&emsp;[![](https://gitee.com/mindspore/docs/raw/master/resource/_static/logo_notebook.png)](https://obs.dualstack.cn-north-4.myhuaweicloud.com/mindspore-website/notebook/master/programming_guide/zh_cn/mindspore_dataset_usage.ipynb)"
   ]
  },
  {
   "cell_type": "markdown",
   "metadata": {},
   "source": [
    "## 概述\n",
    "\n",
    "原始数据集通过数据集加载接口读取上来，并进行数据增强操作产生的数据集对象（dataset），有两种常规的使用方法如下所示：\n",
    "\n",
    "- 通过创建迭代器来获取数据。\n",
    "\n",
    "- 传入Model接口（如model.train、model.eval等）进行训练或推理。\n",
    "\n",
    "## 通过创建迭代器来获取数据\n",
    "\n",
    "- 针对创建好的dataset对象，通常可以创建两类迭代器来遍历dataset对象以便获取数据，具体为元组迭代器和字典迭代器。\n",
    "\n",
    "- 创建元组迭代器对应的接口为create_tuple_iterator，创建字典迭代器对应的接口为create_dict_iterator，具体使用方法如下。"
   ]
  },
  {
   "cell_type": "code",
   "execution_count": 1,
   "metadata": {
    "ExecuteTime": {
     "end_time": "2021-09-07T02:17:50.900024Z",
     "start_time": "2021-09-07T02:17:48.663499Z"
    }
   },
   "outputs": [],
   "source": [
    "import mindspore.dataset as ds\n",
    "\n",
    "np_data = [[[1, 2], [3, 4]], [[5, 6], [7, 8]]]\n",
    "dataset = ds.NumpySlicesDataset(np_data, column_names=[\"col1\"], shuffle=False)\n",
    "\n",
    "# 创建tuple类型迭代器\n",
    "print(\"\\n create tuple iterator to iterate dataset\")\n",
    "for item in dataset.create_tuple_iterator():\n",
    "    print(\"item[0]:\\n\", item[0])\n",
    "\n",
    "# 创建dict类型的迭代器\n",
    "print(\"\\n create dict iterator to iterate dataset\")\n",
    "for item in dataset.create_dict_iterator():\n",
    "    print(\"item[col1]:\\n\", item[\"col1\"])\n",
    "\n",
    "# 直接遍历dataset对象（等同于创建tuple iterator）\n",
    "print(\"\\n iterate dataset object directly\")\n",
    "for item in dataset:\n",
    "    print(\"item[0]:\\n\", item[0])\n",
    "\n",
    "# 使用enumerate方式遍历（等同于创建tuple iterator）\n",
    "print(\"\\n using enumerate way to iterate dataset object\")\n",
    "for index, item in enumerate(dataset):\n",
    "    print(\"index: {}, item[0]:\\n {}\".format(index, item[0]))"
   ]
  },
  {
   "cell_type": "markdown",
   "metadata": {},
   "source": [
    "- 具体可参考[create_tuple_iterator](https://www.mindspore.cn/docs/api/zh-CN/master/api_python/dataset/mindspore.dataset.NumpySlicesDataset.html#mindspore.dataset.NumpySlicesDataset.create_tuple_iterator) 和[create_dict_iterator](https://www.mindspore.cn/docs/api/zh-CN/master/api_python/dataset/mindspore.dataset.NumpySlicesDataset.html#mindspore.dataset.NumpySlicesDataset.create_dict_iterator)的API参数说明。\n",
    "\n",
    "- 如果需要产生多个epoch的数据，可通过num_epochs进行控制。\n",
    "\n",
    "- 默认输出的mindspore.Tensor(即output_numpy=False)，如果希望输出是numpy array，需要设置参数output_numpy=True。"
   ]
  },
  {
   "cell_type": "code",
   "execution_count": 2,
   "metadata": {
    "ExecuteTime": {
     "end_time": "2021-09-07T02:17:50.921832Z",
     "start_time": "2021-09-07T02:17:50.902299Z"
    }
   },
   "outputs": [],
   "source": [
    "# 创建tuple类型迭代器，默认输出为mindspore.Tensor\n",
    "# 通过传入num_epoch参数告知需产生几个epoch数据，然后可遍历创建出的迭代器num_epoch次，如下所示\n",
    "# 相比每次调用一次create_tuple_iterator(num_epoch=1)， 调用两次，如下方式传入num_epochs=2，有助于提高pipeline性能\n",
    "\n",
    "epoch = 2\n",
    "iterator = dataset.create_tuple_iterator(num_epochs=epoch)\n",
    "for _ in range(epoch):\n",
    "    for item in iterator:\n",
    "        print(\"\\ntype of item[0]:\", type(item[0]), \"\\nitem[0]:\\n \", item) \n",
    "\n",
    "\n",
    "# 创建tuple类型迭代器，并使输出为numpy array\n",
    "for item in dataset.create_tuple_iterator(output_numpy=True):\n",
    "    print(\"\\ntype of item[0]:\", type(item[0]), \"\\nitem[0]:\", item) "
   ]
  },
  {
   "cell_type": "markdown",
   "metadata": {},
   "source": [
    "## 传入Model接口进行训练或推理\n",
    "\n",
    "- 通过`Model`接口，将`dataset`传入网络，喂入网络进行训练。\n",
    "\n",
    "- `Model`接口初始化之后，可以将dataset传入model.train/model.eval接口进行训练/推理，具体参数可参考API说明。\n",
    "\n",
    "- `dataset_sink_mode`参数说明：表示是否下沉到device，如果不下沉则相当于上述创建迭代器，逐条获取数据并喂入网络；如果为True则会将数据发送到设备上，并喂入到网络中。"
   ]
  },
  {
   "cell_type": "code",
   "execution_count": 3,
   "metadata": {
    "ExecuteTime": {
     "end_time": "2021-09-07T02:21:23.517091Z",
     "start_time": "2021-09-07T02:21:23.493613Z"
    }
   },
   "outputs": [],
   "source": [
    "import numpy as np\n",
    "from mindspore import ms_function\n",
    "from mindspore import context, nn, Model\n",
    "import mindspore.dataset as ds\n",
    "import mindspore.ops as ops\n",
    "\n",
    "\n",
    "def create_dataset():\n",
    "    np_data = [[[1, 2], [3, 4]], [[5, 6], [7, 8]]]\n",
    "    np_data = np.array(np_data, dtype=np.float16)\n",
    "    dataset = ds.NumpySlicesDataset(np_data, column_names=[\"col1\"], shuffle=False)\n",
    "    return dataset\n",
    "\n",
    "\n",
    "class Net(nn.Cell):\n",
    "    def __init__(self):\n",
    "        super(Net, self).__init__()\n",
    "        self.relu = ops.ReLU()\n",
    "        self.print = ops.Print()\n",
    "\n",
    "    @ms_function\n",
    "    def construct(self, x):\n",
    "        self.print(x)\n",
    "        return self.relu(x)\n",
    "\n",
    "\n",
    "if __name__ == \"__main__\":\n",
    "    # it is supported to run in CPU, GPU or Ascend \n",
    "    context.set_context(mode=context.GRAPH_MODE)\n",
    "    dataset = create_dataset()\n",
    "    network = Net()\n",
    "    model = Model(network)\n",
    "    \n",
    "    # do training, sink to device defaultly\n",
    "    model.train(epoch=1, train_dataset=dataset, dataset_sink_mode=True)"
   ]
  }
 ],
 "metadata": {
  "kernelspec": {
   "display_name": "Python 3",
   "language": "python",
   "name": "python3"
  },
  "language_info": {
   "codemirror_mode": {
    "name": "ipython",
    "version": 3
   },
   "file_extension": ".py",
   "mimetype": "text/x-python",
   "name": "python",
   "nbconvert_exporter": "python",
   "pygments_lexer": "ipython3",
   "version": "3.7.6"
  }
 },
 "nbformat": 4,
 "nbformat_minor": 4
}
