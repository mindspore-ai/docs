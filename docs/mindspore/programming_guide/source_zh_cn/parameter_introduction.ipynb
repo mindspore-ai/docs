{
 "cells": [
  {
   "cell_type": "markdown",
   "metadata": {},
   "source": [
    "# Parameter\n",
    "\n",
    "[![](https://gitee.com/mindspore/docs/raw/master/resource/_static/logo_source.png)](https://gitee.com/mindspore/docs/blob/master/docs/mindspore/programming_guide/source_zh_cn/tensor.ipynb)&emsp;[![](https://gitee.com/mindspore/docs/raw/master/resource/_static/logo_notebook.png)](https://obs.dualstack.cn-north-4.myhuaweicloud.com/mindspore-website/notebook/master/programming_guide/zh_cn/mindspore_tensor.ipynb)"
   ]
  },
  {
   "cell_type": "markdown",
   "metadata": {},
   "source": [
    "## 概述\n",
    "\n",
    "`Parameter`是变量张量，代表在训练网络时，需要被更新的参数，一般包括权重`weight`和偏置`bias`。例如，对于卷积算子`nn.Conv2D`， `weight`是`[out_channel, in_channel, kernel_size, kernel_size]`大小的张量， `bias`是`[out_channel]`大小的向量。而对于全连接操作`nn.Dense`，`weight`是`[out_channel, in_channel]`大小的张量， `bias`是`[out_channel]`大小的向量。算子中一般集成了权重和偏置，用户可以指定初始化方式来初始化这些`Parameter`。使用初始化传入的数据支持`Tensor`、`Initializer`、`int`和`float`四种类型。\n",
    "\n",
    "在网络训练过程中，优化器根据反向传播计算出的梯度不断更新`Parameter`的值，最优的`Parameter`最终会被保存下来供推理使用。`Parameter`初始化和更新的详细介绍可参考[参数初始化](https://www.mindspore.cn/docs/programming_guide/zh-CN/master/initializer.html)和[参数更新](https://www.mindspore.cn/docs/programming_guide/zh-CN/master/parameter.html)。\n",
    "\n",
    "```python\n",
    "import numpy as np\n",
    "from mindspore import Tensor\n",
    "from mindspore import nn\n",
    "\n",
    "conv_net = nn.Conv2d(in_channels=120, out_channels=240, kernel_size=4, has_bias=True, weight_init='normal')\n",
    "dense_net = nn.Dense(in_channels=3, out_channels=4, weight_init='normal', bias_init='zeros', has_bias=True)\n",
    "\n",
    "print(\"conv_net, weight shape:\", conv_net.weight.shape, \", bias shape:\", conv_net.bias.shape)\n",
    "print(\"dense_net, weight_shape：\", dense_net.weight.shape, \", bias shape:\", dense_net.bias.shape)\n",
    "```\n",
    "\n",
    "```python\n",
    "conv_net, weight shape: (240, 120, 4, 4) , bias shape:  (240,)\n",
    "dense_net, weight_shape: (4, 3) , bias shape:  (4,)\n",
    "```"
   ]
  },
  {
   "cell_type": "markdown",
   "metadata": {},
   "source": [
    "\n"
   ]
  }
 ],
 "metadata": {
  "kernelspec": {
   "display_name": "Python 3",
   "language": "python",
   "name": "python3"
  },
  "language_info": {
   "codemirror_mode": {
    "name": "ipython",
    "version": 3
   },
   "file_extension": ".py",
   "mimetype": "text/x-python",
   "name": "python",
   "nbconvert_exporter": "python",
   "pygments_lexer": "ipython3",
   "version": "3.6.9"
  }
 },
 "nbformat": 4,
 "nbformat_minor": 4
}
