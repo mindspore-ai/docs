{
 "cells": [
  {
   "cell_type": "markdown",
   "id": "secondary-vatican",
   "metadata": {},
   "source": [
    "# Loading Image Dataset\n",
    "\n",
    "`Linux` `Ascend` `GPU` `CPU` `Data Preparation` `Beginner` `Intermediate` `Expert`\n",
    "\n",
    "[![](https://gitee.com/mindspore/docs/raw/r1.3/resource/_static/logo_source.png)](https://gitee.com/mindspore/docs/blob/r1.3/docs/mindspore/programming_guide/source_en/load_dataset_image.ipynb)&emsp;[![](https://gitee.com/mindspore/docs/raw/r1.3/resource/_static/logo_notebook.png)](https://mindspore-website.obs.cn-north-4.myhuaweicloud.com/notebook/r1.3/programming_guide/en/mindspore_load_dataset_image.ipynb)&emsp;[![](https://gitee.com/mindspore/docs/raw/r1.3/resource/_static/logo_modelarts.png)](https://authoring-modelarts-cnnorth4.huaweicloud.com/console/lab?share-url-b64=aHR0cHM6Ly9taW5kc3BvcmUtd2Vic2l0ZS5vYnMuY24tbm9ydGgtNC5teWh1YXdlaWNsb3VkLmNvbS9ub3RlYm9vay9yMS4zL3Byb2dyYW1taW5nX2d1aWRlL2VuL21pbmRzcG9yZV9sb2FkX2RhdGFzZXRfaW1hZ2UuaXB5bmI=&imageid=65f636a0-56cf-49df-b941-7d2a07ba8c8c)"
   ]
  },
  {
   "cell_type": "markdown",
   "id": "demographic-concentrate",
   "metadata": {},
   "source": [
    "## Overview\n",
    "\n",
    "In computer vision training tasks, it is often difficult to read the entire dataset directly into memory due to memory capacity. The `mindspore.dataset` module provided by MindSpore enables users to customize their data fetching strategy from disk. At the same time, data processing and data augmentation operators are applied to the data. Pipelined data processing produces a continuous flow of data to the training network, improving overall performance.\n",
    "\n",
    "In addition, MindSpore supports data loading in distributed scenarios. Users can define the number of shards while loading. For more details, see [Loading the Dataset in Data Parallel Mode](https://www.mindspore.cn/docs/programming_guide/en/r1.3/distributed_training_ascend.html#loading-the-dataset-in-data-parallel-mode).\n",
    "\n",
    "This tutorial uses the MNIST dataset [1] as an example to demonstrate how to load and process image data using MindSpore.\n",
    "\n",
    "## Preparations\n",
    "\n",
    "### Importing Module\n",
    "\n",
    "This module provides APIs to load and process data sets."
   ]
  },
  {
   "cell_type": "code",
   "execution_count": 1,
   "id": "bigger-airfare",
   "metadata": {},
   "outputs": [],
   "source": [
    "import mindspore.dataset as ds"
   ]
  },
  {
   "cell_type": "markdown",
   "id": "proud-culture",
   "metadata": {},
   "source": [
    "### Downloading Dataset\n",
    "\n",
    "Run the following command in jupyter notebook to download the training images and labels of the MNIST dataset and unzip them, put them in the path `./datasets/MNIST_Data`, the directory structure is as follows:"
   ]
  },
  {
   "cell_type": "code",
   "execution_count": 2,
   "id": "several-coordinator",
   "metadata": {},
   "outputs": [
    {
     "name": "stdout",
     "output_type": "stream",
     "text": [
      "./datasets/MNIST_Data\n",
      "├── test\n",
      "│   ├── t10k-images-idx3-ubyte\n",
      "│   └── t10k-labels-idx1-ubyte\n",
      "└── train\n",
      "    ├── train-images-idx3-ubyte\n",
      "    └── train-labels-idx1-ubyte\n",
      "\n",
      "2 directories, 4 files\n"
     ]
    }
   ],
   "source": [
    "!mkdir -p ./datasets/MNIST_Data/train ./datasets/MNIST_Data/test\n",
    "!wget -NP ./datasets/MNIST_Data/train https://mindspore-website.obs.myhuaweicloud.com/notebook/datasets/mnist/train-labels-idx1-ubyte --no-check-certificate\n",
    "!wget -NP ./datasets/MNIST_Data/train https://mindspore-website.obs.myhuaweicloud.com/notebook/datasets/mnist/train-images-idx3-ubyte --no-check-certificate\n",
    "!wget -NP ./datasets/MNIST_Data/test https://mindspore-website.obs.myhuaweicloud.com/notebook/datasets/mnist/t10k-labels-idx1-ubyte --no-check-certificate\n",
    "!wget -NP ./datasets/MNIST_Data/test https://mindspore-website.obs.myhuaweicloud.com/notebook/datasets/mnist/t10k-images-idx3-ubyte --no-check-certificate\n",
    "!tree ./datasets/MNIST_Data"
   ]
  },
  {
   "cell_type": "markdown",
   "id": "controlling-digest",
   "metadata": {},
   "source": [
    "## Loading Dataset\n",
    "\n",
    "MindSpore supports loading common datasets in the field of image processing that come in a variety of on-disk formats. Users can also implement custom dataset class to load customized data. For the detailed loading method of various datasets, please refer to the [Loading Dataset](https://www.mindspore.cn/docs/programming_guide/en/r1.3/dataset_loading.html) in the programming guide.\n",
    "\n",
    "The following tutorial shows how to load the MNIST dataset using the `MnistDataset` in the `mindspore.dataset` module.\n",
    "\n",
    "1. Configure the dataset directory and create the `MnistDataset`."
   ]
  },
  {
   "cell_type": "code",
   "execution_count": 3,
   "id": "burning-broadcast",
   "metadata": {},
   "outputs": [],
   "source": [
    "    DATA_DIR = './datasets/MNIST_Data/train'\n",
    "    mnist_dataset = ds.MnistDataset(DATA_DIR, num_samples=6, shuffle=False)"
   ]
  },
  {
   "cell_type": "markdown",
   "id": "beneficial-dispatch",
   "metadata": {},
   "source": [
    "2. Create an iterator then obtain data through the iterator."
   ]
  },
  {
   "cell_type": "code",
   "execution_count": 4,
   "id": "royal-catalog",
   "metadata": {},
   "outputs": [
    {
     "data": {
      "image/png": "[encoded data removed]",
      "text/plain": [
       "<Figure size 432x288 with 1 Axes>"
      ]
     },
     "metadata": {
      "needs_background": "light"
     },
     "output_type": "display_data"
    }
   ],
   "source": [
    "    import matplotlib.pyplot as plt\n",
    "\n",
    "    mnist_it = mnist_dataset.create_dict_iterator()\n",
    "    data = next(mnist_it)\n",
    "    plt.imshow(data['image'].asnumpy().squeeze(), cmap=plt.cm.gray)\n",
    "    plt.title(data['label'].asnumpy(), fontsize=20)\n",
    "    plt.show()"
   ]
  },
  {
   "cell_type": "markdown",
   "id": "metropolitan-vacuum",
   "metadata": {},
   "source": [
    "In addition, users can pass in a `sampler` parameter to specify the sampling process during dataset loading. For the data samplers supported by MindSpore and their detailed usage methods, please refer to the programming guide [sampler](https://www.mindspore.cn/docs/programming_guide/en/r1.3/sampler.html).\n",
    "\n",
    "## Processing Data\n",
    "\n",
    "For the data processing operators currently supported by MindSpore and their detailed usage methods, please refer to the [Processing Data](https://www.mindspore.cn/docs/programming_guide/en/r1.3/pipeline.html) in the programming guide.\n",
    "\n",
    "The following tutorial demonstrates how to construct a pipeline and perform operations such as `shuffle`, `batch` and `repeat` on the MNIST dataset."
   ]
  },
  {
   "cell_type": "code",
   "execution_count": 5,
   "id": "japanese-equity",
   "metadata": {},
   "outputs": [
    {
     "name": "stdout",
     "output_type": "stream",
     "text": [
      "5\n",
      "0\n",
      "4\n",
      "1\n",
      "9\n",
      "2\n"
     ]
    }
   ],
   "source": [
    "for data in mnist_dataset.create_dict_iterator():\n",
    "    print(data['label'])"
   ]
  },
  {
   "cell_type": "markdown",
   "id": "mexican-sport",
   "metadata": {},
   "source": [
    "1. Shuffle the dataset."
   ]
  },
  {
   "cell_type": "code",
   "execution_count": 6,
   "id": "documented-romance",
   "metadata": {},
   "outputs": [
    {
     "name": "stdout",
     "output_type": "stream",
     "text": [
      "after shuffle: \n",
      "4\n",
      "2\n",
      "1\n",
      "0\n",
      "5\n",
      "9\n"
     ]
    }
   ],
   "source": [
    "    ds.config.set_seed(58)\n",
    "    ds1 = mnist_dataset.shuffle(buffer_size=6)\n",
    "\n",
    "    print('after shuffle: ')\n",
    "    for data in ds1.create_dict_iterator():\n",
    "        print(data['label'])"
   ]
  },
  {
   "cell_type": "markdown",
   "id": "inner-summit",
   "metadata": {},
   "source": [
    "2. Add `batch` after `shuffle`."
   ]
  },
  {
   "cell_type": "code",
   "execution_count": 7,
   "id": "terminal-danish",
   "metadata": {},
   "outputs": [
    {
     "name": "stdout",
     "output_type": "stream",
     "text": [
      "after batch: \n",
      "[4 2]\n",
      "[1 0]\n",
      "[5 9]\n"
     ]
    }
   ],
   "source": [
    "    ds2 = ds1.batch(batch_size=2)\n",
    "\n",
    "    print('after batch: ')\n",
    "    for data in ds2.create_dict_iterator():\n",
    "        print(data['label'])"
   ]
  },
  {
   "cell_type": "markdown",
   "id": "adapted-metallic",
   "metadata": {},
   "source": [
    "3. Add `repeat` after `batch`."
   ]
  },
  {
   "cell_type": "code",
   "execution_count": 8,
   "id": "freelance-witness",
   "metadata": {},
   "outputs": [
    {
     "name": "stdout",
     "output_type": "stream",
     "text": [
      "after repeat: \n",
      "[4 2]\n",
      "[1 0]\n",
      "[5 9]\n",
      "[2 4]\n",
      "[0 9]\n",
      "[1 5]\n"
     ]
    }
   ],
   "source": [
    "    ds3 = ds2.repeat(count=2)\n",
    "\n",
    "    print('after repeat: ')\n",
    "    for data in ds3.create_dict_iterator():\n",
    "        print(data['label'])"
   ]
  },
  {
   "cell_type": "markdown",
   "id": "republican-silence",
   "metadata": {},
   "source": [
    "The results show the dataset is repeated, and the order of the replica is different from that of the first copy.\n",
    "\n",
    "> Having `repeat` in the pipeline results in the execution of repeated operations defined in the entire pipeline, instead of simply copying the current dataset. So the order of the replica is different from that of the first copy after `shuffle`."
   ]
  },
  {
   "cell_type": "markdown",
   "id": "expensive-stand",
   "metadata": {},
   "source": [
    "## Augmentation\n",
    "\n",
    "For the data augmentation operators supported by MindSpore and their detailed usage methods, please refer to the programming guide [Data Augmentation](https://www.mindspore.cn/docs/programming_guide/en/r1.3/augmentation.html).\n",
    "\n",
    "The following tutorial demonstrates how to use the `c_transforms` module to augment data in the MNIST dataset.\n",
    "\n",
    "1. Import related modules and load the dataset."
   ]
  },
  {
   "cell_type": "code",
   "execution_count": 9,
   "id": "fifteen-secretariat",
   "metadata": {},
   "outputs": [],
   "source": [
    "    from mindspore.dataset.vision import Inter\n",
    "    import mindspore.dataset.vision.c_transforms as transforms\n",
    "\n",
    "    mnist_dataset = ds.MnistDataset(DATA_DIR, num_samples=6, shuffle=False)"
   ]
  },
  {
   "cell_type": "markdown",
   "id": "accompanied-biology",
   "metadata": {},
   "source": [
    "2. Define augmentation operators and perform the `Resize` and `RandomCrop` operations on images in the dataset."
   ]
  },
  {
   "cell_type": "code",
   "execution_count": 10 ,
   "id": "defensive-monday",
   "metadata": {},
   "outputs": [],
   "source": [
    "    resize_op = transforms.Resize(size=(200,200), interpolation=Inter.LINEAR)\n",
    "    crop_op = transforms.RandomCrop(150)\n",
    "    transforms_list = [resize_op, crop_op]\n",
    "    ds4 = mnist_dataset.map(operations=transforms_list,input_columns='image')"
   ]
  },
  {
   "cell_type": "markdown",
   "id": "hollow-grain",
   "metadata": {},
   "source": [
    "3. Visualize the result of augmentation."
   ]
  },
  {
   "cell_type": "code",
   "execution_count": 11,
   "id": "stable-leonard",
   "metadata": {},
   "outputs": [
    {
     "data": {
      "image/png": "[encoded data removed]",
      "text/plain": [
       "<Figure size 432x288 with 1 Axes>"
      ]
     },
     "metadata": {
      "needs_background": "light"
     },
     "output_type": "display_data"
    }
   ],
   "source": [
    "    mnist_it = ds4.create_dict_iterator()\n",
    "    data = next(mnist_it)\n",
    "    plt.imshow(data['image'].asnumpy().squeeze(), cmap=plt.cm.gray)\n",
    "    plt.title(data['label'].asnumpy(), fontsize=20)\n",
    "    plt.show()"
   ]
  },
  {
   "cell_type": "markdown",
   "id": "creative-liberal",
   "metadata": {},
   "source": [
    "The original image is scaled up then randomly cropped to 150 x 150.\n",
    "\n",
    "## References\n",
    "\n",
    "[1] Y. LeCun, L. Bottou, Y. Bengio, and P. Haffner. [Gradient-based learning applied to document recognition](http://yann.lecun.com/exdb/publis/pdf/lecun-98.pdf)."
   ]
  }
 ],
 "metadata": {
  "kernelspec": {
   "display_name": "Python 3",
   "language": "python",
   "name": "python3"
  },
  "language_info": {
   "codemirror_mode": {
    "name": "ipython",
    "version": 3
   },
   "file_extension": ".py",
   "mimetype": "text/x-python",
   "name": "python",
   "nbconvert_exporter": "python",
   "pygments_lexer": "ipython3",
   "version": "3.7.5"
  }
 },
 "nbformat": 4,
 "nbformat_minor": 5
}
