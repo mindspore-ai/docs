{
 "cells": [
  {
   "cell_type": "markdown",
   "id": "b59535fb",
   "metadata": {},
   "source": [
    "# 准备工作\n",
    "\n",
    "[![下载Notebook](https://mindspore-website.obs.cn-north-4.myhuaweicloud.com/website-images/r1.8/resource/_static/logo_notebook.png)](https://obs.dualstack.cn-north-4.myhuaweicloud.com/mindspore-website/notebook/r1.8/zh_cn/migration_guide/mindspore_preparation.ipynb)&emsp;[![下载样例代码](https://mindspore-website.obs.cn-north-4.myhuaweicloud.com/website-images/r1.8/resource/_static/logo_download_code.png)](https://obs.dualstack.cn-north-4.myhuaweicloud.com/mindspore-website/notebook/r1.8/zh_cn/migration_guide/mindspore_preparation.py)&emsp;[![查看源文件](https://mindspore-website.obs.cn-north-4.myhuaweicloud.com/website-images/r1.8/resource/_static/logo_source.png)](https://gitee.com/mindspore/docs/blob/r1.8/docs/mindspore/source_zh_cn/migration_guide/preparation.ipynb)\n",
    "\n",
    "## 概述\n",
    "\n",
    "在进行网络开发或网络迁移工作之前，首先需要安装MindSpore，并掌握机器学习的相关知识。用户可以选择购买《深度学习与MindSpore实践》一书来了解相关知识，通过访问[MindSpore官网](https://www.mindspore.cn)了解MindSpore的用法。\n",
    "\n",
    "## 安装MindSpore\n",
    "\n",
    "参考如下表格确定系统的发行版本、架构（X86或Arm）及Python版本。\n",
    "\n",
    "|系统|查询内容| 查询命令\n",
    "|:----|:----|:----\n",
    "|Linux|系统发行版本| `cat /proc/version`\n",
    "|Linux|系统架构| `uname -m`\n",
    "|Linux|Python版本| `python3`\n",
    "\n",
    "根据自己使用的操作系统及计算硬件，选择对应的MindSpore版本，通过Pip、Conda、Docker或源码编译等方式安装MindSpore，推荐访问[MindSpore安装页面](https://www.mindspore.cn/install)，并参考该网站指导完成安装。\n",
    "\n",
    "## MindSpore验证\n",
    "\n",
    "安装完成MindSpore后可以运行以下命令（以MindSpore r1.6版本为例），测试MindSpore是否安装完成。"
   ]
  },
  {
   "cell_type": "code",
   "execution_count": 1,
   "id": "be72fc1e",
   "metadata": {
    "ExecuteTime": {
     "end_time": "2022-03-07T06:36:12.928105Z",
     "start_time": "2022-03-07T06:36:10.636638Z"
    }
   },
   "outputs": [
    {
     "name": "stdout",
     "output_type": "stream",
     "text": [
      "MindSpore version:  1.6.0\n",
      "The result of multiplication calculation is correct, MindSpore has been installed successfully!\n"
     ]
    }
   ],
   "source": [
    "import mindspore\n",
    "\n",
    "mindspore.run_check()"
   ]
  },
  {
   "cell_type": "markdown",
   "id": "36e8d603",
   "metadata": {},
   "source": [
    "## 知识准备\n",
    "\n",
    "### MindSpore文档\n",
    "\n",
    "用户可以通过参考[MindSpore教程](https://www.mindspore.cn/tutorials/experts/zh-CN/r1.8/index.html)了解如何使用MindSpore进行训练、调试、调优、推理；也可以通过参考[MindSpore Python API](https://www.mindspore.cn/docs/zh-CN/r1.8/index.html)详细了解MindSpore各接口的相关信息，以便于用户能够更好地使用。\n",
    "\n",
    "### ModelZoo和Hub\n",
    "\n",
    "[ModelZoo](https://gitee.com/mindspore/models/blob/r1.8/README_CN.md#)是MindSpore与社区共同提供的深度优化的模型集市，向开发者提供了深度优化的模型，以便于生态中的小伙伴可以方便地基于ModelZoo中的模型进行个性化开发。当前已经覆盖了机器视觉、自然语言处理、语音、推荐系统等多个领域的主流模型。\n",
    "\n",
    "[mindspore Hub](https://www.mindspore.cn/resources/hub)是存放MindSpore官方或者第三方开发者提供的预训练模型的平台。它向应用开发者提供了简单易用的模型加载和微调API，使得用户可以基于预训练模型进行推理或者微调，并部署到自己的应用中。用户也可以将自己训练好的模型按照指定的步骤[发布模型](https://www.mindspore.cn/hub/docs/zh-CN/r1.6/publish_model.html)到MindSpore Hub中，供其他用户下载和使用。\n",
    "\n",
    "### 云上训练\n",
    "\n",
    "ModelArts是华为云提供的面向AI开发者的一站式开发平台，集成了昇腾AI处理器资源池，用户可以在该平台下体验MindSpore。相关文档可参考[AI开发平台ModelArts](https://support.huaweicloud.com/wtsnew-modelarts/index.html)。"
   ]
  }
 ],
 "metadata": {
  "kernelspec": {
   "display_name": "MindSpore",
   "language": "python",
   "name": "mindspore"
  },
  "language_info": {
   "codemirror_mode": {
    "name": "ipython",
    "version": 3
   },
   "file_extension": ".py",
   "mimetype": "text/x-python",
   "name": "python",
   "nbconvert_exporter": "python",
   "pygments_lexer": "ipython3",
   "version": "3.7.5"
  }
 },
 "nbformat": 4,
 "nbformat_minor": 5
}
