{
 "cells": [
  {
   "cell_type": "markdown",
   "metadata": {},
   "source": [
    "# 全场景统一\n",
    "\n",
    "[![查看源文件](https://mindspore-website.obs.cn-north-4.myhuaweicloud.com/website-images/r2.0/resource/_static/logo_source.png)](https://gitee.com/mindspore/docs/blob/r2.0/docs/mindspore/source_zh_cn/design/all_scenarios.ipynb)\n",
    "\n",
    "MindSpore旨在提供端边云全场景的AI框架。MindSpore可部署于端、边、云不同的硬件环境，满足不同环境的差异化需求，如支持端侧的轻量化部署，支持云侧丰富的训练功能如自动微分、混合精度、模型易用编程等。\n",
    "\n",
    "> 云侧包括NVIDIA GPU、Huawei Ascend、Intel x86等，端侧包括Arm、Qualcomm、Kirin等。\n",
    "\n",
    "![intro](https://mindspore-website.obs.cn-north-4.myhuaweicloud.com/website-images/r2.0/docs/mindspore/source_zh_cn/design/images/all_scenarios_intro.png)\n",
    "\n",
    "## 全场景重要特性\n",
    "\n",
    "MindSpore全场景的几个重要特性：\n",
    "\n",
    "1. 端边云统一的C++推理接口，支持算法代码可快速迁移到不同硬件环境执行，如[基于C++接口实现端侧训练](https://mindspore.cn/lite/docs/zh-CN/r2.0/quick_start/train_lenet.html)。\n",
    "2. 模型统一，端云使用相同的模型格式和定义，软件架构一致。MindSpore支持Ascend、GPU、CPU（x86、Arm）等多种硬件的执行，一次训练多处部署使用。\n",
    "3. 多样化算力支持。提供统一的南向接口，支持新硬件的快捷添加使用。\n",
    "4. 模型小型化技术，适配不同硬件环境和业务场景的要求，如量化压缩等。\n",
    "5. 端边云协同技术的快速应用，如[联邦学习](https://mindspore.cn/federated/docs/zh-CN/r0.1/index.html)、[端侧训练](https://mindspore.cn/lite/docs/zh-CN/r2.0/use/runtime_train.html)等新技术。\n",
    "\n",
    "## 全场景支持模式\n",
    "\n",
    "![train-process](https://mindspore-website.obs.cn-north-4.myhuaweicloud.com/website-images/r2.0/docs/mindspore/source_zh_cn/design/images/all_scenarios_train_process.png)\n",
    "\n",
    "如上图所示，在MindSpore上训练出来的模型文件，可通过Serving部署在云服务中执行，也可用过Lite执行在服务器、端侧等设备上。同时Lite支持通过独立工具convert进行模型的离线优化，实现推理时框架的轻量化以及模型执行高性能的目标。\n",
    "\n",
    "MindSpore抽象各个硬件下的统一算子接口，因此，在不同硬件环境下，网络模型的编程代码可以保持一致。同时加载相同的模型文件，在MindSpore支持的各个不同硬件上均能有效执行推理。\n",
    "\n",
    "推理方面考虑到大量用户使用C++/C编程方式，提供了C++的推理编程接口，相关编程接口在形态上与Python接口的风格较接近。\n",
    "\n",
    "同时，通过提供第三方硬件的自定义离线优化注册，第三方硬件的自定义算子注册机制，实现快速对接新的硬件，同时对外的模型编程接口以及模型文件保持不变。"
   ]
  }
 ],
 "metadata": {
  "kernelspec": {
   "display_name": "MindSpore",
   "language": "python",
   "name": "mindspore"
  },
  "language_info": {
   "codemirror_mode": {
    "name": "ipython",
    "version": 3
   },
   "file_extension": ".py",
   "mimetype": "text/x-python",
   "name": "python",
   "nbconvert_exporter": "python",
   "pygments_lexer": "ipython3",
   "version": "3.7.3"
  }
 },
 "nbformat": 4,
 "nbformat_minor": 4
}
