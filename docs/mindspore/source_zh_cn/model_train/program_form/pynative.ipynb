{
    "cells": [
     {
      "cell_type": "markdown",
      "source": [
       "# 动态图编程\n",
       "\n",
       "[![下载Notebook](https://mindspore-website.obs.cn-north-4.myhuaweicloud.com/website-images/master/resource/_static/logo_notebook.svg)](https://mindspore-website.obs.cn-north-4.myhuaweicloud.com/notebook/master/zh_cn/model_train/program_form/mindspore_pynative.ipynb)&emsp;[![下载样例代码](https://mindspore-website.obs.cn-north-4.myhuaweicloud.com/website-images/master/resource/_static/logo_download_code.svg)](https://mindspore-website.obs.cn-north-4.myhuaweicloud.com/notebook/master/zh_cn/model_train/program_form/mindspore_pynative.py)&emsp;[![查看源文件](https://mindspore-website.obs.cn-north-4.myhuaweicloud.com/website-images/master/resource/_static/logo_source.svg)](https://gitee.com/mindspore/docs/blob/master/docs/mindspore/source_zh_cn/model_train/program_form/pynative.ipynb)\n",
       "\n",
       "在MindSpore中，动态图模式又被称为PyNative模式，可以通过`set_context(mode=PYNATIVE_MODE)`来设置成动态图模式。在脚本开发和网络流程调试中，推荐使用动态图模式进行调试，支持执行单算子、普通函数和网络、以及单独求梯度的操作。\n",
       "\n",
       "在PyNative模式下，用户可以使用完整的Python API，此外针对使用MindSpore提供的API时，框架会根据用户选择的硬件平台（Ascend，GPU，CPU），将算子API的操作在对应的硬件平台上执行，并返回相应的结果。框架整体的执行过程如下：\n",
       "\n",
       "![process](https://mindspore-website.obs.cn-north-4.myhuaweicloud.com/website-images/master/docs/mindspore/source_zh_cn/design/images/framework.png)\n",
       "\n",
       "通过前端的Python API，调用到框架层，最终到相应的硬件设备上进行计算。例如：完成一个加法。"
      ],
      "metadata": {}
     },
     {
      "cell_type": "code",
      "execution_count": 2,
      "source": [
       "import numpy as np\n",
       "import mindspore as ms\n",
       "import mindspore.ops as ops\n",
       "\n",
       "ms.set_context(mode=ms.PYNATIVE_MODE, device_target=\"CPU\")\n",
       "x = ms.Tensor(np.ones([1, 3, 3, 4]).astype(np.float32))\n",
       "y = ms.Tensor(np.ones([1, 3, 3, 4]).astype(np.float32))\n",
       "output = ops.add(x, y)\n",
       "print(output.asnumpy())"
      ],
      "outputs": [
       {
        "output_type": "stream",
        "name": "stdout",
        "text": [
         "[[[[2. 2. 2. 2.]\n",
         "   [2. 2. 2. 2.]\n",
         "   [2. 2. 2. 2.]]\n",
         "\n",
         "  [[2. 2. 2. 2.]\n",
         "   [2. 2. 2. 2.]\n",
         "   [2. 2. 2. 2.]]\n",
         "\n",
         "  [[2. 2. 2. 2.]\n",
         "   [2. 2. 2. 2.]\n",
         "   [2. 2. 2. 2.]]]]\n"
        ]
       }
      ],
      "metadata": {
       "ExecuteTime": {
        "end_time": "2022-01-04T10:51:23.292278Z",
        "start_time": "2022-01-04T10:51:23.284465Z"
       }
      }
     },
     {
      "cell_type": "markdown",
      "source": [
       "此例中，当调用到Python接口ops.add(x, y)时，会将Python的接口调用通过Pybind11调用到框架的C++层，转换成C++的调用，接着框架会根据用户设置的device_target选择对应的硬件设备，在该硬件设备上执行add这个操作。\n",
       "\n",
       "从上述原理可以看到，在PyNative模式下，Python脚本代码会根据Python的语法进行执行，而执行过程中涉及到MindSpore的API，会根据用户设置在不同的硬件上进行执行，从而进行加速。因此，在PyNative模式下，用户可以随意使用Python的语法以及调试方法。例如可以使用常见的PyCharm、VS Code等IDE进行代码的调试。\n",
       "\n"
      ],
      "metadata": {}
     }
    ],
    "metadata": {
     "kernelspec": {
      "display_name": "MindSpore",
      "language": "python",
      "name": "mindspore"
     },
     "language_info": {
      "codemirror_mode": {
       "name": "ipython",
       "version": 3
      },
      "file_extension": ".py",
      "mimetype": "text/x-python",
      "name": "python",
      "nbconvert_exporter": "python",
      "pygments_lexer": "ipython3",
      "version": "3.7.5"
     }
    },
    "nbformat": 4,
    "nbformat_minor": 4
   }