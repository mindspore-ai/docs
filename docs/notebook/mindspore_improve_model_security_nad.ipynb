{
 "cells": [
  {
   "cell_type": "markdown",
   "id": "herbal-ticket",
   "metadata": {},
   "source": [
    "# 使用NAD算法提升模型安全性\n",
    "\n",
    "\n",
    "\n",
    "## 概述\n",
    "\n",
    "本教程介绍MindArmour提供的模型安全防护手段，引导您快速使用MindArmour，为您的AI模型提供一定的安全防护能力。\n",
    "\n",
    "AI算法设计之初普遍未考虑相关的安全威胁，使得AI算法的判断结果容易被恶意攻击者影响，导致AI系统判断失准。攻击者在原始样本处加入人类不易察觉的微小扰动，导致深度学习模型误判，称为对抗样本攻击。MindArmour模型安全提供对抗样本生成、对抗样本检测、模型防御、攻防效果评估等功能，为AI模型安全研究和AI应用安全提供重要支撑。\n",
    "\n",
    "- 对抗样本生成模块支持安全工程师快速高效地生成对抗样本，用于攻击AI模型。\n",
    "\n",
    "- 对抗样本检测、防御模块支持用户检测过滤对抗样本、增强AI模型对于对抗样本的鲁棒性。\n",
    "\n",
    "- 评估模块提供多种指标全面评估对抗样本攻防性能。\n",
    "\n",
    "这里通过图像分类任务上的对抗性攻防，以攻击算法FGSM和防御算法NAD为例，介绍MindArmour在对抗攻防上的使用方法。\n",
    "\n",
    "> 本例面向CPU、GPU、Ascend 910 AI处理器，你可以在这里下载完整的样例代码： https://gitee.com/mindspore/mindarmour/blob/master/examples/model_security/model_defenses/mnist_defense_nad.py"
   ]
  },
  {
   "cell_type": "markdown",
   "id": "continent-gender",
   "metadata": {},
   "source": [
    "## 准备工作\n",
    "\n",
    "本例采用LeNet5网络进行示例，将展示训练后的模型，正常验证的结果如何，使用对抗样本后的验证效果如何，在完成上述情况前，需做如下准备。\n",
    "\n",
    "1. 下载安装跟MindSpore版本对应的MindArmour安装包。"
   ]
  },
  {
   "cell_type": "code",
   "execution_count": 1,
   "id": "quick-peace",
   "metadata": {},
   "outputs": [
    {
     "data": {
      "text/plain": [
       "256"
      ]
     },
     "execution_count": 1,
     "metadata": {},
     "output_type": "execute_result"
    }
   ],
   "source": [
    "import os\n",
    "import mindspore\n",
    "\n",
    "version = mindspore.__version__\n",
    "ma_link = \"https://ms-release.obs.cn-north-4.myhuaweicloud.com/{0}/MindArmour/x86_64/mindarmour-{0}-cp37-cp37m-linux_x86_64.whl\".format(version)\n",
    "os.system(\"pip install {}\".format(ma_link))"
   ]
  },
  {
   "cell_type": "markdown",
   "id": "fitting-strip",
   "metadata": {},
   "source": [
    "2. 准备MNIST数据集。\n",
    "\n",
    "在Jupyter Notebook中执行如下命令，下载数据集。"
   ]
  },
  {
   "cell_type": "code",
   "execution_count": 2,
   "id": "naughty-daniel",
   "metadata": {},
   "outputs": [
    {
     "name": "stdout",
     "output_type": "stream",
     "text": [
      "./datasets/MNIST_Data\n",
      "├── test\n",
      "│   ├── t10k-images-idx3-ubyte\n",
      "│   └── t10k-labels-idx1-ubyte\n",
      "└── train\n",
      "    ├── train-images-idx3-ubyte\n",
      "    └── train-labels-idx1-ubyte\n",
      "\n",
      "2 directories, 4 files\n"
     ]
    }
   ],
   "source": [
    "!mkdir -p ./datasets/MNIST_Data/train ./datasets/MNIST_Data/test\n",
    "!wget -NP ./datasets/MNIST_Data/train https://mindspore-website.obs.myhuaweicloud.com/notebook/datasets/mnist/train-labels-idx1-ubyte --no-check-certificate\n",
    "!wget -NP ./datasets/MNIST_Data/train https://mindspore-website.obs.myhuaweicloud.com/notebook/datasets/mnist/train-images-idx3-ubyte --no-check-certificate\n",
    "!wget -NP ./datasets/MNIST_Data/test https://mindspore-website.obs.myhuaweicloud.com/notebook/datasets/mnist/t10k-labels-idx1-ubyte --no-check-certificate\n",
    "!wget -NP ./datasets/MNIST_Data/test https://mindspore-website.obs.myhuaweicloud.com/notebook/datasets/mnist/t10k-images-idx3-ubyte --no-check-certificate\n",
    "!tree ./datasets/MNIST_Data"
   ]
  },
  {
   "cell_type": "markdown",
   "id": "handmade-cookie",
   "metadata": {},
   "source": [
    "## 建立被攻击模型\n",
    "\n",
    "以MNIST为示范数据集，自定义的简单模型作为被攻击模型。\n",
    "\n",
    "### 引入相关包"
   ]
  },
  {
   "cell_type": "code",
   "execution_count": 3,
   "id": "surprised-jonathan",
   "metadata": {},
   "outputs": [],
   "source": [
    "import os\n",
    "import numpy as np\n",
    "from scipy.special import softmax\n",
    "\n",
    "from mindspore import dataset as ds\n",
    "from mindspore import dtype as mstype\n",
    "import mindspore.dataset.vision.c_transforms as CV\n",
    "import mindspore.dataset.transforms.c_transforms as C\n",
    "from mindspore.dataset.vision import Inter\n",
    "import mindspore.nn as nn\n",
    "from mindspore.nn import SoftmaxCrossEntropyWithLogits\n",
    "from mindspore.common.initializer import TruncatedNormal\n",
    "from mindspore import Model, Tensor, context\n",
    "from mindspore.train.callback import LossMonitor\n",
    "\n",
    "from mindarmour.adv_robustness.attacks import FastGradientSignMethod\n",
    "from mindarmour.utils.logger import LogUtil\n",
    "from mindarmour.adv_robustness.evaluations import AttackEvaluate\n",
    "\n",
    "context.set_context(mode=context.GRAPH_MODE, device_target=\"GPU\")\n",
    "\n",
    "LOGGER = LogUtil.get_instance()\n",
    "LOGGER.set_level(\"INFO\")\n",
    "TAG = 'demo'"
   ]
  },
  {
   "cell_type": "markdown",
   "id": "linear-northwest",
   "metadata": {},
   "source": [
    "### 加载数据集\n",
    "\n",
    "利用MindSpore的dataset提供的MnistDataset接口加载MNIST数据集。"
   ]
  },
  {
   "cell_type": "code",
   "execution_count": 4,
   "id": "bacterial-absolute",
   "metadata": {},
   "outputs": [],
   "source": [
    "# generate dataset for train of test\n",
    "def generate_mnist_dataset(data_path, batch_size=32, repeat_size=1,\n",
    "                           num_parallel_workers=1, index=True):\n",
    "    \"\"\"\n",
    "    create dataset for training or testing\n",
    "    \"\"\"\n",
    "    # define dataset\n",
    "    ds1 = ds.MnistDataset(data_path)\n",
    "\n",
    "    # define operation parameters\n",
    "    resize_height, resize_width = 32, 32\n",
    "    rescale = 1.0 / 255.0\n",
    "    shift = 0.0\n",
    "\n",
    "    # define map operations\n",
    "    resize_op = CV.Resize((resize_height, resize_width),\n",
    "                          interpolation=Inter.LINEAR)\n",
    "    rescale_op = CV.Rescale(rescale, shift)\n",
    "    hwc2chw_op = CV.HWC2CHW()\n",
    "    type_cast_op = C.TypeCast(mstype.int32)\n",
    "\n",
    "    # apply map operations on images\n",
    "    if not index:\n",
    "        one_hot_enco = C.OneHot(10)\n",
    "        ds1 = ds1.map(operations=one_hot_enco, input_columns=\"label\",\n",
    "                      num_parallel_workers=num_parallel_workers)\n",
    "        type_cast_op = C.TypeCast(mstype.float32)\n",
    "        \n",
    "    ds1 = ds1.map(operations=type_cast_op, input_columns=\"label\",\n",
    "                  num_parallel_workers=num_parallel_workers)\n",
    "    ds1 = ds1.map(operations=resize_op, input_columns=\"image\",\n",
    "                  num_parallel_workers=num_parallel_workers)\n",
    "    ds1 = ds1.map(operations=rescale_op, input_columns=\"image\",\n",
    "                  num_parallel_workers=num_parallel_workers)\n",
    "    ds1 = ds1.map(operations=hwc2chw_op, input_columns=\"image\",\n",
    "                  num_parallel_workers=num_parallel_workers)\n",
    "\n",
    "    # apply DatasetOps\n",
    "    buffer_size = 10000\n",
    "    ds1 = ds1.shuffle(buffer_size=buffer_size)\n",
    "    ds1 = ds1.batch(batch_size, drop_remainder=True)\n",
    "    ds1 = ds1.repeat(repeat_size)\n",
    "\n",
    "    return ds1"
   ]
  },
  {
   "cell_type": "markdown",
   "id": "becoming-rebel",
   "metadata": {},
   "source": [
    "### 建立模型\n",
    "\n",
    "这里以LeNet模型为例，您也可以建立训练自己的模型。\n",
    "\n",
    "1. 定义LeNet模型网络。"
   ]
  },
  {
   "cell_type": "code",
   "execution_count": 5,
   "id": "affected-assist",
   "metadata": {},
   "outputs": [],
   "source": [
    "import mindspore.nn as nn\n",
    "from mindspore.common.initializer import Normal\n",
    "\n",
    "class LeNet5(nn.Cell):\n",
    "    \"\"\"Lenet network structure.\"\"\"\n",
    "    # define the operator required\n",
    "    def __init__(self, num_class=10, num_channel=1):\n",
    "        super(LeNet5, self).__init__()\n",
    "        self.conv1 = nn.Conv2d(num_channel, 6, 5, pad_mode='valid')\n",
    "        self.conv2 = nn.Conv2d(6, 16, 5, pad_mode='valid')\n",
    "        self.fc1 = nn.Dense(16 * 5 * 5, 120, weight_init=Normal(0.02))\n",
    "        self.fc2 = nn.Dense(120, 84, weight_init=Normal(0.02))\n",
    "        self.fc3 = nn.Dense(84, num_class, weight_init=Normal(0.02))\n",
    "        self.relu = nn.ReLU()\n",
    "        self.max_pool2d = nn.MaxPool2d(kernel_size=2, stride=2)\n",
    "        self.flatten = nn.Flatten()\n",
    "\n",
    "    # use the preceding operators to construct networks\n",
    "    def construct(self, x):\n",
    "        x = self.max_pool2d(self.relu(self.conv1(x)))\n",
    "        x = self.max_pool2d(self.relu(self.conv2(x)))\n",
    "        x = self.flatten(x)\n",
    "        x = self.relu(self.fc1(x))\n",
    "        x = self.relu(self.fc2(x))\n",
    "        x = self.fc3(x)\n",
    "        return x"
   ]
  },
  {
   "cell_type": "markdown",
   "id": "stupid-invalid",
   "metadata": {},
   "source": [
    "2. 训练LeNet模型。利用上面定义的数据加载函数`generate_mnist_dataset`载入数据。"
   ]
  },
  {
   "cell_type": "code",
   "execution_count": 6,
   "id": "vulnerable-pierce",
   "metadata": {},
   "outputs": [
    {
     "name": "stdout",
     "output_type": "stream",
     "text": [
      "epoch: 1 step: 1875, loss is 2.3040888\n",
      "epoch: 2 step: 1875, loss is 0.29309553\n",
      "epoch: 3 step: 1875, loss is 0.19545117\n"
     ]
    }
   ],
   "source": [
    "mnist_path = \"./datasets/MNIST_Data/\"\n",
    "batch_size = 32\n",
    "# train original model\n",
    "ds_train = generate_mnist_dataset(os.path.join(mnist_path, \"train\"),\n",
    "                                  batch_size=batch_size, repeat_size=1,\n",
    "                                  index=False)\n",
    "net = LeNet5()\n",
    "loss = SoftmaxCrossEntropyWithLogits(sparse=False, reduction=\"mean\")\n",
    "opt = nn.Momentum(net.trainable_params(), 0.01, 0.9)\n",
    "model = Model(net, loss, opt, metrics=None)\n",
    "model.train(3, ds_train, callbacks=[LossMonitor(1875)],\n",
    "            dataset_sink_mode=False)"
   ]
  },
  {
   "cell_type": "markdown",
   "id": "simplified-hunter",
   "metadata": {},
   "source": [
    "3. 测试模型"
   ]
  },
  {
   "cell_type": "code",
   "execution_count": 7,
   "id": "engaging-corner",
   "metadata": {},
   "outputs": [
    {
     "name": "stderr",
     "output_type": "stream",
     "text": [
      "[INFO] MA(22790:140157538080576,MainProcess):2021-04-07 15:35:15,249 [<ipython-input-7-04c3ee7c4eeb>:24] [demo] prediction accuracy before attacking is : 0.9779647435897436\n"
     ]
    }
   ],
   "source": [
    "# prediction accuracy before attack\n",
    "\n",
    "# get test data\n",
    "ds_test = generate_mnist_dataset(os.path.join(mnist_path, \"test\"),\n",
    "                                 batch_size=batch_size, repeat_size=1,\n",
    "                                 index=False)\n",
    "inputs = []\n",
    "labels = []\n",
    "for data in ds_test.create_tuple_iterator():\n",
    "    inputs.append(data[0].asnumpy().astype(np.float32))\n",
    "    labels.append(data[1].asnumpy())\n",
    "\n",
    "test_inputs = np.concatenate(inputs)\n",
    "test_labels = np.concatenate(labels)\n",
    "\n",
    "def get_net_acc(network, inputs_data, labels):\n",
    "    network.set_train(False)\n",
    "    test_logits = net(Tensor(inputs_data)).asnumpy()\n",
    "    tmp = np.argmax(test_logits, axis=1) == np.argmax(labels, axis=1)\n",
    "    accuracy = np.mean(tmp)\n",
    "    return accuracy\n",
    "\n",
    "accuracy = get_net_acc(net, test_inputs, test_labels)\n",
    "LOGGER.info(TAG, 'prediction accuracy before attacking is : %s', accuracy)"
   ]
  },
  {
   "cell_type": "markdown",
   "id": "improved-composition",
   "metadata": {},
   "source": [
    "测试结果中分类精度达到了97%以上。"
   ]
  },
  {
   "cell_type": "markdown",
   "id": "secondary-headset",
   "metadata": {},
   "source": [
    "## 对抗性攻击\n",
    "\n",
    "在进行对抗性攻击前，选取32张图片查看，没有攻击前的图片展示的效果如何。"
   ]
  },
  {
   "cell_type": "code",
   "execution_count": 8,
   "id": "genetic-reservoir",
   "metadata": {},
   "outputs": [
    {
     "data": {
      "image/png": "[encoded data removed]",
      "text/plain": [
       "<Figure size 432x288 with 32 Axes>"
      ]
     },
     "metadata": {
      "needs_background": "light"
     },
     "output_type": "display_data"
    }
   ],
   "source": [
    "import matplotlib.pyplot as plt\n",
    "\n",
    "count = 1\n",
    "%matplotlib inline\n",
    "for i in test_inputs[:32]:\n",
    "    plt.subplot(4, 8, count)\n",
    "    plt.imshow(np.squeeze(i), cmap='gray', interpolation='nearest')\n",
    "    plt.xticks([])\n",
    "    plt.axis(\"off\")\n",
    "    count += 1\n",
    "plt.show()"
   ]
  },
  {
   "cell_type": "markdown",
   "id": "three-printer",
   "metadata": {},
   "source": [
    "调用MindArmour提供的FGSM接口（FastGradientSignMethod），对验证的图片数据进行对抗性攻击。\n",
    "\n",
    "查看之前选取的32张图片，对抗性攻击后，图片产生了什么变化。"
   ]
  },
  {
   "cell_type": "code",
   "execution_count": 9,
   "id": "superb-bearing",
   "metadata": {},
   "outputs": [
    {
     "data": {
      "image/png": "[encoded data removed]",
      "text/plain": [
       "<Figure size 432x288 with 32 Axes>"
      ]
     },
     "metadata": {
      "needs_background": "light"
     },
     "output_type": "display_data"
    }
   ],
   "source": [
    "# attacking\n",
    "# get adv data\n",
    "attack = FastGradientSignMethod(net, eps=0.3, loss_fn=loss)\n",
    "adv_data = attack.batch_generate(test_inputs, test_labels)\n",
    "\n",
    "count = 1\n",
    "%matplotlib inline\n",
    "for i in adv_data[:32]:\n",
    "    plt.subplot(4, 8, count)\n",
    "    plt.imshow(np.squeeze(i), cmap='gray', interpolation='nearest')\n",
    "    plt.xticks([])\n",
    "    count += 1\n",
    "\n",
    "plt.axis(\"off\")\n",
    "plt.show()"
   ]
  },
  {
   "cell_type": "markdown",
   "id": "earlier-amplifier",
   "metadata": {},
   "source": [
    "受到攻击后，图片出现了很多的类似水印的背景，但是在视觉上还是能明显地分辨出来图片是什么，但是对于模型来说，可能不一定。\n",
    "\n",
    "接下来，验证模型在攻击后的图片分类能力。"
   ]
  },
  {
   "cell_type": "code",
   "execution_count": 10,
   "id": "greater-prophet",
   "metadata": {},
   "outputs": [
    {
     "name": "stderr",
     "output_type": "stream",
     "text": [
      "[INFO] MA(22790:140157538080576,MainProcess):2021-04-07 15:35:17,892 [<ipython-input-10-b5401939add9>:6] [demo] prediction accuracy after attacking is : 0.045072115384615384\n",
      "[INFO] MA(22790:140157538080576,MainProcess):2021-04-07 15:35:17,926 [<ipython-input-10-b5401939add9>:12] [demo] mis-classification rate of adversaries is : 0.9549278846153846\n",
      "[INFO] MA(22790:140157538080576,MainProcess):2021-04-07 15:35:17,926 [<ipython-input-10-b5401939add9>:14] [demo] The average confidence of adversarial class is : 0.70117253\n",
      "[INFO] MA(22790:140157538080576,MainProcess):2021-04-07 15:35:17,927 [<ipython-input-10-b5401939add9>:16] [demo] The average confidence of true class is : 0.04269705\n",
      "[INFO] MA(22790:140157538080576,MainProcess):2021-04-07 15:35:18,667 [<ipython-input-10-b5401939add9>:19] [demo] The average distance (l0, l2, linf) between original samples and adversarial samples are: (2.2191764481915106, 0.5356972896720278, 0.3000000376345752)\n",
      "[INFO] MA(22790:140157538080576,MainProcess):2021-04-07 15:35:20,650 [<ipython-input-10-b5401939add9>:22] [demo] The average structural similarity between original samples and adversarial samples are: 0.5092086321477988\n"
     ]
    }
   ],
   "source": [
    "# get accuracy of adv data on original model\n",
    "adv_logits = net(Tensor(adv_data)).asnumpy()\n",
    "adv_proba = softmax(adv_logits, axis=1)\n",
    "tmp = np.argmax(adv_proba, axis=1) == np.argmax(test_labels, axis=1)\n",
    "accuracy_adv = np.mean(tmp)\n",
    "LOGGER.info(TAG, 'prediction accuracy after attacking is : %s', accuracy_adv)\n",
    "attack_evaluate = AttackEvaluate(test_inputs.transpose(0, 2, 3, 1),\n",
    "                                 test_labels,\n",
    "                                 adv_data.transpose(0, 2, 3, 1),\n",
    "                                 adv_proba)\n",
    "LOGGER.info(TAG, 'mis-classification rate of adversaries is : %s',\n",
    "            attack_evaluate.mis_classification_rate())\n",
    "LOGGER.info(TAG, 'The average confidence of adversarial class is : %s',\n",
    "            attack_evaluate.avg_conf_adv_class())\n",
    "LOGGER.info(TAG, 'The average confidence of true class is : %s',\n",
    "            attack_evaluate.avg_conf_true_class())\n",
    "LOGGER.info(TAG, 'The average distance (l0, l2, linf) between original '\n",
    "            'samples and adversarial samples are: %s',\n",
    "            attack_evaluate.avg_lp_distance())\n",
    "LOGGER.info(TAG, 'The average structural similarity between original '\n",
    "            'samples and adversarial samples are: %s',\n",
    "            attack_evaluate.avg_ssim())"
   ]
  },
  {
   "cell_type": "markdown",
   "id": "stainless-blogger",
   "metadata": {},
   "source": [
    "对模型进行FGSM无目标攻击后：\n",
    "\n",
    "- 模型精度由97%以上降到不足10%；\n",
    "\n",
    "- 误分类率超过90%，成功攻击的对抗样本的预测类别的平均置信度（ACAC）为 0.70117253；\n",
    "\n",
    "- 成功攻击的对抗样本的真实类别的平均置信度（ACTC）为 0.04269705；\n",
    "\n",
    "- 同时给出了生成的对抗样本与原始样本的零范数距离、二范数距离和无穷范数距离，平均每个对抗样本与原始样本间的结构相似性为0.5092086；\n",
    "\n",
    "- 平均每生成一张对抗样本所需时间为0.003125s。\n",
    "\n",
    "FGSM无目标攻击后生成的对抗样本。从视觉角度而言，几乎没有明显变化，但是均成功误导了模型，使模型将其误分类为其他非正确类别。"
   ]
  },
  {
   "cell_type": "markdown",
   "id": "private-shoulder",
   "metadata": {},
   "source": [
    "## 对抗性防御\n",
    "\n",
    "NaturalAdversarialDefense（NAD）是一种简单有效的对抗样本防御方法，使用对抗训练的方式，在模型训练的过程中构建对抗样本，并将对抗样本与原始样本混合，一起训练模型。随着训练次数的增加，模型在训练的过程中提升对于对抗样本的鲁棒性。NAD算法使用FGSM作为攻击算法，构建对抗样本。\n",
    "\n",
    "### 防御实现\n",
    "\n",
    "调用MindArmour提供的NAD防御接口（NaturalAdversarialDefense）。"
   ]
  },
  {
   "cell_type": "code",
   "execution_count": 11,
   "id": "animal-resident",
   "metadata": {},
   "outputs": [
    {
     "name": "stderr",
     "output_type": "stream",
     "text": [
      "[INFO] MA(22790:140157538080576,MainProcess):2021-04-07 15:35:31,896 [<ipython-input-11-2b02004977b6>:15] [demo] accuracy of TEST data on defensed model is : 0.9793669871794872\n",
      "[INFO] MA(22790:140157538080576,MainProcess):2021-04-07 15:35:32,001 [<ipython-input-11-2b02004977b6>:29] [demo] accuracy of adv data on defensed model is : 0.7190504807692307\n",
      "[INFO] MA(22790:140157538080576,MainProcess):2021-04-07 15:35:32,002 [<ipython-input-11-2b02004977b6>:31] [demo] defense mis-classification rate of adversaries is : 0.2809495192307692\n",
      "[INFO] MA(22790:140157538080576,MainProcess):2021-04-07 15:35:32,003 [<ipython-input-11-2b02004977b6>:33] [demo] The average confidence of adversarial class is : 0.5715536\n",
      "[INFO] MA(22790:140157538080576,MainProcess):2021-04-07 15:35:32,004 [<ipython-input-11-2b02004977b6>:35] [demo] The average confidence of true class is : 0.16227658\n"
     ]
    }
   ],
   "source": [
    "from mindarmour.adv_robustness.defenses import NaturalAdversarialDefense\n",
    "\n",
    "# defense\n",
    "net.set_train()\n",
    "nad = NaturalAdversarialDefense(net, loss_fn=loss, optimizer=opt,\n",
    "                                bounds=(0.0, 1.0), eps=0.3)\n",
    "nad.batch_defense(test_inputs, test_labels, batch_size=32, epochs=10)\n",
    "\n",
    "# get accuracy of test data on defensed model\n",
    "net.set_train(False)\n",
    "test_logits = net(Tensor(test_inputs)).asnumpy()\n",
    "\n",
    "tmp = np.argmax(test_logits, axis=1) == np.argmax(test_labels, axis=1)\n",
    "accuracy = np.mean(tmp)\n",
    "LOGGER.info(TAG, 'accuracy of TEST data on defensed model is : %s', accuracy)\n",
    "\n",
    "# get accuracy of adv data on defensed model\n",
    "adv_logits = net(Tensor(adv_data)).asnumpy()\n",
    "adv_proba = softmax(adv_logits, axis=1)\n",
    "tmp = np.argmax(adv_proba, axis=1) == np.argmax(test_labels, axis=1)\n",
    "accuracy_adv = np.mean(tmp)\n",
    "\n",
    "attack_evaluate = AttackEvaluate(test_inputs.transpose(0, 2, 3, 1),\n",
    "                                 test_labels,\n",
    "                                 adv_data.transpose(0, 2, 3, 1),\n",
    "                                 adv_proba)\n",
    "\n",
    "LOGGER.info(TAG, 'accuracy of adv data on defensed model is : %s',\n",
    "            np.mean(accuracy_adv))\n",
    "LOGGER.info(TAG, 'defense mis-classification rate of adversaries is : %s',\n",
    "            attack_evaluate.mis_classification_rate())\n",
    "LOGGER.info(TAG, 'The average confidence of adversarial class is : %s',\n",
    "            attack_evaluate.avg_conf_adv_class())\n",
    "LOGGER.info(TAG, 'The average confidence of true class is : %s',\n",
    "            attack_evaluate.avg_conf_true_class())"
   ]
  },
  {
   "cell_type": "markdown",
   "id": "sonic-violence",
   "metadata": {},
   "source": [
    "### 防御效果\n",
    "\n",
    "使用NAD进行对抗样本防御后，模型对于对抗样本的误分类率从90%以上降至不足30%，模型有效地防御了对抗样本。同时，模型对于原来测试数据集的分类精度达97%。"
   ]
  }
 ],
 "metadata": {
  "kernelspec": {
   "display_name": "MindSpore-1.1.1",
   "language": "python",
   "name": "mindspore-1.1.1"
  },
  "language_info": {
   "codemirror_mode": {
    "name": "ipython",
    "version": 3
   },
   "file_extension": ".py",
   "mimetype": "text/x-python",
   "name": "python",
   "nbconvert_exporter": "python",
   "pygments_lexer": "ipython3",
   "version": "3.7.5"
  }
 },
 "nbformat": 4,
 "nbformat_minor": 5
}
