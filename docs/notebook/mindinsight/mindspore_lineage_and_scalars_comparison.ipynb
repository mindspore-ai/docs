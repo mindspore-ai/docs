{
 "cells": [
  {
   "cell_type": "markdown",
   "metadata": {},
   "source": [
    "# <center/>MindInsight的溯源分析和对比分析体验\n",
    "\n",
    "[![在线运行](https://mindspore-website.obs.cn-north-4.myhuaweicloud.com/website-images/master/resource/_static/logo_modelarts.png)](https://authoring-modelarts-cnnorth4.huaweicloud.com/console/lab?share-url-b64=HR0cHM6Ly9taW5kc3BvcmUtd2Vic2l0ZS5vYnMuY24tbm9ydGgtNC5teWh1YXdlaWNsb3VkLmNvbS9ub3RlYm9vay9tYXN0ZXIvbm90ZWJvb2svbWluZGluc2lnaHQvbWluZHNwb3JlX2xpbmVhZ2VfYW5kX3NjYWxhcnNfY29tcGFyaXNvbi5pcHluYg==&imageid=65f636a0-56cf-49df-b941-7d2a07ba8c8c)&emsp;[![下载Notebook](https://mindspore-website.obs.cn-north-4.myhuaweicloud.com/website-images/master/resource/_static/logo_notebook.png)](https://mindspore-website.obs.cn-north-4.myhuaweicloud.com/notebook/master/notebook/mindinsight/mindspore_lineage_and_scalars_comparison.ipynb)&emsp;[![查看源文件](https://mindspore-website.obs.cn-north-4.myhuaweicloud.com/website-images/master/resource/_static/logo_source.png)](https://gitee.com/mindspore/docs/blob/master/docs/notebook/mindinsight/mindspore_lineage_and_scalars_comparison.ipynb)"
   ]
  },
  {
   "cell_type": "markdown",
   "metadata": {},
   "source": [
    "## 概述\n",
    "\n",
    "在模型调参的场景下，需要多次调整模型超参并进行多次训练，这个过程，往往需要手动记录每次训练使用参数以及训练结果。为此，MindSpore提供了自动记录模型参数、训练信息及训练结果评估指标的功能，并通过MindInsight进行可视化展示。本次体验会从MindInsight的数据记录、可视化效果、如何方便用户在模型调优和数据调优上做一次整体流程的体验。\n",
    "\n",
    "下面按照MindSpore的训练数据模型的正常步骤进行，使用`SummaryCollector`进行数据保存操作，本次体验的整体流程如下：\n",
    "\n",
    "1. 数据集的准备，这里使用的是MNIST数据集。\n",
    "\n",
    "2. 构建一个网络，这里使用LeNet网络。\n",
    "\n",
    "3. 记录数据及启动训练。\n",
    "\n",
    "4. 启动MindInsight服务。\n",
    "\n",
    "5. 溯源分析的使用。\n",
    "\n",
    "6. 对比分析的使用。\n",
    "\n",
    "> 本文档适用于GPU和Ascend环境。"
   ]
  },
  {
   "cell_type": "markdown",
   "metadata": {},
   "source": [
    "## 数据集准备"
   ]
  },
  {
   "cell_type": "markdown",
   "metadata": {},
   "source": [
    "### 数据集下载"
   ]
  },
  {
   "cell_type": "markdown",
   "metadata": {},
   "source": [
    "以下示例代码将数据集下载并解压到指定位置。"
   ]
  },
  {
   "cell_type": "code",
   "execution_count": null,
   "metadata": {},
   "outputs": [],
   "source": [
    "import os\n",
    "import requests\n",
    "\n",
    "requests.packages.urllib3.disable_warnings()\n",
    "\n",
    "def download_dataset(dataset_url, path):\n",
    "    filename = dataset_url.split(\"/\")[-1]\n",
    "    save_path = os.path.join(path, filename)\n",
    "    if os.path.exists(save_path):\n",
    "        return\n",
    "    if not os.path.exists(path):\n",
    "        os.makedirs(path)\n",
    "    res = requests.get(dataset_url, stream=True, verify=False)\n",
    "    with open(save_path, \"wb\") as f:\n",
    "        for chunk in res.iter_content(chunk_size=512):\n",
    "            if chunk:\n",
    "                f.write(chunk)\n",
    "    print(\"The {} file is downloaded and saved in the path {} after processing\".format(os.path.basename(dataset_url), path))\n",
    "\n",
    "train_path = \"datasets/MNIST_Data/train\"\n",
    "test_path = \"datasets/MNIST_Data/test\"\n",
    "\n",
    "download_dataset(\"https://mindspore-website.obs.myhuaweicloud.com/notebook/datasets/mnist/train-labels-idx1-ubyte\", train_path)\n",
    "download_dataset(\"https://mindspore-website.obs.myhuaweicloud.com/notebook/datasets/mnist/train-images-idx3-ubyte\", train_path)\n",
    "download_dataset(\"https://mindspore-website.obs.myhuaweicloud.com/notebook/datasets/mnist/t10k-labels-idx1-ubyte\", test_path)\n",
    "download_dataset(\"https://mindspore-website.obs.myhuaweicloud.com/notebook/datasets/mnist/t10k-images-idx3-ubyte\", test_path)"
   ]
  },
  {
   "cell_type": "markdown",
   "metadata": {},
   "source": [
    "解压后的数据集文件目录结构如下：\n",
    "\n",
    "```text\n",
    "./datasets/MNIST_Data\n",
    "├── test\n",
    "│   ├── t10k-images-idx3-ubyte\n",
    "│   └── t10k-labels-idx1-ubyte\n",
    "└── train\n",
    "    ├── train-images-idx3-ubyte\n",
    "    └── train-labels-idx1-ubyte\n",
    "```"
   ]
  },
  {
   "cell_type": "markdown",
   "metadata": {},
   "source": [
    "### 数据集处理"
   ]
  },
  {
   "cell_type": "markdown",
   "metadata": {},
   "source": [
    "数据集处理对于训练非常重要，好的数据集可以有效提高训练精度和效率。在加载数据集前，我们通常会对数据集进行一些处理。\n",
    "<br/>我们定义一个函数`create_dataset`来创建数据集。在这个函数中，我们定义好需要进行的数据增强和处理操作：\n",
    "\n",
    "1. 定义数据集。\n",
    "2. 定义进行数据增强和处理所需要的一些参数。\n",
    "3. 根据参数，生成对应的数据增强操作。\n",
    "4. 使用`map`映射函数，将数据操作应用到数据集。\n",
    "5. 对生成的数据集进行处理。\n",
    "\n",
    "具体的数据集操作可以在MindInsight的数据溯源中进行可视化分析。"
   ]
  },
  {
   "cell_type": "code",
   "execution_count": 2,
   "metadata": {},
   "outputs": [],
   "source": [
    "import mindspore.dataset.vision.c_transforms as CV\n",
    "import mindspore.dataset.transforms.c_transforms as C\n",
    "from mindspore.dataset.vision import Inter\n",
    "from mindspore import dtype as mstype\n",
    "import mindspore.dataset as ds\n",
    "\n",
    "def create_dataset(data_path, batch_size=16, repeat_size=1,\n",
    "                   num_parallel_workers=1):\n",
    "    \"\"\" create dataset for train or test\n",
    "    Args:\n",
    "        data_path (str): Data path\n",
    "        batch_size (int): The number of data records in each group\n",
    "        repeat_size (int): The number of replicated data records\n",
    "        num_parallel_workers (int): The number of parallel workers\n",
    "    \"\"\"\n",
    "    # define dataset\n",
    "    mnist_ds = ds.MnistDataset(data_path)\n",
    "\n",
    "    # define some parameters needed for data enhancement and rough justification\n",
    "    resize_height, resize_width = 32, 32\n",
    "    rescale = 1.0 / 255.0\n",
    "    shift = 0.0\n",
    "    rescale_nml = 1 / 0.3081\n",
    "    shift_nml = -1 * 0.1307 / 0.3081\n",
    "\n",
    "    # according to the parameters, generate the corresponding data enhancement method\n",
    "    resize_op = CV.Resize((resize_height, resize_width), interpolation=Inter.LINEAR)\n",
    "    # if you need to use SummaryCollector to extract image data, do not use the following normalize operator operation\n",
    "    rescale_nml_op = CV.Rescale(rescale_nml, shift_nml)\n",
    "    rescale_op = CV.Rescale(rescale, shift)\n",
    "    hwc2chw_op = CV.HWC2CHW()\n",
    "    type_cast_op = C.TypeCast(mstype.int32)\n",
    "\n",
    "    # using map method to apply operations to a dataset\n",
    "    mnist_ds = mnist_ds.map(operations=type_cast_op, input_columns=\"label\", num_parallel_workers=num_parallel_workers)\n",
    "    mnist_ds = mnist_ds.map(operations=resize_op, input_columns=\"image\", num_parallel_workers=num_parallel_workers)\n",
    "    mnist_ds = mnist_ds.map(operations=rescale_op, input_columns=\"image\", num_parallel_workers=num_parallel_workers)\n",
    "    mnist_ds = mnist_ds.map(operations=rescale_nml_op, input_columns=\"image\", num_parallel_workers=num_parallel_workers)\n",
    "    mnist_ds = mnist_ds.map(operations=hwc2chw_op, input_columns=\"image\", num_parallel_workers=num_parallel_workers)\n",
    "\n",
    "    # process the generated dataset\n",
    "    buffer_size = 10000\n",
    "    mnist_ds = mnist_ds.shuffle(buffer_size=buffer_size)  # 10000 as in LeNet train script\n",
    "    mnist_ds = mnist_ds.batch(batch_size, drop_remainder=True)\n",
    "    mnist_ds = mnist_ds.repeat(repeat_size)\n",
    "\n",
    "    return mnist_ds"
   ]
  },
  {
   "cell_type": "markdown",
   "metadata": {},
   "source": [
    "## 定义LeNet5网络"
   ]
  },
  {
   "cell_type": "markdown",
   "metadata": {},
   "source": [
    "本例采用的网络模型为LeNet5网络，对于手写数字分类表现得非常出色，网络模型定义如下。"
   ]
  },
  {
   "cell_type": "code",
   "execution_count": 3,
   "metadata": {},
   "outputs": [],
   "source": [
    "import mindspore.ops as ops\n",
    "import mindspore.nn as nn\n",
    "from mindspore.common.initializer import Normal\n",
    "\n",
    "class LeNet5(nn.Cell):\n",
    "    \"\"\"Lenet network structure.\"\"\"\n",
    "    def __init__(self):\n",
    "        super(LeNet5, self).__init__()\n",
    "        self.batch_size = 32\n",
    "        self.conv1 = nn.Conv2d(1, 6, 5, pad_mode=\"valid\")\n",
    "        self.conv2 = nn.Conv2d(6, 16, 5, pad_mode=\"valid\")\n",
    "        self.fc1 = nn.Dense(16 * 5 * 5, 120, Normal(0.02), Normal(0.02))\n",
    "        self.fc2 = nn.Dense(120, 84, Normal(0.02), Normal(0.02))\n",
    "        self.fc3 = nn.Dense(84, 10)\n",
    "        self.relu = nn.ReLU()\n",
    "        self.max_pool2d = nn.MaxPool2d(kernel_size=2, stride=2)\n",
    "        self.flatten = nn.Flatten()\n",
    "        self.image_summary = ops.ImageSummary()\n",
    "        self.tensor_summary = ops.TensorSummary()\n",
    "\n",
    "    def construct(self, x):\n",
    "        self.image_summary(\"image\", x)\n",
    "        self.tensor_summary(\"tensor\", x)\n",
    "        x = self.max_pool2d(self.relu(self.conv1(x)))\n",
    "        x = self.max_pool2d(self.relu(self.conv2(x)))\n",
    "        x = self.flatten(x)\n",
    "        x = self.relu(self.fc1(x))\n",
    "        x = self.relu(self.fc2(x))\n",
    "        x = self.fc3(x)\n",
    "        return x"
   ]
  },
  {
   "cell_type": "markdown",
   "metadata": {},
   "source": [
    "## 记录数据及启动训练"
   ]
  },
  {
   "cell_type": "markdown",
   "metadata": {},
   "source": [
    "MindSpore 提供 `SummaryCollector` 接口来记录训练过程中的信息。\n",
    "\n",
    "为了更好的体验溯源分析和对比分析的效果，这里将调整学习率（`learning_rate`）、迭代次数（`epoch_size`）、batch数量（`batch_size`）来多次训练模型，并使用`SummaryCollector`保存对应的数据。\n",
    "\n",
    "`learning_rate`取值分别为0.01和0.05。\n",
    "\n",
    "`epoch_size`取值分别为2和5。\n",
    "\n",
    "`batch_size`取值分别为16和32。\n",
    "\n",
    "每次调整一个参数进行训练，总共分2x2x2=8组参数。\n",
    "\n",
    "`SummaryCollector`的更多用法，请参考[API文档](https://www.mindspore.cn/docs/api/zh-CN/master/api_python/mindspore.train.html#mindspore.train.callback.SummaryCollector)。"
   ]
  },
  {
   "cell_type": "code",
   "execution_count": 4,
   "metadata": {
    "scrolled": true
   },
   "outputs": [
    {
     "name": "stdout",
     "output_type": "stream",
     "text": [
      "================= The Situation 1 =================\n",
      "== learning_rate:0.01, epoch_size:2, batch_size:16 ==\n",
      "================ Starting Training ================\n",
      "epoch: 1 step: 125, loss is 2.296706\n",
      "epoch: 1 step: 250, loss is 2.2627764\n",
      "epoch: 1 step: 375, loss is 2.3244872\n",
      "epoch: 1 step: 500, loss is 2.3250148\n",
      "epoch: 1 step: 625, loss is 2.2620986\n",
      "... ...\n",
      "epoch: 2 step: 3375, loss is 0.2990877\n",
      "epoch: 2 step: 3500, loss is 0.01983778\n",
      "epoch: 2 step: 3625, loss is 0.09528342\n",
      "epoch: 2 step: 3750, loss is 0.008239745\n",
      "================ Starting Testing ================\n",
      "============ Accuracy:{'Accuracy': 0.9797} ============\n",
      "\n",
      "\n",
      "================= The Situation 2 =================\n",
      "== learning_rate:0.01, epoch_size:2, batch_size:32 ==\n",
      "================ Starting Training ================\n",
      "epoch: 1 step: 125, loss is 2.2925339\n",
      "epoch: 1 step: 250, loss is 2.3008182\n",
      "epoch: 1 step: 375, loss is 2.3030884\n",
      "epoch: 1 step: 500, loss is 2.2976336\n",
      "epoch: 1 step: 625, loss is 2.3130703\n",
      "... ...\n",
      "epoch: 2 step: 1375, loss is 0.028572561\n",
      "epoch: 2 step: 1500, loss is 0.19585766\n",
      "epoch: 2 step: 1625, loss is 0.14577985\n",
      "epoch: 2 step: 1750, loss is 0.23607145\n",
      "epoch: 2 step: 1875, loss is 0.0840621\n",
      "================ Starting Testing ================\n",
      "============ Accuracy:{'Accuracy': 0.9787} ============\n",
      "\n",
      "\n",
      "================= The Situation 3 =================\n",
      "== learning_rate:0.01, epoch_size:5, batch_size:16 ==\n",
      "================ Starting Training ================\n",
      "epoch: 1 step: 125, loss is 2.328815\n",
      "epoch: 1 step: 250, loss is 2.3232577\n",
      "epoch: 1 step: 375, loss is 2.2851524\n",
      "epoch: 1 step: 500, loss is 2.2837648\n",
      "epoch: 1 step: 625, loss is 2.3328993\n",
      "... ...\n",
      "epoch: 5 step: 3125, loss is 0.063728176\n",
      "epoch: 5 step: 3250, loss is 0.0018528743\n",
      "epoch: 5 step: 3375, loss is 0.005786577\n",
      "epoch: 5 step: 3500, loss is 0.0063151703\n",
      "epoch: 5 step: 3625, loss is 9.56385e-05\n",
      "epoch: 5 step: 3750, loss is 0.005796452\n",
      "================ Starting Testing ================\n",
      "============ Accuracy:{'Accuracy': 0.9819} ============\n",
      "\n",
      "\n",
      "================= The Situation 4 =================\n",
      "== learning_rate:0.01, epoch_size:5, batch_size:32 ==\n",
      "================ Starting Training ================\n",
      "epoch: 1 step: 125, loss is 2.3141277\n",
      "epoch: 1 step: 250, loss is 2.299097\n",
      "epoch: 1 step: 375, loss is 2.2934532\n",
      "epoch: 1 step: 500, loss is 2.3099198\n",
      "epoch: 1 step: 625, loss is 2.305512\n",
      "epoch: 1 step: 750, loss is 2.3175468\n",
      "... ...\n",
      "epoch: 5 step: 1375, loss is 0.0056467657\n",
      "epoch: 5 step: 1500, loss is 0.009505681\n",
      "epoch: 5 step: 1625, loss is 0.030743863\n",
      "epoch: 5 step: 1750, loss is 0.1039285\n",
      "epoch: 5 step: 1875, loss is 0.0149848955\n",
      "================ Starting Testing ================\n",
      "============ Accuracy:{'Accuracy': 0.9836} ============\n",
      "\n",
      "\n",
      "================= The Situation 5 =================\n",
      "== learning_rate:0.05, epoch_size:2, batch_size:16 ==\n",
      "================ Starting Training ================\n",
      "epoch: 1 step: 125, loss is 2.3003526\n",
      "epoch: 1 step: 250, loss is 2.267969\n",
      "epoch: 1 step: 375, loss is 2.295865\n",
      "epoch: 1 step: 500, loss is 1.685572\n",
      "epoch: 1 step: 625, loss is 2.1919081\n",
      "... ...\n",
      "epoch: 2 step: 3250, loss is 2.2610397\n",
      "epoch: 2 step: 3375, loss is 2.3557587\n",
      "epoch: 2 step: 3500, loss is 2.361361\n",
      "epoch: 2 step: 3625, loss is 2.3162065\n",
      "epoch: 2 step: 3750, loss is 2.338607\n",
      "================ Starting Testing ================\n",
      "============ Accuracy:{'Accuracy': 0.1028} ============\n",
      "\n",
      "\n",
      "================= The Situation 6 =================\n",
      "== learning_rate:0.05, epoch_size:2, batch_size:32 ==\n",
      "================ Starting Training ================\n",
      "epoch: 1 step: 125, loss is 2.3143704\n",
      "epoch: 1 step: 250, loss is 2.3132532\n",
      "epoch: 1 step: 375, loss is 2.2908692\n",
      "epoch: 1 step: 500, loss is 0.83405465\n",
      "... ...\n",
      "epoch: 2 step: 1375, loss is 2.3221805\n",
      "epoch: 2 step: 1500, loss is 2.3242655\n",
      "epoch: 2 step: 1625, loss is 2.3066783\n",
      "epoch: 2 step: 1750, loss is 2.3138652\n",
      "epoch: 2 step: 1875, loss is 2.3345938\n",
      "================ Starting Testing ================\n",
      "============ Accuracy:{'Accuracy': 0.0974} ============\n",
      "\n",
      "\n",
      "================= The Situation 7 =================\n",
      "== learning_rate:0.05, epoch_size:5, batch_size:16 ==\n",
      "================ Starting Training ================\n",
      "epoch: 1 step: 125, loss is 2.295558\n",
      "epoch: 1 step: 250, loss is 2.38386\n",
      "epoch: 1 step: 375, loss is 2.33319\n",
      "epoch: 1 step: 500, loss is 1.438849\n",
      "epoch: 1 step: 625, loss is 1.4208732\n",
      "... ...\n",
      "epoch: 5 step: 2875, loss is 2.2813506\n",
      "epoch: 5 step: 3000, loss is 2.3327284\n",
      "epoch: 5 step: 3125, loss is 2.3425179\n",
      "epoch: 5 step: 3250, loss is 2.3141623\n",
      "epoch: 5 step: 3375, loss is 2.345585\n",
      "epoch: 5 step: 3500, loss is 2.2416115\n",
      "epoch: 5 step: 3625, loss is 2.2807086\n",
      "epoch: 5 step: 3750, loss is 2.2743173\n",
      "================ Starting Testing ================\n",
      "============ Accuracy:{'Accuracy': 0.1028} ============\n",
      "\n",
      "\n",
      "================= The Situation 8 =================\n",
      "== learning_rate:0.05, epoch_size:5, batch_size:32 ==\n",
      "================ Starting Training ================\n",
      "epoch: 1 step: 125, loss is 2.3025277\n",
      "epoch: 1 step: 250, loss is 2.3404844\n",
      "epoch: 1 step: 375, loss is 2.0081742\n",
      "epoch: 1 step: 500, loss is 0.7698262\n",
      "epoch: 1 step: 625, loss is 0.84001845\n",
      "... ...\n",
      "epoch: 5 step: 1125, loss is 2.2752795\n",
      "epoch: 5 step: 1250, loss is 2.300592\n",
      "epoch: 5 step: 1375, loss is 2.313322\n",
      "epoch: 5 step: 1500, loss is 2.2971704\n",
      "epoch: 5 step: 1625, loss is 2.328839\n",
      "epoch: 5 step: 1750, loss is 2.2877312\n",
      "epoch: 5 step: 1875, loss is 2.3039935\n",
      "================ Starting Testing ================\n",
      "============ Accuracy:{'Accuracy': 0.1135} ============\n",
      "\n",
      "\n"
     ]
    }
   ],
   "source": [
    "from mindspore.train.callback import SummaryCollector\n",
    "from mindspore.nn import Accuracy\n",
    "from mindspore import context, Model\n",
    "from mindspore.nn import SoftmaxCrossEntropyWithLogits\n",
    "from mindspore.train.callback import ModelCheckpoint, CheckpointConfig, LossMonitor\n",
    "import os\n",
    "\n",
    "if __name__ == \"__main__\":\n",
    "    context.set_context(mode=context.GRAPH_MODE, device_target=\"GPU\")\n",
    "    if os.name == \"nt\":\n",
    "        os.system(\"del/f/s/q *.ckpt *.meta\")\n",
    "    else:\n",
    "        os.system(\"rm -f *.ckpt *.meta *.pb\")\n",
    "\n",
    "    mnist_path = \"./datasets/MNIST_Data/\"\n",
    "    model_path = \"./models/ckpt/lineage_and_scalars_comparison/\"\n",
    "    repeat_size = 1\n",
    "    config_ck = CheckpointConfig(save_checkpoint_steps=1875, keep_checkpoint_max=10)\n",
    "    ckpoint_cb = ModelCheckpoint(prefix=\"checkpoint_lenet\", directory=model_path, config=config_ck)\n",
    "    # define the optimizer\n",
    "\n",
    "    lrs = [0.01, 0.05]\n",
    "    epoch_sizes = [2, 5]\n",
    "    batch_sizes = [16, 32]\n",
    "    situations = [(i, j, k) for i in lrs for j in epoch_sizes for k in batch_sizes]\n",
    "    count = 1\n",
    "\n",
    "    for lr, epoch_size, batch_size in situations:\n",
    "        momentum = 0.9\n",
    "        network = LeNet5()\n",
    "        net_loss = SoftmaxCrossEntropyWithLogits(sparse=True, reduction='mean')\n",
    "        net_opt = nn.Momentum(network.trainable_params(), lr, momentum)\n",
    "        model = Model(network, net_loss, net_opt, metrics={\"Accuracy\": Accuracy()})\n",
    "        summary_collector = SummaryCollector(summary_dir=\"./summary_base/LeNet-MNIST_Data,lr:{},epoch:{},batch_size:{}\"\n",
    "                                             .format(lr, epoch_size, batch_size), collect_freq=1)\n",
    "        # Start to train\n",
    "        print(\"================= The Situation {} =================\".format(count))\n",
    "        print(\"== learning_rate:{}, epoch_size:{}, batch_size:{} ==\".format(lr, epoch_size, batch_size))\n",
    "        print(\"================ Starting Training ================\")\n",
    "        ds_train = create_dataset(os.path.join(mnist_path, \"train\"), batch_size, repeat_size)\n",
    "        model.train(epoch_size, ds_train, callbacks=[ckpoint_cb, summary_collector, LossMonitor(125)], dataset_sink_mode=True)\n",
    "\n",
    "        print(\"================ Starting Testing ================\")\n",
    "        # load testing dataset\n",
    "        ds_eval = create_dataset(os.path.join(mnist_path, \"test\"))\n",
    "        acc = model.eval(ds_eval, callbacks=[summary_collector], dataset_sink_mode=True)\n",
    "        print(\"============ Accuracy:{} ============\\n\\n\".format(acc))\n",
    "        count += 1"
   ]
  },
  {
   "cell_type": "markdown",
   "metadata": {},
   "source": [
    "## 启动MindInsight服务\n",
    "\n",
    "在ModelArts中或者Notebook中可以运行以下代码启动MindInsight。\n",
    "\n",
    "其中：\n",
    "\n",
    "- `--port`：开启的MindInsight的服务端口，默认为8080，可以设置为1~65535任意数值，本处设置为8000。\n",
    "\n",
    "- `--summary-base-dir`：Summary数据的存放路径。"
   ]
  },
  {
   "cell_type": "code",
   "execution_count": null,
   "metadata": {},
   "outputs": [],
   "source": [
    "%reload_ext mindinsight\n",
    "%mindinsight --port 8000 --summary-base-dir ./summary_base"
   ]
  },
  {
   "cell_type": "markdown",
   "metadata": {},
   "source": [
    "> 溯源分析和对比分析中模块的使用方法可以参考官方文档介绍：《[查看溯源和对比看板](https://www.mindspore.cn/mindinsight/docs/zh-CN/master/lineage_and_scalars_comparison.html)》。\n",
    ">\n",
    "> 更多的MindInsight命令可以参考《[MindInsight相关命令](https://www.mindspore.cn/mindinsight/docs/zh-CN/master/mindinsight_commands.html)》。"
   ]
  },
  {
   "cell_type": "markdown",
   "metadata": {},
   "source": [
    "## 关闭MindInsight服务\n",
    "\n",
    "在终端命令行中执行以下代码关闭MindInsight服务。\n",
    "\n",
    "```bash\n",
    "mindinsight stop --port 8000\n",
    "```\n",
    "\n",
    "> 关闭Mindinsight服务时，端口数值需与开启时的端口数值一致。"
   ]
  },
  {
   "cell_type": "markdown",
   "metadata": {},
   "source": [
    "## 溯源分析界面界面功能\n",
    "\n",
    "进入MindInsight界面如下："
   ]
  },
  {
   "cell_type": "markdown",
   "metadata": {},
   "source": [
    "![mindinsight-homepage-for-lineage](https://mindspore-website.obs.cn-north-4.myhuaweicloud.com/website-images/master/docs/notebook/mindinsight/images/mindinsight_homepage_for_lineage.png)"
   ]
  },
  {
   "cell_type": "markdown",
   "metadata": {},
   "source": [
    "### 模型溯源界面介绍"
   ]
  },
  {
   "cell_type": "markdown",
   "metadata": {},
   "source": [
    "上图训练列表中序号1-8分别是按照8组训练参数，保存的训练数据。点击右上角的溯源分析便可以进入，溯源分析包含模型溯源和数据溯源，首先是模型溯源界面，如下所示："
   ]
  },
  {
   "cell_type": "markdown",
   "metadata": {},
   "source": [
    "![model-lineage-page](https://mindspore-website.obs.cn-north-4.myhuaweicloud.com/website-images/master/docs/notebook/mindinsight/images/model_lineage_page.png)"
   ]
  },
  {
   "cell_type": "markdown",
   "metadata": {},
   "source": [
    "#### 优化目标区域\n",
    "\n",
    "可以选择模型精度值（Accuracy）或模型损失值（loss）。"
   ]
  },
  {
   "cell_type": "markdown",
   "metadata": {},
   "source": [
    "![optimization-target-page-ofmodel-lineage](https://mindspore-website.obs.cn-north-4.myhuaweicloud.com/website-images/master/docs/notebook/mindinsight/images/optimization_target_page_of_model_lineage.png)"
   ]
  },
  {
   "cell_type": "markdown",
   "metadata": {},
   "source": [
    "能直观的看出`learning_rate`、`epoch`、`batch_size`三个参数对本次训练模型的精度值和损失值的参数重要性（参数重要性的数值越接近1表示对此优化目标的影响越大，越接近0则表示对优化目标的影响越小），方便用户决策在训练时需要调整的参数。"
   ]
  },
  {
   "cell_type": "markdown",
   "metadata": {},
   "source": [
    "#### 模型训练的详细参数展示界面"
   ]
  },
  {
   "cell_type": "markdown",
   "metadata": {},
   "source": [
    "展示界面中提供了模型训练过程中的各类重要参数信息，包括：网络、优化器、训练样本数量、测试样本数量、学习率、迭代次数、`batch_size`、`device`数目、模型大小、损失函数等等，用户可以自行选择单次训练数据进行可视化分析或者多次训练数据进行可视化比对分析，提高分析效率。"
   ]
  },
  {
   "cell_type": "markdown",
   "metadata": {},
   "source": [
    "![detailed-information-page-of-model-lineage](https://mindspore-website.obs.cn-north-4.myhuaweicloud.com/website-images/master/docs/notebook/mindinsight/images/detailed_information_page_of_model_lineage.png)"
   ]
  },
  {
   "cell_type": "markdown",
   "metadata": {},
   "source": [
    "### 数据溯源界面介绍"
   ]
  },
  {
   "cell_type": "markdown",
   "metadata": {},
   "source": [
    "数据溯源展示了用户进行模型训练前的数据增强的过程，且此过程按照增强顺序进行排列。"
   ]
  },
  {
   "cell_type": "markdown",
   "metadata": {},
   "source": [
    "![data-lineage-page](https://mindspore-website.obs.cn-north-4.myhuaweicloud.com/website-images/master/docs/notebook/mindinsight/images/data_lineage_page.png)"
   ]
  },
  {
   "cell_type": "markdown",
   "metadata": {},
   "source": [
    "本例中数据增强的过程包括`MnistDataset`，`Map_TypeCast`，`Map_Resize`，`Map_Rescale`，`Map_HWC2CHW`，`Shuffle`，`Batch`等操作。\n",
    "\n",
    "- 数据集转换（`MnistDataset`）\n",
    "- label的数据类型转换（`Map_TypeCast`）\n",
    "- 图像的高宽缩放（`Map_Resize`）\n",
    "- 图像的比例缩放（`Map_Rescale`）\n",
    "- 图像数据的张量变换（`Map_HWC2CHW`）\n",
    "- 图像混洗（`Shuffle`）\n",
    "- 图像成组（`Batch`）"
   ]
  },
  {
   "cell_type": "markdown",
   "metadata": {},
   "source": [
    "## 对比分析"
   ]
  },
  {
   "cell_type": "markdown",
   "metadata": {},
   "source": [
    "### 进入对比分析界面\n",
    "\n",
    "从MindInsight主页进入对比分析界面。"
   ]
  },
  {
   "cell_type": "markdown",
   "metadata": {},
   "source": [
    "![mindinsight-homepage-for-scalars-comparison](https://mindspore-website.obs.cn-north-4.myhuaweicloud.com/website-images/master/docs/notebook/mindinsight/images/mindinsight_homepage_for_scalars_comparison.png)"
   ]
  },
  {
   "cell_type": "markdown",
   "metadata": {},
   "source": [
    "从对比分析界面中可以对比不同的训练中的标量信息，本例使用`SummaryCollector`自动保存了loss值，其他的标量信息保存，请参考[官方文档](https://www.mindspore.cn/docs/api/zh-CN/master/api_python/ops/mindspore.ops.ScalarSummary.html)。"
   ]
  },
  {
   "cell_type": "markdown",
   "metadata": {},
   "source": [
    "![scalars-comparison-page](https://mindspore-website.obs.cn-north-4.myhuaweicloud.com/website-images/master/docs/notebook/mindinsight/images/scalars_comparison_page.png)"
   ]
  },
  {
   "cell_type": "markdown",
   "metadata": {},
   "source": [
    "对比看板中可以选择对比的信息有：\n",
    "\n",
    "- 训练选择：本例有8组不同的训练参数对应的训练信息可供选择，此次选择了其中学习率（lr）分别为0.01和0.05的两组训练过程的数据进行对比。\n",
    "- 标签选择：本例保存了loss值一种标量标签。\n",
    "\n",
    "> 对比曲线可通过调整平滑度来优化显示效果。"
   ]
  },
  {
   "cell_type": "markdown",
   "metadata": {},
   "source": [
    "## 总结"
   ]
  },
  {
   "cell_type": "markdown",
   "metadata": {},
   "source": [
    "本次体验使用了MindSpore的数据收集接口`SummaryCollector`对不同训练参数下的模型训练信息进行收集，并且通过开启MindInsight服务将溯源信息和标量信息进行可视化展示，以上就是本次体验的全部内容。"
   ]
  }
 ],
 "metadata": {
  "kernelspec": {
   "display_name": "MindSpore",
   "language": "python",
   "name": "mindspore"
  },
  "language_info": {
   "codemirror_mode": {
    "name": "ipython",
    "version": 3
   },
   "file_extension": ".py",
   "mimetype": "text/x-python",
   "name": "python",
   "nbconvert_exporter": "python",
   "pygments_lexer": "ipython3",
   "version": "3.7.5"
  }
 },
 "nbformat": 4,
 "nbformat_minor": 4
}
