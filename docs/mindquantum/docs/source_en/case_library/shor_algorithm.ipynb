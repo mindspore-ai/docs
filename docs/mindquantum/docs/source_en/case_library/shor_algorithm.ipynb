{
 "cells": [
  {
   "cell_type": "markdown",
   "metadata": {},
   "source": [
    "# Shor's Algorithm Based on MindSpore Quantum\n",
    "\n",
    "[![Download Notebook](https://mindspore-website.obs.cn-north-4.myhuaweicloud.com/website-images/master/resource/_static/logo_notebook_en.svg)](https://mindspore-website.obs.cn-north-4.myhuaweicloud.com/notebook/master/mindquantum/en/case_library/mindspore_shor_algorithm.ipynb)&emsp;\n",
    "[![Download Code](https://mindspore-website.obs.cn-north-4.myhuaweicloud.com/website-images/master/resource/_static/logo_download_code_en.svg)](https://mindspore-website.obs.cn-north-4.myhuaweicloud.com/notebook/master/mindquantum/en/case_library/mindspore_shor_algorithm.py)&emsp;\n",
    "[![View Source On Gitee](https://mindspore-website.obs.cn-north-4.myhuaweicloud.com/website-images/master/resource/_static/logo_source_en.svg)](https://gitee.com/mindspore/docs/blob/master/docs/mindquantum/docs/source_en/case_library/shor_algorithm.ipynb)\n",
    "\n",
    "## Introduction to Shor's Algorithm\n",
    "\n",
    "The time complexity of Shor's algorithm to decompose an integer $N$ on a quantum computer is $logN$, which is almost exponential $e$ speedup over the most efficient known classical factorization algorithm, and this speedup may break the modern cryptography such as RSA on a quantum computer.\n",
    "\n",
    "## Basic Idea of Shor's Algorithm\n",
    "\n",
    "Shor's algorithm aims to solve the problem: given an integer $N$, find its prime factors. That is, for a given large number $N$, determine two prime factors $p1$ and $p2$ in polynomial time to satisfy $p1\\cdot p2=N$. Before introducing the Shor's algorithm, let's learn some basic knowledge of number theory.\n",
    "\n",
    "Factorization involves some knowledge in number theory, and it is possible to reduce the factorization problem to the function\n",
    "\n",
    "$$\n",
    "f(x) = a^x \\bmod N\n",
    "$$\n",
    "\n",
    "where $a$ and $N$ are relatively prime, otherwise a factor can be obtained immediately by calling $gcd(a,N)$. Since the function $f(x)$ has a period of $r$, $f(x)=f(x+r)$ is satisfied. In this case, we can get\n",
    "\n",
    "$$\n",
    "a^x = a^{x+r} \\bmod N, \\forall x\n",
    "$$\n",
    "\n",
    "Set $x=0$, we can get $a^r=1+qN$, where $q$ is an integer,\n",
    "\n",
    "$$\n",
    "a^r-1=(a^{r/2}-1)(a^{r/2}+1)=qN\n",
    "$$\n",
    "\n",
    "It indicates that the factors of $N$ can be found through finding greatest common divisor.\n",
    "\n",
    "Therefore, the main idea of Shor's algorithm is to transform the problem of factoring large numbers into the problem of finding the function's period. Since we can use the superposition principle to perform parallel computing in quantum computing, we can quickly find the period $r$ of the function $f(x)$ through quantum algorithms (for specific principles and steps, please refer to the `period finding algorithm` in this document ). In general, we need to implement the function: $f(|x\\rangle)=a^{|x\\rangle} \\bmod N$ in the quantum circuit. We can construct a unitary matrix $U_{a,N} $ where $U_{a,N}|x\\rangle |y\\rangle \\rightarrow |x\\rangle |y \\oplus f(x) \\rangle$, and then using Quantum Fourier Transform to find the period $r$ which satisfies $a^r\\equiv 1( \\bmod N)$.\n",
    "\n",
    "Taking $N=15$ as an example, the steps of Shor's algorithm is introduced as follows,\n",
    "\n",
    "1. Randomly choose a number, such as $a=2(<15)$\n",
    "\n",
    "2. Find the greatest common divisor, $\\rm gcd(a,N)=gcd(2,15)=1$\n",
    "\n",
    "3. Find the period of the function $f(x)=a^x \\bmod N$, so that $f(x+r)=f(x)$\n",
    "\n",
    "4. Running the quantum circuit we can get $r=4$\n",
    "\n",
    "5. Find the greatest common divisor, $\\gcd(a^{r/2}+1,N)=\\gcd(5,15)=5$\n",
    "\n",
    "6. Find the greatest common divisor, $\\gcd(a^{r/2}-1,N)=\\gcd(3,15)=3$\n",
    "\n",
    "7. Hence, the prime factor of $N=15$ are 3 and 5, and the decomposition operation is complete.\n",
    "\n",
    "The quantum circuit of Shor's algorithm is shown as follows:\n",
    "\n",
    "![shor's algorithm circuit](https://mindspore-website.obs.cn-north-4.myhuaweicloud.com/website-images/master/docs/mindquantum/docs/source_zh_cn/images/shor_algorithm_circuit.png)\n",
    "\n",
    "## Implementing Shor's Algorithm Using MindSpore Quantum\n",
    "\n",
    "First, we need to import some required modules."
   ]
  },
  {
   "cell_type": "code",
   "execution_count": 1,
   "metadata": {},
   "outputs": [],
   "source": [
    "#pylint: disable=W0611\n",
    "import numpy as np\n",
    "from fractions import Fraction\n",
    "from mindquantum.core.gates import X, H, UnivMathGate, Measure\n",
    "from mindquantum.core.circuit import Circuit, UN\n",
    "from mindquantum.algorithm.library import qft\n",
    "from mindquantum.simulator import Simulator"
   ]
  },
  {
   "cell_type": "markdown",
   "metadata": {},
   "source": [
    "From the basic idea of Shor's algorithm, we can see that the main part of Shor's algorithm is period finding subroutine processed by quantum computers, and the most difficult part of the period search algorithm is the operator $U$ which convert the state $|x\\rangle |y\\rangle$ into $|x\\rangle |y \\oplus f(x) \\rangle$. The quantum circuit structure of this operator is more complicated. Therefore, we will first calculate the operator $U$ through a classical computer and use it as Make an Oracle so that this document can demonstrate Shor's algorithm as a whole and intuitively.\n",
    "\n",
    "### Constructing the Oracle\n",
    "\n",
    "Shor's algorithm's core quantum part is the period finding, and its key lies in efficiently implementing a unitary operator $U_{a,N}$. This operator acts on two quantum registers (register 1 storing the exponent $x$, register 2 storing auxiliary results $y$) and performs reversible modular exponentiation.\n",
    "\n",
    "Specifically, the unitary operator $U_{a,N}$ we need to construct must precisely implement the following transformation for all possible input basis states $|x\\rangle|y\\rangle$:\n",
    "\n",
    "$$\n",
    "U_{a,N} |x\\rangle |y\\rangle = |x\\rangle |y \\oplus (a^x \\bmod N)\\rangle\n",
    "$$\n",
    "\n",
    "Where:\n",
    "\n",
    "* $|x\\rangle$ is a register of $q$ qubits, used to store the exponent from $0$ to $Q-1$ ($Q=2^q \\ge N$).\n",
    "* $|y\\rangle$ is also a register of $q$ qubits, used to store intermediate results.\n",
    "* $a^x \\bmod N$ is the result of the classical modular exponentiation.\n",
    "* $\\oplus$ represents the bitwise XOR operation. XOR is chosen to facilitate the construction of the corresponding unitary matrix (a permutation matrix) and ensure the operation's reversibility.\n",
    "\n",
    "Although the complete $|y \\oplus f(x)\\rangle$ transformation requires more complex quantum circuits (like quantum modular adders and multipliers), we can directly construct this $2^{2q} \\times 2^{2q}$ unitary matrix $U_{a,N}$. This matrix is essentially a permutation matrix that uniquely maps each input basis state $|x\\rangle|y\\rangle$ to the output basis state $|x\\rangle|y \\oplus (a^x \\bmod N)\\rangle$.\n",
    "\n",
    "**Implementation Steps:**\n",
    "\n",
    "1. **Determine the number of qubits:**\n",
    "    * **Target register (register 2):** Needs $q = \\lceil \\log_2 N \\rceil$ qubits to store $a^x \\bmod N$ (range from $0$ to $N-1$).\n",
    "    * **Control register (register 1):** Stores the exponent $x$. To ensure the Quantum Fourier Transform yields the period $r$ with high probability, the number of qubits $t_q$ should satisfy $2^{t_q} \\ge N^2$, i.e., $t_q \\ge 2 \\log_2 N$. Hence, in theory we choose $t_q = 2q$, where $Q_{ctrl} = 2^{t_q}$ is the size of the control register's state space.\n",
    "    * **Simplified approach in this tutorial:** For demonstration and resource considerations, we use $t_q = q$ qubits for the control register (thus $Q_{ctrl} = 2^q$), giving a total of $n_{total} = q + t_q = 2q$ qubits. While this works for $N=15$ and $a=2$, for larger $N$ it significantly reduces the probability of finding the correct period $r$, possibly requiring more trials or only yielding a factor of $r$, or failing.\n",
    "    * **Note on notation:** In the remainder of this tutorial, whenever we refer to the control register's qubit count or its corresponding state space size $Q$, we are referring to the simplified $q$ and $Q=2^q$.\n",
    "\n",
    "2. **Calculate modular exponentiation values:** For all $x \\in [0, Q-1]$ (where $Q = 2^q$), compute $f(x) = a^x \\bmod N$.\n",
    "\n",
    "3. **Construct the Unitary Matrix $U$:** Create a $2^n \\times 2^n$ zero matrix. For each basis state $|x\\rangle|y\\rangle$ ($x,y \\in [0,Q-1]$), compute:\n",
    "    * $idx_{in} = (x \\ll q) + y$ and $idx_{out} = (x \\ll q) + (y \\oplus f(x))$.\n",
    "    * Set $U[idx_{out}, idx_{in}] = 1$. This permutation matrix is unitary.\n",
    "\n",
    "4. **Create `UnivMathGate`:** Instantiate a `UnivMathGate` with the constructed matrix $U$ and apply it to `register2 + register1` (ensuring $y$ corresponds to the lower bits).\n",
    "\n",
    "**Example: N=15, a=2:**\n",
    "\n",
    "We need $q=4$ qubits, because $2^4 = 16 \\ge 15$. The total number of qubits $n = 2q = 8$. The Hilbert space dimension is $2^8 = 256$.\n",
    "\n",
    "We can obtain $x$ and $f(x)$:"
   ]
  },
  {
   "cell_type": "code",
   "execution_count": 2,
   "metadata": {},
   "outputs": [
    {
     "name": "stdout",
     "output_type": "stream",
     "text": [
      "x:  [0, 1, 2, 3, 4, 5, 6, 7, 8, 9, 10, 11, 12, 13, 14, 15]\n",
      "f(x):  [1, 2, 4, 8, 1, 2, 4, 8, 1, 2, 4, 8, 1, 2, 4, 8]\n"
     ]
    }
   ],
   "source": [
    "q = 4  # number of qubits\n",
    "N = 15\n",
    "a = 2\n",
    "x = []\n",
    "f = []\n",
    "for i in range(2**q):\n",
    "    x.append(i)\n",
    "    f.append(a**i % N)\n",
    "print('x: ', x)\n",
    "print('f(x): ', f)"
   ]
  },
  {
   "cell_type": "markdown",
   "metadata": {},
   "source": [
    "We can observe that $f(x)$ is indeed a periodic function.\n",
    "\n",
    "Next, we construct the unitary gate corresponding to the modular exponentiation operation:"
   ]
  },
  {
   "cell_type": "code",
   "execution_count": 3,
   "metadata": {},
   "outputs": [],
   "source": [
    "def create_mod_exp_oracle(N, a, register1, register2):\n",
    "    \"\"\"\n",
    "    Construct the gate for modular exponentiation U|x>|y> = |x>|y XOR (a^x mod N)>.\n",
    "\n",
    "    Args:\n",
    "        N (int): The number to be factored.\n",
    "        a (int): The random base chosen in Shor's algorithm.\n",
    "        register1 (list): Qubit indices for register 1 (requires q qubits where 2^q >= N).\n",
    "        register2 (list): Qubit indices for register 2 (requires q qubits where 2^q >= N).\n",
    "\n",
    "    Returns:\n",
    "        UnivMathGate: The gate corresponding to the modular exponentiation U|x>|y> = |x>|y XOR (a^x mod N)>.\n",
    "    \"\"\"\n",
    "    q = len(register1)\n",
    "    n_qubits = 2 * q\n",
    "    dim = 2**n_qubits\n",
    "    Q = 2**q\n",
    "    U_matrix = np.zeros((dim, dim), dtype=complex)\n",
    "\n",
    "    # Precompute f(x) = a^x mod N\n",
    "    fx_map = {}\n",
    "    for x in range(Q):\n",
    "        fx_map[x] = pow(a, x, N)\n",
    "\n",
    "    # Construct the permutation matrix\n",
    "    for x in range(Q):       # Iterate through states |x> of register 1\n",
    "        fx = fx_map[x]\n",
    "        for y in range(Q):   # Iterate through states |y> of register 2\n",
    "            idx_in = (x << q) + y         # Index of |x>|y>\n",
    "            idx_out = (x << q) + (y ^ fx) # Index of |x>|y XOR f(x)>\n",
    "            U_matrix[idx_out, idx_in] = 1\n",
    "\n",
    "    # Verify unitarity\n",
    "    assert np.allclose(U_matrix @ U_matrix.conj().T, np.eye(dim))\n",
    "\n",
    "    # Create the gate\n",
    "    # Note: The order in .on() is register2 + register1 to match the matrix construction where y is the lower bits\n",
    "    oracle_gate = UnivMathGate(f'ModExp({a},{N})', U_matrix).on(register2 + register1)\n",
    "    return oracle_gate"
   ]
  },
  {
   "cell_type": "markdown",
   "metadata": {},
   "source": [
    "Now, the gate constructed by the `create_mod_exp_oracle()` function can perform modular exponentiation on the quantum state $|x\\rangle$ in register 1 and store the result $a^{|x\\rangle} \\bmod N$ in register 2.\n",
    "\n",
    "#### Little-Endian Convention and Qubit Allocation\n",
    "\n",
    "MindQuantum uses the little-endian convention to represent quantum states. In this convention, the index of a qubit corresponds to its significance in representing a numerical value: **the qubit with the lowest index (index 0) represents the Least Significant Bit (LSB)**. Therefore, an N-qubit state is typically written as $|q_{N-1}...q_1q_0\\rangle$, where $q_0$ is the LSB.\n",
    "\n",
    "To naturally align MindQuantum's little-endian convention with the quantum state notation $|x\\rangle |y\\rangle$ used earlier, we perform the following qubit allocation:\n",
    "\n",
    "* **Register 1 (logical value $x$):** Qubits $q$ to $2q-1$ (higher-indexed qubits).\n",
    "* **Register 2 (logical value $y$):** Qubits $0$ to $q-1$ (lower-indexed qubits).\n",
    "\n",
    "This means that although register 1 might be depicted above register 2 in schematic diagrams of Shor's algorithm, the circuit diagram drawn by MindQuantum will show register 2 above register 1. Quantum gates and measurements will be adjusted accordingly.\n",
    "\n",
    "This allocation ensures that in MindQuantum's state vector representation, the qubits associated with the logical value $y$ (corresponding to the lower part of the numerical value) have lower indices, while the qubits associated with the logical value $x$ (corresponding to the higher part) have higher indices. The advantage is that the index of the state vector for the entire quantum state directly maps to the integer value $x \\cdot 2^q + y$, simplifying the matrix construction process for operations like `UnivMathGate`. It's important to emphasize that this index-based allocation does not change the core logical function of the Oracle, which is to modify the value of register 2 ($y$) based on the value of register 1 ($x$).\n",
    "\n",
    "#### Verify the Oracle\n",
    "\n",
    "We can verify if the Oracle works as expected by applying it to a specific initial state. For example, let's compute $U |8\\rangle |0\\rangle$. We expect to obtain $|8\\rangle |0 \\oplus (2^8 \\bmod{15})\\rangle$.\n",
    "\n",
    "Since $2^8 = 256$, and $256 \\bmod{15} = 1$, we have $0 \\oplus 1 = 1$. Therefore, we expect the final state to be $|8\\rangle|1\\rangle$.\n",
    "\n",
    "$|8\\rangle$ corresponds to binary `1000`.\n",
    "$|1\\rangle$ corresponds to binary `0001`.\n",
    "So the final state $|8\\rangle|1\\rangle$ corresponds to binary `1000 0001` (with register 1 as the higher bits)."
   ]
  },
  {
   "cell_type": "code",
   "execution_count": 4,
   "metadata": {},
   "outputs": [
    {
     "data": {
      "image/svg+xml": [
       "<svg xmlns=\"http://www.w3.org/2000/svg\" width=\"336.8\" height=\"500.0\" xmlns:xlink=\"http://www.w3.org/1999/xlink\"><rect x=\"0\" y=\"0.0\" width=\"336.8\" height=\"500.0\" fill=\"#ffffff\" /><text x=\"20.0\" y=\"40.0\" font-size=\"16px\" dominant-baseline=\"middle\" text-anchor=\"start\" font-family=\"Arial\" font-weight=\"normal\" fill=\"#252b3a\" >q0: </text><text x=\"20.0\" y=\"100.0\" font-size=\"16px\" dominant-baseline=\"middle\" text-anchor=\"start\" font-family=\"Arial\" font-weight=\"normal\" fill=\"#252b3a\" >q1: </text><text x=\"20.0\" y=\"160.0\" font-size=\"16px\" dominant-baseline=\"middle\" text-anchor=\"start\" font-family=\"Arial\" font-weight=\"normal\" fill=\"#252b3a\" >q2: </text><text x=\"20.0\" y=\"220.0\" font-size=\"16px\" dominant-baseline=\"middle\" text-anchor=\"start\" font-family=\"Arial\" font-weight=\"normal\" fill=\"#252b3a\" >q3: </text><text x=\"20.0\" y=\"280.0\" font-size=\"16px\" dominant-baseline=\"middle\" text-anchor=\"start\" font-family=\"Arial\" font-weight=\"normal\" fill=\"#252b3a\" >q4: </text><text x=\"20.0\" y=\"340.0\" font-size=\"16px\" dominant-baseline=\"middle\" text-anchor=\"start\" font-family=\"Arial\" font-weight=\"normal\" fill=\"#252b3a\" >q5: </text><text x=\"20.0\" y=\"400.0\" font-size=\"16px\" dominant-baseline=\"middle\" text-anchor=\"start\" font-family=\"Arial\" font-weight=\"normal\" fill=\"#252b3a\" >q6: </text><text x=\"20.0\" y=\"460.0\" font-size=\"16px\" dominant-baseline=\"middle\" text-anchor=\"start\" font-family=\"Arial\" font-weight=\"normal\" fill=\"#252b3a\" >q7: </text><line x1=\"48.8\" x2=\"316.8\" y1=\"40.0\" y2=\"40.0\" stroke=\"#adb0b8\" stroke-width=\"1\" /><line x1=\"48.8\" x2=\"316.8\" y1=\"100.0\" y2=\"100.0\" stroke=\"#adb0b8\" stroke-width=\"1\" /><line x1=\"48.8\" x2=\"316.8\" y1=\"160.0\" y2=\"160.0\" stroke=\"#adb0b8\" stroke-width=\"1\" /><line x1=\"48.8\" x2=\"316.8\" y1=\"220.0\" y2=\"220.0\" stroke=\"#adb0b8\" stroke-width=\"1\" /><line x1=\"48.8\" x2=\"316.8\" y1=\"280.0\" y2=\"280.0\" stroke=\"#adb0b8\" stroke-width=\"1\" /><line x1=\"48.8\" x2=\"316.8\" y1=\"340.0\" y2=\"340.0\" stroke=\"#adb0b8\" stroke-width=\"1\" /><line x1=\"48.8\" x2=\"316.8\" y1=\"400.0\" y2=\"400.0\" stroke=\"#adb0b8\" stroke-width=\"1\" /><line x1=\"48.8\" x2=\"316.8\" y1=\"460.0\" y2=\"460.0\" stroke=\"#adb0b8\" stroke-width=\"1\" /><rect x=\"72.8\" y=\"440.0\" width=\"40.0\" height=\"40\" rx=\"4\" ry=\"4\" stroke=\"#ffffff\" stroke-width=\"0\" fill=\"#5e7ce0\" fill-opacity=\"1\" /><text x=\"92.8\" y=\"460.0\" font-size=\"20px\" dominant-baseline=\"middle\" text-anchor=\"middle\" font-family=\"Arial\" font-weight=\"normal\" fill=\"#ffffff\" >X </text><rect x=\"132.8\" y=\"20.0\" width=\"160.0\" height=\"460\" rx=\"4\" ry=\"4\" stroke=\"#ffffff\" stroke-width=\"0\" fill=\"#5e7ce0\" fill-opacity=\"1\" /><text x=\"212.8\" y=\"250.0\" font-size=\"20px\" dominant-baseline=\"middle\" text-anchor=\"middle\" font-family=\"Arial\" font-weight=\"normal\" fill=\"#ffffff\" >ModExp(2,15) </text></svg>"
      ],
      "text/plain": [
       "<mindquantum.io.display.circuit_svg_drawer.SVGCircuit at 0x105c333d0>"
      ]
     },
     "execution_count": 4,
     "metadata": {},
     "output_type": "execute_result"
    }
   ],
   "source": [
    "#pylint: disable=W0104\n",
    "register1 = range(4, 8)\n",
    "register2 = range(4)\n",
    "circuit = Circuit(X.on(7))  # Create circuit, initialize state to |1000>|0000>, i.e., x=8, |8>|0>\n",
    "circuit += create_mod_exp_oracle(15, 2, list(register1), list(register2))  # Apply the oracle operator\n",
    "circuit.svg() # Print the circuit diagram"
   ]
  },
  {
   "cell_type": "code",
   "execution_count": 5,
   "metadata": {},
   "outputs": [
    {
     "name": "stdout",
     "output_type": "stream",
     "text": [
      "1¦10000001⟩\n"
     ]
    }
   ],
   "source": [
    "print(circuit.get_qs('mqvector', ket=True))  # Print the final state"
   ]
  },
  {
   "cell_type": "markdown",
   "metadata": {},
   "source": [
    "The result in register 1 is `1000`, and the result in register 2 is `0001`. We previously calculated $f(8)=2^8 \\bmod 15=1$. Therefore, the output is correct.\n",
    "\n",
    "Next, we need to implement the period finding algorithm."
   ]
  },
  {
   "cell_type": "markdown",
   "metadata": {},
   "source": [
    "### Period Finding Subroutine\n",
    "\n",
    "1. In register 1, we need $q>log_2 N$ qubits to record the binary number of the variable $x \\in [0,N-1]$, and we also need $q$ qubits in register 2 to record $f (x)=a^x \\bmod N, x \\in [0,N-1]$ binary form. At this time, register 1 and register 2 can respectively record the integers of $[0, Q-1]$, where $Q=2^q>N$.\n",
    "2. The [Hadamard](https://www.mindspore.cn/mindquantum/docs/en/master/core/gates/mindquantum.core.gates.HGate.html) gate is applied to all bits in register 1, and the bits in register 1 are in a uniform superposition state of all integers in $[0,Q-1]$\n",
    "\n",
    "    $$\n",
    "    |\\psi\\rangle=\\frac{1}{\\sqrt{Q}}\\sum_{x=0}^{Q-1}|x\\rangle\n",
    "    $$\n",
    "\n",
    "3. Perform function operation $a^{|\\psi\\rangle} \\bmod N$ on the state $|\\psi\\rangle$ stored in register 1, and store the result in register 2. This step is completed by the previously constructed U_operator . Due to the direct operation on the superposition state $|\\psi\\rangle$, this step can completed in one step, which shows the Quantum Advantage - parallel computing. At this time, the state stored in the circuit is an entangled state, which can be expressed as\n",
    "\n",
    "    $$\n",
    "    \\sum_{x=0}^{Q-1}|x\\rangle|f(x)\\rangle=\\sum_{i=0}^{r-1}(|i\\rangle+|i+r\\rangle+| i+2r\\rangle+...) |f(i)\\rangle\n",
    "    $$\n",
    "\n",
    "4. Perform an inverse Quantum Fourier Transform (iQFT) on register 1. This transform uses a $Q$-order unit root $\\omega = e^{2\\pi i/Q}$, which evenly distributes the amplitude of any given state $|x\\rangle$ on $Q$ states of $|y\\rangle$. As shown in step 3, the equivalent states of $|i\\rangle$, $|i+r\\rangle$, etc. in register 1 are all entangled with the same state $|f(i)\\rangle$ in register 2. Due to quantum interference, the final measurement probability for a state $|y\\rangle$ is larger when the phase factor $e^{2\\pi i ry / Q}$ is closer to 1 (i.e., points towards the positive real axis). In other words, the measured state $|y\\rangle$ has a high probability that $ry/Q$ is close to an integer $c$. For a more detailed mathematical description, please refer to the link: <https://en.wikipedia.org/wiki/Shor%27s_algorithm>.\n",
    "5. Measure register 1 to get the binary string. Convert the binary string to the decimal number $y$. At this point, $y/Q \\approx c/r$, where $c$ is an unknown integer. Use the continued fraction algorithm to find the irreducible fraction that approximates $y/Q$ (with denominator no larger than $N$). The denominator of this fraction is the period candidate $r$. However, there might be another fraction closer to $y/Q$, or $c$ and $r$ might share a common factor, resulting in $r$ being a factor of the true period. In such cases, the calculation fails, and we need to repeat the process.\n",
    "\n",
    "Taking the example of $N=15, a=2$ again, in `Constructing the Oracle`, we calculated each $f(x)$, from which we can directly see that the function period is 4. Now we can build the corresponding period-finding subroutine and run 100 simulations to see what we get."
   ]
  },
  {
   "cell_type": "code",
   "execution_count": 6,
   "metadata": {},
   "outputs": [
    {
     "data": {
      "image/svg+xml": [
       "<svg xmlns=\"http://www.w3.org/2000/svg\" width=\"1116.8\" height=\"500.0\" xmlns:xlink=\"http://www.w3.org/1999/xlink\"><rect x=\"0\" y=\"0.0\" width=\"1116.8\" height=\"500.0\" fill=\"#ffffff\" /><text x=\"20.0\" y=\"40.0\" font-size=\"16px\" dominant-baseline=\"middle\" text-anchor=\"start\" font-family=\"Arial\" font-weight=\"normal\" fill=\"#252b3a\" >q0: </text><text x=\"20.0\" y=\"100.0\" font-size=\"16px\" dominant-baseline=\"middle\" text-anchor=\"start\" font-family=\"Arial\" font-weight=\"normal\" fill=\"#252b3a\" >q1: </text><text x=\"20.0\" y=\"160.0\" font-size=\"16px\" dominant-baseline=\"middle\" text-anchor=\"start\" font-family=\"Arial\" font-weight=\"normal\" fill=\"#252b3a\" >q2: </text><text x=\"20.0\" y=\"220.0\" font-size=\"16px\" dominant-baseline=\"middle\" text-anchor=\"start\" font-family=\"Arial\" font-weight=\"normal\" fill=\"#252b3a\" >q3: </text><text x=\"20.0\" y=\"280.0\" font-size=\"16px\" dominant-baseline=\"middle\" text-anchor=\"start\" font-family=\"Arial\" font-weight=\"normal\" fill=\"#252b3a\" >q4: </text><text x=\"20.0\" y=\"340.0\" font-size=\"16px\" dominant-baseline=\"middle\" text-anchor=\"start\" font-family=\"Arial\" font-weight=\"normal\" fill=\"#252b3a\" >q5: </text><text x=\"20.0\" y=\"400.0\" font-size=\"16px\" dominant-baseline=\"middle\" text-anchor=\"start\" font-family=\"Arial\" font-weight=\"normal\" fill=\"#252b3a\" >q6: </text><text x=\"20.0\" y=\"460.0\" font-size=\"16px\" dominant-baseline=\"middle\" text-anchor=\"start\" font-family=\"Arial\" font-weight=\"normal\" fill=\"#252b3a\" >q7: </text><line x1=\"48.8\" x2=\"1096.8\" y1=\"40.0\" y2=\"40.0\" stroke=\"#adb0b8\" stroke-width=\"1\" /><line x1=\"48.8\" x2=\"1096.8\" y1=\"100.0\" y2=\"100.0\" stroke=\"#adb0b8\" stroke-width=\"1\" /><line x1=\"48.8\" x2=\"1096.8\" y1=\"160.0\" y2=\"160.0\" stroke=\"#adb0b8\" stroke-width=\"1\" /><line x1=\"48.8\" x2=\"1096.8\" y1=\"220.0\" y2=\"220.0\" stroke=\"#adb0b8\" stroke-width=\"1\" /><line x1=\"48.8\" x2=\"1096.8\" y1=\"280.0\" y2=\"280.0\" stroke=\"#adb0b8\" stroke-width=\"1\" /><line x1=\"48.8\" x2=\"1096.8\" y1=\"340.0\" y2=\"340.0\" stroke=\"#adb0b8\" stroke-width=\"1\" /><line x1=\"48.8\" x2=\"1096.8\" y1=\"400.0\" y2=\"400.0\" stroke=\"#adb0b8\" stroke-width=\"1\" /><line x1=\"48.8\" x2=\"1096.8\" y1=\"460.0\" y2=\"460.0\" stroke=\"#adb0b8\" stroke-width=\"1\" /><rect x=\"72.8\" y=\"260.0\" width=\"40.0\" height=\"40\" rx=\"4\" ry=\"4\" stroke=\"#ffffff\" stroke-width=\"0\" fill=\"#5e7ce0\" fill-opacity=\"1\" /><text x=\"92.8\" y=\"280.0\" font-size=\"20px\" dominant-baseline=\"middle\" text-anchor=\"middle\" font-family=\"Arial\" font-weight=\"normal\" fill=\"#ffffff\" >H </text><rect x=\"72.8\" y=\"320.0\" width=\"40.0\" height=\"40\" rx=\"4\" ry=\"4\" stroke=\"#ffffff\" stroke-width=\"0\" fill=\"#5e7ce0\" fill-opacity=\"1\" /><text x=\"92.8\" y=\"340.0\" font-size=\"20px\" dominant-baseline=\"middle\" text-anchor=\"middle\" font-family=\"Arial\" font-weight=\"normal\" fill=\"#ffffff\" >H </text><rect x=\"72.8\" y=\"380.0\" width=\"40.0\" height=\"40\" rx=\"4\" ry=\"4\" stroke=\"#ffffff\" stroke-width=\"0\" fill=\"#5e7ce0\" fill-opacity=\"1\" /><text x=\"92.8\" y=\"400.0\" font-size=\"20px\" dominant-baseline=\"middle\" text-anchor=\"middle\" font-family=\"Arial\" font-weight=\"normal\" fill=\"#ffffff\" >H </text><rect x=\"72.8\" y=\"440.0\" width=\"40.0\" height=\"40\" rx=\"4\" ry=\"4\" stroke=\"#ffffff\" stroke-width=\"0\" fill=\"#5e7ce0\" fill-opacity=\"1\" /><text x=\"92.8\" y=\"460.0\" font-size=\"20px\" dominant-baseline=\"middle\" text-anchor=\"middle\" font-family=\"Arial\" font-weight=\"normal\" fill=\"#ffffff\" >H </text><rect x=\"132.8\" y=\"20.0\" width=\"160.0\" height=\"460\" rx=\"4\" ry=\"4\" stroke=\"#ffffff\" stroke-width=\"0\" fill=\"#5e7ce0\" fill-opacity=\"1\" /><text x=\"212.8\" y=\"250.0\" font-size=\"20px\" dominant-baseline=\"middle\" text-anchor=\"middle\" font-family=\"Arial\" font-weight=\"normal\" fill=\"#ffffff\" >ModExp(2,15) </text><line x1=\"332.8\" x2=\"332.8\" y1=\"320.0\" y2=\"420.0\" stroke-width=\"3\" stroke=\"#16acff\" /><rect x=\"312.8\" y=\"320.0\" width=\"40\" height=\"40\" rx=\"4\" ry=\"4\" fill=\"#16acff\" fill-opacity=\"1\" stroke=\"#ffffff\" stroke-width=\"0\" /><path d=\"M 323.2 336.3138438763306 L 328.0 328.0 L 332.8 336.3138438763306 L 329.44 336.3138438763306 L 329.44 352.0 L 326.56 352.0 L 326.56 336.3138438763306 Z\" fill=\"#ffffff\" /><path d=\"M 342.40000000000003 343.6861561236694 L 337.6 352.0 L 332.8 343.6861561236694 L 336.16 343.6861561236694 L 336.16 328.0 L 339.04 328.0 L 339.04 343.6861561236694 Z\" fill=\"#ffffff\" /><rect x=\"312.8\" y=\"380.0\" width=\"40\" height=\"40\" rx=\"4\" ry=\"4\" fill=\"#16acff\" fill-opacity=\"1\" stroke=\"#ffffff\" stroke-width=\"0\" /><path d=\"M 323.2 396.3138438763306 L 328.0 388.0 L 332.8 396.3138438763306 L 329.44 396.3138438763306 L 329.44 412.0 L 326.56 412.0 L 326.56 396.3138438763306 Z\" fill=\"#ffffff\" /><path d=\"M 342.40000000000003 403.6861561236694 L 337.6 412.0 L 332.8 403.6861561236694 L 336.16 403.6861561236694 L 336.16 388.0 L 339.04 388.0 L 339.04 403.6861561236694 Z\" fill=\"#ffffff\" /><line x1=\"392.8\" x2=\"392.8\" y1=\"260.0\" y2=\"480.0\" stroke-width=\"3\" stroke=\"#16acff\" /><rect x=\"372.8\" y=\"260.0\" width=\"40\" height=\"40\" rx=\"4\" ry=\"4\" fill=\"#16acff\" fill-opacity=\"1\" stroke=\"#ffffff\" stroke-width=\"0\" /><path d=\"M 383.2 276.3138438763306 L 388.0 268.0 L 392.8 276.3138438763306 L 389.44 276.3138438763306 L 389.44 292.0 L 386.56 292.0 L 386.56 276.3138438763306 Z\" fill=\"#ffffff\" /><path d=\"M 402.40000000000003 283.6861561236694 L 397.6 292.0 L 392.8 283.6861561236694 L 396.16 283.6861561236694 L 396.16 268.0 L 399.04 268.0 L 399.04 283.6861561236694 Z\" fill=\"#ffffff\" /><rect x=\"372.8\" y=\"440.0\" width=\"40\" height=\"40\" rx=\"4\" ry=\"4\" fill=\"#16acff\" fill-opacity=\"1\" stroke=\"#ffffff\" stroke-width=\"0\" /><path d=\"M 383.2 456.3138438763306 L 388.0 448.0 L 392.8 456.3138438763306 L 389.44 456.3138438763306 L 389.44 472.0 L 386.56 472.0 L 386.56 456.3138438763306 Z\" fill=\"#ffffff\" /><path d=\"M 402.40000000000003 463.6861561236694 L 397.6 472.0 L 392.8 463.6861561236694 L 396.16 463.6861561236694 L 396.16 448.0 L 399.04 448.0 L 399.04 463.6861561236694 Z\" fill=\"#ffffff\" /><rect x=\"432.8\" y=\"260.0\" width=\"40.0\" height=\"40\" rx=\"4\" ry=\"4\" stroke=\"#ffffff\" stroke-width=\"0\" fill=\"#5e7ce0\" fill-opacity=\"1\" /><text x=\"452.8\" y=\"280.0\" font-size=\"20px\" dominant-baseline=\"middle\" text-anchor=\"middle\" font-family=\"Arial\" font-weight=\"normal\" fill=\"#ffffff\" >H </text><circle cx=\"512.8\" cy=\"280.0\" r=\"4\" fill=\"#fac209\" /><line x1=\"512.8\" x2=\"512.8\" y1=\"280.0\" y2=\"340.0\" stroke=\"#fac209\" stroke-width=\"3\" /><rect x=\"492.8\" y=\"320.0\" width=\"40.0\" height=\"40\" rx=\"4\" ry=\"4\" stroke=\"#ffffff\" stroke-width=\"0\" fill=\"#fac209\" fill-opacity=\"1\" /><text x=\"512.8\" y=\"336.0\" font-size=\"20px\" dominant-baseline=\"middle\" text-anchor=\"middle\" font-family=\"Arial\" font-weight=\"normal\" fill=\"#ffffff\" >PS </text><text x=\"512.8\" y=\"352.0\" font-size=\"14.0px\" dominant-baseline=\"middle\" text-anchor=\"middle\" font-family=\"Arial\" font-weight=\"normal\" fill=\"#ffffff\" >-π/2 </text><rect x=\"552.8\" y=\"320.0\" width=\"40.0\" height=\"40\" rx=\"4\" ry=\"4\" stroke=\"#ffffff\" stroke-width=\"0\" fill=\"#5e7ce0\" fill-opacity=\"1\" /><text x=\"572.8\" y=\"340.0\" font-size=\"20px\" dominant-baseline=\"middle\" text-anchor=\"middle\" font-family=\"Arial\" font-weight=\"normal\" fill=\"#ffffff\" >H </text><circle cx=\"632.8\" cy=\"280.0\" r=\"4\" fill=\"#fac209\" /><line x1=\"632.8\" x2=\"632.8\" y1=\"280.0\" y2=\"400.0\" stroke=\"#fac209\" stroke-width=\"3\" /><rect x=\"612.8\" y=\"380.0\" width=\"40.0\" height=\"40\" rx=\"4\" ry=\"4\" stroke=\"#ffffff\" stroke-width=\"0\" fill=\"#fac209\" fill-opacity=\"1\" /><text x=\"632.8\" y=\"396.0\" font-size=\"20px\" dominant-baseline=\"middle\" text-anchor=\"middle\" font-family=\"Arial\" font-weight=\"normal\" fill=\"#ffffff\" >PS </text><text x=\"632.8\" y=\"412.0\" font-size=\"14.0px\" dominant-baseline=\"middle\" text-anchor=\"middle\" font-family=\"Arial\" font-weight=\"normal\" fill=\"#ffffff\" >-π/4 </text><circle cx=\"692.8\" cy=\"340.0\" r=\"4\" fill=\"#fac209\" /><line x1=\"692.8\" x2=\"692.8\" y1=\"340.0\" y2=\"400.0\" stroke=\"#fac209\" stroke-width=\"3\" /><rect x=\"672.8\" y=\"380.0\" width=\"40.0\" height=\"40\" rx=\"4\" ry=\"4\" stroke=\"#ffffff\" stroke-width=\"0\" fill=\"#fac209\" fill-opacity=\"1\" /><text x=\"692.8\" y=\"396.0\" font-size=\"20px\" dominant-baseline=\"middle\" text-anchor=\"middle\" font-family=\"Arial\" font-weight=\"normal\" fill=\"#ffffff\" >PS </text><text x=\"692.8\" y=\"412.0\" font-size=\"14.0px\" dominant-baseline=\"middle\" text-anchor=\"middle\" font-family=\"Arial\" font-weight=\"normal\" fill=\"#ffffff\" >-π/2 </text><rect x=\"732.8\" y=\"380.0\" width=\"40.0\" height=\"40\" rx=\"4\" ry=\"4\" stroke=\"#ffffff\" stroke-width=\"0\" fill=\"#5e7ce0\" fill-opacity=\"1\" /><text x=\"752.8\" y=\"400.0\" font-size=\"20px\" dominant-baseline=\"middle\" text-anchor=\"middle\" font-family=\"Arial\" font-weight=\"normal\" fill=\"#ffffff\" >H </text><circle cx=\"812.8\" cy=\"280.0\" r=\"4\" fill=\"#fac209\" /><line x1=\"812.8\" x2=\"812.8\" y1=\"280.0\" y2=\"460.0\" stroke=\"#fac209\" stroke-width=\"3\" /><rect x=\"792.8\" y=\"440.0\" width=\"40.0\" height=\"40\" rx=\"4\" ry=\"4\" stroke=\"#ffffff\" stroke-width=\"0\" fill=\"#fac209\" fill-opacity=\"1\" /><text x=\"812.8\" y=\"456.0\" font-size=\"20px\" dominant-baseline=\"middle\" text-anchor=\"middle\" font-family=\"Arial\" font-weight=\"normal\" fill=\"#ffffff\" >PS </text><text x=\"812.8\" y=\"472.0\" font-size=\"14.0px\" dominant-baseline=\"middle\" text-anchor=\"middle\" font-family=\"Arial\" font-weight=\"normal\" fill=\"#ffffff\" >-π/8 </text><circle cx=\"872.8\" cy=\"340.0\" r=\"4\" fill=\"#fac209\" /><line x1=\"872.8\" x2=\"872.8\" y1=\"340.0\" y2=\"460.0\" stroke=\"#fac209\" stroke-width=\"3\" /><rect x=\"852.8\" y=\"440.0\" width=\"40.0\" height=\"40\" rx=\"4\" ry=\"4\" stroke=\"#ffffff\" stroke-width=\"0\" fill=\"#fac209\" fill-opacity=\"1\" /><text x=\"872.8\" y=\"456.0\" font-size=\"20px\" dominant-baseline=\"middle\" text-anchor=\"middle\" font-family=\"Arial\" font-weight=\"normal\" fill=\"#ffffff\" >PS </text><text x=\"872.8\" y=\"472.0\" font-size=\"14.0px\" dominant-baseline=\"middle\" text-anchor=\"middle\" font-family=\"Arial\" font-weight=\"normal\" fill=\"#ffffff\" >-π/4 </text><circle cx=\"932.8\" cy=\"400.0\" r=\"4\" fill=\"#fac209\" /><line x1=\"932.8\" x2=\"932.8\" y1=\"400.0\" y2=\"460.0\" stroke=\"#fac209\" stroke-width=\"3\" /><rect x=\"912.8\" y=\"440.0\" width=\"40.0\" height=\"40\" rx=\"4\" ry=\"4\" stroke=\"#ffffff\" stroke-width=\"0\" fill=\"#fac209\" fill-opacity=\"1\" /><text x=\"932.8\" y=\"456.0\" font-size=\"20px\" dominant-baseline=\"middle\" text-anchor=\"middle\" font-family=\"Arial\" font-weight=\"normal\" fill=\"#ffffff\" >PS </text><text x=\"932.8\" y=\"472.0\" font-size=\"14.0px\" dominant-baseline=\"middle\" text-anchor=\"middle\" font-family=\"Arial\" font-weight=\"normal\" fill=\"#ffffff\" >-π/2 </text><rect x=\"972.8\" y=\"440.0\" width=\"40.0\" height=\"40\" rx=\"4\" ry=\"4\" stroke=\"#ffffff\" stroke-width=\"0\" fill=\"#5e7ce0\" fill-opacity=\"1\" /><text x=\"992.8\" y=\"460.0\" font-size=\"20px\" dominant-baseline=\"middle\" text-anchor=\"middle\" font-family=\"Arial\" font-weight=\"normal\" fill=\"#ffffff\" >H </text><rect x=\"852.8\" y=\"260.0\" width=\"40\" height=\"40\" rx=\"4\" ry=\"4\" stroke=\"#ffffff\" stroke-width=\"0\" fill=\"#ff7272\" fill-opacity=\"1\" /><circle cx=\"872.8\" cy=\"290.4\" r=\"1.6\" fill=\"#ffffff\" /><path d=\"M 860.0 290.4 A 12.8 12.8 0 0 1 885.5999999999999 290.4\" stroke=\"#ffffff\" stroke-width=\"2.4000000000000004\" fill-opacity=\"0\" /><path d=\"M 876.9018483174859 273.9353903091735 L 885.2156921938165 269.13539030917343 L 885.2156921938165 278.73539030917345 L 881.8901546432843 276.8153903091735 L 874.0470765814496 290.4 L 872.3843078061834 289.44 L 880.2273858680181 275.85539030917346 Z\" fill=\"#ffffff\" /><rect x=\"912.8\" y=\"320.0\" width=\"40\" height=\"40\" rx=\"4\" ry=\"4\" stroke=\"#ffffff\" stroke-width=\"0\" fill=\"#ff7272\" fill-opacity=\"1\" /><circle cx=\"932.8\" cy=\"350.4\" r=\"1.6\" fill=\"#ffffff\" /><path d=\"M 920.0 350.4 A 12.8 12.8 0 0 1 945.5999999999999 350.4\" stroke=\"#ffffff\" stroke-width=\"2.4000000000000004\" fill-opacity=\"0\" /><path d=\"M 936.9018483174859 333.93539030917344 L 945.2156921938165 329.1353903091735 L 945.2156921938165 338.73539030917345 L 941.8901546432843 336.8153903091735 L 934.0470765814496 350.4 L 932.3843078061834 349.44 L 940.2273858680181 335.85539030917346 Z\" fill=\"#ffffff\" /><rect x=\"972.8\" y=\"380.0\" width=\"40\" height=\"40\" rx=\"4\" ry=\"4\" stroke=\"#ffffff\" stroke-width=\"0\" fill=\"#ff7272\" fill-opacity=\"1\" /><circle cx=\"992.8\" cy=\"410.4\" r=\"1.6\" fill=\"#ffffff\" /><path d=\"M 980.0 410.4 A 12.8 12.8 0 0 1 1005.5999999999999 410.4\" stroke=\"#ffffff\" stroke-width=\"2.4000000000000004\" fill-opacity=\"0\" /><path d=\"M 996.9018483174859 393.93539030917344 L 1005.2156921938165 389.1353903091735 L 1005.2156921938165 398.73539030917345 L 1001.8901546432843 396.8153903091735 L 994.0470765814496 410.4 L 992.3843078061834 409.44 L 1000.2273858680181 395.85539030917346 Z\" fill=\"#ffffff\" /><rect x=\"1032.8\" y=\"440.0\" width=\"40\" height=\"40\" rx=\"4\" ry=\"4\" stroke=\"#ffffff\" stroke-width=\"0\" fill=\"#ff7272\" fill-opacity=\"1\" /><circle cx=\"1052.8\" cy=\"470.4\" r=\"1.6\" fill=\"#ffffff\" /><path d=\"M 1040.0 470.4 A 12.8 12.8 0 0 1 1065.6 470.4\" stroke=\"#ffffff\" stroke-width=\"2.4000000000000004\" fill-opacity=\"0\" /><path d=\"M 1056.901848317486 453.93539030917344 L 1065.2156921938165 449.1353903091735 L 1065.2156921938165 458.73539030917345 L 1061.8901546432844 456.8153903091735 L 1054.0470765814496 470.4 L 1052.3843078061834 469.44 L 1060.2273858680182 455.85539030917346 Z\" fill=\"#ffffff\" /></svg>"
      ],
      "text/plain": [
       "<mindquantum.io.display.circuit_svg_drawer.SVGCircuit at 0x306352200>"
      ]
     },
     "execution_count": 6,
     "metadata": {},
     "output_type": "execute_result"
    }
   ],
   "source": [
    "#pylint: disable=W0104\n",
    "circuit = Circuit() # Create a quantum circuit\n",
    "register1 = range(4, 8) # Set qubits 4-7 to register 1\n",
    "register2 = range(4)    # Set qubits 0-3 to register 2\n",
    "\n",
    "circuit += UN(H, register1) # Apply H gate to all bits in register 1\n",
    "\n",
    "# Perform the modular exponentiation operation using the Oracle\n",
    "# U|x>|y> -> |x>|y XOR a^x mod N>\n",
    "circuit += create_mod_exp_oracle(15, 2, list(register1), list(register2))\n",
    "\n",
    "# Perform the inverse Quantum Fourier Transform on register 1.\n",
    "# Note the qubit order for QFT: [::-1] reverses the register order for correct transformation.\n",
    "circuit += qft(register1[::-1]).hermitian()\n",
    "circuit += UN(Measure(), register1) # Measure register 1\n",
    "\n",
    "circuit.svg() # Draw a circuit diagram"
   ]
  },
  {
   "cell_type": "markdown",
   "metadata": {},
   "source": [
    "From the circuit diagram, we can intuitively see that the entire period-finding circuit consists of four parts: Superposition Generation $\\rightarrow$ Function Operation $\\rightarrow$ Inverse Fourier Transform $\\rightarrow$ Measurement.\n",
    "\n",
    "Next, run the circuit 100 times and observe the measurement results."
   ]
  },
  {
   "cell_type": "code",
   "execution_count": 7,
   "metadata": {},
   "outputs": [
    {
     "data": {
      "image/svg+xml": [
       "<svg xmlns=\"http://www.w3.org/2000/svg\" width=\"422.8\" height=\"207.0\" xmlns:xlink=\"http://www.w3.org/1999/xlink\"><rect x=\"0\" y=\"0\" width=\"422.8\" height=\"207.0\" fill=\"#ffffff\" /><text x=\"10\" y=\"17.0\" font-size=\"14px\" dominant-baseline=\"middle\" text-anchor=\"start\" >Shots:\n",
       " 100 </text><text x=\"10\" y=\"31.0\" font-size=\"14px\" dominant-baseline=\"middle\" text-anchor=\"start\" >Keys: q7 q6 q5 q4 </text><line x1=\"52.8\" x2=\"412.8\" y1=\"62.0\" y2=\"62.0\" stroke=\"#adb0b8\" stroke-width=\"1\" /><line x1=\"52.8\" x2=\"52.8\" y1=\"55.0\" y2=\"62.0\" stroke=\"#adb0b8\" stroke-width=\"1\" /><text x=\"54.8\" y=\"60.0\" font-size=\"12px\" dominant-baseline=\"bottom\" text-anchor=\"start\" fill=\"#575d6c\" >0.0 </text><line x1=\"52.8\" x2=\"52.8\" y1=\"62.0\" y2=\"197.0\" stroke=\"#adb0b8\" stroke-width=\"1\" /><line x1=\"112.8\" x2=\"112.8\" y1=\"55.0\" y2=\"62.0\" stroke=\"#adb0b8\" stroke-width=\"1\" /><text x=\"114.8\" y=\"60.0\" font-size=\"12px\" dominant-baseline=\"bottom\" text-anchor=\"start\" fill=\"#575d6c\" >0.064 </text><line x1=\"112.8\" x2=\"112.8\" y1=\"62.0\" y2=\"197.0\" stroke=\"#dfe1e6\" stroke-width=\"1\" /><line x1=\"172.8\" x2=\"172.8\" y1=\"55.0\" y2=\"62.0\" stroke=\"#adb0b8\" stroke-width=\"1\" /><text x=\"174.8\" y=\"60.0\" font-size=\"12px\" dominant-baseline=\"bottom\" text-anchor=\"start\" fill=\"#575d6c\" >0.128 </text><line x1=\"172.8\" x2=\"172.8\" y1=\"62.0\" y2=\"197.0\" stroke=\"#dfe1e6\" stroke-width=\"1\" /><line x1=\"232.8\" x2=\"232.8\" y1=\"55.0\" y2=\"62.0\" stroke=\"#adb0b8\" stroke-width=\"1\" /><text x=\"234.8\" y=\"60.0\" font-size=\"12px\" dominant-baseline=\"bottom\" text-anchor=\"start\" fill=\"#575d6c\" >0.192 </text><line x1=\"232.8\" x2=\"232.8\" y1=\"62.0\" y2=\"197.0\" stroke=\"#dfe1e6\" stroke-width=\"1\" /><line x1=\"292.8\" x2=\"292.8\" y1=\"55.0\" y2=\"62.0\" stroke=\"#adb0b8\" stroke-width=\"1\" /><text x=\"294.8\" y=\"60.0\" font-size=\"12px\" dominant-baseline=\"bottom\" text-anchor=\"start\" fill=\"#575d6c\" >0.256 </text><line x1=\"292.8\" x2=\"292.8\" y1=\"62.0\" y2=\"197.0\" stroke=\"#dfe1e6\" stroke-width=\"1\" /><line x1=\"352.8\" x2=\"352.8\" y1=\"55.0\" y2=\"62.0\" stroke=\"#adb0b8\" stroke-width=\"1\" /><text x=\"354.8\" y=\"60.0\" font-size=\"12px\" dominant-baseline=\"bottom\" text-anchor=\"start\" fill=\"#575d6c\" >0.32 </text><line x1=\"352.8\" x2=\"352.8\" y1=\"62.0\" y2=\"197.0\" stroke=\"#dfe1e6\" stroke-width=\"1\" /><text x=\"43.8\" y=\"85.0\" font-size=\"12px\" dominant-baseline=\"middle\" text-anchor=\"end\" fill=\"#575d6c\" >0000 </text><line x1=\"45.8\" x2=\"52.8\" y1=\"85.0\" y2=\"85.0\" stroke=\"#adb0b8\" stroke-width=\"1\" /><rect x=\"52.8\" y=\"73.0\" width=\"262.5\" height=\"24\" id=\"bar_0_1747394568814483000\" fill=\"#5e7ce0\" /><text x=\"325.3\" y=\"85.0\" font-size=\"14px\" dominant-baseline=\"middle\" text-anchor=\"start\" fill=\"#575d6c\" id=\"bar_text_0_1747394568814503000\" fill-opacity=\"0\" >28 </text><text x=\"43.8\" y=\"115.0\" font-size=\"12px\" dominant-baseline=\"middle\" text-anchor=\"end\" fill=\"#575d6c\" >0100 </text><line x1=\"45.8\" x2=\"52.8\" y1=\"115.0\" y2=\"115.0\" stroke=\"#adb0b8\" stroke-width=\"1\" /><rect x=\"52.8\" y=\"103.0\" width=\"178.125\" height=\"24\" id=\"bar_1_1747394568814523000\" fill=\"#16acff\" /><text x=\"240.925\" y=\"115.0\" font-size=\"14px\" dominant-baseline=\"middle\" text-anchor=\"start\" fill=\"#575d6c\" id=\"bar_text_1_1747394568814533000\" fill-opacity=\"0\" >19 </text><text x=\"43.8\" y=\"145.0\" font-size=\"12px\" dominant-baseline=\"middle\" text-anchor=\"end\" fill=\"#575d6c\" >1000 </text><line x1=\"45.8\" x2=\"52.8\" y1=\"145.0\" y2=\"145.0\" stroke=\"#adb0b8\" stroke-width=\"1\" /><rect x=\"52.8\" y=\"133.0\" width=\"300.0\" height=\"24\" id=\"bar_2_1747394568814551000\" fill=\"#5e7ce0\" /><text x=\"362.8\" y=\"145.0\" font-size=\"14px\" dominant-baseline=\"middle\" text-anchor=\"start\" fill=\"#575d6c\" id=\"bar_text_2_1747394568814565000\" fill-opacity=\"0\" >32 </text><text x=\"43.8\" y=\"175.0\" font-size=\"12px\" dominant-baseline=\"middle\" text-anchor=\"end\" fill=\"#575d6c\" >1100 </text><line x1=\"45.8\" x2=\"52.8\" y1=\"175.0\" y2=\"175.0\" stroke=\"#adb0b8\" stroke-width=\"1\" /><rect x=\"52.8\" y=\"163.0\" width=\"196.875\" height=\"24\" id=\"bar_3_1747394568814582000\" fill=\"#16acff\" /><text x=\"259.675\" y=\"175.0\" font-size=\"14px\" dominant-baseline=\"middle\" text-anchor=\"start\" fill=\"#575d6c\" id=\"bar_text_3_1747394568814594000\" fill-opacity=\"0\" >21 </text><animate xlink:href=\"#bar_0_1747394568814483000\" attributeName=\"width\" from=\"0\" to=\"262.5\" dur=\"0.3s\" calcMode=\"spline\" values=\"0; 262.5\" keyTimes=\"0; 1\" keySplines=\"0.42 0 1 0.8;\" fill=\"freeze\" /><animate xlink:href=\"#bar_1_1747394568814523000\" attributeName=\"width\" from=\"0\" to=\"178.125\" dur=\"0.3s\" calcMode=\"spline\" values=\"0; 178.125\" keyTimes=\"0; 1\" keySplines=\"0.42 0 1 0.8;\" fill=\"freeze\" /><animate xlink:href=\"#bar_2_1747394568814551000\" attributeName=\"width\" from=\"0\" to=\"300.0\" dur=\"0.3s\" calcMode=\"spline\" values=\"0; 300.0\" keyTimes=\"0; 1\" keySplines=\"0.42 0 1 0.8;\" fill=\"freeze\" /><animate xlink:href=\"#bar_3_1747394568814582000\" attributeName=\"width\" from=\"0\" to=\"196.875\" dur=\"0.3s\" calcMode=\"spline\" values=\"0; 196.875\" keyTimes=\"0; 1\" keySplines=\"0.42 0 1 0.8;\" fill=\"freeze\" /><animate xlink:href=\"#bar_2_1747394568814551000\" attributeName=\"fill\" from=\"#5e7ce0\" to=\"#fac209\" dur=\"0.15s\" calcMode=\"spline\" values=\"#5e7ce0; #fac209\" keyTimes=\"0; 1\" keySplines=\"0.42 0 1 0.8;\" fill=\"freeze\" begin=\"0.3s\" /><animate xlink:href=\"#bar_text_0_1747394568814503000\" attributeName=\"fill-opacity\" from=\"0\" to=\"1\" dur=\"0.15s\" calcMode=\"spline\" values=\"0; 1\" keyTimes=\"0; 1\" keySplines=\"0.42 0 1 0.8;\" fill=\"freeze\" begin=\"0.3s\" /><animate xlink:href=\"#bar_text_1_1747394568814533000\" attributeName=\"fill-opacity\" from=\"0\" to=\"1\" dur=\"0.15s\" calcMode=\"spline\" values=\"0; 1\" keyTimes=\"0; 1\" keySplines=\"0.42 0 1 0.8;\" fill=\"freeze\" begin=\"0.3s\" /><animate xlink:href=\"#bar_text_2_1747394568814565000\" attributeName=\"fill-opacity\" from=\"0\" to=\"1\" dur=\"0.15s\" calcMode=\"spline\" values=\"0; 1\" keyTimes=\"0; 1\" keySplines=\"0.42 0 1 0.8;\" fill=\"freeze\" begin=\"0.3s\" /><animate xlink:href=\"#bar_text_3_1747394568814594000\" attributeName=\"fill-opacity\" from=\"0\" to=\"1\" dur=\"0.15s\" calcMode=\"spline\" values=\"0; 1\" keyTimes=\"0; 1\" keySplines=\"0.42 0 1 0.8;\" fill=\"freeze\" begin=\"0.3s\" /><text x=\"213.9\" y=\"41.0\" font-size=\"14px\" dominant-baseline=\"middle\" text-anchor=\"middle\" >probability </text></svg>"
      ],
      "text/plain": [
       "<mindquantum.io.display.measure_res_svg_drawer.SVGMeasure at 0x306408b20>"
      ]
     },
     "execution_count": 7,
     "metadata": {},
     "output_type": "execute_result"
    }
   ],
   "source": [
    "# pylint: disable=W0104\n",
    "sim = Simulator('mqvector', circuit.n_qubits) # Create a quantum circuit simulator\n",
    "\n",
    "# Simulate the circuit 100 times, print the measurement results, set the random seed to a random integer within 100\n",
    "result = sim.sampling(circuit, shots=100, seed=np.random.randint(100))\n",
    "\n",
    "result.svg()"
   ]
  },
  {
   "cell_type": "markdown",
   "metadata": {},
   "source": [
    "From the statistical results, we can see that only 4 states can be measured in the last register 1, which are $y=[0,4,8,12]$. This is because $\\omega^{2\\pi iry/Q}, (Q=16)$ is exactly 1 when $y$ takes these four values, while other states cancel out to zero probability amplitude due to quantum interference. Substituting the measurement results into $\\frac{y}{Q}\\sim\\frac{c}{r}$, we can see that the formula indeed holds. We have about a 50% probability of getting the correct period $r$, but about a 25% probability of getting a factor of $r$, and a 25% probability of getting the 0 state. The latter two cases require recalculation.\n",
    "\n",
    "Next we are going to construct a general period-finding algorithm."
   ]
  },
  {
   "cell_type": "code",
   "execution_count": 8,
   "metadata": {},
   "outputs": [],
   "source": [
    "def period_finder(N, a, q):\n",
    "    circuit = Circuit()  # Create a quantum circuit\n",
    "    register1 = range(q, 2 * q)  # Set qubits q to 2q-1 for register 1\n",
    "    register2 = range(q)  # Set qubits 0 to q-1 for register 2\n",
    "\n",
    "    circuit += UN(H, register1)  # Apply H gate to all qubits in register 1\n",
    "\n",
    "    # Apply the modular exponentiation Oracle as one big U gate\n",
    "    circuit += create_mod_exp_oracle(N, a, list(register1), list(register2))\n",
    "\n",
    "    circuit += qft(register1[::-1]).hermitian()  # Perform inverse QFT on register 1 (note reversed order)\n",
    "    circuit += UN(Measure(), register1)  # Measure register 1\n",
    "\n",
    "    sim = Simulator('mqvector', circuit.n_qubits)  # Create a quantum circuit simulator\n",
    "\n",
    "    # Simulate the circuit once, collect the measurement result, random seed in [0,100)\n",
    "    result = sim.sampling(circuit, seed=np.random.randint(100), shots=1)\n",
    "\n",
    "    # result.data is a dict where key is measured binary string, value is count (1)\n",
    "    result = list(result.data.keys())[0]  # Get the measured binary string\n",
    "    result = int(result, 2)  # Convert the result from binary to decimal\n",
    "\n",
    "    # Use continued fraction to approximate result/2**q with denominator <= N\n",
    "    eigenphase = float(result / 2**q)\n",
    "    f = Fraction.from_float(eigenphase).limit_denominator(N)\n",
    "    r = f.denominator  # The denominator is the period candidate\n",
    "\n",
    "    # Verify if r is the actual period\n",
    "    if pow(a, r, N) == 1:\n",
    "        return r\n",
    "    return None"
   ]
  },
  {
   "cell_type": "markdown",
   "metadata": {},
   "source": [
    "### Classic Computer Part\n",
    "\n",
    "The classical computer part is responsible for transforming the factorization problem into the problem of finding function period. The specific steps are as follows:\n",
    "\n",
    "1. Randomly pick an integer $a$ less than $N$, use the gcd algorithm to verify whether $a$ and $N$ are mutually prime, if there is a common factor between $a$ and $N$, then we directly get one of $N$'s factor, output the result.\n",
    "\n",
    "2. Determine the number of qubits $q$ required to store the binary representation of $N$ (such that $2^q \\ge N$).\n",
    "\n",
    "3. Use the period finding algorithm (quantum part) to get the period $r$ of the function $f(x)=a^x \\bmod N$.\n",
    "\n",
    "4. Determine whether $r$ is an even number. If not, go back to step 1.\n",
    "\n",
    "5. Calculate $a^{r/2}+1$ and $a^{r/2}-1$. Compute the greatest common divisor (gcd) of each of these with $N$. One of these gcds might be a non-trivial factor of $N$. However, it's possible that $a^{r/2}+1$ is divisible by $N$, or the gcd is 1 or N. If a non-trivial factor is found, output the factors. Otherwise (e.g., if $r$ is odd or the gcds are trivial), go back to step 1."
   ]
  },
  {
   "cell_type": "code",
   "execution_count": 9,
   "metadata": {},
   "outputs": [],
   "source": [
    "#pylint: disable=C0121,R1705\n",
    "def shor(N):\n",
    "    while True:\n",
    "        a = np.random.randint(N - 2) + 2  # Generate a random integer a in [2, N-1]\n",
    "        b = np.gcd(a, N)  # Compute gcd(a, N)\n",
    "        if b != 1:\n",
    "            return b, int(N / b)  # Found a factor\n",
    "\n",
    "        # Determine the number of bits q such that 2**q >= N\n",
    "        q = 0\n",
    "        while True:\n",
    "            Q = 2**q\n",
    "            if Q >= N:\n",
    "                break\n",
    "            q += 1\n",
    "\n",
    "        print(f'Trying base a = {a} with {q} qubits for x register...')\n",
    "        r = period_finder(N, a, q)  # Get the period r\n",
    "\n",
    "        # If r is not even or not found, retry\n",
    "        if r is None or r % 2 != 0:\n",
    "            continue\n",
    "        break\n",
    "\n",
    "    # Compute potential factors\n",
    "    c = np.gcd(a**(r // 2) + 1, N)\n",
    "    d = np.gcd(a**(r // 2) - 1, N)\n",
    "    if c != 1 and N % c == 0:\n",
    "        return c, int(N / c)\n",
    "    else:\n",
    "        return d, int(N / d)"
   ]
  },
  {
   "cell_type": "markdown",
   "metadata": {},
   "source": [
    "It should be noted that since we directly constructed the oracle as a huge unitary matrix gate, the simulation time has increased significantly. Therefore, for cases where $N>55$, it may take a long time to get the result.\n",
    "Furthermore, due to the simplified control register qubit count mentioned earlier, the probability of finding the correct period $r$ decreases for larger values of $N$.\n",
    "\n",
    "Finally, let's try to factor $N=35$ using the Shor's algorithm we have written."
   ]
  },
  {
   "cell_type": "code",
   "execution_count": 10,
   "metadata": {},
   "outputs": [
    {
     "name": "stdout",
     "output_type": "stream",
     "text": [
      "Factoring N = p * q = 35\n",
      "p = 5\n",
      "q = 7\n"
     ]
    }
   ],
   "source": [
    "N = 35\n",
    "print(\"Factoring N = p * q =\", N)\n",
    "\n",
    "p, q = shor(N)\n",
    "\n",
    "print(\"p =\", p)\n",
    "print(\"q =\", q)\n"
   ]
  },
  {
   "cell_type": "markdown",
   "metadata": {},
   "source": [
    "As we can see from the results, we successfully decomposed 35 into two prime factors 5 and 7.\n",
    "\n",
    "So far, we have successfully implemented the Shor's algorithm using MindSpore Quantum."
   ]
  },
  {
   "cell_type": "code",
   "execution_count": 11,
   "metadata": {},
   "outputs": [
    {
     "data": {
      "text/html": [
       "\n",
       "<table border=\"1\">\n",
       "  <tr>\n",
       "    <th>Software</th>\n",
       "    <th>Version</th>\n",
       "  </tr>\n",
       "<tr><td>mindquantum</td><td>0.10.0</td></tr>\n",
       "<tr><td>scipy</td><td>1.15.2</td></tr>\n",
       "<tr><td>numpy</td><td>1.26.4</td></tr>\n",
       "<tr>\n",
       "    <th>System</th>\n",
       "    <th>Info</th>\n",
       "</tr>\n",
       "<tr><td>Python</td><td>3.10.16</td></tr><tr><td>OS</td><td>Darwin arm64</td></tr><tr><td>Memory</td><td>17.18 GB</td></tr><tr><td>CPU Max Thread</td><td>10</td></tr><tr><td>Date</td><td>Fri May 16 19:22:48 2025</td></tr>\n",
       "</table>\n"
      ],
      "text/plain": [
       "<mindquantum.utils.show_info.InfoTable at 0x306353f70>"
      ]
     },
     "execution_count": 11,
     "metadata": {},
     "output_type": "execute_result"
    }
   ],
   "source": [
    "from mindquantum.utils.show_info import InfoTable\n",
    "\n",
    "InfoTable('mindquantum', 'scipy', 'numpy')"
   ]
  }
 ],
 "metadata": {
  "kernelspec": {
   "display_name": "tmp310",
   "language": "python",
   "name": "python3"
  },
  "language_info": {
   "codemirror_mode": {
    "name": "ipython",
    "version": 3
   },
   "file_extension": ".py",
   "mimetype": "text/x-python",
   "name": "python",
   "nbconvert_exporter": "python",
   "pygments_lexer": "ipython3",
   "version": "3.10.16"
  }
 },
 "nbformat": 4,
 "nbformat_minor": 2
}
