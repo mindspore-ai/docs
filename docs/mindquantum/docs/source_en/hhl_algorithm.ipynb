{
 "cells": [
  {
   "cell_type": "markdown",
   "metadata": {},
   "source": [
    "# HHL Algorithm\n",
    "\n",
    "[![Download Notebook](https://mindspore-website.obs.cn-north-4.myhuaweicloud.com/website-images/master/resource/_static/logo_notebook_en.svg)](https://mindspore-website.obs.cn-north-4.myhuaweicloud.com/notebook/master/mindquantum/en/mindspore_hhl_algorithm.ipynb)&emsp;\n",
    "[![Download Code](https://mindspore-website.obs.cn-north-4.myhuaweicloud.com/website-images/master/resource/_static/logo_download_code_en.svg)](https://mindspore-website.obs.cn-north-4.myhuaweicloud.com/notebook/master/mindquantum/en/mindspore_hhl_algorithm.py)&emsp;\n",
    "[![View source on Gitee](https://mindspore-website.obs.cn-north-4.myhuaweicloud.com/website-images/master/resource/_static/logo_source_en.svg)](https://gitee.com/mindspore/docs/blob/master/docs/mindquantum/docs/source_en/hhl_algorithm.ipynb)\n",
    "\n",
    "## Overview\n",
    "\n",
    "**Objective of the HHL algorithm:** Given a Hermitian matrix $A$ and a unit vector $\\vec{b}$, the goal is to solve the equation $A \\vec{x} = \\vec{b}$.\n",
    "\n",
    "Let $\\left| b \\right\\rangle = \\sum_{j=1}^{N} b_{j} \\left| j \\right\\rangle$, where $\\left| j \\right\\rangle$ represents the basis states. The key of the algorithm lies in simulating $e^{i A \\Delta t}$ on $\\left| b \\right\\rangle$.\n",
    "\n",
    "Assume the spectral decomposition of $A$ is as follows:\n",
    "\n",
    "$$A = \\sum_{j=1}^{N} \\lambda_{j} \\left| u_{j} \\right\\rangle \\left\\langle u_{j} \\right|$$\n",
    "\n",
    "Then,\n",
    "\n",
    "$$e^{i A \\Delta t} = \\sum_{j=1}^{N} e^{i \\lambda_{j} \\Delta t} \\left| u_{j} \\right\\rangle \\left\\langle u_{j} \\right|$$\n",
    "\n",
    "Express $\\left| b \\right\\rangle$ in terms of the basis $\\left\\lbrace \\left| u_{j} \\right\\rangle \\right\\rbrace$: $\\left| b \\right\\rangle = \\sum_{j=1}^{N} \\beta_{j} \\left| u_{j} \\right\\rangle$.\n",
    "\n",
    "Using Quantum Phase Estimation (QPE), where $U = e^{i A \\Delta t}$, the resulting transformation is as follows:\n",
    "\n",
    "$$\\left| b \\right\\rangle \\xrightarrow{\\text{QPE}} \\sum_{j=1}^{N} \\beta_{j} \\left| u_{j} \\right\\rangle | \\widetilde{\\lambda_j} \\rangle$$\n",
    "\n",
    "Here, $| \\widetilde{\\lambda_j} \\rangle$ is the estimation of the eigenvalue $\\lambda_{j}$ (the tilde represents an estimation, the same applies in the following).\n",
    "\n",
    "It is easy to see that the solution to the equation is:\n",
    "\n",
    "$$\\left| x \\right\\rangle = A^{-1} \\left| b \\right\\rangle = \\sum_{j} \\beta_{j} (\\lambda_{j})^{-1} \\left| u_{j} \\right\\rangle$$\n",
    "\n",
    "Therefore, we only need to extract the information from the quantum state $| \\widetilde{\\lambda_j} \\rangle$.\n",
    "\n",
    "## Steps of the HHL Algorithm\n",
    "\n",
    "Below, we provide a detailed explanation of the steps involved in the HHL algorithm, including the mathematical derivations.\n",
    "\n",
    "### Data Preprocessing\n",
    "\n",
    "As mentioned earlier, $A$ needs to be Hermitian, i.e., $A^\\dagger = A$. However, this condition can be relaxed. If $A$ is not Hermitian, we can construct $\\tilde{A}$ as follows:\n",
    "\n",
    "$$\n",
    "\\tilde{A} = \\begin{pmatrix}\n",
    "0 & A \\\\\n",
    "A^{\\dagger } & 0 \\\\\n",
    "\\end{pmatrix}\n",
    "$$\n",
    "\n",
    "Then, we solve the equation:\n",
    "\n",
    "$$\n",
    "\\tilde{A} \\vec{y} = \\begin{pmatrix}\n",
    "\\vec{b} \\\\\n",
    "0 \\\\\n",
    "\\end{pmatrix}\n",
    "$$\n",
    "\n",
    "It can be easily verified that the solution to this equation, $\\vec{y}$, has the following form:\n",
    "\n",
    "$$\n",
    "\\vec{y} = \\begin{pmatrix}\n",
    "0 \\\\\n",
    "\\vec{x} \\\\\n",
    "\\end{pmatrix}\n",
    "$$\n",
    "\n",
    "where $A \\vec{x} = \\vec{b}$.\n",
    "\n",
    "For $\\vec{b}$, since HHL is a quantum algorithm, the input should be a quantum state $|b\\rangle = \\sum_{j=1}^N b_j |j\\rangle$. The details of how to prepare such a quantum state and encode classical information into quantum information are beyond the scope of this algorithm. Here, we assume that the quantum state has been prepared accordingly."
   ]
  },
  {
   "cell_type": "markdown",
   "metadata": {},
   "source": [
    "### Preparation of Operator $U = e^{i A \\Delta t}$\n",
    "\n",
    "The efficient preparation of the operator $U = e^{i A \\Delta t}$ is a core problem. As we will see later, the complexity of the entire HHL algorithm mainly depends on the operator $U$, so it is necessary to efficiently simulate $U$.\n",
    "\n",
    "The preparation of this time evolution operator $U = e^{i A \\Delta t}$ belongs to the problem of quantum system simulation (Hamiltonian simulation), which is an important quantum problem that will not be discussed in detail here.\n",
    "\n",
    "In the original paper, a **sparsity** constraint was imposed on the matrix $A$ in order to efficiently simulate $e^{i A \\Delta t}$. For general dense matrices $A$, simulating their evolution can be computationally expensive.\n",
    "\n",
    "Here, we won't go into the proof of the correctness of QPE. Readers only need to know that the input of QPE is a unitary operator $U$ and its eigenvector $|u\\rangle$, and the output is an estimate $\\tilde{\\varphi}$ of the phase $\\varphi$ such that $U |u\\rangle = e^{2 \\pi i \\varphi} |u\\rangle$.\n",
    "\n",
    "Specifically, using $t$ auxiliary qubits, the action of QPE is as follows:\n",
    "\n",
    "$$\\left| b \\right\\rangle \\left| 0 \\right\\rangle^{\\otimes t} \\left| 0 \\right\\rangle = \\sum_{j=1}^{N} \\beta_{j} \\left| u_{j} \\right\\rangle \\left| 0 \\right\\rangle^{\\otimes t} \\left| 0 \\right\\rangle\n",
    "\\xrightarrow{\\text{QPE}} \\sum_{j=1}^{N} \\beta_{j} \\left| u_{j} \\right\\rangle \\left| \\widetilde{\\varphi_j} \\right\\rangle \\left| 0 \\right\\rangle$$\n",
    "\n",
    "Here, $\\left| \\widetilde{\\varphi_j} \\right\\rangle$ is the estimate of the phase $\\varphi_{j}$. An additional auxiliary qubit is added after the $t$ auxiliary qubits for the subsequent rotation step.\n",
    "\n",
    "To better understand, let's take an example:\n",
    "Take\n",
    "\n",
    "$$A = Z = \\left| 0 \\right\\rangle \\left\\langle 0 \\right| - \\left| 1 \\right\\rangle \\left\\langle 1 \\right|$$\n",
    "\n",
    "Then\n",
    "\n",
    "$$U = e^{i A \\Delta t } = e^{i \\Delta t} \\left| 0 \\right\\rangle \\left\\langle 0 \\right| + e^{-i \\Delta t} \\left| 1 \\right\\rangle \\left\\langle 1 \\right|$$\n",
    "\n",
    "The two phases are $\\varphi_{1} = \\Delta t / 2 \\pi$ and $\\varphi_{2} = -\\Delta t / 2 \\pi$.\n",
    "\n",
    "If we use $t = 4$ auxiliary qubits and take $\\Delta t = \\pi / 4$, then $\\varphi_{1} = 1 / 8$ and $\\varphi_{2} = - 1 / 8$.\n",
    "\n",
    "The estimated values of the two phases are $\\widetilde{\\varphi_1} = 0.0010 \\times 2^4 = 2$ and $\\widetilde{\\varphi_2} = 0.1110 \\times 2^4 = 14$.\n",
    "Since the phase is a decimal between $[0, 1)$, multiplying it by $2^t$ gives its corresponding quantum state $|q_{t_1} \\ldots q_{t_t} \\rangle$.\n",
    "It should be noted that because the phase is a decimal modulo $1$, $-0.0010$ is mapped to $0.1110$. To restore the phase (to restore $\\lambda$), we first select a small enough $\\Delta t$ such that $|\\varphi| < 1 / 2$. This way, if $|q_{t_1} \\ldots q_{t_t}\\rangle < 2^{t-1}$ corresponds to a positive number, $|q_{t_1}\\ldots q_{t_t}\\rangle > 2^{t-1}$ corresponds to a negative number.\n",
    "\n",
    "Through simple quantitative calculations, we obtain the following mapping relationship:\n",
    "\n",
    "$$\n",
    "\\frac{\\lambda \\Delta t}{2 \\pi} =   \\varphi = \\begin{cases}\n",
    "\\tilde{\\varphi} / 2^{t} &  , \\varphi > 0 & , \\tilde{\\varphi} < 2^{t-1} \\\\\n",
    "\\tilde{\\varphi} / 2^{t} - 1 & , \\varphi < 0 & , \\tilde{\\varphi} > 2^{t-1}\\\\\n",
    "\\end{cases}\n",
    "$$\n",
    "\n",
    "Here, $\\lambda$ is the eigenvalue of $A$, $\\varphi$ is the phase of $U = e^{i A \\Delta t}$, and $\\tilde{\\varphi}$ is the estimate of $\\varphi$."
   ]
  },
  {
   "cell_type": "markdown",
   "metadata": {},
   "source": [
    "### Conditional Rotation\n",
    "\n",
    "After QPE, the overall quantum state is as follows:\n",
    "\n",
    "$$\n",
    "\\sum_{j=1}^{N} \\beta_{j} \\left| u_{j} \\right\\rangle \\left| \\widetilde{\\varphi_j} \\right\\rangle \\left| 0 \\right\\rangle\n",
    "$$\n",
    "\n",
    "To extract the information of $\\lambda_j$ from the quantum state $\\left| \\widetilde{\\varphi_j} \\right\\rangle$, we need to use conditional rotation gates $CR(k)$, which have the following effect:\n",
    "\n",
    "$$\n",
    "CR(k) \\left| \\tilde{\\varphi} \\right\\rangle \\left| b \\right\\rangle = \\begin{cases}\n",
    "\\left| \\tilde{\\varphi} \\right\\rangle \\left| b \\right\\rangle & ,  k \\neq \\tilde{\\varphi}  \\\\\n",
    "\\left| \\tilde{\\varphi} \\right\\rangle R_y \\left( 2 \\arcsin \\frac{C}{\\lambda} \\right) \\left| b \\right\\rangle & , k = \\tilde{\\varphi} \\\\\n",
    "\\end{cases}\n",
    "$$\n",
    "\n",
    "In simple terms, the rotation operation is only applied to the subsequent qubits when $k$ selects the correct $\\tilde{\\varphi}$.\n",
    "\n",
    "Since we don't know the correct $\\tilde{\\varphi}$, we brute force all possible $CR(k)$, where $k = 1, \\ldots , 2^{t}-1$.\n",
    "\n",
    "The effect of the rotation is straightforward:\n",
    "\n",
    "$$\n",
    "\\prod_{k=1}^{2^{t} - 1} I\\otimes CR(k) \\sum_{j=1}^{N} \\beta_{j} \\left| u_{j} \\right\\rangle \\left| \\widetilde{\\varphi_j} \\right\\rangle \\left| 0 \\right\\rangle\n",
    "= \\sum_{j=1}^{N} \\beta_{j} \\left| u_{j} \\right\\rangle \\left| \\widetilde{\\varphi_j} \\right\\rangle \\left( \\sqrt{1 - \\left( \\frac{C}{\\lambda_{j}} \\right)^{2}} \\left| 0 \\right\\rangle + \\frac{C}{\\lambda_{j}} \\left| 1 \\right\\rangle \\right)\n",
    "$$\n",
    "\n",
    "After applying inverse QPE once again, the overall quantum state is as follows:\n",
    "\n",
    "$$\n",
    "\\left| \\psi \\right\\rangle = \\sum_{j=1}^{N} \\beta_{j} \\left| u_{j} \\right\\rangle \\left| 0 \\right\\rangle^{\\otimes t} \\left( \\sqrt{1 - \\left( \\frac{C}{\\lambda_{j}} \\right)^{2}} \\left| 0 \\right\\rangle + \\frac{C}{\\lambda_{j}} \\left| 1 \\right\\rangle \\right)\n",
    "$$"
   ]
  },
  {
   "cell_type": "markdown",
   "metadata": {},
   "source": [
    "### Measurement\n",
    "\n",
    "Measure the last qubit. When the measurement result is $\\left| 1 \\right\\rangle$, the probability is\n",
    "\n",
    "$$\n",
    "p_1 = C^{2} \\sum_{j=1}^{N} ( \\beta_{j} / \\lambda_{j} )^{2}\n",
    "$$\n",
    "\n",
    "After the measurement, the quantum state becomes\n",
    "\n",
    "$$\n",
    "\\left| \\psi_{1} \\right\\rangle = \\frac{1}{\\left( \\sum_{j=1}^{N} \\left( \\beta_{j} / \\lambda_{j} \\right)^{2} \\right)^{-1}} \\sum_{j=1}^{N} \\frac{\\beta_{j}}{\\lambda_{j}} \\left| u_{j} \\right\\rangle \\left| 0 \\right\\rangle^{\\otimes t} \\left| 1 \\right\\rangle\n",
    "$$\n",
    "\n",
    "Clearly, there is no entanglement between the three quantum registers at this point. If we only look at the first quantum register, it is already in the state $|x\\rangle$ (ignoring a normalization factor).\n",
    "\n",
    "It should be noted that there is a parameter $C$ in the rotation operation. We see that $C$ does not affect the correctness of the final result, but it does affect the probability $p_1$ of obtaining the result. We certainly hope that $C$ can be as large as possible, so that $p_1$ can be maximized. However, $C \\leq \\left\\vert \\lambda_{j} \\right\\vert$, it is smaller than the absolute value of all eigenvalues. If there is no prior information about the smallest absolute value of $\\lambda$, we can only conservatively choose a very small $C$ and then use amplitude amplification techniques to increase the probability of obtaining the result."
   ]
  },
  {
   "cell_type": "markdown",
   "metadata": {},
   "source": [
    "## Implementation with MindQuantum\n",
    "\n",
    "Here, we use MindQuantum to implement a simple example to illustrate the process and correctness of the HHL algorithm.\n",
    "\n",
    "For convenience, we choose a simple matrix $A = Z = \\begin{bmatrix}\n",
    "1 & 0 \\\\\n",
    "0 & -1\n",
    "\\end{bmatrix}$, because its time evolution operator $e^{i Z \\Delta t} = R_z(- 2 \\Delta t)$ is relatively easy to implement."
   ]
  },
  {
   "cell_type": "code",
   "execution_count": 1,
   "metadata": {},
   "outputs": [
    {
     "name": "stdout",
     "output_type": "stream",
     "text": [
      "eigenvalues of A:\n",
      " [ 1. -1.]\n",
      "eigenvectors of A:\n",
      " [[1. 0.]\n",
      " [0. 1.]]\n",
      "b: [0.6 0.8]\n",
      "Solution of Ax=b is: [ 0.6 -0.8]\n"
     ]
    }
   ],
   "source": [
    "import numpy as np\n",
    "\n",
    "A = np.array([[1, 0], [0, -1]])\n",
    "es, vs = np.linalg.eig(A)\n",
    "\n",
    "print(f\"eigenvalues of A:\\n {es}\")\n",
    "print(f\"eigenvectors of A:\\n {vs}\")\n",
    "\n",
    "b = np.array([0.6, 0.8])\n",
    "print(f\"b: {b}\")\n",
    "print(f\"Solution of Ax=b is: {np.linalg.solve(A, b)}\")"
   ]
  },
  {
   "cell_type": "markdown",
   "metadata": {},
   "source": [
    "Here, we import various required functions:"
   ]
  },
  {
   "cell_type": "code",
   "execution_count": 2,
   "metadata": {},
   "outputs": [],
   "source": [
    "from mindquantum.core.gates import H, X, RY, RZ, Measure, Power, BARRIER\n",
    "from mindquantum.core.circuit import Circuit\n",
    "from mindquantum.simulator import Simulator"
   ]
  },
  {
   "cell_type": "markdown",
   "metadata": {},
   "source": [
    "For the preparation of the quantum state $|b\\rangle = \\cos\\theta |0\\rangle + \\sin\\theta |1\\rangle$, it can be achieved using an $R_y(2 \\theta)$ gate.\n",
    "\n",
    "The following code prepares the state $|b\\rangle = 0.6 |0\\rangle + 0.8 |1\\rangle$ and performs a measurement."
   ]
  },
  {
   "cell_type": "code",
   "execution_count": 3,
   "metadata": {},
   "outputs": [
    {
     "data": {
      "image/svg+xml": [
       "<svg xmlns=\"http://www.w3.org/2000/svg\" width=\"401.2\" height=\"147.0\" xmlns:xlink=\"http://www.w3.org/1999/xlink\"><rect x=\"0\" y=\"0\" width=\"401.2\" height=\"147.0\" fill=\"#ffffff\" /><text x=\"10\" y=\"17.0\" font-size=\"14px\" dominant-baseline=\"middle\" text-anchor=\"start\" >Shots:\n",
       " 10000 </text><text x=\"10\" y=\"31.0\" font-size=\"14px\" dominant-baseline=\"middle\" text-anchor=\"start\" >Keys: q0 </text><line x1=\"31.2\" x2=\"391.2\" y1=\"62.0\" y2=\"62.0\" stroke=\"#adb0b8\" stroke-width=\"1\" /><line x1=\"31.2\" x2=\"31.2\" y1=\"55.0\" y2=\"62.0\" stroke=\"#adb0b8\" stroke-width=\"1\" /><text x=\"33.2\" y=\"60.0\" font-size=\"12px\" dominant-baseline=\"bottom\" text-anchor=\"start\" fill=\"#575d6c\" >0.0 </text><line x1=\"31.2\" x2=\"31.2\" y1=\"62.0\" y2=\"137.0\" stroke=\"#adb0b8\" stroke-width=\"1\" /><line x1=\"91.2\" x2=\"91.2\" y1=\"55.0\" y2=\"62.0\" stroke=\"#adb0b8\" stroke-width=\"1\" /><text x=\"93.2\" y=\"60.0\" font-size=\"12px\" dominant-baseline=\"bottom\" text-anchor=\"start\" fill=\"#575d6c\" >0.128 </text><line x1=\"91.2\" x2=\"91.2\" y1=\"62.0\" y2=\"137.0\" stroke=\"#dfe1e6\" stroke-width=\"1\" /><line x1=\"151.2\" x2=\"151.2\" y1=\"55.0\" y2=\"62.0\" stroke=\"#adb0b8\" stroke-width=\"1\" /><text x=\"153.2\" y=\"60.0\" font-size=\"12px\" dominant-baseline=\"bottom\" text-anchor=\"start\" fill=\"#575d6c\" >0.256 </text><line x1=\"151.2\" x2=\"151.2\" y1=\"62.0\" y2=\"137.0\" stroke=\"#dfe1e6\" stroke-width=\"1\" /><line x1=\"211.2\" x2=\"211.2\" y1=\"55.0\" y2=\"62.0\" stroke=\"#adb0b8\" stroke-width=\"1\" /><text x=\"213.2\" y=\"60.0\" font-size=\"12px\" dominant-baseline=\"bottom\" text-anchor=\"start\" fill=\"#575d6c\" >0.385 </text><line x1=\"211.2\" x2=\"211.2\" y1=\"62.0\" y2=\"137.0\" stroke=\"#dfe1e6\" stroke-width=\"1\" /><line x1=\"271.2\" x2=\"271.2\" y1=\"55.0\" y2=\"62.0\" stroke=\"#adb0b8\" stroke-width=\"1\" /><text x=\"273.2\" y=\"60.0\" font-size=\"12px\" dominant-baseline=\"bottom\" text-anchor=\"start\" fill=\"#575d6c\" >0.513 </text><line x1=\"271.2\" x2=\"271.2\" y1=\"62.0\" y2=\"137.0\" stroke=\"#dfe1e6\" stroke-width=\"1\" /><line x1=\"331.2\" x2=\"331.2\" y1=\"55.0\" y2=\"62.0\" stroke=\"#adb0b8\" stroke-width=\"1\" /><text x=\"333.2\" y=\"60.0\" font-size=\"12px\" dominant-baseline=\"bottom\" text-anchor=\"start\" fill=\"#575d6c\" >0.641 </text><line x1=\"331.2\" x2=\"331.2\" y1=\"62.0\" y2=\"137.0\" stroke=\"#dfe1e6\" stroke-width=\"1\" /><text x=\"22.2\" y=\"85.0\" font-size=\"12px\" dominant-baseline=\"middle\" text-anchor=\"end\" fill=\"#575d6c\" >0 </text><line x1=\"24.2\" x2=\"31.2\" y1=\"85.0\" y2=\"85.0\" stroke=\"#adb0b8\" stroke-width=\"1\" /><rect x=\"31.2\" y=\"73.0\" width=\"167.8727386150967\" height=\"24\" id=\"bar_0_1703949591739465417\" fill=\"#5e7ce0\" /><text x=\"209.07273861509668\" y=\"85.0\" font-size=\"14px\" dominant-baseline=\"middle\" text-anchor=\"start\" fill=\"#575d6c\" id=\"bar_text_0_1703949591739488217\" fill-opacity=\"0\" >3588 </text><text x=\"22.2\" y=\"115.0\" font-size=\"12px\" dominant-baseline=\"middle\" text-anchor=\"end\" fill=\"#575d6c\" >1 </text><line x1=\"24.2\" x2=\"31.2\" y1=\"115.0\" y2=\"115.0\" stroke=\"#adb0b8\" stroke-width=\"1\" /><rect x=\"31.2\" y=\"103.0\" width=\"300.0\" height=\"24\" id=\"bar_1_1703949591739506617\" fill=\"#16acff\" /><text x=\"341.2\" y=\"115.0\" font-size=\"14px\" dominant-baseline=\"middle\" text-anchor=\"start\" fill=\"#575d6c\" id=\"bar_text_1_1703949591739539017\" fill-opacity=\"0\" >6412 </text><animate xlink:href=\"#bar_0_1703949591739465417\" attributeName=\"width\" from=\"0\" to=\"167.8727386150967\" dur=\"0.3s\" calcMode=\"spline\" values=\"0; 167.8727386150967\" keyTimes=\"0; 1\" keySplines=\"0.42 0 1 0.8;\" fill=\"freeze\" /><animate xlink:href=\"#bar_1_1703949591739506617\" attributeName=\"width\" from=\"0\" to=\"300.0\" dur=\"0.3s\" calcMode=\"spline\" values=\"0; 300.0\" keyTimes=\"0; 1\" keySplines=\"0.42 0 1 0.8;\" fill=\"freeze\" /><animate xlink:href=\"#bar_1_1703949591739506617\" attributeName=\"fill\" from=\"#16acff\" to=\"#fac209\" dur=\"0.15s\" calcMode=\"spline\" values=\"#16acff; #fac209\" keyTimes=\"0; 1\" keySplines=\"0.42 0 1 0.8;\" fill=\"freeze\" begin=\"0.3s\" /><animate xlink:href=\"#bar_text_0_1703949591739488217\" attributeName=\"fill-opacity\" from=\"0\" to=\"1\" dur=\"0.15s\" calcMode=\"spline\" values=\"0; 1\" keyTimes=\"0; 1\" keySplines=\"0.42 0 1 0.8;\" fill=\"freeze\" begin=\"0.3s\" /><animate xlink:href=\"#bar_text_1_1703949591739539017\" attributeName=\"fill-opacity\" from=\"0\" to=\"1\" dur=\"0.15s\" calcMode=\"spline\" values=\"0; 1\" keyTimes=\"0; 1\" keySplines=\"0.42 0 1 0.8;\" fill=\"freeze\" begin=\"0.3s\" /><text x=\"203.1\" y=\"41.0\" font-size=\"14px\" dominant-baseline=\"middle\" text-anchor=\"middle\" >probability </text></svg>"
      ],
      "text/plain": [
       "<mindquantum.io.display.measure_res_svg_drawer.SVGMeasure at 0x7fc83af37f40>"
      ]
     },
     "execution_count": 3,
     "metadata": {},
     "output_type": "execute_result"
    }
   ],
   "source": [
    "circ = Circuit()\n",
    "circ += RY(2 * np.arcsin(0.8)).on(0)\n",
    "circ += Measure().on(0)\n",
    "\n",
    "sim = Simulator(backend=\"mqvector\", n_qubits=1)\n",
    "res = sim.sampling(circ, shots=10000)\n",
    "res.svg()"
   ]
  },
  {
   "cell_type": "markdown",
   "metadata": {},
   "source": [
    "The following is the step-by-step construction of the complete quantum circuit, with $t = 4$, $\\Delta t = \\pi / 4$, and $C = 0.5$.\n",
    "\n",
    "- First is QPE.\n",
    "- Then comes $CR(k)$, $k = 1, \\ldots, 15$.\n",
    "- Next is inverse QPE.\n",
    "- Finally, measurement is performed."
   ]
  },
  {
   "cell_type": "code",
   "execution_count": 4,
   "metadata": {},
   "outputs": [
    {
     "data": {
      "image/svg+xml": [
       "<svg xmlns=\"http://www.w3.org/2000/svg\" width=\"6016.8\" height=\"380.0\" xmlns:xlink=\"http://www.w3.org/1999/xlink\"><rect x=\"0\" y=\"0.0\" width=\"6016.8\" height=\"380.0\" fill=\"#ffffff\" /><text x=\"20.0\" y=\"40.0\" font-size=\"16px\" dominant-baseline=\"middle\" text-anchor=\"start\" font-family=\"Arial\" font-weight=\"normal\" fill=\"#252b3a\" >q0: </text><text x=\"20.0\" y=\"100.0\" font-size=\"16px\" dominant-baseline=\"middle\" text-anchor=\"start\" font-family=\"Arial\" font-weight=\"normal\" fill=\"#252b3a\" >q1: </text><text x=\"20.0\" y=\"160.0\" font-size=\"16px\" dominant-baseline=\"middle\" text-anchor=\"start\" font-family=\"Arial\" font-weight=\"normal\" fill=\"#252b3a\" >q2: </text><text x=\"20.0\" y=\"220.0\" font-size=\"16px\" dominant-baseline=\"middle\" text-anchor=\"start\" font-family=\"Arial\" font-weight=\"normal\" fill=\"#252b3a\" >q3: </text><text x=\"20.0\" y=\"280.0\" font-size=\"16px\" dominant-baseline=\"middle\" text-anchor=\"start\" font-family=\"Arial\" font-weight=\"normal\" fill=\"#252b3a\" >q4: </text><text x=\"20.0\" y=\"340.0\" font-size=\"16px\" dominant-baseline=\"middle\" text-anchor=\"start\" font-family=\"Arial\" font-weight=\"normal\" fill=\"#252b3a\" >q5: </text><line x1=\"48.8\" x2=\"5996.8\" y1=\"40.0\" y2=\"40.0\" stroke=\"#adb0b8\" stroke-width=\"1\" /><line x1=\"48.8\" x2=\"5996.8\" y1=\"100.0\" y2=\"100.0\" stroke=\"#adb0b8\" stroke-width=\"1\" /><line x1=\"48.8\" x2=\"5996.8\" y1=\"160.0\" y2=\"160.0\" stroke=\"#adb0b8\" stroke-width=\"1\" /><line x1=\"48.8\" x2=\"5996.8\" y1=\"220.0\" y2=\"220.0\" stroke=\"#adb0b8\" stroke-width=\"1\" /><line x1=\"48.8\" x2=\"5996.8\" y1=\"280.0\" y2=\"280.0\" stroke=\"#adb0b8\" stroke-width=\"1\" /><line x1=\"48.8\" x2=\"5996.8\" y1=\"340.0\" y2=\"340.0\" stroke=\"#adb0b8\" stroke-width=\"1\" /><rect x=\"72.8\" y=\"320.0\" width=\"80.0\" height=\"40\" rx=\"4\" ry=\"4\" stroke=\"#ffffff\" stroke-width=\"0\" fill=\"#fac209\" fill-opacity=\"1\" /><text x=\"112.8\" y=\"336.0\" font-size=\"20px\" dominant-baseline=\"middle\" text-anchor=\"middle\" font-family=\"Arial\" font-weight=\"normal\" fill=\"#ffffff\" >RY </text><text x=\"112.8\" y=\"352.0\" font-size=\"14.0px\" dominant-baseline=\"middle\" text-anchor=\"middle\" font-family=\"Arial\" font-weight=\"normal\" fill=\"#ffffff\" >1.8546 </text><rect x=\"72.8\" y=\"260.0\" width=\"40.0\" height=\"40\" rx=\"4\" ry=\"4\" stroke=\"#ffffff\" stroke-width=\"0\" fill=\"#5e7ce0\" fill-opacity=\"1\" /><text x=\"92.8\" y=\"280.0\" font-size=\"20px\" dominant-baseline=\"middle\" text-anchor=\"middle\" font-family=\"Arial\" font-weight=\"normal\" fill=\"#ffffff\" >H </text><rect x=\"72.8\" y=\"200.0\" width=\"40.0\" height=\"40\" rx=\"4\" ry=\"4\" stroke=\"#ffffff\" stroke-width=\"0\" fill=\"#5e7ce0\" fill-opacity=\"1\" /><text x=\"92.8\" y=\"220.0\" font-size=\"20px\" dominant-baseline=\"middle\" text-anchor=\"middle\" font-family=\"Arial\" font-weight=\"normal\" fill=\"#ffffff\" >H </text><rect x=\"72.8\" y=\"140.0\" width=\"40.0\" height=\"40\" rx=\"4\" ry=\"4\" stroke=\"#ffffff\" stroke-width=\"0\" fill=\"#5e7ce0\" fill-opacity=\"1\" /><text x=\"92.8\" y=\"160.0\" font-size=\"20px\" dominant-baseline=\"middle\" text-anchor=\"middle\" font-family=\"Arial\" font-weight=\"normal\" fill=\"#ffffff\" >H </text><rect x=\"72.8\" y=\"80.0\" width=\"40.0\" height=\"40\" rx=\"4\" ry=\"4\" stroke=\"#ffffff\" stroke-width=\"0\" fill=\"#5e7ce0\" fill-opacity=\"1\" /><text x=\"92.8\" y=\"100.0\" font-size=\"20px\" dominant-baseline=\"middle\" text-anchor=\"middle\" font-family=\"Arial\" font-weight=\"normal\" fill=\"#ffffff\" >H </text><circle cx=\"252.8\" cy=\"280.0\" r=\"4\" fill=\"#5e7ce0\" /><line x1=\"252.8\" x2=\"252.8\" y1=\"280.0\" y2=\"340.0\" stroke=\"#5e7ce0\" stroke-width=\"3\" /><rect x=\"172.8\" y=\"320.0\" width=\"160.0\" height=\"40\" rx=\"4\" ry=\"4\" stroke=\"#ffffff\" stroke-width=\"0\" fill=\"#5e7ce0\" fill-opacity=\"1\" /><text x=\"252.8\" y=\"340.0\" font-size=\"20px\" dominant-baseline=\"middle\" text-anchor=\"middle\" font-family=\"Arial\" font-weight=\"normal\" fill=\"#ffffff\" >RZ(-π/2)^1 </text><circle cx=\"432.8\" cy=\"220.0\" r=\"4\" fill=\"#5e7ce0\" /><line x1=\"432.8\" x2=\"432.8\" y1=\"220.0\" y2=\"340.0\" stroke=\"#5e7ce0\" stroke-width=\"3\" /><rect x=\"352.8\" y=\"320.0\" width=\"160.0\" height=\"40\" rx=\"4\" ry=\"4\" stroke=\"#ffffff\" stroke-width=\"0\" fill=\"#5e7ce0\" fill-opacity=\"1\" /><text x=\"432.8\" y=\"340.0\" font-size=\"20px\" dominant-baseline=\"middle\" text-anchor=\"middle\" font-family=\"Arial\" font-weight=\"normal\" fill=\"#ffffff\" >RZ(-π/2)^2 </text><circle cx=\"612.8\" cy=\"160.0\" r=\"4\" fill=\"#5e7ce0\" /><line x1=\"612.8\" x2=\"612.8\" y1=\"160.0\" y2=\"340.0\" stroke=\"#5e7ce0\" stroke-width=\"3\" /><rect x=\"532.8\" y=\"320.0\" width=\"160.0\" height=\"40\" rx=\"4\" ry=\"4\" stroke=\"#ffffff\" stroke-width=\"0\" fill=\"#5e7ce0\" fill-opacity=\"1\" /><text x=\"612.8\" y=\"340.0\" font-size=\"20px\" dominant-baseline=\"middle\" text-anchor=\"middle\" font-family=\"Arial\" font-weight=\"normal\" fill=\"#ffffff\" >RZ(-π/2)^4 </text><circle cx=\"792.8\" cy=\"100.0\" r=\"4\" fill=\"#5e7ce0\" /><line x1=\"792.8\" x2=\"792.8\" y1=\"100.0\" y2=\"340.0\" stroke=\"#5e7ce0\" stroke-width=\"3\" /><rect x=\"712.8\" y=\"320.0\" width=\"160.0\" height=\"40\" rx=\"4\" ry=\"4\" stroke=\"#ffffff\" stroke-width=\"0\" fill=\"#5e7ce0\" fill-opacity=\"1\" /><text x=\"792.8\" y=\"340.0\" font-size=\"20px\" dominant-baseline=\"middle\" text-anchor=\"middle\" font-family=\"Arial\" font-weight=\"normal\" fill=\"#ffffff\" >RZ(-π/2)^8 </text><line x1=\"912.8\" x2=\"912.8\" y1=\"140.0\" y2=\"240.0\" stroke-width=\"3\" stroke=\"#16acff\" /><rect x=\"892.8\" y=\"140.0\" width=\"40\" height=\"40\" rx=\"4\" ry=\"4\" fill=\"#16acff\" fill-opacity=\"1\" stroke=\"#ffffff\" stroke-width=\"0\" /><path d=\"M 903.1999999999999 156.31384387633062 L 908.0 148.0 L 912.8 156.31384387633062 L 909.4399999999999 156.31384387633062 L 909.4399999999999 172.0 L 906.56 172.0 L 906.56 156.31384387633062 Z\" fill=\"#ffffff\" /><path d=\"M 922.4 163.68615612366938 L 917.5999999999999 172.0 L 912.8 163.68615612366938 L 916.16 163.68615612366938 L 916.16 148.0 L 919.04 148.0 L 919.04 163.68615612366938 Z\" fill=\"#ffffff\" /><rect x=\"892.8\" y=\"200.0\" width=\"40\" height=\"40\" rx=\"4\" ry=\"4\" fill=\"#16acff\" fill-opacity=\"1\" stroke=\"#ffffff\" stroke-width=\"0\" /><path d=\"M 903.1999999999999 216.31384387633062 L 908.0 208.0 L 912.8 216.31384387633062 L 909.4399999999999 216.31384387633062 L 909.4399999999999 232.0 L 906.56 232.0 L 906.56 216.31384387633062 Z\" fill=\"#ffffff\" /><path d=\"M 922.4 223.68615612366938 L 917.5999999999999 232.0 L 912.8 223.68615612366938 L 916.16 223.68615612366938 L 916.16 208.0 L 919.04 208.0 L 919.04 223.68615612366938 Z\" fill=\"#ffffff\" /><line x1=\"972.8\" x2=\"972.8\" y1=\"80.0\" y2=\"300.0\" stroke-width=\"3\" stroke=\"#16acff\" /><rect x=\"952.8\" y=\"80.0\" width=\"40\" height=\"40\" rx=\"4\" ry=\"4\" fill=\"#16acff\" fill-opacity=\"1\" stroke=\"#ffffff\" stroke-width=\"0\" /><path d=\"M 963.1999999999999 96.31384387633061 L 968.0 88.0 L 972.8 96.31384387633061 L 969.4399999999999 96.31384387633061 L 969.4399999999999 112.0 L 966.56 112.0 L 966.56 96.31384387633061 Z\" fill=\"#ffffff\" /><path d=\"M 982.4 103.68615612366939 L 977.5999999999999 112.0 L 972.8 103.68615612366939 L 976.16 103.68615612366939 L 976.16 88.0 L 979.04 88.0 L 979.04 103.68615612366939 Z\" fill=\"#ffffff\" /><rect x=\"952.8\" y=\"260.0\" width=\"40\" height=\"40\" rx=\"4\" ry=\"4\" fill=\"#16acff\" fill-opacity=\"1\" stroke=\"#ffffff\" stroke-width=\"0\" /><path d=\"M 963.1999999999999 276.3138438763306 L 968.0 268.0 L 972.8 276.3138438763306 L 969.4399999999999 276.3138438763306 L 969.4399999999999 292.0 L 966.56 292.0 L 966.56 276.3138438763306 Z\" fill=\"#ffffff\" /><path d=\"M 982.4 283.6861561236694 L 977.5999999999999 292.0 L 972.8 283.6861561236694 L 976.16 283.6861561236694 L 976.16 268.0 L 979.04 268.0 L 979.04 283.6861561236694 Z\" fill=\"#ffffff\" /><rect x=\"1012.8\" y=\"260.0\" width=\"40.0\" height=\"40\" rx=\"4\" ry=\"4\" stroke=\"#ffffff\" stroke-width=\"0\" fill=\"#5e7ce0\" fill-opacity=\"1\" /><text x=\"1032.8\" y=\"280.0\" font-size=\"20px\" dominant-baseline=\"middle\" text-anchor=\"middle\" font-family=\"Arial\" font-weight=\"normal\" fill=\"#ffffff\" >H </text><circle cx=\"1092.8\" cy=\"280.0\" r=\"4\" fill=\"#fac209\" /><line x1=\"1092.8\" x2=\"1092.8\" y1=\"220.0\" y2=\"280.0\" stroke=\"#fac209\" stroke-width=\"3\" /><rect x=\"1072.8\" y=\"200.0\" width=\"40.0\" height=\"40\" rx=\"4\" ry=\"4\" stroke=\"#ffffff\" stroke-width=\"0\" fill=\"#fac209\" fill-opacity=\"1\" /><text x=\"1092.8\" y=\"216.0\" font-size=\"20px\" dominant-baseline=\"middle\" text-anchor=\"middle\" font-family=\"Arial\" font-weight=\"normal\" fill=\"#ffffff\" >PS </text><text x=\"1092.8\" y=\"232.0\" font-size=\"14.0px\" dominant-baseline=\"middle\" text-anchor=\"middle\" font-family=\"Arial\" font-weight=\"normal\" fill=\"#ffffff\" >-π/2 </text><rect x=\"1132.8\" y=\"200.0\" width=\"40.0\" height=\"40\" rx=\"4\" ry=\"4\" stroke=\"#ffffff\" stroke-width=\"0\" fill=\"#5e7ce0\" fill-opacity=\"1\" /><text x=\"1152.8\" y=\"220.0\" font-size=\"20px\" dominant-baseline=\"middle\" text-anchor=\"middle\" font-family=\"Arial\" font-weight=\"normal\" fill=\"#ffffff\" >H </text><circle cx=\"1212.8\" cy=\"280.0\" r=\"4\" fill=\"#fac209\" /><line x1=\"1212.8\" x2=\"1212.8\" y1=\"160.0\" y2=\"280.0\" stroke=\"#fac209\" stroke-width=\"3\" /><rect x=\"1192.8\" y=\"140.0\" width=\"40.0\" height=\"40\" rx=\"4\" ry=\"4\" stroke=\"#ffffff\" stroke-width=\"0\" fill=\"#fac209\" fill-opacity=\"1\" /><text x=\"1212.8\" y=\"156.0\" font-size=\"20px\" dominant-baseline=\"middle\" text-anchor=\"middle\" font-family=\"Arial\" font-weight=\"normal\" fill=\"#ffffff\" >PS </text><text x=\"1212.8\" y=\"172.0\" font-size=\"14.0px\" dominant-baseline=\"middle\" text-anchor=\"middle\" font-family=\"Arial\" font-weight=\"normal\" fill=\"#ffffff\" >-π/4 </text><circle cx=\"1272.8\" cy=\"220.0\" r=\"4\" fill=\"#fac209\" /><line x1=\"1272.8\" x2=\"1272.8\" y1=\"160.0\" y2=\"220.0\" stroke=\"#fac209\" stroke-width=\"3\" /><rect x=\"1252.8\" y=\"140.0\" width=\"40.0\" height=\"40\" rx=\"4\" ry=\"4\" stroke=\"#ffffff\" stroke-width=\"0\" fill=\"#fac209\" fill-opacity=\"1\" /><text x=\"1272.8\" y=\"156.0\" font-size=\"20px\" dominant-baseline=\"middle\" text-anchor=\"middle\" font-family=\"Arial\" font-weight=\"normal\" fill=\"#ffffff\" >PS </text><text x=\"1272.8\" y=\"172.0\" font-size=\"14.0px\" dominant-baseline=\"middle\" text-anchor=\"middle\" font-family=\"Arial\" font-weight=\"normal\" fill=\"#ffffff\" >-π/2 </text><rect x=\"1312.8\" y=\"140.0\" width=\"40.0\" height=\"40\" rx=\"4\" ry=\"4\" stroke=\"#ffffff\" stroke-width=\"0\" fill=\"#5e7ce0\" fill-opacity=\"1\" /><text x=\"1332.8\" y=\"160.0\" font-size=\"20px\" dominant-baseline=\"middle\" text-anchor=\"middle\" font-family=\"Arial\" font-weight=\"normal\" fill=\"#ffffff\" >H </text><circle cx=\"1392.8\" cy=\"280.0\" r=\"4\" fill=\"#fac209\" /><line x1=\"1392.8\" x2=\"1392.8\" y1=\"100.0\" y2=\"280.0\" stroke=\"#fac209\" stroke-width=\"3\" /><rect x=\"1372.8\" y=\"80.0\" width=\"40.0\" height=\"40\" rx=\"4\" ry=\"4\" stroke=\"#ffffff\" stroke-width=\"0\" fill=\"#fac209\" fill-opacity=\"1\" /><text x=\"1392.8\" y=\"96.0\" font-size=\"20px\" dominant-baseline=\"middle\" text-anchor=\"middle\" font-family=\"Arial\" font-weight=\"normal\" fill=\"#ffffff\" >PS </text><text x=\"1392.8\" y=\"112.0\" font-size=\"14.0px\" dominant-baseline=\"middle\" text-anchor=\"middle\" font-family=\"Arial\" font-weight=\"normal\" fill=\"#ffffff\" >-π/8 </text><circle cx=\"1452.8\" cy=\"220.0\" r=\"4\" fill=\"#fac209\" /><line x1=\"1452.8\" x2=\"1452.8\" y1=\"100.0\" y2=\"220.0\" stroke=\"#fac209\" stroke-width=\"3\" /><rect x=\"1432.8\" y=\"80.0\" width=\"40.0\" height=\"40\" rx=\"4\" ry=\"4\" stroke=\"#ffffff\" stroke-width=\"0\" fill=\"#fac209\" fill-opacity=\"1\" /><text x=\"1452.8\" y=\"96.0\" font-size=\"20px\" dominant-baseline=\"middle\" text-anchor=\"middle\" font-family=\"Arial\" font-weight=\"normal\" fill=\"#ffffff\" >PS </text><text x=\"1452.8\" y=\"112.0\" font-size=\"14.0px\" dominant-baseline=\"middle\" text-anchor=\"middle\" font-family=\"Arial\" font-weight=\"normal\" fill=\"#ffffff\" >-π/4 </text><circle cx=\"1512.8\" cy=\"160.0\" r=\"4\" fill=\"#fac209\" /><line x1=\"1512.8\" x2=\"1512.8\" y1=\"100.0\" y2=\"160.0\" stroke=\"#fac209\" stroke-width=\"3\" /><rect x=\"1492.8\" y=\"80.0\" width=\"40.0\" height=\"40\" rx=\"4\" ry=\"4\" stroke=\"#ffffff\" stroke-width=\"0\" fill=\"#fac209\" fill-opacity=\"1\" /><text x=\"1512.8\" y=\"96.0\" font-size=\"20px\" dominant-baseline=\"middle\" text-anchor=\"middle\" font-family=\"Arial\" font-weight=\"normal\" fill=\"#ffffff\" >PS </text><text x=\"1512.8\" y=\"112.0\" font-size=\"14.0px\" dominant-baseline=\"middle\" text-anchor=\"middle\" font-family=\"Arial\" font-weight=\"normal\" fill=\"#ffffff\" >-π/2 </text><rect x=\"1552.8\" y=\"80.0\" width=\"40.0\" height=\"40\" rx=\"4\" ry=\"4\" stroke=\"#ffffff\" stroke-width=\"0\" fill=\"#5e7ce0\" fill-opacity=\"1\" /><text x=\"1572.8\" y=\"100.0\" font-size=\"20px\" dominant-baseline=\"middle\" text-anchor=\"middle\" font-family=\"Arial\" font-weight=\"normal\" fill=\"#ffffff\" >H </text><rect x=\"1612.8\" y=\"20.0\" width=\"0\" height=\"340\" fill=\"gray\" fill-opacity=\"0.8\" /><rect x=\"1612.8\" y=\"200.0\" width=\"40.0\" height=\"40\" rx=\"4\" ry=\"4\" stroke=\"#ffffff\" stroke-width=\"0\" fill=\"#5e7ce0\" fill-opacity=\"1\" /><text x=\"1632.8\" y=\"220.0\" font-size=\"20px\" dominant-baseline=\"middle\" text-anchor=\"middle\" font-family=\"Arial\" font-weight=\"normal\" fill=\"#ffffff\" >X </text><rect x=\"1612.8\" y=\"140.0\" width=\"40.0\" height=\"40\" rx=\"4\" ry=\"4\" stroke=\"#ffffff\" stroke-width=\"0\" fill=\"#5e7ce0\" fill-opacity=\"1\" /><text x=\"1632.8\" y=\"160.0\" font-size=\"20px\" dominant-baseline=\"middle\" text-anchor=\"middle\" font-family=\"Arial\" font-weight=\"normal\" fill=\"#ffffff\" >X </text><rect x=\"1612.8\" y=\"80.0\" width=\"40.0\" height=\"40\" rx=\"4\" ry=\"4\" stroke=\"#ffffff\" stroke-width=\"0\" fill=\"#5e7ce0\" fill-opacity=\"1\" /><text x=\"1632.8\" y=\"100.0\" font-size=\"20px\" dominant-baseline=\"middle\" text-anchor=\"middle\" font-family=\"Arial\" font-weight=\"normal\" fill=\"#ffffff\" >X </text><circle cx=\"1692.8\" cy=\"280.0\" r=\"4\" fill=\"#fac209\" /><circle cx=\"1692.8\" cy=\"220.0\" r=\"4\" fill=\"#fac209\" /><circle cx=\"1692.8\" cy=\"160.0\" r=\"4\" fill=\"#fac209\" /><circle cx=\"1692.8\" cy=\"100.0\" r=\"4\" fill=\"#fac209\" /><line x1=\"1692.8\" x2=\"1692.8\" y1=\"40.0\" y2=\"280.0\" stroke=\"#fac209\" stroke-width=\"3\" /><rect x=\"1672.8\" y=\"20.0\" width=\"40.0\" height=\"40\" rx=\"4\" ry=\"4\" stroke=\"#ffffff\" stroke-width=\"0\" fill=\"#fac209\" fill-opacity=\"1\" /><text x=\"1692.8\" y=\"36.0\" font-size=\"20px\" dominant-baseline=\"middle\" text-anchor=\"middle\" font-family=\"Arial\" font-weight=\"normal\" fill=\"#ffffff\" >RY </text><text x=\"1692.8\" y=\"52.0\" font-size=\"14.0px\" dominant-baseline=\"middle\" text-anchor=\"middle\" font-family=\"Arial\" font-weight=\"normal\" fill=\"#ffffff\" >π </text><rect x=\"1732.8\" y=\"200.0\" width=\"40.0\" height=\"40\" rx=\"4\" ry=\"4\" stroke=\"#ffffff\" stroke-width=\"0\" fill=\"#5e7ce0\" fill-opacity=\"1\" /><text x=\"1752.8\" y=\"220.0\" font-size=\"20px\" dominant-baseline=\"middle\" text-anchor=\"middle\" font-family=\"Arial\" font-weight=\"normal\" fill=\"#ffffff\" >X </text><rect x=\"1732.8\" y=\"140.0\" width=\"40.0\" height=\"40\" rx=\"4\" ry=\"4\" stroke=\"#ffffff\" stroke-width=\"0\" fill=\"#5e7ce0\" fill-opacity=\"1\" /><text x=\"1752.8\" y=\"160.0\" font-size=\"20px\" dominant-baseline=\"middle\" text-anchor=\"middle\" font-family=\"Arial\" font-weight=\"normal\" fill=\"#ffffff\" >X </text><rect x=\"1732.8\" y=\"80.0\" width=\"40.0\" height=\"40\" rx=\"4\" ry=\"4\" stroke=\"#ffffff\" stroke-width=\"0\" fill=\"#5e7ce0\" fill-opacity=\"1\" /><text x=\"1752.8\" y=\"100.0\" font-size=\"20px\" dominant-baseline=\"middle\" text-anchor=\"middle\" font-family=\"Arial\" font-weight=\"normal\" fill=\"#ffffff\" >X </text><rect x=\"1792.8\" y=\"20.0\" width=\"0\" height=\"340\" fill=\"gray\" fill-opacity=\"0.8\" /><rect x=\"1792.8\" y=\"260.0\" width=\"40.0\" height=\"40\" rx=\"4\" ry=\"4\" stroke=\"#ffffff\" stroke-width=\"0\" fill=\"#5e7ce0\" fill-opacity=\"1\" /><text x=\"1812.8\" y=\"280.0\" font-size=\"20px\" dominant-baseline=\"middle\" text-anchor=\"middle\" font-family=\"Arial\" font-weight=\"normal\" fill=\"#ffffff\" >X </text><rect x=\"1792.8\" y=\"140.0\" width=\"40.0\" height=\"40\" rx=\"4\" ry=\"4\" stroke=\"#ffffff\" stroke-width=\"0\" fill=\"#5e7ce0\" fill-opacity=\"1\" /><text x=\"1812.8\" y=\"160.0\" font-size=\"20px\" dominant-baseline=\"middle\" text-anchor=\"middle\" font-family=\"Arial\" font-weight=\"normal\" fill=\"#ffffff\" >X </text><rect x=\"1792.8\" y=\"80.0\" width=\"40.0\" height=\"40\" rx=\"4\" ry=\"4\" stroke=\"#ffffff\" stroke-width=\"0\" fill=\"#5e7ce0\" fill-opacity=\"1\" /><text x=\"1812.8\" y=\"100.0\" font-size=\"20px\" dominant-baseline=\"middle\" text-anchor=\"middle\" font-family=\"Arial\" font-weight=\"normal\" fill=\"#ffffff\" >X </text><circle cx=\"1892.8\" cy=\"280.0\" r=\"4\" fill=\"#fac209\" /><circle cx=\"1892.8\" cy=\"220.0\" r=\"4\" fill=\"#fac209\" /><circle cx=\"1892.8\" cy=\"160.0\" r=\"4\" fill=\"#fac209\" /><circle cx=\"1892.8\" cy=\"100.0\" r=\"4\" fill=\"#fac209\" /><line x1=\"1892.8\" x2=\"1892.8\" y1=\"40.0\" y2=\"280.0\" stroke=\"#fac209\" stroke-width=\"3\" /><rect x=\"1852.8\" y=\"20.0\" width=\"80.0\" height=\"40\" rx=\"4\" ry=\"4\" stroke=\"#ffffff\" stroke-width=\"0\" fill=\"#fac209\" fill-opacity=\"1\" /><text x=\"1892.8\" y=\"36.0\" font-size=\"20px\" dominant-baseline=\"middle\" text-anchor=\"middle\" font-family=\"Arial\" font-weight=\"normal\" fill=\"#ffffff\" >RY </text><text x=\"1892.8\" y=\"52.0\" font-size=\"14.0px\" dominant-baseline=\"middle\" text-anchor=\"middle\" font-family=\"Arial\" font-weight=\"normal\" fill=\"#ffffff\" >1.0472 </text><rect x=\"1952.8\" y=\"260.0\" width=\"40.0\" height=\"40\" rx=\"4\" ry=\"4\" stroke=\"#ffffff\" stroke-width=\"0\" fill=\"#5e7ce0\" fill-opacity=\"1\" /><text x=\"1972.8\" y=\"280.0\" font-size=\"20px\" dominant-baseline=\"middle\" text-anchor=\"middle\" font-family=\"Arial\" font-weight=\"normal\" fill=\"#ffffff\" >X </text><rect x=\"1952.8\" y=\"140.0\" width=\"40.0\" height=\"40\" rx=\"4\" ry=\"4\" stroke=\"#ffffff\" stroke-width=\"0\" fill=\"#5e7ce0\" fill-opacity=\"1\" /><text x=\"1972.8\" y=\"160.0\" font-size=\"20px\" dominant-baseline=\"middle\" text-anchor=\"middle\" font-family=\"Arial\" font-weight=\"normal\" fill=\"#ffffff\" >X </text><rect x=\"1952.8\" y=\"80.0\" width=\"40.0\" height=\"40\" rx=\"4\" ry=\"4\" stroke=\"#ffffff\" stroke-width=\"0\" fill=\"#5e7ce0\" fill-opacity=\"1\" /><text x=\"1972.8\" y=\"100.0\" font-size=\"20px\" dominant-baseline=\"middle\" text-anchor=\"middle\" font-family=\"Arial\" font-weight=\"normal\" fill=\"#ffffff\" >X </text><rect x=\"2012.8\" y=\"20.0\" width=\"0\" height=\"340\" fill=\"gray\" fill-opacity=\"0.8\" /><rect x=\"2012.8\" y=\"140.0\" width=\"40.0\" height=\"40\" rx=\"4\" ry=\"4\" stroke=\"#ffffff\" stroke-width=\"0\" fill=\"#5e7ce0\" fill-opacity=\"1\" /><text x=\"2032.8\" y=\"160.0\" font-size=\"20px\" dominant-baseline=\"middle\" text-anchor=\"middle\" font-family=\"Arial\" font-weight=\"normal\" fill=\"#ffffff\" >X </text><rect x=\"2012.8\" y=\"80.0\" width=\"40.0\" height=\"40\" rx=\"4\" ry=\"4\" stroke=\"#ffffff\" stroke-width=\"0\" fill=\"#5e7ce0\" fill-opacity=\"1\" /><text x=\"2032.8\" y=\"100.0\" font-size=\"20px\" dominant-baseline=\"middle\" text-anchor=\"middle\" font-family=\"Arial\" font-weight=\"normal\" fill=\"#ffffff\" >X </text><circle cx=\"2112.8\" cy=\"280.0\" r=\"4\" fill=\"#fac209\" /><circle cx=\"2112.8\" cy=\"220.0\" r=\"4\" fill=\"#fac209\" /><circle cx=\"2112.8\" cy=\"160.0\" r=\"4\" fill=\"#fac209\" /><circle cx=\"2112.8\" cy=\"100.0\" r=\"4\" fill=\"#fac209\" /><line x1=\"2112.8\" x2=\"2112.8\" y1=\"40.0\" y2=\"280.0\" stroke=\"#fac209\" stroke-width=\"3\" /><rect x=\"2072.8\" y=\"20.0\" width=\"80.0\" height=\"40\" rx=\"4\" ry=\"4\" stroke=\"#ffffff\" stroke-width=\"0\" fill=\"#fac209\" fill-opacity=\"1\" /><text x=\"2112.8\" y=\"36.0\" font-size=\"20px\" dominant-baseline=\"middle\" text-anchor=\"middle\" font-family=\"Arial\" font-weight=\"normal\" fill=\"#ffffff\" >RY </text><text x=\"2112.8\" y=\"52.0\" font-size=\"14.0px\" dominant-baseline=\"middle\" text-anchor=\"middle\" font-family=\"Arial\" font-weight=\"normal\" fill=\"#ffffff\" >0.6797 </text><rect x=\"2172.8\" y=\"140.0\" width=\"40.0\" height=\"40\" rx=\"4\" ry=\"4\" stroke=\"#ffffff\" stroke-width=\"0\" fill=\"#5e7ce0\" fill-opacity=\"1\" /><text x=\"2192.8\" y=\"160.0\" font-size=\"20px\" dominant-baseline=\"middle\" text-anchor=\"middle\" font-family=\"Arial\" font-weight=\"normal\" fill=\"#ffffff\" >X </text><rect x=\"2172.8\" y=\"80.0\" width=\"40.0\" height=\"40\" rx=\"4\" ry=\"4\" stroke=\"#ffffff\" stroke-width=\"0\" fill=\"#5e7ce0\" fill-opacity=\"1\" /><text x=\"2192.8\" y=\"100.0\" font-size=\"20px\" dominant-baseline=\"middle\" text-anchor=\"middle\" font-family=\"Arial\" font-weight=\"normal\" fill=\"#ffffff\" >X </text><rect x=\"2232.8\" y=\"20.0\" width=\"0\" height=\"340\" fill=\"gray\" fill-opacity=\"0.8\" /><rect x=\"2232.8\" y=\"260.0\" width=\"40.0\" height=\"40\" rx=\"4\" ry=\"4\" stroke=\"#ffffff\" stroke-width=\"0\" fill=\"#5e7ce0\" fill-opacity=\"1\" /><text x=\"2252.8\" y=\"280.0\" font-size=\"20px\" dominant-baseline=\"middle\" text-anchor=\"middle\" font-family=\"Arial\" font-weight=\"normal\" fill=\"#ffffff\" >X </text><rect x=\"2232.8\" y=\"200.0\" width=\"40.0\" height=\"40\" rx=\"4\" ry=\"4\" stroke=\"#ffffff\" stroke-width=\"0\" fill=\"#5e7ce0\" fill-opacity=\"1\" /><text x=\"2252.8\" y=\"220.0\" font-size=\"20px\" dominant-baseline=\"middle\" text-anchor=\"middle\" font-family=\"Arial\" font-weight=\"normal\" fill=\"#ffffff\" >X </text><rect x=\"2232.8\" y=\"80.0\" width=\"40.0\" height=\"40\" rx=\"4\" ry=\"4\" stroke=\"#ffffff\" stroke-width=\"0\" fill=\"#5e7ce0\" fill-opacity=\"1\" /><text x=\"2252.8\" y=\"100.0\" font-size=\"20px\" dominant-baseline=\"middle\" text-anchor=\"middle\" font-family=\"Arial\" font-weight=\"normal\" fill=\"#ffffff\" >X </text><circle cx=\"2332.8\" cy=\"280.0\" r=\"4\" fill=\"#fac209\" /><circle cx=\"2332.8\" cy=\"220.0\" r=\"4\" fill=\"#fac209\" /><circle cx=\"2332.8\" cy=\"160.0\" r=\"4\" fill=\"#fac209\" /><circle cx=\"2332.8\" cy=\"100.0\" r=\"4\" fill=\"#fac209\" /><line x1=\"2332.8\" x2=\"2332.8\" y1=\"40.0\" y2=\"280.0\" stroke=\"#fac209\" stroke-width=\"3\" /><rect x=\"2292.8\" y=\"20.0\" width=\"80.0\" height=\"40\" rx=\"4\" ry=\"4\" stroke=\"#ffffff\" stroke-width=\"0\" fill=\"#fac209\" fill-opacity=\"1\" /><text x=\"2332.8\" y=\"36.0\" font-size=\"20px\" dominant-baseline=\"middle\" text-anchor=\"middle\" font-family=\"Arial\" font-weight=\"normal\" fill=\"#ffffff\" >RY </text><text x=\"2332.8\" y=\"52.0\" font-size=\"14.0px\" dominant-baseline=\"middle\" text-anchor=\"middle\" font-family=\"Arial\" font-weight=\"normal\" fill=\"#ffffff\" >0.5054 </text><rect x=\"2392.8\" y=\"260.0\" width=\"40.0\" height=\"40\" rx=\"4\" ry=\"4\" stroke=\"#ffffff\" stroke-width=\"0\" fill=\"#5e7ce0\" fill-opacity=\"1\" /><text x=\"2412.8\" y=\"280.0\" font-size=\"20px\" dominant-baseline=\"middle\" text-anchor=\"middle\" font-family=\"Arial\" font-weight=\"normal\" fill=\"#ffffff\" >X </text><rect x=\"2392.8\" y=\"200.0\" width=\"40.0\" height=\"40\" rx=\"4\" ry=\"4\" stroke=\"#ffffff\" stroke-width=\"0\" fill=\"#5e7ce0\" fill-opacity=\"1\" /><text x=\"2412.8\" y=\"220.0\" font-size=\"20px\" dominant-baseline=\"middle\" text-anchor=\"middle\" font-family=\"Arial\" font-weight=\"normal\" fill=\"#ffffff\" >X </text><rect x=\"2392.8\" y=\"80.0\" width=\"40.0\" height=\"40\" rx=\"4\" ry=\"4\" stroke=\"#ffffff\" stroke-width=\"0\" fill=\"#5e7ce0\" fill-opacity=\"1\" /><text x=\"2412.8\" y=\"100.0\" font-size=\"20px\" dominant-baseline=\"middle\" text-anchor=\"middle\" font-family=\"Arial\" font-weight=\"normal\" fill=\"#ffffff\" >X </text><rect x=\"2452.8\" y=\"20.0\" width=\"0\" height=\"340\" fill=\"gray\" fill-opacity=\"0.8\" /><rect x=\"2452.8\" y=\"200.0\" width=\"40.0\" height=\"40\" rx=\"4\" ry=\"4\" stroke=\"#ffffff\" stroke-width=\"0\" fill=\"#5e7ce0\" fill-opacity=\"1\" /><text x=\"2472.8\" y=\"220.0\" font-size=\"20px\" dominant-baseline=\"middle\" text-anchor=\"middle\" font-family=\"Arial\" font-weight=\"normal\" fill=\"#ffffff\" >X </text><rect x=\"2452.8\" y=\"80.0\" width=\"40.0\" height=\"40\" rx=\"4\" ry=\"4\" stroke=\"#ffffff\" stroke-width=\"0\" fill=\"#5e7ce0\" fill-opacity=\"1\" /><text x=\"2472.8\" y=\"100.0\" font-size=\"20px\" dominant-baseline=\"middle\" text-anchor=\"middle\" font-family=\"Arial\" font-weight=\"normal\" fill=\"#ffffff\" >X </text><circle cx=\"2552.8\" cy=\"280.0\" r=\"4\" fill=\"#fac209\" /><circle cx=\"2552.8\" cy=\"220.0\" r=\"4\" fill=\"#fac209\" /><circle cx=\"2552.8\" cy=\"160.0\" r=\"4\" fill=\"#fac209\" /><circle cx=\"2552.8\" cy=\"100.0\" r=\"4\" fill=\"#fac209\" /><line x1=\"2552.8\" x2=\"2552.8\" y1=\"40.0\" y2=\"280.0\" stroke=\"#fac209\" stroke-width=\"3\" /><rect x=\"2512.8\" y=\"20.0\" width=\"80.0\" height=\"40\" rx=\"4\" ry=\"4\" stroke=\"#ffffff\" stroke-width=\"0\" fill=\"#fac209\" fill-opacity=\"1\" /><text x=\"2552.8\" y=\"36.0\" font-size=\"20px\" dominant-baseline=\"middle\" text-anchor=\"middle\" font-family=\"Arial\" font-weight=\"normal\" fill=\"#ffffff\" >RY </text><text x=\"2552.8\" y=\"52.0\" font-size=\"14.0px\" dominant-baseline=\"middle\" text-anchor=\"middle\" font-family=\"Arial\" font-weight=\"normal\" fill=\"#ffffff\" >0.4027 </text><rect x=\"2612.8\" y=\"200.0\" width=\"40.0\" height=\"40\" rx=\"4\" ry=\"4\" stroke=\"#ffffff\" stroke-width=\"0\" fill=\"#5e7ce0\" fill-opacity=\"1\" /><text x=\"2632.8\" y=\"220.0\" font-size=\"20px\" dominant-baseline=\"middle\" text-anchor=\"middle\" font-family=\"Arial\" font-weight=\"normal\" fill=\"#ffffff\" >X </text><rect x=\"2612.8\" y=\"80.0\" width=\"40.0\" height=\"40\" rx=\"4\" ry=\"4\" stroke=\"#ffffff\" stroke-width=\"0\" fill=\"#5e7ce0\" fill-opacity=\"1\" /><text x=\"2632.8\" y=\"100.0\" font-size=\"20px\" dominant-baseline=\"middle\" text-anchor=\"middle\" font-family=\"Arial\" font-weight=\"normal\" fill=\"#ffffff\" >X </text><rect x=\"2672.8\" y=\"20.0\" width=\"0\" height=\"340\" fill=\"gray\" fill-opacity=\"0.8\" /><rect x=\"2672.8\" y=\"260.0\" width=\"40.0\" height=\"40\" rx=\"4\" ry=\"4\" stroke=\"#ffffff\" stroke-width=\"0\" fill=\"#5e7ce0\" fill-opacity=\"1\" /><text x=\"2692.8\" y=\"280.0\" font-size=\"20px\" dominant-baseline=\"middle\" text-anchor=\"middle\" font-family=\"Arial\" font-weight=\"normal\" fill=\"#ffffff\" >X </text><rect x=\"2672.8\" y=\"80.0\" width=\"40.0\" height=\"40\" rx=\"4\" ry=\"4\" stroke=\"#ffffff\" stroke-width=\"0\" fill=\"#5e7ce0\" fill-opacity=\"1\" /><text x=\"2692.8\" y=\"100.0\" font-size=\"20px\" dominant-baseline=\"middle\" text-anchor=\"middle\" font-family=\"Arial\" font-weight=\"normal\" fill=\"#ffffff\" >X </text><circle cx=\"2772.8\" cy=\"280.0\" r=\"4\" fill=\"#fac209\" /><circle cx=\"2772.8\" cy=\"220.0\" r=\"4\" fill=\"#fac209\" /><circle cx=\"2772.8\" cy=\"160.0\" r=\"4\" fill=\"#fac209\" /><circle cx=\"2772.8\" cy=\"100.0\" r=\"4\" fill=\"#fac209\" /><line x1=\"2772.8\" x2=\"2772.8\" y1=\"40.0\" y2=\"280.0\" stroke=\"#fac209\" stroke-width=\"3\" /><rect x=\"2732.8\" y=\"20.0\" width=\"80.0\" height=\"40\" rx=\"4\" ry=\"4\" stroke=\"#ffffff\" stroke-width=\"0\" fill=\"#fac209\" fill-opacity=\"1\" /><text x=\"2772.8\" y=\"36.0\" font-size=\"20px\" dominant-baseline=\"middle\" text-anchor=\"middle\" font-family=\"Arial\" font-weight=\"normal\" fill=\"#ffffff\" >RY </text><text x=\"2772.8\" y=\"52.0\" font-size=\"14.0px\" dominant-baseline=\"middle\" text-anchor=\"middle\" font-family=\"Arial\" font-weight=\"normal\" fill=\"#ffffff\" >0.3349 </text><rect x=\"2832.8\" y=\"260.0\" width=\"40.0\" height=\"40\" rx=\"4\" ry=\"4\" stroke=\"#ffffff\" stroke-width=\"0\" fill=\"#5e7ce0\" fill-opacity=\"1\" /><text x=\"2852.8\" y=\"280.0\" font-size=\"20px\" dominant-baseline=\"middle\" text-anchor=\"middle\" font-family=\"Arial\" font-weight=\"normal\" fill=\"#ffffff\" >X </text><rect x=\"2832.8\" y=\"80.0\" width=\"40.0\" height=\"40\" rx=\"4\" ry=\"4\" stroke=\"#ffffff\" stroke-width=\"0\" fill=\"#5e7ce0\" fill-opacity=\"1\" /><text x=\"2852.8\" y=\"100.0\" font-size=\"20px\" dominant-baseline=\"middle\" text-anchor=\"middle\" font-family=\"Arial\" font-weight=\"normal\" fill=\"#ffffff\" >X </text><rect x=\"2892.8\" y=\"20.0\" width=\"0\" height=\"340\" fill=\"gray\" fill-opacity=\"0.8\" /><rect x=\"2892.8\" y=\"80.0\" width=\"40.0\" height=\"40\" rx=\"4\" ry=\"4\" stroke=\"#ffffff\" stroke-width=\"0\" fill=\"#5e7ce0\" fill-opacity=\"1\" /><text x=\"2912.8\" y=\"100.0\" font-size=\"20px\" dominant-baseline=\"middle\" text-anchor=\"middle\" font-family=\"Arial\" font-weight=\"normal\" fill=\"#ffffff\" >X </text><circle cx=\"2992.8\" cy=\"280.0\" r=\"4\" fill=\"#fac209\" /><circle cx=\"2992.8\" cy=\"220.0\" r=\"4\" fill=\"#fac209\" /><circle cx=\"2992.8\" cy=\"160.0\" r=\"4\" fill=\"#fac209\" /><circle cx=\"2992.8\" cy=\"100.0\" r=\"4\" fill=\"#fac209\" /><line x1=\"2992.8\" x2=\"2992.8\" y1=\"40.0\" y2=\"280.0\" stroke=\"#fac209\" stroke-width=\"3\" /><rect x=\"2952.8\" y=\"20.0\" width=\"80.0\" height=\"40\" rx=\"4\" ry=\"4\" stroke=\"#ffffff\" stroke-width=\"0\" fill=\"#fac209\" fill-opacity=\"1\" /><text x=\"2992.8\" y=\"36.0\" font-size=\"20px\" dominant-baseline=\"middle\" text-anchor=\"middle\" font-family=\"Arial\" font-weight=\"normal\" fill=\"#ffffff\" >RY </text><text x=\"2992.8\" y=\"52.0\" font-size=\"14.0px\" dominant-baseline=\"middle\" text-anchor=\"middle\" font-family=\"Arial\" font-weight=\"normal\" fill=\"#ffffff\" >0.2867 </text><rect x=\"3052.8\" y=\"80.0\" width=\"40.0\" height=\"40\" rx=\"4\" ry=\"4\" stroke=\"#ffffff\" stroke-width=\"0\" fill=\"#5e7ce0\" fill-opacity=\"1\" /><text x=\"3072.8\" y=\"100.0\" font-size=\"20px\" dominant-baseline=\"middle\" text-anchor=\"middle\" font-family=\"Arial\" font-weight=\"normal\" fill=\"#ffffff\" >X </text><rect x=\"3112.8\" y=\"20.0\" width=\"0\" height=\"340\" fill=\"gray\" fill-opacity=\"0.8\" /><rect x=\"3112.8\" y=\"260.0\" width=\"40.0\" height=\"40\" rx=\"4\" ry=\"4\" stroke=\"#ffffff\" stroke-width=\"0\" fill=\"#5e7ce0\" fill-opacity=\"1\" /><text x=\"3132.8\" y=\"280.0\" font-size=\"20px\" dominant-baseline=\"middle\" text-anchor=\"middle\" font-family=\"Arial\" font-weight=\"normal\" fill=\"#ffffff\" >X </text><rect x=\"3112.8\" y=\"200.0\" width=\"40.0\" height=\"40\" rx=\"4\" ry=\"4\" stroke=\"#ffffff\" stroke-width=\"0\" fill=\"#5e7ce0\" fill-opacity=\"1\" /><text x=\"3132.8\" y=\"220.0\" font-size=\"20px\" dominant-baseline=\"middle\" text-anchor=\"middle\" font-family=\"Arial\" font-weight=\"normal\" fill=\"#ffffff\" >X </text><rect x=\"3112.8\" y=\"140.0\" width=\"40.0\" height=\"40\" rx=\"4\" ry=\"4\" stroke=\"#ffffff\" stroke-width=\"0\" fill=\"#5e7ce0\" fill-opacity=\"1\" /><text x=\"3132.8\" y=\"160.0\" font-size=\"20px\" dominant-baseline=\"middle\" text-anchor=\"middle\" font-family=\"Arial\" font-weight=\"normal\" fill=\"#ffffff\" >X </text><circle cx=\"3212.8\" cy=\"280.0\" r=\"4\" fill=\"#fac209\" /><circle cx=\"3212.8\" cy=\"220.0\" r=\"4\" fill=\"#fac209\" /><circle cx=\"3212.8\" cy=\"160.0\" r=\"4\" fill=\"#fac209\" /><circle cx=\"3212.8\" cy=\"100.0\" r=\"4\" fill=\"#fac209\" /><line x1=\"3212.8\" x2=\"3212.8\" y1=\"40.0\" y2=\"280.0\" stroke=\"#fac209\" stroke-width=\"3\" /><rect x=\"3172.8\" y=\"20.0\" width=\"80.0\" height=\"40\" rx=\"4\" ry=\"4\" stroke=\"#ffffff\" stroke-width=\"0\" fill=\"#fac209\" fill-opacity=\"1\" /><text x=\"3212.8\" y=\"36.0\" font-size=\"20px\" dominant-baseline=\"middle\" text-anchor=\"middle\" font-family=\"Arial\" font-weight=\"normal\" fill=\"#ffffff\" >RY </text><text x=\"3212.8\" y=\"52.0\" font-size=\"14.0px\" dominant-baseline=\"middle\" text-anchor=\"middle\" font-family=\"Arial\" font-weight=\"normal\" fill=\"#ffffff\" >0.2507 </text><rect x=\"3272.8\" y=\"260.0\" width=\"40.0\" height=\"40\" rx=\"4\" ry=\"4\" stroke=\"#ffffff\" stroke-width=\"0\" fill=\"#5e7ce0\" fill-opacity=\"1\" /><text x=\"3292.8\" y=\"280.0\" font-size=\"20px\" dominant-baseline=\"middle\" text-anchor=\"middle\" font-family=\"Arial\" font-weight=\"normal\" fill=\"#ffffff\" >X </text><rect x=\"3272.8\" y=\"200.0\" width=\"40.0\" height=\"40\" rx=\"4\" ry=\"4\" stroke=\"#ffffff\" stroke-width=\"0\" fill=\"#5e7ce0\" fill-opacity=\"1\" /><text x=\"3292.8\" y=\"220.0\" font-size=\"20px\" dominant-baseline=\"middle\" text-anchor=\"middle\" font-family=\"Arial\" font-weight=\"normal\" fill=\"#ffffff\" >X </text><rect x=\"3272.8\" y=\"140.0\" width=\"40.0\" height=\"40\" rx=\"4\" ry=\"4\" stroke=\"#ffffff\" stroke-width=\"0\" fill=\"#5e7ce0\" fill-opacity=\"1\" /><text x=\"3292.8\" y=\"160.0\" font-size=\"20px\" dominant-baseline=\"middle\" text-anchor=\"middle\" font-family=\"Arial\" font-weight=\"normal\" fill=\"#ffffff\" >X </text><rect x=\"3332.8\" y=\"20.0\" width=\"0\" height=\"340\" fill=\"gray\" fill-opacity=\"0.8\" /><rect x=\"3332.8\" y=\"200.0\" width=\"40.0\" height=\"40\" rx=\"4\" ry=\"4\" stroke=\"#ffffff\" stroke-width=\"0\" fill=\"#5e7ce0\" fill-opacity=\"1\" /><text x=\"3352.8\" y=\"220.0\" font-size=\"20px\" dominant-baseline=\"middle\" text-anchor=\"middle\" font-family=\"Arial\" font-weight=\"normal\" fill=\"#ffffff\" >X </text><rect x=\"3332.8\" y=\"140.0\" width=\"40.0\" height=\"40\" rx=\"4\" ry=\"4\" stroke=\"#ffffff\" stroke-width=\"0\" fill=\"#5e7ce0\" fill-opacity=\"1\" /><text x=\"3352.8\" y=\"160.0\" font-size=\"20px\" dominant-baseline=\"middle\" text-anchor=\"middle\" font-family=\"Arial\" font-weight=\"normal\" fill=\"#ffffff\" >X </text><circle cx=\"3432.8\" cy=\"280.0\" r=\"4\" fill=\"#fac209\" /><circle cx=\"3432.8\" cy=\"220.0\" r=\"4\" fill=\"#fac209\" /><circle cx=\"3432.8\" cy=\"160.0\" r=\"4\" fill=\"#fac209\" /><circle cx=\"3432.8\" cy=\"100.0\" r=\"4\" fill=\"#fac209\" /><line x1=\"3432.8\" x2=\"3432.8\" y1=\"40.0\" y2=\"280.0\" stroke=\"#fac209\" stroke-width=\"3\" /><rect x=\"3392.8\" y=\"20.0\" width=\"80.0\" height=\"40\" rx=\"4\" ry=\"4\" stroke=\"#ffffff\" stroke-width=\"0\" fill=\"#fac209\" fill-opacity=\"1\" /><text x=\"3432.8\" y=\"36.0\" font-size=\"20px\" dominant-baseline=\"middle\" text-anchor=\"middle\" font-family=\"Arial\" font-weight=\"normal\" fill=\"#ffffff\" >RY </text><text x=\"3432.8\" y=\"52.0\" font-size=\"14.0px\" dominant-baseline=\"middle\" text-anchor=\"middle\" font-family=\"Arial\" font-weight=\"normal\" fill=\"#ffffff\" >-0.2867 </text><rect x=\"3492.8\" y=\"200.0\" width=\"40.0\" height=\"40\" rx=\"4\" ry=\"4\" stroke=\"#ffffff\" stroke-width=\"0\" fill=\"#5e7ce0\" fill-opacity=\"1\" /><text x=\"3512.8\" y=\"220.0\" font-size=\"20px\" dominant-baseline=\"middle\" text-anchor=\"middle\" font-family=\"Arial\" font-weight=\"normal\" fill=\"#ffffff\" >X </text><rect x=\"3492.8\" y=\"140.0\" width=\"40.0\" height=\"40\" rx=\"4\" ry=\"4\" stroke=\"#ffffff\" stroke-width=\"0\" fill=\"#5e7ce0\" fill-opacity=\"1\" /><text x=\"3512.8\" y=\"160.0\" font-size=\"20px\" dominant-baseline=\"middle\" text-anchor=\"middle\" font-family=\"Arial\" font-weight=\"normal\" fill=\"#ffffff\" >X </text><rect x=\"3552.8\" y=\"20.0\" width=\"0\" height=\"340\" fill=\"gray\" fill-opacity=\"0.8\" /><rect x=\"3552.8\" y=\"260.0\" width=\"40.0\" height=\"40\" rx=\"4\" ry=\"4\" stroke=\"#ffffff\" stroke-width=\"0\" fill=\"#5e7ce0\" fill-opacity=\"1\" /><text x=\"3572.8\" y=\"280.0\" font-size=\"20px\" dominant-baseline=\"middle\" text-anchor=\"middle\" font-family=\"Arial\" font-weight=\"normal\" fill=\"#ffffff\" >X </text><rect x=\"3552.8\" y=\"140.0\" width=\"40.0\" height=\"40\" rx=\"4\" ry=\"4\" stroke=\"#ffffff\" stroke-width=\"0\" fill=\"#5e7ce0\" fill-opacity=\"1\" /><text x=\"3572.8\" y=\"160.0\" font-size=\"20px\" dominant-baseline=\"middle\" text-anchor=\"middle\" font-family=\"Arial\" font-weight=\"normal\" fill=\"#ffffff\" >X </text><circle cx=\"3652.8\" cy=\"280.0\" r=\"4\" fill=\"#fac209\" /><circle cx=\"3652.8\" cy=\"220.0\" r=\"4\" fill=\"#fac209\" /><circle cx=\"3652.8\" cy=\"160.0\" r=\"4\" fill=\"#fac209\" /><circle cx=\"3652.8\" cy=\"100.0\" r=\"4\" fill=\"#fac209\" /><line x1=\"3652.8\" x2=\"3652.8\" y1=\"40.0\" y2=\"280.0\" stroke=\"#fac209\" stroke-width=\"3\" /><rect x=\"3612.8\" y=\"20.0\" width=\"80.0\" height=\"40\" rx=\"4\" ry=\"4\" stroke=\"#ffffff\" stroke-width=\"0\" fill=\"#fac209\" fill-opacity=\"1\" /><text x=\"3652.8\" y=\"36.0\" font-size=\"20px\" dominant-baseline=\"middle\" text-anchor=\"middle\" font-family=\"Arial\" font-weight=\"normal\" fill=\"#ffffff\" >RY </text><text x=\"3652.8\" y=\"52.0\" font-size=\"14.0px\" dominant-baseline=\"middle\" text-anchor=\"middle\" font-family=\"Arial\" font-weight=\"normal\" fill=\"#ffffff\" >-0.3349 </text><rect x=\"3712.8\" y=\"260.0\" width=\"40.0\" height=\"40\" rx=\"4\" ry=\"4\" stroke=\"#ffffff\" stroke-width=\"0\" fill=\"#5e7ce0\" fill-opacity=\"1\" /><text x=\"3732.8\" y=\"280.0\" font-size=\"20px\" dominant-baseline=\"middle\" text-anchor=\"middle\" font-family=\"Arial\" font-weight=\"normal\" fill=\"#ffffff\" >X </text><rect x=\"3712.8\" y=\"140.0\" width=\"40.0\" height=\"40\" rx=\"4\" ry=\"4\" stroke=\"#ffffff\" stroke-width=\"0\" fill=\"#5e7ce0\" fill-opacity=\"1\" /><text x=\"3732.8\" y=\"160.0\" font-size=\"20px\" dominant-baseline=\"middle\" text-anchor=\"middle\" font-family=\"Arial\" font-weight=\"normal\" fill=\"#ffffff\" >X </text><rect x=\"3772.8\" y=\"20.0\" width=\"0\" height=\"340\" fill=\"gray\" fill-opacity=\"0.8\" /><rect x=\"3772.8\" y=\"140.0\" width=\"40.0\" height=\"40\" rx=\"4\" ry=\"4\" stroke=\"#ffffff\" stroke-width=\"0\" fill=\"#5e7ce0\" fill-opacity=\"1\" /><text x=\"3792.8\" y=\"160.0\" font-size=\"20px\" dominant-baseline=\"middle\" text-anchor=\"middle\" font-family=\"Arial\" font-weight=\"normal\" fill=\"#ffffff\" >X </text><circle cx=\"3872.8\" cy=\"280.0\" r=\"4\" fill=\"#fac209\" /><circle cx=\"3872.8\" cy=\"220.0\" r=\"4\" fill=\"#fac209\" /><circle cx=\"3872.8\" cy=\"160.0\" r=\"4\" fill=\"#fac209\" /><circle cx=\"3872.8\" cy=\"100.0\" r=\"4\" fill=\"#fac209\" /><line x1=\"3872.8\" x2=\"3872.8\" y1=\"40.0\" y2=\"280.0\" stroke=\"#fac209\" stroke-width=\"3\" /><rect x=\"3832.8\" y=\"20.0\" width=\"80.0\" height=\"40\" rx=\"4\" ry=\"4\" stroke=\"#ffffff\" stroke-width=\"0\" fill=\"#fac209\" fill-opacity=\"1\" /><text x=\"3872.8\" y=\"36.0\" font-size=\"20px\" dominant-baseline=\"middle\" text-anchor=\"middle\" font-family=\"Arial\" font-weight=\"normal\" fill=\"#ffffff\" >RY </text><text x=\"3872.8\" y=\"52.0\" font-size=\"14.0px\" dominant-baseline=\"middle\" text-anchor=\"middle\" font-family=\"Arial\" font-weight=\"normal\" fill=\"#ffffff\" >-0.4027 </text><rect x=\"3932.8\" y=\"140.0\" width=\"40.0\" height=\"40\" rx=\"4\" ry=\"4\" stroke=\"#ffffff\" stroke-width=\"0\" fill=\"#5e7ce0\" fill-opacity=\"1\" /><text x=\"3952.8\" y=\"160.0\" font-size=\"20px\" dominant-baseline=\"middle\" text-anchor=\"middle\" font-family=\"Arial\" font-weight=\"normal\" fill=\"#ffffff\" >X </text><rect x=\"3992.8\" y=\"20.0\" width=\"0\" height=\"340\" fill=\"gray\" fill-opacity=\"0.8\" /><rect x=\"3992.8\" y=\"260.0\" width=\"40.0\" height=\"40\" rx=\"4\" ry=\"4\" stroke=\"#ffffff\" stroke-width=\"0\" fill=\"#5e7ce0\" fill-opacity=\"1\" /><text x=\"4012.8\" y=\"280.0\" font-size=\"20px\" dominant-baseline=\"middle\" text-anchor=\"middle\" font-family=\"Arial\" font-weight=\"normal\" fill=\"#ffffff\" >X </text><rect x=\"3992.8\" y=\"200.0\" width=\"40.0\" height=\"40\" rx=\"4\" ry=\"4\" stroke=\"#ffffff\" stroke-width=\"0\" fill=\"#5e7ce0\" fill-opacity=\"1\" /><text x=\"4012.8\" y=\"220.0\" font-size=\"20px\" dominant-baseline=\"middle\" text-anchor=\"middle\" font-family=\"Arial\" font-weight=\"normal\" fill=\"#ffffff\" >X </text><circle cx=\"4092.8\" cy=\"280.0\" r=\"4\" fill=\"#fac209\" /><circle cx=\"4092.8\" cy=\"220.0\" r=\"4\" fill=\"#fac209\" /><circle cx=\"4092.8\" cy=\"160.0\" r=\"4\" fill=\"#fac209\" /><circle cx=\"4092.8\" cy=\"100.0\" r=\"4\" fill=\"#fac209\" /><line x1=\"4092.8\" x2=\"4092.8\" y1=\"40.0\" y2=\"280.0\" stroke=\"#fac209\" stroke-width=\"3\" /><rect x=\"4052.8\" y=\"20.0\" width=\"80.0\" height=\"40\" rx=\"4\" ry=\"4\" stroke=\"#ffffff\" stroke-width=\"0\" fill=\"#fac209\" fill-opacity=\"1\" /><text x=\"4092.8\" y=\"36.0\" font-size=\"20px\" dominant-baseline=\"middle\" text-anchor=\"middle\" font-family=\"Arial\" font-weight=\"normal\" fill=\"#ffffff\" >RY </text><text x=\"4092.8\" y=\"52.0\" font-size=\"14.0px\" dominant-baseline=\"middle\" text-anchor=\"middle\" font-family=\"Arial\" font-weight=\"normal\" fill=\"#ffffff\" >-0.5054 </text><rect x=\"4152.8\" y=\"260.0\" width=\"40.0\" height=\"40\" rx=\"4\" ry=\"4\" stroke=\"#ffffff\" stroke-width=\"0\" fill=\"#5e7ce0\" fill-opacity=\"1\" /><text x=\"4172.8\" y=\"280.0\" font-size=\"20px\" dominant-baseline=\"middle\" text-anchor=\"middle\" font-family=\"Arial\" font-weight=\"normal\" fill=\"#ffffff\" >X </text><rect x=\"4152.8\" y=\"200.0\" width=\"40.0\" height=\"40\" rx=\"4\" ry=\"4\" stroke=\"#ffffff\" stroke-width=\"0\" fill=\"#5e7ce0\" fill-opacity=\"1\" /><text x=\"4172.8\" y=\"220.0\" font-size=\"20px\" dominant-baseline=\"middle\" text-anchor=\"middle\" font-family=\"Arial\" font-weight=\"normal\" fill=\"#ffffff\" >X </text><rect x=\"4212.8\" y=\"20.0\" width=\"0\" height=\"340\" fill=\"gray\" fill-opacity=\"0.8\" /><rect x=\"4212.8\" y=\"200.0\" width=\"40.0\" height=\"40\" rx=\"4\" ry=\"4\" stroke=\"#ffffff\" stroke-width=\"0\" fill=\"#5e7ce0\" fill-opacity=\"1\" /><text x=\"4232.8\" y=\"220.0\" font-size=\"20px\" dominant-baseline=\"middle\" text-anchor=\"middle\" font-family=\"Arial\" font-weight=\"normal\" fill=\"#ffffff\" >X </text><circle cx=\"4312.8\" cy=\"280.0\" r=\"4\" fill=\"#fac209\" /><circle cx=\"4312.8\" cy=\"220.0\" r=\"4\" fill=\"#fac209\" /><circle cx=\"4312.8\" cy=\"160.0\" r=\"4\" fill=\"#fac209\" /><circle cx=\"4312.8\" cy=\"100.0\" r=\"4\" fill=\"#fac209\" /><line x1=\"4312.8\" x2=\"4312.8\" y1=\"40.0\" y2=\"280.0\" stroke=\"#fac209\" stroke-width=\"3\" /><rect x=\"4272.8\" y=\"20.0\" width=\"80.0\" height=\"40\" rx=\"4\" ry=\"4\" stroke=\"#ffffff\" stroke-width=\"0\" fill=\"#fac209\" fill-opacity=\"1\" /><text x=\"4312.8\" y=\"36.0\" font-size=\"20px\" dominant-baseline=\"middle\" text-anchor=\"middle\" font-family=\"Arial\" font-weight=\"normal\" fill=\"#ffffff\" >RY </text><text x=\"4312.8\" y=\"52.0\" font-size=\"14.0px\" dominant-baseline=\"middle\" text-anchor=\"middle\" font-family=\"Arial\" font-weight=\"normal\" fill=\"#ffffff\" >-0.6797 </text><rect x=\"4372.8\" y=\"200.0\" width=\"40.0\" height=\"40\" rx=\"4\" ry=\"4\" stroke=\"#ffffff\" stroke-width=\"0\" fill=\"#5e7ce0\" fill-opacity=\"1\" /><text x=\"4392.8\" y=\"220.0\" font-size=\"20px\" dominant-baseline=\"middle\" text-anchor=\"middle\" font-family=\"Arial\" font-weight=\"normal\" fill=\"#ffffff\" >X </text><rect x=\"4432.8\" y=\"20.0\" width=\"0\" height=\"340\" fill=\"gray\" fill-opacity=\"0.8\" /><rect x=\"4432.8\" y=\"260.0\" width=\"40.0\" height=\"40\" rx=\"4\" ry=\"4\" stroke=\"#ffffff\" stroke-width=\"0\" fill=\"#5e7ce0\" fill-opacity=\"1\" /><text x=\"4452.8\" y=\"280.0\" font-size=\"20px\" dominant-baseline=\"middle\" text-anchor=\"middle\" font-family=\"Arial\" font-weight=\"normal\" fill=\"#ffffff\" >X </text><circle cx=\"4532.8\" cy=\"280.0\" r=\"4\" fill=\"#fac209\" /><circle cx=\"4532.8\" cy=\"220.0\" r=\"4\" fill=\"#fac209\" /><circle cx=\"4532.8\" cy=\"160.0\" r=\"4\" fill=\"#fac209\" /><circle cx=\"4532.8\" cy=\"100.0\" r=\"4\" fill=\"#fac209\" /><line x1=\"4532.8\" x2=\"4532.8\" y1=\"40.0\" y2=\"280.0\" stroke=\"#fac209\" stroke-width=\"3\" /><rect x=\"4492.8\" y=\"20.0\" width=\"80.0\" height=\"40\" rx=\"4\" ry=\"4\" stroke=\"#ffffff\" stroke-width=\"0\" fill=\"#fac209\" fill-opacity=\"1\" /><text x=\"4532.8\" y=\"36.0\" font-size=\"20px\" dominant-baseline=\"middle\" text-anchor=\"middle\" font-family=\"Arial\" font-weight=\"normal\" fill=\"#ffffff\" >RY </text><text x=\"4532.8\" y=\"52.0\" font-size=\"14.0px\" dominant-baseline=\"middle\" text-anchor=\"middle\" font-family=\"Arial\" font-weight=\"normal\" fill=\"#ffffff\" >-1.0472 </text><rect x=\"4592.8\" y=\"260.0\" width=\"40.0\" height=\"40\" rx=\"4\" ry=\"4\" stroke=\"#ffffff\" stroke-width=\"0\" fill=\"#5e7ce0\" fill-opacity=\"1\" /><text x=\"4612.8\" y=\"280.0\" font-size=\"20px\" dominant-baseline=\"middle\" text-anchor=\"middle\" font-family=\"Arial\" font-weight=\"normal\" fill=\"#ffffff\" >X </text><rect x=\"4652.8\" y=\"20.0\" width=\"0\" height=\"340\" fill=\"gray\" fill-opacity=\"0.8\" /><circle cx=\"4672.8\" cy=\"280.0\" r=\"4\" fill=\"#fac209\" /><circle cx=\"4672.8\" cy=\"220.0\" r=\"4\" fill=\"#fac209\" /><circle cx=\"4672.8\" cy=\"160.0\" r=\"4\" fill=\"#fac209\" /><circle cx=\"4672.8\" cy=\"100.0\" r=\"4\" fill=\"#fac209\" /><line x1=\"4672.8\" x2=\"4672.8\" y1=\"40.0\" y2=\"280.0\" stroke=\"#fac209\" stroke-width=\"3\" /><rect x=\"4652.8\" y=\"20.0\" width=\"40.0\" height=\"40\" rx=\"4\" ry=\"4\" stroke=\"#ffffff\" stroke-width=\"0\" fill=\"#fac209\" fill-opacity=\"1\" /><text x=\"4672.8\" y=\"36.0\" font-size=\"20px\" dominant-baseline=\"middle\" text-anchor=\"middle\" font-family=\"Arial\" font-weight=\"normal\" fill=\"#ffffff\" >RY </text><text x=\"4672.8\" y=\"52.0\" font-size=\"14.0px\" dominant-baseline=\"middle\" text-anchor=\"middle\" font-family=\"Arial\" font-weight=\"normal\" fill=\"#ffffff\" >-π </text><rect x=\"4712.8\" y=\"20.0\" width=\"0\" height=\"340\" fill=\"gray\" fill-opacity=\"0.8\" /><rect x=\"4712.8\" y=\"80.0\" width=\"40.0\" height=\"40\" rx=\"4\" ry=\"4\" stroke=\"#ffffff\" stroke-width=\"0\" fill=\"#5e7ce0\" fill-opacity=\"1\" /><text x=\"4732.8\" y=\"100.0\" font-size=\"20px\" dominant-baseline=\"middle\" text-anchor=\"middle\" font-family=\"Arial\" font-weight=\"normal\" fill=\"#ffffff\" >H </text><circle cx=\"4792.8\" cy=\"160.0\" r=\"4\" fill=\"#fac209\" /><line x1=\"4792.8\" x2=\"4792.8\" y1=\"100.0\" y2=\"160.0\" stroke=\"#fac209\" stroke-width=\"3\" /><rect x=\"4772.8\" y=\"80.0\" width=\"40.0\" height=\"40\" rx=\"4\" ry=\"4\" stroke=\"#ffffff\" stroke-width=\"0\" fill=\"#fac209\" fill-opacity=\"1\" /><text x=\"4792.8\" y=\"96.0\" font-size=\"20px\" dominant-baseline=\"middle\" text-anchor=\"middle\" font-family=\"Arial\" font-weight=\"normal\" fill=\"#ffffff\" >PS </text><text x=\"4792.8\" y=\"112.0\" font-size=\"14.0px\" dominant-baseline=\"middle\" text-anchor=\"middle\" font-family=\"Arial\" font-weight=\"normal\" fill=\"#ffffff\" >π/2 </text><circle cx=\"4852.8\" cy=\"220.0\" r=\"4\" fill=\"#fac209\" /><line x1=\"4852.8\" x2=\"4852.8\" y1=\"100.0\" y2=\"220.0\" stroke=\"#fac209\" stroke-width=\"3\" /><rect x=\"4832.8\" y=\"80.0\" width=\"40.0\" height=\"40\" rx=\"4\" ry=\"4\" stroke=\"#ffffff\" stroke-width=\"0\" fill=\"#fac209\" fill-opacity=\"1\" /><text x=\"4852.8\" y=\"96.0\" font-size=\"20px\" dominant-baseline=\"middle\" text-anchor=\"middle\" font-family=\"Arial\" font-weight=\"normal\" fill=\"#ffffff\" >PS </text><text x=\"4852.8\" y=\"112.0\" font-size=\"14.0px\" dominant-baseline=\"middle\" text-anchor=\"middle\" font-family=\"Arial\" font-weight=\"normal\" fill=\"#ffffff\" >π/4 </text><circle cx=\"4912.8\" cy=\"280.0\" r=\"4\" fill=\"#fac209\" /><line x1=\"4912.8\" x2=\"4912.8\" y1=\"100.0\" y2=\"280.0\" stroke=\"#fac209\" stroke-width=\"3\" /><rect x=\"4892.8\" y=\"80.0\" width=\"40.0\" height=\"40\" rx=\"4\" ry=\"4\" stroke=\"#ffffff\" stroke-width=\"0\" fill=\"#fac209\" fill-opacity=\"1\" /><text x=\"4912.8\" y=\"96.0\" font-size=\"20px\" dominant-baseline=\"middle\" text-anchor=\"middle\" font-family=\"Arial\" font-weight=\"normal\" fill=\"#ffffff\" >PS </text><text x=\"4912.8\" y=\"112.0\" font-size=\"14.0px\" dominant-baseline=\"middle\" text-anchor=\"middle\" font-family=\"Arial\" font-weight=\"normal\" fill=\"#ffffff\" >π/8 </text><rect x=\"4952.8\" y=\"140.0\" width=\"40.0\" height=\"40\" rx=\"4\" ry=\"4\" stroke=\"#ffffff\" stroke-width=\"0\" fill=\"#5e7ce0\" fill-opacity=\"1\" /><text x=\"4972.8\" y=\"160.0\" font-size=\"20px\" dominant-baseline=\"middle\" text-anchor=\"middle\" font-family=\"Arial\" font-weight=\"normal\" fill=\"#ffffff\" >H </text><circle cx=\"5032.8\" cy=\"220.0\" r=\"4\" fill=\"#fac209\" /><line x1=\"5032.8\" x2=\"5032.8\" y1=\"160.0\" y2=\"220.0\" stroke=\"#fac209\" stroke-width=\"3\" /><rect x=\"5012.8\" y=\"140.0\" width=\"40.0\" height=\"40\" rx=\"4\" ry=\"4\" stroke=\"#ffffff\" stroke-width=\"0\" fill=\"#fac209\" fill-opacity=\"1\" /><text x=\"5032.8\" y=\"156.0\" font-size=\"20px\" dominant-baseline=\"middle\" text-anchor=\"middle\" font-family=\"Arial\" font-weight=\"normal\" fill=\"#ffffff\" >PS </text><text x=\"5032.8\" y=\"172.0\" font-size=\"14.0px\" dominant-baseline=\"middle\" text-anchor=\"middle\" font-family=\"Arial\" font-weight=\"normal\" fill=\"#ffffff\" >π/2 </text><circle cx=\"5092.8\" cy=\"280.0\" r=\"4\" fill=\"#fac209\" /><line x1=\"5092.8\" x2=\"5092.8\" y1=\"160.0\" y2=\"280.0\" stroke=\"#fac209\" stroke-width=\"3\" /><rect x=\"5072.8\" y=\"140.0\" width=\"40.0\" height=\"40\" rx=\"4\" ry=\"4\" stroke=\"#ffffff\" stroke-width=\"0\" fill=\"#fac209\" fill-opacity=\"1\" /><text x=\"5092.8\" y=\"156.0\" font-size=\"20px\" dominant-baseline=\"middle\" text-anchor=\"middle\" font-family=\"Arial\" font-weight=\"normal\" fill=\"#ffffff\" >PS </text><text x=\"5092.8\" y=\"172.0\" font-size=\"14.0px\" dominant-baseline=\"middle\" text-anchor=\"middle\" font-family=\"Arial\" font-weight=\"normal\" fill=\"#ffffff\" >π/4 </text><rect x=\"5132.8\" y=\"200.0\" width=\"40.0\" height=\"40\" rx=\"4\" ry=\"4\" stroke=\"#ffffff\" stroke-width=\"0\" fill=\"#5e7ce0\" fill-opacity=\"1\" /><text x=\"5152.8\" y=\"220.0\" font-size=\"20px\" dominant-baseline=\"middle\" text-anchor=\"middle\" font-family=\"Arial\" font-weight=\"normal\" fill=\"#ffffff\" >H </text><circle cx=\"5212.8\" cy=\"280.0\" r=\"4\" fill=\"#fac209\" /><line x1=\"5212.8\" x2=\"5212.8\" y1=\"220.0\" y2=\"280.0\" stroke=\"#fac209\" stroke-width=\"3\" /><rect x=\"5192.8\" y=\"200.0\" width=\"40.0\" height=\"40\" rx=\"4\" ry=\"4\" stroke=\"#ffffff\" stroke-width=\"0\" fill=\"#fac209\" fill-opacity=\"1\" /><text x=\"5212.8\" y=\"216.0\" font-size=\"20px\" dominant-baseline=\"middle\" text-anchor=\"middle\" font-family=\"Arial\" font-weight=\"normal\" fill=\"#ffffff\" >PS </text><text x=\"5212.8\" y=\"232.0\" font-size=\"14.0px\" dominant-baseline=\"middle\" text-anchor=\"middle\" font-family=\"Arial\" font-weight=\"normal\" fill=\"#ffffff\" >π/2 </text><rect x=\"5252.8\" y=\"260.0\" width=\"40.0\" height=\"40\" rx=\"4\" ry=\"4\" stroke=\"#ffffff\" stroke-width=\"0\" fill=\"#5e7ce0\" fill-opacity=\"1\" /><text x=\"5272.8\" y=\"280.0\" font-size=\"20px\" dominant-baseline=\"middle\" text-anchor=\"middle\" font-family=\"Arial\" font-weight=\"normal\" fill=\"#ffffff\" >H </text><line x1=\"5332.8\" x2=\"5332.8\" y1=\"80.0\" y2=\"300.0\" stroke-width=\"3\" stroke=\"#16acff\" /><rect x=\"5312.8\" y=\"80.0\" width=\"40\" height=\"40\" rx=\"4\" ry=\"4\" fill=\"#16acff\" fill-opacity=\"1\" stroke=\"#ffffff\" stroke-width=\"0\" /><path d=\"M 5323.2 96.31384387633061 L 5328.0 88.0 L 5332.8 96.31384387633061 L 5329.4400000000005 96.31384387633061 L 5329.4400000000005 112.0 L 5326.56 112.0 L 5326.56 96.31384387633061 Z\" fill=\"#ffffff\" /><path d=\"M 5342.400000000001 103.68615612366939 L 5337.6 112.0 L 5332.8 103.68615612366939 L 5336.16 103.68615612366939 L 5336.16 88.0 L 5339.04 88.0 L 5339.04 103.68615612366939 Z\" fill=\"#ffffff\" /><rect x=\"5312.8\" y=\"260.0\" width=\"40\" height=\"40\" rx=\"4\" ry=\"4\" fill=\"#16acff\" fill-opacity=\"1\" stroke=\"#ffffff\" stroke-width=\"0\" /><path d=\"M 5323.2 276.3138438763306 L 5328.0 268.0 L 5332.8 276.3138438763306 L 5329.4400000000005 276.3138438763306 L 5329.4400000000005 292.0 L 5326.56 292.0 L 5326.56 276.3138438763306 Z\" fill=\"#ffffff\" /><path d=\"M 5342.400000000001 283.6861561236694 L 5337.6 292.0 L 5332.8 283.6861561236694 L 5336.16 283.6861561236694 L 5336.16 268.0 L 5339.04 268.0 L 5339.04 283.6861561236694 Z\" fill=\"#ffffff\" /><line x1=\"5392.8\" x2=\"5392.8\" y1=\"140.0\" y2=\"240.0\" stroke-width=\"3\" stroke=\"#16acff\" /><rect x=\"5372.8\" y=\"140.0\" width=\"40\" height=\"40\" rx=\"4\" ry=\"4\" fill=\"#16acff\" fill-opacity=\"1\" stroke=\"#ffffff\" stroke-width=\"0\" /><path d=\"M 5383.2 156.31384387633062 L 5388.0 148.0 L 5392.8 156.31384387633062 L 5389.4400000000005 156.31384387633062 L 5389.4400000000005 172.0 L 5386.56 172.0 L 5386.56 156.31384387633062 Z\" fill=\"#ffffff\" /><path d=\"M 5402.400000000001 163.68615612366938 L 5397.6 172.0 L 5392.8 163.68615612366938 L 5396.16 163.68615612366938 L 5396.16 148.0 L 5399.04 148.0 L 5399.04 163.68615612366938 Z\" fill=\"#ffffff\" /><rect x=\"5372.8\" y=\"200.0\" width=\"40\" height=\"40\" rx=\"4\" ry=\"4\" fill=\"#16acff\" fill-opacity=\"1\" stroke=\"#ffffff\" stroke-width=\"0\" /><path d=\"M 5383.2 216.31384387633062 L 5388.0 208.0 L 5392.8 216.31384387633062 L 5389.4400000000005 216.31384387633062 L 5389.4400000000005 232.0 L 5386.56 232.0 L 5386.56 216.31384387633062 Z\" fill=\"#ffffff\" /><path d=\"M 5402.400000000001 223.68615612366938 L 5397.6 232.0 L 5392.8 223.68615612366938 L 5396.16 223.68615612366938 L 5396.16 208.0 L 5399.04 208.0 L 5399.04 223.68615612366938 Z\" fill=\"#ffffff\" /><circle cx=\"5432.8\" cy=\"280.0\" r=\"4\" fill=\"#5e7ce0\" /><line x1=\"5432.8\" x2=\"5432.8\" y1=\"280.0\" y2=\"340.0\" stroke=\"#5e7ce0\" stroke-width=\"3\" /><rect x=\"5372.8\" y=\"320.0\" width=\"120.0\" height=\"40\" rx=\"4\" ry=\"4\" stroke=\"#ffffff\" stroke-width=\"0\" fill=\"#5e7ce0\" fill-opacity=\"1\" /><text x=\"5432.8\" y=\"340.0\" font-size=\"20px\" dominant-baseline=\"middle\" text-anchor=\"middle\" font-family=\"Arial\" font-weight=\"normal\" fill=\"#ffffff\" >RZ(π/2)^1 </text><circle cx=\"5572.8\" cy=\"220.0\" r=\"4\" fill=\"#5e7ce0\" /><line x1=\"5572.8\" x2=\"5572.8\" y1=\"220.0\" y2=\"340.0\" stroke=\"#5e7ce0\" stroke-width=\"3\" /><rect x=\"5512.8\" y=\"320.0\" width=\"120.0\" height=\"40\" rx=\"4\" ry=\"4\" stroke=\"#ffffff\" stroke-width=\"0\" fill=\"#5e7ce0\" fill-opacity=\"1\" /><text x=\"5572.8\" y=\"340.0\" font-size=\"20px\" dominant-baseline=\"middle\" text-anchor=\"middle\" font-family=\"Arial\" font-weight=\"normal\" fill=\"#ffffff\" >RZ(π/2)^2 </text><circle cx=\"5712.8\" cy=\"160.0\" r=\"4\" fill=\"#5e7ce0\" /><line x1=\"5712.8\" x2=\"5712.8\" y1=\"160.0\" y2=\"340.0\" stroke=\"#5e7ce0\" stroke-width=\"3\" /><rect x=\"5652.8\" y=\"320.0\" width=\"120.0\" height=\"40\" rx=\"4\" ry=\"4\" stroke=\"#ffffff\" stroke-width=\"0\" fill=\"#5e7ce0\" fill-opacity=\"1\" /><text x=\"5712.8\" y=\"340.0\" font-size=\"20px\" dominant-baseline=\"middle\" text-anchor=\"middle\" font-family=\"Arial\" font-weight=\"normal\" fill=\"#ffffff\" >RZ(π/2)^4 </text><circle cx=\"5852.8\" cy=\"100.0\" r=\"4\" fill=\"#5e7ce0\" /><line x1=\"5852.8\" x2=\"5852.8\" y1=\"100.0\" y2=\"340.0\" stroke=\"#5e7ce0\" stroke-width=\"3\" /><rect x=\"5792.8\" y=\"320.0\" width=\"120.0\" height=\"40\" rx=\"4\" ry=\"4\" stroke=\"#ffffff\" stroke-width=\"0\" fill=\"#5e7ce0\" fill-opacity=\"1\" /><text x=\"5852.8\" y=\"340.0\" font-size=\"20px\" dominant-baseline=\"middle\" text-anchor=\"middle\" font-family=\"Arial\" font-weight=\"normal\" fill=\"#ffffff\" >RZ(π/2)^8 </text><rect x=\"5932.8\" y=\"260.0\" width=\"40.0\" height=\"40\" rx=\"4\" ry=\"4\" stroke=\"#ffffff\" stroke-width=\"0\" fill=\"#5e7ce0\" fill-opacity=\"1\" /><text x=\"5952.8\" y=\"280.0\" font-size=\"20px\" dominant-baseline=\"middle\" text-anchor=\"middle\" font-family=\"Arial\" font-weight=\"normal\" fill=\"#ffffff\" >H </text><rect x=\"5932.8\" y=\"200.0\" width=\"40.0\" height=\"40\" rx=\"4\" ry=\"4\" stroke=\"#ffffff\" stroke-width=\"0\" fill=\"#5e7ce0\" fill-opacity=\"1\" /><text x=\"5952.8\" y=\"220.0\" font-size=\"20px\" dominant-baseline=\"middle\" text-anchor=\"middle\" font-family=\"Arial\" font-weight=\"normal\" fill=\"#ffffff\" >H </text><rect x=\"5932.8\" y=\"140.0\" width=\"40.0\" height=\"40\" rx=\"4\" ry=\"4\" stroke=\"#ffffff\" stroke-width=\"0\" fill=\"#5e7ce0\" fill-opacity=\"1\" /><text x=\"5952.8\" y=\"160.0\" font-size=\"20px\" dominant-baseline=\"middle\" text-anchor=\"middle\" font-family=\"Arial\" font-weight=\"normal\" fill=\"#ffffff\" >H </text><rect x=\"5932.8\" y=\"80.0\" width=\"40.0\" height=\"40\" rx=\"4\" ry=\"4\" stroke=\"#ffffff\" stroke-width=\"0\" fill=\"#5e7ce0\" fill-opacity=\"1\" /><text x=\"5952.8\" y=\"100.0\" font-size=\"20px\" dominant-baseline=\"middle\" text-anchor=\"middle\" font-family=\"Arial\" font-weight=\"normal\" fill=\"#ffffff\" >H </text></svg>"
      ],
      "text/plain": [
       "<mindquantum.io.display.circuit_svg_drawer.SVGCircuit at 0x7fc83aeabf40>"
      ]
     },
     "execution_count": 4,
     "metadata": {},
     "output_type": "execute_result"
    }
   ],
   "source": [
    "from mindquantum.algorithm.library import qft\n",
    "\n",
    "# q1 ~ q4 : for QPE\n",
    "t = 4\n",
    "qc = [4, 3, 2, 1]\n",
    "\n",
    "# store |b> , and store the result |x>\n",
    "qb = 5\n",
    "\n",
    "# use for conditional rotation\n",
    "qs = 0\n",
    "\n",
    "# choose a time evolution\n",
    "dt = np.pi / 4\n",
    "\n",
    "# choose a small C\n",
    "C = 0.5\n",
    "\n",
    "circ = Circuit()\n",
    "\n",
    "# prepare b\n",
    "circ += RY(2 * np.arcsin(0.8)).on(qb)\n",
    "\n",
    "# QPE\n",
    "for i in qc:\n",
    "    circ += H.on(i)\n",
    "\n",
    "for (i, q) in enumerate(qc):\n",
    "    circ += Power(RZ(-2 * dt), 2**i).on(qb, q)\n",
    "\n",
    "# apply inverse QFT\n",
    "circ += qft(list(reversed(qc))).hermitian()\n",
    "\n",
    "# conditional rotate\n",
    "circ += BARRIER\n",
    "for k in range(1, 2**t):\n",
    "    for i in range(t):\n",
    "        if (k & (1 << i)) == 0:\n",
    "            circ += X.on(qc[i])\n",
    "    phi = k / (2**t)\n",
    "    if k > 2**(t-1):\n",
    "        phi -= 1.0\n",
    "    l = 2 * np.pi / dt * phi\n",
    "    circ += RY(2 * np.arcsin(C / l)).on(qs, qc)\n",
    "\n",
    "    for i in range(t):\n",
    "        if (k & (1 << i)) == 0:\n",
    "            circ += X.on(qc[i])\n",
    "    circ += BARRIER\n",
    "\n",
    "# apply inverse QPE\n",
    "circ += qft(list(reversed(qc)))\n",
    "\n",
    "for (i, q) in enumerate(qc):\n",
    "    circ += Power(RZ(2 * dt), 2**i).on(qb, q)\n",
    "\n",
    "for i in qc:\n",
    "    circ += H.on(i)\n",
    "\n",
    "circ.svg()"
   ]
  },
  {
   "cell_type": "markdown",
   "metadata": {},
   "source": [
    "How do we verify the correctness of our results? Through measurement. Since the result is a quantum state $|x\\rangle$, currently MindQuantum does not have a method to directly extract the internal values of a specific qubit. Therefore, we can only obtain information about the state through measurement."
   ]
  },
  {
   "cell_type": "code",
   "execution_count": 5,
   "metadata": {},
   "outputs": [
    {
     "data": {
      "image/svg+xml": [
       "<svg xmlns=\"http://www.w3.org/2000/svg\" width=\"408.4\" height=\"207.0\" xmlns:xlink=\"http://www.w3.org/1999/xlink\"><rect x=\"0\" y=\"0\" width=\"408.4\" height=\"207.0\" fill=\"#ffffff\" /><text x=\"10\" y=\"17.0\" font-size=\"14px\" dominant-baseline=\"middle\" text-anchor=\"start\" >Shots:\n",
       " 100000 </text><text x=\"10\" y=\"31.0\" font-size=\"14px\" dominant-baseline=\"middle\" text-anchor=\"start\" >Keys: q5 q0 </text><line x1=\"38.4\" x2=\"398.4\" y1=\"62.0\" y2=\"62.0\" stroke=\"#adb0b8\" stroke-width=\"1\" /><line x1=\"38.4\" x2=\"38.4\" y1=\"55.0\" y2=\"62.0\" stroke=\"#adb0b8\" stroke-width=\"1\" /><text x=\"40.4\" y=\"60.0\" font-size=\"12px\" dominant-baseline=\"bottom\" text-anchor=\"start\" fill=\"#575d6c\" >0.0 </text><line x1=\"38.4\" x2=\"38.4\" y1=\"62.0\" y2=\"197.0\" stroke=\"#adb0b8\" stroke-width=\"1\" /><line x1=\"98.4\" x2=\"98.4\" y1=\"55.0\" y2=\"62.0\" stroke=\"#adb0b8\" stroke-width=\"1\" /><text x=\"100.4\" y=\"60.0\" font-size=\"12px\" dominant-baseline=\"bottom\" text-anchor=\"start\" fill=\"#575d6c\" >0.096 </text><line x1=\"98.4\" x2=\"98.4\" y1=\"62.0\" y2=\"197.0\" stroke=\"#dfe1e6\" stroke-width=\"1\" /><line x1=\"158.4\" x2=\"158.4\" y1=\"55.0\" y2=\"62.0\" stroke=\"#adb0b8\" stroke-width=\"1\" /><text x=\"160.4\" y=\"60.0\" font-size=\"12px\" dominant-baseline=\"bottom\" text-anchor=\"start\" fill=\"#575d6c\" >0.192 </text><line x1=\"158.4\" x2=\"158.4\" y1=\"62.0\" y2=\"197.0\" stroke=\"#dfe1e6\" stroke-width=\"1\" /><line x1=\"218.4\" x2=\"218.4\" y1=\"55.0\" y2=\"62.0\" stroke=\"#adb0b8\" stroke-width=\"1\" /><text x=\"220.4\" y=\"60.0\" font-size=\"12px\" dominant-baseline=\"bottom\" text-anchor=\"start\" fill=\"#575d6c\" >0.288 </text><line x1=\"218.4\" x2=\"218.4\" y1=\"62.0\" y2=\"197.0\" stroke=\"#dfe1e6\" stroke-width=\"1\" /><line x1=\"278.4\" x2=\"278.4\" y1=\"55.0\" y2=\"62.0\" stroke=\"#adb0b8\" stroke-width=\"1\" /><text x=\"280.4\" y=\"60.0\" font-size=\"12px\" dominant-baseline=\"bottom\" text-anchor=\"start\" fill=\"#575d6c\" >0.383 </text><line x1=\"278.4\" x2=\"278.4\" y1=\"62.0\" y2=\"197.0\" stroke=\"#dfe1e6\" stroke-width=\"1\" /><line x1=\"338.4\" x2=\"338.4\" y1=\"55.0\" y2=\"62.0\" stroke=\"#adb0b8\" stroke-width=\"1\" /><text x=\"340.4\" y=\"60.0\" font-size=\"12px\" dominant-baseline=\"bottom\" text-anchor=\"start\" fill=\"#575d6c\" >0.479 </text><line x1=\"338.4\" x2=\"338.4\" y1=\"62.0\" y2=\"197.0\" stroke=\"#dfe1e6\" stroke-width=\"1\" /><text x=\"29.4\" y=\"85.0\" font-size=\"12px\" dominant-baseline=\"middle\" text-anchor=\"end\" fill=\"#575d6c\" >00 </text><line x1=\"31.4\" x2=\"38.4\" y1=\"85.0\" y2=\"85.0\" stroke=\"#adb0b8\" stroke-width=\"1\" /><rect x=\"38.4\" y=\"73.0\" width=\"168.59235150528886\" height=\"24\" id=\"bar_0_1703949592333922817\" fill=\"#5e7ce0\" /><text x=\"216.99235150528887\" y=\"85.0\" font-size=\"14px\" dominant-baseline=\"middle\" text-anchor=\"start\" fill=\"#575d6c\" id=\"bar_text_0_1703949592333942217\" fill-opacity=\"0\" >26936 </text><text x=\"29.4\" y=\"115.0\" font-size=\"12px\" dominant-baseline=\"middle\" text-anchor=\"end\" fill=\"#575d6c\" >01 </text><line x1=\"31.4\" x2=\"38.4\" y1=\"115.0\" y2=\"115.0\" stroke=\"#adb0b8\" stroke-width=\"1\" /><rect x=\"38.4\" y=\"103.0\" width=\"56.8316955623709\" height=\"24\" id=\"bar_1_1703949592333957717\" fill=\"#16acff\" /><text x=\"105.2316955623709\" y=\"115.0\" font-size=\"14px\" dominant-baseline=\"middle\" text-anchor=\"start\" fill=\"#575d6c\" id=\"bar_text_1_1703949592333967417\" fill-opacity=\"0\" >9080 </text><text x=\"29.4\" y=\"145.0\" font-size=\"12px\" dominant-baseline=\"middle\" text-anchor=\"end\" fill=\"#575d6c\" >10 </text><line x1=\"31.4\" x2=\"38.4\" y1=\"145.0\" y2=\"145.0\" stroke=\"#adb0b8\" stroke-width=\"1\" /><rect x=\"38.4\" y=\"133.0\" width=\"299.99999999999994\" height=\"24\" id=\"bar_2_1703949592333980717\" fill=\"#5e7ce0\" /><text x=\"348.3999999999999\" y=\"145.0\" font-size=\"14px\" dominant-baseline=\"middle\" text-anchor=\"start\" fill=\"#575d6c\" id=\"bar_text_2_1703949592333993817\" fill-opacity=\"0\" >47931 </text><text x=\"29.4\" y=\"175.0\" font-size=\"12px\" dominant-baseline=\"middle\" text-anchor=\"end\" fill=\"#575d6c\" >11 </text><line x1=\"31.4\" x2=\"38.4\" y1=\"175.0\" y2=\"175.0\" stroke=\"#adb0b8\" stroke-width=\"1\" /><rect x=\"38.4\" y=\"163.0\" width=\"100.47568379545595\" height=\"24\" id=\"bar_3_1703949592334006817\" fill=\"#16acff\" /><text x=\"148.87568379545596\" y=\"175.0\" font-size=\"14px\" dominant-baseline=\"middle\" text-anchor=\"start\" fill=\"#575d6c\" id=\"bar_text_3_1703949592334015317\" fill-opacity=\"0\" >16053 </text><animate xlink:href=\"#bar_0_1703949592333922817\" attributeName=\"width\" from=\"0\" to=\"168.59235150528886\" dur=\"0.3s\" calcMode=\"spline\" values=\"0; 168.59235150528886\" keyTimes=\"0; 1\" keySplines=\"0.42 0 1 0.8;\" fill=\"freeze\" /><animate xlink:href=\"#bar_1_1703949592333957717\" attributeName=\"width\" from=\"0\" to=\"56.8316955623709\" dur=\"0.3s\" calcMode=\"spline\" values=\"0; 56.8316955623709\" keyTimes=\"0; 1\" keySplines=\"0.42 0 1 0.8;\" fill=\"freeze\" /><animate xlink:href=\"#bar_2_1703949592333980717\" attributeName=\"width\" from=\"0\" to=\"299.99999999999994\" dur=\"0.3s\" calcMode=\"spline\" values=\"0; 299.99999999999994\" keyTimes=\"0; 1\" keySplines=\"0.42 0 1 0.8;\" fill=\"freeze\" /><animate xlink:href=\"#bar_3_1703949592334006817\" attributeName=\"width\" from=\"0\" to=\"100.47568379545595\" dur=\"0.3s\" calcMode=\"spline\" values=\"0; 100.47568379545595\" keyTimes=\"0; 1\" keySplines=\"0.42 0 1 0.8;\" fill=\"freeze\" /><animate xlink:href=\"#bar_2_1703949592333980717\" attributeName=\"fill\" from=\"#5e7ce0\" to=\"#fac209\" dur=\"0.15s\" calcMode=\"spline\" values=\"#5e7ce0; #fac209\" keyTimes=\"0; 1\" keySplines=\"0.42 0 1 0.8;\" fill=\"freeze\" begin=\"0.3s\" /><animate xlink:href=\"#bar_text_0_1703949592333942217\" attributeName=\"fill-opacity\" from=\"0\" to=\"1\" dur=\"0.15s\" calcMode=\"spline\" values=\"0; 1\" keyTimes=\"0; 1\" keySplines=\"0.42 0 1 0.8;\" fill=\"freeze\" begin=\"0.3s\" /><animate xlink:href=\"#bar_text_1_1703949592333967417\" attributeName=\"fill-opacity\" from=\"0\" to=\"1\" dur=\"0.15s\" calcMode=\"spline\" values=\"0; 1\" keyTimes=\"0; 1\" keySplines=\"0.42 0 1 0.8;\" fill=\"freeze\" begin=\"0.3s\" /><animate xlink:href=\"#bar_text_2_1703949592333993817\" attributeName=\"fill-opacity\" from=\"0\" to=\"1\" dur=\"0.15s\" calcMode=\"spline\" values=\"0; 1\" keyTimes=\"0; 1\" keySplines=\"0.42 0 1 0.8;\" fill=\"freeze\" begin=\"0.3s\" /><animate xlink:href=\"#bar_text_3_1703949592334015317\" attributeName=\"fill-opacity\" from=\"0\" to=\"1\" dur=\"0.15s\" calcMode=\"spline\" values=\"0; 1\" keyTimes=\"0; 1\" keySplines=\"0.42 0 1 0.8;\" fill=\"freeze\" begin=\"0.3s\" /><text x=\"206.7\" y=\"41.0\" font-size=\"14px\" dominant-baseline=\"middle\" text-anchor=\"middle\" >probability </text></svg>"
      ],
      "text/plain": [
       "<mindquantum.io.display.measure_res_svg_drawer.SVGMeasure at 0x7fc8c4237fd0>"
      ]
     },
     "execution_count": 5,
     "metadata": {},
     "output_type": "execute_result"
    }
   ],
   "source": [
    "sim = Simulator(backend=\"mqvector\", n_qubits=2 + t)\n",
    "sim.apply_circuit(circ)\n",
    "\n",
    "circ_m = Circuit()\n",
    "circ_m += Measure().on(qs)\n",
    "circ_m += Measure().on(qb)\n",
    "\n",
    "res = sim.sampling(circ_m, shots=100000)\n",
    "res.svg()"
   ]
  },
  {
   "cell_type": "code",
   "execution_count": 6,
   "metadata": {},
   "outputs": [
    {
     "data": {
      "text/plain": [
       "0.3612780010344965"
      ]
     },
     "execution_count": 6,
     "metadata": {},
     "output_type": "execute_result"
    }
   ],
   "source": [
    "res.data.get(\"01\", 0) / (res.data.get(\"01\", 0) + res.data.get(\"11\", 0))"
   ]
  },
  {
   "cell_type": "markdown",
   "metadata": {},
   "source": [
    "By statistically analyzing the measurement results of `q5` when `q0` is 1, we observe that the proportion of `q5 = 0` is `0.36`, which is consistent with the expected answer.\n",
    "\n",
    "However, this method only provides information about the magnitude of the amplitudes. To obtain more information, such as phase, adjustments to the measurement would be required, but we won't discuss that here."
   ]
  },
  {
   "cell_type": "code",
   "execution_count": 7,
   "metadata": {},
   "outputs": [
    {
     "data": {
      "text/html": [
       "\n",
       "<table border=\"1\">\n",
       "  <tr>\n",
       "    <th>Software</th>\n",
       "    <th>Version</th>\n",
       "  </tr>\n",
       "<tr><td>mindquantum</td><td>0.9.11</td></tr>\n",
       "<tr><td>scipy</td><td>1.10.1</td></tr>\n",
       "<tr><td>numpy</td><td>1.23.5</td></tr>\n",
       "<tr>\n",
       "    <th>System</th>\n",
       "    <th>Info</th>\n",
       "</tr>\n",
       "<tr><td>Python</td><td>3.9.16</td></tr><tr><td>OS</td><td>Linux x86_64</td></tr><tr><td>Memory</td><td>8.3 GB</td></tr><tr><td>CPU Max Thread</td><td>8</td></tr><tr><td>Date</td><td>Sat Dec 30 23:19:52 2023</td></tr>\n",
       "</table>\n"
      ],
      "text/plain": [
       "<mindquantum.utils.show_info.InfoTable at 0x7fc83af96ee0>"
      ]
     },
     "execution_count": 7,
     "metadata": {},
     "output_type": "execute_result"
    }
   ],
   "source": [
    "from mindquantum.utils.show_info import InfoTable\n",
    "\n",
    "InfoTable('mindquantum', 'scipy', 'numpy')"
   ]
  }
 ],
 "metadata": {
  "kernelspec": {
   "display_name": "base",
   "language": "python",
   "name": "python3"
  },
  "language_info": {
   "codemirror_mode": {
    "name": "ipython",
    "version": 3
   },
   "file_extension": ".py",
   "mimetype": "text/x-python",
   "name": "python",
   "nbconvert_exporter": "python",
   "pygments_lexer": "ipython3",
   "version": "3.9.16"
  }
 },
 "nbformat": 4,
 "nbformat_minor": 2
}
