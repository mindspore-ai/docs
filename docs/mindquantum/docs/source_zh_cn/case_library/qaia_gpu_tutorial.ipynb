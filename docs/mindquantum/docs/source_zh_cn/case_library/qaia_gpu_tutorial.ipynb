{
 "cells": [
  {
   "cell_type": "markdown",
   "metadata": {},
   "source": [
    "# 量子启发式算法GPU后端使用教程\n",
    "\n",
    "[![下载Notebook](https://mindspore-website.obs.cn-north-4.myhuaweicloud.com/website-images/master/resource/_static/logo_notebook.svg)](https://mindspore-website.obs.cn-north-4.myhuaweicloud.com/notebook/master/mindquantum/zh_cn/case_library/mindspore_qaia_gpu_tutorial.ipynb)&emsp;\n",
    "[![下载样例代码](https://mindspore-website.obs.cn-north-4.myhuaweicloud.com/website-images/master/resource/_static/logo_download_code.svg)](https://mindspore-website.obs.cn-north-4.myhuaweicloud.com/notebook/master/mindquantum/zh_cn/case_library/mindspore_qaia_gpu_tutorial.py)&emsp;\n",
    "[![在Gitee上查看源文件](https://mindspore-website.obs.cn-north-4.myhuaweicloud.com/website-images/master/resource/_static/logo_source.svg)](https://gitee.com/mindspore/docs/blob/master/docs/mindquantum/docs/source_zh_cn/case_library/qaia_gpu_tutorial.ipynb)"
   ]
  },
  {
   "cell_type": "markdown",
   "metadata": {},
   "source": [
    "本篇教程将从下面五点进行说明：\n",
    "\n",
    "- 检查系统环境，保证GPU显卡可用。\n",
    "- 介绍MindQuantum和量子启发式算法。\n",
    "- 介绍量子启发式算法GPU后端支持的精度类型，提供样例代码。\n",
    "- 使用量子启发式算法GPU后端求解最大割问题。\n",
    "- 对比量子启发式算法在CPU和GPU后端上的性能差异"
   ]
  },
  {
   "cell_type": "markdown",
   "metadata": {},
   "source": [
    "## 检查系统环境\n",
    "\n",
    "在使用量子启发式算法GPU后端来求解问题前，需要确保系统环境已经安装GPU显卡和CUDA环境，并且显卡可用：\n",
    "\n",
    "- GPU显卡：推荐系统安装NVIDIA英伟达显卡\n",
    "- CUDA环境：建议安装CUDA 11及以上版本"
   ]
  },
  {
   "cell_type": "code",
   "execution_count": 1,
   "metadata": {},
   "outputs": [
    {
     "name": "stdout",
     "output_type": "stream",
     "text": [
      "Tue Jun 10 14:49:58 2025       \n",
      "+---------------------------------------------------------------------------------------+\n",
      "| NVIDIA-SMI 535.129.03             Driver Version: 535.129.03   CUDA Version: 12.2     |\n",
      "|-----------------------------------------+----------------------+----------------------+\n",
      "| GPU  Name                 Persistence-M | Bus-Id        Disp.A | Volatile Uncorr. ECC |\n",
      "| Fan  Temp   Perf          Pwr:Usage/Cap |         Memory-Usage | GPU-Util  Compute M. |\n",
      "|                                         |                      |               MIG M. |\n",
      "|=========================================+======================+======================|\n",
      "|   0  Tesla V100S-PCIE-32GB          On  | 00000000:92:00.0 Off |                    0 |\n",
      "| N/A   43C    P0              39W / 250W |    410MiB / 32768MiB |      0%      Default |\n",
      "|                                         |                      |                  N/A |\n",
      "+-----------------------------------------+----------------------+----------------------+\n",
      "                                                                                         \n",
      "+---------------------------------------------------------------------------------------+\n",
      "| Processes:                                                                            |\n",
      "|  GPU   GI   CI        PID   Type   Process name                            GPU Memory |\n",
      "|        ID   ID                                                             Usage      |\n",
      "|=======================================================================================|\n",
      "+---------------------------------------------------------------------------------------+\n"
     ]
    }
   ],
   "source": [
    "# 输出系统显卡型号、数量、驱动版本和CUDA版本\n",
    "!nvidia-smi"
   ]
  },
  {
   "cell_type": "code",
   "execution_count": 2,
   "metadata": {},
   "outputs": [
    {
     "data": {
      "text/plain": [
       "True"
      ]
     },
     "execution_count": 2,
     "metadata": {},
     "output_type": "execute_result"
    }
   ],
   "source": [
    "# 检查GPU显卡是否可用\n",
    "import torch\n",
    "\n",
    "torch.cuda.is_available()"
   ]
  },
  {
   "cell_type": "markdown",
   "metadata": {},
   "source": [
    "## MindQuantum\n",
    "\n",
    "量子启发式算法是一类基于**量子力学原理**的计算方法衍生或启发的经典力学方法，旨在利用量子力学的独特性质（叠加态、量子纠缠和量子并行性）来改进传统算法的性能。\n",
    "\n",
    "常见的**量子启发式算法**包括：\n",
    "\n",
    "- ASB（Adiabatic Simulated bifurcation/绝热模拟分叉算法）\n",
    "- BSB（Ballistic Simulated bifurcation/弹道模拟分叉算法）\n",
    "- DSB（Discrete Simulated bifurcation/离散模拟分叉算法）\n",
    "- SimCIM（Simulated Coherent Ising Machine/模拟相干伊辛机算法）\n",
    "- LQA（Local Quantum Annealing/局部量子退火算法）\n",
    "\n",
    "**MindQuantum**是基于昇思MindSpore开源深度学习平台开发的新一代通用量子计算框架，聚焦于NISQ阶段的算法实现与落地。结合HiQ高性能量子计算模拟器和昇思MindSpore并行自动微分能力，提供极简的开发模式和极致的性能体验。\n",
    "\n",
    "MindQuantum已经[集成量子启发式算法模块](https://www.mindspore.cn/mindquantum/docs/zh-CN/master/algorithm/mindquantum.algorithm.qaia.html)，并提供**CPU、GPU、NUP/昇腾**版本，适配多种硬件设备，并提供极致性能。"
   ]
  },
  {
   "cell_type": "markdown",
   "metadata": {},
   "source": [
    "## 量子启发式算法GPU后端\n",
    "\n",
    "量子启发式算法[支持后端](https://www.mindspore.cn/mindquantum/docs/zh-CN/master/algorithm/qaia/mindquantum.algorithm.qaia.QAIA.html#mindquantum.algorithm.qaia.QAIA)：\n",
    "\n",
    "- backend (str) - 计算后端和精度：'cpu-float32'、'gpu-float32'、'gpu-float16'、'gpu-int8' 或 'npu-float32'，默认值： 'cpu-float32'。\n",
    "- GPU后端提供3种数据精度：float32、float16和int8，低精度int8可以大幅提升计算速度，但是会小概率导致准确度丢失。"
   ]
  },
  {
   "cell_type": "code",
   "execution_count": 4,
   "metadata": {},
   "outputs": [
    {
     "name": "stdout",
     "output_type": "stream",
     "text": [
      "Cut: tensor([1., 1., 1., 1., 1., 1., 1., 1., 1., 1.], device='cuda:0')\n",
      "Energy: tensor([-1., -1., -1., -1., -1., -1., -1., -1., -1., -1.], device='cuda:0')\n"
     ]
    }
   ],
   "source": [
    "# 样例代码\n",
    "from scipy.sparse import coo_matrix\n",
    "from mindquantum.algorithm.qaia import BSB\n",
    "\n",
    "# 矩阵[[0,-1],[-1,0]]\n",
    "J = coo_matrix(([-1, -1], ([0, 1], [1, 0])), shape=(2, 2))\n",
    "solver = BSB(J, batch_size=10, backend=\"gpu-float32\")\n",
    "solver.update()\n",
    "cut = solver.calc_cut()\n",
    "energy = solver.calc_energy()\n",
    "\n",
    "print(f\"Cut: {cut}\\nEnergy: {energy}\")"
   ]
  },
  {
   "cell_type": "markdown",
   "metadata": {},
   "source": [
    "## 使用量子启发式算法求解最大割问题"
   ]
  },
  {
   "cell_type": "code",
   "execution_count": 5,
   "metadata": {},
   "outputs": [],
   "source": [
    "# 导入需要的Python模块\n",
    "from mindquantum.algorithm.qaia import BSB\n",
    "import numpy as np\n",
    "import pandas as pd\n",
    "from scipy.sparse import coo_matrix"
   ]
  },
  {
   "cell_type": "code",
   "execution_count": null,
   "metadata": {},
   "outputs": [],
   "source": [
    "# 数据准备\n",
    "# 下载数据，无向图数据集来源于GSet\n",
    "import requests\n",
    "\n",
    "graph_file = \"https://web.stanford.edu/~yyye/yyye/Gset/G22\"\n",
    "\n",
    "# 使用requests库中的get方法发送HTTP请求，将url的响应结果存入变量，再以二进制写入模式打开文件写入本地\n",
    "response = requests.get(graph_file)\n",
    "open(\"G22\", \"wb\").write(response.content)\n",
    "\n",
    "\n",
    "# 如果上述-下载图集的代码执行，报错TimeoutError，说明是网络问题\n",
    "# 可以手动点击网址 https://web.stanford.edu/~yyye/yyye/Gset/G22，下载数据，保存在本地，与该教程同级目录"
   ]
  },
  {
   "cell_type": "code",
   "execution_count": 6,
   "metadata": {},
   "outputs": [],
   "source": [
    "# 数据处理\n",
    "def read_gset(filename, negate=True):\n",
    "    # 读取图表\n",
    "    graph = pd.read_csv(filename, sep=\" \")\n",
    "    # 节点的数量\n",
    "    n_v = int(graph.columns[0])\n",
    "    # 边的数量\n",
    "    n_e = int(graph.columns[1])\n",
    "\n",
    "    # 如果节点和边不匹配，会抛出错误\n",
    "    assert n_e == graph.shape[0], \"The number of edges is not matched\"\n",
    "\n",
    "    # 将读取的数据转换为一个COO矩阵（Coordinate List Format），并返回一个稀疏矩阵\n",
    "    G = coo_matrix(\n",
    "        (\n",
    "            np.concatenate([graph.iloc[:, -1], graph.iloc[:, -1]]),\n",
    "            (\n",
    "                np.concatenate([graph.iloc[:, 0] - 1, graph.iloc[:, 1] - 1]),\n",
    "                np.concatenate([graph.iloc[:, 1] - 1, graph.iloc[:, 0] - 1]),\n",
    "            ),\n",
    "        ),\n",
    "        shape=(n_v, n_v),\n",
    "    )\n",
    "    if negate:\n",
    "        G = -G\n",
    "\n",
    "    return G\n",
    "\n",
    "\n",
    "G = read_gset(\"./G22\")"
   ]
  },
  {
   "cell_type": "code",
   "execution_count": 8,
   "metadata": {},
   "outputs": [
    {
     "name": "stdout",
     "output_type": "stream",
     "text": [
      "MAXCut is : 13333.0\n"
     ]
    }
   ],
   "source": [
    "solver = BSB(G, batch_size=100, n_iter=1000, backend=\"gpu-float32\")\n",
    "solver.update()\n",
    "cut = solver.calc_cut()\n",
    "\n",
    "print(f\"MAXCut is : {max(cut)}\")"
   ]
  },
  {
   "cell_type": "markdown",
   "metadata": {},
   "source": [
    "## 性能对比\n",
    "\n",
    "对比BSB算法在CPU和GPU后端上求解最大割问题的性能差异"
   ]
  },
  {
   "cell_type": "code",
   "execution_count": 9,
   "metadata": {},
   "outputs": [],
   "source": [
    "import time\n",
    "\n",
    "start_time = time.time()\n",
    "solver = BSB(G, batch_size=100, n_iter=1000, backend=\"cpu-float32\")\n",
    "solver.update()\n",
    "cut = solver.calc_cut()\n",
    "cpu_time = time.time() - start_time\n",
    "\n",
    "start_time = time.time()\n",
    "solver = BSB(G, batch_size=100, n_iter=1000, backend=\"gpu-float32\")\n",
    "solver.update()\n",
    "cut = solver.calc_cut()\n",
    "gpu_fp32_time = time.time() - start_time\n",
    "\n",
    "start_time = time.time()\n",
    "solver = BSB(G, batch_size=100, n_iter=1000, backend=\"gpu-float16\")\n",
    "solver.update()\n",
    "cut = solver.calc_cut()\n",
    "gpu_fp16_time = time.time() - start_time\n",
    "\n",
    "start_time = time.time()\n",
    "solver = BSB(G, batch_size=100, n_iter=1000, backend=\"gpu-int8\")\n",
    "solver.update()\n",
    "cut = solver.calc_cut()\n",
    "gpu_fp8_time = time.time() - start_time"
   ]
  },
  {
   "cell_type": "code",
   "execution_count": 10,
   "metadata": {},
   "outputs": [
    {
     "data": {
      "image/png": "[encoded data removed]",
      "text/plain": [
       "<Figure size 1200x800 with 1 Axes>"
      ]
     },
     "metadata": {},
     "output_type": "display_data"
    }
   ],
   "source": [
    "import matplotlib.pyplot as plt\n",
    "\n",
    "# 绘制水平条形图，表示不同后端的计算时间\n",
    "plt.figure(figsize=(12, 8))\n",
    "plt.barh(0.6, gpu_fp8_time, height=0.1, label=\"GPU-Int8\", color=\"salmon\")\n",
    "plt.barh(0.4, gpu_fp16_time, height=0.1, label=\"GPU-Float16\", color=\"red\")\n",
    "plt.barh(0.2, gpu_fp32_time, height=0.1, label=\"GPU-Float32\", color=\"brown\")\n",
    "plt.barh(0, cpu_time, height=0.1, label=\"CPU-Float32\", color=\"royalblue\")\n",
    "\n",
    "plt.title(\"QAIA Performance Comparison On Different Hardware In G22\")\n",
    "plt.xlabel(\"Time(seconds)\")\n",
    "plt.ylabel(\"QAIA Algorithm\")\n",
    "plt.yticks((0.3,), (\"BSB\",))\n",
    "\n",
    "plt.grid(True, axis=\"x\", linestyle=\"-\", alpha=0.8)\n",
    "plt.legend()\n",
    "plt.show()"
   ]
  },
  {
   "cell_type": "code",
   "execution_count": 11,
   "metadata": {},
   "outputs": [
    {
     "data": {
      "text/html": [
       "\n",
       "<table border=\"1\">\n",
       "  <tr>\n",
       "    <th>Software</th>\n",
       "    <th>Version</th>\n",
       "  </tr>\n",
       "<tr><td>mindquantum</td><td>0.10.1</td></tr>\n",
       "<tr><td>scipy</td><td>1.11.3</td></tr>\n",
       "<tr><td>numpy</td><td>1.26.1</td></tr>\n",
       "<tr>\n",
       "    <th>System</th>\n",
       "    <th>Info</th>\n",
       "</tr>\n",
       "<tr><td>Python</td><td>3.10.13</td></tr><tr><td>OS</td><td>Linux x86_64</td></tr><tr><td>Memory</td><td>810.22 GB</td></tr><tr><td>CPU Max Thread</td><td>96</td></tr><tr><td>Date</td><td>Tue Jun 10 14:55:10 2025</td></tr>\n",
       "</table>\n"
      ],
      "text/plain": [
       "<mindquantum.utils.show_info.InfoTable at 0x7f3b8acbfdc0>"
      ]
     },
     "execution_count": 11,
     "metadata": {},
     "output_type": "execute_result"
    }
   ],
   "source": [
    "from mindquantum.utils.show_info import InfoTable\n",
    "\n",
    "InfoTable(\"mindquantum\", \"scipy\", \"numpy\")"
   ]
  }
 ],
 "metadata": {
  "kernelspec": {
   "display_name": "MindSpore",
   "language": "python",
   "name": "mindspore"
  },
  "language_info": {
   "codemirror_mode": {
    "name": "ipython",
    "version": 3
   },
   "file_extension": ".py",
   "mimetype": "text/x-python",
   "name": "python",
   "nbconvert_exporter": "python",
   "pygments_lexer": "ipython3",
   "version": "3.8.17"
  }
 },
 "nbformat": 4,
 "nbformat_minor": 4
}
