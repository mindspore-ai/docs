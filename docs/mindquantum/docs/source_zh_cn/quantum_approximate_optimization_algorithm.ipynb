{
 "cells": [
  {
   "cell_type": "markdown",
   "metadata": {},
   "source": [
    "# 量子近似优化算法\n",
    "\n",
    "[![](https://gitee.com/mindspore/docs/raw/master/resource/_static/logo_modelarts.png)](https://authoring-modelarts-cnnorth4.huaweicloud.com/console/lab?share-url-b64=aHR0cHM6Ly9taW5kc3BvcmUtd2Vic2l0ZS5vYnMuY24tbm9ydGgtNC5teWh1YXdlaWNsb3VkLmNvbS9ub3RlYm9vay9tb2RlbGFydHMvbWluZHNwb3JlX3F1YW50dW1fYXBwcm94aW1hdGVfb3B0aW1pemF0aW9uX2FsZ29yaXRobS5pcHluYg==&imageid=65f636a0-56cf-49df-b941-7d2a07ba8c8c)&emsp;[![](https://gitee.com/mindspore/docs/raw/master/resource/_static/logo_notebook.png)](https://mindspore-website.obs.cn-north-4.myhuaweicloud.com/notebook/master/mindquantum/zh_cn/mindspore_quantum_approximate_optimization_algorithm.ipynb)&emsp;[![](https://gitee.com/mindspore/docs/raw/master/resource/_static/logo_download_code.png)](https://mindspore-website.obs.cn-north-4.myhuaweicloud.com/notebook/master/mindquantum/zh_cn/mindspore_quantum_approximate_optimization_algorithm.py)&emsp;[![](https://gitee.com/mindspore/docs/raw/master/resource/_static/logo_source.png)](https://gitee.com/mindspore/docs/blob/master/docs/mindquantum/docs/source_zh_cn/quantum_approximate_optimization_algorithm.ipynb)\n",
    "\n",
    "## 概述\n",
    "\n",
    "量子近似优化算法（Quantum Approximate Optimization Algorithm，QAOA）是利用量子计算机来近似解决组合优化问题的量子算法，最早由Farhi等人于2014年提出。在本教程里，我们将利用QAOA算法来解决最大割问题（Max-Cut），来熟悉MindQuantum中量子线路的搭建和训练。"
   ]
  },
  {
   "cell_type": "markdown",
   "metadata": {},
   "source": [
    "本教程所需要的额外库：\n",
    "\n",
    "- networkx\n",
    "\n",
    "> `networkx`是创建、操作和研究复杂网络的结构、动态和功能库。可通过`pip3 install networkx`来进行安装。\n",
    "\n",
    "## Max-Cut问题描述\n",
    "\n",
    "Max-Cut问题是图论中的一个NP-complete问题，它需要将一个图中的顶点分成两部分，并使得两部分被切割的边最多。如下图（a），一个图由五个顶点构成，相互连接的边为```(0, 1), (0, 2), (1, 2), (2, 3), (3, 4), (0, 4)```。为了使得被切割的边最多，我们尝试通过（b）图的分割，将1、2、4分为一组，0、3分成另一组，因此可得到被切割的边有5条。当图中顶点增多时，我们很难找到有效的经典算法来解决Max-Cut问题。下面，我们介绍怎么将Max-Cut问题转化为一个哈密顿量的基态能力求解问题。"
   ]
  },
  {
   "cell_type": "markdown",
   "metadata": {},
   "source": [
    "![max cut](https://gitee.com/mindspore/docs/raw/master/docs/mindquantum/docs/source_zh_cn/images/Max_Cut.png)"
   ]
  },
  {
   "cell_type": "markdown",
   "metadata": {},
   "source": [
    "## Max-Cut问题量子化\n",
    "\n",
    "这里我们将图中的每个顶点赋予一个量子比特，当顶点被分到左边时，我们将该顶点上的量子比特设置为$\\left|0\\right>$态，同理，右边为$\\left|1\\right>$态，当两个顶点被分到不同的集合中时，这两个顶点上的比特将处于不同的量子态。例如对于第0个顶点和第1个顶点，当其连线被切割是，两个顶点上的比特对应的量子态可以为$\\left|\\psi\\right>=\\left|0_11_0\\right>$或$\\left|\\psi\\right>=\\left|1_10_0\\right>$，其中下角标表示顶点的序号。此时，我们选择哈密顿量$H=(Z_1Z_0-1)/2$，这里$Z$为泡利$Z$算符。不难发现：\n",
    "\n",
    "$$\\left<\\psi\\right|H\\left|\\psi\\right>=-1$$\n",
    "\n",
    "而当顶点被分到同一集合中是，不难验证此时：\n",
    "\n",
    "$$\\left<\\psi\\right|H\\left|\\psi\\right>=0$$\n",
    "\n",
    "因此，我们只用按照上面的规则，写出图对应的哈密顿量$H$，利用量子计算机求得$H$的基态能量与基态，我们就可以得到该图的Max-Cut切割方案与最大切割边数。我们记所有边的集合为$C$，所有边个数为$c$，则哈密顿量可写为：\n",
    "\n",
    "$$H=\\sum_{(i,j)\\in C}(Z_iZ_j-1)/2$$\n",
    "\n",
    "## 导入相关依赖"
   ]
  },
  {
   "cell_type": "code",
   "execution_count": 2,
   "metadata": {},
   "outputs": [],
   "source": [
    "from mindquantum.core import Circuit, Hamiltonian, UN, H, ZZ, RX, QubitOperator\n",
    "from mindquantum.framework import MQAnsatzOnlyLayer\n",
    "from mindquantum.simulator import Simulator\n",
    "import networkx as nx\n",
    "import mindspore.nn as nn\n",
    "import numpy as np\n",
    "import matplotlib.pyplot as plt"
   ]
  },
  {
   "cell_type": "markdown",
   "metadata": {},
   "source": [
    "## 搭建所需求解的图\n",
    "\n",
    "通过`add_path`可在图中添加边。最后画出图的结构。"
   ]
  },
  {
   "cell_type": "code",
   "execution_count": 3,
   "metadata": {},
   "outputs": [
    {
     "data": {
      "image/png": "[encoded data removed]",
      "text/plain": [
       "<Figure size 432x288 with 1 Axes>"
      ]
     },
     "metadata": {},
     "output_type": "display_data"
    }
   ],
   "source": [
    "g = nx.Graph()\n",
    "nx.add_path(g, [0, 1])\n",
    "nx.add_path(g, [1, 2])\n",
    "nx.add_path(g, [2, 3])\n",
    "nx.add_path(g, [3, 4])\n",
    "nx.add_path(g, [0, 4])\n",
    "nx.add_path(g, [0, 2])\n",
    "nx.draw(g, with_labels=True, font_weight='bold')"
   ]
  },
  {
   "cell_type": "markdown",
   "metadata": {},
   "source": [
    "如上如，我们得到一个由5个节点和6条边构成的图结构。"
   ]
  },
  {
   "cell_type": "markdown",
   "metadata": {},
   "source": [
    "## 搭建QAOA量子线路\n",
    "\n",
    "### 线路搭建\n",
    "\n",
    "这里我们采用量子绝热近似算法，经过演化将量子态从$X^{\\otimes n}$的本征态演化到图对应哈密的量的基态。\n",
    "\n",
    "搭建图对应哈密顿量的含时演化线路："
   ]
  },
  {
   "cell_type": "code",
   "execution_count": 4,
   "metadata": {},
   "outputs": [],
   "source": [
    "def build_hc(g, para):\n",
    "    hc = Circuit()\n",
    "    for i in g.edges:\n",
    "        hc += ZZ(para).on(i)\n",
    "    return hc"
   ]
  },
  {
   "cell_type": "markdown",
   "metadata": {},
   "source": [
    "搭建$X^{\\otimes n}$含时演化的量子线路："
   ]
  },
  {
   "cell_type": "code",
   "execution_count": 5,
   "metadata": {},
   "outputs": [],
   "source": [
    "\n",
    "def build_hb(g, para):\n",
    "    hc = Circuit()\n",
    "    for i in g.nodes:\n",
    "        hc += RX(para).on(i)\n",
    "    return hc"
   ]
  },
  {
   "cell_type": "markdown",
   "metadata": {},
   "source": [
    "为了使得最后优化的结果足够准确，我们需要将量子线路重复多次，因此我们通过如下函数搭建多层的训练网络："
   ]
  },
  {
   "cell_type": "code",
   "execution_count": 6,
   "metadata": {},
   "outputs": [],
   "source": [
    "def build_ansatz(g, p):\n",
    "    c = Circuit()\n",
    "    for i in range(p):\n",
    "        c += build_hc(g, f'g{i}')\n",
    "        c += build_hb(g, f'b{i}')\n",
    "    return c"
   ]
  },
  {
   "cell_type": "markdown",
   "metadata": {},
   "source": [
    "构建图对应的哈密顿量："
   ]
  },
  {
   "cell_type": "code",
   "execution_count": 7,
   "metadata": {},
   "outputs": [],
   "source": [
    "def build_ham(g):\n",
    "    hc = QubitOperator()\n",
    "    for i in g.edges:\n",
    "        hc += QubitOperator(f'Z{i[0]} Z{i[1]}')\n",
    "    return hc"
   ]
  },
  {
   "cell_type": "markdown",
   "metadata": {},
   "source": [
    "### 生成完整的量子线路和图所对应的哈密顿量\n",
    "\n",
    "这里我们选择`p = 4`，表示选用4层的QAOA量子线路，`ansatz`是求解该问题的量子线路，`init_state_circ`是将量子态制备到均匀叠加态上的量子线路。"
   ]
  },
  {
   "cell_type": "code",
   "execution_count": 8,
   "metadata": {},
   "outputs": [],
   "source": [
    "p = 4\n",
    "ham = Hamiltonian(build_ham(g))\n",
    "ansatz = build_ansatz(g, p)\n",
    "init_state_circ = UN(H, g.nodes)"
   ]
  },
  {
   "cell_type": "markdown",
   "metadata": {},
   "source": [
    "### 搭建待训练量子神经网络\n",
    "\n",
    "由于该问题不需要编码层量子线路，我们这里使用`MindQuantumAnsatzOnlyLayer`作为待训练的量子神经网络，并采用`Adam`优化器。"
   ]
  },
  {
   "cell_type": "code",
   "execution_count": 9,
   "metadata": {},
   "outputs": [],
   "source": [
    "import mindspore as ms\n",
    "ms.context.set_context(mode=ms.context.PYNATIVE_MODE, device_target=\"CPU\")\n",
    "\n",
    "circ = init_state_circ + ansatz\n",
    "sim = Simulator('projectq', circ.n_qubits)\n",
    "grad_ops = sim.get_expectation_with_grad(ham, circ)\n",
    "net = MQAnsatzOnlyLayer(grad_ops)\n",
    "opti = nn.Adam(net.trainable_params(), learning_rate=0.05)\n",
    "train_net = nn.TrainOneStepCell(net, opti)"
   ]
  },
  {
   "cell_type": "markdown",
   "metadata": {},
   "source": [
    "## 训练并展示结果"
   ]
  },
  {
   "cell_type": "code",
   "execution_count": 10,
   "metadata": {
    "scrolled": true
   },
   "outputs": [
    {
     "name": "stdout",
     "output_type": "stream",
     "text": [
      "train step: 0 , cut: [3.0013986]\n",
      "train step: 10 , cut: [3.1593282]\n",
      "train step: 20 , cut: [3.574792]\n",
      "train step: 30 , cut: [3.9903173]\n",
      "train step: 40 , cut: [4.1873455]\n",
      "train step: 50 , cut: [4.245053]\n",
      "train step: 60 , cut: [4.292579]\n",
      "train step: 70 , cut: [4.381706]\n",
      "train step: 80 , cut: [4.5081673]\n",
      "train step: 90 , cut: [4.630658]\n",
      "train step: 100 , cut: [4.693063]\n",
      "train step: 110 , cut: [4.6807914]\n",
      "train step: 120 , cut: [4.643312]\n",
      "train step: 130 , cut: [4.6268835]\n",
      "train step: 140 , cut: [4.6419206]\n",
      "train step: 150 , cut: [4.6774793]\n",
      "train step: 160 , cut: [4.7171326]\n",
      "train step: 170 , cut: [4.7482433]\n",
      "train step: 180 , cut: [4.7657666]\n",
      "train step: 190 , cut: [4.7708135]\n",
      "train step: 200 , cut: [4.7675457]\n",
      "train step: 210 , cut: [4.7615557]\n",
      "train step: 220 , cut: [4.758482]\n",
      "train step: 230 , cut: [4.7623324]\n",
      "train step: 240 , cut: [4.774522]\n",
      "train step: 250 , cut: [4.793557]\n",
      "train step: 260 , cut: [4.8150616]\n",
      "train step: 270 , cut: [4.8327746]\n",
      "train step: 280 , cut: [4.8410554]\n",
      "train step: 290 , cut: [4.8381715]\n",
      "train step: 300 , cut: [4.8282313]\n",
      "train step: 310 , cut: [4.8192716]\n",
      "train step: 320 , cut: [4.8179502]\n",
      "train step: 330 , cut: [4.825226]\n",
      "train step: 340 , cut: [4.8364544]\n",
      "train step: 350 , cut: [4.8452206]\n",
      "train step: 360 , cut: [4.8477564]\n",
      "train step: 370 , cut: [4.8447843]\n",
      "train step: 380 , cut: [4.8400273]\n",
      "train step: 390 , cut: [4.8373833]\n",
      "train step: 400 , cut: [4.838849]\n",
      "train step: 410 , cut: [4.8438797]\n",
      "train step: 420 , cut: [4.850121]\n",
      "train step: 430 , cut: [4.8550625]\n",
      "train step: 440 , cut: [4.8576107]\n",
      "train step: 450 , cut: [4.858472]\n",
      "train step: 460 , cut: [4.8591647]\n",
      "train step: 470 , cut: [4.8606386]\n",
      "train step: 480 , cut: [4.862678]\n",
      "train step: 490 , cut: [4.8643975]\n",
      "train step: 500 , cut: [4.8652177]\n",
      "train step: 510 , cut: [4.8654656]\n",
      "train step: 520 , cut: [4.86614]\n",
      "train step: 530 , cut: [4.8680344]\n",
      "train step: 540 , cut: [4.87098]\n",
      "train step: 550 , cut: [4.8739634]\n",
      "train step: 560 , cut: [4.8761077]\n",
      "train step: 570 , cut: [4.877548]\n",
      "train step: 580 , cut: [4.879244]\n",
      "train step: 590 , cut: [4.881925]\n"
     ]
    }
   ],
   "source": [
    "for i in range(600):\n",
    "    if i%10 == 0:\n",
    "        print(\"train step:\", i, \", cut:\", (len(g.edges)-train_net())/2)"
   ]
  },
  {
   "cell_type": "markdown",
   "metadata": {},
   "source": [
    "根据上面的训练结果我们发现，该问题哈密顿量的基态能量对应的边切割数趋近与5。\n",
    "\n",
    "### 量子态展示\n",
    "\n",
    "前面我们通过训练得到了量子线路中参数的最优值，下面，我们通过线路的`get_qs`来输出量子线路在最优参数时的量子态，其中`ket`参数表示是否将最终量子态表示为右矢形式。"
   ]
  },
  {
   "cell_type": "code",
   "execution_count": 11,
   "metadata": {},
   "outputs": [
    {
     "name": "stdout",
     "output_type": "stream",
     "text": [
      "(-0.012280839059525275-0.004183588304218376j)¦00000⟩\n",
      "(-0.0437376926020272-0.008868625208652526j)¦00001⟩\n",
      "(-0.009238574931334047-0.0380558198429428j)¦00010⟩\n",
      "(-0.015516302314316742-0.01397291275387938j)¦00011⟩\n",
      "(-0.04373769260202709-0.008868625208652517j)¦00100⟩\n",
      "(0.11715315313477317-0.09499263155573097j)¦00101⟩\n",
      "(-0.015516302314316749-0.013972912753879338j)¦00110⟩\n",
      "(-0.028452811238128005+0.0011815834656057596j)¦00111⟩\n",
      "(0.0005299756615276095+0.011157147466178945j)¦01000⟩\n",
      "(-0.4069380027882147-0.24858444258288748j)¦01001⟩\n",
      "(0.018360162426888236-0.07994262091303687j)¦01010⟩\n",
      "(-0.4069380027882145-0.24858444258288742j)¦01011⟩\n",
      "(-0.015099910411687869-0.02163892922353636j)¦01100⟩\n",
      "(0.018360162426888284-0.07994262091303692j)¦01101⟩\n",
      "(-0.015099910411687935-0.021638929223536395j)¦01110⟩\n",
      "(0.0005299756615277003+0.011157147466178933j)¦01111⟩\n",
      "(0.0005299756615277428+0.011157147466178888j)¦10000⟩\n",
      "(-0.01509991041168796-0.021638929223536392j)¦10001⟩\n",
      "(0.018360162426888243-0.07994262091303685j)¦10010⟩\n",
      "(-0.015099910411687909-0.02163892922353636j)¦10011⟩\n",
      "(-0.40693800278821457-0.24858444258288753j)¦10100⟩\n",
      "(0.018360162426888267-0.0799426209130369j)¦10101⟩\n",
      "(-0.40693800278821457-0.24858444258288745j)¦10110⟩\n",
      "(0.0005299756615276246+0.011157147466178925j)¦10111⟩\n",
      "(-0.02845281123812805+0.0011815834656057178j)¦11000⟩\n",
      "(-0.015516302314316749-0.013972912753879324j)¦11001⟩\n",
      "(0.11715315313477301-0.0949926315557309j)¦11010⟩\n",
      "(-0.04373769260202708-0.00886862520865253j)¦11011⟩\n",
      "(-0.015516302314316732-0.013972912753879355j)¦11100⟩\n",
      "(-0.009238574931334047-0.03805581984294275j)¦11101⟩\n",
      "(-0.043737692602027214-0.008868625208652507j)¦11110⟩\n",
      "(-0.012280839059525267-0.004183588304218399j)¦11111⟩\n"
     ]
    }
   ],
   "source": [
    "pr = dict(zip(ansatz.params_name, net.weight.asnumpy()))\n",
    "print(circ.get_qs(pr=pr, ket=True))"
   ]
  },
  {
   "cell_type": "markdown",
   "metadata": {},
   "source": [
    "### 概率图\n",
    "\n",
    "我们画出最终量子态在计算基矢下的概率分布"
   ]
  },
  {
   "cell_type": "code",
   "execution_count": 12,
   "metadata": {},
   "outputs": [
    {
     "data": {
      "image/png": "[encoded data removed]",
      "text/plain": [
       "<Figure size 432x288 with 1 Axes>"
      ]
     },
     "metadata": {
      "needs_background": "light"
     },
     "output_type": "display_data"
    }
   ],
   "source": [
    "def show_amp(state):\n",
    "    amp = np.abs(state)**2\n",
    "    n_qubits = int(np.log2(len(amp)))\n",
    "    labels = [bin(i)[2:].zfill(n_qubits) for i in range(len(amp))]\n",
    "    plt.bar(labels, amp)\n",
    "    plt.xticks(rotation=45)\n",
    "    plt.show()\n",
    "state = (init_state_circ+ansatz).get_qs(pr=pr)\n",
    "show_amp(state)"
   ]
  },
  {
   "cell_type": "markdown",
   "metadata": {},
   "source": [
    "根据概率分布图我们发现，该Max-Cut问题具有四个简并解，每个解对应的概率大概为25%。\n",
    "\n",
    "## 总结\n",
    "\n",
    "这里我们通过量子近似优化算法来解决了Max-Cut问题，并得到了案例中的图对应的最大切割方案。"
   ]
  },
  {
   "cell_type": "markdown",
   "metadata": {},
   "source": [
    "## 参考文献\n",
    "\n",
    "[1] Edward Farhi, Jeffrey Goldstone, and Sam Gutmann. [A Quantum Approximate Optimization Algorithm](https://arxiv.org/pdf/1411.4028.pdf)"
   ]
  }
 ],
 "metadata": {
  "interpreter": {
   "hash": "5545a57ef4a1ac7dca167cae0bf17fda051fcd0639773c034bd7ce77ffd97d30"
  },
  "kernelspec": {
   "display_name": "Python 3",
   "language": "python",
   "name": "python3"
  },
  "language_info": {
   "codemirror_mode": {
    "name": "ipython",
    "version": 3
   },
   "file_extension": ".py",
   "mimetype": "text/x-python",
   "name": "python",
   "nbconvert_exporter": "python",
   "pygments_lexer": "ipython3",
   "version": "3.8.8"
  }
 },
 "nbformat": 4,
 "nbformat_minor": 4
}
