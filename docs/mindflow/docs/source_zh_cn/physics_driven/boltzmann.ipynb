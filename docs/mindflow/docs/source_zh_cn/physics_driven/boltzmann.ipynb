{
 "cells": [
  {
   "cell_type": "markdown",
   "metadata": {},
   "source": [
    "# 基于神经网络表示求解玻尔兹曼方程\n",
    "\n",
    "[![下载Notebook](https://mindspore-website.obs.cn-north-4.myhuaweicloud.com/website-images/r2.2/resource/_static/logo_notebook.svg)](https://mindspore-website.obs.cn-north-4.myhuaweicloud.com/notebook/r2.2/mindflow/zh_cn/physics_driven/mindspore_boltzmann.ipynb)&emsp;[![下载样例代码](https://mindspore-website.obs.cn-north-4.myhuaweicloud.com/website-images/r2.2/resource/_static/logo_download_code.svg)](https://mindspore-website.obs.cn-north-4.myhuaweicloud.com/notebook/r2.2/mindflow/zh_cn/physics_driven/mindspore_boltzmann.py)&emsp;[![查看源文件](https://mindspore-website.obs.cn-north-4.myhuaweicloud.com/website-images/r2.2/resource/_static/logo_source.svg)](https://gitee.com/mindspore/docs/blob/r2.2/docs/mindflow/docs/source_zh_cn/physics_driven/mindspore_boltzmann.ipynb)\n",
    "\n",
    "## 问题描述\n",
    "\n",
    "本案例演示如何利用神经网络求解1+3维的玻尔兹曼方程。玻尔兹曼方程是关于气体密度分布函数$f$的方程，其定义为\n",
    "\n",
    "$$\n",
    "\\newcommand{\\bm}[1]{\\boldsymbol{#1}}\n",
    "\\begin{equation}\n",
    "\\label{eq:Boltzmann}\n",
    "\\frac{\\partial f(\\bm x,\\bm v,t)}{\\partial t}+\\bm{v} \\cdot\\nabla_{\\bm x} f(\\bm x,\\bm v,t)=\\mathcal{Q}[f](\\bm x, \\bm v,t), \\qquad  t \\in \\mathbb{R}^+, \\quad \\bm x \\in  \\mathbb{R}^3, \\quad \\bm v \\in  \\mathbb{R}^3.\n",
    "\\end{equation}\n",
    "$$\n",
    "\n",
    "其中$\\mathcal{Q}[f]$为碰撞项算子。通过$f$，我们可以获取气体的宏观物理变量\n",
    "\n",
    "$$\n",
    "\\require{braket}\n",
    "\\begin{equation}\n",
    "    \\begin{gathered}\n",
    "   \\rho(\\bm x,t)=\\int f d \\bm v,\\\\\n",
    "   \\bm{m}(\\bm x, t) \\triangleq  \\rho \\bm u(\\bm x,t)=\\int f \\bm v f d\\bm v,\\\\\n",
    "E(\\bm x, t) \\triangleq \\frac{3}{2}\\rho T(\\bm x, t) + \\frac{1}{2}\\rho |\\bm u|^2 = \\frac{1}{2} \\int \\vert\\bm v\\vert^2 f d \\bm v.\n",
    "\\end{gathered}\n",
    "\\end{equation}\n",
    "$$\n",
    "\n",
    "对于简化模型如BGK模型，碰撞项算子的定义为\n",
    "\n",
    "$$\n",
    "\\begin{equation}\n",
    "    \\label{eq:BGK}\n",
    "\\mathcal{Q}^{\\rm BGK}[f]=\\frac{1}{\\tau}(\\mathcal{M}-f).\n",
    "\\end{equation}\n",
    "$$\n",
    "\n",
    "其中\n",
    "\n",
    "$$\n",
    "\\begin{equation}\n",
    "\\label{eq:Maxwellian}\n",
    "\\mathcal{M}=\\frac{\\rho}{\\sqrt{2\\pi T}^3}\\exp \\left( -\\frac{|\\bm v-\\bm u|^2}{2 T} \\right).\n",
    "\\end{equation}\n",
    "$$\n",
    "\n",
    "本案例将研究物理空间为1维，微观速度空间为3维的周期边界条件的玻尔兹曼-BGK方程。其初值为\n",
    "\n",
    "$$\n",
    "\\begin{equation}\n",
    "\\rho(x)=1+0.5\\sin(2\\pi x),\\qquad\n",
    "\\bm{u}(x)=0,\\qquad\n",
    "T(x)=1+0.5\\sin(2\\pi x+0.2).\n",
    "\\end{equation}\n",
    "$$"
   ]
  },
  {
   "cell_type": "markdown",
   "metadata": {
    "ExecuteTime": {
     "end_time": "2023-02-24T04:05:42.910373Z",
     "start_time": "2023-02-24T04:05:42.902071Z"
    }
   },
   "source": [
    "## 技术路径\n",
    "\n",
    "MindSpore Flow求解该问题的具体流程如下：\n",
    "\n",
    "1. 创建数据集。\n",
    "2. 构建模型。\n",
    "3. 优化器。\n",
    "4. Burgers1D。\n",
    "5. 模型训练。\n",
    "6. 模型推理及可视化。"
   ]
  },
  {
   "cell_type": "code",
   "execution_count": 1,
   "metadata": {
    "ExecuteTime": {
     "end_time": "2023-02-24T04:22:39.221221Z",
     "start_time": "2023-02-24T04:22:37.930840Z"
    }
   },
   "outputs": [],
   "source": [
    "import time\n",
    "import numpy as np\n",
    "\n",
    "import mindspore as ms\n",
    "from mindspore import ops, nn\n",
    "import mindspore.numpy as mnp\n",
    "\n",
    "ms.set_context(mode=ms.context.GRAPH_MODE, device_target=\"GPU\")\n",
    "ms.set_seed(0)"
   ]
  },
  {
   "cell_type": "code",
   "execution_count": 2,
   "metadata": {
    "ExecuteTime": {
     "end_time": "2023-02-24T04:22:40.097522Z",
     "start_time": "2023-02-24T04:22:39.223465Z"
    }
   },
   "outputs": [],
   "source": [
    "from mindflow.utils import load_yaml_config\n",
    "\n",
    "from src.boltzmann import BoltzmannBGK, BGKKernel\n",
    "from src.utils import get_vdis, visual, mesh_nd\n",
    "from src.cells import SplitNet, MultiRes, Maxwellian, MtlLoss, JacFwd, RhoUTheta, PrimNorm\n",
    "from src.dataset import Wave1DDataset"
   ]
  },
  {
   "cell_type": "code",
   "execution_count": 3,
   "metadata": {
    "ExecuteTime": {
     "end_time": "2023-02-24T04:22:40.108539Z",
     "start_time": "2023-02-24T04:22:40.100847Z"
    }
   },
   "outputs": [],
   "source": [
    "config = load_yaml_config(\"WaveD1V3.yaml\")"
   ]
  },
  {
   "cell_type": "markdown",
   "metadata": {},
   "source": [
    "## 创建数据集\n",
    "\n",
    "我们选区的计算区域为$[-0.5,0.5]\\times[0,0.1]$，我们在初值选取100个点，在边界选取100个点，在区域内部选取700个点。"
   ]
  },
  {
   "cell_type": "code",
   "execution_count": 4,
   "metadata": {
    "ExecuteTime": {
     "end_time": "2023-02-24T04:22:40.146688Z",
     "start_time": "2023-02-24T04:22:40.110332Z"
    }
   },
   "outputs": [],
   "source": [
    "class Wave1DDataset(nn.Cell):\n",
    "    \"\"\"dataset for 1D wave problem\"\"\"\n",
    "\n",
    "    def __init__(self, config):\n",
    "        super().__init__()\n",
    "        self.config = config\n",
    "        xmax = config[\"xtmesh\"][\"xmax\"]\n",
    "        xmin = config[\"xtmesh\"][\"xmin\"]\n",
    "        nv = config[\"vmesh\"][\"nv\"]\n",
    "        vmin = config[\"vmesh\"][\"vmin\"]\n",
    "        vmax = config[\"vmesh\"][\"vmax\"]\n",
    "        v, _ = mesh_nd(vmin, vmax, nv)\n",
    "        self.xmax = xmax\n",
    "        self.xmin = xmin\n",
    "        self.vdis = ms.Tensor(v.astype(np.float32))\n",
    "        self.maxwellian = Maxwellian(self.vdis)\n",
    "        self.iv_points = self.config[\"dataset\"][\"iv_points\"]\n",
    "        self.bv_points = self.config[\"dataset\"][\"bv_points\"]\n",
    "        self.in_points = self.config[\"dataset\"][\"in_points\"]\n",
    "        self.uniform = ops.UniformReal(seed=0)\n",
    "\n",
    "    def construct(self):\n",
    "        # Initial value points\n",
    "        iv_x = self.uniform((self.iv_points, 1)) * \\\n",
    "            (self.xmax - self.xmin) + self.xmin\n",
    "        iv_t = mnp.zeros_like(iv_x)\n",
    "\n",
    "        # boundary value points\n",
    "        bv_x1 = -0.5 * mnp.ones(self.bv_points)[..., None]\n",
    "        bv_t1 = self.uniform((self.bv_points, 1)) * 0.1\n",
    "        bv_x2 = 0.5 * mnp.ones(self.bv_points)[..., None]\n",
    "        bv_t2 = bv_t1\n",
    "\n",
    "        # inner points\n",
    "        in_x = self.uniform((self.in_points, 1)) - 0.5\n",
    "        in_t = self.uniform((self.in_points, 1)) * 0.1\n",
    "\n",
    "        return {\n",
    "            \"in\": ops.concat([in_x, in_t], axis=-1),\n",
    "            \"iv\": ops.concat([iv_x, iv_t], axis=-1),\n",
    "            \"bv1\": ops.concat([bv_x1, bv_t1], axis=-1),\n",
    "            \"bv2\": ops.concat([bv_x2, bv_t2], axis=-1),\n",
    "        }\n",
    "\n",
    "\n",
    "dataset = Wave1DDataset(config)"
   ]
  },
  {
   "cell_type": "markdown",
   "metadata": {},
   "source": [
    "## 构建模型\n",
    "\n",
    "本案例使用层数为6层，每层80个神经元的神经网络结构。我们的网络由两部分构成，其中一部分网络是Maxwellian平衡态的形式，另一部分则是离散速度分布的形式，这样的结构有助于训练。"
   ]
  },
  {
   "cell_type": "code",
   "execution_count": 5,
   "metadata": {
    "ExecuteTime": {
     "end_time": "2023-02-24T04:22:40.212941Z",
     "start_time": "2023-02-24T04:22:40.149323Z"
    }
   },
   "outputs": [],
   "source": [
    "class SplitNet(nn.Cell):\n",
    "    \"\"\"the network combined the maxwellian and non-maxwellian\"\"\"\n",
    "\n",
    "    def __init__(self, in_channel, layers, neurons, vdis, alpha=0.01):\n",
    "        super().__init__()\n",
    "        self.net_eq = MultiRes(in_channel, 5, layers, neurons)\n",
    "        self.net_neq = MultiRes(in_channel, vdis.shape[0], layers, neurons)\n",
    "        self.maxwellian = Maxwellian(vdis)\n",
    "        self.alpha = alpha\n",
    "\n",
    "    def construct(self, xt):\n",
    "        www = self.net_eq(xt)\n",
    "        rho, u, theta = www[..., 0:1], www[..., 1:4], www[..., 4:5]\n",
    "        rho = ops.exp(-rho)\n",
    "        theta = ops.exp(-theta)\n",
    "        x1 = self.maxwellian(rho, u, theta)\n",
    "        x2 = self.net_neq(xt)\n",
    "        y = x1 * (x1 + self.alpha * x2)\n",
    "        return y\n",
    "\n",
    "\n",
    "vdis, _ = get_vdis(config[\"vmesh\"])\n",
    "model = SplitNet(2, config[\"model\"][\"layers\"],\n",
    "                 config[\"model\"][\"neurons\"], vdis)"
   ]
  },
  {
   "cell_type": "markdown",
   "metadata": {},
   "source": [
    "## BoltzmannBGK"
   ]
  },
  {
   "cell_type": "code",
   "execution_count": 6,
   "metadata": {
    "ExecuteTime": {
     "end_time": "2023-02-24T04:22:40.230512Z",
     "start_time": "2023-02-24T04:22:40.215053Z"
    }
   },
   "outputs": [],
   "source": [
    "class BoltzmannBGK(nn.Cell):\n",
    "    \"\"\"The Boltzmann BGK model\"\"\"\n",
    "\n",
    "    def __init__(self, net, kn, vconfig, iv_weight=100, bv_weight=100, pde_weight=10):\n",
    "        super().__init__()\n",
    "        self.net = net\n",
    "        self.kn = kn\n",
    "\n",
    "        vdis, wdis = get_vdis(vconfig)\n",
    "\n",
    "        self.vdis = vdis\n",
    "        loss_num = 3 * (vdis.shape[0] + 1 + 2 * vdis.shape[-1])\n",
    "        self.mtl = MtlLoss(loss_num)\n",
    "        self.jac = JacFwd(self.net)\n",
    "        self.iv_weight = iv_weight\n",
    "        self.bv_weight = bv_weight\n",
    "        self.pde_weight = pde_weight\n",
    "        self.maxwellian_nd = Maxwellian(vdis)\n",
    "        self.rho_u_theta = RhoUTheta(vdis, wdis)\n",
    "        self.criterion_norm = lambda x: ops.square(x).mean(axis=0)\n",
    "        self.criterion = lambda x, y: ops.square(x - y).mean(axis=0)\n",
    "        self.prim_norm = PrimNorm(vdis, wdis)\n",
    "        self.collision = BGKKernel(\n",
    "            vconfig[\"vmin\"], vconfig[\"vmax\"], vconfig[\"nv\"])\n",
    "\n",
    "    def governing_equation(self, inputs):\n",
    "        f, fxft = self.jac(inputs)\n",
    "        fx, ft = fxft[0], fxft[1]\n",
    "        pde = ft + self.vdis[..., 0] * fx - self.collision(f, self.kn)\n",
    "        return pde\n",
    "\n",
    "    def boundary_condition(self, bv_points1, bv_points2):\n",
    "        fl = self.net(bv_points1)\n",
    "        fr = self.net(bv_points2)\n",
    "        return fl - fr\n",
    "\n",
    "    def initial_condition(self, inputs):\n",
    "        iv_pred = self.net(inputs)\n",
    "        iv_x = inputs[..., 0:1]\n",
    "        rho_l = ops.sin(2 * np.pi * iv_x) * 0.5 + 1\n",
    "        u_l = ops.zeros((iv_x.shape[0], 3), ms.float32)\n",
    "        theta_l = ops.sin(2 * np.pi * iv_x + 0.2) * 0.5 + 1\n",
    "        iv_truth = self.maxwellian_nd(rho_l, u_l, theta_l)\n",
    "        return iv_pred - iv_truth\n",
    "\n",
    "    def loss_fn(self, inputs):\n",
    "        \"\"\"the loss function\"\"\"\n",
    "        return self.criterion_norm(inputs), self.prim_norm(inputs)\n",
    "\n",
    "    def construct(self, domain_points, iv_points, bv_points1, bv_points2):\n",
    "        \"\"\"combined all loss function\"\"\"\n",
    "        pde = self.governing_equation(domain_points)\n",
    "        iv = self.initial_condition(iv_points)\n",
    "        bv = self.boundary_condition(bv_points1, bv_points2)\n",
    "\n",
    "        loss_pde = self.pde_weight * self.criterion_norm(pde)\n",
    "        loss_pde2 = self.pde_weight * self.prim_norm(pde)\n",
    "\n",
    "        loss_bv = self.bv_weight * self.criterion_norm(bv)\n",
    "        loss_bv2 = self.bv_weight * self.prim_norm(bv)\n",
    "\n",
    "        loss_iv = self.iv_weight * self.criterion_norm(iv)\n",
    "        loss_iv2 = self.iv_weight * self.prim_norm(iv)\n",
    "\n",
    "        loss_sum = self.mtl(\n",
    "            ops.concat(\n",
    "                [loss_iv, loss_iv2, loss_bv, loss_bv2, loss_pde, loss_pde2], axis=-1\n",
    "            )\n",
    "        )\n",
    "        return loss_sum, (loss_iv, loss_iv2, loss_bv, loss_bv2, loss_pde, loss_pde2)\n",
    "\n",
    "\n",
    "problem = BoltzmannBGK(model, config[\"kn\"], config[\"vmesh\"])"
   ]
  },
  {
   "cell_type": "markdown",
   "metadata": {},
   "source": [
    "## 优化器"
   ]
  },
  {
   "cell_type": "code",
   "execution_count": 7,
   "metadata": {
    "ExecuteTime": {
     "end_time": "2023-02-24T04:22:40.276986Z",
     "start_time": "2023-02-24T04:22:40.232314Z"
    }
   },
   "outputs": [],
   "source": [
    "cosine_decay_lr = nn.CosineDecayLR(\n",
    "    config[\"optim\"][\"lr_scheduler\"][\"min_lr\"],\n",
    "    config[\"optim\"][\"lr_scheduler\"][\"max_lr\"],\n",
    "    config[\"optim\"][\"Adam_steps\"],\n",
    ")\n",
    "optim = nn.Adam(params=problem.trainable_params(),\n",
    "                learning_rate=cosine_decay_lr)"
   ]
  },
  {
   "cell_type": "markdown",
   "metadata": {},
   "source": [
    "## 模型训练"
   ]
  },
  {
   "cell_type": "code",
   "execution_count": 8,
   "metadata": {
    "ExecuteTime": {
     "end_time": "2023-02-24T04:58:32.231402Z",
     "start_time": "2023-02-24T04:22:40.278932Z"
    },
    "scrolled": true
   },
   "outputs": [
    {
     "name": "stdout",
     "output_type": "stream",
     "text": [
      "epoch: 500 loss: 2.396e-01 epoch time: 194.953 ms\n",
      "epoch: 1000 loss: 3.136e-02 epoch time: 193.463 ms\n",
      "epoch: 1500 loss: 1.583e-03 epoch time: 191.280 ms\n",
      "epoch: 2000 loss: 2.064e-04 epoch time: 191.099 ms\n",
      "epoch: 2500 loss: 1.434e-04 epoch time: 190.477 ms\n",
      "epoch: 3000 loss: 1.589e-04 epoch time: 190.489 ms\n",
      "epoch: 3500 loss: 9.694e-05 epoch time: 190.476 ms\n",
      "epoch: 4000 loss: 8.251e-05 epoch time: 191.893 ms\n",
      "epoch: 4500 loss: 7.238e-05 epoch time: 190.835 ms\n",
      "epoch: 5000 loss: 5.705e-05 epoch time: 190.611 ms\n",
      "epoch: 5500 loss: 4.932e-05 epoch time: 190.530 ms\n",
      "epoch: 6000 loss: 4.321e-05 epoch time: 190.756 ms\n",
      "epoch: 6500 loss: 4.205e-05 epoch time: 191.470 ms\n",
      "epoch: 7000 loss: 3.941e-05 epoch time: 190.781 ms\n",
      "epoch: 7500 loss: 3.328e-05 epoch time: 190.543 ms\n",
      "epoch: 8000 loss: 3.113e-05 epoch time: 190.786 ms\n",
      "epoch: 8500 loss: 2.995e-05 epoch time: 190.864 ms\n",
      "epoch: 9000 loss: 2.875e-05 epoch time: 190.796 ms\n",
      "epoch: 9500 loss: 2.806e-05 epoch time: 188.351 ms\n",
      "epoch: 10000 loss: 2.814e-05 epoch time: 189.244 ms\n",
      "End-to-End total time: 2151.8691852092743 s\n"
     ]
    }
   ],
   "source": [
    "grad_fn = ops.value_and_grad(problem, None, optim.parameters, has_aux=True)\n",
    "\n",
    "\n",
    "@ms.jit\n",
    "def train_step(*inputs):\n",
    "    loss, grads = grad_fn(*inputs)\n",
    "    optim(grads)\n",
    "    return loss\n",
    "\n",
    "\n",
    "start_time = time.time()\n",
    "for i in range(1, config[\"optim\"][\"Adam_steps\"] + 1):\n",
    "    time_beg = time.time()\n",
    "    ds = dataset()\n",
    "    loss, _ = train_step(*ds)\n",
    "    if i % 500 == 0:\n",
    "        e_sum = loss.mean().asnumpy().item()\n",
    "        print(\n",
    "            f\"epoch: {i} loss: {e_sum:.3e} epoch time: {(time.time() - time_beg) * 1000 :.3f} ms\"\n",
    "        )\n",
    "print(\"End-to-End total time: {} s\".format(time.time() - start_time))\n",
    "ms.save_checkpoint(problem, f\"./model.ckpt\")"
   ]
  },
  {
   "cell_type": "markdown",
   "metadata": {},
   "source": [
    "## 模型推理与可视化"
   ]
  },
  {
   "cell_type": "code",
   "execution_count": 9,
   "metadata": {
    "ExecuteTime": {
     "end_time": "2023-02-24T04:58:34.390216Z",
     "start_time": "2023-02-24T04:58:32.237539Z"
    }
   },
   "outputs": [
    {
     "data": {
      "image/png": "[encoded data removed]",
      "text/plain": [
       "<Figure size 1000x300 with 2 Axes>"
      ]
     },
     "metadata": {},
     "output_type": "display_data"
    }
   ],
   "source": [
    "fig = visual(problem, config[\"visual_resolution\"], \"result.png\")\n",
    "fig.show()"
   ]
  }
 ],
 "metadata": {
  "kernelspec": {
   "display_name": "ms20",
   "language": "python",
   "name": "ms20"
  },
  "language_info": {
   "codemirror_mode": {
    "name": "ipython",
    "version": 3
   },
   "file_extension": ".py",
   "mimetype": "text/x-python",
   "name": "python",
   "nbconvert_exporter": "python",
   "pygments_lexer": "ipython3",
   "version": "3.9.16"
  },
  "vscode": {
   "interpreter": {
    "hash": "e6c8912be585e9cfc5b9e87cb3a795d2a9dcb999ff33312bc860b10b2e0dc97a"
   }
  }
 },
 "nbformat": 4,
 "nbformat_minor": 2
}
