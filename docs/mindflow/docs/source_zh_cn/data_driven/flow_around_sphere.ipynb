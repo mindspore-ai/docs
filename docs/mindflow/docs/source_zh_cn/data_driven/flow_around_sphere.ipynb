{
 "cells": [
  {
   "cell_type": "markdown",
   "id": "12326aa7",
   "metadata": {
    "pycharm": {
     "name": "#%% md\n"
    }
   },
   "source": [
    "# ResUnet3D-三维非定常流场预测\n",
    "\n",
    "[![下载Notebook](https://mindspore-website.obs.cn-north-4.myhuaweicloud.com/website-images/master/resource/_static/logo_notebook.svg)](https://mindspore-website.obs.cn-north-4.myhuaweicloud.com/notebook/master/mindflow/zh_cn/data_driven/mindspore_flow_around_sphere.ipynb)&emsp;[![下载样例代码](https://mindspore-website.obs.cn-north-4.myhuaweicloud.com/website-images/master/resource/_static/logo_download_code.svg)](https://mindspore-website.obs.cn-north-4.myhuaweicloud.com/notebook/master/mindflow/zh_cn/data_driven/mindspore_flow_around_sphere.py)&emsp;[![查看源文件](https://mindspore-website.obs.cn-north-4.myhuaweicloud.com/website-images/master/resource/_static/logo_source.svg)](https://gitee.com/mindspore/docs/blob/master/docs/mindflow/docs/source_zh_cn/data_driven/flow_around_sphere.ipynb)\n"
   ]
  },
  {
   "cell_type": "markdown",
   "id": "aa4bc6f5",
   "metadata": {
    "pycharm": {
     "name": "#%% md\n"
    }
   },
   "source": [
    "## 概述"
   ]
  },
  {
   "cell_type": "markdown",
   "id": "c0e74a98",
   "metadata": {
    "pycharm": {
     "name": "#%% md\n"
    }
   },
   "source": [
    "一般工程实际问题都是三维复杂流动，其中流场的快速获取与准确分析十分具有挑战性。CFD技术对于涉及复杂几何的三维流场分析时，由于网格自由度的增加会耗费大量计算资源,限制其完成交互式设计和实时优化控制等任务。日益缩短的设计周期也为流场的快速高保真模拟提出了新的要求。\n",
    "\n",
    "近年来，深度学习技术在流场建模中的潜力得到深入挖掘，但大部分建模工作依然围绕二维形状展开，距离实际的工程应用场景还具有一定的差距。这主要是因为与2D数据相比，三维数据中的空间耦合效应更强，需要建立更加复杂的神经网络架构提取流动的非线性特征。同时，大量数据集的处理和具有大量模型参数的神经网络的训练需要鲁棒的计算能力和存储资源，这可能受到硬件限制的限制。\n",
    "\n",
    "为了实现三维非定常流动的非线性特征提取，提出了一种基于残差连接的全卷积神经网络（**ResUnet3D**）模型建立三维流场快照之间的非线性映射。"
   ]
  },
  {
   "cell_type": "markdown",
   "id": "2b438c6c",
   "metadata": {
    "pycharm": {
     "name": "#%% md\n"
    }
   },
   "source": [
    "## 问题描述"
   ]
  },
  {
   "cell_type": "markdown",
   "id": "9e622cca",
   "metadata": {
    "pycharm": {
     "name": "#%% md\n"
    }
   },
   "source": [
    "高精度三维流场的获取对于工业界存在难度，本模型不使用大量历史流场快照作为支撑，而是直接从当前单个时刻的流场快照$F^t$中提取流场潜在特征，进一步提出特征解码的两种策略："
   ]
  },
  {
   "cell_type": "markdown",
   "id": "09f96d2d",
   "metadata": {
    "pycharm": {
     "name": "#%% md\n"
    }
   },
   "source": [
    "1. 将其解码为一定倍数scale的增量流场$\\Delta {F}^t$，再通过迭代策略实现三维非定场的长期预测："
   ]
  },
  {
   "cell_type": "markdown",
   "id": "aff1cd24",
   "metadata": {
    "pycharm": {
     "name": "#%% md\n"
    }
   },
   "source": [
    "$$scale\\cdot \\Delta {F^t}=f\\left( F^t \\right).$$"
   ]
  },
  {
   "cell_type": "markdown",
   "id": "f0544481",
   "metadata": {
    "pycharm": {
     "name": "#%% md\n"
    }
   },
   "source": [
    "$$F^{t+1}=F^{t}+\\Delta {F^t}.$$"
   ]
  },
  {
   "cell_type": "markdown",
   "id": "e48a25a1",
   "metadata": {
    "pycharm": {
     "name": "#%% md\n"
    }
   },
   "source": [
    "2. 直接将其解码为未来时刻的的流场，数据往往需要进行归一化处理，然后通过迭代实现长期预测:"
   ]
  },
  {
   "cell_type": "markdown",
   "id": "d1163e06",
   "metadata": {
    "pycharm": {
     "name": "#%% md\n"
    }
   },
   "source": [
    "$$F^{t+1}=f\\left( F^t \\right).$$"
   ]
  },
  {
   "cell_type": "markdown",
   "id": "6aaa2bb4",
   "metadata": {
    "pycharm": {
     "name": "#%% md\n"
    }
   },
   "source": [
    "## 技术路径"
   ]
  },
  {
   "cell_type": "markdown",
   "id": "ffdfc354",
   "metadata": {
    "pycharm": {
     "name": "#%% md\n"
    }
   },
   "source": [
    "针对上述问题，主要的技术路径主要包含以下几个步骤：\n",
    "\n",
    "1. 数据加载；\n",
    "\n",
    "2. 构建模型；\n",
    "\n",
    "3. 定义优化器与损失函数；\n",
    "\n",
    "4. 模型训练；\n",
    "\n",
    "5. 模型推理；\n",
    "\n",
    "6. 结果可视化。"
   ]
  },
  {
   "cell_type": "markdown",
   "id": "b60001e8",
   "metadata": {
    "pycharm": {
     "name": "#%% md\n"
    }
   },
   "source": [
    "## 模型架构"
   ]
  },
  {
   "cell_type": "markdown",
   "id": "f5ccbebb",
   "metadata": {
    "pycharm": {
     "name": "#%% md\n"
    }
   },
   "source": [
    "ResUnet3D的基本框架主要基于3D Unet和残差网络ResNet，遵循编码器和解码器的范式，结构整体呈对称的U型。主要特点在于传统的卷积被替换成了卷积残差块："
   ]
  },
  {
   "cell_type": "markdown",
   "id": "66076fd9",
   "metadata": {
    "pycharm": {
     "name": "#%% md\n"
    }
   },
   "source": [
    "<img src=\"./images/ResUnet3D.jpg\" alt=\"Drawing\" style=\"width: 800px;\" align=\"middle\"/>"
   ]
  },
  {
   "cell_type": "markdown",
   "id": "8ae6be63",
   "metadata": {
    "pycharm": {
     "name": "#%% md\n"
    }
   },
   "source": [
    "- **编码器**：左侧的压缩通道(Contracting Path)，将高维的流场数据进行下采样，分层次提取目标低维特征。编码器中包含四个下采样残差块，结构如图（a）所示。在编码器使用步长为2的卷积代替池化操作进行下采样。经过一个残差块运算后，特征通道扩大为原来的两倍，尺寸减半。"
   ]
  },
  {
   "cell_type": "markdown",
   "id": "bef578f4",
   "metadata": {
    "pycharm": {
     "name": "#%% md\n"
    }
   },
   "source": [
    "- **解码器**：相应的右侧解码器为拓展通道(Expansive Path)，负责将低维特征进行拓展，对应的具有四个上采样残差块；上采样残差块的结构如图（b）所示，首先执行反卷积进行增大特征为原来的两倍，将特征通道数降低。特别注意的是，上采样残差块舍弃恒等连接就是上采样输出块的结构图（c），负责模型的最终的输出。"
   ]
  },
  {
   "cell_type": "markdown",
   "id": "ec103905",
   "metadata": {
    "pycharm": {
     "name": "#%% md\n"
    }
   },
   "source": [
    "- **残差连接**：除了残差块中的残差连接，还在模型中添加了如实心灰色箭头所示的跳跃连接。残差连接的增多有助于提取高维流场的低频特征，进一步丰富流场预测的细节。"
   ]
  },
  {
   "cell_type": "markdown",
   "id": "9107c710",
   "metadata": {
    "pycharm": {
     "name": "#%% md\n"
    }
   },
   "source": [
    "<img src=\"./images/blocks.jpg\" alt=\"Drawing\" style=\"width: 400px;\" align=\"middle\"/>"
   ]
  },
  {
   "cell_type": "markdown",
   "id": "558ee4ab",
   "metadata": {
    "pycharm": {
     "name": "#%% md\n"
    }
   },
   "source": [
    "## 数据集介绍"
   ]
  },
  {
   "cell_type": "markdown",
   "id": "0641feb8",
   "metadata": {
    "pycharm": {
     "name": "#%% md\n"
    }
   },
   "source": [
    "数据集为三维圆球绕流的多维流动快照数组：\n",
    "\n",
    "- 三维圆球粘性绕流是流体力学特别是工程应用中的基础性问题，选择雷诺数Re=300工况进行研究，此时圆球尾部会周期性地脱落发夹状的规则尾涡，非定常特性明显；\n",
    "\n",
    "- 数据集计算状态与建立方法的详细信息见[论文](https://arxiv.org/abs/2307.07323)； 最终的流动数据集是基于文中笛卡尔采样方法得到的6D×3D×3D空间域内的$F\\in {{\\mathbb{R}}^{T\\times C\\times H\\times W\\times D}}$,其中T为快照数量（400），C为通道数（4，分别代表压强、流向速度、法向速度和展向速度信息），H×W×D=128×64×64分别为快照的高、宽和深）\n",
    "\n",
    "- [下载地址](https://download.mindspore.cn/mindscience/mindflow/dataset/applications/data_driven/3d_unsteady_flow)；"
   ]
  },
  {
   "cell_type": "code",
   "execution_count": 1,
   "id": "edc75436",
   "metadata": {
    "pycharm": {
     "name": "#%%\n"
    }
   },
   "outputs": [],
   "source": [
    "import os\n",
    "import time\n",
    "import argparse\n",
    "\n",
    "import numpy as np\n",
    "\n",
    "import mindspore\n",
    "from mindspore import nn, context, ops, jit, set_seed\n",
    "from mindspore import Tensor\n",
    "from mindspore.amp import DynamicLossScaler, auto_mixed_precision, all_finite\n",
    "\n",
    "from mindflow.utils import load_yaml_config\n",
    "from mindflow.common import get_warmup_cosine_annealing_lr\n",
    "\n",
    "from src import ResUnet3D, create_dataset, UnsteadyFlow3D, check_file_path, calculate_metric"
   ]
  },
  {
   "cell_type": "code",
   "execution_count": 2,
   "id": "78976566",
   "metadata": {
    "pycharm": {
     "name": "#%%\n"
    }
   },
   "outputs": [],
   "source": [
    "set_seed(123456)\n",
    "np.random.seed(123456)"
   ]
  },
  {
   "cell_type": "markdown",
   "id": "739374fa",
   "metadata": {
    "pycharm": {
     "name": "#%% md\n"
    }
   },
   "source": [
    "## 训练环境"
   ]
  },
  {
   "cell_type": "markdown",
   "id": "8829bfa9",
   "metadata": {
    "pycharm": {
     "name": "#%% md\n"
    }
   },
   "source": [
    "- 训练采用Mindspore框架的静态图模式（GRAPH）\n",
    "- 在GPU（默认）或Ascend进行训练（单卡）"
   ]
  },
  {
   "cell_type": "code",
   "execution_count": 3,
   "id": "613473e8",
   "metadata": {
    "pycharm": {
     "name": "#%%\n"
    },
    "scrolled": true
   },
   "outputs": [],
   "source": [
    "def parse_args():\n",
    "    \"\"\"Parse input args\"\"\"\n",
    "    parser = argparse.ArgumentParser(description='model train for 3d unsteady flow')\n",
    "    parser.add_argument(\"--mode\", type=str, default=\"GRAPH\", choices=[\"GRAPH\", \"PYNATIVE\"],\n",
    "                        help=\"Context mode, support 'GRAPH', 'PYNATIVE'\")\n",
    "    parser.add_argument(\"--save_graphs\", type=bool, default=False, choices=[True, False],\n",
    "                        help=\"Whether to save intermediate compilation graphs\")\n",
    "    parser.add_argument(\"--save_graphs_path\", type=str, default=\"./graphs\")\n",
    "    parser.add_argument(\"--device_target\", type=str, default=\"GPU\", choices=[\"GPU\", \"Ascend\"],\n",
    "                        help=\"The target device to run, support 'Ascend', 'GPU'\")\n",
    "    parser.add_argument(\"--device_id\", type=int, default=0, help=\"ID of the target device\")\n",
    "    parser.add_argument(\"--config_file_path\", type=str, default=\"./config.yaml\")\n",
    "    parser.add_argument(\"--norm\", type=bool, default=False, choices=[True, False],\n",
    "                        help=\"Whether to perform data normalization on original data\")\n",
    "    parser.add_argument(\"--residual_mode\", type=bool, default=True, choices=[True, False],\n",
    "                        help=\"Whether to use indirect prediction mode\")\n",
    "    parser.add_argument(\"--scale\", type=float, default=1000.0,\n",
    "                        help=\"Whether to use indirect prediction mode\")\n",
    "    input_args = parser.parse_args()\n",
    "    return input_args\n",
    "\n",
    "args = parse_args()\n",
    "context.set_context(mode=context.GRAPH_MODE if args.mode.upper().startswith(\"GRAPH\") else context.PYNATIVE_MODE,\n",
    "                    save_graphs=args.save_graphs,\n",
    "                    save_graphs_path=args.save_graphs_path,\n",
    "                    device_target=args.device_target,\n",
    "                    device_id=args.device_id)\n",
    "use_ascend = context.get_context(attr_key='device_target') == \"Ascend\""
   ]
  },
  {
   "cell_type": "markdown",
   "id": "41b6b095",
   "metadata": {
    "pycharm": {
     "name": "#%% md\n"
    }
   },
   "source": [
    "## 超参数配置"
   ]
  },
  {
   "cell_type": "markdown",
   "id": "46127185",
   "metadata": {
    "pycharm": {
     "name": "#%% md\n"
    }
   },
   "source": [
    "从配置文件中读取数据集配置参数（data）、模型参数（model）、优化器相关参数（optimizer）和输出相关参数（summary）等。"
   ]
  },
  {
   "cell_type": "code",
   "execution_count": 4,
   "id": "e1c6017b",
   "metadata": {
    "pycharm": {
     "name": "#%%\n"
    }
   },
   "outputs": [],
   "source": [
    "config = load_yaml_config(args.config_file_path)\n",
    "data_params = config[\"data\"]\n",
    "model_params = config[\"model\"]\n",
    "optimizer_params = config[\"optimizer\"]\n",
    "summary_params = config[\"summary\"]"
   ]
  },
  {
   "cell_type": "markdown",
   "id": "ae084101",
   "metadata": {
    "pycharm": {
     "name": "#%% md\n"
    }
   },
   "source": [
    "## 数据集加载"
   ]
  },
  {
   "cell_type": "markdown",
   "id": "39d4f301",
   "metadata": {
    "pycharm": {
     "name": "#%% md\n"
    }
   },
   "source": [
    "- 下载后的数据为原始数据（original_data.npy）\n",
    "\n",
    "- 第一次运行会根据正则化、划分比例等配置生成处理后的训练（train_data.npy or train_data.npy）、验证（eval_data.npy or eval_data.npy）和推理（infer_data.npy or infer_data_norm.npy）数据集。\n",
    "\n",
    "- 训练数据集的尺寸为（T, C, D, H, W) -> （300,4,64,128,64）,然后会被转换为MindSpore专门的DatasetGenerator。"
   ]
  },
  {
   "cell_type": "code",
   "execution_count": 5,
   "id": "20314da4",
   "metadata": {
    "pycharm": {
     "name": "#%%\n"
    }
   },
   "outputs": [],
   "source": [
    "# data for training\n",
    "train_loader = create_dataset(data_params, is_train=True, norm=args.norm, residual=args.residual_mode, scale=args.scale)\n",
    "train_dataset = train_loader.batch(model_params['batch_size'], drop_remainder=True)\n",
    "# data for evaluating\n",
    "eval_loader = create_dataset(data_params, is_eval=True, norm=args.norm, residual=args.residual_mode, scale=args.scale)\n",
    "eval_dataset = eval_loader.batch(1, drop_remainder=False)"
   ]
  },
  {
   "cell_type": "markdown",
   "id": "5949cf3a",
   "metadata": {
    "pycharm": {
     "name": "#%% md\n"
    }
   },
   "source": [
    "## 模型构建"
   ]
  },
  {
   "cell_type": "markdown",
   "id": "91f16ea4",
   "metadata": {
    "pycharm": {
     "name": "#%% md\n"
    }
   },
   "source": [
    "通过配置输入通道数（in.dims）、输出通道数（out.dims）、第一层中间通道数（base）和初始化等信息来构建适合的ResUnet3D模型。"
   ]
  },
  {
   "cell_type": "code",
   "execution_count": 6,
   "id": "4f5962bb",
   "metadata": {
    "pycharm": {
     "name": "#%%\n"
    }
   },
   "outputs": [],
   "source": [
    "model = ResUnet3D(in_channels=model_params['in_dims'], base=model_params['base'], out_channels=model_params['out_dims'])"
   ]
  },
  {
   "cell_type": "markdown",
   "id": "b30167ea",
   "metadata": {
    "pycharm": {
     "name": "#%% md\n"
    }
   },
   "source": [
    "## 损失函数与优化器"
   ]
  },
  {
   "cell_type": "markdown",
   "id": "40da0f3e",
   "metadata": {
    "pycharm": {
     "name": "#%% md\n"
    }
   },
   "source": [
    "为了抑制推理过程中的误差积累，我们在原有的强度损失函数的基础上加入了具有弱物理可解释性的梯度损失项，在这里仅计算了一阶导数。"
   ]
  },
  {
   "cell_type": "code",
   "execution_count": 7,
   "id": "a9a2e63a",
   "metadata": {
    "pycharm": {
     "name": "#%%\n"
    }
   },
   "outputs": [],
   "source": [
    "if use_ascend:\n",
    "    loss_scaler = DynamicLossScaler(1024, 2, 100)\n",
    "    auto_mixed_precision(model, 'O1')\n",
    "else:\n",
    "    loss_scaler = None\n",
    "\n",
    "# prepare optimizer and loss function\n",
    "steps_per_epoch = train_dataset.get_dataset_size()\n",
    "lr = get_warmup_cosine_annealing_lr(lr_init=optimizer_params['initial_lr'],\n",
    "                                    last_epoch=optimizer_params['train_epochs'],\n",
    "                                    steps_per_epoch=steps_per_epoch,\n",
    "                                    warmup_epochs=optimizer_params['warmup_epochs'])\n",
    "optimizer = nn.Adam(params=model.trainable_params(), learning_rate=Tensor(lr))\n",
    "\n",
    "problem = UnsteadyFlow3D(model, loss_fn=model_params['loss_fn'], metric_fn=model_params['metric_fn'],\n",
    "                         loss_weight=model_params['loss_weight'], dynamic_flag=model_params['dynamic_flag'],\n",
    "                         t_in=data_params['t_in'], t_out=data_params['t_out'],\n",
    "                         residual=args.residual_mode, scale=args.scale)"
   ]
  },
  {
   "cell_type": "markdown",
   "id": "6f4eb7ae",
   "metadata": {
    "pycharm": {
     "name": "#%% md\n"
    }
   },
   "source": [
    "## 训练函数与数据下沉"
   ]
  },
  {
   "cell_type": "markdown",
   "id": "6b2fa357",
   "metadata": {
    "pycharm": {
     "name": "#%% md\n"
    }
   },
   "source": [
    "使用MindSpore>= 2.0.0的版本，可以使用函数式编程范式训练神经网络，单步训练函数使用jit装饰。数据下沉函数data_sink，传入单步训练函数和训练数据集。"
   ]
  },
  {
   "cell_type": "code",
   "execution_count": 8,
   "id": "b9370bda",
   "metadata": {
    "pycharm": {
     "name": "#%%\n"
    }
   },
   "outputs": [],
   "source": [
    "def forward_fn(train_inputs, train_label):\n",
    "    loss = problem.get_loss(train_inputs, train_label)\n",
    "    if use_ascend:\n",
    "        loss = loss_scaler.scale(loss)\n",
    "    return loss\n",
    "\n",
    "grad_fn = ops.value_and_grad(forward_fn, None, optimizer.parameters, has_aux=False)\n",
    "\n",
    "@jit\n",
    "def train_step(train_inputs, train_label):\n",
    "    loss, grads = grad_fn(train_inputs, train_label)\n",
    "    if use_ascend:\n",
    "        loss = loss_scaler.unscale(loss)\n",
    "        is_finite = all_finite(grads)\n",
    "        if is_finite:\n",
    "            grads = loss_scaler.unscale(grads)\n",
    "            loss = ops.depend(loss, optimizer(grads))\n",
    "        loss_scaler.adjust(is_finite)\n",
    "    else:\n",
    "        loss = ops.depend(loss, optimizer(grads))\n",
    "    return loss"
   ]
  },
  {
   "cell_type": "code",
   "execution_count": 9,
   "id": "cb5b26df",
   "metadata": {
    "pycharm": {
     "name": "#%%\n"
    }
   },
   "outputs": [],
   "source": [
    "sink_process = mindspore.data_sink(train_step, train_dataset, sink_size=1)\n",
    "\n",
    "summary_dir = os.path.join(summary_params['summary_dir'], f\"norm-{args.norm}\",\n",
    "                           f\"resi-{args.residual_mode} scale-{args.scale} {model_params['loss_fn']}\")\n",
    "ckpt_dir = os.path.join(summary_dir, \"ckpt\")\n",
    "check_file_path(ckpt_dir)"
   ]
  },
  {
   "cell_type": "markdown",
   "id": "dbe861d2",
   "metadata": {
    "pycharm": {
     "name": "#%% md\n"
    }
   },
   "source": [
    "## 模型训练"
   ]
  },
  {
   "cell_type": "code",
   "execution_count": 10,
   "id": "cb71916e",
   "metadata": {
    "pycharm": {
     "name": "#%%\n"
    }
   },
   "outputs": [
    {
     "name": "stdout",
     "output_type": "stream",
     "text": [
      "pid: 3119283\n",
      "Running in GRAPH mode with GPU device, using device id: 0.\n",
      "epoch:    1  loss: 4.42134047  epoch time: 92.19s\n",
      "epoch:    2  loss: 3.66357303  epoch time: 80.85s\n",
      "epoch:    3  loss: 3.45540810  epoch time: 80.95s\n",
      "epoch:    4  loss: 3.41599965  epoch time: 80.95s\n",
      "epoch:    5  loss: 3.40474916  epoch time: 80.81s\n",
      "epoch:    6  loss: 3.39673209  epoch time: 83.84s\n",
      "epoch:    7  loss: 3.39179802  epoch time: 83.76s\n",
      "epoch:    8  loss: 3.37320089  epoch time: 84.44s\n",
      "epoch:    9  loss: 3.33641028  epoch time: 84.50s\n",
      "epoch:   10  loss: 3.15259790  epoch time: 83.91s\n",
      "================================Start Evaluation================================\n",
      "mean metric: 1.27255411  eval total time:6.78\n",
      "=================================End Evaluation=================================\n",
      "epoch:   11  loss: 2.73457718  epoch time: 83.85s\n",
      "epoch:   12  loss: 2.38593721  epoch time: 84.11s\n",
      "epoch:   13  loss: 2.08863926  epoch time: 81.57s\n",
      "epoch:   14  loss: 1.94633877  epoch time: 81.80s\n",
      "epoch:   15  loss: 1.90115929  epoch time: 81.57s\n",
      "epoch:   16  loss: 1.83967257  epoch time: 81.52s\n",
      "epoch:   17  loss: 1.87956619  epoch time: 81.10s\n",
      "epoch:   18  loss: 1.79619837  epoch time: 80.80s\n",
      "epoch:   19  loss: 1.85087931  epoch time: 80.74s\n",
      "epoch:   20  loss: 1.78368652  epoch time: 82.40s\n",
      "================================Start Evaluation================================\n",
      "mean metric: 0.30063288  eval total time:5.70\n",
      "=================================End Evaluation=================================\n",
      "Start-to-End total training time: 1670.48s\n"
     ]
    }
   ],
   "source": [
    "print(\"pid:\", os.getpid())\n",
    "print(f\"Running in {args.mode.upper()} mode within {args.device_target} device, using device id: {args.device_id}.\")\n",
    "start_time = time.time()\n",
    "\n",
    "for cur_epoch in range(1, optimizer_params['train_epochs'] + 1):\n",
    "    local_time_beg = time.time()\n",
    "    model.set_train(True)\n",
    "    for _ in range(steps_per_epoch):\n",
    "        cur_loss = sink_process()\n",
    "\n",
    "    epoch_time = time.time() - local_time_beg\n",
    "    print(f\"epoch: {cur_epoch:-4d}  loss: {cur_loss.asnumpy():.8f}  epoch time: {epoch_time:.2f}s\", flush=True)\n",
    "\n",
    "    if cur_epoch % summary_params['eval_interval'] == 0:\n",
    "        model.set_train(False)\n",
    "        # A uniform metric than total loss is unified as the evaluation standard\n",
    "        calculate_metric(problem, eval_dataset)\n",
    "        mindspore.save_checkpoint(model, os.path.join(ckpt_dir, f'ckpt-{cur_epoch}'))\n",
    "\n",
    "print(f\"Start-to-End total training time: {(time.time() - start_time):.2f}s\")"
   ]
  },
  {
   "cell_type": "markdown",
   "id": "bc8f756b",
   "metadata": {
    "pycharm": {
     "name": "#%% md\n"
    }
   },
   "source": [
    "## 模型推理"
   ]
  },
  {
   "cell_type": "markdown",
   "id": "b3eb164e",
   "metadata": {
    "pycharm": {
     "name": "#%% md\n"
    }
   },
   "source": [
    "模型训练结束后，运行[eval.py](eval.py)，通过控制台控制需要读取的模型路径，在给定任意时刻的初始流场的条件下，快速、准确的推理未来长时间的三维流场。"
   ]
  },
  {
   "cell_type": "markdown",
   "id": "3bd6877d",
   "metadata": {
    "pycharm": {
     "name": "#%% md\n"
    }
   },
   "source": [
    "## 结果可视化"
   ]
  },
  {
   "cell_type": "markdown",
   "id": "25a640ec",
   "metadata": {
    "pycharm": {
     "name": "#%% md\n"
    }
   },
   "source": [
    "- 训练好的间接预测模型进行推理的压力云图的随时间的变化如下所示,与CFD结果一致，模型捕捉到了周期性流动的特征："
   ]
  },
  {
   "cell_type": "markdown",
   "id": "4703fd46",
   "metadata": {
    "pycharm": {
     "name": "#%% md\n"
    }
   },
   "source": [
    "![P.gif](https://mindspore-website.obs.cn-north-4.myhuaweicloud.com/website-images/master/docs/mindflow/docs/source_zh_cn/data_driven/images/P.gif)"
   ]
  },
  {
   "cell_type": "markdown",
   "id": "f8824076",
   "metadata": {
    "pycharm": {
     "name": "#%% md\n"
    }
   },
   "source": [
    "- 预测两个周期后根据速度场数值着色的三维涡量等值面($Q=0.0005$)云图如下所示，发夹状基本一致，但ResUnet3D预测尾部涡面比较粗糙："
   ]
  },
  {
   "cell_type": "markdown",
   "id": "00ad0c14",
   "metadata": {
    "pycharm": {
     "name": "#%% md\n"
    }
   },
   "source": [
    "![Q.png](https://mindspore-website.obs.cn-north-4.myhuaweicloud.com/website-images/master/docs/mindflow/docs/source_zh_cn/data_driven/images/Q.png)"
   ]
  }
 ],
 "metadata": {
  "kernelspec": {
   "display_name": "Python 3 (ipykernel)",
   "language": "python",
   "name": "python3"
  },
  "language_info": {
   "codemirror_mode": {
    "name": "ipython",
    "version": 3
   },
   "file_extension": ".py",
   "mimetype": "text/x-python",
   "name": "python",
   "nbconvert_exporter": "python",
   "pygments_lexer": "ipython3",
   "version": "3.8.16"
  }
 },
 "nbformat": 4,
 "nbformat_minor": 5
}
