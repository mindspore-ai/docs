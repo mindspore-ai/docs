{
 "cells": [
  {
   "cell_type": "markdown",
   "metadata": {
    "pycharm": {
     "name": "#%% md\n"
    }
   },
   "source": [
    "# 基于谱神经算子的伯格斯方程求解\n",
    "\n",
    "[![下载Notebook](https://mindspore-website.obs.cn-north-4.myhuaweicloud.com/website-images/master/resource/_static/logo_notebook.svg)](https://mindspore-website.obs.cn-north-4.myhuaweicloud.com/notebook/master/mindflow/zh_cn/data_driven/mindspore_burgers_SNO1D.ipynb)&emsp;[![下载样例代码](https://mindspore-website.obs.cn-north-4.myhuaweicloud.com/website-images/master/resource/_static/logo_download_code.svg)](https://mindspore-website.obs.cn-north-4.myhuaweicloud.com/notebook/master/mindflow/zh_cn/data_driven/mindspore_burgers_SNO1D.py)&emsp;[![查看源文件](https://mindspore-website.obs.cn-north-4.myhuaweicloud.com/website-images/master/resource/_static/logo_source.svg)](https://gitee.com/mindspore/docs/blob/master/docs/mindflow/docs/source_zh_cn/data_driven/burgers_SNO1D.ipynb)"
   ]
  },
  {
   "cell_type": "markdown",
   "metadata": {
    "pycharm": {
     "name": "#%% md\n"
    }
   },
   "source": [
    "## 概述\n",
    "\n",
    "计算流体力学是21世纪流体力学领域的重要技术之一，其通过使用数值方法在计算机中对流体力学的控制方程进行求解，从而实现流动的分析、预测和控制。传统的有限元法（finite element method，FEM）和有限差分法（finite difference method，FDM），常用于复杂的仿真流程（物理建模、网格划分、数值离散、迭代求解等），其较高的计算成本，导致求解效率往往较为低下。因此，借助AI提升流体仿真效率是十分必要的。\n",
    "\n",
    "近年来，随着神经网络的迅猛发展，为科学计算提供了新的范式。经典的神经网络是在有限维度的空间进行映射，只能学习与特定离散化相关的解。与经典神经网络不同，傅里叶神经算子（Fourier Neural Operator，FNO）是一种能够学习无限维函数空间映射的新型深度学习架构。该架构可直接学习从任意函数参数到解的映射，用于解决一类偏微分方程的求解问题，具有更强的泛化能力。更多信息可参考[Fourier Neural Operator for Parametric Partial Differential Equations](https://arxiv.org/abs/2010.08895)。\n",
    "\n",
    "谱神经算子（Spectral Neural Operator，SNO）是利用多项式将计算变换到频谱空间（Chebyshev,Legendre等）的类似FNO的架构。与FNO相比, SNO的特点是由混淆误差引起的系统偏差较小。其中最重要的好处之一是SNO的基的选择更为宽泛，因此可以在其中找到一组最方便表示的多项式。例如，针对问题的对称性或针对时间间隔来选取适应的基。此外，当输入定义在在非结构化网格上时，基于正交多项式的神经算子相比其他谱算子或更有竞争力。\n",
    "\n",
    "更多信息可参考, \"[Spectral Neural Operators](https://arxiv.org/abs/2205.10573)\". arXiv preprint arXiv:2205.10573 (2022).\n",
    "\n",
    "本案例教程介绍了利用频谱神经算子求解1-d Burgers方程的方法。"
   ]
  },
  {
   "cell_type": "markdown",
   "metadata": {
    "pycharm": {
     "name": "#%% md\n"
    }
   },
   "source": [
    "## 伯格斯方程（Burgers' equation）\n",
    "\n",
    "一维伯格斯方程（1-d Burgers' equation）是一个非线性偏微分方程，具有广泛应用，包括一维粘性流体流动建模。它的形式如下：\n",
    "\n",
    "$$\n",
    "\\partial_t u(x, t)+\\partial_x (u^2(x, t)/2)=\\nu \\partial_{xx} u(x, t), \\quad x \\in(0,1), t \\in(0, 1]\n",
    "$$\n",
    "\n",
    "$$\n",
    "u(x, 0)=u_0(x), \\quad x \\in(0,1)\n",
    "$$\n",
    "\n",
    "其中$u$表示速度场，$u_0$表示初始条件，$\\nu$表示粘度系数。"
   ]
  },
  {
   "cell_type": "markdown",
   "metadata": {},
   "source": [
    "## 问题描述\n",
    "\n",
    "本案例利用Spectral Neural Operator学习初始状态到下一时刻状态的映射，实现一维Burgers'方程的求解：\n",
    "\n",
    "$$\n",
    "u_0 \\mapsto u(\\cdot, 1)\n",
    "$$"
   ]
  },
  {
   "cell_type": "markdown",
   "metadata": {},
   "source": [
    "## 技术路径\n",
    "\n",
    "MindFlow求解该问题的具体流程如下：\n",
    "\n",
    "1. 创建数据集。\n",
    "2. 构建模型。\n",
    "3. 优化器与损失函数。\n",
    "4. 模型训练。\n",
    "5. 模型推理和可视化。"
   ]
  },
  {
   "cell_type": "markdown",
   "metadata": {},
   "source": [
    "## 谱神经算子\n",
    "\n",
    "下图显示了谱神经算子的架构，它由编码器、多层谱卷积层（谱空间的线性变换）和解码器组成。要计算频谱卷积的正向和逆多项式变换矩阵，应在相应的Gauss正交节点（Chebyshev网格等）对输入进行插值。通过卷积编码层将插值后的输入提升到更高维度的通道。其结果将经过多层谱卷积层，每个层对其截断的谱表示应用线性卷积。SNO层的输出通过卷积解码器投影回目标维度，最后插值回原始节点。\n",
    "\n",
    "SNO层执行以下操作：将多项式变换$A$应用于光谱空间（Chebyshev，Legendre等）操作；多项式低阶模态上的线性卷积$L$操作，高阶模态上的过滤操作；而后，应用逆变换 $S={A}^{-1}$（回到物理空间）。然后添加输入层的线性卷积 $W$操作，并应用非线性激活层。\n",
    "\n",
    "![SNO网络结构](images/SNO.png)"
   ]
  },
  {
   "cell_type": "code",
   "execution_count": 1,
   "metadata": {
    "pycharm": {
     "name": "#%%\n"
    },
    "tags": []
   },
   "outputs": [],
   "source": [
    "import os\n",
    "import time\n",
    "import numpy as np\n",
    "\n",
    "from mindspore import context, nn, Tensor, set_seed, ops, data_sink, jit, save_checkpoint\n",
    "from mindspore import dtype as mstype\n",
    "from mindflow.cell import SNO1D, get_poly_transform\n",
    "from mindflow import RelativeRMSELoss, load_yaml_config, get_warmup_cosine_annealing_lr\n",
    "from mindflow.pde import UnsteadyFlowWithLoss\n",
    "from mindflow.utils import print_log"
   ]
  },
  {
   "cell_type": "markdown",
   "metadata": {},
   "source": [
    "下述`src`包可以在[applications/data_driven/burgers/sno1d/src](https://gitee.com/mindspore/mindscience/tree/master/MindFlow/applications/data_driven/burgers/sno1d/src)下载。"
   ]
  },
  {
   "cell_type": "code",
   "execution_count": 2,
   "metadata": {
    "pycharm": {
     "name": "#%%\n"
    },
    "tags": []
   },
   "outputs": [],
   "source": [
    "from src import create_training_dataset, load_interp_data, test_error, visual\n",
    "\n",
    "set_seed(0)\n",
    "np.random.seed(0)\n",
    "\n",
    "context.set_context(mode=context.GRAPH_MODE, device_target=\"GPU\", device_id=0)\n",
    "use_ascend = context.get_context(attr_key='device_target') == \"Ascend\""
   ]
  },
  {
   "cell_type": "markdown",
   "metadata": {},
   "source": [
    "从[config](https://gitee.com/mindspore/mindscience/blob/master/MindFlow/applications/data_driven/burgers/sno1d/configs/sno1d.yaml)中获得模型、数据、优化器的超参。"
   ]
  },
  {
   "cell_type": "code",
   "execution_count": 4,
   "metadata": {
    "pycharm": {
     "name": "#%%\n"
    },
    "tags": []
   },
   "outputs": [],
   "source": [
    "config = load_yaml_config('./configs/sno1d.yaml')\n",
    "data_params = config[\"data\"]\n",
    "model_params = config[\"model\"]\n",
    "optimizer_params = config[\"optimizer\"]\n",
    "summary_params = config[\"summary\"]"
   ]
  },
  {
   "cell_type": "markdown",
   "metadata": {},
   "source": [
    "## 创建数据集\n",
    "\n",
    "下载训练与测试数据集: [data_driven/burgers/dataset](https://download.mindspore.cn/mindscience/mindflow/dataset/applications/data_driven/burgers/dataset/)。\n",
    "\n",
    "本案例根据Zongyi Li在 [Fourier Neural Operator for Parametric Partial Differential Equations](https://arxiv.org/pdf/2010.08895.pdf) 一文中对数据集的设置生成训练数据集与测试数据集。具体设置如下：\n",
    "基于周期性边界，生成满足如下分布的初始条件$u_0(x)$：\n",
    "\n",
    "$$\n",
    "u_0 \\sim \\mu, \\mu=\\mathcal{N}\\left(0,625(-\\Delta+25 I)^{-2}\\right)\n",
    "$$\n",
    "\n",
    "本案例选取粘度系数$\\nu=0.1$，并使用分步法求解方程，其中热方程部分在傅里叶空间中精确求解，然后使用前向欧拉方法求解非线性部分。训练集样本量为1000个，测试集样本量为200个。"
   ]
  },
  {
   "cell_type": "code",
   "execution_count": 5,
   "metadata": {
    "pycharm": {
     "name": "#%%\n"
    },
    "tags": []
   },
   "outputs": [],
   "source": [
    "poly_type = data_params['poly_type']\n",
    "\n",
    "# create training dataset\n",
    "load_interp_data(data_params, dataset_type='train')\n",
    "train_dataset = create_training_dataset(data_params, shuffle=True)\n",
    "\n",
    "# create test dataset\n",
    "test_data = load_interp_data(data_params, dataset_type='test')\n",
    "test_input = Tensor(test_data['test_inputs'], mstype.float32)\n",
    "test_label = Tensor(test_data['test_labels'], mstype.float32)"
   ]
  },
  {
   "cell_type": "markdown",
   "metadata": {
    "pycharm": {
     "name": "#%% md\n"
    }
   },
   "source": [
    "## 构建模型\n",
    "\n",
    "网络由1个Encoding layer、多个Spectral layer和Decoding block组成:\n",
    "\n",
    "- 编码卷积在情况下对应`SNO1D.encoder`，将输入数据$x$映射到高维；\n",
    "\n",
    "- 在这种情况下,SNO层序列对应于`SNO1D.sno_kernel`。利用多项式变换的输入矩阵实现时空域与频域的转换；\n",
    "\n",
    "- 解码层对应`SNO1D.decoder`，由两个卷积组成。解码器用于获得最终预测。\n",
    "\n",
    "基于上述网络结构，进行模型初始化，其中模型参数可在[配置文件](https://gitee.com/mindspore/mindscience/blob/master/MindFlow/applications/data_driven/burgers/sno1d/configs/sno1d.yaml)中修改。"
   ]
  },
  {
   "cell_type": "code",
   "execution_count": 6,
   "metadata": {
    "tags": []
   },
   "outputs": [],
   "source": [
    "n_modes = model_params['modes']\n",
    "resolution = data_params['resolution']\n",
    "\n",
    "transform_data = get_poly_transform(resolution, n_modes, poly_type)\n",
    "\n",
    "transform = Tensor(transform_data[\"analysis\"], mstype.float32)\n",
    "inv_transform = Tensor(transform_data[\"synthesis\"], mstype.float32)"
   ]
  },
  {
   "cell_type": "code",
   "execution_count": 7,
   "metadata": {
    "pycharm": {
     "name": "#%%\n"
    },
    "tags": []
   },
   "outputs": [
    {
     "name": "stdout",
     "output_type": "stream",
     "text": [
      "root_dir:./_name:SNO1D_in_channels:1_out_channels:1_hidden_channels:128_sno_layers:6_modes:15\n",
      "(128, 1, 1, 1)\n",
      "(128, 128, 1, 5)\n",
      "(128, 128, 1, 1)\n",
      "(128, 128, 1, 5)\n",
      "(128, 128, 1, 1)\n",
      "(128, 128, 1, 5)\n",
      "(128, 128, 1, 1)\n",
      "(128, 128, 1, 5)\n",
      "(128, 128, 1, 1)\n",
      "(128, 128, 1, 5)\n",
      "(128, 128, 1, 1)\n",
      "(128, 128, 1, 5)\n",
      "(128, 128, 1, 1)\n",
      "(128, 128, 1, 1)\n",
      "(1, 128, 1, 1)\n",
      "Total Parameters:606464\n"
     ]
    }
   ],
   "source": [
    "model = SNO1D(in_channels=model_params['in_channels'],\n",
    "              out_channels=model_params['out_channels'],\n",
    "              hidden_channels=model_params['hidden_channels'],\n",
    "              num_sno_layers=model_params['sno_layers'],\n",
    "              transforms=[[transform, inv_transform]],\n",
    "              compute_dtype=mstype.float32)\n",
    "\n",
    "model_params_list = []\n",
    "for k, v in model_params.items():\n",
    "    model_params_list.append(f\"{k}:{v}\")\n",
    "model_name = \"_\".join(model_params_list)\n",
    "print(model_name)\n",
    "total = 0\n",
    "for param in model.get_parameters():\n",
    "    print_log(param.shape)\n",
    "    total += param.size\n",
    "print_log(f\"Total Parameters:{total}\")"
   ]
  },
  {
   "cell_type": "markdown",
   "metadata": {
    "pycharm": {
     "name": "#%% md\n"
    }
   },
   "source": [
    "## 优化器与损失函数"
   ]
  },
  {
   "cell_type": "code",
   "execution_count": 8,
   "metadata": {
    "pycharm": {
     "name": "#%%\n"
    },
    "tags": []
   },
   "outputs": [],
   "source": [
    "steps_per_epoch = train_dataset.get_dataset_size()\n",
    "\n",
    "lr = get_warmup_cosine_annealing_lr(lr_init=optimizer_params[\"learning_rate\"],\n",
    "                                    last_epoch=optimizer_params[\"epochs\"],\n",
    "                                    steps_per_epoch=steps_per_epoch,\n",
    "                                    warmup_epochs=1)\n",
    "\n",
    "optimizer = nn.AdamWeightDecay(model.trainable_params(), learning_rate=Tensor(lr),\n",
    "                               weight_decay=optimizer_params['weight_decay'])"
   ]
  },
  {
   "cell_type": "markdown",
   "metadata": {
    "pycharm": {
     "name": "#%% md\n"
    }
   },
   "source": [
    "## 模型训练\n",
    "\n",
    "使用 **MindSpore version >= 2.0.0**, 我们可以使用函数式编程来训练神经网络。 `MindFlow` 为非稳态问题 `UnsteadyFlowWithLoss` 提供了一个训练接口，用于模型训练和评估。"
   ]
  },
  {
   "cell_type": "code",
   "execution_count": 9,
   "metadata": {
    "tags": []
   },
   "outputs": [
    {
     "name": "stdout",
     "output_type": "stream",
     "text": [
      "epoch: 2 train loss: 13.560559272766113 epoch time: 0.29s\n",
      "epoch: 4 train loss: 7.8073320388793945 epoch time: 0.29s\n",
      "epoch: 6 train loss: 5.312091827392578 epoch time: 0.29s\n",
      "epoch: 8 train loss: 4.512760162353516 epoch time: 0.29s\n",
      "epoch: 10 train loss: 4.524318695068359 epoch time: 0.29s\n",
      "================================Start Evaluation================================\n",
      "poly err 0.082584664 unif err 0.08160467609741283\n",
      "mean rel_rmse_error:\n",
      "on Gauss grid: 0.082584664, on regular grid: 0.08160467609741283\n",
      "=================================End Evaluation=================================\n",
      "predict total time: 0.9047303199768066 s\n",
      "epoch: 12 train loss: 3.368042230606079 epoch time: 0.29s\n",
      "epoch: 14 train loss: 3.7890400886535645 epoch time: 0.29s\n",
      "epoch: 16 train loss: 2.914067268371582 epoch time: 0.29s\n",
      "epoch: 18 train loss: 3.0474812984466553 epoch time: 0.29s\n",
      "epoch: 20 train loss: 2.3820204734802246 epoch time: 0.29s\n",
      "================================Start Evaluation================================\n",
      "poly err 0.051907677 unif err 0.055236216344648134\n",
      "mean rel_rmse_error:\n",
      "on Gauss grid: 0.051907677, on regular grid: 0.055236216344648134\n",
      "=================================End Evaluation=================================\n",
      "predict total time: 0.3307943344116211 s\n",
      "epoch: 22 train loss: 2.1899354457855225 epoch time: 0.29s\n",
      "epoch: 24 train loss: 2.6020946502685547 epoch time: 0.29s\n",
      "epoch: 26 train loss: 2.1262004375457764 epoch time: 0.29s\n",
      "epoch: 28 train loss: 2.752087116241455 epoch time: 0.29s\n",
      "epoch: 30 train loss: 2.1657941341400146 epoch time: 0.29s\n",
      "================================Start Evaluation================================\n",
      "poly err 0.042794246 unif err 0.043356370460405406\n",
      "mean rel_rmse_error:\n",
      "on Gauss grid: 0.042794246, on regular grid: 0.043356370460405406\n",
      "=================================End Evaluation=================================\n",
      "predict total time: 0.3187530040740967 s\n",
      "epoch: 32 train loss: 2.115807056427002 epoch time: 0.29s\n",
      "epoch: 34 train loss: 2.2428648471832275 epoch time: 0.29s\n",
      "epoch: 36 train loss: 1.8951427936553955 epoch time: 0.29s\n",
      "epoch: 38 train loss: 2.274214029312134 epoch time: 0.29s\n",
      "epoch: 40 train loss: 1.5807445049285889 epoch time: 0.29s\n",
      "================================Start Evaluation================================\n",
      "poly err 0.034330513 unif err 0.0356441642704777\n",
      "mean rel_rmse_error:\n",
      "on Gauss grid: 0.034330513, on regular grid: 0.0356441642704777\n",
      "=================================End Evaluation=================================\n",
      "predict total time: 0.32185792922973633 s\n",
      "epoch: 42 train loss: 1.6506515741348267 epoch time: 0.29s\n",
      "epoch: 44 train loss: 2.08235502243042 epoch time: 0.29s\n",
      "epoch: 46 train loss: 1.8833307027816772 epoch time: 0.29s\n",
      "epoch: 48 train loss: 1.9333553314208984 epoch time: 0.29s\n",
      "epoch: 50 train loss: 1.6440622806549072 epoch time: 0.29s\n",
      "================================Start Evaluation================================\n",
      "poly err 0.033291295 unif err 0.033457853864207195\n",
      "mean rel_rmse_error:\n",
      "on Gauss grid: 0.033291295, on regular grid: 0.033457853864207195\n",
      "=================================End Evaluation=================================\n",
      "\n",
      "...\n",
      "\n",
      "predict total time: 0.3366513252258301 s\n",
      "epoch: 462 train loss: 0.24820879101753235 epoch time: 0.29s\n",
      "epoch: 464 train loss: 0.24735520780086517 epoch time: 0.29s\n",
      "epoch: 466 train loss: 0.2482168972492218 epoch time: 0.29s\n",
      "epoch: 468 train loss: 0.22737035155296326 epoch time: 0.29s\n",
      "epoch: 470 train loss: 0.2804833650588989 epoch time: 0.29s\n",
      "================================Start Evaluation================================\n",
      "poly err 0.010561488 unif err 0.013948327043853818\n",
      "mean rel_rmse_error:\n",
      "on Gauss grid: 0.010561488, on regular grid: 0.013948327043853818\n",
      "=================================End Evaluation=================================\n",
      "predict total time: 0.3300166130065918 s\n",
      "epoch: 472 train loss: 0.22485128045082092 epoch time: 0.29s\n",
      "epoch: 474 train loss: 0.23889896273612976 epoch time: 0.29s\n",
      "epoch: 476 train loss: 0.21668389439582825 epoch time: 0.29s\n",
      "epoch: 478 train loss: 0.1889769434928894 epoch time: 0.29s\n",
      "epoch: 480 train loss: 0.2677367329597473 epoch time: 0.29s\n",
      "================================Start Evaluation================================\n",
      "poly err 0.010574474 unif err 0.014019374833847865\n",
      "mean rel_rmse_error:\n",
      "on Gauss grid: 0.010574474, on regular grid: 0.014019374833847865\n",
      "=================================End Evaluation=================================\n",
      "predict total time: 0.3232889175415039 s\n",
      "epoch: 482 train loss: 0.2441430538892746 epoch time: 0.29s\n",
      "epoch: 484 train loss: 0.24202264845371246 epoch time: 0.29s\n",
      "epoch: 486 train loss: 0.23344917595386505 epoch time: 0.29s\n",
      "epoch: 488 train loss: 0.21861663460731506 epoch time: 0.29s\n",
      "epoch: 490 train loss: 0.26446333527565 epoch time: 0.29s\n",
      "================================Start Evaluation================================\n",
      "poly err 0.010547794 unif err 0.01386342701108702\n",
      "mean rel_rmse_error:\n",
      "on Gauss grid: 0.010547794, on regular grid: 0.01386342701108702\n",
      "=================================End Evaluation=================================\n",
      "predict total time: 0.3338737487792969 s\n",
      "epoch: 492 train loss: 0.23258613049983978 epoch time: 0.29s\n",
      "epoch: 494 train loss: 0.2514750361442566 epoch time: 0.29s\n",
      "epoch: 496 train loss: 0.22820161283016205 epoch time: 0.29s\n",
      "epoch: 498 train loss: 0.2457718849182129 epoch time: 0.29s\n",
      "epoch: 500 train loss: 0.22753804922103882 epoch time: 0.29s\n",
      "================================Start Evaluation================================\n",
      "poly err 0.010547179 unif err 0.013942114215390036\n",
      "mean rel_rmse_error:\n",
      "on Gauss grid: 0.010547179, on regular grid: 0.013942114215390036\n",
      "=================================End Evaluation=================================\n",
      "predict total time: 0.32792139053344727 s\n"
     ]
    }
   ],
   "source": [
    "problem = UnsteadyFlowWithLoss(model, loss_fn=RelativeRMSELoss(), data_format=\"NTCHW\")\n",
    "\n",
    "def forward_fn(data, label):\n",
    "    loss = problem.get_loss(data, label)\n",
    "    return loss\n",
    "\n",
    "grad_fn = ops.value_and_grad(forward_fn, None, optimizer.parameters, has_aux=False)\n",
    "\n",
    "@jit\n",
    "def train_step(data, label):\n",
    "    loss, grads = grad_fn(data, label)\n",
    "    grads = ops.clip_by_global_norm(grads, optimizer_params['grad_clip_norm'])\n",
    "\n",
    "    loss = ops.depend(loss, optimizer(grads))\n",
    "    return loss\n",
    "\n",
    "sink_process = data_sink(train_step, train_dataset, 1)\n",
    "\n",
    "summary_dir = summary_params[\"summary_dir\"]\n",
    "os.makedirs(summary_dir, exist_ok=True)\n",
    "ckpt_dir = summary_params['ckpt_dir']\n",
    "os.makedirs(ckpt_dir, exist_ok=True)\n",
    "\n",
    "for epoch in range(1, optimizer_params[\"epochs\"] + 1):\n",
    "    local_time_beg = time.time()\n",
    "    model.set_train(True)\n",
    "    for _ in range(steps_per_epoch):\n",
    "        cur_loss = sink_process()\n",
    "\n",
    "    if epoch % 2 == 0:\n",
    "        print_log(f\"epoch: {epoch} train loss: {cur_loss.asnumpy()} epoch time: {time.time() - local_time_beg:.2f}s\")\n",
    "\n",
    "    model.set_train(False)\n",
    "    if epoch % summary_params[\"save_ckpt_interval\"] == 0:\n",
    "        save_checkpoint(model, os.path.join(ckpt_dir, f\"{model_params['name']}_epoch{epoch}\"))\n",
    "\n",
    "    if epoch % summary_params['test_interval'] == 0:\n",
    "        test_error(model, test_input, test_label, data_params)"
   ]
  },
  {
   "cell_type": "code",
   "execution_count": 10,
   "metadata": {
    "tags": []
   },
   "outputs": [],
   "source": [
    "visual(model, test_input, data_params)"
   ]
  },
  {
   "cell_type": "code",
   "execution_count": 12,
   "metadata": {
    "tags": []
   },
   "outputs": [
    {
     "data": {
      "image/jpeg": "[encoded data removed]",
      "text/plain": [
       "<IPython.core.display.Image object>"
      ]
     },
     "metadata": {},
     "output_type": "display_data"
    }
   ],
   "source": [
    "from IPython.display import Image, display\n",
    "\n",
    "display(Image(filename='images/result.jpg', embed=True))"
   ]
  }
 ],
 "metadata": {
  "kernelspec": {
   "display_name": "Python 3 (ipykernel)",
   "language": "python",
   "name": "python3"
  },
  "language_info": {
   "codemirror_mode": {
    "name": "ipython",
    "version": 3
   },
   "file_extension": ".py",
   "mimetype": "text/x-python",
   "name": "python",
   "nbconvert_exporter": "python",
   "pygments_lexer": "ipython3",
   "version": "3.7.16"
  },
  "vscode": {
   "interpreter": {
    "hash": "916dbcbb3f70747c44a77c7bcd40155683ae19c65e1c03b4aa3499c5328201f1"
   }
  }
 },
 "nbformat": 4,
 "nbformat_minor": 4
}
