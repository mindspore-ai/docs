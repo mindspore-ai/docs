{
 "cells": [
  {
   "cell_type": "markdown",
   "metadata": {
    "pycharm": {
     "name": "#%% md\n"
    }
   },
   "source": [
    "# 基于KNO求解一维Burgers\n",
    "\n",
    "[![下载Notebook](https://mindspore-website.obs.cn-north-4.myhuaweicloud.com/website-images/master/resource/_static/logo_notebook.svg)](https://obs.dualstack.cn-north-4.myhuaweicloud.com/mindspore-website/notebook/master/mindflow/zh_cn/data_driven/mindspore_burgers_KNO1D.ipynb)&emsp;[![下载样例代码](https://mindspore-website.obs.cn-north-4.myhuaweicloud.com/website-images/master/resource/_static/logo_download_code.svg)](https://obs.dualstack.cn-north-4.myhuaweicloud.com/mindspore-website/notebook/master/mindflow/zh_cn/data_driven/mindspore_burgers_KNO1D.py)&emsp;[![查看源文件](https://mindspore-website.obs.cn-north-4.myhuaweicloud.com/website-images/master/resource/_static/logo_source.svg)](https://gitee.com/mindspore/docs/blob/master/docs/mindflow/docs/source_zh_cn/data_driven/burgers_KNO1D.ipynb)"
   ]
  },
  {
   "cell_type": "markdown",
   "metadata": {
    "pycharm": {
     "name": "#%% md\n"
    }
   },
   "source": [
    "## 概述\n",
    "\n",
    "计算流体力学是21世纪流体力学领域的重要技术之一，其通过使用数值方法在计算机中对流体力学的控制方程进行求解，从而实现流动的分析、预测和控制。传统的有限元法（finite element method，FEM）和有限差分法（finite difference method，FDM）常用于复杂的仿真流程（物理建模、网格划分、数值离散、迭代求解等）和较高的计算成本，往往效率低下。因此，借助AI提升流体仿真效率是十分必要的。\n",
    "\n",
    "近年来，随着神经网络的迅猛发展，为科学计算提供了新的范式。经典的神经网络是在有限维度的空间进行映射，只能学习与特定离散化相关的解。与经典神经网络不同，傅里叶神经算子（Fourier Neural Operator，FNO）是一种能够学习无限维函数空间映射的新型深度学习架构。该架构可直接学习从任意函数参数到解的映射，用于解决一类偏微分方程的求解问题，具有更强的泛化能力。更多信息可参考[Fourier Neural Operator for Parametric Partial Differential Equations](https://arxiv.org/abs/2010.08895)。\n",
    "\n",
    "但是这类神经算子在学习非线性PDE的长期行为时，变得不够准确和缺乏可解释性。库普曼神经算子（Koopman neural operator，KNO）通过构建方程解的非线性动力学系统，克服了这一问题。通过近似Koopman算子，一个控制动力学系统所有可能观测的无限维线性算子，作用于动力学系统的流映射，我们可以通过求解简单的线性预测问题等价地学习整个非线性PDE族的解。更多信息可参考：\n",
    "\n",
    "- \"[Koopman neural operator as a mesh-free solver of non-linear partial differential equations](https://arxiv.org/abs/2301.10022).\" arXiv preprint arXiv:2301.10022 (2023).\n",
    "- \"[KoopmanLab: machine learning for solving complex physics equations](https://arxiv.org/abs/2301.01104).\" arXiv preprint arXiv:2301.01104 (2023).\n",
    "\n",
    "本案例教程介绍利用库普曼神经算子的1-d Burgers方程求解方法。"
   ]
  },
  {
   "cell_type": "markdown",
   "metadata": {
    "pycharm": {
     "name": "#%% md\n"
    }
   },
   "source": [
    "## 伯格斯方程（Burgers' equation）\n",
    "\n",
    "一维伯格斯方程（1-d Burgers' equation）是一个非线性偏微分方程，具有广泛应用，包括一维粘性流体流动建模。它的形式如下：\n",
    "\n",
    "$$\n",
    "\\partial_t u(x, t)+\\partial_x (u^2(x, t)/2)=\\nu \\partial_{xx} u(x, t), \\quad x \\in(0,1), t \\in(0, 1]\n",
    "$$\n",
    "\n",
    "$$\n",
    "u(x, 0)=u_0(x), \\quad x \\in(0,1)\n",
    "$$\n",
    "\n",
    "其中$u$表示速度场，$u_0$表示初始条件，$\\nu$表示粘度系数。"
   ]
  },
  {
   "cell_type": "markdown",
   "metadata": {
    "pycharm": {
     "name": "#%% md\n"
    }
   },
   "source": [
    "## 问题描述\n",
    "\n",
    "本案例利用Koopman Neural Operator学习初始状态到下一时刻状态的映射，实现一维Burgers'方程的求解：\n",
    "\n",
    "$$\n",
    "u_0 \\mapsto u(\\cdot, 1)\n",
    "$$"
   ]
  },
  {
   "cell_type": "markdown",
   "metadata": {
    "pycharm": {
     "name": "#%% md\n"
    }
   },
   "source": [
    "## 技术路径\n",
    "\n",
    "MindSpore Flow求解该问题的具体流程如下：\n",
    "\n",
    "1. 创建数据集。\n",
    "2. 构建模型。\n",
    "3. 优化器与损失函数。\n",
    "4. 模型训练。\n",
    "5. 模型推理和可视化。"
   ]
  },
  {
   "cell_type": "markdown",
   "metadata": {
    "pycharm": {
     "name": "#%% md\n"
    }
   },
   "source": [
    "## Koopman Neural Operator\n",
    "\n",
    "Koopman Neural Operator模型构架如下图所示，包含上下两个主要分支和对应输出。图中Input表示初始涡度，上路分支通过Encoding Layer实现输入向量的高维映射，然后将映射结果作为Koopman Layer的输入，进行频域信息的非线性变换，最后由Decoding Layer将变换结果映射至最终的预测结果Prediction。同时，下路分支通过Encoding Layer实现输入向量的高维映射，然后通过Decoding Layer对输入进行重建。上下两个分支的Encoding Layer之间共享权重，Decoding Layer之间也共享权重。Prediction用于和Label计算预测误差，Reconstruction用于和Input计算重建误差。两个误差共同指导模型的梯度计算。\n",
    "\n",
    "Encoding Layer、Koopman Layer、Decoding Layer以及两分支共同组成了Koopman Neural Operator。\n",
    "\n",
    "Koopman Layer结构如虚线框所示，可重复堆叠。向量经过傅里叶变换后，再经过线性变换，过滤高频信息，然后进行傅里叶逆变换；输出结果与输入相加，最后通过激活函数，得到输出向量。\n",
    "\n",
    "![Fourier Layer网络结构](https://mindspore-website.obs.cn-north-4.myhuaweicloud.com/website-images/master/docs/mindflow/docs/source_zh_cn/data_driven/images/kno.jpg)"
   ]
  },
  {
   "cell_type": "code",
   "execution_count": 9,
   "metadata": {
    "pycharm": {
     "name": "#%%\n"
    }
   },
   "outputs": [],
   "source": [
    "import os\n",
    "import time\n",
    "import datetime\n",
    "import numpy as np\n",
    "\n",
    "import mindspore\n",
    "from mindspore import nn, context, ops, Tensor, set_seed\n",
    "from mindspore.nn.loss import MSELoss\n",
    "\n",
    "from mindflow.cell import KNO1D\n",
    "from mindflow.common import get_warmup_cosine_annealing_lr\n",
    "from mindflow.utils import load_yaml_config"
   ]
  },
  {
   "cell_type": "markdown",
   "metadata": {
    "pycharm": {
     "name": "#%% md\n"
    }
   },
   "source": [
    "下述`src`包可以在[applications/data_driven/burgers/kno1d/src](https://gitee.com/mindspore/mindscience/tree/master/MindFlow/applications/data_driven/burgers/kno1d/src)下载。"
   ]
  },
  {
   "cell_type": "code",
   "execution_count": 10,
   "metadata": {
    "pycharm": {
     "name": "#%%\n"
    }
   },
   "outputs": [
    {
     "name": "stdout",
     "output_type": "stream",
     "text": [
      "pid: 9647\n",
      "2023-03-04 08:03:20.885806\n"
     ]
    }
   ],
   "source": [
    "from src.dataset import create_training_dataset\n",
    "from src.trainer import BurgersWithLoss\n",
    "from src.utils import visual\n",
    "\n",
    "set_seed(0)\n",
    "np.random.seed(0)\n",
    "\n",
    "print(\"pid:\", os.getpid())\n",
    "print(datetime.datetime.now())\n",
    "\n",
    "context.set_context(mode=context.GRAPH_MODE, device_target='Ascend', device_id=1)\n",
    "use_ascend = context.get_context(attr_key='device_target') == \"Ascend\""
   ]
  },
  {
   "cell_type": "markdown",
   "metadata": {
    "pycharm": {
     "name": "#%% md\n"
    }
   },
   "source": [
    "从[config](https://gitee.com/mindspore/mindscience/blob/master/MindFlow/applications/data_driven/burgers/kno1d/configs/kno1d.yaml)中获得模型、数据、优化器的超参。"
   ]
  },
  {
   "cell_type": "code",
   "execution_count": 11,
   "metadata": {
    "pycharm": {
     "name": "#%%\n"
    }
   },
   "outputs": [],
   "source": [
    "config = load_yaml_config('kno1d.yaml')\n",
    "data_params = config[\"data\"]\n",
    "model_params = config[\"model\"]\n",
    "optimizer_params = config[\"optimizer\"]"
   ]
  },
  {
   "cell_type": "markdown",
   "metadata": {
    "pycharm": {
     "name": "#%% md\n"
    }
   },
   "source": [
    "## 创建数据集\n",
    "\n",
    "下载训练与测试数据集: [data_driven/burgers/dataset](https://download.mindspore.cn/mindscience/mindflow/dataset/applications/data_driven/burgers/dataset/)。\n",
    "\n",
    "本案例根据Zongyi Li在 [Fourier Neural Operator for Parametric Partial Differential Equations](https://arxiv.org/pdf/2010.08895.pdf) 一文中对数据集的设置生成训练数据集与测试数据集。具体设置如下：\n",
    "基于周期性边界，生成满足如下分布的初始条件$u_0(x)$：\n",
    "\n",
    "$$\n",
    "u_0 \\sim \\mu, \\mu=\\mathcal{N}\\left(0,625(-\\Delta+25 I)^{-2}\\right)\n",
    "$$\n",
    "\n",
    "本案例选取粘度系数$\\nu=0.1$，并使用分步法求解方程，其中热方程部分在傅里叶空间中精确求解，然后使用前向欧拉方法求解非线性部分。训练集样本量为1000个，测试集样本量为200个。"
   ]
  },
  {
   "cell_type": "code",
   "execution_count": 12,
   "metadata": {
    "pycharm": {
     "name": "#%%\n"
    }
   },
   "outputs": [
    {
     "name": "stdout",
     "output_type": "stream",
     "text": [
      "Data preparation finished\n",
      "input_path:  (1000, 1024, 1)\n",
      "label_path:  (1000, 1024)\n",
      "Data preparation finished\n",
      "input_path:  (200, 1024, 1)\n",
      "label_path:  (200, 1024)\n"
     ]
    }
   ],
   "source": [
    "# create training dataset\n",
    "train_dataset = create_training_dataset(data_params, shuffle=True)\n",
    "\n",
    "# create test dataset\n",
    "eval_dataset = create_training_dataset(\n",
    "    data_params, shuffle=False, is_train=False)"
   ]
  },
  {
   "cell_type": "markdown",
   "metadata": {
    "pycharm": {
     "name": "#%% md\n"
    }
   },
   "source": [
    "## 构建模型\n",
    "\n",
    "网络由1层共享的Encoding Layer、多层Koopman Layer以及1层共享的Decoding Layer叠加组成：\n",
    "\n",
    "- Encoding Layer对应样例代码中`KNO1D.enc`，将输出数据映射至高维；\n",
    "- Koopman Layer对应样例代码中`KNO1D.koopman_layer`，本案例采用离散傅里叶变换实现时域与频域的转换；\n",
    "- Decoding Layer对应代码中`KNO1D.dec`，获得最终的预测值。\n",
    "\n",
    "基于上述网络结构，进行模型初始化，其中模型超参可在配置文件中修改。"
   ]
  },
  {
   "cell_type": "code",
   "execution_count": 13,
   "metadata": {
    "pycharm": {
     "name": "#%%\n"
    }
   },
   "outputs": [
    {
     "name": "stdout",
     "output_type": "stream",
     "text": [
      "name:KNO1D_channels:32_modes:64_depths:4_resolution:1024\n"
     ]
    }
   ],
   "source": [
    "model = KNO1D(in_channels=data_params['in_channels'],\n",
    "              channels=model_params['channels'],\n",
    "              modes=model_params['modes'],\n",
    "              depths=model_params['depths'],\n",
    "              resolution=model_params['resolution']\n",
    "              )\n",
    "\n",
    "model_params_list = []\n",
    "for k, v in model_params.items():\n",
    "    model_params_list.append(f\"{k}:{v}\")\n",
    "model_name = \"_\".join(model_params_list)\n",
    "print(model_name)"
   ]
  },
  {
   "cell_type": "markdown",
   "metadata": {
    "pycharm": {
     "name": "#%% md\n"
    }
   },
   "source": [
    "## 优化器与损失函数\n",
    "\n",
    "使用均方误差作为训练的损失函数："
   ]
  },
  {
   "cell_type": "code",
   "execution_count": 14,
   "metadata": {
    "pycharm": {
     "name": "#%%\n"
    }
   },
   "outputs": [],
   "source": [
    "train_size = train_dataset.get_dataset_size()\n",
    "eval_size = eval_dataset.get_dataset_size()\n",
    "\n",
    "lr = get_warmup_cosine_annealing_lr(lr_init=optimizer_params[\"lr\"],\n",
    "                                    last_epoch=optimizer_params[\"epochs\"],\n",
    "                                    steps_per_epoch=train_size,\n",
    "                                    warmup_epochs=1)\n",
    "optimizer = nn.AdamWeightDecay(model.trainable_params(),\n",
    "                               learning_rate=Tensor(lr),\n",
    "                               weight_decay=optimizer_params[\"weight_decay\"])\n",
    "model.set_train()\n",
    "loss_fn = MSELoss()\n",
    "if use_ascend:\n",
    "    from mindspore.amp import DynamicLossScaler, auto_mixed_precision, all_finite\n",
    "    loss_scaler = DynamicLossScaler(1024, 2, 100)\n",
    "    auto_mixed_precision(model, 'O3')\n",
    "else:\n",
    "    loss_scaler = None"
   ]
  },
  {
   "cell_type": "markdown",
   "metadata": {
    "pycharm": {
     "name": "#%% md\n"
    }
   },
   "source": [
    "## 模型训练\n",
    "\n",
    "使用**MindSpore>= 2.0.0**的版本，可以使用函数式编程范式训练神经网络。"
   ]
  },
  {
   "cell_type": "code",
   "execution_count": 15,
   "metadata": {
    "collapsed": false,
    "pycharm": {
     "name": "#%%\n"
    }
   },
   "outputs": [
    {
     "name": "stdout",
     "output_type": "stream",
     "text": [
      "./summary_dir/name:KNO1D_channels:32_modes:64_depths:4_resolution:1024\n"
     ]
    },
    {
     "name": "stdout",
     "output_type": "stream",
     "text": [
      "epoch: 1, time cost: 18.375901, recons loss: 0.295517, pred loss: 0.085093\n",
      "epoch: 2, time cost: 2.577698, recons loss: 0.161718, pred loss: 0.002227\n",
      "epoch: 3, time cost: 2.564470, recons loss: 0.027144, pred loss: 0.000992\n",
      "epoch: 4, time cost: 2.547690, recons loss: 0.000782, pred loss: 0.000511\n",
      "epoch: 5, time cost: 2.532924, recons loss: 0.000057, pred loss: 0.000279\n",
      "epoch: 6, time cost: 2.536904, recons loss: 0.000048, pred loss: 0.000241\n",
      "epoch: 7, time cost: 2.527330, recons loss: 0.000048, pred loss: 0.000213\n",
      "epoch: 8, time cost: 2.536032, recons loss: 0.000048, pred loss: 0.000227\n",
      "epoch: 9, time cost: 2.462490, recons loss: 0.000048, pred loss: 0.000230\n",
      "epoch: 10, time cost: 2.564090, recons loss: 0.000049, pred loss: 0.000229\n",
      "---------------------------start evaluation-------------------------\n",
      "Eval epoch: 10, recons loss: 4.7733558130858e-05, relative pred loss: 0.01156728882342577\n",
      "---------------------------end evaluation---------------------------\n",
      "\n",
      "...\n",
      "\n",
      "epoch: 91, time cost: 2.662080, recons loss: 0.000042, pred loss: 0.000006\n",
      "epoch: 92, time cost: 2.604443, recons loss: 0.000042, pred loss: 0.000007\n",
      "epoch: 93, time cost: 2.576527, recons loss: 0.000042, pred loss: 0.000006\n",
      "epoch: 94, time cost: 2.621569, recons loss: 0.000042, pred loss: 0.000006\n",
      "epoch: 95, time cost: 2.578712, recons loss: 0.000042, pred loss: 0.000006\n",
      "epoch: 96, time cost: 2.607216, recons loss: 0.000042, pred loss: 0.000006\n",
      "epoch: 97, time cost: 2.588060, recons loss: 0.000042, pred loss: 0.000006\n",
      "epoch: 98, time cost: 2.911451, recons loss: 0.000042, pred loss: 0.000006\n",
      "epoch: 99, time cost: 2.542502, recons loss: 0.000042, pred loss: 0.000006\n",
      "epoch: 100, time cost: 2.514851, recons loss: 0.000042, pred loss: 0.000006\n",
      "---------------------------start evaluation-------------------------\n",
      "Eval epoch: 100, recons loss: 4.17057997037773e-05, relative pred loss: 0.004054672718048095\n",
      "---------------------------end evaluation---------------------------\n"
     ]
    }
   ],
   "source": [
    "problem = BurgersWithLoss(model, data_params[\"out_channels\"], loss_fn)\n",
    "\n",
    "def forward_fn(inputs, labels):\n",
    "    loss, l_recons, l_pred = problem.get_loss(inputs, labels)\n",
    "    if use_ascend:\n",
    "        loss = loss_scaler.scale(loss)\n",
    "    return loss, l_recons, l_pred\n",
    "\n",
    "grad_fn = ops.value_and_grad(forward_fn, None, optimizer.parameters, has_aux=True)\n",
    "\n",
    "def train_step(inputs, labels):\n",
    "    (loss, l_recons, l_pred), grads = grad_fn(inputs, labels)\n",
    "    if use_ascend:\n",
    "        loss = loss_scaler.unscale(loss)\n",
    "        if all_finite(grads):\n",
    "            grads = loss_scaler.unscale(grads)\n",
    "    loss = ops.depend(loss, optimizer(grads))\n",
    "    return loss, l_recons, l_pred\n",
    "\n",
    "def eval_step(inputs, labels):\n",
    "    return problem.get_rel_loss(inputs, labels)\n",
    "\n",
    "train_sink = mindspore.data_sink(train_step, train_dataset, sink_size=1)\n",
    "eval_sink = mindspore.data_sink(eval_step, eval_dataset, sink_size=1)\n",
    "\n",
    "summary_dir = os.path.join(config[\"summary_dir\"], model_name)\n",
    "os.makedirs(summary_dir, exist_ok=True)\n",
    "print(summary_dir)\n",
    "\n",
    "for epoch in range(1, optimizer_params[\"epochs\"] + 1):\n",
    "    time_beg = time.time()\n",
    "    l_recons_train = 0.0\n",
    "    l_pred_train = 0.0\n",
    "    for _ in range(train_size):\n",
    "        _, l_recons, l_pred = train_sink()\n",
    "        l_recons_train += l_recons.asnumpy()\n",
    "        l_pred_train += l_pred.asnumpy()\n",
    "    l_recons_train = l_recons_train / train_size\n",
    "    l_pred_train = l_pred_train / train_size\n",
    "    print(f\"epoch: {epoch}, time cost: {(time.time() - time_beg):>8f},\"\n",
    "          f\" recons loss: {l_recons_train:>8f}, pred loss: {l_pred_train:>8f}\")\n",
    "\n",
    "    if epoch % config['eval_interval'] == 0:\n",
    "        l_recons_eval = 0.0\n",
    "        l_pred_eval = 0.0\n",
    "        print(\"---------------------------start evaluation-------------------------\")\n",
    "        for _ in range(eval_size):\n",
    "            l_recons, l_pred = eval_sink()\n",
    "            l_recons_eval += l_recons.asnumpy()\n",
    "            l_pred_eval += l_pred.asnumpy()\n",
    "        l_recons_eval = l_recons_eval / eval_size\n",
    "        l_pred_eval = l_pred_eval / eval_size\n",
    "        print(f'Eval epoch: {epoch}, recons loss: {l_recons_eval},'\n",
    "              f' relative pred loss: {l_pred_eval}')\n",
    "        print(\"---------------------------end evaluation---------------------------\")\n",
    "        mindspore.save_checkpoint(model, ckpt_file_name=summary_dir + '/save_model.ckpt')"
   ]
  },
  {
   "cell_type": "markdown",
   "metadata": {
    "collapsed": false,
    "pycharm": {
     "name": "#%% md\n"
    }
   },
   "source": [
    "## 模型推理和可视化\n",
    "\n",
    "取6个样本做连续10步预测，并可视化。"
   ]
  },
  {
   "cell_type": "code",
   "execution_count": 16,
   "metadata": {
    "collapsed": false,
    "pycharm": {
     "name": "#%%\n"
    }
   },
   "outputs": [
    {
     "data": {
      "image/png": "[encoded data removed]",
      "text/plain": [
       "<Figure size 640x480 with 7 Axes>"
      ]
     },
     "metadata": {},
     "output_type": "display_data"
    }
   ],
   "source": [
    "# Infer and plot some data.\n",
    "inputs = np.load(os.path.join(data_params[\"path\"], \"test/inputs.npy\"))  # (200,1024,1)\n",
    "problem = BurgersWithLoss(model, 10, loss_fn)\n",
    "visual(problem, inputs)"
   ]
  }
 ],
 "metadata": {
  "kernelspec": {
   "display_name": "Python 3.7.13 ('ms_torch': conda)",
   "language": "python",
   "name": "python3"
  },
  "language_info": {
   "codemirror_mode": {
    "name": "ipython",
    "version": 3
   },
   "file_extension": ".py",
   "mimetype": "text/x-python",
   "name": "python",
   "nbconvert_exporter": "python",
   "pygments_lexer": "ipython3",
   "version": "3.7.13"
  },
  "vscode": {
   "interpreter": {
    "hash": "18d517ad782f4af88457d7728181a1bbe8dd4413f6d6fb70c713f7a70ee9d7f9"
   }
  }
 },
 "nbformat": 4,
 "nbformat_minor": 1
}
