{
 "cells": [
  {
   "cell_type": "markdown",
   "metadata": {},
   "source": [
    "# PINNs for Kovasznay Flow\n",
    "\n",
    "[![DownloadNotebook](https://mindspore-website.obs.cn-north-4.myhuaweicloud.com/website-images/r2.2/resource/_static/logo_notebook_en.svg)](https://mindspore-website.obs.cn-north-4.myhuaweicloud.com/notebook/r2.2/mindflow/en/physics_driven/mindspore_kovasznay.ipynb)&emsp;[![DownloadCode](https://mindspore-website.obs.cn-north-4.myhuaweicloud.com/website-images/r2.2/resource/_static/logo_download_code_en.svg)](https://mindspore-website.obs.cn-north-4.myhuaweicloud.com/notebook/r2.2/mindflow/en/physics_driven/mindspore_kovasznay.py)&emsp;[![ViewSource](https://mindspore-website.obs.cn-north-4.myhuaweicloud.com/website-images/r2.2/resource/_static/logo_source_en.svg)](https://gitee.com/mindspore/docs/blob/r2.2/docs/mindflow/docs/source_en/physics_driven/kovasznay.ipynb)"
   ]
  },
  {
   "cell_type": "markdown",
   "metadata": {},
   "source": [
    "## Problem Description\n",
    "\n",
    "This tutorial demonstrates how to solve the ``Kovasznay flow`` problem using ``Physics-Informed Neural Networks (PINNs)``. ``Kovasznay flow`` is an exact solution of the ``Navier-Stokes (N-S)`` equations under certain conditions. ``Kovasznay flow`` satisfies the momentum equation and continuity equation of the ``N-S`` equations, and it also satisfies ``Dirichlet`` boundary conditions.\n",
    "\n",
    "The velocity and pressure distribution of the ``Kovasznay flow`` can be represented by the following equations:\n",
    "\n",
    "$$\n",
    "u=1-e^{\\lambda x}\\cos{(2\\pi y)},\n",
    "$$\n",
    "\n",
    "$$\n",
    "v=\\frac{\\lambda}{2\\pi}e^{\\lambda x}\\sin(2\\pi x),\n",
    "$$\n",
    "\n",
    "$$\n",
    "p = \\frac{1}{2}(1-e^{2\\lambda x})\n",
    "$$\n",
    "\n",
    "Here, $\\lambda=\\frac{1}{2\\nu}-\\sqrt{\\frac{1}{4\\nu^2}+4\\pi^2}$.\n",
    "\n",
    "We can use the ``Kovasznay flow`` as a benchmark solution to verify the accuracy and stability of the PINNs method.\n",
    "\n",
    "## Technical Pathway\n",
    "\n",
    "The specific steps to solve this problem using MindSpore Flow are as follows:\n",
    "\n",
    "1. Create the training dataset.\n",
    "2. Build the model.\n",
    "3. Set up the optimizer.\n",
    "4. Define the constraints.\n",
    "5. Train the model.\n",
    "6. Evaluate the model."
   ]
  },
  {
   "cell_type": "code",
   "execution_count": 1,
   "metadata": {},
   "outputs": [],
   "source": [
    "import time\n",
    "\n",
    "from mindspore import context, nn, ops, jit\n",
    "from mindflow import load_yaml_config\n",
    "from mindflow.cell import FCSequential\n",
    "from mindflow.loss import get_loss_metric\n",
    "from mindspore import load_checkpoint, load_param_into_net, save_checkpoint\n",
    "\n",
    "from src.dataset import create_dataset\n",
    "\n",
    "\n",
    "context.set_context(mode=context.GRAPH_MODE, save_graphs=False, device_target=\"GPU\")\n",
    "\n",
    "# Load config\n",
    "file_cfg = \"kovasznay_cfg.yaml\"\n",
    "config = load_yaml_config(file_cfg)"
   ]
  },
  {
   "cell_type": "markdown",
   "metadata": {},
   "source": [
    "## Creating the Dataset\n",
    "\n",
    "In this tutorial, we randomly sample the solution domain and boundary conditions to generate the training dataset and test dataset. The specific method can be found in [`src/dataset.py`](https://gitee.com/mindspore/mindscience/blob/r0.6/MindFlow/applications/physics_driven/navier_stokes/kovasznay/src/dataset.py)."
   ]
  },
  {
   "cell_type": "code",
   "execution_count": 2,
   "metadata": {},
   "outputs": [],
   "source": [
    "ds_train = create_dataset(config)"
   ]
  },
  {
   "cell_type": "markdown",
   "metadata": {},
   "source": [
    "## Building the Model\n",
    "\n",
    "In this example, we use a simple `fully connected neural` network with a depth of 4 layers. Each layer consists of 50 neurons, and the activation function used is `tanh`."
   ]
  },
  {
   "cell_type": "code",
   "execution_count": 3,
   "metadata": {},
   "outputs": [],
   "source": [
    "model = FCSequential(\n",
    "    in_channels=config[\"model\"][\"in_channels\"],\n",
    "    out_channels=config[\"model\"][\"out_channels\"],\n",
    "    layers=config[\"model\"][\"layers\"],\n",
    "    neurons=config[\"model\"][\"neurons\"],\n",
    "    residual=config[\"model\"][\"residual\"],\n",
    "    act=\"tanh\",\n",
    ")"
   ]
  },
  {
   "cell_type": "code",
   "execution_count": 2,
   "metadata": {},
   "outputs": [],
   "source": [
    "if config[\"load_ckpt\"]:\n",
    "    param_dict = load_checkpoint(config[\"load_ckpt_path\"])\n",
    "    load_param_into_net(model, param_dict)\n",
    "\n",
    "params = model.trainable_params()\n",
    "optimizer = nn.Adam(params, learning_rate=config[\"optimizer\"][\"initial_lr\"])"
   ]
  },
  {
   "cell_type": "markdown",
   "metadata": {},
   "source": [
    "## Kovasznay Solver\n",
    "\n",
    "The ``Kovasznay Solver`` consists of two parts: the ``Kovasznay flow equation`` and the boundary conditions.\n",
    "\n",
    "The boundary conditions are set based on the reference solution mentioned above."
   ]
  },
  {
   "cell_type": "code",
   "execution_count": 4,
   "metadata": {},
   "outputs": [
    {
     "name": "stdout",
     "output_type": "stream",
     "text": [
      "momentum_x: u(x, y)*Derivative(u(x, y), x) + v(x, y)*Derivative(u(x, y), y) + Derivative(p(x, y), x) - 0.05*Derivative(u(x, y), (x, 2)) - 0.05*Derivative(u(x, y), (y, 2))\n",
      "    Item numbers of current derivative formula nodes: 5\n",
      "momentum_y: u(x, y)*Derivative(v(x, y), x) + v(x, y)*Derivative(v(x, y), y) + Derivative(p(x, y), y) - 0.05*Derivative(v(x, y), (x, 2)) - 0.05*Derivative(v(x, y), (y, 2))\n",
      "    Item numbers of current derivative formula nodes: 5\n",
      "continuty: Derivative(u(x, y), x) + Derivative(v(x, y), y)\n",
      "    Item numbers of current derivative formula nodes: 2\n",
      "u: u(x, y) - 1 + exp(-1.81009812001397*x)*cos(2*pi*y)\n",
      "    Item numbers of current derivative formula nodes: 3\n",
      "v: v(x, y) + 0.905049060006983*exp(-1.81009812001397*x)*sin(2*pi*y)/pi\n",
      "    Item numbers of current derivative formula nodes: 2\n",
      "p: p(x, y) - 0.5 + 0.5*exp(-3.62019624002793*x)\n",
      "    Item numbers of current derivative formula nodes: 3\n"
     ]
    }
   ],
   "source": [
    "import sympy\n",
    "from sympy import Function, diff, symbols\n",
    "from mindspore import numpy as ms_np\n",
    "from mindflow import PDEWithLoss, sympy_to_mindspore\n",
    "import math\n",
    "\n",
    "class Kovasznay(PDEWithLoss):\n",
    "    \"\"\"Define the loss of the Kovasznay flow.\"\"\"\n",
    "\n",
    "    def __init__(self, model, re=20, loss_fn=nn.MSELoss()):\n",
    "        \"\"\"Initialize.\"\"\"\n",
    "        self.re = re\n",
    "        self.nu = 1 / self.re\n",
    "        self.l = 1 / (2 * self.nu) - math.sqrt(\n",
    "            1 / (4 * self.nu**2) + 4 * math.pi**2\n",
    "        )\n",
    "        self.x, self.y = symbols(\"x y\")\n",
    "        self.u = Function(\"u\")(self.x, self.y)\n",
    "        self.v = Function(\"v\")(self.x, self.y)\n",
    "        self.p = Function(\"p\")(self.x, self.y)\n",
    "        self.in_vars = [self.x, self.y]\n",
    "        self.out_vars = [self.u, self.v, self.p]\n",
    "        super(Kovasznay, self).__init__(model, self.in_vars, self.out_vars)\n",
    "        self.bc_nodes = sympy_to_mindspore(self.bc(), self.in_vars, self.out_vars)\n",
    "        if isinstance(loss_fn, str):\n",
    "            self.loss_fn = get_loss_metric(loss_fn)\n",
    "        else:\n",
    "            self.loss_fn = loss_fn\n",
    "\n",
    "    def pde(self):\n",
    "        \"\"\"Define the gonvering equation.\"\"\"\n",
    "        u, v, p = self.out_vars\n",
    "        u_x = diff(u, self.x)\n",
    "        u_y = diff(u, self.y)\n",
    "        v_x = diff(v, self.x)\n",
    "        v_y = diff(v, self.y)\n",
    "        p_x = diff(p, self.x)\n",
    "        p_y = diff(p, self.y)\n",
    "        u_xx = diff(u_x, self.x)\n",
    "        u_yy = diff(u_y, self.y)\n",
    "        v_xx = diff(v_x, self.x)\n",
    "        v_yy = diff(v_y, self.y)\n",
    "        momentum_x = u * u_x + v * u_y + p_x - (1 / self.re) * (u_xx + u_yy)\n",
    "        momentum_y = u * v_x + v * v_y + p_y - (1 / self.re) * (v_xx + v_yy)\n",
    "        continuty = u_x + v_y\n",
    "        equations = {\n",
    "            \"momentum_x\": momentum_x,\n",
    "            \"momentum_y\": momentum_y,\n",
    "            \"continuty\": continuty,\n",
    "        }\n",
    "        return equations\n",
    "\n",
    "    def u_func(self):\n",
    "        \"\"\"Define the analytical solution.\"\"\"\n",
    "        u = 1 - sympy.exp(self.l * self.x) * sympy.cos(2 * sympy.pi * self.y)\n",
    "        return u\n",
    "\n",
    "    def v_func(self):\n",
    "        \"\"\"Define the analytical solution.\"\"\"\n",
    "        v = (\n",
    "            self.l\n",
    "            / (2 * sympy.pi)\n",
    "            * sympy.exp(self.l * self.x)\n",
    "            * sympy.sin(2 * sympy.pi * self.y)\n",
    "        )\n",
    "        return v\n",
    "\n",
    "    def p_func(self):\n",
    "        \"\"\"Define the analytical solution.\"\"\"\n",
    "        p = 1 / 2 * (1 - sympy.exp(2 * self.l * self.x))\n",
    "        return p\n",
    "\n",
    "    def bc(self):\n",
    "        \"\"\"Define the boundary condition.\"\"\"\n",
    "        bc_u = self.u - self.u_func()\n",
    "        bc_v = self.v - self.v_func()\n",
    "        bc_p = self.p - self.p_func()\n",
    "        bcs = {\"u\": bc_u, \"v\": bc_v, \"p\": bc_p}\n",
    "        return bcs\n",
    "\n",
    "    def get_loss(self, pde_data, bc_data):\n",
    "        \"\"\"Define the loss function.\"\"\"\n",
    "        pde_res = self.parse_node(self.pde_nodes, inputs=pde_data)\n",
    "        pde_residual = ops.Concat(axis=1)(pde_res)\n",
    "        pde_loss = self.loss_fn(pde_residual, ms_np.zeros_like(pde_residual))\n",
    "        bc_res = self.parse_node(self.bc_nodes, inputs=bc_data)\n",
    "        bc_residual = ops.Concat(axis=1)(bc_res)\n",
    "        bc_loss = self.loss_fn(bc_residual, ms_np.zeros_like(bc_residual))\n",
    "        return pde_loss + bc_loss\n",
    "\n",
    "\n",
    "# Create the problem\n",
    "problem = Kovasznay(model)"
   ]
  },
  {
   "cell_type": "markdown",
   "metadata": {},
   "source": [
    "## Model Training\n",
    "\n",
    "Using MindSpore version >= 2.0.0, we can train neural networks using the functional programming paradigm."
   ]
  },
  {
   "cell_type": "code",
   "execution_count": 6,
   "metadata": {},
   "outputs": [],
   "source": [
    "def train(config):\n",
    "    grad_fn = ops.value_and_grad(\n",
    "        problem.get_loss, None, optimizer.parameters, has_aux=False\n",
    "    )\n",
    "\n",
    "    @jit\n",
    "    def train_step(pde_data, bc_data):\n",
    "        loss, grads = grad_fn(pde_data, bc_data)\n",
    "        loss = ops.depend(loss, optimizer(grads))\n",
    "        return loss\n",
    "\n",
    "    def train_epoch(model, dataset, i_epoch):\n",
    "        model.set_train()\n",
    "        n_step = dataset.get_dataset_size()\n",
    "        for i_step, (pde_data, bc_data) in enumerate(dataset):\n",
    "            local_time_beg = time.time()\n",
    "            loss = train_step(pde_data, bc_data)\n",
    "\n",
    "            if i_step % 50 == 0:\n",
    "                print(\n",
    "                    \"\\repoch: {}, loss: {:>f}, time elapsed: {:.1f}ms [{}/{}]\".format(\n",
    "                        i_epoch,\n",
    "                        float(loss),\n",
    "                        (time.time() - local_time_beg) * 1000,\n",
    "                        i_step + 1,\n",
    "                        n_step,\n",
    "                    )\n",
    "                )\n",
    "\n",
    "    for i_epoch in range(config[\"epochs\"]):\n",
    "        train_epoch(model, ds_train, i_epoch)\n",
    "\n",
    "    if config[\"save_ckpt\"]:\n",
    "        save_checkpoint(model, config[\"save_ckpt_path\"])"
   ]
  },
  {
   "cell_type": "code",
   "execution_count": 7,
   "metadata": {},
   "outputs": [
    {
     "name": "stdout",
     "output_type": "stream",
     "text": [
      "epoch: 0, loss: 0.239163, time elapsed: 12387.2ms [1/125]\n",
      "epoch: 0, loss: 0.087055, time elapsed: 112.7ms [51/125]\n",
      "epoch: 0, loss: 0.086475, time elapsed: 101.6ms [101/125]\n",
      "epoch: 1, loss: 0.085488, time elapsed: 100.8ms [1/125]\n",
      "epoch: 1, loss: 0.087387, time elapsed: 102.1ms [51/125]\n",
      "epoch: 1, loss: 0.083520, time elapsed: 47.9ms [101/125]\n",
      "epoch: 2, loss: 0.083846, time elapsed: 98.7ms [1/125]\n",
      "epoch: 2, loss: 0.082749, time elapsed: 44.8ms [51/125]\n",
      "epoch: 2, loss: 0.081391, time elapsed: 98.0ms [101/125]\n",
      "epoch: 3, loss: 0.081744, time elapsed: 50.7ms [1/125]\n",
      "epoch: 3, loss: 0.080608, time elapsed: 49.5ms [51/125]\n",
      "epoch: 3, loss: 0.082139, time elapsed: 45.9ms [101/125]\n",
      "epoch: 4, loss: 0.080847, time elapsed: 98.0ms [1/125]\n",
      "epoch: 4, loss: 0.083495, time elapsed: 94.8ms [51/125]\n",
      "epoch: 4, loss: 0.083020, time elapsed: 100.2ms [101/125]\n",
      "epoch: 5, loss: 0.079421, time elapsed: 104.1ms [1/125]\n",
      "epoch: 5, loss: 0.062890, time elapsed: 46.3ms [51/125]\n",
      "epoch: 5, loss: 0.018953, time elapsed: 45.8ms [101/125]\n",
      "epoch: 6, loss: 0.012071, time elapsed: 47.8ms [1/125]\n",
      "epoch: 6, loss: 0.007686, time elapsed: 46.1ms [51/125]\n",
      "epoch: 6, loss: 0.006134, time elapsed: 45.0ms [101/125]\n",
      "epoch: 7, loss: 0.005750, time elapsed: 52.1ms [1/125]\n",
      "epoch: 7, loss: 0.004908, time elapsed: 45.4ms [51/125]\n",
      "epoch: 7, loss: 0.003643, time elapsed: 51.7ms [101/125]\n",
      "epoch: 8, loss: 0.002799, time elapsed: 106.3ms [1/125]\n",
      "epoch: 8, loss: 0.002110, time elapsed: 48.1ms [51/125]\n",
      "epoch: 8, loss: 0.001503, time elapsed: 96.3ms [101/125]\n",
      "epoch: 9, loss: 0.001195, time elapsed: 102.4ms [1/125]\n",
      "epoch: 9, loss: 0.000700, time elapsed: 101.1ms [51/125]\n",
      "epoch: 9, loss: 0.000478, time elapsed: 48.1ms [101/125]\n",
      "epoch: 10, loss: 0.000392, time elapsed: 98.8ms [1/125]\n",
      "epoch: 10, loss: 0.000315, time elapsed: 101.7ms [51/125]\n",
      "epoch: 10, loss: 0.000236, time elapsed: 74.3ms [101/125]\n",
      "epoch: 11, loss: 0.000218, time elapsed: 101.4ms [1/125]\n",
      "epoch: 11, loss: 0.000184, time elapsed: 95.5ms [51/125]\n",
      "epoch: 11, loss: 0.000171, time elapsed: 101.4ms [101/125]\n",
      "epoch: 12, loss: 0.000145, time elapsed: 98.7ms [1/125]\n",
      "epoch: 12, loss: 0.000144, time elapsed: 63.7ms [51/125]\n",
      "epoch: 12, loss: 0.000126, time elapsed: 53.3ms [101/125]\n",
      "epoch: 13, loss: 0.000111, time elapsed: 104.6ms [1/125]\n",
      "epoch: 13, loss: 0.000109, time elapsed: 101.1ms [51/125]\n",
      "epoch: 13, loss: 0.000090, time elapsed: 96.6ms [101/125]\n",
      "epoch: 14, loss: 0.000094, time elapsed: 53.5ms [1/125]\n",
      "epoch: 14, loss: 0.000079, time elapsed: 100.6ms [51/125]\n",
      "epoch: 14, loss: 0.000070, time elapsed: 99.3ms [101/125]\n",
      "epoch: 15, loss: 0.000193, time elapsed: 105.3ms [1/125]\n",
      "epoch: 15, loss: 0.000066, time elapsed: 87.6ms [51/125]\n",
      "epoch: 15, loss: 0.000118, time elapsed: 56.9ms [101/125]\n",
      "epoch: 16, loss: 0.000074, time elapsed: 106.2ms [1/125]\n",
      "epoch: 16, loss: 0.000054, time elapsed: 102.3ms [51/125]\n",
      "epoch: 16, loss: 0.000065, time elapsed: 46.3ms [101/125]\n",
      "epoch: 17, loss: 0.000050, time elapsed: 104.9ms [1/125]\n",
      "epoch: 17, loss: 0.000056, time elapsed: 100.7ms [51/125]\n",
      "epoch: 17, loss: 0.000045, time elapsed: 96.5ms [101/125]\n",
      "epoch: 18, loss: 0.000043, time elapsed: 98.0ms [1/125]\n",
      "epoch: 18, loss: 0.000043, time elapsed: 48.0ms [51/125]\n",
      "epoch: 18, loss: 0.000050, time elapsed: 99.1ms [101/125]\n",
      "epoch: 19, loss: 0.000038, time elapsed: 97.1ms [1/125]\n",
      "epoch: 19, loss: 0.000051, time elapsed: 93.8ms [51/125]\n",
      "epoch: 19, loss: 0.000044, time elapsed: 101.2ms [101/125]\n",
      "End-to-End total time: 236.90019822120667 s\n"
     ]
    }
   ],
   "source": [
    "time_beg = time.time()\n",
    "train(config)\n",
    "print(\"End-to-End total time: {} s\".format(time.time() - time_beg))"
   ]
  },
  {
   "cell_type": "code",
   "execution_count": 8,
   "metadata": {},
   "outputs": [],
   "source": [
    "from src import visual, calculate_l2_error"
   ]
  },
  {
   "cell_type": "markdown",
   "metadata": {},
   "source": [
    "## Model Prediction and Visualization"
   ]
  },
  {
   "cell_type": "code",
   "execution_count": 9,
   "metadata": {},
   "outputs": [
    {
     "data": {
      "image/png": "[encoded data removed]",
      "text/plain": [
       "<Figure size 1080x288 with 6 Axes>"
      ]
     },
     "metadata": {},
     "output_type": "display_data"
    }
   ],
   "source": [
    "visual(model, config, resolution=config[\"visual_resolution\"])"
   ]
  },
  {
   "cell_type": "markdown",
   "metadata": {},
   "source": [
    "## Model Evaluation"
   ]
  },
  {
   "cell_type": "code",
   "execution_count": 10,
   "metadata": {},
   "outputs": [
    {
     "name": "stdout",
     "output_type": "stream",
     "text": [
      "u: 1 - exp(-1.81009812001397*x)*cos(2*pi*y)\n",
      "    Item numbers of current derivative formula nodes: 2\n",
      "v: -0.905049060006983*exp(-1.81009812001397*x)*sin(2*pi*y)/pi\n",
      "    Item numbers of current derivative formula nodes: 1\n",
      "p: 0.5 - 0.5*exp(-3.62019624002793*x)\n",
      "    Item numbers of current derivative formula nodes: 2\n",
      "Relative MSE error on domain: 1.2167110294103622e-05\n",
      "Relative MSE error on boundary: 4.38740462064743e-05\n",
      "Relative MAE error on domain: 0.004719602203369141\n",
      "Relative MAE error on boundary: 0.008604783630371093\n"
     ]
    }
   ],
   "source": [
    "n_samps = 10000  # Number of test samples\n",
    "ds_test = create_dataset(config, n_samps)\n",
    "calculate_l2_error(problem, model, ds_test)"
   ]
  }
 ],
 "metadata": {
  "kernelspec": {
   "display_name": "mulnet",
   "language": "python",
   "name": "python3"
  },
  "language_info": {
   "codemirror_mode": {
    "name": "ipython",
    "version": 3
   },
   "file_extension": ".py",
   "mimetype": "text/x-python",
   "name": "python",
   "nbconvert_exporter": "python",
   "pygments_lexer": "ipython3",
   "version": "3.8.13"
  },
  "orig_nbformat": 4
 },
 "nbformat": 4,
 "nbformat_minor": 2
}
