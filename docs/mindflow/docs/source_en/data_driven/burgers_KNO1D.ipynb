{
 "cells": [
  {
   "cell_type": "markdown",
   "metadata": {
    "pycharm": {
     "name": "#%% md\n"
    }
   },
   "source": [
    "# KNO for 1D Burgers\n",
    "\n",
    "[![DownloadNotebook](https://mindspore-website.obs.cn-north-4.myhuaweicloud.com/website-images/master/resource/_static/logo_notebook_en.svg)](https://obs.dualstack.cn-north-4.myhuaweicloud.com/mindspore-website/notebook/master/mindflow/en/data_driven/mindspore_burgers_KNO1D.ipynb)&emsp;[![DownloadCode](https://mindspore-website.obs.cn-north-4.myhuaweicloud.com/website-images/master/resource/_static/logo_download_code_en.svg)](https://obs.dualstack.cn-north-4.myhuaweicloud.com/mindspore-website/notebook/master/mindflow/en/data_driven/mindspore_burgers_KNO1D.py)&emsp;[![ViewSource](https://mindspore-website.obs.cn-north-4.myhuaweicloud.com/website-images/master/resource/_static/logo_source_en.svg)](https://gitee.com/mindspore/docs/blob/master/docs/mindflow/docs/source_en/data_driven/burgers_KNO1D.ipynb)"
   ]
  },
  {
   "cell_type": "markdown",
   "metadata": {
    "pycharm": {
     "name": "#%% md\n"
    }
   },
   "source": [
    "## Overview\n",
    "\n",
    "Computational fluid dynamics is one of the most important techniques in the field of fluid mechanics in the 21st century. The flow analysis, prediction and control can be realized by solving the governing equations of fluid mechanics by numerical method. Traditional finite element method (FEM) and finite difference method (FDM) are inefficient because of the complex simulation process (physical modeling, meshing, numerical discretization, iterative solution, etc.) and high computing costs. Therefore, it is necessary to improve the efficiency of fluid simulation with AI.\n",
    "\n",
    "Machine learning methods provide a new paradigm for scientific computing by providing a fast solver similar to traditional methods. Classical neural networks learn mappings between finite dimensional spaces and can only learn solutions related to a specific discretization. Different from traditional neural networks, Fourier Neural Operator (FNO) is a new deep learning architecture that can learn mappings between infinite-dimensional function spaces. It directly learns mappings from arbitrary function parameters to solutions to solve a class of partial differential equations.  Therefore, it has a stronger generalization capability. More information can be found in the paper, [Fourier Neural Operator for Parametric Partial Differential Equations](https://arxiv.org/abs/2010.08895).\n",
    "\n",
    "But these kinds of neural operator become less accurate and explainable while learning long-term behaviours of non-linear PDE families. Koopman neural operator (KNO), a new neural operator, overcome these challenges by formulating a non-linear dynamic system of equation solution. By approximating the Koopman operator, an infnite-dimensional linear operator governing all possible observations of the dynamic system, to act on the flow mapping of dynamic system, we can equivalently learn the solution of an entire non-linear PDE family by solving simple linear prediction problems. More information can be found in these papers:\n",
    "\n",
    "- \"[Koopman neural operator as a mesh-free solver of non-linear partial differential equations](https://arxiv.org/abs/2301.10022).\" arXiv preprint arXiv:2301.10022 (2023).\n",
    "- \"[KoopmanLab: machine learning for solving complex physics equations](https://arxiv.org/abs/2301.01104).\" arXiv preprint arXiv:2301.01104 (2023).\n",
    "\n",
    "This tutorial describes how to solve the 1-d Burgers' equation using Koopman neural operator."
   ]
  },
  {
   "cell_type": "markdown",
   "metadata": {
    "pycharm": {
     "name": "#%% md\n"
    }
   },
   "source": [
    "## Burgers' equation\n",
    "\n",
    "The 1-d Burgers’ equation is a non-linear PDE with various applications including modeling the one\n",
    "dimensional flow of a viscous fluid. It takes the form\n",
    "\n",
    "$$\n",
    "\\partial_t u(x, t)+\\partial_x (u^2(x, t)/2)=\\nu \\partial_{xx} u(x, t), \\quad x \\in(0,1), t \\in(0, 1]\n",
    "$$\n",
    "\n",
    "$$\n",
    "u(x, 0)=u_0(x), \\quad x \\in(0,1)\n",
    "$$\n",
    "\n",
    "where $u$ is the velocity field, $u_0$ is the initial condition and $\\nu$ is the viscosity coefficient.\n"
   ]
  },
  {
   "cell_type": "markdown",
   "metadata": {
    "pycharm": {
     "name": "#%% md\n"
    }
   },
   "source": [
    "## Problem Description\n",
    "\n",
    "We aim to learn the operator mapping the initial condition to the solution at time one:\n",
    "\n",
    "$$\n",
    "u_0 \\mapsto u(\\cdot, 1)\n",
    "$$"
   ]
  },
  {
   "cell_type": "markdown",
   "metadata": {
    "pycharm": {
     "name": "#%% md\n"
    }
   },
   "source": [
    "## Technology Path\n",
    "\n",
    "MindSpore Flow solves the problem as follows:\n",
    "\n",
    "1. Training Dataset Construction.\n",
    "2. Model Construction.\n",
    "3. Optimizer and Loss Function.\n",
    "4. Model Training.\n",
    "5. Model Evaluation and Visualization."
   ]
  },
  {
   "cell_type": "markdown",
   "metadata": {
    "pycharm": {
     "name": "#%% md\n"
    }
   },
   "source": [
    "## Koopman Neural Operator\n",
    "\n",
    "The following figure shows the architecture of the Koopman Neural Operator, which contains the upper and lower main branches and corresponding outputs. In the figure, Input represents the initial vorticity. In the upper branch, the input vector is lifted to higher dimension channel space by the Encoding layer. Then the mapping result is used as the input of the Koopman layer to perform nonlinear transformation of the frequency domain information. Finally, the Decoding layer maps the transformation result to the Prediction. At the same time, the lower branch does high-dimensional mapping of the input vector through the Encoding Layer, and then reconstructs the input through the Decoding Layer. The Encoding layers of the upper and lower branches share the weight, and the Decoding layers share the weight too. Prediction is used to calculate the prediction error with Label, and Reconstruction is used to calculate the reconstruction error with Input. The two errors together guide the gradient calculation of the model.\n",
    "\n",
    "The Koopman Neural Operator consists of the Encoding Layer, Koopman Layers, Decoding Layer and two branches.\n",
    "\n",
    "The Koopman Layer is shown in the dotted box, which could be repeated. Start from input: apply the Fourier transform(FFT); apply a linear transformation on the lower Fourier modes and filters out the higher modes; then apply the inverse Fourier transform(iFFT). Then the output is added into input. Finally, the Koopman Layer output vector is obtained through the activation function.\n",
    "\n",
    "![Fourier Layer structure](https://mindspore-website.obs.cn-north-4.myhuaweicloud.com/website-images/master/docs/mindflow/docs/source_en/data_driven/images/kno.jpg)"
   ]
  },
  {
   "cell_type": "code",
   "execution_count": 1,
   "metadata": {
    "pycharm": {
     "name": "#%%\n"
    }
   },
   "outputs": [],
   "source": [
    "import os\n",
    "import time\n",
    "import datetime\n",
    "import numpy as np\n",
    "\n",
    "import mindspore\n",
    "from mindspore import nn, context, ops, Tensor, set_seed\n",
    "from mindspore.nn.loss import MSELoss\n",
    "\n",
    "from mindflow.cell import KNO1D\n",
    "from mindflow.common import get_warmup_cosine_annealing_lr\n",
    "from mindflow.utils import load_yaml_config"
   ]
  },
  {
   "cell_type": "markdown",
   "metadata": {
    "pycharm": {
     "name": "#%% md\n"
    }
   },
   "source": [
    "The following `src` pacakage can be downloaded in [applications/data_driven/burgers/kno1d/src](https://gitee.com/mindspore/mindscience/tree/master/MindFlow/applications/data_driven/burgers/kno1d/src)."
   ]
  },
  {
   "cell_type": "code",
   "execution_count": 2,
   "metadata": {
    "pycharm": {
     "name": "#%%\n"
    }
   },
   "outputs": [
    {
     "name": "stdout",
     "output_type": "stream",
     "text": [
      "pid: 9647\n",
      "2023-03-04 08:03:20.885806\n"
     ]
    }
   ],
   "source": [
    "from src.dataset import create_training_dataset\n",
    "from src.trainer import BurgersWithLoss\n",
    "from src.utils import visual\n",
    "\n",
    "set_seed(0)\n",
    "np.random.seed(0)\n",
    "\n",
    "print(\"pid:\", os.getpid())\n",
    "print(datetime.datetime.now())\n",
    "\n",
    "context.set_context(mode=context.GRAPH_MODE, device_target='Ascend', device_id=1)\n",
    "use_ascend = context.get_context(attr_key='device_target') == \"Ascend\""
   ]
  },
  {
   "cell_type": "markdown",
   "metadata": {
    "pycharm": {
     "name": "#%% md\n"
    }
   },
   "source": [
    "You can get hyperparameters of model, data and optimizer from [config](https://gitee.com/mindspore/mindscience/blob/master/MindFlow/applications/data_driven/burgers/kno1d/configs/burgers1d.yaml)."
   ]
  },
  {
   "cell_type": "code",
   "execution_count": 3,
   "metadata": {
    "pycharm": {
     "name": "#%%\n"
    }
   },
   "outputs": [],
   "source": [
    "config = load_yaml_config('burgers1d.yaml')\n",
    "data_params = config[\"data\"]\n",
    "model_params = config[\"model\"]\n",
    "optimizer_params = config[\"optimizer\"]"
   ]
  },
  {
   "cell_type": "markdown",
   "metadata": {
    "pycharm": {
     "name": "#%% md\n"
    }
   },
   "source": [
    "## Training Dataset Construction\n",
    "\n",
    "Download the training and test dataset: [data_driven/burgers/dataset](https://download.mindspore.cn/mindscience/mindflow/dataset/applications/data_driven/burgers/dataset/) .\n",
    "\n",
    "In this case, training datasets and test datasets are generated according to Zongyi Li's dataset in [Fourier Neural Operator for Parametric Partial Differential Equations](https://arxiv.org/pdf/2010.08895.pdf) . The settings are as follows:\n",
    "\n",
    "the initial condition $u_0(x)$ is generated according to periodic boundary conditions:\n",
    "\n",
    "$$\n",
    "u_0 \\sim \\mu, \\mu=\\mathcal{N}\\left(0,625(-\\Delta+25 I)^{-2}\\right)\n",
    "$$\n",
    "\n",
    "We set the viscosity to $\\nu=0.1$ and solve the equation using a split step method where the heat equation part is solved exactly in Fourier space then the non-linear part is advanced, again in Fourier space, using a very fine forward Euler method. The number of samples in the training set is 1000, and the number of samples in the test set is 200.\n"
   ]
  },
  {
   "cell_type": "code",
   "execution_count": 4,
   "metadata": {
    "pycharm": {
     "name": "#%%\n"
    }
   },
   "outputs": [
    {
     "name": "stdout",
     "output_type": "stream",
     "text": [
      "Data preparation finished\n",
      "input_path:  (1000, 1024, 1)\n",
      "label_path:  (1000, 1024)\n",
      "Data preparation finished\n",
      "input_path:  (200, 1024, 1)\n",
      "label_path:  (200, 1024)\n"
     ]
    }
   ],
   "source": [
    "# create training dataset\n",
    "train_dataset = create_training_dataset(data_params, shuffle=True)\n",
    "\n",
    "# create test dataset\n",
    "eval_dataset = create_training_dataset(\n",
    "    data_params, shuffle=False, is_train=False)"
   ]
  },
  {
   "cell_type": "markdown",
   "metadata": {
    "pycharm": {
     "name": "#%% md\n"
    }
   },
   "source": [
    "## Model Construction\n",
    "\n",
    "The network is composed of 1 shared Encoding Layer, multiple Koopman Layers and 1 shared Decoding Layer:\n",
    "\n",
    "- The Encoding Layer corresponds to the `KNO2D.enc` in the case, and maps the output data to the high dimension;\n",
    "- Koopman Layer corresponds to the `KNO2D.koopman_layer` in the case. Discrete Fourier transform is used to realize the conversion between time domain and frequency domain;\n",
    "- The Decoding Layer corresponds to `KNO2D.dec` in the case to obtain the final predictive value.\n",
    "\n",
    "Initialize the model based on the network above. Hyperparameters can be modified in config."
   ]
  },
  {
   "cell_type": "code",
   "execution_count": 5,
   "metadata": {
    "pycharm": {
     "name": "#%%\n"
    }
   },
   "outputs": [
    {
     "name": "stdout",
     "output_type": "stream",
     "text": [
      "name:KNO1D_channels:32_modes:64_depths:4_resolution:1024\n"
     ]
    }
   ],
   "source": [
    "model = KNO1D(in_channels=data_params['in_channels'],\n",
    "              channels=model_params['channels'],\n",
    "              modes=model_params['modes'],\n",
    "              depths=model_params['depths'],\n",
    "              resolution=model_params['resolution']\n",
    "              )\n",
    "\n",
    "model_params_list = []\n",
    "for k, v in model_params.items():\n",
    "    model_params_list.append(f\"{k}:{v}\")\n",
    "model_name = \"_\".join(model_params_list)\n",
    "print(model_name)"
   ]
  },
  {
   "cell_type": "markdown",
   "metadata": {
    "pycharm": {
     "name": "#%% md\n"
    }
   },
   "source": [
    "## Optimizer and Loss Function\n",
    "\n",
    "Use the mean square error as the training loss function:"
   ]
  },
  {
   "cell_type": "code",
   "execution_count": 6,
   "metadata": {
    "pycharm": {
     "name": "#%%\n"
    }
   },
   "outputs": [],
   "source": [
    "train_size = train_dataset.get_dataset_size()\n",
    "eval_size = eval_dataset.get_dataset_size()\n",
    "\n",
    "lr = get_warmup_cosine_annealing_lr(lr_init=optimizer_params[\"lr\"],\n",
    "                                    last_epoch=optimizer_params[\"epochs\"],\n",
    "                                    steps_per_epoch=train_size,\n",
    "                                    warmup_epochs=1)\n",
    "optimizer = nn.AdamWeightDecay(model.trainable_params(),\n",
    "                               learning_rate=Tensor(lr),\n",
    "                               weight_decay=optimizer_params[\"weight_decay\"])\n",
    "model.set_train()\n",
    "loss_fn = MSELoss()\n",
    "if use_ascend:\n",
    "    from mindspore.amp import DynamicLossScaler, auto_mixed_precision, all_finite\n",
    "    loss_scaler = DynamicLossScaler(1024, 2, 100)\n",
    "    auto_mixed_precision(model, 'O3')\n",
    "else:\n",
    "    loss_scaler = None"
   ]
  },
  {
   "cell_type": "markdown",
   "metadata": {
    "pycharm": {
     "name": "#%% md\n"
    }
   },
   "source": [
    "## Model Training\n",
    "\n",
    "With **MindSpore version >= 2.0.0**, we can use the functional programming for training neural networks."
   ]
  },
  {
   "cell_type": "code",
   "execution_count": 7,
   "metadata": {
    "pycharm": {
     "name": "#%%\n"
    }
   },
   "outputs": [
    {
     "name": "stdout",
     "output_type": "stream",
     "text": [
      "./summary_dir/name:KNO1D_channels:32_modes:64_depths:4_resolution:1024\n",
      "epoch: 1, time cost: 18.375901, recons loss: 0.295517, pred loss: 0.085093\n",
      "epoch: 2, time cost: 2.577698, recons loss: 0.161718, pred loss: 0.002227\n",
      "epoch: 3, time cost: 2.564470, recons loss: 0.027144, pred loss: 0.000992\n",
      "epoch: 4, time cost: 2.547690, recons loss: 0.000782, pred loss: 0.000511\n",
      "epoch: 5, time cost: 2.532924, recons loss: 0.000057, pred loss: 0.000279\n",
      "epoch: 6, time cost: 2.536904, recons loss: 0.000048, pred loss: 0.000241\n",
      "epoch: 7, time cost: 2.527330, recons loss: 0.000048, pred loss: 0.000213\n",
      "epoch: 8, time cost: 2.536032, recons loss: 0.000048, pred loss: 0.000227\n",
      "epoch: 9, time cost: 2.462490, recons loss: 0.000048, pred loss: 0.000230\n",
      "epoch: 10, time cost: 2.564090, recons loss: 0.000049, pred loss: 0.000229\n",
      "---------------------------start evaluation-------------------------\n",
      "Eval epoch: 10, recons loss: 4.7733558130858e-05, relative pred loss: 0.01156728882342577\n",
      "---------------------------end evaluation---------------------------\n",
      "\n",
      "...\n",
      "\n",
      "epoch: 91, time cost: 2.662080, recons loss: 0.000042, pred loss: 0.000006\n",
      "epoch: 92, time cost: 2.604443, recons loss: 0.000042, pred loss: 0.000007\n",
      "epoch: 93, time cost: 2.576527, recons loss: 0.000042, pred loss: 0.000006\n",
      "epoch: 94, time cost: 2.621569, recons loss: 0.000042, pred loss: 0.000006\n",
      "epoch: 95, time cost: 2.578712, recons loss: 0.000042, pred loss: 0.000006\n",
      "epoch: 96, time cost: 2.607216, recons loss: 0.000042, pred loss: 0.000006\n",
      "epoch: 97, time cost: 2.588060, recons loss: 0.000042, pred loss: 0.000006\n",
      "epoch: 98, time cost: 2.911451, recons loss: 0.000042, pred loss: 0.000006\n",
      "epoch: 99, time cost: 2.542502, recons loss: 0.000042, pred loss: 0.000006\n",
      "epoch: 100, time cost: 2.514851, recons loss: 0.000042, pred loss: 0.000006\n",
      "---------------------------start evaluation-------------------------\n",
      "Eval epoch: 100, recons loss: 4.17057997037773e-05, relative pred loss: 0.004054672718048095\n",
      "---------------------------end evaluation---------------------------\n"
     ]
    }
   ],
   "source": [
    "problem = BurgersWithLoss(model, data_params[\"out_channels\"], loss_fn)\n",
    "\n",
    "def forward_fn(inputs, labels):\n",
    "    loss, l_recons, l_pred = problem.get_loss(inputs, labels)\n",
    "    if use_ascend:\n",
    "        loss = loss_scaler.scale(loss)\n",
    "    return loss, l_recons, l_pred\n",
    "\n",
    "grad_fn = ops.value_and_grad(forward_fn, None, optimizer.parameters, has_aux=True)\n",
    "\n",
    "def train_step(inputs, labels):\n",
    "    (loss, l_recons, l_pred), grads = grad_fn(inputs, labels)\n",
    "    if use_ascend:\n",
    "        loss = loss_scaler.unscale(loss)\n",
    "        if all_finite(grads):\n",
    "            grads = loss_scaler.unscale(grads)\n",
    "    loss = ops.depend(loss, optimizer(grads))\n",
    "    return loss, l_recons, l_pred\n",
    "\n",
    "def eval_step(inputs, labels):\n",
    "    return problem.get_rel_loss(inputs, labels)\n",
    "\n",
    "train_sink = mindspore.data_sink(train_step, train_dataset, sink_size=1)\n",
    "eval_sink = mindspore.data_sink(eval_step, eval_dataset, sink_size=1)\n",
    "\n",
    "summary_dir = os.path.join(config[\"summary_dir\"], model_name)\n",
    "os.makedirs(summary_dir, exist_ok=True)\n",
    "print(summary_dir)\n",
    "\n",
    "for epoch in range(1, optimizer_params[\"epochs\"] + 1):\n",
    "    time_beg = time.time()\n",
    "    l_recons_train = 0.0\n",
    "    l_pred_train = 0.0\n",
    "    for _ in range(train_size):\n",
    "        _, l_recons, l_pred = train_sink()\n",
    "        l_recons_train += l_recons.asnumpy()\n",
    "        l_pred_train += l_pred.asnumpy()\n",
    "    l_recons_train = l_recons_train / train_size\n",
    "    l_pred_train = l_pred_train / train_size\n",
    "    print(f\"epoch: {epoch}, time cost: {(time.time() - time_beg):>8f},\"\n",
    "          f\" recons loss: {l_recons_train:>8f}, pred loss: {l_pred_train:>8f}\")\n",
    "\n",
    "    if epoch % config['eval_interval'] == 0:\n",
    "        l_recons_eval = 0.0\n",
    "        l_pred_eval = 0.0\n",
    "        print(\"---------------------------start evaluation-------------------------\")\n",
    "        for _ in range(eval_size):\n",
    "            l_recons, l_pred = eval_sink()\n",
    "            l_recons_eval += l_recons.asnumpy()\n",
    "            l_pred_eval += l_pred.asnumpy()\n",
    "        l_recons_eval = l_recons_eval / eval_size\n",
    "        l_pred_eval = l_pred_eval / eval_size\n",
    "        print(f'Eval epoch: {epoch}, recons loss: {l_recons_eval},'\n",
    "              f' relative pred loss: {l_pred_eval}')\n",
    "        print(\"---------------------------end evaluation---------------------------\")\n",
    "        mindspore.save_checkpoint(model, ckpt_file_name=summary_dir + '/save_model.ckpt')"
   ]
  },
  {
   "cell_type": "markdown",
   "metadata": {
    "collapsed": false,
    "pycharm": {
     "name": "#%% md\n"
    }
   },
   "source": [
    "## Model Evaluation and Visualization\n",
    "\n",
    "Take 6 samples, and do 10 consecutive steps of prediction. Visualize the prediction as follows."
   ]
  },
  {
   "cell_type": "code",
   "execution_count": 8,
   "metadata": {
    "collapsed": false,
    "pycharm": {
     "name": "#%%\n"
    }
   },
   "outputs": [
    {
     "data": {
      "image/png": "[encoded data removed]",
      "text/plain": [
       "<Figure size 640x480 with 7 Axes>"
      ]
     },
     "metadata": {},
     "output_type": "display_data"
    }
   ],
   "source": [
    "# Infer and plot some data.\n",
    "inputs = np.load(os.path.join(data_params[\"path\"], \"test/inputs.npy\"))  # (200,1024,1)\n",
    "problem = BurgersWithLoss(model, 10, loss_fn)\n",
    "visual(problem, inputs)"
   ]
  }
 ],
 "metadata": {
  "kernelspec": {
   "display_name": "Python 3.7.13 ('ms_torch': conda)",
   "language": "python",
   "name": "python3"
  },
  "language_info": {
   "codemirror_mode": {
    "name": "ipython",
    "version": 3
   },
   "file_extension": ".py",
   "mimetype": "text/x-python",
   "name": "python",
   "nbconvert_exporter": "python",
   "pygments_lexer": "ipython3",
   "version": "3.7.13"
  },
  "vscode": {
   "interpreter": {
    "hash": "18d517ad782f4af88457d7728181a1bbe8dd4413f6d6fb70c713f7a70ee9d7f9"
   }
  }
 },
 "nbformat": 4,
 "nbformat_minor": 1
}
