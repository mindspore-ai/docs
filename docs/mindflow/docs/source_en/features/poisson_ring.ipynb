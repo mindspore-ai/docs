{
 "cells": [
  {
   "attachments": {},
   "cell_type": "markdown",
   "metadata": {},
   "source": [
    "# 2D Poisson on a Ring\n",
    "\n",
    "[![DownloadNotebook](https://mindspore-website.obs.cn-north-4.myhuaweicloud.com/website-images/master/resource/_static/logo_notebook_en.png)](https://obs.dualstack.cn-north-4.myhuaweicloud.com/mindspore-website/notebook/master/mindflow/en/features/mindspore_poisson_ring.ipynb)&emsp;[![DownloadCode](https://mindspore-website.obs.cn-north-4.myhuaweicloud.com/website-images/master/resource/_static/logo_download_code_en.png)](https://obs.dualstack.cn-north-4.myhuaweicloud.com/mindspore-website/notebook/master/mindflow/en/features/mindspore_poisson_ring.py)&emsp;[![ViewSource](https://mindspore-website.obs.cn-north-4.myhuaweicloud.com/website-images/master/resource/_static/logo_source_en.png)](https://gitee.com/mindspore/docs/blob/master/docs/mindflow/docs/source_en/features/poisson_ring.ipynb)\n"
   ]
  },
  {
   "attachments": {},
   "cell_type": "markdown",
   "metadata": {},
   "source": [
    "## Overview\n",
    "\n",
    "This tutorial describes how to use sympy to define the Dirichlet boundary conditions and the Neumann boundary conditions based on the two-dimensional Poisson problem and train a physical information neural network model. In this tutorial, you will learn:\n",
    "\n",
    "- How to use sympy to define partial differential equation based on [MindFlow](https://mindspore.cn/mindflow/docs/zh-CN/master/index.html).\n",
    "\n",
    "- How to define the Dirichlet boundary conditions and the Neumann boundary conditions in a model.\n",
    "\n",
    "- How to train a physical information neural network using [MindSpore](https://mindspore.cn/docs/zh-CN/master/index.html) functional programming paradigm."
   ]
  },
  {
   "attachments": {},
   "cell_type": "markdown",
   "metadata": {},
   "source": [
    "## Problem Description\n",
    "\n",
    "Poisson's equation is an elliptic partial differential equation of broad utility in theoretical physics. For example, the solution to Poisson's equation is the potential field caused by a given electric charge or mass density distribution; with the potential field known, one can then calculate electrostatic or gravitational (force) field. We start from a 2-D homogeneous Poisson equation,\n",
    "\n",
    "$$\n",
    "f + \\Delta u = 0\n",
    "$$\n",
    "\n",
    "where `u` is the primary variable, `f` is the source term, and $\\Delta$ denotes the Laplacian operator.\n",
    "\n",
    "We consider the source term `f` is given ($f=1.0$), then the form of Poisson' equation is as follows:\n",
    "\n",
    "$$\n",
    "\\frac{\\partial^2u}{\\partial x^2} + \\frac{\\partial^2u}{\\partial y^2} + 1.0 = 0,\n",
    "$$\n",
    "\n",
    "In this case, the Dirichlet boundary condition and the Neumann boundary condition are used. The format is as follows:\n",
    "\n",
    "Dirichlet boundary condition on the boundary of outside circle:\n",
    "\n",
    "$$\n",
    "u = 0\n",
    "$$\n",
    "\n",
    "Neumann boundary condition on the boundary of inside circle：\n",
    "\n",
    "$$\n",
    "du/dn = 0\n",
    "$$\n",
    "\n",
    "In this case, the PINNs method is used to learn the mapping $(x, y) \\mapsto u$. So that the solution of Poisson' equation is realized.\n"
   ]
  },
  {
   "attachments": {},
   "cell_type": "markdown",
   "metadata": {},
   "source": [
    "## Technology Path\n",
    "\n",
    "MindFlow solves the problem as follows:\n",
    "\n",
    "1. Training Dataset Construction.\n",
    "2. Model Construction.\n",
    "3. Optimizer.\n",
    "4. Poisson2D.\n",
    "5. Model Training.\n",
    "6. Model Evaluation and Visualization."
   ]
  },
  {
   "attachments": {},
   "cell_type": "markdown",
   "metadata": {},
   "source": [
    "### Importing the required packages\n",
    "\n",
    "In this tutorial, you will make use of [Disk](https://mindspore.cn/mindflow/docs/zh-CN/master/mindflow.geometry.html#mindflow.geometry.Disk) and [CSGXOR](https://mindspore.cn/mindflow/docs/zh-CN/master/mindflow.geometry.html#mindflow.geometry.CSGXOR) to make a geometry with input and output boundaries, as well as domain. You will use sympy to define boundary condition and governing equations based on [Poisson](https://mindspore.cn/mindflow/docs/zh-CN/master/mindflow.pde.html#mindflow.pde.Poisson). You will use [MultiScaleFCCell](https://mindspore.cn/mindflow/docs/zh-CN/master/mindflow.cell.html#mindflow.cell.MultiScaleFCCell) to construct a network. `Disk` and `CSGXOR` are imported from `MindFlow` [geometry](https://mindspore.cn/mindflow/docs/zh-CN/master/mindflow.geometry.html#) module. `Poisson` is imported from `MindFlow` [pde](https://mindspore.cn/mindflow/docs/zh-CN/master/mindflow.pde.html) module. `MultiScaleFCCell` is imported from `MindFlow` [cell](https://mindspore.cn/mindflow/docs/zh-CN/master/mindflow.cell.html) module. The above modules together constitute a model for solving the two-dimensional poisson problem."
   ]
  },
  {
   "cell_type": "code",
   "execution_count": 1,
   "metadata": {},
   "outputs": [],
   "source": [
    "import time\n",
    "\n",
    "import matplotlib.pyplot as plt\n",
    "import numpy as np\n",
    "import sympy\n",
    "from sympy import symbols, Function, diff\n",
    "\n",
    "import mindspore as ms\n",
    "from mindspore import nn, ops, Tensor, set_context, set_seed, jit\n",
    "from mindspore import dtype as mstype\n",
    "\n",
    "from mindflow.pde import Poisson, sympy_to_mindspore\n",
    "from mindflow.cell import MultiScaleFCCell\n",
    "from mindflow.geometry import generate_sampling_config, Disk, CSGXOR\n",
    "\n",
    "\n",
    "set_seed(123456)\n",
    "set_context(mode=ms.GRAPH_MODE, device_target=\"GPU\", device_id=0)\n"
   ]
  },
  {
   "attachments": {},
   "cell_type": "markdown",
   "metadata": {},
   "source": [
    "## Training Dataset Construction\n",
    "\n",
    "In this case, random sampling is performed according to the solution domain, initial condition and boundary value condition to generate training data sets. The specific settings are as follows. Download data construction [Python script](https://gitee.com/mindspore/mindscience/blob/master/MindFlow/features/poisson_ring/src/dataset.py)."
   ]
  },
  {
   "cell_type": "code",
   "execution_count": 2,
   "metadata": {},
   "outputs": [],
   "source": [
    "class MyIterable:\n",
    "    def __init__(self, domain, bc_outer, bc_inner, bc_inner_normal):\n",
    "        self._index = 0\n",
    "        self._domain = domain.astype(np.float32)\n",
    "        self._bc_outer = bc_outer.astype(np.float32)\n",
    "        self._bc_inner = bc_inner.astype(np.float32)\n",
    "        self._bc_inner_normal = bc_inner_normal.astype(np.float32)\n",
    "\n",
    "    def __next__(self):\n",
    "        if self._index >= len(self._domain):\n",
    "            raise StopIteration\n",
    "\n",
    "        item = (self._domain[self._index], self._bc_outer[self._index], self._bc_inner[self._index],\n",
    "                self._bc_inner_normal[self._index])\n",
    "        self._index += 1\n",
    "        return item\n",
    "\n",
    "    def __iter__(self):\n",
    "        self._index = 0\n",
    "        return self\n",
    "\n",
    "    def __len__(self):\n",
    "        return len(self._domain)\n",
    "\n",
    "\n",
    "def _get_region(config):\n",
    "    indisk_cfg = config[\"in_disk\"]\n",
    "    in_disk = Disk(indisk_cfg[\"name\"], (indisk_cfg[\"center_x\"], indisk_cfg[\"center_y\"]), indisk_cfg[\"radius\"])\n",
    "    outdisk_cfg = config[\"out_disk\"]\n",
    "    out_disk = Disk(outdisk_cfg[\"name\"], (outdisk_cfg[\"center_x\"], outdisk_cfg[\"center_y\"]), outdisk_cfg[\"radius\"])\n",
    "    union = CSGXOR(out_disk, in_disk)\n",
    "    return in_disk, out_disk, union\n",
    "\n",
    "\n",
    "def create_training_dataset(config):\n",
    "    '''create_training_dataset'''\n",
    "    in_disk, out_disk, union = _get_region(config)\n",
    "\n",
    "    union.set_sampling_config(generate_sampling_config(config[\"data\"]))\n",
    "    domain = union.sampling(geom_type=\"domain\")\n",
    "\n",
    "    out_disk.set_sampling_config(generate_sampling_config(config[\"data\"]))\n",
    "    bc_outer, _ = out_disk.sampling(geom_type=\"BC\")\n",
    "\n",
    "    in_disk.set_sampling_config(generate_sampling_config(config[\"data\"]))\n",
    "    bc_inner, bc_inner_normal = in_disk.sampling(geom_type=\"BC\")\n",
    "\n",
    "    dataset = ms.dataset.GeneratorDataset(source=MyIterable(domain, bc_outer, bc_inner, (-1.0) * bc_inner_normal),\n",
    "                                          column_names=[\"data\", \"bc_outer\", \"bc_inner\", \"bc_inner_normal\"])\n",
    "    return dataset\n",
    "\n",
    "\n",
    "def _calcu_color(x, y):\n",
    "    return (4.0 - x ** 2 - y ** 2) / 4\n",
    "\n",
    "\n",
    "def create_test_dataset(config):\n",
    "    \"\"\"create test dataset\"\"\"\n",
    "    _, _, union = _get_region(config)\n",
    "    union.set_sampling_config(generate_sampling_config(config[\"data\"]))\n",
    "    test_data = union.sampling(geom_type=\"domain\")\n",
    "    test_label = _calcu_color(test_data[:, 0], test_data[:, 1]).reshape(-1, 1)\n",
    "    return test_data, test_label\n"
   ]
  },
  {
   "attachments": {},
   "cell_type": "markdown",
   "metadata": {},
   "source": [
    "The geometric shape of the generated data is a ring, the radius of the inner circle is 1.0, the radius of the outer circle is 2.0, and the amount of data in the boundary and domain is 8192. The generation parameters are set as follows:"
   ]
  },
  {
   "cell_type": "code",
   "execution_count": 3,
   "metadata": {},
   "outputs": [],
   "source": [
    "in_disk = {\"name\": \"in_disk\", \"center_x\": 0.0, \"center_y\": 0.0, \"radius\": 1.0}\n",
    "out_disk = {\"name\": \"out_disk\", \"center_x\": 0.0, \"center_y\": 0.0, \"radius\": 2.0}\n",
    "domain = {\"size\": 8192, \"random_sampling\": True, \"sampler\": \"uniform\"}\n",
    "BC = {\"size\": 8192, \"random_sampling\": True, \"sampler\": \"uniform\", \"with_normal\": True}\n",
    "data = {\"domain\": domain, \"BC\": BC}\n",
    "config = {\"in_disk\": in_disk, \"out_disk\": out_disk, \"data\": data}\n",
    "\n",
    "# create training dataset\n",
    "dataset = create_training_dataset(config)\n",
    "train_dataset = dataset.batch(batch_size=8192)\n",
    "\n",
    "# create test dataset\n",
    "inputs, label = create_test_dataset(config)"
   ]
  },
  {
   "attachments": {},
   "cell_type": "markdown",
   "metadata": {},
   "source": [
    "## Model Construction\n",
    "\n",
    "This example uses a simple fully-connected network with a depth of 6 layers and the activation function is the `tanh` function."
   ]
  },
  {
   "cell_type": "code",
   "execution_count": 4,
   "metadata": {},
   "outputs": [],
   "source": [
    "model = MultiScaleFCCell(in_channels=2,\n",
    "                         out_channels=1,\n",
    "                         layers=6,\n",
    "                         neurons=128,\n",
    "                         residual=False,\n",
    "                         act=\"tanh\",\n",
    "                         num_scales=1)"
   ]
  },
  {
   "attachments": {},
   "cell_type": "markdown",
   "metadata": {},
   "source": [
    "## Optimizer\n",
    "\n",
    "Using Adaptive Moment Estimation (Adam) optimizer."
   ]
  },
  {
   "cell_type": "code",
   "execution_count": 5,
   "metadata": {},
   "outputs": [],
   "source": [
    "optimizer = nn.Adam(model.trainable_params(), 0.001)\n"
   ]
  },
  {
   "attachments": {},
   "cell_type": "markdown",
   "metadata": {},
   "source": [
    "## Poisson2D\n",
    "\n",
    "The following `Poisson2D` includes the governing equations, Dirichlet boundary conditions, Norman boundary conditions, etc. The `sympy` is used for delineating partial differential equations in symbolic forms and computing all equations' loss."
   ]
  },
  {
   "attachments": {},
   "cell_type": "markdown",
   "metadata": {},
   "source": [
    "### Symbol Declaration\n",
    "\n",
    "Define `x`, `y`, and `n` to indicate the the horizontal coordinate, vertical coordinate, and normal vectors of inner circle boundary, respectively. The output `u` is a function related to `x` and `y`."
   ]
  },
  {
   "cell_type": "code",
   "execution_count": 6,
   "metadata": {},
   "outputs": [
    {
     "name": "stdout",
     "output_type": "stream",
     "text": [
      "independent variables:  [x, y]\n",
      "dependent variables:  [u(x, y)]\n"
     ]
    }
   ],
   "source": [
    "x, y, n = symbols('x y n')\n",
    "u = Function('u')(x, y)\n",
    "\n",
    "# independent variables\n",
    "in_vars = [x, y]\n",
    "print(\"independent variables: \", in_vars)\n",
    "\n",
    "# dependent variables\n",
    "out_vars = [u]\n",
    "print(\"dependent variables: \", out_vars)"
   ]
  },
  {
   "attachments": {},
   "cell_type": "markdown",
   "metadata": {},
   "source": [
    "### Governing Equations"
   ]
  },
  {
   "cell_type": "code",
   "execution_count": 7,
   "metadata": {},
   "outputs": [
    {
     "name": "stdout",
     "output_type": "stream",
     "text": [
      "governing equation:  Derivative(u(x, y), (x, 2)) + Derivative(u(x, y), (y, 2)) + 1.0\n"
     ]
    }
   ],
   "source": [
    "govern_eq = diff(u, (x, 2)) + diff(u, (y, 2)) + 1.0\n",
    "print(\"governing equation: \", govern_eq)"
   ]
  },
  {
   "attachments": {},
   "cell_type": "markdown",
   "metadata": {},
   "source": [
    "### Dirichlet Boundary Condition"
   ]
  },
  {
   "cell_type": "code",
   "execution_count": 8,
   "metadata": {},
   "outputs": [
    {
     "name": "stdout",
     "output_type": "stream",
     "text": [
      "bc_outer equation:  u(x, y)\n"
     ]
    }
   ],
   "source": [
    "bc_outer = u\n",
    "print(\"bc_outer equation: \", bc_outer)"
   ]
  },
  {
   "attachments": {},
   "cell_type": "markdown",
   "metadata": {},
   "source": [
    "### Neumann Boundary Condition"
   ]
  },
  {
   "cell_type": "code",
   "execution_count": 9,
   "metadata": {},
   "outputs": [
    {
     "name": "stdout",
     "output_type": "stream",
     "text": [
      "bc_inner equation:  Derivative(u(x, y), n) - 0.5\n"
     ]
    }
   ],
   "source": [
    "bc_inner = sympy.Derivative(u, n) - 0.5\n",
    "print(\"bc_inner equation: \", bc_inner)"
   ]
  },
  {
   "attachments": {},
   "cell_type": "markdown",
   "metadata": {},
   "source": [
    "The following `Poisson2D` problem is defined based on the `Poisson` base class combined with the governing equations and boundary conditions defined above. Download `Poisson2D` [Python script](https://gitee.com/mindspore/mindscience/blob/master/MindFlow/features/poisson_ring/src/model.py)."
   ]
  },
  {
   "cell_type": "code",
   "execution_count": 10,
   "metadata": {},
   "outputs": [
    {
     "name": "stdout",
     "output_type": "stream",
     "text": [
      "poisson: Derivative(u(x, y), (x, 2)) + Derivative(u(x, y), (y, 2)) + 1.0\n",
      "    Item numbers of current derivative formula nodes: 3\n",
      "bc_outer: u(x, y)\n",
      "    Item numbers of current derivative formula nodes: 1\n",
      "bc_inner: Derivative(u(x, y), n) - 0.5\n",
      "    Item numbers of current derivative formula nodes: 2\n"
     ]
    }
   ],
   "source": [
    "class Poisson2D(Poisson):\n",
    "    def __init__(self, model, loss_fn=\"mse\"):\n",
    "        super(Poisson2D, self).__init__(model, loss_fn=loss_fn)\n",
    "        self.bc_outer_nodes = sympy_to_mindspore(self.bc_outer(), self.in_vars, self.out_vars)\n",
    "        self.bc_inner_nodes = sympy_to_mindspore(self.bc_inner(), self.in_vars, self.out_vars)\n",
    "\n",
    "    def bc_outer(self):\n",
    "        bc_outer_eq = self.u\n",
    "        equations = {\"bc_outer\": bc_outer_eq}\n",
    "        return equations\n",
    "\n",
    "    def bc_inner(self):\n",
    "        bc_inner_eq = sympy.Derivative(self.u, self.normal) - 0.5\n",
    "        equations = {\"bc_inner\": bc_inner_eq}\n",
    "        return equations\n",
    "\n",
    "    def get_loss(self, pde_data, bc_outer_data, bc_inner_data, bc_inner_normal):\n",
    "        pde_res = self.parse_node(self.pde_nodes, inputs=pde_data)\n",
    "        pde_loss = self.loss_fn(pde_res[0], Tensor(np.array([0.0]), mstype.float32))\n",
    "\n",
    "        bc_inner_res = self.parse_node(self.bc_inner_nodes, inputs=bc_inner_data, norm=bc_inner_normal)\n",
    "        bc_inner_loss = self.loss_fn(bc_inner_res[0], Tensor(np.array([0.0]), mstype.float32))\n",
    "\n",
    "        bc_outer_res = self.parse_node(self.bc_outer_nodes, inputs=bc_outer_data)\n",
    "        bc_outer_loss = self.loss_fn(bc_outer_res[0], Tensor(np.array([0.0]), mstype.float32))\n",
    "\n",
    "        return pde_loss + bc_inner_loss + bc_outer_loss\n",
    "\n",
    "problem = Poisson2D(model)"
   ]
  },
  {
   "attachments": {},
   "cell_type": "markdown",
   "metadata": {},
   "source": [
    "## Model Training\n",
    "\n",
    "With **MindSpore version >= 2.0.0**, we can use the functional programming for training neural networks. Download training [Python script](https://gitee.com/mindspore/mindscience/blob/master/MindFlow/features/poisson_ring/train.py)."
   ]
  },
  {
   "cell_type": "code",
   "execution_count": 11,
   "metadata": {},
   "outputs": [],
   "source": [
    "# define forward function\n",
    "def forward_fn(pde_data, bc_outer_data, bc_inner_data, bc_inner_normal):\n",
    "    loss = problem.get_loss(pde_data, bc_outer_data, bc_inner_data, bc_inner_normal)\n",
    "    return loss\n",
    "\n",
    "# define grad function\n",
    "grad_fn = ops.value_and_grad(forward_fn, None, optimizer.parameters, has_aux=False)\n",
    "\n",
    "# using jit to accelerate training\n",
    "@jit\n",
    "def train_step(pde_data, bc_outer_data, bc_inner_data, bc_inner_normal):\n",
    "    loss, grads = grad_fn(pde_data, bc_outer_data, bc_inner_data, bc_inner_normal)\n",
    "    loss = ops.depend(loss, optimizer(grads))\n",
    "    return loss\n"
   ]
  },
  {
   "attachments": {},
   "cell_type": "markdown",
   "metadata": {},
   "source": [
    "Download the calculate function of training process in [Python script](https://gitee.com/mindspore/mindscience/blob/master/MindFlow/features/poisson_ring/src/utils.py)."
   ]
  },
  {
   "cell_type": "code",
   "execution_count": 12,
   "metadata": {},
   "outputs": [],
   "source": [
    "def _calculate_error(label, prediction):\n",
    "    '''calculate l2-error to evaluate accuracy'''\n",
    "    error = label - prediction\n",
    "    l2_error = np.sqrt(np.sum(np.square(error[..., 0]))) / np.sqrt(np.sum(np.square(label[..., 0])))\n",
    "\n",
    "    return l2_error\n",
    "\n",
    "\n",
    "def _get_prediction(model, inputs, label_shape, batch_size):\n",
    "    '''calculate the prediction respect to the given inputs'''\n",
    "    prediction = np.zeros(label_shape)\n",
    "    prediction = prediction.reshape((-1, label_shape[1]))\n",
    "    inputs = inputs.reshape((-1, inputs.shape[1]))\n",
    "\n",
    "    time_beg = time.time()\n",
    "\n",
    "    index = 0\n",
    "    while index < inputs.shape[0]:\n",
    "        index_end = min(index + batch_size, inputs.shape[0])\n",
    "        test_batch = Tensor(inputs[index: index_end, :], mstype.float32)\n",
    "        prediction[index: index_end, :] = model(test_batch).asnumpy()\n",
    "        index = index_end\n",
    "\n",
    "    print(\"    predict total time: {} ms\".format((time.time() - time_beg) * 1000))\n",
    "    prediction = prediction.reshape(label_shape)\n",
    "    prediction = prediction.reshape((-1, label_shape[1]))\n",
    "    return prediction\n",
    "\n",
    "\n",
    "def calculate_l2_error(model, inputs, label, batch_size):\n",
    "    label_shape = label.shape\n",
    "    prediction = _get_prediction(model, inputs, label_shape, batch_size)\n",
    "    label = label.reshape((-1, label_shape[1]))\n",
    "    l2_error = _calculate_error(label, prediction)\n",
    "    print(\"    l2_error: \", l2_error)\n",
    "    print(\"==================================================================================================\")\n"
   ]
  },
  {
   "cell_type": "code",
   "execution_count": 13,
   "metadata": {},
   "outputs": [
    {
     "name": "stdout",
     "output_type": "stream",
     "text": [
      "epoch: 1 train loss: 1.2577767 epoch time: 6024.162 ms\n",
      "epoch: 2 train loss: 1.2554792 epoch time: 70.884 ms\n",
      "epoch: 3 train loss: 1.2534575 epoch time: 71.048 ms\n",
      "epoch: 4 train loss: 1.2516733 epoch time: 100.632 ms\n",
      "epoch: 5 train loss: 1.2503157 epoch time: 65.656 ms\n",
      "epoch: 6 train loss: 1.2501826 epoch time: 137.487 ms\n",
      "epoch: 7 train loss: 1.2511331 epoch time: 51.191 ms\n",
      "epoch: 8 train loss: 1.2508672 epoch time: 65.980 ms\n",
      "epoch: 9 train loss: 1.2503275 epoch time: 211.144 ms\n",
      "epoch: 10 train loss: 1.2500556 epoch time: 224.515 ms\n",
      "epoch: 11 train loss: 1.2500004 epoch time: 225.964 ms\n",
      "epoch: 12 train loss: 1.2500298 epoch time: 220.117 ms\n",
      "epoch: 13 train loss: 1.2500703 epoch time: 221.441 ms\n",
      "epoch: 14 train loss: 1.2500948 epoch time: 220.214 ms\n",
      "epoch: 15 train loss: 1.2500978 epoch time: 219.836 ms\n",
      "epoch: 16 train loss: 1.250083 epoch time: 220.141 ms\n",
      "epoch: 17 train loss: 1.2500567 epoch time: 229.682 ms\n",
      "epoch: 18 train loss: 1.2500263 epoch time: 216.013 ms\n",
      "epoch: 19 train loss: 1.2500005 epoch time: 218.639 ms\n",
      "epoch: 20 train loss: 1.2499874 epoch time: 228.765 ms\n",
      "epoch: 21 train loss: 1.2499917 epoch time: 230.179 ms\n",
      "epoch: 22 train loss: 1.250007 epoch time: 215.476 ms\n",
      "epoch: 23 train loss: 1.250018 epoch time: 224.334 ms\n",
      "epoch: 24 train loss: 1.2500123 epoch time: 217.322 ms\n",
      "epoch: 25 train loss: 1.249995 epoch time: 217.106 ms\n",
      "epoch: 26 train loss: 1.249982 epoch time: 217.612 ms\n",
      "epoch: 27 train loss: 1.249983 epoch time: 223.639 ms\n",
      "epoch: 28 train loss: 1.2499921 epoch time: 226.419 ms\n",
      "epoch: 29 train loss: 1.2499963 epoch time: 212.248 ms\n",
      "epoch: 30 train loss: 1.2499878 epoch time: 225.295 ms\n",
      "epoch: 31 train loss: 1.2499707 epoch time: 219.656 ms\n",
      "epoch: 32 train loss: 1.2499548 epoch time: 218.019 ms\n",
      "epoch: 33 train loss: 1.2499464 epoch time: 226.645 ms\n",
      "epoch: 34 train loss: 1.2499409 epoch time: 222.399 ms\n",
      "epoch: 35 train loss: 1.249928 epoch time: 224.290 ms\n",
      "epoch: 36 train loss: 1.2499026 epoch time: 221.664 ms\n",
      "epoch: 37 train loss: 1.2498704 epoch time: 221.300 ms\n",
      "epoch: 38 train loss: 1.2498367 epoch time: 220.392 ms\n",
      "epoch: 39 train loss: 1.2497979 epoch time: 221.848 ms\n",
      "epoch: 40 train loss: 1.2497431 epoch time: 219.831 ms\n",
      "epoch: 41 train loss: 1.2496608 epoch time: 217.333 ms\n",
      "epoch: 42 train loss: 1.249544 epoch time: 220.116 ms\n",
      "epoch: 43 train loss: 1.2493837 epoch time: 214.985 ms\n",
      "epoch: 44 train loss: 1.2491598 epoch time: 220.717 ms\n",
      "epoch: 45 train loss: 1.248828 epoch time: 216.047 ms\n",
      "epoch: 46 train loss: 1.2483226 epoch time: 218.554 ms\n",
      "epoch: 47 train loss: 1.247554 epoch time: 221.158 ms\n",
      "epoch: 48 train loss: 1.2463655 epoch time: 218.594 ms\n",
      "epoch: 49 train loss: 1.2444699 epoch time: 216.152 ms\n",
      "epoch: 50 train loss: 1.2413855 epoch time: 220.306 ms\n",
      "epoch: 51 train loss: 1.2362938 epoch time: 211.876 ms\n",
      "epoch: 52 train loss: 1.2277732 epoch time: 213.732 ms\n",
      "epoch: 53 train loss: 1.2135327 epoch time: 219.945 ms\n",
      "epoch: 54 train loss: 1.1906419 epoch time: 217.820 ms\n",
      "epoch: 55 train loss: 1.1573513 epoch time: 225.694 ms\n",
      "epoch: 56 train loss: 1.1058999 epoch time: 221.004 ms\n",
      "epoch: 57 train loss: 1.0343707 epoch time: 225.404 ms\n",
      "epoch: 58 train loss: 0.9365865 epoch time: 224.163 ms\n",
      "epoch: 59 train loss: 0.83171475 epoch time: 211.383 ms\n",
      "epoch: 60 train loss: 0.77913564 epoch time: 229.284 ms\n",
      "epoch: 61 train loss: 0.74204475 epoch time: 223.518 ms\n",
      "epoch: 62 train loss: 0.80121577 epoch time: 229.029 ms\n",
      "epoch: 63 train loss: 0.8549291 epoch time: 223.576 ms\n",
      "epoch: 64 train loss: 0.7383551 epoch time: 235.727 ms\n",
      "epoch: 65 train loss: 0.72710323 epoch time: 222.646 ms\n",
      "epoch: 66 train loss: 0.6702794 epoch time: 226.154 ms\n",
      "epoch: 67 train loss: 0.6987355 epoch time: 221.565 ms\n",
      "epoch: 68 train loss: 0.6746455 epoch time: 234.406 ms\n",
      "epoch: 69 train loss: 0.70462525 epoch time: 226.131 ms\n",
      "epoch: 70 train loss: 0.67767555 epoch time: 229.177 ms\n",
      "epoch: 71 train loss: 0.6821881 epoch time: 224.217 ms\n",
      "epoch: 72 train loss: 0.64521456 epoch time: 223.717 ms\n",
      "epoch: 73 train loss: 0.6368966 epoch time: 226.217 ms\n",
      "epoch: 74 train loss: 0.592155 epoch time: 219.816 ms\n",
      "epoch: 75 train loss: 0.6024764 epoch time: 214.097 ms\n",
      "epoch: 76 train loss: 0.58170027 epoch time: 224.460 ms\n",
      "epoch: 77 train loss: 0.5691892 epoch time: 223.964 ms\n",
      "epoch: 78 train loss: 0.5925416 epoch time: 226.897 ms\n",
      "epoch: 79 train loss: 0.61034954 epoch time: 221.710 ms\n",
      "epoch: 80 train loss: 0.5831032 epoch time: 231.325 ms\n",
      "epoch: 81 train loss: 0.5364084 epoch time: 222.517 ms\n",
      "epoch: 82 train loss: 0.5502083 epoch time: 215.709 ms\n",
      "epoch: 83 train loss: 0.5633007 epoch time: 209.054 ms\n",
      "epoch: 84 train loss: 0.52546465 epoch time: 219.471 ms\n",
      "epoch: 85 train loss: 0.53276706 epoch time: 218.961 ms\n",
      "epoch: 86 train loss: 0.55396163 epoch time: 237.759 ms\n",
      "epoch: 87 train loss: 0.5206229 epoch time: 219.588 ms\n",
      "epoch: 88 train loss: 0.5106571 epoch time: 225.651 ms\n",
      "epoch: 89 train loss: 0.53332406 epoch time: 224.282 ms\n",
      "epoch: 90 train loss: 0.53076947 epoch time: 235.400 ms\n",
      "epoch: 91 train loss: 0.5049336 epoch time: 215.371 ms\n",
      "epoch: 92 train loss: 0.48215953 epoch time: 239.344 ms\n",
      "epoch: 93 train loss: 0.4843874 epoch time: 218.674 ms\n",
      "epoch: 94 train loss: 0.51292086 epoch time: 221.709 ms\n",
      "epoch: 95 train loss: 0.56979203 epoch time: 225.018 ms\n",
      "epoch: 96 train loss: 0.61994594 epoch time: 219.800 ms\n",
      "epoch: 97 train loss: 0.4962491 epoch time: 223.785 ms\n",
      "epoch: 98 train loss: 0.4802659 epoch time: 230.708 ms\n",
      "epoch: 99 train loss: 0.54967964 epoch time: 221.209 ms\n",
      "epoch: 100 train loss: 0.46414006 epoch time: 223.953 ms\n",
      "    predict total time: 124.87483024597168 ms\n",
      "    l2_error:  0.9584533008207833\n",
      "==================================================================================================\n",
      "...\n",
      "epoch: 4901 train loss: 0.00012433846 epoch time: 241.115 ms\n",
      "epoch: 4902 train loss: 0.00012422525 epoch time: 239.142 ms\n",
      "epoch: 4903 train loss: 0.00012412701 epoch time: 234.900 ms\n",
      "epoch: 4904 train loss: 0.00012404467 epoch time: 237.946 ms\n",
      "epoch: 4905 train loss: 0.000123965 epoch time: 236.818 ms\n",
      "epoch: 4906 train loss: 0.0001238766 epoch time: 255.728 ms\n",
      "epoch: 4907 train loss: 0.00012378026 epoch time: 225.175 ms\n",
      "epoch: 4908 train loss: 0.00012368544 epoch time: 241.107 ms\n",
      "epoch: 4909 train loss: 0.00012359957 epoch time: 248.310 ms\n",
      "epoch: 4910 train loss: 0.00012352059 epoch time: 239.238 ms\n",
      "epoch: 4911 train loss: 0.0001234413 epoch time: 229.464 ms\n",
      "epoch: 4912 train loss: 0.00012335769 epoch time: 228.504 ms\n",
      "epoch: 4913 train loss: 0.00012327175 epoch time: 238.126 ms\n",
      "epoch: 4914 train loss: 0.00012318943 epoch time: 236.290 ms\n",
      "epoch: 4915 train loss: 0.00012311469 epoch time: 221.079 ms\n",
      "epoch: 4916 train loss: 0.00012304715 epoch time: 238.825 ms\n",
      "epoch: 4917 train loss: 0.00012298509 epoch time: 243.784 ms\n",
      "epoch: 4918 train loss: 0.00012292914 epoch time: 235.416 ms\n",
      "epoch: 4919 train loss: 0.00012288446 epoch time: 221.510 ms\n",
      "epoch: 4920 train loss: 0.00012286083 epoch time: 244.597 ms\n",
      "epoch: 4921 train loss: 0.00012286832 epoch time: 245.989 ms\n",
      "epoch: 4922 train loss: 0.00012292268 epoch time: 234.209 ms\n",
      "epoch: 4923 train loss: 0.00012304373 epoch time: 223.089 ms\n",
      "epoch: 4924 train loss: 0.0001232689 epoch time: 234.764 ms\n",
      "epoch: 4925 train loss: 0.00012365196 epoch time: 246.427 ms\n",
      "epoch: 4926 train loss: 0.00012429312 epoch time: 233.304 ms\n",
      "epoch: 4927 train loss: 0.0001253246 epoch time: 221.859 ms\n",
      "epoch: 4928 train loss: 0.00012700919 epoch time: 230.224 ms\n",
      "epoch: 4929 train loss: 0.00012967733 epoch time: 254.334 ms\n",
      "epoch: 4930 train loss: 0.000134056 epoch time: 242.256 ms\n",
      "epoch: 4931 train loss: 0.00014098533 epoch time: 225.075 ms\n",
      "epoch: 4932 train loss: 0.00015257315 epoch time: 235.392 ms\n",
      "epoch: 4933 train loss: 0.00017092828 epoch time: 243.934 ms\n",
      "epoch: 4934 train loss: 0.00020245541 epoch time: 244.327 ms\n",
      "epoch: 4935 train loss: 0.00025212576 epoch time: 238.360 ms\n",
      "epoch: 4936 train loss: 0.00034049098 epoch time: 233.573 ms\n",
      "epoch: 4937 train loss: 0.0004768648 epoch time: 242.150 ms\n",
      "epoch: 4938 train loss: 0.0007306886 epoch time: 247.166 ms\n",
      "epoch: 4939 train loss: 0.0011023732 epoch time: 242.486 ms\n",
      "epoch: 4940 train loss: 0.001834287 epoch time: 237.257 ms\n",
      "epoch: 4941 train loss: 0.0027812878 epoch time: 242.192 ms\n",
      "epoch: 4942 train loss: 0.004766387 epoch time: 236.694 ms\n",
      "epoch: 4943 train loss: 0.006648433 epoch time: 223.730 ms\n",
      "epoch: 4944 train loss: 0.010807082 epoch time: 237.647 ms\n",
      "epoch: 4945 train loss: 0.01206318 epoch time: 233.036 ms\n",
      "epoch: 4946 train loss: 0.015489452 epoch time: 227.594 ms\n",
      "epoch: 4947 train loss: 0.011565584 epoch time: 227.099 ms\n",
      "epoch: 4948 train loss: 0.008471975 epoch time: 231.612 ms\n",
      "epoch: 4949 train loss: 0.0035123175 epoch time: 276.854 ms\n",
      "epoch: 4950 train loss: 0.00091841083 epoch time: 229.893 ms\n",
      "epoch: 4951 train loss: 0.00053060305 epoch time: 231.533 ms\n",
      "epoch: 4952 train loss: 0.0017638807 epoch time: 231.814 ms\n",
      "epoch: 4953 train loss: 0.0035763814 epoch time: 236.456 ms\n",
      "epoch: 4954 train loss: 0.004056363 epoch time: 244.743 ms\n",
      "epoch: 4955 train loss: 0.0039708405 epoch time: 221.469 ms\n",
      "epoch: 4956 train loss: 0.0027319128 epoch time: 236.732 ms\n",
      "epoch: 4957 train loss: 0.0017904624 epoch time: 231.612 ms\n",
      "epoch: 4958 train loss: 0.0009970744 epoch time: 244.820 ms\n",
      "epoch: 4959 train loss: 0.00061692565 epoch time: 221.442 ms\n",
      "epoch: 4960 train loss: 0.0007383662 epoch time: 245.430 ms\n",
      "epoch: 4961 train loss: 0.0012403185 epoch time: 231.007 ms\n",
      "epoch: 4962 train loss: 0.0018439001 epoch time: 233.718 ms\n",
      "epoch: 4963 train loss: 0.0017326038 epoch time: 224.514 ms\n",
      "epoch: 4964 train loss: 0.0011022249 epoch time: 237.367 ms\n",
      "epoch: 4965 train loss: 0.00033718432 epoch time: 242.038 ms\n",
      "epoch: 4966 train loss: 0.00018465787 epoch time: 230.688 ms\n",
      "epoch: 4967 train loss: 0.00055812683 epoch time: 218.956 ms\n",
      "epoch: 4968 train loss: 0.00085373345 epoch time: 239.294 ms\n",
      "epoch: 4969 train loss: 0.0007744754 epoch time: 234.656 ms\n",
      "epoch: 4970 train loss: 0.00047988302 epoch time: 243.434 ms\n",
      "epoch: 4971 train loss: 0.0003720247 epoch time: 214.474 ms\n",
      "epoch: 4972 train loss: 0.0004015266 epoch time: 239.108 ms\n",
      "epoch: 4973 train loss: 0.00037753512 epoch time: 246.952 ms\n",
      "epoch: 4974 train loss: 0.0002867286 epoch time: 235.668 ms\n",
      "epoch: 4975 train loss: 0.00029258506 epoch time: 229.418 ms\n",
      "epoch: 4976 train loss: 0.00041505875 epoch time: 239.248 ms\n",
      "epoch: 4977 train loss: 0.00043451862 epoch time: 235.341 ms\n",
      "epoch: 4978 train loss: 0.00030042438 epoch time: 236.248 ms\n",
      "epoch: 4979 train loss: 0.00015146247 epoch time: 218.208 ms\n",
      "epoch: 4980 train loss: 0.00016080803 epoch time: 246.693 ms\n",
      "epoch: 4981 train loss: 0.00027215388 epoch time: 238.106 ms\n",
      "epoch: 4982 train loss: 0.00031257677 epoch time: 236.889 ms\n",
      "epoch: 4983 train loss: 0.0002639915 epoch time: 222.054 ms\n",
      "epoch: 4984 train loss: 0.000204898 epoch time: 231.757 ms\n",
      "epoch: 4985 train loss: 0.00019457101 epoch time: 246.356 ms\n",
      "epoch: 4986 train loss: 0.00018954299 epoch time: 247.128 ms\n",
      "epoch: 4987 train loss: 0.00016800698 epoch time: 219.524 ms\n",
      "epoch: 4988 train loss: 0.00016529267 epoch time: 240.068 ms\n",
      "epoch: 4989 train loss: 0.00019697993 epoch time: 235.206 ms\n",
      "epoch: 4990 train loss: 0.00021988692 epoch time: 237.431 ms\n",
      "epoch: 4991 train loss: 0.00019355604 epoch time: 219.045 ms\n",
      "epoch: 4992 train loss: 0.00014973793 epoch time: 246.853 ms\n",
      "epoch: 4993 train loss: 0.00013542885 epoch time: 226.068 ms\n",
      "epoch: 4994 train loss: 0.00015176873 epoch time: 248.399 ms\n",
      "epoch: 4995 train loss: 0.0001647438 epoch time: 217.880 ms\n",
      "epoch: 4996 train loss: 0.00016070419 epoch time: 237.407 ms\n",
      "epoch: 4997 train loss: 0.00015653059 epoch time: 235.727 ms\n",
      "epoch: 4998 train loss: 0.00015907965 epoch time: 247.844 ms\n",
      "epoch: 4999 train loss: 0.00015674165 epoch time: 226.864 ms\n",
      "epoch: 5000 train loss: 0.00014248541 epoch time: 244.331 ms\n",
      "    predict total time: 1.7328262329101562 ms\n",
      "    l2_error:  0.00915682980750216\n",
      "==================================================================================================\n"
     ]
    }
   ],
   "source": [
    "epochs = 5000\n",
    "steps_per_epochs = train_dataset.get_dataset_size()\n",
    "sink_process = ms.data_sink(train_step, train_dataset, sink_size=1)\n",
    "\n",
    "for epoch in range(1, epochs + 1):\n",
    "    # train\n",
    "    time_beg = time.time()\n",
    "    model.set_train(True)\n",
    "    for _ in range(steps_per_epochs):\n",
    "        step_train_loss = sink_process()\n",
    "    print(f\"epoch: {epoch} train loss: {step_train_loss} epoch time: {(time.time() - time_beg)*1000 :.3f} ms\")\n",
    "    model.set_train(False)\n",
    "    if epoch % 100 == 0:\n",
    "        # eval\n",
    "        calculate_l2_error(model, inputs, label, 8192)"
   ]
  },
  {
   "attachments": {},
   "cell_type": "markdown",
   "metadata": {},
   "source": [
    "## Model Evaluation and Visualization\n",
    "\n",
    "After training, all data points in the flow field can be inferred. And related results can be visualized. Download visulization [Python script](https://gitee.com/mindspore/mindscience/blob/master/MindFlow/features/poisson_ring/src/utils.py)."
   ]
  },
  {
   "cell_type": "code",
   "execution_count": 14,
   "metadata": {},
   "outputs": [],
   "source": [
    "def visual(model, inputs, label, epochs=1):\n",
    "    '''visual result for poisson 2D'''\n",
    "    fig, ax = plt.subplots(2, 1)\n",
    "    ax = ax.flatten()\n",
    "    plt.subplots_adjust(hspace=0.5)\n",
    "    ax0 = ax[0].scatter(inputs[:, 0], inputs[:, 1], c=label[:, 0], cmap=plt.cm.rainbow, s=0.5)\n",
    "    ax[0].set_title(\"true\")\n",
    "    ax[0].set_xlabel('x')\n",
    "    ax[0].set_ylabel('y')\n",
    "    ax[0].axis('equal')\n",
    "    ax[1].scatter(inputs[:, 0], inputs[:, 1], c=model(Tensor(inputs, mstype.float32)), cmap=plt.cm.rainbow, s=0.5)\n",
    "    ax[1].set_title(\"prediction\")\n",
    "    ax[1].set_xlabel('x')\n",
    "    ax[1].set_ylabel('y')\n",
    "    ax[1].axis('equal')\n",
    "    cbar = fig.colorbar(ax0, ax=[ax[0], ax[1]])\n",
    "    cbar.set_label('u(x, y)')\n",
    "\n",
    "    plt.savefig(f\"images/{epochs}-result.jpg\", dpi=600)\n"
   ]
  },
  {
   "cell_type": "code",
   "execution_count": 15,
   "metadata": {},
   "outputs": [
    {
     "data": {
      "image/png": "[encoded data removed]",
      "text/plain": [
       "<Figure size 640x480 with 3 Axes>"
      ]
     },
     "metadata": {},
     "output_type": "display_data"
    }
   ],
   "source": [
    "# visualization\n",
    "visual(model, inputs, label, 5000)"
   ]
  }
 ],
 "metadata": {
  "kernelspec": {
   "display_name": "Python 3.9.0 ('py39')",
   "language": "python",
   "name": "python3"
  },
  "language_info": {
   "codemirror_mode": {
    "name": "ipython",
    "version": 3
   },
   "file_extension": ".py",
   "mimetype": "text/x-python",
   "name": "python",
   "nbconvert_exporter": "python",
   "pygments_lexer": "ipython3",
   "version": "3.9.0"
  },
  "orig_nbformat": 4,
  "vscode": {
   "interpreter": {
    "hash": "57ace93c29d9374277a79956c3f1b916d7d9a05468d906842f9921d0d494a29f"
   }
  }
 },
 "nbformat": 4,
 "nbformat_minor": 2
}
