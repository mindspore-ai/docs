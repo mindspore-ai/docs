{
 "cells": [
  {
   "cell_type": "markdown",
   "id": "pregnant-wages",
   "metadata": {},
   "source": [
    "# Implementing Simple Linear Function Fitting\n",
    "\n",
    "Author: [Yi Yang](https://github.com/helloyesterday)&nbsp;&nbsp;&nbsp;&nbsp;Editor: [Mingfu Lv](https://gitee.com/lvmingfu)\n",
    "\n",
    "`Linux` `Windows` `Ascend` `GPU` `CPU` `Whole Process` `Beginner` `Intermediate` `Expert`\n",
    "\n",
    "[![](https://gitee.com/mindspore/docs/raw/master/resource/_static/logo_source.png)](https://gitee.com/mindspore/docs/blob/master/tutorials/training/source_en/quick_start/linear_regression.ipynb)"
   ]
  },
  {
   "cell_type": "markdown",
   "id": "sized-algorithm",
   "metadata": {},
   "source": [
    "## Overview\n",
    "\n",
    "Regression algorithms usually use a series of properties to predict a value, and the predicted values are consecutive. For example, the price of a house is predicted based on some given feature data of the house, such as area and the number of bedrooms; or future temperature conditions are predicted by using the temperature change data and satellite cloud images in the last week. If the actual price of the house is CNY5 million, and the value predicted through regression analysis is CNY4.99 million, the regression analysis is considered accurate. For machine learning problems, common regression analysis includes linear regression, polynomial regression, and logistic regression. This example describes the linear regression algorithms and how to use MindSpore to perform linear regression AI training.\n",
    "\n",
    "The whole process is as follows:\n",
    "\n",
    "1. Generate datasets.\n",
    "2. Define a training network.\n",
    "3. Define and associate the forward and backward propagation networks.\n",
    "4. Prepare for fitting process visualization.\n",
    "5. Perform training.\n",
    "\n",
    "> This document is applicable to CPU, GPU and Ascend environments. The source code address of this example: <https://gitee.com/mindspore/docs/blob/master/tutorials/tutorial_code/linear_regression.py>.\n",
    "\n",
    "## Environment Preparation\n",
    "\n",
    "Complete MindSpore running configuration."
   ]
  },
  {
   "cell_type": "code",
   "execution_count": 1,
   "id": "statutory-enough",
   "metadata": {},
   "outputs": [],
   "source": [
    "from mindspore import context\n",
    "\n",
    "context.set_context(mode=context.GRAPH_MODE, device_target=\"CPU\")"
   ]
  },
  {
   "cell_type": "markdown",
   "id": "billion-minority",
   "metadata": {},
   "source": [
    "`GRAPH_MODE`: graph mode.\n",
    "\n",
    "`device_target`: sets the MindSpore training hardware to CPU.\n",
    "\n",
    "> Third-party support package: `matplotlib`. If this package is not installed, run the `pip install matplotlib` command to install it first.\n",
    "\n",
    "## Generating Datasets\n",
    "\n",
    "### Defining the Dataset Generation Function\n",
    "\n",
    "`get_data` is used to generate training and test datasets. Since linear data is fitted, the required training datasets should be randomly distributed around the objective function. Assume that the objective function to be fitted is $f(x)=2x+3$. $f(x)=2x+3+noise$ is used to generate training datasets, and `noise` is a random value that complies with standard normal distribution rules."
   ]
  },
  {
   "cell_type": "code",
   "execution_count": 2,
   "id": "little-florida",
   "metadata": {},
   "outputs": [],
   "source": [
    "import numpy as np\n",
    "\n",
    "def get_data(num, w=2.0, b=3.0):\n",
    "    for _ in range(num):\n",
    "        x = np.random.uniform(-10.0, 10.0)\n",
    "        noise = np.random.normal(0, 1)\n",
    "        y = x * w + b + noise\n",
    "        yield np.array([x]).astype(np.float32), np.array([y]).astype(np.float32)"
   ]
  },
  {
   "cell_type": "markdown",
   "id": "surgical-strip",
   "metadata": {},
   "source": [
    "Use `get_data` to generate 50 groups of test data and visualize them."
   ]
  },
  {
   "cell_type": "code",
   "execution_count": 3,
   "id": "technological-tsunami",
   "metadata": {},
   "outputs": [
    {
     "data": {
      "image/png": "[encoded data removed]",
      "text/plain": [
       "<Figure size 432x288 with 1 Axes>"
      ]
     },
     "metadata": {
      "needs_background": "light"
     },
     "output_type": "display_data"
    }
   ],
   "source": [
    "import matplotlib.pyplot as plt\n",
    "\n",
    "eval_data = list(get_data(50))\n",
    "x_target_label = np.array([-10, 10, 0.1])\n",
    "y_target_label = x_target_label * 2 + 3\n",
    "x_eval_label,y_eval_label = zip(*eval_data)\n",
    "\n",
    "plt.scatter(x_eval_label, y_eval_label, color=\"red\", s=5)\n",
    "plt.plot(x_target_label, y_target_label, color=\"green\")\n",
    "plt.title(\"Eval data\")\n",
    "plt.show()"
   ]
  },
  {
   "cell_type": "markdown",
   "id": "mediterranean-pathology",
   "metadata": {},
   "source": [
    "In the preceding figure, the green line indicates the objective function, and the red points indicate the verification data `eval_data`.\n",
    "\n",
    "### Defining the Data Argumentation Function\n",
    "\n",
    "Use the MindSpore data conversion function `GeneratorDataset` to convert the data type to that suitable for MindSpore training, and then use `batch` and `repeat` to perform data argumentation. The operation is described as follows:\n",
    "\n",
    "- `ds.GeneratorDataset`: converts the generated data into a MindSpore dataset and saves the x and y values of the generated data to arrays of `data` and `label`.\n",
    "- `batch`: combines `batch_size` pieces of data into a batch.\n",
    "- `repeat`: multiplies the number of datasets."
   ]
  },
  {
   "cell_type": "code",
   "execution_count": 4,
   "id": "distinct-grammar",
   "metadata": {},
   "outputs": [],
   "source": [
    "from mindspore import dataset as ds\n",
    "\n",
    "def create_dataset(num_data, batch_size=16, repeat_size=1):\n",
    "    input_data = ds.GeneratorDataset(list(get_data(num_data)), column_names=['data','label'])\n",
    "    input_data = input_data.batch(batch_size)\n",
    "    input_data = input_data.repeat(repeat_size)\n",
    "    return input_data"
   ]
  },
  {
   "cell_type": "markdown",
   "id": "approved-plasma",
   "metadata": {},
   "source": [
    "Use the dataset argumentation function to generate training data and view the training data format."
   ]
  },
  {
   "cell_type": "code",
   "execution_count": 5,
   "id": "shared-spirituality",
   "metadata": {},
   "outputs": [
    {
     "name": "stdout",
     "output_type": "stream",
     "text": [
      "The dataset size of ds_train: 100\n",
      "dict_keys(['data', 'label'])\n",
      "The x label value shape: (16, 1)\n",
      "The y label value shape: (16, 1)\n"
     ]
    }
   ],
   "source": [
    "data_number = 1600\n",
    "batch_number = 16\n",
    "repeat_number = 1\n",
    "\n",
    "ds_train = create_dataset(data_number, batch_size=batch_number, repeat_size=repeat_number) \n",
    "print(\"The dataset size of ds_train:\", ds_train.get_dataset_size())\n",
    "dict_datasets = next(ds_train.create_dict_iterator())\n",
    "\n",
    "print(dict_datasets.keys())\n",
    "print(\"The x label value shape:\", dict_datasets[\"data\"].shape)\n",
    "print(\"The y label value shape:\", dict_datasets[\"label\"].shape)"
   ]
  },
  {
   "cell_type": "markdown",
   "id": "irish-strap",
   "metadata": {},
   "source": [
    "Use the defined `create_dataset` to perform argumentation on the generated 1600 data records and set them into 100 datasets with the shape of 16 x 1.\n",
    "\n",
    "## Defining the Training Network\n",
    "\n",
    "In MindSpore, use `nn.Dense` to generate a linear function model of single data input and single data output.\n",
    "\n",
    "$$f(x)=wx+b\\tag{1}$$\n",
    "\n",
    "Use the Normal operator to randomly initialize the weights $w$ and $b$."
   ]
  },
  {
   "cell_type": "code",
   "execution_count": 6,
   "id": "deadly-secretariat",
   "metadata": {},
   "outputs": [],
   "source": [
    "from mindspore.common.initializer import Normal\n",
    "from mindspore import nn\n",
    "\n",
    "class LinearNet(nn.Cell):\n",
    "    def __init__(self):\n",
    "        super(LinearNet, self).__init__()\n",
    "        self.fc = nn.Dense(1, 1, Normal(0.02), Normal(0.02))\n",
    "        \n",
    "    def construct(self, x):\n",
    "        x = self.fc(x)\n",
    "        return x"
   ]
  },
  {
   "cell_type": "markdown",
   "id": "better-planner",
   "metadata": {},
   "source": [
    "Call the network to view the initialized model parameters."
   ]
  },
  {
   "cell_type": "code",
   "execution_count": 7,
   "id": "documented-january",
   "metadata": {},
   "outputs": [
    {
     "name": "stdout",
     "output_type": "stream",
     "text": [
      "Parameter (name=fc.weight) [[-0.02573255]]\n",
      "Parameter (name=fc.bias) [0.01332773]\n"
     ]
    }
   ],
   "source": [
    "net = LinearNet()\n",
    "model_params = net.trainable_params()\n",
    "for param in model_params:\n",
    "    print(param, param.asnumpy())"
   ]
  },
  {
   "cell_type": "markdown",
   "id": "pleasant-bracelet",
   "metadata": {},
   "source": [
    "After initializing the network model, visualize the initialized network function and training dataset to understand the model function before fitting."
   ]
  },
  {
   "cell_type": "code",
   "execution_count": 8,
   "id": "twenty-smart",
   "metadata": {},
   "outputs": [
    {
     "data": {
      "image/png": "[encoded data removed]",
      "text/plain": [
       "<Figure size 432x288 with 1 Axes>"
      ]
     },
     "metadata": {
      "needs_background": "light"
     },
     "output_type": "display_data"
    }
   ],
   "source": [
    "from mindspore import Tensor\n",
    "\n",
    "x_model_label = np.array([-10, 10, 0.1])\n",
    "y_model_label = (x_model_label * Tensor(model_params[0]).asnumpy()[0][0] +\n",
    "                 Tensor(model_params[1]).asnumpy()[0])\n",
    "plt.axis([-10, 10, -20, 25])\n",
    "plt.scatter(x_eval_label, y_eval_label, color=\"red\", s=5)\n",
    "plt.plot(x_model_label, y_model_label, color=\"blue\")\n",
    "plt.plot(x_target_label, y_target_label, color=\"green\")\n",
    "plt.show()"
   ]
  },
  {
   "cell_type": "markdown",
   "id": "supposed-truck",
   "metadata": {},
   "source": [
    "As shown in the preceding figure, the initialized model function in blue differs greatly from the objective function in green.\n",
    "\n",
    "## Defining and Associating the Forward and Backward Propagation Networks\n",
    "\n",
    "Define the loss function of the model. The mean squared error (MSE) method is used to determine the fitting effect. The smaller the MSE value difference, the better the fitting effect. The loss function formula is as follows:\n",
    "\n",
    "$$J(w)=\\frac{1}{2m}\\sum_{i=1}^m(h(x_i)-y^{(i)})^2\\tag{2}$$\n",
    "\n",
    "Assuming that the $i$th data record in the training data is $(x_i,y^{(i)})$, parameters in formula 2 are described as follows:\n",
    "\n",
    "- $J(w)$ specifies the loss value.\n",
    "\n",
    "- $m$ specifies the amount of sample data. In this example, the value of $m$ is `batch_number`.\n",
    "\n",
    "- $h(x_i)$ is a predicted value obtained after the $x_i$ value of the $i$th data record is substituted into the model network (formula 1).\n",
    "\n",
    "- $y^{(i)}$ is the $y^{(i)}$ value (label value) of the $i$th data record.\n",
    "\n",
    "### Defining the Forward Propagation Network\n",
    "\n",
    "A forward propagation network consists of two parts:\n",
    "\n",
    "1. Bring parameters into the model network to obtain the predicted value.\n",
    "2. Use the predicted value and training data to compute the loss value.\n",
    "\n",
    "The following method is used in MindSpore:"
   ]
  },
  {
   "cell_type": "code",
   "execution_count": 9,
   "id": "irish-creativity",
   "metadata": {},
   "outputs": [],
   "source": [
    "net = LinearNet()\n",
    "net_loss = nn.loss.MSELoss()"
   ]
  },
  {
   "cell_type": "markdown",
   "id": "german-performance",
   "metadata": {},
   "source": [
    "### Defining the Backward Propagation Network\n",
    "\n",
    "The objective of the backward propagation network is to continuously change the weight value to obtain the minimum loss value. Generally, the weight update formula is used in the linear network:\n",
    "\n",
    "$$w_{t}=w_{t-1}-\\alpha\\frac{\\partial{J(w_{t-1})}}{\\partial{w}}\\tag{3}$$\n",
    "\n",
    "Parameters in formula 3 are described as follows:\n",
    "\n",
    "- $w_{t}$ indicates the weight after training steps.\n",
    "- $w_{t-1}$ indicates the weight before training steps.\n",
    "- $\\alpha$ indicates the learning rate.\n",
    "- $\\frac{\\partial{J(w_{t-1}\\ )}}{\\partial{w}}$ is the differentiation of the loss function to the weight $w_{t-1}$.\n",
    "\n",
    "After all weight values in the function are updated, transfer the values to the model function. This process is the backward propagation. To implement this process, the optimizer function in MindSpore is required."
   ]
  },
  {
   "cell_type": "code",
   "execution_count": 10,
   "id": "understood-organic",
   "metadata": {},
   "outputs": [],
   "source": [
    "opt = nn.Momentum(net.trainable_params(), learning_rate=0.005, momentum=0.9)"
   ]
  },
  {
   "cell_type": "markdown",
   "id": "confident-matthew",
   "metadata": {},
   "source": [
    "### Associating the Forward and Backward Propagation Networks\n",
    "\n",
    "After forward propagation and backward propagation are defined, call the `Model` function in MindSpore to associate the previously defined networks, loss functions, and optimizer function to form a complete computing network."
   ]
  },
  {
   "cell_type": "code",
   "execution_count": 11,
   "id": "accepted-photograph",
   "metadata": {},
   "outputs": [],
   "source": [
    "from mindspore import Model\n",
    "\n",
    "model = Model(net, net_loss, opt)"
   ]
  },
  {
   "cell_type": "markdown",
   "id": "civic-underwear",
   "metadata": {},
   "source": [
    "## Preparation for Fitting Process Visualization\n",
    "\n",
    "### Defining the Visualization Function\n",
    "\n",
    "To make the entire training process easier to understand, the test data, objective function, and model network of the training process need to be visualized. The following defines a visualization function which is called after each training step to display a fitting process of the model network."
   ]
  },
  {
   "cell_type": "code",
   "execution_count": 12,
   "id": "appreciated-pension",
   "metadata": {},
   "outputs": [],
   "source": [
    "import matplotlib.pyplot as plt\n",
    "import time\n",
    "\n",
    "def plot_model_and_datasets(net, eval_data):\n",
    "    weight = net.trainable_params()[0]\n",
    "    bias = net.trainable_params()[1]\n",
    "    x = np.arange(-10, 10, 0.1)\n",
    "    y = x * Tensor(weight).asnumpy()[0][0] + Tensor(bias).asnumpy()[0]\n",
    "    x1, y1 = zip(*eval_data)\n",
    "    x_target = x\n",
    "    y_target = x_target * 2 + 3\n",
    "\n",
    "    plt.axis([-11, 11, -20, 25])\n",
    "    plt.scatter(x1, y1, color=\"red\", s=5)\n",
    "    plt.plot(x, y, color=\"blue\")\n",
    "    plt.plot(x_target, y_target, color=\"green\")\n",
    "    plt.show()\n",
    "    time.sleep(0.2)"
   ]
  },
  {
   "cell_type": "markdown",
   "id": "nutritional-contrast",
   "metadata": {},
   "source": [
    "### Defining the Callback Function\n",
    "\n",
    "MindSpore provides tools to customize the model training process. The following calls the visualization function in `step_end` to display the fitting process. For more information, see [Customized Debugging Information](https://www.mindspore.cn/tutorial/training/en/master/advanced_use/custom_debugging_info.html#callback).\n",
    "\n",
    "- `display.clear_output`：Clear the printed content to achieve dynamic fitting effect."
   ]
  },
  {
   "cell_type": "code",
   "execution_count": 13,
   "id": "infinite-heritage",
   "metadata": {},
   "outputs": [],
   "source": [
    "from IPython import display\n",
    "from mindspore.train.callback import Callback\n",
    "\n",
    "class ImageShowCallback(Callback):\n",
    "    def __init__(self, net, eval_data):\n",
    "        self.net = net\n",
    "        self.eval_data = eval_data\n",
    "\n",
    "    def step_end(self, run_context):\n",
    "        plot_model_and_datasets(self.net, self.eval_data)\n",
    "        display.clear_output(wait=True)"
   ]
  },
  {
   "cell_type": "markdown",
   "id": "accompanied-static",
   "metadata": {},
   "source": [
    "## Performing Training\n",
    "\n",
    "After the preceding process is complete, use the training parameter `ds_train` to train the model. In this example, `model.train` is called. The parameters are described as follows:\n",
    "\n",
    "- `epoch`: Number of times that the entire dataset is trained.\n",
    "- `ds_train`: Training dataset.\n",
    "- `callbacks`: Required callback function during training.\n",
    "- `dataset_sink_mode`: Dataset offload mode, which supports the Ascend and GPU computing platforms. In this example, this parameter is set to False for the CPU computing platform."
   ]
  },
  {
   "cell_type": "code",
   "execution_count": 14,
   "id": "toxic-submission",
   "metadata": {},
   "outputs": [
    {
     "data": {
      "image/png": "[encoded data removed]",
      "text/plain": [
       "<Figure size 432x288 with 1 Axes>"
      ]
     },
     "metadata": {
      "needs_background": "light"
     },
     "output_type": "display_data"
    },
    {
     "name": "stdout",
     "output_type": "stream",
     "text": [
      "Parameter (name=fc.weight) [[2.0495164]]\n",
      "Parameter (name=fc.bias) [3.0472562]\n"
     ]
    }
   ],
   "source": [
    "from mindspore.train.callback import LossMonitor\n",
    "\n",
    "epoch = 1\n",
    "imageshow_cb = ImageShowCallback(net, eval_data)\n",
    "model.train(epoch, ds_train, callbacks=[imageshow_cb], dataset_sink_mode=False)\n",
    "\n",
    "plot_model_and_datasets(net, eval_data)\n",
    "for param in net.trainable_params():\n",
    "    print(param, param.asnumpy())"
   ]
  },
  {
   "cell_type": "markdown",
   "id": "changed-dayton",
   "metadata": {},
   "source": [
    "After the training is complete, the weight parameters of the final model are printed. The value of weight is close to 2.0 and the value of bias is close to 3.0. As a result, the model training meets the expectation.\n",
    "\n",
    "## Summary\n",
    "\n",
    "We have learned the principles of the linear fitting algorithm, defined the corresponding algorithms in the MindSpore framework, understood the training process of such linear fitting models in MindSpore, and finally fitted a model function close to the objective function. In addition, you can adjust the dataset generation interval from (-10,10) to (-100,100) to check whether the weight values are closer to those of the objective function; adjust the learning rate to check whether the fitting efficiency changes; or explore how to use MindSpore to fit quadratic functions, such as $f(x)=ax^2+bx+c$, or higher-order functions."
   ]
  }
 ],
 "metadata": {
  "kernelspec": {
   "display_name": "MindSpore-1.1.1",
   "language": "python",
   "name": "mindspore-1.1.1"
  },
  "language_info": {
   "codemirror_mode": {
    "name": "ipython",
    "version": 3
   },
   "file_extension": ".py",
   "mimetype": "text/x-python",
   "name": "python",
   "nbconvert_exporter": "python",
   "pygments_lexer": "ipython3",
   "version": "3.7.5"
  }
 },
 "nbformat": 4,
 "nbformat_minor": 5
}
