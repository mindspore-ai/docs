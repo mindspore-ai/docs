{
 "cells": [
  {
   "cell_type": "markdown",
   "metadata": {},
   "source": [
    "# JIT Fallback\n",
    "\n",
    "[![下载Notebook](https://mindspore-website.obs.cn-north-4.myhuaweicloud.com/website-images/master/resource/_static/logo_notebook.png)](https://mindspore-website.obs.cn-north-4.myhuaweicloud.com/notebook/master/tutorials/experts/zh_cn/network/mindspore_jit_fallback.ipynb)&emsp;[![下载样例代码](https://mindspore-website.obs.cn-north-4.myhuaweicloud.com/website-images/master/resource/_static/logo_download_code.png)](https://mindspore-website.obs.cn-north-4.myhuaweicloud.com/notebook/master/tutorials/experts/zh_cn/network/mindspore_jit_fallback.py)&emsp;[![查看源文件](https://mindspore-website.obs.cn-north-4.myhuaweicloud.com/website-images/master/resource/_static/logo_source.png)](https://gitee.com/mindspore/docs/blob/master/tutorials/experts/source_zh_cn/network/jit_fallback.ipynb)\n",
    "\n",
    "在MindSpore静态图模式下，用户编写程序时需要遵循MindSpore[静态图语法支持](https://www.mindspore.cn/docs/zh-CN/master/note/static_graph_syntax_support.html)，语法使用存在约束限制。而在动态图模式下，Python脚本代码会根据Python语法进行执行，用户可以使用任意Python语法。可以看出，静态图和动态图的语法约束限制是不同的。\n",
    "\n",
    "JIT Fallback是从静态图的角度出发考虑静态图和动态图的统一。通过JIT Fallback特性，静态图可以支持尽量多的动态图语法，使得静态图提供接近动态图的语法使用体验，从而实现动静统一。为了便于用户选择是否使用JIT Fallback特性的能力，提供了JIT语法支持级别选项`jit_syntax_level`，其值必须在[STRICT(0)，COMPATIBLE(1)，LAX(2)]范围内，默认值为LAX(2)。全部级别都支持所有后端。\n",
    "\n",
    "STRICT(0): 仅支持基础语法，且执行性能最佳。\n",
    "COMPATIBLE(1): 除支持基础语法外，还支持更多语法，如dict，list和scalar的操作等。\n",
    "LAX(2): 最大程度地兼容Python所有语法。执行性能可能会受影响，不是最佳。\n",
    "\n",
    "下面主要介绍JIT Fallback的支持范围和使用须知，以便您可以更有效地使用JIT Fallback功能。\n",
    "\n",
    "## 支持范围\n",
    "\n",
    "JIT Fallback特性还在持续完善中，下面列举出当前通过该特性已经支持的静态图编译语法。\n",
    "\n",
    "## 创建和使用Tensor\n",
    "\n",
    "JIT Fallback支持在静态图模式下创建和使用[Tensor](https://www.mindspore.cn/docs/zh-CN/master/api_python/mindspore/mindspore.Tensor.html)。\n",
    "\n",
    "代码用例如下，用例中的`Tensor(1, dtype=mstype.int32)`是通过JIT Fallback支持的。"
   ]
  },
  {
   "cell_type": "code",
   "execution_count": 7,
   "metadata": {
    "ExecuteTime": {
     "end_time": "2022-01-04T10:51:24.264847Z",
     "start_time": "2022-01-04T10:51:23.515957Z"
    }
   },
   "outputs": [
    {
     "name": "stdout",
     "output_type": "stream",
     "text": [
      "1"
     ]
    }
   ],
   "source": [
    "import mindspore.nn as nn\n",
    "import mindspore as ms\n",
    "\n",
    "class Net(nn.Cell):\n",
    "    def __init__(self):\n",
    "        super(Net, self).__init__()\n",
    "\n",
    "    def construct(self):\n",
    "        return ms.Tensor(1, dtype=ms.int32)\n",
    "\n",
    "ms.set_context(mode=ms.GRAPH_MODE)\n",
    "\n",
    "net = Net()\n",
    "print(net())"
   ]
  },
  {
   "cell_type": "markdown",
   "metadata": {},
   "source": [
    "上述例子，使用了Tensor类接口创建Tensor，有些情况下可能会需要创建运行时的Tensor，此时既可以采用上述类ms.Tensor接口来创建Tensor，也可以采用 [tensor函数接口](https://www.mindspore.cn/docs/zh-CN/master/api_python/mindspore/mindspore.tensor.html#mindspore.tensor)来创建Tensor，代码用例如下。"
   ]
  },
  {
   "cell_type": "code",
   "execution_count": 17,
   "metadata": {
    "scrolled": true
   },
   "outputs": [
    {
     "name": "stdout",
     "output_type": "stream",
     "text": [
      "1.0\n"
     ]
    }
   ],
   "source": [
    "import mindspore as ms\n",
    "import mindspore.nn as nn\n",
    "\n",
    "class Net(nn.Cell):\n",
    "    def __init__(self):\n",
    "        super(Net, self).__init__()\n",
    "\n",
    "    @ms.jit\n",
    "    def construct(self, x):\n",
    "        return ms.tensor(x.asnumpy(), dtype=ms.float32)\n",
    "\n",
    "ms.set_context(mode=ms.GRAPH_MODE)\n",
    "net = Net()\n",
    "x = ms.Tensor(1, dtype=ms.int32)\n",
    "print(net(x))\n"
   ]
  },
  {
   "cell_type": "markdown",
   "metadata": {},
   "source": [
    "## Annotation 标记\n",
    "\n",
    "对于Runtime时的JIT Fallback支持，会产生一些无法被类型推导出的节点，这种类型称为Any类型。因为该类型无法在编译时推导出正确的类型，所以这种Any将会以一种默认最大精度Float64进行运算，防止其精度丢失。为了能更好的优化相关性能，需要减少Any的产生。当用户可以明确知道当前通过JIT Fallback支持的语句会产生什么类型的时候，我们推荐使用`Annotation @jit.typing:`的方式进行指定对应Python语句类型，从而确定解释节点的类型避免Any类型的生成。\n",
    "\n",
    "例如，上述例子Tensor类和tensor接口的区别就在于在tensor接口内部运用了Annotation机制。当tensor函数的dtype确定时，函数内部会利用Annotation指定输出类型从而避免Any类型的产生。Annotation的使用只需要在对应Python语句上面或者后面加上注释 `# @jit.typing: () -> tensor_type[float32]` 即可，其中 `->` 后面的 `tensor_type[float32]` 指示了被注释的语句输出类型。\n",
    "\n",
    "代码用例如下。"
   ]
  },
  {
   "cell_type": "code",
   "execution_count": 4,
   "metadata": {},
   "outputs": [
    {
     "name": "stdout",
     "output_type": "stream",
     "text": [
      "y1 value is 2.0, dtype is Float32\n",
      "y2 value is 2.0, dtype is Float32\n",
      "y3 value is 2.0, dtype is Float64\n",
      "y4 value is 2.0, dtype is Float64\n"
     ]
    }
   ],
   "source": [
    "import mindspore as ms\n",
    "import mindspore.nn as nn\n",
    "from mindspore import ops, Tensor\n",
    "\n",
    "class Net(nn.Cell):\n",
    "    def __init__(self):\n",
    "        super(Net, self).__init__()\n",
    "        self.abs = ops.Abs()\n",
    "\n",
    "    @ms.jit\n",
    "    def construct(self, x, y):\n",
    "        y1 = ms.tensor(x.asnumpy() + y.asnumpy(), dtype=ms.float32)\n",
    "        y2 = ms.Tensor(x.asnumpy() + y.asnumpy(), dtype=ms.float32) # @jit.typing: () -> tensor_type[float32]\n",
    "        y3 = Tensor(x.asnumpy() + y.asnumpy())\n",
    "        y4 = Tensor(x.asnumpy() + y.asnumpy(), dtype=ms.float32)\n",
    "        return self.abs(y1), self.abs(y2), self.abs(y3), self.abs(y4)\n",
    "\n",
    "ms.set_context(mode=ms.GRAPH_MODE)\n",
    "net = Net()\n",
    "x = ms.Tensor(-1, dtype=ms.int32)\n",
    "y = ms.Tensor(-1, dtype=ms.float32)\n",
    "y1, y2, y3, y4 = net(x, y)\n",
    "\n",
    "print(f\"y1 value is {y1}, dtype is {y1.dtype}\")\n",
    "print(f\"y2 value is {y2}, dtype is {y2.dtype}\")\n",
    "print(f\"y3 value is {y3}, dtype is {y3.dtype}\")\n",
    "print(f\"y4 value is {y4}, dtype is {y4.dtype}\")"
   ]
  },
  {
   "cell_type": "markdown",
   "metadata": {},
   "source": [
    "上述例子，可以看到利用JIT Fallback Runtime创建了Tensor的相关区别。对于y3、y4，因为Tensor类没有增加Annotation指示，y3、y4没有办法推出正确的类型，导致只能按照最高精度Float64进行运算。\n",
    "对于y2，由于创建Tensor时，通过Annotation指定了JIT Fallback的对应类型，使得其类型可以按照指定类型进行运算。\n",
    "对于y1，由于使用了tensor函数接口创建Tensor，传入的dtype参数作为Annotation的指定类型，所以也避免了Any类型的产生。"
   ]
  },
  {
   "cell_type": "markdown",
   "metadata": {},
   "source": [
    "## 调用第三方库\n",
    "\n",
    "JIT Fallback支持在静态图模式下调用第三方库的对象和方法。\n",
    "\n",
    "需要说明的是，对于具有返回值的方法，需要使用变量来保存其结果，否则可能出现报错。这个用法将在后续版本中支持。\n",
    "\n",
    "调用第三方库的代码用例如下。用例调用了NumPy第三方库，其中`np.array([1, 2, 3])`和`np.array([4, 5, 6])`是通过JIT Fallback支持的。\n"
   ]
  },
  {
   "cell_type": "code",
   "execution_count": 8,
   "metadata": {
    "ExecuteTime": {
     "end_time": "2022-01-04T10:51:23.292278Z",
     "start_time": "2022-01-04T10:51:23.284465Z"
    }
   },
   "outputs": [
    {
     "name": "stdout",
     "output_type": "stream",
     "text": [
      "[5 7 9]"
     ]
    }
   ],
   "source": [
    "import numpy as np\n",
    "import mindspore as ms\n",
    "import mindspore.nn as nn\n",
    "\n",
    "# pylint: disable= W0235\n",
    "class Net(nn.Cell):\n",
    "    def __init__(self):\n",
    "        super(Net, self).__init__()\n",
    "\n",
    "    def construct(self):\n",
    "        a = np.array([1, 2, 3])\n",
    "        b = np.array([4, 5, 6])\n",
    "        c = a + b\n",
    "        return ms.Tensor(c)\n",
    "\n",
    "ms.set_context(mode=ms.GRAPH_MODE)\n",
    "net = Net()\n",
    "print(net())"
   ]
  },
  {
   "cell_type": "markdown",
   "metadata": {},
   "source": [
    "## 使用Python原生的print打印\n",
    "\n",
    "JIT Fallback支持在静态图模式下使用Python原生的print来打印常量，它与[Print算子](https://www.mindspore.cn/docs/zh-CN/master/api_python/ops/mindspore.ops.Print.html)打印信息的时机有所不同。Python原生print是在编译过程中触发打印（编译时阶段打印），而Print算子是需要图编译完成后，下发到设备端运行才打印（运行时阶段打印）。\n",
    "\n",
    "为了便于理解，举例如下。tensor_sum涉及Tensor相加，即运行时阶段才能得到结果，在调用print时，实际调用的是静态图模式中的Print算子，参考[静态图语法支持](https://www.mindspore.cn/docs/zh-CN/master/note/static_graph_syntax_support.html)。而np_num是由两个NumPy常量相加得到的结果，即通过JIT Fallback支持的用法，因此在调用print时，使用的是Python原生print。由于两者的打印时机不同，最终导致显示np_sum在tensor_sum之前，即通过JIT Fallback支持的Python原生print的打印结果会在Print算子之前。\n"
   ]
  },
  {
   "cell_type": "code",
   "execution_count": 9,
   "metadata": {
    "ExecuteTime": {
     "end_time": "2022-01-04T10:51:23.292278Z",
     "start_time": "2022-01-04T10:51:23.284465Z"
    }
   },
   "outputs": [
    {
     "name": "stdout",
     "output_type": "stream",
     "text": [
      "np_sum: [2 4 6 8 10]\n",
      "tensor_sum: (2, 4, 6, 8, 10)"
     ]
    }
   ],
   "source": [
    "import numpy as np\n",
    "import mindspore as ms\n",
    "import mindspore.nn as nn\n",
    "\n",
    "# pylint: disable= W0235\n",
    "class Net(nn.Cell):\n",
    "    def __init__(self):\n",
    "        super(Net, self).__init__()\n",
    "\n",
    "    def construct(self):\n",
    "        x = ms.Tensor(np.array([1, 2, 3, 4, 5]))\n",
    "        y = ms.Tensor(np.array([1, 2, 3, 4, 5]))\n",
    "        tensor_sum = x + y\n",
    "        print(\"tensor_sum: \", tensor_sum)\n",
    "        x = np.array([1, 2, 3, 4, 5])\n",
    "        y = np.array([1, 2, 3, 4, 5])\n",
    "        np_sum = x + y\n",
    "        print(\"np_sum: \", np_sum)\n",
    "        return tensor_sum, ms.Tensor(np_sum)\n",
    "\n",
    "ms.set_context(mode=ms.GRAPH_MODE)\n",
    "net = Net()\n",
    "net()"
   ]
  },
  {
   "attachments": {},
   "cell_type": "markdown",
   "metadata": {},
   "source": [
    "## 使用raise和assert\n",
    "\n",
    "JIT Fallback支持在静态图模式下使用raise和assert。\n",
    "\n",
    "支持使用raise，用例如下：\n",
    "\n",
    "```python\n",
    "\n",
    "import mindspore.nn as nn\n",
    "import mindspore as ms\n",
    "\n",
    "class Net(nn.Cell):\n",
    "    def __init__(self):\n",
    "        super(Net, self).__init__()\n",
    "\n",
    "    def construct(self, x, y):\n",
    "        if x <= y:\n",
    "            raise ValueError(\"x should be greater than y.\")\n",
    "        else:\n",
    "            x += 1\n",
    "        return x\n",
    "\n",
    "ms.set_context(mode=ms.GRAPH_MODE)\n",
    "net = Net()\n",
    "net(ms.Tensor(-2), ms.Tensor(-1))\n",
    "\n",
    "```"
   ]
  },
  {
   "attachments": {},
   "cell_type": "markdown",
   "metadata": {},
   "source": [
    "输出结果:\n",
    "\n",
    "```text\n",
    "\n",
    "ValueError: x should be greater than y.\n",
    "\n",
    "```"
   ]
  },
  {
   "attachments": {},
   "cell_type": "markdown",
   "metadata": {},
   "source": [
    "支持使用assert，用例如下：\n",
    "\n",
    "```python\n",
    "\n",
    "import mindspore.nn as nn\n",
    "import mindspore as ms\n",
    "\n",
    "class Net(nn.Cell):\n",
    "    def __init__(self):\n",
    "        super(Net, self).__init__()\n",
    "\n",
    "    def construct(self, x):\n",
    "        assert x in [2, 3, 4]\n",
    "        return x\n",
    "\n",
    "ms.set_context(mode=ms.GRAPH_MODE)\n",
    "net = Net()\n",
    "net(ms.Tensor(-1))\n",
    "\n",
    "```"
   ]
  },
  {
   "cell_type": "markdown",
   "metadata": {},
   "source": [
    "输出结果中正常出现:\n",
    "\n",
    "```text\n",
    "\n",
    "AssertionError.\n",
    "\n",
    "```"
   ]
  },
  {
   "cell_type": "markdown",
   "metadata": {},
   "source": [
    "## 调用Python内置函数\n",
    "\n",
    "MindSpore在静态图模式下已经支持了一些Python内置函数，包括但不限于len、isinstance、map、zip等，详情请参考[静态图语法支持](https://www.mindspore.cn/docs/zh-CN/master/note/static_graph_syntax_support.html)。通过JIT Fallback，可以在常量场景中支持更多的Python内置函数的用法。下面简单举例支持的部分Python内置函数。\n",
    "\n",
    "### dict()\n",
    "\n",
    "功能：用于创建一个字典。\n",
    "\n",
    "有效输入：字典的 Key 只支持 String 类型，Value 只支持常量，不支持自定义类。\n",
    "\n",
    "暂不支持对 `dict()` 创建的字典进行循环遍历，包括 `dict.keys()`、`dict.values()`、`dict.items()`。\n",
    "\n",
    "代码用例如下：\n"
   ]
  },
  {
   "cell_type": "code",
   "execution_count": 10,
   "metadata": {
    "ExecuteTime": {
     "end_time": "2022-01-04T10:51:23.292278Z",
     "start_time": "2022-01-04T10:51:23.284465Z"
    }
   },
   "outputs": [
    {
     "name": "stdout",
     "output_type": "stream",
     "text": [
      "a: {}\n",
      "b: {'a': 'a', 'b': 'b', 't': 't'}\n",
      "c: {'one': 1, 'two': 2, 'three': 3}\n",
      "d: {'one': 1, 'two': 2, 'three': 3}\n"
     ]
    }
   ],
   "source": [
    "import mindspore as ms\n",
    "\n",
    "@ms.jit\n",
    "def func():\n",
    "    a = dict()                                          # 创建空字典\n",
    "    b = dict(a='a', b='b', t='t')                       # 传入关键字\n",
    "    c = dict(zip(['one', 'two', 'three'], [1, 2, 3]))   # 映射函数方式来构造字典\n",
    "    d = dict([('one', 1), ('two', 2), ('three', 3)])    # 可迭代对象方式来构造字典\n",
    "    return a, b, c, d\n",
    "\n",
    "a, b, c, d = func()\n",
    "print(\"a: \", a)\n",
    "print(\"b: \", b)\n",
    "print(\"c: \", c)\n",
    "print(\"d: \", d)\n"
   ]
  },
  {
   "cell_type": "markdown",
   "metadata": {},
   "source": [
    "### type()\n",
    "\n",
    "功能：输出入参的类型。\n",
    "\n",
    "有效输入：Number、list、tuple、dict、np.array、常量Tensor。\n",
    "\n",
    "代码用例如下：\n"
   ]
  },
  {
   "cell_type": "code",
   "execution_count": 11,
   "metadata": {
    "ExecuteTime": {
     "end_time": "2022-01-04T10:51:23.292278Z",
     "start_time": "2022-01-04T10:51:23.284465Z"
    }
   },
   "outputs": [
    {
     "name": "stdout",
     "output_type": "stream",
     "text": [
      "a: <class 'int'>\n",
      "b: <class 'float'>\n",
      "c: <class 'list'>\n",
      "d: <class 'tuple'>\n",
      "e: <class 'dict'>\n",
      "f: <class 'numpy.ndarray'>\n",
      "g: <class 'mindspore.common.tensor.Tensor'>\n"
     ]
    }
   ],
   "source": [
    "import numpy as np\n",
    "import mindspore as ms\n",
    "\n",
    "@ms.jit\n",
    "def func():\n",
    "    a = type(1)\n",
    "    b = type(1.0)\n",
    "    c = type([1, 2, 3])\n",
    "    d = type((1, 2, 3))\n",
    "    e = type({'a': 1, 'b': 2})\n",
    "    f = type(np.array([1, 2, 3]))\n",
    "    g = type(ms.Tensor([1, 2, 3]))\n",
    "    return a, b, c, d, e, f, g\n",
    "\n",
    "a, b, c, d, e, f, g = func()\n",
    "print(\"a: \", a)\n",
    "print(\"b: \", b)\n",
    "print(\"c: \", c)\n",
    "print(\"d: \", d)\n",
    "print(\"e: \", e)\n",
    "print(\"f: \", f)\n",
    "print(\"g: \", g)\n"
   ]
  },
  {
   "attachments": {},
   "cell_type": "markdown",
   "metadata": {},
   "source": [
    "> type作为Python的原生函数还有另外一种使用方法，即type(name, bases, dict)返回name类型的类对象，由于该用法应用场景较少，因此暂不支持。"
   ]
  },
  {
   "attachments": {},
   "cell_type": "markdown",
   "metadata": {},
   "source": [
    "## 支持控制流\n",
    "\n",
    "为了提高Python标准语法支持度，实现动静统一，通过JIT Fallback实现控制流语句的使用。控制流语句是指if、for、while等流程控制语句。JIT Fallback特性已经支持在静态图模式下创建和使用Tensor，支持调用Numpy等第三方库创建使用常量和变量以及支持部分Python内置函数。理论上，通过JIT Fallback支持的语法，在控制流场景中也支持。\n",
    "代码用例如下：\n"
   ]
  },
  {
   "cell_type": "code",
   "execution_count": null,
   "metadata": {
    "ExecuteTime": {
     "end_time": "2022-01-04T10:51:23.292278Z",
     "start_time": "2022-01-04T10:51:23.284465Z"
    }
   },
   "outputs": [
    {
     "name": "stdout",
     "output_type": "stream",
     "text": [
      "res: 2\n"
     ]
    }
   ],
   "source": [
    "import numpy as np\n",
    "import mindspore as ms\n",
    "\n",
    "@ms.jit\n",
    "def func():\n",
    "    x = np.array(1)\n",
    "    if x <= 1:\n",
    "        x += 1\n",
    "    return ms.Tensor(x)\n",
    "\n",
    "res = func()\n",
    "print(\"res: \", res)\n"
   ]
  },
  {
   "attachments": {},
   "cell_type": "markdown",
   "metadata": {},
   "source": [
    "## 支持运行时(Runtime)阶段的JIT Fallback\n",
    "\n",
    "JIT Fallback处理不支持的语法表达式时，将会生成相应的节点，常量会在编译时阶段推导出值，否则这些节点将传递到后端运行时，在后端通过Python的能力执行得到结果。示例代码如下，`np.add(x, y)`会生成相应节点，作为函数的返回值将会传递到运行时，当前已支持部分场景下的运行时阶段的JIT Fallback。\n"
   ]
  },
  {
   "cell_type": "code",
   "execution_count": null,
   "metadata": {},
   "outputs": [
    {
     "name": "stdout",
     "output_type": "stream",
     "text": [
      "[ 2  4  6  8  10]\n"
     ]
    }
   ],
   "source": [
    "import numpy as np\n",
    "import mindspore as ms\n",
    "\n",
    "@ms.jit\n",
    "def test_np_add():\n",
    "    x = np.array([1, 2, 3, 4, 5])\n",
    "    y = np.array([1, 2, 3, 4, 5])\n",
    "    return np.add(x, y)\n",
    "\n",
    "np_add_res = test_np_add()\n",
    "print(np_add_res)"
   ]
  },
  {
   "attachments": {},
   "cell_type": "markdown",
   "metadata": {},
   "source": [
    "## 顶层图支持返回list、dict、scalar、none等基础类型\n",
    "\n",
    "### 顶层图支持返回list\n"
   ]
  },
  {
   "cell_type": "code",
   "execution_count": null,
   "metadata": {},
   "outputs": [
    {
     "name": "stdout",
     "output_type": "stream",
     "text": [
      "[1, \"a\", True, None, Tensor([2])]\n"
     ]
    }
   ],
   "source": [
    "import mindspore as ms\n",
    "\n",
    "@ms.jit\n",
    "def test_return_list():\n",
    "    return [1, \"a\", True, None, ms.Tensor([2])]\n",
    "\n",
    "res = test_return_list()\n",
    "print(res)"
   ]
  },
  {
   "attachments": {},
   "cell_type": "markdown",
   "metadata": {},
   "source": [
    "### 顶层图支持返回dict"
   ]
  },
  {
   "cell_type": "code",
   "execution_count": null,
   "metadata": {},
   "outputs": [
    {
     "name": "stdout",
     "output_type": "stream",
     "text": [
      "{'a': ms.Tensor(np.array(1), ms.int64)}\n"
     ]
    }
   ],
   "source": [
    "import mindspore as ms\n",
    "\n",
    "@ms.jit\n",
    "def test_return_dict():\n",
    "    x = {'a': 1, 'b': 2}\n",
    "    y = x.get('a')\n",
    "    y_tensor = ms.Tensor([y])\n",
    "    z = dict(a=y_tensor)\n",
    "    return z\n",
    "\n",
    "res = test_return_dict()\n",
    "print(res)"
   ]
  },
  {
   "attachments": {},
   "cell_type": "markdown",
   "metadata": {},
   "source": [
    "### 顶层图支持返回scalar"
   ]
  },
  {
   "cell_type": "code",
   "execution_count": null,
   "metadata": {},
   "outputs": [
    {
     "name": "stdout",
     "output_type": "stream",
     "text": [
      "3\n"
     ]
    }
   ],
   "source": [
    "import mindspore as ms\n",
    "\n",
    "@ms.jit\n",
    "def test_return_scalar(x, y):\n",
    "    return x + y\n",
    "\n",
    "res = test_return_scalar(ms.mutable(1), ms.mutable(2))\n",
    "print(res)"
   ]
  },
  {
   "attachments": {},
   "cell_type": "markdown",
   "metadata": {},
   "source": [
    "### 顶层图支持返回None"
   ]
  },
  {
   "cell_type": "code",
   "execution_count": null,
   "metadata": {},
   "outputs": [
    {
     "name": "stdout",
     "output_type": "stream",
     "text": [
      "(1, 'a', None)\n"
     ]
    }
   ],
   "source": [
    "import mindspore as ms\n",
    "\n",
    "@ms.jit\n",
    "def test_return_none():\n",
    "    return 1, \"a\", None\n",
    "\n",
    "res = test_return_none()\n",
    "print(res)"
   ]
  },
  {
   "attachments": {},
   "cell_type": "markdown",
   "metadata": {},
   "source": [
    "## 使用须知\n",
    "\n",
    "在使用JIT Fallback时，请注意以下几点：\n",
    "\n",
    "1.JIT Fallback对标动态图的支持能力，须在动态图语法范围内，包括但不限于数据类型等。\n",
    "\n",
    "2.当前常量控制流场景中暂不支持对Numpy Array数据的取下标赋值，错误的代码用例如下：\n",
    "\n",
    "```python\n",
    "\n",
    "import numpy as np\n",
    "import mindspore as ms\n",
    "\n",
    "@ms.jit\n",
    "def func():\n",
    "    x = np.array([1, 2, 3])\n",
    "    x[0] += 1\n",
    "    return ms.Tensor(x)\n",
    "\n",
    "res = func()\n",
    "print(\"res: \", res)\n",
    "\n",
    "```"
   ]
  },
  {
   "attachments": {},
   "cell_type": "markdown",
   "metadata": {},
   "source": [
    "报错信息如下:\n",
    "\n",
    "```text\n",
    "\n",
    "RuntimeError: For operation 'setitem', current input arguments types are <External, Number, Number>. The 1-th argument type 'External' is not supported now.\n",
    "\n",
    "```"
   ]
  }
 ],
 "metadata": {
  "kernelspec": {
   "display_name": "MindSpore",
   "language": "python",
   "name": "mindspore"
  },
  "language_info": {
   "codemirror_mode": {
    "name": "ipython",
    "version": 3
   },
   "file_extension": ".py",
   "mimetype": "text/x-python",
   "name": "python",
   "nbconvert_exporter": "python",
   "pygments_lexer": "ipython3",
   "version": "3.7.5"
  }
 },
 "nbformat": 4,
 "nbformat_minor": 4
}
