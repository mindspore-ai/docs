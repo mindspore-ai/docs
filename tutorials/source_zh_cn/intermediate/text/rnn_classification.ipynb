{
 "cells": [
  {
   "cell_type": "markdown",
   "metadata": {},
   "source": [
    "# 使用字符级RNN分类名称\n",
    "\n",
    "[![](https://gitee.com/mindspore/docs/raw/r1.2/resource/_static/logo_source.png)](https://gitee.com/mindspore/docs/blob/r1.2/tutorials/source_zh_cn/intermediate/text/rnn_classification.ipynb)&emsp;[![](https://gitee.com/mindspore/docs/raw/r1.2/resource/_static/logo_notebook.png)](https://mindspore-website.obs.cn-north-4.myhuaweicloud.com/notebook/r1.2/quick_start/mindspore_rnn_classification.ipynb)&emsp;[![](https://gitee.com/mindspore/docs/raw/r1.2/resource/_static/logo_modelarts.png)](https://authoring-modelarts-cnnorth4.huaweicloud.com/console/lab?share-url-b64=aHR0cHM6Ly9taW5kc3BvcmUtd2Vic2l0ZS5vYnMuY24tbm9ydGgtNC5teWh1YXdlaWNsb3VkLmNvbS9ub3RlYm9vay9tYXN0ZXIvdHV0b3JpYWxzL3poX2NuL21pbmRzcG9yZV9ybm5fY2xhc3NpZmljYXRpb24uaXB5bmI=&imageid=65f636a0-56cf-49df-b941-7d2a07ba8c8c)"
   ]
  },
  {
   "cell_type": "markdown",
   "metadata": {},
   "source": [
    "## 概述"
   ]
  },
  {
   "cell_type": "markdown",
   "metadata": {},
   "source": [
    "循环神经网络（Recurrent Neural Network, RNN）是一类以序列（sequence）数据为输入，在序列的演进方向进行递归（recursion）且所有节点（循环单元）按链式连接的递归神经网络（recursive neural network），常用于NLP领域当中来解决序列化数据的建模问题。\n",
    "\n",
    "本教程我们将建立和训练基本的字符级RNN模型对单词进行分类，以帮助理解循环神经网络原理。实验中，我们将训练来自18种语言的数千种姓氏，并根据拼写内容预测名称的来源。"
   ]
  },
  {
   "cell_type": "markdown",
   "metadata": {},
   "source": [
    "## 准备环节"
   ]
  },
  {
   "cell_type": "markdown",
   "metadata": {},
   "source": [
    "### 环境配置"
   ]
  },
  {
   "cell_type": "markdown",
   "metadata": {},
   "source": [
    "我们使用`PyNative`模式运行实验，使用Ascend环境。"
   ]
  },
  {
   "cell_type": "code",
   "execution_count": 1,
   "metadata": {},
   "outputs": [],
   "source": [
    "from mindspore import context\n",
    "\n",
    "context.set_context(mode=context.PYNATIVE_MODE, device_target=\"Ascend\")"
   ]
  },
  {
   "cell_type": "markdown",
   "metadata": {},
   "source": [
    "### 准备数据\n",
    "\n",
    "数据集是来自18种语言的数千种姓氏，点击[这里](https://mindspore-website.obs.cn-north-4.myhuaweicloud.com/notebook/datasets/intermediate/data.zip)下载数据，并将其提取到当前目录。\n",
    "\n",
    "数据集目录结构为`data/names`，目录中包含 18 个文本文件，名称为`[Language].txt`。 每个文件包含一系列名称，每行一个名称。数据大多数是罗马化的，需要将其从Unicode转换为ASCII。\n",
    "\n",
    "可在Jupyter Notebook中执行以下代码完成数据集的下载，并将数据集解压完成。"
   ]
  },
  {
   "cell_type": "code",
   "execution_count": 2,
   "metadata": {},
   "outputs": [],
   "source": [
    "!wget -N https://mindspore-website.obs.cn-north-4.myhuaweicloud.com/notebook/datasets/intermediate/data.zip\n",
    "!unzip -n data.zip"
   ]
  },
  {
   "cell_type": "markdown",
   "metadata": {},
   "source": [
    "## 数据处理"
   ]
  },
  {
   "cell_type": "markdown",
   "metadata": {},
   "source": [
    "- 导入模块。"
   ]
  },
  {
   "cell_type": "code",
   "execution_count": 3,
   "metadata": {},
   "outputs": [],
   "source": [
    "from io import open\n",
    "import glob\n",
    "import os\n",
    "import unicodedata\n",
    "import string"
   ]
  },
  {
   "cell_type": "markdown",
   "metadata": {},
   "source": [
    "- 定义`find_files`函数，查找符合通配符要求的文件。"
   ]
  },
  {
   "cell_type": "code",
   "execution_count": 4,
   "metadata": {},
   "outputs": [
    {
     "name": "stdout",
     "output_type": "stream",
     "text": [
      "['data/names/German.txt', 'data/names/Dutch.txt', 'data/names/English.txt', 'data/names/Italian.txt', 'data/names/Vietnamese.txt', 'data/names/Portuguese.txt', 'data/names/Korean.txt', 'data/names/Spanish.txt', 'data/names/French.txt', 'data/names/Russian.txt', 'data/names/Greek.txt', 'data/names/Arabic.txt', 'data/names/Irish.txt', 'data/names/Chinese.txt', 'data/names/Czech.txt', 'data/names/Polish.txt', 'data/names/Japanese.txt', 'data/names/Scottish.txt']\n"
     ]
    }
   ],
   "source": [
    "def find_files(path): \n",
    "    return glob.glob(path)\n",
    "\n",
    "print(find_files('data/names/*.txt'))"
   ]
  },
  {
   "cell_type": "markdown",
   "metadata": {},
   "source": [
    "- 定义`unicode_to_ascii`函数，将Unicode转换为ASCII。"
   ]
  },
  {
   "cell_type": "code",
   "execution_count": 5,
   "metadata": {},
   "outputs": [
    {
     "name": "stdout",
     "output_type": "stream",
     "text": [
      "Belanger\n"
     ]
    }
   ],
   "source": [
    "all_letters = string.ascii_letters + \" .,;'\"\n",
    "n_letters = len(all_letters)\n",
    "\n",
    "def unicode_to_ascii(s):\n",
    "    return ''.join(\n",
    "        c for c in unicodedata.normalize('NFD', s)\n",
    "        if unicodedata.category(c) != 'Mn'\n",
    "        and c in all_letters\n",
    "    )\n",
    "\n",
    "print(unicode_to_ascii('Bélanger'))"
   ]
  },
  {
   "cell_type": "markdown",
   "metadata": {},
   "source": [
    "- 定义`read_lines`函数，读取文件，并将文件每一行内容的编码转换为ASCII。"
   ]
  },
  {
   "cell_type": "code",
   "execution_count": 6,
   "metadata": {},
   "outputs": [],
   "source": [
    "def read_lines(filename):\n",
    "    lines = open(filename, encoding='utf-8').read().strip().split('\\n')\n",
    "    return [unicode_to_ascii(line) for line in lines]"
   ]
  },
  {
   "cell_type": "markdown",
   "metadata": {},
   "source": [
    "定义`category_lines`字典和`all_categories`列表。\n",
    "- `category_lines`：key为语言的类别，value为名称的列表。\n",
    "- `all_categories`：所有语言的种类。"
   ]
  },
  {
   "cell_type": "code",
   "execution_count": 7,
   "metadata": {},
   "outputs": [],
   "source": [
    "category_lines = {}\n",
    "all_categories = []\n",
    "\n",
    "for filename in find_files('data/names/*.txt'):\n",
    "    category = os.path.splitext(os.path.basename(filename))[0]\n",
    "    all_categories.append(category)\n",
    "    lines = read_lines(filename)\n",
    "    category_lines[category] = lines\n",
    "\n",
    "n_categories = len(all_categories)"
   ]
  },
  {
   "cell_type": "markdown",
   "metadata": {},
   "source": [
    "- 将语言为Italian，内容为前5行的数据进行打印显示。"
   ]
  },
  {
   "cell_type": "code",
   "execution_count": 8,
   "metadata": {},
   "outputs": [
    {
     "name": "stdout",
     "output_type": "stream",
     "text": [
      "['Abel', 'Abraham', 'Adam', 'Albert', 'Allard']\n"
     ]
    }
   ],
   "source": [
    "print(category_lines['French'][:5])"
   ]
  },
  {
   "cell_type": "markdown",
   "metadata": {},
   "source": [
    "## 将名称转换为向量"
   ]
  },
  {
   "cell_type": "markdown",
   "metadata": {},
   "source": [
    "因为字符无法进行数学运算，所以需要将名称转变为向量。\n",
    "\n",
    "为了表示单个字母，我们使用大小为`<1 x n_letters>`的one-hot向量，因为将离散型特征使用one-hot编码，会让特征之间的距离计算更加合理。\n",
    "\n",
    "> one-hot向量用0填充，但当前字母的索引处的数字为1，例如 `\"b\" = <0 1 0 0 0 ...>`。\n",
    "\n",
    "为了组成单词，我们将其中的一些向量连接成2D矩阵`<line_length x 1 x n_letters>`。"
   ]
  },
  {
   "cell_type": "markdown",
   "metadata": {},
   "source": [
    "- 导入模块"
   ]
  },
  {
   "cell_type": "code",
   "execution_count": 9,
   "metadata": {},
   "outputs": [],
   "source": [
    "import numpy as np\n",
    "\n",
    "from mindspore import Tensor\n",
    "from mindspore import dtype as mstype"
   ]
  },
  {
   "cell_type": "markdown",
   "metadata": {},
   "source": [
    "- 定义`letter_to_index`函数，从`all_letters`列表中查找字母索引。"
   ]
  },
  {
   "cell_type": "code",
   "execution_count": 10,
   "metadata": {},
   "outputs": [],
   "source": [
    "def letter_to_index(letter):\n",
    "    return all_letters.find(letter)"
   ]
  },
  {
   "cell_type": "markdown",
   "metadata": {},
   "source": [
    "- 定义`letter_to_tensor`函数，将字母转换成维度是`<1 x n_letters>`的one-hot向量。"
   ]
  },
  {
   "cell_type": "code",
   "execution_count": 11,
   "metadata": {},
   "outputs": [],
   "source": [
    "def letter_to_tensor(letter):\n",
    "    tensor = Tensor(np.zeros((1, n_letters)),mstype.float32)\n",
    "    tensor[0,letter_to_index(letter)] = 1.0\n",
    "    return tensor"
   ]
  },
  {
   "cell_type": "markdown",
   "metadata": {},
   "source": [
    "- 定义`line_to_tensor`函数，将一行转化为`<line_length x 1 x n_letters>`的one-hot向量。"
   ]
  },
  {
   "cell_type": "code",
   "execution_count": 12,
   "metadata": {},
   "outputs": [],
   "source": [
    "def line_to_tensor(line):\n",
    "    tensor = Tensor(np.zeros((len(line), 1, n_letters)),mstype.float32)\n",
    "    for li, letter in enumerate(line):\n",
    "        tensor[li,0,letter_to_index(letter)] = 1.0\n",
    "    return tensor"
   ]
  },
  {
   "cell_type": "markdown",
   "metadata": {},
   "source": [
    "- 分别将字母A和单词Alex转换为one-hot向量，并打印显示。"
   ]
  },
  {
   "cell_type": "code",
   "execution_count": 13,
   "metadata": {},
   "outputs": [
    {
     "name": "stdout",
     "output_type": "stream",
     "text": [
      "[[0. 0. 0. 0. 0. 0. 0. 0. 0. 0. 0. 0. 0. 0. 0. 0. 0. 0. 0. 0. 0. 0. 0. 0.\n",
      "  0. 0. 1. 0. 0. 0. 0. 0. 0. 0. 0. 0. 0. 0. 0. 0. 0. 0. 0. 0. 0. 0. 0. 0.\n",
      "  0. 0. 0. 0. 0. 0. 0. 0. 0.]]\n",
      "(4, 1, 57)\n"
     ]
    }
   ],
   "source": [
    "print(letter_to_tensor('A'))\n",
    "print(line_to_tensor('Alex').shape)"
   ]
  },
  {
   "cell_type": "markdown",
   "metadata": {},
   "source": [
    "## 创建网络\n",
    "\n",
    "创建的RNN网络只有`i2o`和`i2h`两个线性层，它们在输入`input`和隐藏状态`hidden`下运行，在线性层`i2o`的输出之后是`LogSoftmax`层。其中，网络结构如图所示。\n",
    "\n",
    "![rnn](images/run1.png)"
   ]
  },
  {
   "cell_type": "code",
   "execution_count": 14,
   "metadata": {},
   "outputs": [],
   "source": [
    "from mindspore import nn, ops\n",
    "\n",
    "class RNN(nn.Cell):\n",
    "    def __init__(self, input_size, hidden_size, output_size):\n",
    "        super(RNN, self).__init__()\n",
    "        self.hidden_size = hidden_size\n",
    "        self.i2h = nn.Dense(input_size + hidden_size, hidden_size)\n",
    "        self.i2o = nn.Dense(input_size + hidden_size, output_size)\n",
    "        self.softmax = nn.LogSoftmax(axis=1)\n",
    "\n",
    "    def construct(self, input, hidden):\n",
    "        op = ops.Concat(axis=1)\n",
    "        combined = op((input, hidden))\n",
    "        hidden = self.i2h(combined)\n",
    "        output = self.i2o(combined)\n",
    "        output = self.softmax(output)\n",
    "        return output, hidden\n",
    "\n",
    "    def initHidden(self):\n",
    "        return Tensor(np.zeros((1, self.hidden_size)),mstype.float32)\n",
    "       \n",
    "n_hidden = 128\n",
    "rnn = RNN(n_letters, n_hidden, n_categories)"
   ]
  },
  {
   "cell_type": "markdown",
   "metadata": {},
   "source": [
    "要运行此网络，我们需要输入代表当前字母的one-hot向量，以及上一个字母输出的隐藏状态（将隐藏状态初始化为0）。此网络将输出属于每种语言的概率和下一个字母需要输入的隐藏状态。"
   ]
  },
  {
   "cell_type": "code",
   "execution_count": 15,
   "metadata": {},
   "outputs": [],
   "source": [
    "input = letter_to_tensor('A')\n",
    "hidden = Tensor(np.zeros((1, n_hidden)), mstype.float32)\n",
    "output, next_hidden = rnn(input, hidden)"
   ]
  },
  {
   "cell_type": "markdown",
   "metadata": {},
   "source": [
    "为了提高效率，避免在每一步中都创建一个新向量，因此将使用`line_to_tensor`而不是`letter_to_tensor`，同时采取切片操作。"
   ]
  },
  {
   "cell_type": "code",
   "execution_count": 16,
   "metadata": {},
   "outputs": [
    {
     "name": "stdout",
     "output_type": "stream",
     "text": [
      "[[-2.893743  -2.8924723 -2.8802812 -2.884685  -2.8995385 -2.8837736\n",
      "  -2.9037814 -2.8999913 -2.8988907 -2.894345  -2.901554  -2.8825603\n",
      "  -2.8956528 -2.8768175 -2.8908525 -2.8856812 -2.8936315 -2.8692   ]]\n"
     ]
    }
   ],
   "source": [
    "input = line_to_tensor('Albert')\n",
    "hidden = Tensor(np.zeros((1, n_hidden)), mstype.float32)\n",
    "output, next_hidden = rnn(input[0], hidden)\n",
    "print(output)"
   ]
  },
  {
   "cell_type": "markdown",
   "metadata": {},
   "source": [
    "可以看到，输出为`<1 x n_categories>`形式的向量，其中每个数字都代表了分类的可能性。"
   ]
  },
  {
   "cell_type": "markdown",
   "metadata": {},
   "source": [
    "## 训练\n",
    "\n",
    "### 准备训练\n",
    "\n",
    "- 定义`category_from_output`函数，获得网络模型输出的最大值，也就是分类类别概率为最大的类别。"
   ]
  },
  {
   "cell_type": "code",
   "execution_count": 17,
   "metadata": {},
   "outputs": [
    {
     "name": "stdout",
     "output_type": "stream",
     "text": [
      "('Scottish', 17)\n"
     ]
    }
   ],
   "source": [
    "def category_from_output(output):\n",
    "    topk = ops.TopK(sorted=True)\n",
    "    top_n, top_i = topk(output, 1)\n",
    "    category_i = top_i.asnumpy().item(0)\n",
    "    return all_categories[category_i], category_i\n",
    "\n",
    "print(category_from_output(output))"
   ]
  },
  {
   "cell_type": "markdown",
   "metadata": {},
   "source": [
    "- 通过`random_training`函数随机选择一种语言和其中一个名称作为训练数据。"
   ]
  },
  {
   "cell_type": "code",
   "execution_count": 18,
   "metadata": {},
   "outputs": [
    {
     "name": "stdout",
     "output_type": "stream",
     "text": [
      "category = Polish / line = Dziedzic\n",
      "category = Japanese / line = Nagano\n",
      "category = Russian / line = Harlampovich\n",
      "category = Korean / line = Youj\n",
      "category = Greek / line = Horiatis\n",
      "category = Polish / line = Warszawski\n",
      "category = Italian / line = Barsetti\n",
      "category = Spanish / line = Cuellar\n",
      "category = English / line = Feetham\n",
      "category = Japanese / line = Okita\n"
     ]
    }
   ],
   "source": [
    "import random\n",
    "\n",
    "# 随机选择\n",
    "def random_choice(l):\n",
    "    return l[random.randint(0, len(l) - 1)]\n",
    "\n",
    "# 随机选择一种语言和一个名称\n",
    "def random_training():\n",
    "    category = random_choice(all_categories)\n",
    "    line = random_choice(category_lines[category])\n",
    "    category_tensor = Tensor([all_categories.index(category)], mstype.int32)\n",
    "    line_tensor = line_to_tensor(line)\n",
    "    return category, line, category_tensor, line_tensor\n",
    "\n",
    "# 随机选10组\n",
    "for i in range(10):\n",
    "    category, line, category_tensor, line_tensor = random_training()\n",
    "    print('category =', category, '/ line =', line)"
   ]
  },
  {
   "cell_type": "markdown",
   "metadata": {},
   "source": [
    "### 训练网络"
   ]
  },
  {
   "cell_type": "markdown",
   "metadata": {},
   "source": [
    "- 定义`NLLLoss`损失函数。"
   ]
  },
  {
   "cell_type": "code",
   "execution_count": 19,
   "metadata": {},
   "outputs": [],
   "source": [
    "import mindspore.ops.operations as P\n",
    "from mindspore.nn.loss.loss import _Loss\n",
    "from mindspore.ops import functional as F\n",
    "\n",
    "class NLLLoss(_Loss):\n",
    "    def __init__(self, reduction='mean'):\n",
    "        super(NLLLoss, self).__init__(reduction)\n",
    "        self.one_hot = P.OneHot()\n",
    "        self.reduce_sum = P.ReduceSum()\n",
    "\n",
    "    def construct(self, logits, label):\n",
    "        label_one_hot = self.one_hot(label, F.shape(logits)[-1], F.scalar_to_array(1.0), F.scalar_to_array(0.0))\n",
    "        loss = self.reduce_sum(-1.0 * logits * label_one_hot, (1,))\n",
    "        return self.get_loss(loss)"
   ]
  },
  {
   "cell_type": "code",
   "execution_count": 20,
   "metadata": {},
   "outputs": [],
   "source": [
    "criterion = NLLLoss()"
   ]
  },
  {
   "cell_type": "markdown",
   "metadata": {},
   "source": [
    "每个循环训练将会执行下面几个步骤：\n",
    "\n",
    "- 创建输入和目标向量\n",
    "- 初始化隐藏状态\n",
    "- 学习每个字母并保存下一个字母的隐藏状态\n",
    "- 比较最终输出与目标值\n",
    "- 反向传播梯度变化\n",
    "- 返回输出和损失值"
   ]
  },
  {
   "cell_type": "markdown",
   "metadata": {},
   "source": [
    "- MindSpore将损失函数，优化器等操作都封装到了Cell中，但是本教程的rnn网络需要循环一个序列长度之后再求损失，所以我们需要自定义`WithLossCellRnn`类，将网络和Loss连接起来。"
   ]
  },
  {
   "cell_type": "code",
   "execution_count": 21,
   "metadata": {},
   "outputs": [],
   "source": [
    "class WithLossCellRnn(nn.Cell):\n",
    "    def __init__(self, backbone, loss_fn):\n",
    "        super(WithLossCellRnn, self).__init__(auto_prefix=True)\n",
    "        self._backbone = backbone\n",
    "        self._loss_fn = loss_fn\n",
    "\n",
    "    def construct(self, line_tensor, hidden, category_tensor):\n",
    "        for i in range(line_tensor.shape[0]):\n",
    "            output, hidden = self._backbone(line_tensor[i], hidden)\n",
    "        return self._loss_fn(output, category_tensor)"
   ]
  },
  {
   "cell_type": "markdown",
   "metadata": {},
   "source": [
    "- 创建优化器、`WithLossCellRnn`实例和`TrainOneStepCell`训练网络。"
   ]
  },
  {
   "cell_type": "code",
   "execution_count": 22,
   "metadata": {},
   "outputs": [],
   "source": [
    "rnn_cf = RNN(n_letters, n_hidden, n_categories)\n",
    "optimizer = nn.Momentum(filter(lambda x: x.requires_grad, rnn_cf.get_parameters()), 0.001, 0.9)\n",
    "net_with_criterion = WithLossCellRnn(rnn_cf, criterion)\n",
    "net = nn.TrainOneStepCell(net_with_criterion, optimizer)\n",
    "net.set_train()\n",
    "\n",
    "# 训练网路\n",
    "def train(category_tensor, line_tensor):\n",
    "    hidden = rnn_cf.initHidden()\n",
    "    loss = net(line_tensor, hidden, category_tensor)\n",
    "    for i in range(line_tensor.shape[0]):\n",
    "        output, hidden = rnn_cf(line_tensor[i], hidden)\n",
    "    return output, loss"
   ]
  },
  {
   "cell_type": "markdown",
   "metadata": {},
   "source": [
    "- 为了跟踪网络模型训练过程中的耗时，定义`time_since`函数，用来计算训练运行的时间，方便我们持续看到训练的整个过程。"
   ]
  },
  {
   "cell_type": "code",
   "execution_count": 23,
   "metadata": {},
   "outputs": [],
   "source": [
    "import time\n",
    "import math\n",
    "\n",
    "n_iters = 10000\n",
    "print_every = 500\n",
    "plot_every = 100\n",
    "current_loss = 0\n",
    "all_losses = []\n",
    "\n",
    "def time_since(since):\n",
    "    now = time.time()\n",
    "    s = now - since\n",
    "    m = math.floor(s / 60)\n",
    "    s -= m * 60\n",
    "    return '%dm %ds' % (m, s)"
   ]
  },
  {
   "cell_type": "markdown",
   "metadata": {},
   "source": [
    "- 通过`print_every`（500）次迭代就打印一次，分别打印迭代次数、迭代进度、迭代所用时间、损失值、语言名称、预测语言类型、是否正确，其中通过✓、✗来表示模型判断的正误。同时，根据`plot_every`的值计算平均损失，将其添加进`all_losses`列表，以便于后面绘制训练过程中损失函数的图像。"
   ]
  },
  {
   "cell_type": "code",
   "execution_count": 24,
   "metadata": {},
   "outputs": [
    {
     "name": "stdout",
     "output_type": "stream",
     "text": [
      "500 5% (0m 56s) 2.8811955 Cheng / Korean ✗ (Chinese)\n",
      "1000 10% (1m 47s) 2.8138192 Glennon / Russian ✗ (English)\n",
      "1500 15% (2m 37s) 2.7881339 Marugo / Italian ✗ (Japanese)\n",
      "2000 20% (3m 29s) 2.9860206 O'Meara / Japanese ✗ (Irish)\n",
      "2500 25% (4m 18s) 2.857955 Wen / Irish ✗ (Chinese)\n",
      "3000 30% (5m 12s) 2.411959 O'Hannigain / Irish ✓\n",
      "3500 35% (6m 28s) 2.1828568 Hishikawa / Japanese ✓\n",
      "4000 40% (7m 17s) 2.5861049 Kennedy / Irish ✓\n",
      "4500 45% (9m 45s) 3.1115925 La / Japanese ✗ (Vietnamese)\n",
      "5000 50% (12m 36s) 2.811106 Cavey / Russian ✗ (French)\n",
      "5500 55% (13m 35s) 2.8926034 Christodoulou / Vietnamese ✗ (Greek)\n",
      "6000 60% (14m 22s) 2.5833995 Nanami / Italian ✗ (Japanese)\n",
      "6500 65% (15m 6s) 2.9273236 Sissons / Greek ✗ (English)\n",
      "7000 70% (15m 54s) 2.8183262 Houttum / Vietnamese ✗ (Dutch)\n",
      "7500 75% (16m 41s) 3.0385728 Winograd / Arabic ✗ (Polish)\n",
      "8000 80% (17m 31s) 3.0026562 Morales / Greek ✗ (Spanish)\n",
      "8500 85% (18m 21s) 2.670665 Roach / Vietnamese ✗ (Irish)\n",
      "9000 90% (19m 8s) 3.0125608 Kendrick / Polish ✗ (English)\n",
      "9500 95% (19m 58s) 2.8149955 Kazmier / German ✗ (Czech)\n",
      "10000 100% (20m 46s) 2.3972077 Chin / Irish ✗ (Korean)\n"
     ]
    }
   ],
   "source": [
    "start = time.time()\n",
    "\n",
    "for iter in range(1, n_iters + 1):\n",
    "    category, line, category_tensor, line_tensor = random_training()\n",
    "    output, loss = train(category_tensor, line_tensor)\n",
    "    current_loss += loss\n",
    "\n",
    "    # 分别打印迭代次数、迭代进度、迭代所用时间、损失值、语言名称、预测语言类型、是否正确\n",
    "    if iter % print_every == 0:\n",
    "        guess, guess_i = category_from_output(output)\n",
    "        correct = '✓' if guess == category else '✗ (%s)' % category\n",
    "        print('%d %d%% (%s) %s %s / %s %s' % (iter, iter / n_iters * 100, time_since(start), loss.asnumpy(), line, guess, correct))\n",
    "\n",
    "    # 将loss的平均值添加至all_losses\n",
    "    if iter % plot_every == 0:\n",
    "        all_losses.append((current_loss / plot_every).asnumpy())\n",
    "        current_loss = 0"
   ]
  },
  {
   "cell_type": "markdown",
   "metadata": {},
   "source": [
    "### 绘制结果\n",
    "\n",
    "从`all_losses`绘制网络模型学习过程中每个step得到的损失值，可显示网络学习情况。"
   ]
  },
  {
   "cell_type": "code",
   "execution_count": 25,
   "metadata": {},
   "outputs": [
    {
     "data": {
      "text/plain": [
       "[<matplotlib.lines.Line2D at 0x7f7fd01e1ef0>]"
      ]
     },
     "execution_count": 26,
     "metadata": {},
     "output_type": "execute_result"
    },
    {
     "data": {
      "image/png": "[encoded data removed]",
      "text/plain": [
       "<Figure size 432x288 with 1 Axes>"
      ]
     },
     "metadata": {
      "needs_background": "light"
     },
     "output_type": "display_data"
    }
   ],
   "source": [
    "import matplotlib.pyplot as plt\n",
    "\n",
    "plt.figure()\n",
    "plt.plot(all_losses)"
   ]
  },
  {
   "cell_type": "markdown",
   "metadata": {},
   "source": [
    "## 评估结果\n",
    "\n",
    "- 为了查看网络在不同分类上的表现，我们将创建一个混淆矩阵，行坐标为实际语言，列坐标为预测的语言。为了计算混淆矩阵，使用`evaluate()`函数进行模型推理。"
   ]
  },
  {
   "cell_type": "code",
   "execution_count": 27,
   "metadata": {},
   "outputs": [],
   "source": [
    "# 在混淆矩阵中记录正确预测\n",
    "confusion = Tensor(np.zeros((n_categories, n_categories)), mstype.float32)\n",
    "n_confusion = 1000\n",
    "\n",
    "# 模型推理\n",
    "def evaluate(line_tensor):\n",
    "    hidden = rnn_cf.initHidden()\n",
    "    for i in range(line_tensor.shape[0]):\n",
    "        output, hidden = rnn_cf(line_tensor[i], hidden)\n",
    "    return output\n",
    "\n",
    "# 运行样本，并记录正确的预测\n",
    "for i in range(n_confusion):\n",
    "    category, line, category_tensor, line_tensor = random_training()\n",
    "    output = evaluate(line_tensor)\n",
    "    guess, guess_i = category_from_output(output)\n",
    "    category_i = all_categories.index(category)\n",
    "    confusion[category_i, guess_i] += 1\n",
    "\n",
    "for i in range(n_categories):\n",
    "    confusion[i] / Tensor(np.sum(confusion[i].asnumpy()), mstype.float32)"
   ]
  },
  {
   "cell_type": "markdown",
   "metadata": {},
   "source": [
    "- 使用`matplotlib`绘制混淆矩阵的图像。"
   ]
  },
  {
   "cell_type": "code",
   "execution_count": 28,
   "metadata": {},
   "outputs": [
    {
     "data": {
      "image/png": "[encoded data removed]",
      "text/plain": [
       "<Figure size 432x288 with 2 Axes>"
      ]
     },
     "metadata": {
      "needs_background": "light"
     },
     "output_type": "display_data"
    }
   ],
   "source": [
    "# 绘制图表\n",
    "fig = plt.figure()\n",
    "ax = fig.add_subplot(111)\n",
    "cax = ax.matshow(confusion.asnumpy())\n",
    "fig.colorbar(cax)\n",
    "\n",
    "# 设定轴\n",
    "ax.set_xticklabels([''] + all_categories, rotation=90)\n",
    "ax.set_yticklabels([''] + all_categories)\n",
    "\n",
    "# 在坐标处添加标签\n",
    "ax.xaxis.set_major_locator(ticker.MultipleLocator(1))\n",
    "ax.yaxis.set_major_locator(ticker.MultipleLocator(1))\n",
    "\n",
    "plt.show()"
   ]
  }
 ],
 "metadata": {
  "kernelspec": {
   "display_name": "Python 3",
   "language": "python",
   "name": "python3"
  },
  "language_info": {
   "codemirror_mode": {
    "name": "ipython",
    "version": 3
   },
   "file_extension": ".py",
   "mimetype": "text/x-python",
   "name": "python",
   "nbconvert_exporter": "python",
   "pygments_lexer": "ipython3",
   "version": "3.7.5"
  },
  "toc": {
   "base_numbering": 1,
   "nav_menu": {},
   "number_sections": true,
   "sideBar": true,
   "skip_h1_title": false,
   "title_cell": "Table of Contents",
   "title_sidebar": "Contents",
   "toc_cell": false,
   "toc_position": {},
   "toc_section_display": true,
   "toc_window_display": false
  }
 },
 "nbformat": 4,
 "nbformat_minor": 4
}
