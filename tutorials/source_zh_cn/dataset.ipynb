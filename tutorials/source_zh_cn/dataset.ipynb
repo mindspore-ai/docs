{
 "cells": [
  {
   "cell_type": "markdown",
   "metadata": {},
   "source": [
    "# 数据加载及处理\n",
    "\n",
    "[![](https://gitee.com/mindspore/docs/raw/r1.2/docs/programming_guide/source_zh_cn/_static/logo_source.png)](https://gitee.com/mindspore/docs/blob/r1.2/tutorials/source_zh_cn/dataset.ipynb)&emsp;[![](https://gitee.com/mindspore/docs/raw/r1.2/resource/_static/logo_notebook.png)](https://obs.dualstack.cn-north-4.myhuaweicloud.com/mindspore-website/notebook/r1.2/quick_start/mindspore_dataset.ipynb)&emsp;"
   ]
  },
  {
   "cell_type": "markdown",
   "metadata": {},
   "source": [
    "MindSpore提供了部分常用数据集和标准格式数据集的加载接口，用户可以直接使用`mindspore.dataset`中对应的数据集加载类进行数据加载。数据集类为用户提供了常用的数据处理接口，使得用户能够快速进行数据处理操作。\n",
    "\n",
    "## 加载数据集\n",
    "\n",
    "下面的样例通过`Cifar10Dataset`接口加载CIFAR-10数据集，使用顺序采样器获取前5个样本。"
   ]
  },
  {
   "cell_type": "code",
   "execution_count": 1,
   "metadata": {},
   "outputs": [],
   "source": [
    "import mindspore.dataset as ds\n",
    "\n",
    "DATA_DIR = \"./datasets/cifar-10-batches-bin/train\"\n",
    "sampler = ds.SequentialSampler(num_samples=5)\n",
    "dataset = ds.Cifar10Dataset(DATA_DIR, sampler=sampler)"
   ]
  },
  {
   "cell_type": "markdown",
   "metadata": {},
   "source": [
    "\n",
    "## 迭代数据集\n",
    "\n",
    "用户可以用`create_dict_iterator`创建数据迭代器，迭代访问数据，下面展示了对应图片的形状和标签。"
   ]
  },
  {
   "cell_type": "code",
   "execution_count": 2,
   "metadata": {},
   "outputs": [
    {
     "name": "stdout",
     "output_type": "stream",
     "text": [
      "Image shape: (32, 32, 3) , Label: 6\n",
      "Image shape: (32, 32, 3) , Label: 9\n",
      "Image shape: (32, 32, 3) , Label: 9\n",
      "Image shape: (32, 32, 3) , Label: 4\n",
      "Image shape: (32, 32, 3) , Label: 1\n"
     ]
    }
   ],
   "source": [
    "for data in dataset.create_dict_iterator():\n",
    "    print(\"Image shape: {}\".format(data['image'].shape), \", Label: {}\".format(data['label']))"
   ]
  },
  {
   "cell_type": "markdown",
   "metadata": {},
   "source": [
    "\n",
    "## 自定义数据集\n",
    "\n",
    "对于目前MindSpore不支持直接加载的数据集，可以构造自定义数据集类，然后通过`GeneratorDataset`接口实现自定义方式的数据加载。\n"
   ]
  },
  {
   "cell_type": "code",
   "execution_count": 3,
   "metadata": {},
   "outputs": [],
   "source": [
    "import numpy as np\n",
    "\n",
    "np.random.seed(58)\n",
    "\n",
    "class DatasetGenerator:\n",
    "    def __init__(self):\n",
    "        self.data = np.random.sample((5, 2))\n",
    "        self.label = np.random.sample((5, 1))\n",
    "\n",
    "    def __getitem__(self, index):\n",
    "        return self.data[index], self.label[index]\n",
    "\n",
    "    def __len__(self):\n",
    "        return len(self.data)"
   ]
  },
  {
   "cell_type": "markdown",
   "metadata": {},
   "source": [
    "其中用户需要自定义的类函数如下：\n",
    "\n",
    "- **\\_\\_init\\_\\_**\n",
    "\n",
    "    实例化数据集对象时，`__init__`函数被调用，用户可以在此进行数据初始化等操作。\n",
    "\n",
    "    ```python\n",
    "    def __init__(self):\n",
    "        self.data = np.random.sample((5, 2))\n",
    "        self.label = np.random.sample((5, 1))\n",
    "    ```\n",
    "\n",
    "- **\\_\\_getitem\\_\\_**\n",
    "\n",
    "    定义数据集类的`__getitem__`函数，使其支持随机访问，能够根据给定的索引值`index`，获取数据集中的数据并返回。\n",
    "\n",
    "    ```python\n",
    "    def __getitem__(self, index):\n",
    "        return self.data[index], self.label[index]\n",
    "    ```\n",
    "\n",
    "- **\\_\\_len\\_\\_**\n",
    "\n",
    "    定义数据集类的`__len__`函数，返回数据集的样本数量。\n",
    "\n",
    "    ```python\n",
    "    def __len__(self):\n",
    "        return len(self.data)\n",
    "    ```\n",
    "    \n",
    "定义数据集类之后，就可以通过`GeneratorDataset`接口按照用户定义的方式加载并访问数据集样本。"
   ]
  },
  {
   "cell_type": "code",
   "execution_count": 4,
   "metadata": {},
   "outputs": [
    {
     "name": "stdout",
     "output_type": "stream",
     "text": [
      "[0.36510558 0.45120592] [0.78888122]\n",
      "[0.49606035 0.07562207] [0.38068183]\n",
      "[0.57176158 0.28963401] [0.16271622]\n",
      "[0.30880446 0.37487617] [0.54738768]\n",
      "[0.81585667 0.96883469] [0.77994068]\n"
     ]
    }
   ],
   "source": [
    "dataset_generator = DatasetGenerator()\n",
    "dataset = ds.GeneratorDataset(dataset_generator, [\"data\", \"label\"], shuffle=False)\n",
    "\n",
    "for data in dataset.create_dict_iterator():\n",
    "    print('{}'.format(data[\"data\"]), '{}'.format(data[\"label\"]))"
   ]
  },
  {
   "cell_type": "markdown",
   "metadata": {},
   "source": [
    "\n",
    "## 数据处理及增强\n",
    "\n",
    "### 数据处理\n",
    "\n",
    "MindSpore提供的数据集接口具备常用的数据处理方法，用户只需调用相应的函数接口即可快速进行数据处理。\n",
    "\n",
    "下面的样例先将数据集随机打乱顺序，然后将样本两两组成一个批次。"
   ]
  },
  {
   "cell_type": "code",
   "execution_count": 5,
   "metadata": {},
   "outputs": [
    {
     "name": "stdout",
     "output_type": "stream",
     "text": [
      "data: [[0.36510558 0.45120592]\n",
      " [0.57176158 0.28963401]]\n",
      "label: [[0.78888122]\n",
      " [0.16271622]]\n",
      "data: [[0.30880446 0.37487617]\n",
      " [0.49606035 0.07562207]]\n",
      "label: [[0.54738768]\n",
      " [0.38068183]]\n",
      "data: [[0.81585667 0.96883469]]\n",
      "label: [[0.77994068]]\n"
     ]
    }
   ],
   "source": [
    "ds.config.set_seed(58)\n",
    "\n",
    "# 随机打乱数据顺序\n",
    "dataset = dataset.shuffle(buffer_size=10)\n",
    "# 对数据集进行分批\n",
    "dataset = dataset.batch(batch_size=2)\n",
    "\n",
    "for data in dataset.create_dict_iterator():\n",
    "    print(\"data: {}\".format(data[\"data\"]))\n",
    "    print(\"label: {}\".format(data[\"label\"]))"
   ]
  },
  {
   "cell_type": "markdown",
   "metadata": {},
   "source": [
    "其中，\n",
    "\n",
    "`buffer_size`：数据集中进行shuffle操作的缓存区的大小。\n",
    "\n",
    "`batch_size`：每组包含的数据个数，现设置每组包含2个数据。"
   ]
  },
  {
   "cell_type": "markdown",
   "metadata": {},
   "source": [
    "\n",
    "### 数据增强\n",
    "\n",
    "数据量过小或是样本场景单一等问题会影响模型的训练效果，用户可以通过数据增强操作扩充样本多样性，从而提升模型的泛化能力。\n",
    "\n",
    "下面的样例使用`mindspore.dataset.vision.c_transforms`模块中的算子对MNIST数据集进行数据增强。\n",
    "\n",
    "导入`c_transforms`模块，加载MNIST数据集。"
   ]
  },
  {
   "cell_type": "code",
   "execution_count": 6,
   "metadata": {},
   "outputs": [
    {
     "data": {
      "image/png": "[encoded data removed]",
      "text/plain": [
       "<Figure size 432x288 with 1 Axes>"
      ]
     },
     "metadata": {
      "needs_background": "light"
     },
     "output_type": "display_data"
    }
   ],
   "source": [
    "import matplotlib.pyplot as plt\n",
    "\n",
    "from mindspore.dataset.vision import Inter\n",
    "import mindspore.dataset.vision.c_transforms as c_vision\n",
    "\n",
    "DATA_DIR = './datasets/MNIST_Data/train'\n",
    "\n",
    "mnist_dataset = ds.MnistDataset(DATA_DIR, num_samples=6, shuffle=False)\n",
    "\n",
    "# 查看数据原图\n",
    "mnist_it = mnist_dataset.create_dict_iterator()\n",
    "data = next(mnist_it)\n",
    "plt.imshow(data['image'].asnumpy().squeeze(), cmap=plt.cm.gray)\n",
    "plt.title(data['label'].asnumpy(), fontsize=20)\n",
    "plt.show()"
   ]
  },
  {
   "cell_type": "markdown",
   "metadata": {},
   "source": [
    "\n",
    "定义数据增强算子，对数据集进行`Resize`和`RandomCrop`操作，然后通过`map`映射将其插入数据处理管道。\n"
   ]
  },
  {
   "cell_type": "code",
   "execution_count": 7,
   "metadata": {},
   "outputs": [],
   "source": [
    "resize_op = c_vision.Resize(size=(200,200), interpolation=Inter.LINEAR)\n",
    "crop_op = c_vision.RandomCrop(150)\n",
    "transforms_list = [resize_op, crop_op]\n",
    "mnist_dataset = mnist_dataset.map(operations=transforms_list, input_columns=[\"image\"])"
   ]
  },
  {
   "cell_type": "markdown",
   "metadata": {},
   "source": [
    "查看数据增强效果。"
   ]
  },
  {
   "cell_type": "code",
   "execution_count": 8,
   "metadata": {},
   "outputs": [
    {
     "data": {
      "image/png": "[encoded data removed]",
      "text/plain": [
       "<Figure size 432x288 with 1 Axes>"
      ]
     },
     "metadata": {
      "needs_background": "light"
     },
     "output_type": "display_data"
    }
   ],
   "source": [
    "mnist_dataset = mnist_dataset.create_dict_iterator()\n",
    "data = next(mnist_dataset)\n",
    "plt.imshow(data['image'].asnumpy().squeeze(), cmap=plt.cm.gray)\n",
    "plt.title(data['label'].asnumpy(), fontsize=20)\n",
    "plt.show()"
   ]
  },
  {
   "cell_type": "markdown",
   "metadata": {},
   "source": [
    "想要了解更多可以参考编程指南中[数据增强](https://www.mindspore.cn/doc/programming_guide/zh-CN/r1.2/augmentation.html)章节。"
   ]
  }
 ],
 "metadata": {
  "kernelspec": {
   "display_name": "MindSpore-1.1.1",
   "language": "python",
   "name": "mindspore-1.1.1"
  },
  "language_info": {
   "codemirror_mode": {
    "name": "ipython",
    "version": 3
   },
   "file_extension": ".py",
   "mimetype": "text/x-python",
   "name": "python",
   "nbconvert_exporter": "python",
   "pygments_lexer": "ipython3",
   "version": "3.7.5"
  }
 },
 "nbformat": 4,
 "nbformat_minor": 4
}
