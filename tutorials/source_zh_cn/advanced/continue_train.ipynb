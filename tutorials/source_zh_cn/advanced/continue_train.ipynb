{
 "cells": [
  {
   "cell_type": "markdown",
   "metadata": {},
   "source": [
    "# 断点续训\n",
    "\n",
    "[![下载Notebook](https://mindspore-website.obs.cn-north-4.myhuaweicloud.com/website-images/master/resource/_static/logo_notebook.png)](https://mindspore-website.obs.cn-north-4.myhuaweicloud.com/notebook/master/tutorials/zh_cn/advanced/mindspore_continue_train.ipynb)&emsp;[![下载样例代码](https://mindspore-website.obs.cn-north-4.myhuaweicloud.com/website-images/master/resource/_static/logo_download_code.png)](https://obs.dualstack.cn-north-4.myhuaweicloud.com/mindspore-website/notebook/master/tutorials/zh_cn/advanced/mindspore_continue_train.py)&emsp;[![查看源文件](https://mindspore-website.obs.cn-north-4.myhuaweicloud.com/website-images/master/resource/_static/logo_source.png)](https://gitee.com/mindspore/docs/blob/master/tutorials/source_zh_cn/advanced/continue_train.ipynb)\n",
    "\n",
    "模型训练过程中，在遇到停电宕机、设备内存不足等异常情况导致模型未训练完成的情况下，如果需要从头开始训练，耗时费力，因此在模型训练过程中可以使用断点续训。\n",
    "\n",
    "先定义基本的网络结构及单步训练函数。"
   ]
  },
  {
   "cell_type": "code",
   "execution_count": 1,
   "metadata": {},
   "outputs": [],
   "source": [
    "import os\n",
    "from functools import wraps\n",
    "from mindspore import nn, Tensor\n",
    "import mindspore\n",
    "import numpy as np\n",
    "from mindspore import save_checkpoint\n",
    "\n",
    "\n",
    "# Define model\n",
    "class Network(nn.Cell):\n",
    "    def __init__(self):\n",
    "        super().__init__()\n",
    "        self.flatten = nn.Flatten()\n",
    "        self.dense_relu_sequential = nn.SequentialCell(\n",
    "            nn.Dense(28*28, 512),\n",
    "            nn.ReLU(),\n",
    "            nn.Dense(512, 512),\n",
    "            nn.ReLU(),\n",
    "            nn.Dense(512, 10)\n",
    "        )\n",
    "\n",
    "    def construct(self, x):\n",
    "        x = self.flatten(x)\n",
    "        logits = self.dense_relu_sequential(x)\n",
    "        return logits\n",
    "\n",
    "model = Network()\n",
    "loss_fn = nn.CrossEntropyLoss()\n",
    "optimizer = nn.SGD(model.trainable_params(), 1e-2)\n",
    "\n",
    "def forward_fn(data, label):\n",
    "    logits = model(data)\n",
    "    loss = loss_fn(logits, label)\n",
    "    return loss, logits\n",
    "\n",
    "grad_fn = mindspore.value_and_grad(forward_fn, None, optimizer.parameters, has_aux=True)\n",
    "\n",
    "def train_step(data, label):\n",
    "    (loss, _), grads = grad_fn(data, label)\n",
    "    optimizer(grads)\n",
    "    return loss"
   ]
  },
  {
   "cell_type": "markdown",
   "metadata": {},
   "source": [
    "在MindSpore的函数式场景下实现断点续训，可以定义一个装饰器函数对当前训练过程的异常进行判断和处理，在遇到异常情况时对checkpoint、epoch等信息进行存储。"
   ]
  },
  {
   "cell_type": "code",
   "execution_count": null,
   "metadata": {},
   "outputs": [],
   "source": [
    "def save_final_ckpt(func):\n",
    "    @wraps(func)\n",
    "    def wrapper(*args, **kwargs):\n",
    "        try:\n",
    "            func(*args, **kwargs)\n",
    "        except BaseException as e:\n",
    "            directory = os.getcwd()\n",
    "            cur_model_file = \"net_epoch_\" + str(kwargs.get(\"epoch\")) + \"_breakpoint.ckpt\"\n",
    "            save_checkpoint(kwargs.get(\"model\"), os.path.join(directory, cur_model_file))\n",
    "\n",
    "            cur_opt_file = \"net_epoch_\" + str(kwargs.get(\"epoch\")) + \"_opt.ckpt\"\n",
    "            save_checkpoint(kwargs.get(\"opt\"), os.path.join(directory, cur_opt_file))\n",
    "            print(\"====>Exception occurred on epoch {}, {} checkpoint and {} optimizer has been saved.\".format(kwargs.get(\"epoch\"), cur_model_file, cur_opt_file))\n",
    "            raise e\n",
    "    return wrapper"
   ]
  },
  {
   "cell_type": "markdown",
   "metadata": {},
   "source": [
    "使用装饰器装饰 `train` 函数，以捕获训练过程中的异常并保存断点。"
   ]
  },
  {
   "cell_type": "code",
   "execution_count": null,
   "metadata": {},
   "outputs": [],
   "source": [
    "@save_final_ckpt\n",
    "def train(model, **kwargs):\n",
    "    model.set_train()\n",
    "    for _ in range(5):\n",
    "        data, label = Tensor(np.random.rand(64, 1, 28, 28), mindspore.dtype.float32), Tensor(np.random.rand(64,), mindspore.dtype.int32)\n",
    "        loss = train_step(data, label)\n",
    "        loss = loss.asnumpy()\n",
    "    print(f\"epoch: {epoch}, loss: {loss:>7f}\")"
   ]
  },
  {
   "cell_type": "markdown",
   "metadata": {},
   "source": [
    "在训练异常停止后，使用 `load_final_ckpt` 加载断点。"
   ]
  },
  {
   "cell_type": "code",
   "execution_count": null,
   "metadata": {},
   "outputs": [],
   "source": [
    "def load_final_ckpt(model, optimizer, directory=None):\n",
    "    \"\"\"Check if there is a exception checkpoint file and load the checkpoint.\"\"\"\n",
    "    if not directory:\n",
    "        directory = os.getcwd()\n",
    "    files = os.listdir(directory)\n",
    "    sorted_files = sorted(files, key=lambda file: os.path.getctime(os.path.join(directory, file)), reverse=True)\n",
    "    model_file_name = \"\"\n",
    "    param_dict, opt_dict = {}, {}\n",
    "    for filename in sorted_files:\n",
    "        if filename.endswith(\"opt.ckpt\"):\n",
    "            opt_dict = mindspore.load_checkpoint(filename)\n",
    "        elif filename.endswith(\"breakpoint.ckpt\"):\n",
    "            param_dict = mindspore.load_checkpoint(filename)\n",
    "            model_file_name = filename\n",
    "        if param_dict and opt_dict:\n",
    "            mindspore.load_param_into_net(model, param_dict)\n",
    "            mindspore.load_param_into_net(optimizer, opt_dict)\n",
    "            initepoch = int(model_file_name.split(\"_\")[2])\n",
    "            print(\"====>Network params and Optimizer checkpoint on epoch {} has been loaded successfully.\".format(initepoch))\n",
    "            return model, optimizer, initepoch\n",
    "    print(\"====>No model and optimizer checkpoint found, train start.\")\n",
    "    return model, optimizer, 1"
   ]
  },
  {
   "cell_type": "markdown",
   "metadata": {},
   "source": [
    "使用 `resume` 标志位设置是否需要从上次的状态继续训练，如果设置为True，则将保存的断点的网络参数及优化器状态加载到网络中。"
   ]
  },
  {
   "cell_type": "code",
   "execution_count": null,
   "metadata": {},
   "outputs": [
    {
        "name": "stdout",
        "output_type": "stream",
        "text": [
        "断点保存运行样例。\n",
        "====>Train start.\n",
        "epoch: 1, loss: 2.263855\n",
        "epoch: 2, loss: 2.206145\n",
        "epoch: 3, loss: 2.145337\n",
        "====>Exception occurred on epoch 4, net_epoch_4_breakpoint.ckpt checkpoint and net_epoch_4_opt.ckpt optimizer has been saved."
        ]
    }
   ],
   "source": [
    "epochs = 8\n",
    "resume = True  # whether to continue training\n",
    "\n",
    "if resume:\n",
    "    model, optimizer, initepoch = load_final_ckpt(model, optimizer)\n",
    "else:\n",
    "    initepoch = 1\n",
    "    print(\"====>Train start.\")\n",
    "\n",
    "for epoch in range(initepoch, epochs):\n",
    "    train(model=model, opt=optimizer, epoch=epoch)"
   ]
  },
  {
   "cell_type": "markdown",
   "metadata": {},
   "source": [
    "续训运行样例。\n",
    "\n",
    "```text\n",
    "====>Network params and Optimizer checkpoint on epoch 4 has been loaded successfully.\n",
    "epoch: 4, loss: 2.081439\n",
    "epoch: 5, loss: 2.007672\n",
    "epoch: 6, loss: 1.917388\n",
    "epoch: 7, loss: 1.795004\n",
    "```\n",
    "\n"
   ]
  }
 ],
 "metadata": {
  "kernelspec": {
   "display_name": "MindSpore",
   "language": "python",
   "name": "mindspore"
  }
 },
 "nbformat": 4,
 "nbformat_minor": 4
}
