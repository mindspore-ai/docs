{
 "cells": [
  {
   "cell_type": "markdown",
   "metadata": {},
   "source": [
    "# Cell构造基础模块\n",
    "\n",
    "[![下载Notebook](https://mindspore-website.obs.cn-north-4.myhuaweicloud.com/website-images/master/resource/_static/logo_notebook.png)](https://obs.dualstack.cn-north-4.myhuaweicloud.com/mindspore-website/notebook/master/tutorials/zh_cn/advanced/modules/mindspore_layer.ipynb)&emsp;[![下载样例代码](https://mindspore-website.obs.cn-north-4.myhuaweicloud.com/website-images/master/resource/_static/logo_download_code.png)](https://obs.dualstack.cn-north-4.myhuaweicloud.com/mindspore-website/notebook/master/tutorials/zh_cn/advanced/modules/mindspore_layer.py)&emsp;[![查看源文件](https://mindspore-website.obs.cn-north-4.myhuaweicloud.com/website-images/master/resource/_static/logo_source.png)](https://gitee.com/mindspore/docs/blob/master/tutorials/source_zh_cn/advanced/modules/layer.ipynb)\n",
    "\n",
    "## Parameter"
   ]
  },
  {
   "cell_type": "code",
   "execution_count": 1,
   "metadata": {},
   "outputs": [],
   "source": [
    "import numpy as np\n",
    "import mindspore\n",
    "from mindspore import nn\n",
    "from mindspore import ops\n",
    "from mindspore import Tensor, Parameter\n",
    "\n",
    "class Network(nn.Cell):\n",
    "    def __init__(self):\n",
    "        super().__init__()\n",
    "        self.w = Parameter(Tensor(np.random.randn(5, 3), mindspore.float32), name='w') # weight\n",
    "        self.b = Parameter(Tensor(np.random.randn(3,), mindspore.float32), name='b') # bias\n",
    "\n",
    "    def construct(self, x):\n",
    "        z = ops.matmul(x, self.w) + self.b\n",
    "        return z"
   ]
  },
  {
   "cell_type": "markdown",
   "metadata": {
    "tags": []
   },
   "source": [
    "### Parameter操作\n",
    "\n",
    "1. 获取Parameter"
   ]
  },
  {
   "cell_type": "code",
   "execution_count": 2,
   "metadata": {},
   "outputs": [
    {
     "name": "stdout",
     "output_type": "stream",
     "text": [
      "[Parameter(name=w, requires_grad=True, shape=[5, 3], dtype=Float32, value=\n",
      "[[ 8.06299925e-01, -1.52017653e+00,  1.55664742e-01],\n",
      " [ 8.62504691e-02,  1.61433792e+00, -1.72634542e-01],\n",
      " [-1.21492767e+00, -2.25986338e+00, -3.15012902e-01],\n",
      " [ 1.06195676e+00,  8.28559160e-01, -4.03163850e-01],\n",
      " [ 5.97745717e-01, -8.35135400e-01, -4.34642464e-01]]), Parameter(name=b, requires_grad=True, shape=[3], dtype=Float32, value= [ 7.53176391e-01,  5.71677864e-01, -7.82576561e-01])]\n"
     ]
    }
   ],
   "source": [
    "net = Network()\n",
    "\n",
    "print(net.trainable_params())"
   ]
  },
  {
   "cell_type": "code",
   "execution_count": 3,
   "metadata": {},
   "outputs": [
    {
     "name": "stdout",
     "output_type": "stream",
     "text": [
      "<class 'generator'>\n"
     ]
    }
   ],
   "source": [
    "print(type(net.parameters_and_names()))"
   ]
  },
  {
   "cell_type": "code",
   "execution_count": 4,
   "metadata": {},
   "outputs": [
    {
     "name": "stdout",
     "output_type": "stream",
     "text": [
      "w:\n",
      "[[ 0.8062999  -1.5201765   0.15566474]\n",
      " [ 0.08625047  1.6143379  -0.17263454]\n",
      " [-1.2149277  -2.2598634  -0.3150129 ]\n",
      " [ 1.0619568   0.82855916 -0.40316385]\n",
      " [ 0.5977457  -0.8351354  -0.43464246]]\n",
      "b:\n",
      "[ 0.7531764   0.57167786 -0.78257656]\n"
     ]
    }
   ],
   "source": [
    "for name, param in net.parameters_and_names():\n",
    "    print(f\"{name}:\\n{param.asnumpy()}\")"
   ]
  },
  {
   "cell_type": "code",
   "execution_count": 5,
   "metadata": {
    "ExecuteTime": {
     "end_time": "2021-12-29T03:42:22.729232Z",
     "start_time": "2021-12-29T03:42:22.723517Z"
    }
   },
   "outputs": [
    {
     "name": "stdout",
     "output_type": "stream",
     "text": [
      "Parameter(name=b, requires_grad=True, shape=[3], dtype=Float32, value= [ 7.53176391e-01,  5.71677864e-01, -7.82576561e-01])\n"
     ]
    }
   ],
   "source": [
    "print(net.b)"
   ]
  },
  {
   "cell_type": "markdown",
   "metadata": {},
   "source": [
    "2. 修改Parameter"
   ]
  },
  {
   "cell_type": "code",
   "execution_count": 6,
   "metadata": {},
   "outputs": [
    {
     "name": "stdout",
     "output_type": "stream",
     "text": [
      "Parameter(name=b, requires_grad=True, shape=[3], dtype=Float32, value= [ 3.00000000e+00,  4.00000000e+00,  5.00000000e+00])\n"
     ]
    }
   ],
   "source": [
    "net.b.set_data(Tensor([3, 4, 5]))\n",
    "\n",
    "print(net.b)"
   ]
  },
  {
   "cell_type": "code",
   "execution_count": 8,
   "metadata": {},
   "outputs": [
    {
     "name": "stdout",
     "output_type": "stream",
     "text": [
      "Parameter(name=b, requires_grad=True, shape=[3], dtype=Float32, value= [ 7.00000000e+00,  8.00000000e+00,  9.00000000e+00])\n"
     ]
    },
    {
     "name": "stderr",
     "output_type": "stream",
     "text": [
      "[ERROR] CORE(28324,7fb716af8740,python):2022-10-17-01:20:18.782.135 [mindspore/core/utils/file_utils.cc:253] GetRealPath] Get realpath failed, path[/tmp/ipykernel_28324/2294774123.py]\n"
     ]
    }
   ],
   "source": [
    "from mindspore import jit\n",
    "\n",
    "@jit\n",
    "def modify_parameter():\n",
    "    b_hat = Tensor([7, 8, 9])\n",
    "    status = ops.assign(net.b, b_hat)\n",
    "    return status\n",
    "\n",
    "modify_parameter()\n",
    "print(net.b)"
   ]
  },
  {
   "cell_type": "markdown",
   "metadata": {},
   "source": [
    "3. Clone Parameter"
   ]
  },
  {
   "cell_type": "code",
   "execution_count": 12,
   "metadata": {},
   "outputs": [
    {
     "name": "stdout",
     "output_type": "stream",
     "text": [
      "Parameter(name=Parameter, requires_grad=True, shape=[1, 2, 3], dtype=Float32, value=\n",
      "[[[1., 1., 1.],\n",
      "  [1., 1., 1.]]])\n",
      "Parameter(name=x_clone, requires_grad=True, shape=[1, 2, 3], dtype=Float32, value=\n",
      "[[[ 1.00000000e+00,  1.00000000e+00,  1.00000000e+00],\n",
      "  [ 1.00000000e+00,  1.00000000e+00,  1.00000000e+00]]])\n"
     ]
    }
   ],
   "source": [
    "from mindspore.common.initializer import initializer\n",
    "\n",
    "x = Parameter(initializer('ones', [1, 2, 3], mindspore.float32))\n",
    "x_clone = x.clone()\n",
    "x_clone.name = \"x_clone\"\n",
    "\n",
    "print(x)\n",
    "print(x_clone)"
   ]
  },
  {
   "cell_type": "markdown",
   "metadata": {},
   "source": [
    "## Parameter Tuple\n",
    "\n",
    "变量元组ParameterTuple，用于保存多个Parameter，继承于元组tuple，提供克隆功能。\n",
    "\n",
    "如下示例提供ParameterTuple创建方法："
   ]
  },
  {
   "cell_type": "code",
   "execution_count": 13,
   "metadata": {},
   "outputs": [
    {
     "name": "stdout",
     "output_type": "stream",
     "text": [
      "(Parameter(name=x, requires_grad=True, shape=[2, 3], dtype=Int64, value=\n",
      "[[0, 1, 2],\n",
      " [3, 4, 5]]), Parameter(name=y, requires_grad=True, shape=[1, 2, 3], dtype=Float32, value=\n",
      "[[[1., 1., 1.],\n",
      "  [1., 1., 1.]]]), Parameter(name=z, requires_grad=True, shape=[], dtype=Float32, value= 2))\n",
      "(Parameter(name=params_copy.x, requires_grad=True, shape=[2, 3], dtype=Int64, value=\n",
      "[[0, 1, 2],\n",
      " [3, 4, 5]]), Parameter(name=params_copy.y, requires_grad=True, shape=[1, 2, 3], dtype=Float32, value=\n",
      "[[[ 1.00000000e+00,  1.00000000e+00,  1.00000000e+00],\n",
      "  [ 1.00000000e+00,  1.00000000e+00,  1.00000000e+00]]]), Parameter(name=params_copy.z, requires_grad=True, shape=[], dtype=Float32, value= 2))\n"
     ]
    }
   ],
   "source": [
    "from mindspore import ParameterTuple\n",
    "# 创建\n",
    "x = Parameter(default_input=ms.Tensor(np.arange(2 * 3).reshape((2, 3))), name=\"x\")\n",
    "y = Parameter(default_input=initializer('ones', [1, 2, 3], ms.float32), name='y')\n",
    "z = Parameter(default_input=2.0, name='z')\n",
    "params = ParameterTuple((x, y, z))\n",
    "\n",
    "# 从params克隆并修改名称为\"params_copy\"\n",
    "params_copy = params.clone(\"params_copy\")\n",
    "\n",
    "print(params)\n",
    "print(params_copy)"
   ]
  },
  {
   "cell_type": "markdown",
   "metadata": {},
   "source": [
    "## 训练状态转换"
   ]
  },
  {
   "cell_type": "code",
   "execution_count": 15,
   "metadata": {},
   "outputs": [
    {
     "name": "stdout",
     "output_type": "stream",
     "text": [
      "train\n"
     ]
    }
   ],
   "source": [
    "net.set_train()\n",
    "print(net.phase)"
   ]
  },
  {
   "cell_type": "code",
   "execution_count": 16,
   "metadata": {},
   "outputs": [
    {
     "name": "stdout",
     "output_type": "stream",
     "text": [
      "predict\n"
     ]
    }
   ],
   "source": [
    "net.set_train(False)\n",
    "print(net.phase)"
   ]
  },
  {
   "cell_type": "markdown",
   "metadata": {},
   "source": [
    "## 自定义Cell的反向"
   ]
  },
  {
   "cell_type": "code",
   "execution_count": 17,
   "metadata": {},
   "outputs": [],
   "source": [
    "class Net(nn.Cell):\n",
    "    def construct(self, x, y):\n",
    "        z = x * y\n",
    "        z = z * y\n",
    "        return z\n",
    "\n",
    "    def bprop(self, x, y, out, dout):\n",
    "        x_dout = x + y\n",
    "        y_dout = x * y\n",
    "        return x_dout, y_dout"
   ]
  }
 ],
 "metadata": {
  "kernelspec": {
   "display_name": "Python 3 (ipykernel)",
   "language": "python",
   "name": "python3"
  },
  "language_info": {
   "codemirror_mode": {
    "name": "ipython",
    "version": 3
   },
   "file_extension": ".py",
   "mimetype": "text/x-python",
   "name": "python",
   "nbconvert_exporter": "python",
   "pygments_lexer": "ipython3",
   "version": "3.7.5"
  }
 },
 "nbformat": 4,
 "nbformat_minor": 4
}
