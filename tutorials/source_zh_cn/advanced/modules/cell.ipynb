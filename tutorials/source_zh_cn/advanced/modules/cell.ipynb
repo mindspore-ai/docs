{
 "cells": [
  {
   "cell_type": "markdown",
   "metadata": {},
   "source": [
    "# Cell\n",
    "\n",
    "[![下载Notebook](https://mindspore-website.obs.cn-north-4.myhuaweicloud.com/website-images/master/resource/_static/logo_notebook.png)](https://obs.dualstack.cn-north-4.myhuaweicloud.com/mindspore-website/notebook/master/tutorials/zh_cn/advanced/modules/mindspore_cell.ipynb)&emsp;[![下载样例代码](https://mindspore-website.obs.cn-north-4.myhuaweicloud.com/website-images/master/resource/_static/logo_download_code.png)](https://obs.dualstack.cn-north-4.myhuaweicloud.com/mindspore-website/notebook/master/tutorials/zh_cn/advanced/modules/mindspore_cell.py)&emsp;[![查看源文件](https://mindspore-website.obs.cn-north-4.myhuaweicloud.com/website-images/master/resource/_static/logo_source.png)](https://gitee.com/mindspore/docs/blob/master/tutorials/source_zh_cn/advanced/modules/cell.ipynb)"
   ]
  },
  {
   "cell_type": "code",
   "execution_count": 2,
   "id": "9bb173d1-10b6-4016-9fbd-98ad6c704211",
   "metadata": {},
   "outputs": [],
   "source": [
    "from mindspore import nn"
   ]
  },
  {
   "cell_type": "code",
   "execution_count": 24,
   "id": "c31ff166-5812-4566-a880-b36b0cf3c94f",
   "metadata": {},
   "outputs": [],
   "source": [
    "class AlexNet(nn.Cell):\n",
    "    def __init__(self, num_classes=1000, dropout=0.5):\n",
    "        super().__init__()\n",
    "        self.features = nn.SequentialCell(\n",
    "            nn.Conv2d(3, 64, kernel_size=11, stride=4, pad_mode='pad', padding=2),\n",
    "            nn.ReLU(),\n",
    "            nn.MaxPool2d(kernel_size=3, stride=2),\n",
    "            nn.Conv2d(64, 192, kernel_size=5, pad_mode='pad', padding=2),\n",
    "            nn.ReLU(),\n",
    "            nn.MaxPool2d(kernel_size=3, stride=2),\n",
    "            nn.Conv2d(192, 384, kernel_size=3, pad_mode='pad', padding=1),\n",
    "            nn.ReLU(),\n",
    "            nn.Conv2d(384, 256, kernel_size=3, pad_mode='pad', padding=1),\n",
    "            nn.ReLU(),\n",
    "            nn.Conv2d(256, 256, kernel_size=3, pad_mode='pad', padding=1),\n",
    "            nn.ReLU(),\n",
    "            nn.MaxPool2d(kernel_size=3, stride=2),\n",
    "        )\n",
    "        self.classifier = nn.SequentialCell(\n",
    "            nn.Dropout(1-dropout),\n",
    "            nn.Dense(256 * 6 * 6, 4096),\n",
    "            nn.ReLU(),\n",
    "            nn.Dropout(1-dropout),\n",
    "            nn.Dense(4096, 4096),\n",
    "            nn.ReLU(),\n",
    "            nn.Dense(4096, num_classes),\n",
    "        )\n",
    "\n",
    "    def construct(self, x):\n",
    "        x = self.features(x)\n",
    "        x = x.view(x.shape[0], 256 * 6 * 6)\n",
    "        x = self.classifier(x)\n",
    "        return x"
   ]
  },
  {
   "cell_type": "code",
   "execution_count": 25,
   "id": "86f1d8c0-934a-4147-b936-8390e214cfb5",
   "metadata": {},
   "outputs": [],
   "source": [
    "import numpy as np\n",
    "import mindspore\n",
    "from mindspore import Tensor\n",
    "\n",
    "x = Tensor(np.random.randn(1, 3, 224, 224), mindspore.float32)"
   ]
  },
  {
   "cell_type": "code",
   "execution_count": 27,
   "id": "962bfd47-94e6-4fee-baae-fd3bc0f0c537",
   "metadata": {},
   "outputs": [
    {
     "name": "stdout",
     "output_type": "stream",
     "text": [
      "Tensor(shape=[1, 1000], dtype=Float32, value=\n",
      "[[-4.56211565e-04, -1.85235520e-03, -1.23125443e-04 ...  2.30962527e-03, -4.28891391e-04, -1.94850320e-03]])\n"
     ]
    }
   ],
   "source": [
    "network = AlexNet()\n",
    "logits = network(x)\n",
    "print(logits)"
   ]
  }
 ],
 "metadata": {
  "kernelspec": {
   "display_name": "Python 3 (ipykernel)",
   "language": "python",
   "name": "python3"
  },
  "language_info": {
   "codemirror_mode": {
    "name": "ipython",
    "version": 3
   },
   "file_extension": ".py",
   "mimetype": "text/x-python",
   "name": "python",
   "nbconvert_exporter": "python",
   "pygments_lexer": "ipython3",
   "version": "3.7.5"
  }
 },
 "nbformat": 4,
 "nbformat_minor": 5
}
