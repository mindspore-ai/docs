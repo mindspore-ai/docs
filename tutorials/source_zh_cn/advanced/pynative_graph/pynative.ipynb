{
 "cells": [
  {
   "cell_type": "markdown",
   "metadata": {
    "ExecuteTime": {
     "end_time": "2022-03-02T09:06:23.745016Z",
     "start_time": "2022-03-02T09:06:21.533915Z"
    }
   },
   "source": [
    "# 动态图模式应用\n",
    "\n",
    "[![下载Notebook](https://mindspore-website.obs.cn-north-4.myhuaweicloud.com/website-images/master/resource/_static/logo_notebook.png)](https://obs.dualstack.cn-north-4.myhuaweicloud.com/mindspore-website/notebook/master/tutorials/zh_cn/advanced/pynative_graph/mindspore_pynative.ipynb)&emsp;\n",
    "[![下载样例代码](https://mindspore-website.obs.cn-north-4.myhuaweicloud.com/website-images/master/resource/_static/logo_download_code.png)](https://obs.dualstack.cn-north-4.myhuaweicloud.com/mindspore-website/notebook/master/tutorials/zh_cn/advanced/pynative_graph/mindspore_pynative.py)&emsp;\n",
    "[![查看源文件](https://mindspore-website.obs.cn-north-4.myhuaweicloud.com/website-images/master/resource/_static/logo_source.png)](https://gitee.com/mindspore/docs/blob/master/tutorials/source_zh_cn/advanced/pynative_graph/pynative.ipynb)\n",
    "\n",
    "在动态图模式下，MindSpore支持执行单算子、普通函数和网络，以及单独求梯度的操作。下面我们将通过示例代码详细介绍这几种操作的使用方法和注意事项。\n",
    "\n",
    "## 执行操作\n",
    "\n",
    "首先，我们导入相关依赖，并设置运行模式为动态图模式："
   ]
  },
  {
   "cell_type": "code",
   "execution_count": 1,
   "metadata": {
    "ExecuteTime": {
     "end_time": "2022-03-02T09:15:13.240496Z",
     "start_time": "2022-03-02T09:15:13.237903Z"
    }
   },
   "outputs": [],
   "source": [
    "import numpy as np\n",
    "import mindspore.ops as ops\n",
    "import mindspore.nn as nn\n",
    "import mindspore as ms\n",
    "\n",
    "ms.set_context(mode=ms.PYNATIVE_MODE)"
   ]
  },
  {
   "cell_type": "markdown",
   "metadata": {},
   "source": [
    "### 执行单算子\n",
    "\n",
    "下面为执行加法算子[mindspore.ops.Add](https://mindspore.cn/docs/zh-CN/master/api_python/ops/mindspore.ops.Add.html#mindspore.ops.Add)的示例代码："
   ]
  },
  {
   "cell_type": "code",
   "execution_count": 2,
   "metadata": {
    "ExecuteTime": {
     "end_time": "2022-03-02T09:08:29.337515Z",
     "start_time": "2022-03-02T09:08:29.322592Z"
    }
   },
   "outputs": [
    {
     "name": "stdout",
     "output_type": "stream",
     "text": [
      "x: [1. 2.] \n",
      "y: [3. 5.] \n",
      "z: [4. 7.]\n"
     ]
    }
   ],
   "source": [
    "add = ops.Add()\n",
    "x = ms.Tensor(np.array([1, 2]).astype(np.float32))\n",
    "y = ms.Tensor(np.array([3, 5]).astype(np.float32))\n",
    "z = add(x, y)\n",
    "print(\"x:\", x.asnumpy(), \"\\ny:\", y.asnumpy(), \"\\nz:\", z.asnumpy())"
   ]
  },
  {
   "cell_type": "markdown",
   "metadata": {},
   "source": [
    "### 执行函数\n",
    "\n",
    "执行自定义函数`add_func`，示例代码如下："
   ]
  },
  {
   "cell_type": "code",
   "execution_count": 3,
   "metadata": {
    "ExecuteTime": {
     "end_time": "2022-03-02T09:08:53.065585Z",
     "start_time": "2022-03-02T09:08:53.058016Z"
    }
   },
   "outputs": [
    {
     "name": "stdout",
     "output_type": "stream",
     "text": [
      "x: [1. 2.] \n",
      "y: [3. 5.] \n",
      "z: [5. 9.]\n"
     ]
    }
   ],
   "source": [
    "add = ops.Add()\n",
    "\n",
    "def add_func(x, y):\n",
    "    z = add(x, y)\n",
    "    z = add(z, x)\n",
    "    return z\n",
    "\n",
    "x = ms.Tensor(np.array([1, 2]).astype(np.float32))\n",
    "y = ms.Tensor(np.array([3, 5]).astype(np.float32))\n",
    "z = add_func(x, y)\n",
    "print(\"x:\", x.asnumpy(), \"\\ny:\", y.asnumpy(), \"\\nz:\", z.asnumpy())"
   ]
  },
  {
   "cell_type": "markdown",
   "metadata": {},
   "source": [
    "### 执行网络\n",
    "\n",
    "执行自定义网络`Net`，在construct中定义网络结构，示例代码如下："
   ]
  },
  {
   "cell_type": "code",
   "execution_count": 4,
   "metadata": {
    "ExecuteTime": {
     "end_time": "2022-03-02T09:09:16.498705Z",
     "start_time": "2022-03-02T09:09:16.490549Z"
    }
   },
   "outputs": [
    {
     "name": "stdout",
     "output_type": "stream",
     "text": [
      "x: [1. 2. 3.] \n",
      "y: [4. 5. 6.] \n",
      "z: [ 4. 10. 18.]\n"
     ]
    }
   ],
   "source": [
    "class Net(nn.Cell):\n",
    "    def __init__(self):\n",
    "        super(Net, self).__init__()\n",
    "        self.mul = ops.Mul()\n",
    "\n",
    "    def construct(self, x, y):\n",
    "        return self.mul(x, y)\n",
    "\n",
    "net = Net()\n",
    "x = ms.Tensor(np.array([1.0, 2.0, 3.0]).astype(np.float32))\n",
    "y = ms.Tensor(np.array([4.0, 5.0, 6.0]).astype(np.float32))\n",
    "z = net(x, y)\n",
    "\n",
    "print(\"x:\", x.asnumpy(), \"\\ny:\", y.asnumpy(), \"\\nz:\", z.asnumpy())"
   ]
  },
  {
   "cell_type": "markdown",
   "metadata": {},
   "source": [
    "## 同步执行\n",
    "\n",
    "在动态图模式下，为了提升性能，算子在device上使用了异步执行方式，因此在算子执行错误的时候，错误信息可能会在程序执行到最后才显示。针对这种情况，MindSpore增加了一个pynative_synchronize的设置来控制算子device上是否使用异步执行。\n",
    "\n",
    "动态图模式下算子默认为异步执行，可以通过设置context来控制是否异步执行。当算子执行失败时，可以方便地通过调用栈看到出错的代码位置。示例代码如下：\n",
    "\n",
    "```python\n",
    "import mindspore as ms\n",
    "\n",
    "# 通过设置pynative_synchronize来使算子同步执行\n",
    "ms.set_context(mode=ms.PYNATIVE_MODE, pynative_synchronize=True)\n",
    "\n",
    "class Net(nn.Cell):\n",
    "    def __init__(self):\n",
    "        super(Net, self).__init__()\n",
    "        self.get_next = ops.GetNext([ms.float32], [(1, 1)], 1, \"test\")\n",
    "\n",
    "    def construct(self, x1,):\n",
    "        x = self.get_next()\n",
    "        x = x + x1\n",
    "        return x\n",
    "\n",
    "ms.set_context()\n",
    "x1 = np.random.randn(1, 1).astype(np.float32)\n",
    "net = Net()\n",
    "output = net(ms.Tensor(x1))\n",
    "print(output.asnumpy())\n",
    "```\n",
    "\n",
    "输出：此时算子为同步执行，当算子执行错误时，可以看到完整的调用栈，找到出错的代码行。\n",
    "\n",
    "```text\n",
    "Traceback (most recent call last):\n",
    "  File \"test.py\", line 24, in <module>\n",
    "    output = net(ms.Tensor(x1))\n",
    "  File \".../mindspore/nn/cell.py\", line 602, in __call__\n",
    "    raise err\n",
    "  File \".../mindspore/nn/cell.py\", line 599, in __call__\n",
    "    output = self._run_construct(cast_inputs, kwargs)\n",
    "  File \".../mindspore/nn/cell.py\", line 429, in _run_construct\n",
    "    output = self.construct(*cast_inputs, **kwargs)\n",
    "  File \"test.py\", line 17, in construct\n",
    "    x = self.get_next()\n",
    "  File \".../mindspore/ops/primitive.py\", line 294, in __call__\n",
    "    return _run_op(self, self.name, args)\n",
    "  File \".../mindspore/common/api.py\", line 90, in wrapper\n",
    "    results = fn(*arg, **kwargs)\n",
    "  File \".../mindspore/ops/primitive.py\", line 754, in _run_op\n",
    "    output = real_run_op(obj, op_name, args)\n",
    "RuntimeError: mindspore/ccsrc/plugin/device/gpu/kernel/data/dataset_iterator_kernel.cc:139 Launch] For 'GetNext', gpu Queue(test) Open Failed: 2\n",
    "```"
   ]
  }
 ],
 "metadata": {
  "kernelspec": {
   "display_name": "MindSpore",
   "language": "python",
   "name": "mindspore"
  },
  "language_info": {
   "codemirror_mode": {
    "name": "ipython",
    "version": 3
   },
   "file_extension": ".py",
   "mimetype": "text/x-python",
   "name": "python",
   "nbconvert_exporter": "python",
   "pygments_lexer": "ipython3",
   "version": "3.7.3"
  }
 },
 "nbformat": 4,
 "nbformat_minor": 5
}
