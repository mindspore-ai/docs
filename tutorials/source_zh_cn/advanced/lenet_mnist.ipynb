{
 "cells": [
  {
   "cell_type": "markdown",
   "id": "1b3a8336",
   "metadata": {},
   "source": [
    "# 进阶案例：中低阶API实现手写数字识别\n",
    "\n",
    "[![下载Notebook](https://mindspore-website.obs.cn-north-4.myhuaweicloud.com/website-images/master/resource/_static/logo_notebook.png)](https://obs.dualstack.cn-north-4.myhuaweicloud.com/mindspore-website/notebook/master/tutorials/zh_cn/advanced/mindspore_lenet_mnist.ipynb)&emsp;[![下载样例代码](https://mindspore-website.obs.cn-north-4.myhuaweicloud.com/website-images/master/resource/_static/logo_download_code.png)](https://obs.dualstack.cn-north-4.myhuaweicloud.com/mindspore-website/notebook/master/tutorials/zh_cn/advanced/mindspore_lenet_mnist.py)&emsp;[![查看源文件](https://mindspore-website.obs.cn-north-4.myhuaweicloud.com/website-images/master/resource/_static/logo_source.png)](https://gitee.com/mindspore/docs/blob/master/tutorials/source_zh_cn/advanced/lenet_mnist.ipynb)\n",
    "\n",
    "MindSpore向用户提供了高阶、中阶和低阶3个不同层次的API，详细内容参见[基本介绍-层次结构内容章节](https://www.mindspore.cn/tutorials/zh-CN/master/beginner/introduction.html#层次结构)。本章将使用MindSpore提供的中低阶API，以LeNet网络模型为例，实现深度学习中的手写数字识别任务。\n",
    "\n",
    "本章将会介绍配置信息和使用MindSpore提供的中低阶API，实现自定义网络模型、数据加载，自定义训练、验证、推理流程。\n"
   ]
  },
  {
   "cell_type": "markdown",
   "id": "1f23132b",
   "metadata": {},
   "source": [
    "## 数据集下载和处理\n",
    "\n",
    "示例中用到的MNIST数据集是由10类28∗28的灰度图片组成，训练数据集包含60000张图片，测试数据集包含10000张图片。\n",
    "\n",
    "![mnist](https://mindspore-website.obs.cn-north-4.myhuaweicloud.com/website-images/master/tutorials/source_zh_cn/beginner/images/mnist.png)"
   ]
  },
  {
   "cell_type": "markdown",
   "id": "b9fc4460",
   "metadata": {},
   "source": [
    "### 数据集下载\n",
    "\n",
    "以下示例代码是MNIST数据集下载并解压到指定位置。"
   ]
  },
  {
   "cell_type": "code",
   "execution_count": 2,
   "id": "21577f9b",
   "metadata": {},
   "outputs": [
    {
     "name": "stdout",
     "output_type": "stream",
     "text": [
      "9913344B [00:03, 2535312.32B/s]                                                                                        \n",
      "29696B [00:00, 9924625.62B/s]                                                                                          \n",
      "1649664B [00:01, 899297.74B/s]                                                                                         \n",
      "5120B [00:00, 5137520.69B/s]                                                                                           \n"
     ]
    }
   ],
   "source": [
    "import os\n",
    "from mindvision.dataset import DownLoad\n",
    "\n",
    "# 数据集下载\n",
    "def download_data(url_mnist, data_name, mnist_path):\n",
    "\n",
    "    mnist_data_file = [url_mnist + data_name[0],\n",
    "                       url_mnist + data_name[1]]\n",
    "\n",
    "    # 下载MNIST数据集并解压\n",
    "    dl = DownLoad()\n",
    "    dl.download_and_extract_archive(url=mnist_data_file[0], download_path=mnist_path)\n",
    "    dl.download_and_extract_archive(url=mnist_data_file[1], download_path=mnist_path)\n",
    "\n",
    "    # 删除压缩文件\n",
    "    for i in os.listdir(mnist_path):\n",
    "        if i in data_name:\n",
    "            os.remove(mnist_path + i)\n",
    "\n",
    "data_name_train = [\"train-images-idx3-ubyte.gz\", \"train-labels-idx1-ubyte.gz\"]\n",
    "path_mnist_train = \"./mnist/train/\"\n",
    "data_name_test = [\"t10k-images-idx3-ubyte.gz\", \"t10k-labels-idx1-ubyte.gz\"]\n",
    "path_mnist_test = \"./mnist/test/\"\n",
    "url_mnist = \"http://yann.lecun.com/exdb/mnist/\"\n",
    "\n",
    "# 下载训练集\n",
    "download_data(url_mnist, data_name_train, path_mnist_train)\n",
    "# 下载验证集\n",
    "download_data(url_mnist, data_name_test, path_mnist_test)"
   ]
  },
  {
   "cell_type": "markdown",
   "id": "4f6cbee7",
   "metadata": {},
   "source": [
    "### 数据集加载\n",
    "\n",
    "使用[mindspore.dataset.MnistDataset](https://www.mindspore.cn/docs/zh-CN/master/api_python/dataset/mindspore.dataset.MnistDataset.html#mindspore.dataset.MnistDataset)接口加载MNIST数据集，使用数据集增强函数生成训练数据，通过定义的`create_data_to_net`方法将生成的60000个数据增强为7500组shape为(8, 1, 32, 32)的数据集。示例代码如下："
   ]
  },
  {
   "cell_type": "code",
   "execution_count": 3,
   "id": "a7b86b1b",
   "metadata": {},
   "outputs": [
    {
     "name": "stdout",
     "output_type": "stream",
     "text": [
      "The size of steps:  3750\n",
      "The x label value shape: (16, 1, 32, 32)\n",
      "The y label value shape: (16,)\n"
     ]
    },
    {
     "data": {
      "image/png": "[encoded data removed]",
      "text/plain": [
       "<Figure size 432x288 with 4 Axes>"
      ]
     },
     "metadata": {
      "needs_background": "light"
     },
     "output_type": "display_data"
    }
   ],
   "source": [
    "import mindspore.dataset as ds\n",
    "import mindspore.dataset.vision as vision\n",
    "from mindspore.dataset.transforms import Compose\n",
    "import matplotlib.pyplot as plt\n",
    "\n",
    "# 构建数据预处理\n",
    "def create_data_to_net(minist_path, batch_size, image_size):\n",
    "    # 加载数据\n",
    "    dataset_mnist2 = ds.MnistDataset(minist_path)\n",
    "\n",
    "    # 数据预处理方法\n",
    "    transforms_list = [\n",
    "        vision.Resize(size=image_size),\n",
    "        vision.HWC2CHW()]\n",
    "    compose_trans = Compose(transforms_list)\n",
    "    dataset_mnist2 = dataset_mnist2.map(operations=compose_trans, input_columns=[\"image\"])\n",
    "\n",
    "    dataset_mnist = dataset_mnist2.batch(batch_size, drop_remainder=True)\n",
    "\n",
    "    return dataset_mnist\n",
    "\n",
    "batch_size = 16\n",
    "image_size = [32, 32]\n",
    "\n",
    "train_data = create_data_to_net(path_mnist_train, batch_size, image_size)\n",
    "print(\"The size of steps: \", train_data.get_dataset_size())\n",
    "dict_datasets = next(train_data.create_dict_iterator())\n",
    "print(\"The x label value shape:\", dict_datasets[\"image\"].shape)\n",
    "print(\"The y label value shape:\", dict_datasets[\"label\"].shape)\n",
    "\n",
    "# 数据可视化\n",
    "ds_test = train_data.create_dict_iterator()\n",
    "data = next(ds_test)\n",
    "images = data[\"image\"].asnumpy()\n",
    "labels = data[\"label\"].asnumpy()\n",
    "plt.figure()\n",
    "for i in range(1, 5):\n",
    "    plt.subplot(1, 4, i)\n",
    "    plt.imshow(images[i-1][0], interpolation=\"None\", cmap=\"gray\")\n",
    "    plt.title(labels[i-1])\n",
    "plt.show()"
   ]
  },
  {
   "cell_type": "markdown",
   "id": "ebd036b8",
   "metadata": {},
   "source": [
    "## 定义网络模型\n",
    "\n",
    "按照LeNet的网络结构，LeNet除去输入层共有7层，其中有2个卷积层，2个子采样层，3个全连接层。模型结构如下图：\n",
    "\n",
    "![](https://mindspore-website.obs.cn-north-4.myhuaweicloud.com/website-images/master/tutorials/source_zh_cn/beginner/images/lenet.png)\n",
    "\n",
    "`mindspore.nn`类是构建所有网络的基类，也是网络的基本单元。当用户需要自定义网络时，可以继承`nn.Cell`类，并重写`__init__`方法和`construct`方法。\n",
    "\n",
    "为了便于管理和组成更复杂的网络，`mindspore.nn`提供了容器对网络中的子模型块或模型层进行管理，有`nn.CellList`和`nn.SequentialCell`两种方式。这里选择了使用`nn.CellList`方法。\n"
   ]
  },
  {
   "cell_type": "code",
   "execution_count": 4,
   "id": "bb74c2b2",
   "metadata": {},
   "outputs": [],
   "source": [
    "from mindspore import nn\n",
    "from mindspore.common.initializer import Normal\n",
    "\n",
    "# 自定义网络\n",
    "class MyNet(nn.Cell):\n",
    "    def __init__(self, num_classes=10, num_channel=1):\n",
    "        super(MyNet, self).__init__()\n",
    "        layers = [nn.Conv2d(num_channel, 6, 5, pad_mode='valid'),\n",
    "                  nn.ReLU(),\n",
    "                  nn.MaxPool2d(kernel_size=2, stride=2),\n",
    "                  nn.Conv2d(6, 16, 5, pad_mode='valid'),\n",
    "                  nn.ReLU(),\n",
    "                  nn.MaxPool2d(kernel_size=2, stride=2),\n",
    "                  nn.Flatten(),\n",
    "                  nn.Dense(16 * 5 * 5, 120, weight_init=Normal(0.02)),\n",
    "                  nn.ReLU(),\n",
    "                  nn.Dense(120, 84, weight_init=Normal(0.02)),\n",
    "                  nn.ReLU(),\n",
    "                  nn.Dense(84, num_classes, weight_init=Normal(0.02))]\n",
    "        # 使用CellList对网络进行管理\n",
    "        self.build_block = nn.CellList(layers)\n",
    "\n",
    "    def construct(self, x):\n",
    "        # for循环执行网络\n",
    "        for layer in self.build_block:\n",
    "            x = layer(x)\n",
    "        return x"
   ]
  },
  {
   "cell_type": "markdown",
   "id": "0da3367d",
   "metadata": {},
   "source": [
    "## 自定义损失函数\n",
    "\n",
    "损失函数（Loss Function）用于衡量预测值与真实值差异的程度。深度学习中，模型训练就是通过不停地迭代来缩小损失函数值的过程，因此在模型训练过程中损失函数的选择非常重要，定义一个好的损失函数可以帮助损失函数值更快收敛，达到更好的精度。\n",
    "\n",
    "本文使用的是softmax交叉熵损失函数，公式如下：\n",
    "\n",
    "$$p_{ij} = softmax(X_{ij}) = \\frac{\\exp(x_i)}{\\sum_{j = 0}^{N-1}\\exp(x_j)} \\tag{1}$$\n",
    "\n",
    "$$loss_{ij} = -\\sum_j{Y_{ij} * ln(p_{ij})} \\tag{2}$$\n",
    "\n",
    "其中X为模型前向网络的输出，Y为标签值。\n",
    "\n",
    "[mindspore.nn](https://www.mindspore.cn/docs/zh-CN/master/api_python/mindspore.nn.html#损失函数)提供了许多通用损失函数供用户选择， 也支持用户根据需要自定义损失函数。自定义损失函数类时，既可以继承网络的基类`nn.Cell`，也可以继承损失函数的基类`nn.LossBase`。`nn.LossBase`在`nn.Cell`的基础上，提供了`get_loss`方法，利用`reduction`参数对损失值求和或求均值，输出一个标量。下面将使用继承LossBase的方法来定义交叉熵损失函数(Cross Entropy Loss)，这里需要重写`__init__`方法和`construct`方法，使用`get_loss`方法计算损失。示例代码如下："
   ]
  },
  {
   "cell_type": "code",
   "execution_count": 5,
   "id": "3eff125d",
   "metadata": {},
   "outputs": [],
   "source": [
    "from mindspore import ops\n",
    "from mindspore import Tensor\n",
    "import mindspore.common.dtype as mstype\n",
    "\n",
    "# 自定义损失函数\n",
    "class MyLoss(nn.LossBase):\n",
    "    def __init__(self):\n",
    "        super(MyLoss, self).__init__()\n",
    "        self.one_hot = ops.OneHot()\n",
    "        self.on_value = Tensor(1.0, mstype.float32)\n",
    "        self.off_value = Tensor(0., mstype.float32)\n",
    "        self.softmax = ops.Softmax()\n",
    "        self.mul = ops.Mul()\n",
    "        self.op = ops.ReduceSum(keep_dims=True)\n",
    "\n",
    "    def construct(self, logits, labels):\n",
    "        # 对标签进行one hot编码\n",
    "        labels = self.one_hot(labels, ops.shape(logits)[-1], self.on_value, self.off_value)\n",
    "        x = self.softmax(logits)\n",
    "        x = -ops.log(x)\n",
    "        x = self.mul(labels, x)\n",
    "        x = self.op(x, 1)\n",
    "        x = x.repeat(1)\n",
    "        return self.get_loss(x)"
   ]
  },
  {
   "cell_type": "markdown",
   "id": "03b3d124",
   "metadata": {},
   "source": [
    "## 自定义优化器\n",
    "\n",
    "优化器在模型训练过程中，用于计算和更新网络参数，合适的优化器可以有效减少训练时间，提高模型性能。\n",
    "\n",
    "[mindspore.nn](https://www.mindspore.cn/docs/zh-CN/master/api_python/mindspore.nn.html#优化器)提供了许多通用的优化器供用户选择，同时也支持用户根据需要自定义优化器。\n",
    "\n",
    "自定义优化器时可以继承优化器基类`nn.Optimizer`，重写`__init__`方法和`construct`方法实现参数的更新。\n",
    "\n",
    "如下示例实现自定义优化器Momentum（带动量的SGD算法）：\n",
    "\n",
    "$$ v_{t+1} = v_t × u+grad \\tag{3}$$\n",
    "\n",
    "$$p_{t+1} = p_t - lr × v_{t+1} \\tag{4}$$\n",
    "\n",
    "其中，$grad$(梯度) 、$lr$(学习率) 、$p$(权重参数) 、$v$(动量参数（Momentum）) 和 $u$(初始速度)。"
   ]
  },
  {
   "cell_type": "code",
   "execution_count": 6,
   "id": "cfc717b2",
   "metadata": {},
   "outputs": [],
   "source": [
    "# 自定义优化器\n",
    "class MyMomentum(nn.Optimizer):\n",
    "    def __init__(self, params, learning_rate, momentum=0.9):\n",
    "        super(MyMomentum, self).__init__(learning_rate, params)\n",
    "        self.moment = ms.Parameter(ms.Tensor(momentum, ms.float32), name=\"moment\")\n",
    "        self.momentum = self.parameters.clone(prefix=\"momentum\", init=\"zeros\")\n",
    "        self.assign = ops.Assign()\n",
    "\n",
    "    def construct(self, gradients):\n",
    "        \"\"\"construct输入为梯度，在训练中自动传入梯度gradients\"\"\"\n",
    "        lr = self.get_lr()\n",
    "        params = self.parameters  # 待更新的权重参数\n",
    "        for i in range(len(params)):\n",
    "            self.assign(self.momentum[i], self.momentum[i] * self.moment + gradients[i])\n",
    "             # 带有动量的SGD算法\n",
    "            update = params[i] - self.momentum[i] * lr\n",
    "            # 将update赋值给params[i]\n",
    "            self.assign(params[i], update)\n",
    "        return params"
   ]
  },
  {
   "cell_type": "markdown",
   "id": "9693957a",
   "metadata": {},
   "source": [
    "## 自定义训练和验证流程\n",
    "\n",
    "`mindspore.Model`提供了`train`和`eval`的接口方便用户在训练过程中使用，但此接口无法适用于所有场景，比如多数据多标签场景，在这些场景下用户需自行定义训练过程。\n",
    "\n",
    "本节主要使用线性回归的例子来简单介绍自定义训练流程。首先定义损失网络，将前向网络与损失函数连接起来；然后定义训练流程，训练流程一般继承`nn.TrainOneStepCell`，`nn.TrainOneStepCell`封装了损失网络和优化器，用来实现反向传播网络以更新权重参数。\n",
    "\n",
    "### 定义损失网络\n",
    "\n",
    "定义损失网络`MyWithLossCell`，将前向网络与损失函数连接起来。代码如下："
   ]
  },
  {
   "cell_type": "code",
   "execution_count": 7,
   "id": "a9c2ed3a",
   "metadata": {},
   "outputs": [],
   "source": [
    "class MyWithLossCell(nn.Cell):\n",
    "    \"\"\"定义损失网络\"\"\"\n",
    "\n",
    "    def __init__(self, network, loss_fn):\n",
    "        \"\"\"实例化时传入前向网络和损失函数作为参数\"\"\"\n",
    "        super(MyWithLossCell, self).__init__(auto_prefix=False)\n",
    "        self.network = network\n",
    "        self.loss_fn = loss_fn\n",
    "\n",
    "    def construct(self, data, label):\n",
    "        \"\"\"连接前向网络和损失函数\"\"\"\n",
    "        out = self.network(data)\n",
    "        return self.loss_fn(out, label)"
   ]
  },
  {
   "cell_type": "markdown",
   "id": "a6f914b6",
   "metadata": {},
   "source": [
    "### 定义训练流程\n",
    "\n",
    "定义训练流程`MyTrainStep`，该类继承`nn.TrainOneStepCell`，`nn.TrainOneStepCell`封装了损失网络和优化器，在执行训练时通过`ops.GradOperation`算子来进行梯度的获取，通过优化器来实现权重的更新。"
   ]
  },
  {
   "cell_type": "code",
   "execution_count": 8,
   "id": "631f8878",
   "metadata": {},
   "outputs": [],
   "source": [
    "# 定义训练过程\n",
    "class MyTrainStep(nn.TrainOneStepCell):\n",
    "    def __init__(self, network, optimizer):\n",
    "        super(MyTrainStep, self).__init__(network, optimizer)\n",
    "        self.grad = ops.GradOperation(get_by_list=True)\n",
    "\n",
    "    def construct(self, data, label):\n",
    "        # 构建训练过程\n",
    "        weights = self.weights\n",
    "        loss = self.network(data, label)\n",
    "        grads = self.grad(self.network, weights)(data, label)\n",
    "        self.optimizer(grads)\n",
    "        return loss"
   ]
  },
  {
   "cell_type": "markdown",
   "id": "e1fc9d07",
   "metadata": {},
   "source": [
    "### 定义验证流程\n",
    "\n",
    "定义验证流程`MyWithEvalCell`，该类继承`nn.Cell`，这里需要用损失函数连接前向网络，需要输出损失、模型预测结果和标签值。"
   ]
  },
  {
   "cell_type": "code",
   "execution_count": 9,
   "id": "405bcf4c",
   "metadata": {},
   "outputs": [],
   "source": [
    "# 定义验证过程\n",
    "class MyWithEvalCell(nn.Cell):\n",
    "    def __init__(self, network, loss_fn):\n",
    "        super(MyWithEvalCell, self).__init__(auto_prefix=False)\n",
    "        self._network = network\n",
    "        self._loss_fn = loss_fn\n",
    "\n",
    "    def construct(self, data, label):\n",
    "        # 构建验证过程\n",
    "        outputs = self._network(data)\n",
    "        label = ops.functional.mixed_precision_cast(mstype.float32, label)\n",
    "        outputs = ops.functional.cast(outputs, mstype.float32)\n",
    "        loss = self._loss_fn(outputs, label)\n",
    "        return loss, outputs, label"
   ]
  },
  {
   "cell_type": "markdown",
   "id": "c91db9cb",
   "metadata": {},
   "source": [
    "### 执行训练和验证\n",
    "\n",
    "训练验证流程是先生成数据，然后初始化相关模块，再构建训练过程，再构建验证过程，这里验证过程用到网络的权重共享，最后打印结果。这里epochs设置为10，并选择每个epochs保存一次权重文件，每个epochs用验证集数据做一次验证，便于观察模型的训练的效果，具体代码如下："
   ]
  },
  {
   "cell_type": "code",
   "execution_count": 10,
   "id": "58ccae68",
   "metadata": {},
   "outputs": [
    {
     "name": "stdout",
     "output_type": "stream",
     "text": [
      "Epoch:[0/10], step:[3750/3750], epoch_time:14.22s, train_loss:0.25353754, acc:0.9785, eval_loss:0.06721991033004597.\n",
      "Epoch:[1/10], step:[3750/3750], epoch_time:12.6s, train_loss:0.012809625, acc:0.9832, eval_loss:0.05638552011344582.\n",
      "Epoch:[2/10], step:[3750/3750], epoch_time:13.74s, train_loss:0.0019591202, acc:0.9856, eval_loss:0.04582654931277502.\n",
      "Epoch:[3/10], step:[3750/3750], epoch_time:12.42s, train_loss:0.0023593744, acc:0.9861, eval_loss:0.0458989940400701.\n",
      "Epoch:[4/10], step:[3750/3750], epoch_time:12.45s, train_loss:0.00030701322, acc:0.9878, eval_loss:0.042475348692122494.\n",
      "Epoch:[5/10], step:[3750/3750], epoch_time:12.48s, train_loss:0.0038114265, acc:0.9888, eval_loss:0.03685572870048636.\n",
      "Epoch:[6/10], step:[3750/3750], epoch_time:12.59s, train_loss:0.17087981, acc:0.9899, eval_loss:0.036158681892016646.\n",
      "Epoch:[7/10], step:[3750/3750], epoch_time:13.09s, train_loss:0.0002066287, acc:0.9863, eval_loss:0.045936309088131386.\n",
      "Epoch:[8/10], step:[3750/3750], epoch_time:12.77s, train_loss:3.6083977e-05, acc:0.9905, eval_loss:0.034147325409375845.\n",
      "Epoch:[9/10], step:[3750/3750], epoch_time:13.67s, train_loss:0.010024064, acc:0.9904, eval_loss:0.037920279384946846.\n"
     ]
    }
   ],
   "source": [
    "import time\n",
    "import mindspore as ms\n",
    "\n",
    "epochs = 10\n",
    "\n",
    "# 生成数据\n",
    "train_data = create_data_to_net(path_mnist_train, batch_size, image_size)\n",
    "eval_data = create_data_to_net(path_mnist_test, batch_size, image_size)\n",
    "\n",
    "# 初始化网络\n",
    "net = MyNet()\n",
    "\n",
    "# 初始化损失函数\n",
    "loss = MyLoss()\n",
    "\n",
    "# 初始化优化器\n",
    "opt = MyMomentum(net.trainable_params(), learning_rate=0.0008, momentum=0.9)\n",
    "\n",
    "# 构建损失网络\n",
    "net_with_loss = MyWithLossCell(net, loss)\n",
    "\n",
    "# 构建训练网络\n",
    "train_net = MyTrainStep(net_with_loss, opt)\n",
    "\n",
    "# 设置网络为训练模式\n",
    "train_net.set_train()\n",
    "\n",
    "# 构建验证网络\n",
    "eval_net = MyWithEvalCell(net, loss)\n",
    "eval_net.set_train(False)\n",
    "loss_ = nn.Loss()\n",
    "metric = nn.Accuracy('classification')\n",
    "\n",
    "# 真正训练迭代过程\n",
    "steps = train_data.get_dataset_size()\n",
    "\n",
    "for epoch in range(epochs):\n",
    "    start = time.time()\n",
    "    for data in train_data.create_dict_iterator():\n",
    "        result = train_net(ms.Tensor(data['image'], ms.float32), ms.Tensor(data[\"label\"], ms.int32))\n",
    "    end = time.time()\n",
    "    time_ = round(end - start, 2)\n",
    "\n",
    "    # 保存权重\n",
    "    ms.save_checkpoint(train_net, f\"./ckpt/epoch_{epoch}_MyNet.ckpt\")\n",
    "\n",
    "    metric.clear()\n",
    "    loss_.clear()\n",
    "    for data_eval1 in eval_data.create_dict_iterator():\n",
    "        outputs = eval_net(ms.Tensor(data_eval1['image'], ms.float32), ms.Tensor(data_eval1[\"label\"], ms.int32))\n",
    "        metric.update(outputs[1], outputs[2])\n",
    "        loss_.update(outputs[0])\n",
    "\n",
    "    # 评估结果\n",
    "    metric_result = metric.eval()\n",
    "    loss_result = loss_.eval()\n",
    "\n",
    "    print(f\"Epoch:[{epoch}/{epochs}], \"\n",
    "          f\"step:[{steps}/{steps}], \"\n",
    "          f\"epoch_time:{time_}s, \"\n",
    "          f\"train_loss:{result}, \"\n",
    "          f\"acc:{metric_result}, \"\n",
    "          f\"eval_loss:{loss_result}.\")"
   ]
  },
  {
   "cell_type": "markdown",
   "id": "0fe7029f",
   "metadata": {},
   "source": [
    "## 构建推理流程\n",
    "\n",
    "我们使用生成的模型进行单个图片数据的分类预测，具体步骤如下：\n",
    "\n",
    "> - 被预测的图片会随机生成，每次运行结果可能会不一样。\n",
    "> - 代码使用了Tensor模块，阅读更多有关[张量Tensor](https://www.mindspore.cn/tutorials/zh-CN/master/beginner/tensor.html)的信息。"
   ]
  },
  {
   "cell_type": "code",
   "execution_count": 11,
   "id": "29d9f4c1",
   "metadata": {},
   "outputs": [
    {
     "data": {
      "image/png": "[encoded data removed]",
      "text/plain": [
       "<Figure size 432x288 with 4 Axes>"
      ]
     },
     "metadata": {
      "needs_background": "light"
     },
     "output_type": "display_data"
    },
    {
     "name": "stdout",
     "output_type": "stream",
     "text": [
      "result:  [5, 5, 6, 2]\n"
     ]
    }
   ],
   "source": [
    "from mindspore import load_checkpoint, load_param_into_net\n",
    "\n",
    "batch_size = 1\n",
    "image_size = [32, 32]\n",
    "\n",
    "# 初始化网络\n",
    "net = MyNet()\n",
    "\n",
    "# 初始化损失函数\n",
    "loss = MyLoss()\n",
    "\n",
    "# 加载权重文件\n",
    "param_dict = load_checkpoint(f\"./ckpt/epoch_{epoch}_MyNet.ckpt\")\n",
    "load_param_into_net(net, param_dict)\n",
    "\n",
    "# 构建推理网络\n",
    "eval_net = MyWithEvalCell(net, loss)\n",
    "eval_net.set_train(False)\n",
    "\n",
    "# 数据加载\n",
    "infer_data = create_data_to_net(path_mnist_test, batch_size, image_size)\n",
    "ds_test = train_data.create_dict_iterator()\n",
    "data = next(ds_test)\n",
    "images = data[\"image\"].asnumpy()\n",
    "labels = data[\"label\"].asnumpy()\n",
    "\n",
    "# 模型推理\n",
    "outputs = eval_net(ms.Tensor(data[\"image\"], ms.float32), ms.Tensor(data[\"label\"], ms.int32))\n",
    "\n",
    "# 结果可视化\n",
    "result = []\n",
    "i = 1\n",
    "plt.figure()\n",
    "for i in range(1, 5):\n",
    "    indices = outputs[1].argmax(axis=1)\n",
    "    result.append(indices.asnumpy()[i-1])\n",
    "    plt.subplot(1, 4, i)\n",
    "    plt.imshow(images[i-1][0], interpolation=\"None\", cmap=\"gray\")\n",
    "    plt.title(labels[i-1])\n",
    "plt.show()\n",
    "\n",
    "print(\"result: \", result)"
   ]
  }
 ],
 "metadata": {
  "kernelspec": {
   "display_name": "Python 3 (ipykernel)",
   "language": "python",
   "name": "python3"
  },
  "language_info": {
   "codemirror_mode": {
    "name": "ipython",
    "version": 3
   },
   "file_extension": ".py",
   "mimetype": "text/x-python",
   "name": "python",
   "nbconvert_exporter": "python",
   "pygments_lexer": "ipython3",
   "version": "3.9.7"
  },
  "toc": {
   "base_numbering": 1,
   "nav_menu": {},
   "number_sections": true,
   "sideBar": true,
   "skip_h1_title": false,
   "title_cell": "Table of Contents",
   "title_sidebar": "Contents",
   "toc_cell": false,
   "toc_position": {
    "height": "calc(100% - 180px)",
    "left": "10px",
    "top": "150px",
    "width": "304.475px"
   },
   "toc_section_display": true,
   "toc_window_display": true
  }
 },
 "nbformat": 4,
 "nbformat_minor": 5
}
