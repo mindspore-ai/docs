{
 "cells": [
  {
   "cell_type": "markdown",
   "id": "7e31ebc8-b449-4052-b959-8f473b6c9fb7",
   "metadata": {},
   "source": [
    "[![下载Notebook](https://mindspore-website.obs.cn-north-4.myhuaweicloud.com/website-images/master/resource/_static/logo_notebook.png)](https://mindspore-website.obs.cn-north-4.myhuaweicloud.com/notebook/master/tutorials/zh_cn/beginner/mindspore_transforms.ipynb)&emsp;[![下载样例代码](https://mindspore-website.obs.cn-north-4.myhuaweicloud.com/website-images/master/resource/_static/logo_download_code.png)](https://mindspore-website.obs.cn-north-4.myhuaweicloud.com/notebook/master/tutorials/zh_cn/beginner/mindspore_transforms.py)&emsp;[![查看源文件](https://mindspore-website.obs.cn-north-4.myhuaweicloud.com/website-images/master/resource/_static/logo_source.png)](https://gitee.com/mindspore/docs/blob/master/tutorials/source_zh_cn/beginner/transforms.ipynb)\n",
    "\n",
    "[基本介绍](https://www.mindspore.cn/tutorials/zh-CN/master/beginner/introduction.html) || [快速入门](https://www.mindspore.cn/tutorials/zh-CN/master/beginner/quick_start.html) || [张量 Tensor](https://www.mindspore.cn/tutorials/zh-CN/master/beginner/tensor.html) || [数据集 Dataset](https://www.mindspore.cn/tutorials/zh-CN/master/beginner/dataset.html) || **数据变换 Transforms** || [网络构建](https://www.mindspore.cn/tutorials/zh-CN/master/beginner/model.html) || [函数式自动微分](https://www.mindspore.cn/tutorials/zh-CN/master/beginner/autograd.html) || [模型训练](https://www.mindspore.cn/tutorials/zh-CN/master/beginner/train.html) || [保存与加载](https://www.mindspore.cn/tutorials/zh-CN/master/beginner/save_load.html) || [推理与部署](https://www.mindspore.cn/tutorials/zh-CN/master/beginner/infer.html)"
   ]
  },
  {
   "cell_type": "markdown",
   "id": "ca3f817f-57c1-42df-9529-3e390d067cf1",
   "metadata": {},
   "source": [
    "# 数据变换 Transforms\n",
    "\n",
    "通常情况下，直接加载的原始数据并不能直接送入神经网络进行训练，此时我们需要对其进行数据预处理。MindSpore提供不同种类的数据变换（Transforms），配合数据处理Pipeline来实现数据预处理。所有的Transforms均可通过`map`方法传入，实现对指定数据列的处理。\n",
    "\n",
    "`mindspore.dataset`提供了面向图像、文本、音频等不同数据类型的Transforms，同时也支持使用Lambda函数。下面分别对其进行介绍。"
   ]
  },
  {
   "cell_type": "code",
   "execution_count": 1,
   "id": "20a2f211-4515-4442-8c2b-c02b64dc668e",
   "metadata": {},
   "outputs": [],
   "source": [
    "import numpy as np\n",
    "from PIL import Image\n",
    "from mindvision import dataset\n",
    "from mindspore.dataset import transforms, vision, text, GeneratorDataset"
   ]
  },
  {
   "cell_type": "markdown",
   "id": "761ddc32-ab75-41ee-91d6-f4a4709be632",
   "metadata": {
    "tags": []
   },
   "source": [
    "## Common Transforms\n",
    "\n",
    "`mindspore.dataset.transforms`模块支持一系列通用Transforms。这里我们以`Compose`为例，介绍其使用方式。\n",
    "\n",
    "### Compose\n",
    "\n",
    "`Compose`接收一个数据增强操作序列，然后将其组合成单个数据增强操作。我们仍基于Mnist数据集呈现Transforms的应用效果。"
   ]
  },
  {
   "cell_type": "code",
   "execution_count": 2,
   "id": "abf6b9fe-688a-4dac-9a00-962eda1eb64f",
   "metadata": {},
   "outputs": [],
   "source": [
    "# Download training data from open datasets\n",
    "training_data = dataset.Mnist(\n",
    "    path=\"dataset\",\n",
    "    split=\"train\",\n",
    "    download=True\n",
    ")\n",
    "train_dataset = training_data.dataset"
   ]
  },
  {
   "cell_type": "code",
   "execution_count": 3,
   "id": "1bab3ebe-d258-4581-ad69-9bb85a7b7814",
   "metadata": {},
   "outputs": [
    {
     "data": {
      "text/plain": [
       "(28, 28, 1)"
      ]
     },
     "execution_count": 3,
     "metadata": {},
     "output_type": "execute_result"
    }
   ],
   "source": [
    "image, label = next(train_dataset.create_tuple_iterator())\n",
    "image.shape"
   ]
  },
  {
   "cell_type": "code",
   "execution_count": 4,
   "id": "87f4777b-1794-43b9-9816-44360b9c51db",
   "metadata": {},
   "outputs": [],
   "source": [
    "composed = transforms.Compose(\n",
    "    [\n",
    "        vision.Rescale(1.0 / 255.0, 0),\n",
    "        vision.Normalize(mean=(0.1307,), std=(0.3081,)),\n",
    "        vision.HWC2CHW()\n",
    "    ]\n",
    ")"
   ]
  },
  {
   "cell_type": "code",
   "execution_count": 5,
   "id": "0adfef6c-d730-4f0c-9a53-720cfc0d61c0",
   "metadata": {},
   "outputs": [
    {
     "data": {
      "text/plain": [
       "(1, 28, 28)"
      ]
     },
     "execution_count": 5,
     "metadata": {},
     "output_type": "execute_result"
    }
   ],
   "source": [
    "train_dataset = train_dataset.map(composed, 'image')\n",
    "image, label = next(train_dataset.create_tuple_iterator())\n",
    "image.shape"
   ]
  },
  {
   "cell_type": "markdown",
   "id": "750f876f-8263-4ea6-b085-5d3275f3e311",
   "metadata": {},
   "source": [
    "更多通用Transforms详见[mindspore.dataset.transforms](https://www.mindspore.cn/docs/zh-CN/master/api_python/mindspore.dataset.transforms.html)。"
   ]
  },
  {
   "cell_type": "markdown",
   "id": "23afcc06-4bfd-4a57-97e2-b5c09e05b142",
   "metadata": {},
   "source": [
    "## Vision Transforms\n",
    "\n",
    "`mindspore.dataset.vision`模块提供一系列针对图像数据的Transforms。在Mnist数据处理过程中，使用了`Rescale`、`Normalize`和`HWC2CHW`变换。下面对其进行详述。"
   ]
  },
  {
   "cell_type": "markdown",
   "id": "4cda18d2-7ad0-47c9-970a-ed5900c4ee3b",
   "metadata": {},
   "source": [
    "### Rescale\n",
    "\n",
    "`Rescale`变换用于调整图像像素值的大小，包括两个参数：\n",
    "\n",
    "- rescale：缩放因子。\n",
    "- shift：平移因子。\n",
    "\n",
    "图像的每个像素将根据这两个参数进行调整，输出的像素值为$output_{i} = input_{i} * rescale + shift$。\n",
    "\n",
    "这里我们先使用numpy随机生成一个像素值在\\[0, 255\\]的图像，将其像素值进行缩放。"
   ]
  },
  {
   "cell_type": "code",
   "execution_count": 6,
   "id": "c99377ed-e1ae-4c6f-8285-cde61039c069",
   "metadata": {},
   "outputs": [
    {
     "data": {
      "text/plain": [
       "array([[220, 139, 217, ..., 118, 227,  14],\n",
       "       [150, 162,  87, ...,  83, 101,  96],\n",
       "       [ 40,  53, 130, ...,  30,  97, 136],\n",
       "       ...,\n",
       "       [158, 227, 155, ...,  77, 122, 149],\n",
       "       [102, 106,  40, ...,  60, 130,  88],\n",
       "       [106, 162, 250, ..., 204,  82,  28]], dtype=uint8)"
      ]
     },
     "execution_count": 6,
     "metadata": {},
     "output_type": "execute_result"
    }
   ],
   "source": [
    "random_np = np.random.randint(0, 255, (48, 48), np.uint8)\n",
    "random_image = Image.fromarray(random_np)\n",
    "random_np"
   ]
  },
  {
   "cell_type": "markdown",
   "id": "9b17ac44-14ec-48a4-a43a-da4de1ad5c3e",
   "metadata": {},
   "source": [
    "为了更直观地呈现Transform前后的数据对比，我们使用Transforms的[Eager模式](https://www.mindspore.cn/tutorials/experts/zh-CN/master/dataset/eager.html)演示。首先实例化Transform对象，然后调用对象进行数据处理。"
   ]
  },
  {
   "cell_type": "code",
   "execution_count": 7,
   "id": "516f4169-a13f-42b2-b976-222b029194a1",
   "metadata": {},
   "outputs": [
    {
     "data": {
      "text/plain": [
       "array([[0.86274517, 0.54509807, 0.85098046, ..., 0.46274513, 0.89019614,\n",
       "        0.05490196],\n",
       "       [0.5882353 , 0.63529414, 0.34117648, ..., 0.3254902 , 0.39607847,\n",
       "        0.37647063],\n",
       "       [0.15686275, 0.20784315, 0.50980395, ..., 0.11764707, 0.3803922 ,\n",
       "        0.53333336],\n",
       "       ...,\n",
       "       [0.61960787, 0.89019614, 0.60784316, ..., 0.3019608 , 0.4784314 ,\n",
       "        0.58431375],\n",
       "       [0.40000004, 0.4156863 , 0.15686275, ..., 0.23529413, 0.50980395,\n",
       "        0.34509805],\n",
       "       [0.4156863 , 0.63529414, 0.9803922 , ..., 0.8000001 , 0.32156864,\n",
       "        0.10980393]], dtype=float32)"
      ]
     },
     "execution_count": 7,
     "metadata": {},
     "output_type": "execute_result"
    }
   ],
   "source": [
    "rescale = vision.Rescale(1.0 / 255.0, 0)\n",
    "rescaled_image = rescale(random_image)\n",
    "rescaled_image"
   ]
  },
  {
   "cell_type": "markdown",
   "id": "3cb95c6d-3db1-486f-b302-e97ab33c1d17",
   "metadata": {},
   "source": [
    "可以看到，使用`Rescale`后的每个像素值都进行了缩放。"
   ]
  },
  {
   "cell_type": "markdown",
   "id": "3361af8a-08f7-45f5-92b6-1ad3889c82e8",
   "metadata": {},
   "source": [
    "### Normalize\n",
    "\n",
    "`Normalize`变换用于对输入图像的归一化，包括三个参数：\n",
    "\n",
    "- mean：图像每个通道的均值。\n",
    "- std：图像每个通道的标准差。\n",
    "- is_hwc：输入图像格式为(height, width, channel)还是(channel, height, width)。\n",
    "\n",
    "图像的每个通道将根据`mean`和`std`进行调整，计算公式为$output_{c} = (input_{c} - \\frac{mean_{c}}{std_{c}})$，其中 $c$代表通道索引。"
   ]
  },
  {
   "cell_type": "code",
   "execution_count": 8,
   "id": "e370e1a3-1101-4280-be6a-befb0fbb532d",
   "metadata": {},
   "outputs": [
    {
     "data": {
      "text/plain": [
       "array([[ 2.3759987 ,  1.3450117 ,  2.337814  , ...,  1.0777187 ,\n",
       "         2.4650965 , -0.24601768],\n",
       "       [ 1.4850222 ,  1.637761  ,  0.6831434 , ...,  0.63223046,\n",
       "         0.8613388 ,  0.7976976 ],\n",
       "       [ 0.08491641,  0.2503835 ,  1.2304575 , ..., -0.04236592,\n",
       "         0.8104258 ,  1.306827  ],\n",
       "       ...,\n",
       "       [ 1.5868481 ,  2.4650965 ,  1.5486634 , ...,  0.55586106,\n",
       "         1.1286317 ,  1.472294  ],\n",
       "       [ 0.87406707,  0.92498   ,  0.08491641, ...,  0.33948112,\n",
       "         1.2304575 ,  0.69587165],\n",
       "       [ 0.92498   ,  1.637761  ,  2.7578456 , ...,  2.172347  ,\n",
       "         0.61950225, -0.06782239]], dtype=float32)"
      ]
     },
     "execution_count": 8,
     "metadata": {},
     "output_type": "execute_result"
    }
   ],
   "source": [
    "normalize = vision.Normalize(mean=(0.1307,), std=(0.3081,))\n",
    "normalized_image = normalize(rescaled_image)\n",
    "normalized_image"
   ]
  },
  {
   "cell_type": "markdown",
   "id": "cdf32c52-9f7c-428a-97d3-3c207e4ad092",
   "metadata": {},
   "source": [
    "### HWC2CWH\n",
    "\n",
    "`HWC2CWH`变换用于转换图像格式。在不同的硬件设备中可能会对(height, width, channel)或(channel, height, width)两种不同格式有针对性优化。MindSpore设置HWC为默认图像格式，在有CWH格式需求时，可使用该变换进行处理。\n",
    "\n",
    "这里我们先将前文中`normalized_image`处理为HWC格式，然后进行转换。可以看到转换前后的shape发生了变化。"
   ]
  },
  {
   "cell_type": "code",
   "execution_count": 9,
   "id": "3725b284-f2df-45f3-a7f7-8c3a68e3d44a",
   "metadata": {},
   "outputs": [
    {
     "data": {
      "text/plain": [
       "((48, 48, 1), (1, 48, 48))"
      ]
     },
     "execution_count": 9,
     "metadata": {},
     "output_type": "execute_result"
    }
   ],
   "source": [
    "hwc_image = np.expand_dims(normalized_image, -1)\n",
    "hwc2cwh = vision.HWC2CHW()\n",
    "chw_image = hwc2cwh(hwc_image)\n",
    "hwc_image.shape, chw_image.shape"
   ]
  },
  {
   "cell_type": "markdown",
   "id": "43ab9fbc-3201-425b-a5f0-62696a5446a0",
   "metadata": {},
   "source": [
    "更多Vision Transforms详见[mindspore.dataset.vision](https://www.mindspore.cn/docs/zh-CN/master/api_python/mindspore.dataset.vision.html)。"
   ]
  },
  {
   "cell_type": "markdown",
   "id": "1128625a-8bdc-4e90-8a2f-b951f4b27752",
   "metadata": {},
   "source": [
    "## Text Transforms"
   ]
  },
  {
   "cell_type": "markdown",
   "id": "0a25654c-2850-4df0-9214-531c25f751af",
   "metadata": {},
   "source": [
    "`mindspore.dataset.text`模块提供一系列针对文本数据的Transforms。与图像数据不同，文本数据需要有分词（Tokenize）、构建词表、Token转Index等操作。这里简单介绍其使用方法。\n",
    "\n",
    "首先我们定义三段文本，作为待处理的数据，并使用`GeneratorDataset`进行加载。"
   ]
  },
  {
   "cell_type": "code",
   "execution_count": 10,
   "id": "6d93837b-d975-4044-8e24-58fb2f4e5011",
   "metadata": {},
   "outputs": [],
   "source": [
    "texts = [\n",
    "    'Welcome to Beijing',\n",
    "    '北京欢迎您！',\n",
    "    '我喜欢China!',\n",
    "]"
   ]
  },
  {
   "cell_type": "code",
   "execution_count": 11,
   "id": "598bca9b-e755-4fe2-a7d6-b152e82c9d1a",
   "metadata": {},
   "outputs": [],
   "source": [
    "test_dataset = GeneratorDataset(texts, 'text')"
   ]
  },
  {
   "cell_type": "markdown",
   "id": "a9ab6175-6b60-495e-bb4d-37b97052c11e",
   "metadata": {},
   "source": [
    "### BasicTokenizer\n",
    "\n",
    "分词（Tokenize）操作是文本数据的基础处理方法，MindSpore提供多种不同的Tokenizer。这里我们选择基础的`BasicTokenizer`举例。配合`map`，将三段文本进行分词，可以看到处理后的数据成功分词。"
   ]
  },
  {
   "cell_type": "code",
   "execution_count": 12,
   "id": "6636e1d1-59b9-4198-bab9-5a7343a66710",
   "metadata": {},
   "outputs": [
    {
     "data": {
      "text/plain": [
       "[Tensor(shape=[5], dtype=String, value= ['我', '喜', '欢', 'China', '!'])]"
      ]
     },
     "execution_count": 12,
     "metadata": {},
     "output_type": "execute_result"
    }
   ],
   "source": [
    "test_dataset = test_dataset.map(text.BasicTokenizer())\n",
    "next(test_dataset.create_tuple_iterator())"
   ]
  },
  {
   "cell_type": "markdown",
   "id": "d7ed698c-1edc-4c56-8a24-498ade32b2b9",
   "metadata": {},
   "source": [
    "### Lookup\n",
    "\n",
    "`Lookup`为词表映射变换，用来将Token转换为Index。在使用`Lookup`前，需要构造词表，一般可以加载已有的词表，或使用`Vocab`生成词表。这里我们选择使用`Vocab.from_dataset`方法从数据集中生成词表。"
   ]
  },
  {
   "cell_type": "code",
   "execution_count": 13,
   "id": "00884c33-a3ee-4b8f-8ee3-582d210fce85",
   "metadata": {},
   "outputs": [],
   "source": [
    "vocab = text.Vocab.from_dataset(test_dataset)"
   ]
  },
  {
   "cell_type": "markdown",
   "id": "5a7dbd0a-5c0f-49f6-b562-feb0ddabfba1",
   "metadata": {},
   "source": [
    "获得词表后我们可以使用`vocab`方法查看词表。"
   ]
  },
  {
   "cell_type": "code",
   "execution_count": 14,
   "id": "cebc8d0d-a9e4-45c3-bc00-742d903632e9",
   "metadata": {},
   "outputs": [
    {
     "data": {
      "text/plain": [
       "{'Beijing': 2,\n",
       " '欢': 0,\n",
       " '喜': 8,\n",
       " 'Welcome': 4,\n",
       " 'China': 3,\n",
       " 'to': 5,\n",
       " '京': 6,\n",
       " '北': 7,\n",
       " '您': 9,\n",
       " '我': 10,\n",
       " '!': 1,\n",
       " '迎': 11,\n",
       " '！': 12}"
      ]
     },
     "execution_count": 14,
     "metadata": {},
     "output_type": "execute_result"
    }
   ],
   "source": [
    "vocab.vocab()"
   ]
  },
  {
   "cell_type": "markdown",
   "id": "ccde57b8-74f9-4ff2-915f-17bd1da87c59",
   "metadata": {},
   "source": [
    "生成词表后，可以配合`map`方法进行词表映射变换，将Token转为Index。"
   ]
  },
  {
   "cell_type": "code",
   "execution_count": 15,
   "id": "8919313b-e1c8-45e0-8b81-e0815f75b626",
   "metadata": {},
   "outputs": [
    {
     "data": {
      "text/plain": [
       "[Tensor(shape=[6], dtype=Int32, value= [ 7,  6,  0, 11,  9, 12])]"
      ]
     },
     "execution_count": 15,
     "metadata": {},
     "output_type": "execute_result"
    }
   ],
   "source": [
    "test_dataset = test_dataset.map(text.Lookup(vocab))\n",
    "next(test_dataset.create_tuple_iterator())"
   ]
  },
  {
   "cell_type": "markdown",
   "id": "425077b8-0a15-4317-9d44-16d0bc84ea4c",
   "metadata": {},
   "source": [
    "更多Text Transforms详见[mindspore.dataset.text](https://www.mindspore.cn/docs/zh-CN/master/api_python/mindspore.dataset.text.html)。"
   ]
  },
  {
   "cell_type": "markdown",
   "id": "2103e098-7a4f-43da-af61-14640aeb66e7",
   "metadata": {
    "tags": []
   },
   "source": [
    "## Lambda Transforms\n",
    "\n",
    "Lambda函数是一种不需要名字、由一个单独表达式成的匿名函数，表达式会在调用时被求值。Lambda Transforms可以加载任意定义的Lambda函数，提供足够的灵活度。在这里，我们首先使用一个简单的Lambda函数，对输入数据乘2："
   ]
  },
  {
   "cell_type": "code",
   "execution_count": 16,
   "id": "f49555eb-82a2-449e-b97f-ce9620e9d7d4",
   "metadata": {},
   "outputs": [
    {
     "data": {
      "text/plain": [
       "[[Tensor(shape=[], dtype=Int64, value= 2)],\n",
       " [Tensor(shape=[], dtype=Int64, value= 4)],\n",
       " [Tensor(shape=[], dtype=Int64, value= 6)]]"
      ]
     },
     "execution_count": 16,
     "metadata": {},
     "output_type": "execute_result"
    }
   ],
   "source": [
    "test_dataset = GeneratorDataset([1, 2, 3], 'data', shuffle=False)\n",
    "test_dataset = test_dataset.map(lambda x: x * 2)\n",
    "list(test_dataset.create_tuple_iterator())"
   ]
  },
  {
   "cell_type": "markdown",
   "id": "5e8f538c-9b88-48aa-924e-e1023fbd2f5b",
   "metadata": {},
   "source": [
    "可以看到`map`传入Lambda函数后，迭代获得数据进行了乘2操作。\n",
    "\n",
    "我们也可以定义较复杂的函数，配合Lambda函数实现复杂数据处理："
   ]
  },
  {
   "cell_type": "code",
   "execution_count": 17,
   "id": "124f2f07-cc2f-4093-ba1f-9de56adcf06a",
   "metadata": {},
   "outputs": [],
   "source": [
    "def func(x):\n",
    "    return x * x + 2\n",
    "\n",
    "test_dataset = test_dataset.map(lambda x: func(x))"
   ]
  },
  {
   "cell_type": "code",
   "execution_count": 18,
   "id": "0deb59e5-54c3-4c12-9e00-f48570b9bb77",
   "metadata": {},
   "outputs": [
    {
     "data": {
      "text/plain": [
       "[[Tensor(shape=[], dtype=Int64, value= 6)],\n",
       " [Tensor(shape=[], dtype=Int64, value= 18)],\n",
       " [Tensor(shape=[], dtype=Int64, value= 38)]]"
      ]
     },
     "execution_count": 18,
     "metadata": {},
     "output_type": "execute_result"
    }
   ],
   "source": [
    "list(test_dataset.create_tuple_iterator())"
   ]
  }
 ],
 "metadata": {
  "kernelspec": {
   "display_name": "MindSpore",
   "language": "python",
   "name": "mindspore"
  },
  "language_info": {
   "codemirror_mode": {
    "name": "ipython",
    "version": 3
   },
   "file_extension": ".py",
   "mimetype": "text/x-python",
   "name": "python",
   "nbconvert_exporter": "python",
   "pygments_lexer": "ipython3",
   "version": "3.7.5"
  }
 },
 "nbformat": 4,
 "nbformat_minor": 5
}
