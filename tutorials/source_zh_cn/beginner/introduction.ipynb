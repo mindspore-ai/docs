{
 "cells": [
  {
   "cell_type": "markdown",
   "id": "c55e51c5-4069-4134-8f68-7ea9a45f0038",
   "metadata": {},
   "source": [
    "[![查看源文件](https://mindspore-website.obs.cn-north-4.myhuaweicloud.com/website-images/r2.6.0rc1/resource/_static/logo_source.svg)](https://gitee.com/mindspore/docs/blob/r2.6.0rc1/tutorials/source_zh_cn/beginner/introduction.ipynb)\n",
    "\n",
    "**基本介绍** || [快速入门](https://www.mindspore.cn/tutorials/zh-CN/r2.6.0rc1/beginner/quick_start.html#) || [张量 Tensor](https://www.mindspore.cn/tutorials/zh-CN/r2.6.0rc1/beginner/tensor.html) || [数据加载与处理](https://www.mindspore.cn/tutorials/zh-CN/r2.6.0rc1/beginner/dataset.html) || [网络构建](https://www.mindspore.cn/tutorials/zh-CN/r2.6.0rc1/beginner/model.html) || [函数式自动微分](https://www.mindspore.cn/tutorials/zh-CN/r2.6.0rc1/beginner/autograd.html) || [模型训练](https://www.mindspore.cn/tutorials/zh-CN/r2.6.0rc1/beginner/train.html) || [保存与加载](https://www.mindspore.cn/tutorials/zh-CN/r2.6.0rc1/beginner/save_load.html) || [Graph Mode加速](https://www.mindspore.cn/tutorials/zh-CN/r2.6.0rc1/beginner/accelerate_with_static_graph.html) || [自动混合精度](https://www.mindspore.cn/tutorials/zh-CN/r2.6.0rc1/beginner/mixed_precision.html) ||"
   ]
  },
  {
   "cell_type": "markdown",
   "id": "e2b9aa7d",
   "metadata": {
    "tags": []
   },
   "source": [
    "# 基本介绍\n",
    "\n",
    "本节将会整体介绍昇思MindSpore和华为昇腾AI全栈，并介绍昇思MindSpore在华为昇腾AI全栈中的位置。对昇思MindSpore感兴趣的开发者，最后可以参与昇思MindSpore的[社区](https://gitee.com/mindspore/mindspore)并一键三连[（Watch/Star/Fork）](https://gitee.com/mindspore/mindspore)。\n",
    "\n",
    "## 昇思MindSpore介绍\n",
    "\n",
    "### 整体架构\n",
    "\n",
    "MindSpore整体架构如下：\n",
    "\n",
    "1. 模型套件：为开发者提供开箱即用的模型和开发套件，如大模型套件MindSpore Transformers、MindSpore ONE以及科学计算库等热点研究领域拓展库；\n",
    "2. 深度学习+科学计算：为开发者提供AI模型开发所需各类Python接口，最大化保持开发者在Python生态开发的使用习惯；\n",
    "3. 核心：作为AI框架的核心，构建Tensor数据结构、基础运算算子Operator、自动求导autograd模块、并行计算Parallel模块、编译compile能力以及runtime运行时管理模块。\n",
    "\n",
    "![arch](https://mindspore-website.obs.cn-north-4.myhuaweicloud.com/website-images/r2.6.0rc1/docs/mindspore/source_zh_cn/design/images/arch_zh.png)\n",
    "\n",
    "### 设计理念\n",
    "\n",
    "昇思MindSpore是一个全场景深度学习框架，旨在实现易开发、高效执行、全场景统一部署三大目标。其中，易开发表现为API友好，调试难度低；高效执行包括计算效率、数据预处理效率和分布式训练效率；全场景则指框架同时支持云、边缘以及端侧场景。\n",
    "\n",
    "## 华为昇腾AI全栈介绍\n",
    "\n",
    "昇腾计算是基于昇腾系列处理器构建的全栈AI计算基础设施及应用，包括昇腾Ascend系列芯片、Atlas系列硬件、CANN芯片使能、MindSpore AI框架、ModelArts、MindX应用使能等。\n",
    "\n",
    "华为Atlas人工智能计算解决方案，是基于昇腾系列AI处理器，通过模块、板卡、小站、服务器、集群等丰富的产品形态，打造面向“端、边、云”的全场景AI基础设施方案，涵盖数据中心解决方案、智能边缘解决方案，覆盖深度学习领域推理和训练全流程。\n",
    "\n",
    "昇腾AI全栈如下图所示：\n",
    "\n",
    "![昇腾全栈](https://mindspore-website.obs.cn-north-4.myhuaweicloud.com/website-images/r2.6.0rc1/tutorials/source_zh_cn/beginner/images/introduction1.png)\n",
    "\n",
    "下面简单介绍每个模块的作用：\n",
    "\n",
    "- **昇腾应用使能**：华为各大产品线基于MindSpore提供的AI平台或服务能力\n",
    "- **MindSpore**：支持端、边、云独立的和协同的统一训练和推理框架\n",
    "- **CANN**：昇腾芯片使能、驱动层（[了解更多](https://www.hiascend.com/zh/software/cann)）。\n",
    "- **计算资源**：昇腾系列化IP、芯片和服务器\n",
    "\n",
    "详细信息请点击[华为昇腾官网](https://e.huawei.com/cn/products/servers/ascend)。\n",
    "\n",
    "## 参与社区\n",
    "\n",
    "欢迎每一个开发者都加入到昇思MindSpore的社区中，为全场景AI框架昇思MindSpore添砖加瓦！\n",
    "\n",
    "- **昇思MindSpore 官网**：可以全方位了解昇思MindSpore，包括安装、教程、文档、社区、资源下载和资讯栏目等（[了解更多](https://www.mindspore.cn/)）。\n",
    "- **昇思MindSpore 代码**：\n",
    "\n",
    "    - [MindSpore Gitee](https://gitee.com/mindspore/mindspore)：2020年Gitee千万开源项目中Gitee指数TOP1项目，一键三连（Watch/Star/Fork）即可随时跟踪MindSpore最新进展，参与issues讨论、提交代码！\n",
    "\n",
    "    - [MindSpore GitHub](https://github.com/mindspore-ai/mindspore)：Gitee的MindSpore代码镜像，习惯用GitHub的开发者可以在这里进行MindSpore的学习，查看最新代码实现！\n",
    "\n",
    "- **昇思MindSpore 论坛**：我们努力地服务好每一个开发者，在昇思MindSpore中，无论是入门开发者还是高手大咖都能找到知音，共同学习，共同成长！（[了解更多](https://www.hiascend.com/forum/forum-0106101385921175002-1.html)）"
   ]
  }
 ],
 "metadata": {
  "kernelspec": {
   "display_name": "MindSpore",
   "language": "python",
   "name": "mindspore"
  },
  "language_info": {
   "codemirror_mode": {
    "name": "ipython",
    "version": 3
   },
   "file_extension": ".py",
   "mimetype": "text/x-python",
   "name": "python",
   "nbconvert_exporter": "python",
   "pygments_lexer": "ipython3",
   "version": "3.7.5"
  }
 },
 "nbformat": 4,
 "nbformat_minor": 5
}
