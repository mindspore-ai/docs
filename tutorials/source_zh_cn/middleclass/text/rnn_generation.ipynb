{
 "cells": [
  {
   "cell_type": "markdown",
   "metadata": {},
   "source": [
    "# 使用字符级RNN生成名称\n",
    "\n",
    "## 概述\n",
    "\n",
    "在NLP的教程[《使用字符级RNN分类名称》](https://www.mindspore.cn/tutorial/zh-CN/master/middleclass/text/rnn_classification.html)中，我们使用了RNN将名称与对应语言进行分类。这次，我们将通过反向操作来生成不同语言的名称。本教程我们仍通过编写由一些线性层构建出的的小型RNN来实现目标。此次与之前最大的区别在于，我们不是在输入名字中的所有字母后预测类别，而是输入一个类别，然后一次输出一个字母。这种反复预测字符以形成语言（这也可以用单词或其他高阶结构来完成）的方法通常称为“语言模型”。"
   ]
  },
  {
   "cell_type": "markdown",
   "metadata": {},
   "source": [
    "## 准备环节"
   ]
  },
  {
   "cell_type": "markdown",
   "metadata": {},
   "source": [
    "### 配置环境"
   ]
  },
  {
   "cell_type": "markdown",
   "metadata": {},
   "source": [
    "本教程我们在Ascend环境下，使用PyNative模式运行实验。"
   ]
  },
  {
   "cell_type": "code",
   "execution_count": 1,
   "metadata": {},
   "outputs": [],
   "source": [
    "from mindspore import context\n",
    "context.set_context(mode=context.PYNATIVE_MODE, device_target=\"Ascend\")"
   ]
  },
  {
   "cell_type": "markdown",
   "metadata": {},
   "source": [
    "### 准备数据\n",
    "\n",
    "下载[数据](https://mindspore-website.obs.cn-north-4.myhuaweicloud.com/notebook/datasets/middleclass/data.zip)，并将其提取到当前目录。\n",
    "\n",
    "有关此过程的更多详细信息，请参见[《使用字符级RNN分类名称》](https://www.mindspore.cn/tutorial/zh-CN/master/middleclass/text/rnn_classification.html)。 简而言之，数据集由纯文本文件`data/names/[Language].txt`构成，每行都有一个名称。我们将行拆分成一个数组，将Unicode转换为ASCII，最后得到一个字典`{language: [names ...]}`。\n"
   ]
  },
  {
   "cell_type": "markdown",
   "metadata": {},
   "source": [
    "在Jupyter Notebook中执行如下命令下载数据集。"
   ]
  },
  {
   "cell_type": "code",
   "execution_count": 2,
   "metadata": {},
   "outputs": [],
   "source": [
    "!wget -NP ./ https://mindspore-website.obs.cn-north-4.myhuaweicloud.com/notebook/datasets/middleclass/data.zip\n",
    "!unzip ./data.zip"
   ]
  },
  {
   "cell_type": "markdown",
   "metadata": {},
   "source": [
    "## 数据处理"
   ]
  },
  {
   "cell_type": "code",
   "execution_count": 3,
   "metadata": {},
   "outputs": [
    {
     "name": "stdout",
     "output_type": "stream",
     "text": [
      "# categories: 18 ['Japanese', 'Chinese', 'Polish', 'Scottish', 'Vietnamese', 'Czech', 'Portuguese', 'Dutch', 'Greek', 'French', 'Arabic', 'Russian', 'Spanish', 'Korean', 'English', 'Italian', 'German', 'Irish']\n",
      "O'Neal\n"
     ]
    }
   ],
   "source": [
    "import os\n",
    "import glob\n",
    "import string\n",
    "import unicodedata\n",
    "from io import open\n",
    "\n",
    "all_letters = string.ascii_letters + \" .,;'-\"\n",
    "n_letters = len(all_letters) + 1\n",
    "\n",
    "def findFiles(path): return glob.glob(path)\n",
    "\n",
    "# 将Unicode字符串转换为纯ASCII\n",
    "def unicodeToAscii(s):\n",
    "    return ''.join(\n",
    "        c for c in unicodedata.normalize('NFD', s)\n",
    "        if unicodedata.category(c) != 'Mn'\n",
    "        and c in all_letters\n",
    "    )\n",
    "\n",
    "# 读取文件并切分语句\n",
    "def readLines(filename):\n",
    "    lines = open(filename, encoding='utf-8').read().strip().split('\\n')\n",
    "    return [unicodeToAscii(line) for line in lines]\n",
    "\n",
    "# 建立类别语句的字典同时保存类别的列表\n",
    "category_lines = {}\n",
    "all_categories = []\n",
    "for filename in findFiles('data/names/*.txt'):\n",
    "    category = os.path.splitext(os.path.basename(filename))[0]\n",
    "    all_categories.append(category)\n",
    "    lines = readLines(filename)\n",
    "    category_lines[category] = lines\n",
    "\n",
    "n_categories = len(all_categories)\n",
    "\n",
    "if n_categories == 0:\n",
    "    raise RuntimeError('Data not found. Make sure that you downloaded data set to the current directory.')\n",
    "\n",
    "print('# categories:', n_categories, all_categories)\n",
    "print(unicodeToAscii(\"O'Néàl\"))"
   ]
  },
  {
   "cell_type": "markdown",
   "metadata": {},
   "source": [
    "## 创建网络\n",
    "\n",
    "该网络基于[《使用字符级RNN分类名称》](https://www.mindspore.cn/tutorial/zh-CN/master/middleclass/text/rnn_classification.html)这篇教程中的RNN网络进行了扩展，附加了一个与其他向量连接在一起的新参数向量。该变量与字母输入采用一样的one-hot编码。\n",
    "\n",
    "与上一个网络结构略有不同，为了有更好的效果，在`output combined`层之后我们又添加了一个线性层`o2o`。与此同时也新添加一个`dropout`层，根据[论文](https://arxiv.org/abs/1207.0580)以一定的概率（此处为0.1）将输入的部分随机归零。这一步骤通常用于模糊输入来防止过拟合。这里我们在网络末端利用这一特性来故意添加意外情况，以及样本的多样性。\n",
    "\n",
    "![](images/run2.png)"
   ]
  },
  {
   "cell_type": "code",
   "execution_count": 4,
   "metadata": {},
   "outputs": [],
   "source": [
    "import mindspore.nn as nn\n",
    "import mindspore.ops as ops\n",
    "\n",
    "class RNN(nn.Cell):\n",
    "    \"\"\"定义RNN网络\"\"\"\n",
    "    def __init__(self, input_size, hidden_size, output_size):\n",
    "        super(RNN, self).__init__()\n",
    "        self.hidden_size = hidden_size\n",
    "\n",
    "        self.i2h = nn.Dense(n_categories + input_size + hidden_size, hidden_size)\n",
    "        self.i2o = nn.Dense(n_categories + input_size + hidden_size, output_size)\n",
    "        self.o2o = nn.Dense(hidden_size + output_size, output_size)\n",
    "        self.dropout = nn.Dropout(0.1)\n",
    "        self.softmax = nn.LogSoftmax(axis=1)\n",
    "\n",
    "    def construct(self, category, input, hidden):\n",
    "        # 构建RNN网络结构\n",
    "        op = ops.Concat(axis=1)\n",
    "        input_combined = op((category, input, hidden))\n",
    "        hidden = self.i2h(input_combined)\n",
    "        output = self.i2o(input_combined)\n",
    "        output_combined = op((hidden, output))\n",
    "        output = self.o2o(output_combined)\n",
    "        output = self.dropout(output)\n",
    "        output = self.softmax(output)\n",
    "        return output, hidden\n",
    "\n",
    "    def initHidden(self):\n",
    "        return Tensor(np.zeros((1, self.hidden_size)),mstype.float32)"
   ]
  },
  {
   "cell_type": "markdown",
   "metadata": {},
   "source": [
    "## 训练\n",
    "\n",
    "### 准备训练\n",
    "\n",
    "首先，定义一个能获取随机对`(category，line)`的辅助函数："
   ]
  },
  {
   "cell_type": "code",
   "execution_count": 5,
   "metadata": {},
   "outputs": [],
   "source": [
    "import random\n",
    "\n",
    "# 从列表中随机生成随即对\n",
    "def randomChoice(l):\n",
    "    return l[random.randint(0, len(l) - 1)]\n",
    "\n",
    "# 获取随机类并获取该类的随机行\n",
    "def randomTrainingPair():\n",
    "    category = randomChoice(all_categories)\n",
    "    line = randomChoice(category_lines[category])\n",
    "    return category, line"
   ]
  },
  {
   "cell_type": "markdown",
   "metadata": {},
   "source": [
    "对于训练集中的每个名称，该网络的输入为：`(category, current letter, hidden state)`，输出为：`(next letter, next hidden state)`。因此对于每个训练集，我们都需要`categoryTensor`（代表种类的one-hot向量），用于输入的`inputTensor`（由首字母到尾字母（不包括EOS）组成的one-hot矩阵）和用于输出的`targetTensor`（由第二个字母到尾字母（不包括EOS）组成的向量）。\n",
    "\n",
    "在每个timestep中，因为我们需要预测当前字母所对应的下一个字母，所以需要拆分连续字母来组成字母对。例如：对于`\"ABCD<EOS>\"`，我们将创建出`('A', 'B'), ('B', 'C'), ('C', 'D'), ('D', 'EOS')`字母对。\n",
    "\n",
    "![](images/pair.png)\n",
    "\n",
    "我们在训练时会持续将`category`向量传输至网络中，该向量是大小为`<1 x n_categories>`的[one-hot向量](https://en.wikipedia.org/wiki/One-hot)。"
   ]
  },
  {
   "cell_type": "code",
   "execution_count": 6,
   "metadata": {},
   "outputs": [],
   "source": [
    "# 代表category的one-hot向量\n",
    "def categoryTensor(category):\n",
    "    li = all_categories.index(category)\n",
    "    tensor = Tensor(np.zeros((1, n_categories)),mstype.float32)\n",
    "    tensor[0,li] = 1.0\n",
    "    return tensor\n",
    "\n",
    "# 定义输入为一个由首字母到尾字母（不包括EOS）组成的one-hot矩阵\n",
    "def inputTensor(line):\n",
    "    tensor = Tensor(np.zeros((len(line), 1, n_letters)), mstype.float32)\n",
    "    for li in range(len(line)):\n",
    "        letter = line[li]\n",
    "        tensor[li,0,all_letters.find(letter)] = 1.0\n",
    "    return tensor\n",
    "\n",
    "# 由第二个字母到尾字母(不包括EOS)组成的向量\n",
    "def targetTensor(line):\n",
    "    letter_indexes = [all_letters.find(line[li]) for li in range(1, len(line))]\n",
    "    letter_indexes.append(n_letters - 1) # EOS\n",
    "    return Tensor(np.array(letter_indexes), mstype.int64)"
   ]
  },
  {
   "cell_type": "markdown",
   "metadata": {},
   "source": [
    "为了方便训练，我们将使用`randomTrainingExample`函数来获取随机对`(category，line)`，并将其转换为所需格式的`(category, input, target)`向量。"
   ]
  },
  {
   "cell_type": "code",
   "execution_count": 7,
   "metadata": {},
   "outputs": [],
   "source": [
    "def randomTrainingExample():\n",
    "    category, line = randomTrainingPair()\n",
    "    category_tensor = categoryTensor(category)\n",
    "    input_line_tensor = inputTensor(line)\n",
    "    target_line_tensor = targetTensor(line)\n",
    "    return category_tensor, input_line_tensor, target_line_tensor"
   ]
  },
  {
   "cell_type": "markdown",
   "metadata": {},
   "source": [
    "### 训练网络\n",
    "\n",
    "与分类模型依赖最后输出作为结果不同，这里我们在每一步都进行了预测，因此每一步都需要计算损失。"
   ]
  },
  {
   "cell_type": "code",
   "execution_count": 8,
   "metadata": {},
   "outputs": [],
   "source": [
    "from mindspore import ops\n",
    "from mindspore.nn.loss import Loss\n",
    "\n",
    "# 定义Loss计算\n",
    "class NLLLoss(Loss):\n",
    "    def __init__(self, reduction='mean'):\n",
    "        super(NLLLoss, self).__init__(reduction)\n",
    "        self.one_hot = ops.OneHot()\n",
    "        self.reduce_sum = ops.ReduceSum()\n",
    "    def construct(self, logits, label):\n",
    "        label_one_hot = self.one_hot(label, ops.shape(logits)[-1], ops.ScalarToArray(1.0), ops.ScalarToArray(0.0))\n",
    "        loss = self.reduce_sum(-1.0 * logits * label_one_hot, (1,))\n",
    "        return self.get_loss(loss)"
   ]
  },
  {
   "cell_type": "code",
   "execution_count": 9,
   "metadata": {},
   "outputs": [],
   "source": [
    "criterion = NLLLoss()"
   ]
  },
  {
   "cell_type": "code",
   "execution_count": 10,
   "metadata": {},
   "outputs": [],
   "source": [
    "from mindspore import nn, ops, Tensor\n",
    "import numpy as np\n",
    "from mindspore import dtype as mstype\n",
    "\n",
    "class WithLossCellRnn(nn.Cell):\n",
    "    \"\"\"构建有损失计算的RNN网络\"\"\"\n",
    "    def __init__(self, backbone,loss_fn):\n",
    "        super(WithLossCellRnn, self).__init__(auto_prefix=True)\n",
    "        self._backbone = backbone\n",
    "        self._loss_fn = loss_fn\n",
    "\n",
    "    def construct(self, category_tensor, input_line_tensor, hidden, target_line_tensor):\n",
    "        loss = 0\n",
    "        for i in range(input_line_tensor.shape[0]):\n",
    "            output, hidden = self._backbone(category_tensor, input_line_tensor[i], hidden)\n",
    "            l = self._loss_fn(output, target_line_tensor[i])\n",
    "            loss += l\n",
    "        return loss"
   ]
  },
  {
   "cell_type": "code",
   "execution_count": 11,
   "metadata": {},
   "outputs": [],
   "source": [
    "rnn_cf = RNN(n_letters, 128, n_letters)\n",
    "\n",
    "# 创建优化器和损失网络实例\n",
    "optimizer = nn.Momentum(filter(lambda x:x.requires_grad,rnn_cf.get_parameters()),0.0001,0.9)\n",
    "net_with_criterion = WithLossCellRnn(rnn_cf, criterion)\n",
    "net = nn.TrainOneStepCell(net_with_criterion, optimizer)\n",
    "net.set_train()\n",
    "# 定义训练方法\n",
    "def train(category_tensor,input_line_tensor, target_line_tensor):\n",
    "    new_shape = list(target_line_tensor.shape)\n",
    "    new_shape.append(1)\n",
    "    target_line_tensor = target_line_tensor.reshape(new_shape)\n",
    "    hidden = rnn_cf.initHidden()\n",
    "    loss = net(category_tensor, input_line_tensor, hidden,target_line_tensor)\n",
    "    for i in range(input_line_tensor.shape[0]):\n",
    "        output, hidden = rnn_cf(category_tensor, input_line_tensor[i], hidden)\n",
    "    return  output, loss / input_line_tensor.shape[0]"
   ]
  },
  {
   "cell_type": "markdown",
   "metadata": {},
   "source": [
    "为了跟踪训练需要多长时间，这里添加了一个`timeSince`函数，方便我们持续看到训练的整个过程："
   ]
  },
  {
   "cell_type": "code",
   "execution_count": 12,
   "metadata": {},
   "outputs": [],
   "source": [
    "import time\n",
    "import math\n",
    "# 定义可读时间回调字符串\n",
    "def timeSince(since):\n",
    "    now = time.time()\n",
    "    s = now - since\n",
    "    m = math.floor(s / 60)\n",
    "    s -= m * 60\n",
    "    return '%dm %ds' % (m, s)"
   ]
  },
  {
   "cell_type": "markdown",
   "metadata": {},
   "source": [
    "在训练过程中，每经过`print_every`个样本打印当前时间和损失值。同时，在`all_losses`中根据`plot_every`的设定值计算平均损失，以便于后面绘制训练的过程图像。"
   ]
  },
  {
   "cell_type": "code",
   "execution_count": 13,
   "metadata": {},
   "outputs": [
    {
     "name": "stdout",
     "output_type": "stream",
     "text": [
      "1m 50s (500 6%) 3.6736\n",
      "2m 55s (1000 13%) 3.7153\n",
      "4m 4s (1500 20%) 4.1140\n",
      "5m 12s (2000 26%) 4.0867\n",
      "6m 16s (2500 33%) 3.5248\n",
      "7m 21s (3000 40%) 3.9484\n",
      "8m 26s (3500 46%) 3.5863\n",
      "9m 30s (4000 53%) 3.8334\n",
      "10m 34s (4500 60%) 4.1381\n",
      "11m 38s (5000 66%) 4.1342\n",
      "12m 43s (5500 73%) 3.1236\n",
      "13m 48s (6000 80%) 3.8153\n",
      "15m 0s (6500 86%) 4.0366\n",
      "16m 3s (7000 93%) 4.0648\n",
      "17m 9s (7500 100%) 3.6050\n"
     ]
    }
   ],
   "source": [
    "n_iters = 7500\n",
    "print_every = 500\n",
    "plot_every = 100\n",
    "all_losses = []\n",
    "# 每经过100次迭代，就重置为0\n",
    "total_loss = 0 \n",
    "\n",
    "start = time.time()\n",
    "\n",
    "for iter in range(1, n_iters + 1):\n",
    "    output, loss = train(*randomTrainingExample())\n",
    "    total_loss += loss\n",
    "    if iter % print_every == 0:\n",
    "        print('%s (%d %d%%) %.4f'% (timeSince(start), iter, iter / n_iters * 100, loss.asnumpy())) \n",
    "    if iter % plot_every == 0:\n",
    "        all_losses.append((total_loss / plot_every).asnumpy())\n",
    "        total_loss = 0"
   ]
  },
  {
   "cell_type": "markdown",
   "metadata": {},
   "source": [
    "使用`matplotlib.pyplot`绘制训练过程中损失函数的图像。"
   ]
  },
  {
   "cell_type": "code",
   "execution_count": 14,
   "metadata": {},
   "outputs": [
    {
     "data": {
      "text/plain": [
       "[<matplotlib.lines.Line2D at 0x7fcc91a3f590>]"
      ]
     },
     "execution_count": 15,
     "metadata": {},
     "output_type": "execute_result"
    },
    {
     "data": {
      "image/png": "[encoded data removed]",
      "text/plain": [
       "<Figure size 432x288 with 1 Axes>"
      ]
     },
     "metadata": {
      "needs_background": "light"
     },
     "output_type": "display_data"
    }
   ],
   "source": [
    "import matplotlib.pyplot as plt\n",
    "plt.figure()\n",
    "plt.plot(all_losses)"
   ]
  },
  {
   "cell_type": "markdown",
   "metadata": {},
   "source": [
    "## 验证模型\n",
    "\n",
    "在训练结束后，对获得的模型进行验证。这里，我们向网络中输入一个字母并推理得出下一个。将这一步的输出字母作为下一步的输入，重复直到EOS标记处。\n"
   ]
  },
  {
   "cell_type": "code",
   "execution_count": 16,
   "metadata": {},
   "outputs": [
    {
     "name": "stdout",
     "output_type": "stream",
     "text": [
      "Rrlk\n",
      "Usnaolena\n",
      "Srkeaaainiknnuoo\n",
      "Gtranarssir\n",
      "Eauasacgliratgiukra\n",
      "Rilasakaaagitnhrgoaus\n",
      "Senah\n",
      "Po\n",
      "Atainalliganiiaiohua\n",
      "Cmar\n",
      "He\n",
      "Iaaaere\n"
     ]
    }
   ],
   "source": [
    "max_length = 20\n",
    "\n",
    "# 根据类别与起始字母创建名称\n",
    "def sample(category, start_letter='A'):\n",
    "    category_tensor = categoryTensor(category)\n",
    "    input = inputTensor(start_letter)\n",
    "    hidden = rnn_cf.initHidden()\n",
    "    output_name = start_letter\n",
    "    for i in range(max_length):\n",
    "        output, hidden = rnn_cf(category_tensor, input[0], hidden)\n",
    "        topk = ops.TopK(sorted=True)\n",
    "        topv, topi = topk(output,1)\n",
    "        topi = topi[0,0]\n",
    "        if topi == n_letters - 1:\n",
    "            break\n",
    "        else:\n",
    "            letter = all_letters[topi]\n",
    "            output_name += letter\n",
    "        input = inputTensor(letter)\n",
    "\n",
    "    return output_name\n",
    "\n",
    "# 遍历提供的字母，得到输出名称\n",
    "def samples(category, start_letters='ABC'):\n",
    "    for start_letter in start_letters:\n",
    "        print(sample(category, start_letter))\n",
    "\n",
    "samples('Russian', 'RUS')\n",
    "\n",
    "samples('German', 'GER')\n",
    "\n",
    "samples('Spanish', 'SPA')\n",
    "\n",
    "samples('Chinese', 'CHI')"
   ]
  }
 ],
 "metadata": {
  "kernelspec": {
   "display_name": "Python 3",
   "language": "python",
   "name": "python3"
  },
  "language_info": {
   "codemirror_mode": {
    "name": "ipython",
    "version": 3
   },
   "file_extension": ".py",
   "mimetype": "text/x-python",
   "name": "python",
   "nbconvert_exporter": "python",
   "pygments_lexer": "ipython3",
   "version": "3.8.5"
  },
  "toc": {
   "base_numbering": 1,
   "nav_menu": {},
   "number_sections": true,
   "sideBar": true,
   "skip_h1_title": false,
   "title_cell": "Table of Contents",
   "title_sidebar": "Contents",
   "toc_cell": false,
   "toc_position": {},
   "toc_section_display": true,
   "toc_window_display": false
  }
 },
 "nbformat": 4,
 "nbformat_minor": 4
}
