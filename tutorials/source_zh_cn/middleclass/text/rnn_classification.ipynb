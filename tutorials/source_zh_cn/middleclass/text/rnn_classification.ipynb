{
 "cells": [
  {
   "cell_type": "markdown",
   "metadata": {},
   "source": [
    "# 使用字符级RNN分类名称\n",
    "\n",
    "[![](https://gitee.com/mindspore/docs/raw/master/resource/_static/logo_source.png)](https://gitee.com/mindspore/docs/blob/master/tutorials/source_zh_cn/middleclass/text/rnn_classification.ipynb)\n",
    "\n",
    "RNN即循环神经网络，常用于NLP领域当中来解决序列化数据的建模问题。本教程为“从零开始的NLP”第一篇，我们将建立和训练基本的字符级RNN模型对单词进行分类，以帮助用户理解该网络。\n",
    "\n",
    "字符级RNN将单词作为一系列字符来读取，在每个步骤输出预测，隐藏此时的状态并输入到下一步中。 我们将最终的预测作为输出，该输出用来表示单词属于哪个类别。本实验中，我们将训练来自18种语言的数千种姓氏，并根据拼写方式预测名称的来源："
   ]
  },
  {
   "cell_type": "markdown",
   "metadata": {},
   "source": [
    "```bash\n",
    "$ python predict.py Hinton\n",
    "(-0.47) Scottish\n",
    "(-1.52) English\n",
    "(-3.57) Irish\n",
    "\n",
    "$ python predict.py Schmidhuber\n",
    "(-0.19) German\n",
    "(-2.48) Czech\n",
    "(-2.68) Dutch\n",
    "\n",
    "```"
   ]
  },
  {
   "cell_type": "markdown",
   "metadata": {},
   "source": [
    "## 环境配置"
   ]
  },
  {
   "cell_type": "markdown",
   "metadata": {},
   "source": [
    "我们使用`PyNative`模式运行实验，使用GPU环境。"
   ]
  },
  {
   "cell_type": "code",
   "execution_count": 1,
   "metadata": {},
   "outputs": [],
   "source": [
    "from mindspore import context\n",
    "context.set_context(mode=context.PYNATIVE_MODE, device_target=\"GPU\")"
   ]
  },
  {
   "cell_type": "markdown",
   "metadata": {},
   "source": [
    "## 准备数据\n",
    "\n",
    "点击[这里](https://mindspore-website.obs.cn-north-4.myhuaweicloud.com/notebook/datasets/middleclass/data.zip)下载数据，并将其提取到当前目录。\n",
    "\n",
    "`data/names`目录中包含 18 个文本文件，名称为`[Language].txt`。 每个文件包含一系列名称，每行一个名称，大多数是罗马音，我们需要将其从Unicode转换为ASCII。\n",
    "\n",
    "转换之后我们将得到一个字典，其中列出了每种语言的名称列表`{language: [names ...]}`。 通用变量为“category”和“line”，代表语言种类及名称。"
   ]
  },
  {
   "cell_type": "code",
   "execution_count": 2,
   "metadata": {},
   "outputs": [
    {
     "name": "stdout",
     "output_type": "stream",
     "text": [
      "['data/names/Japanese.txt', 'data/names/Chinese.txt', 'data/names/Polish.txt', 'data/names/Scottish.txt', 'data/names/Vietnamese.txt', 'data/names/Czech.txt', 'data/names/Portuguese.txt', 'data/names/Dutch.txt', 'data/names/Greek.txt', 'data/names/French.txt', 'data/names/Arabic.txt', 'data/names/Russian.txt', 'data/names/Spanish.txt', 'data/names/Korean.txt', 'data/names/English.txt', 'data/names/Italian.txt', 'data/names/German.txt', 'data/names/Irish.txt']\n",
      "Slusarski\n"
     ]
    }
   ],
   "source": [
    "from io import open\n",
    "import glob\n",
    "import os\n",
    "import warnings\n",
    "import unicodedata\n",
    "import string\n",
    "warnings.filterwarnings('ignore')\n",
    "\n",
    "def findFiles(path): return glob.glob(path)\n",
    "\n",
    "print(findFiles('data/names/*.txt'))\n",
    "\n",
    "all_letters = string.ascii_letters + \" .,;'\"\n",
    "n_letters = len(all_letters)\n",
    "\n",
    "# Unicode转化为ASCII\n",
    "def unicodeToAscii(s):\n",
    "    return ''.join(\n",
    "        c for c in unicodedata.normalize('NFD', s)\n",
    "        if unicodedata.category(c) != 'Mn'\n",
    "        and c in all_letters\n",
    "    )\n",
    "\n",
    "print(unicodeToAscii('Ślusàrski'))\n",
    "\n",
    "# 建立category_lines dictionary\n",
    "category_lines = {}\n",
    "all_categories = []\n",
    "\n",
    "# 读文件并且分列\n",
    "def readLines(filename):\n",
    "    lines = open(filename, encoding='utf-8').read().strip().split('\\n')\n",
    "    return [unicodeToAscii(line) for line in lines]\n",
    "\n",
    "for filename in findFiles('data/names/*.txt'):\n",
    "    category = os.path.splitext(os.path.basename(filename))[0]\n",
    "    all_categories.append(category)\n",
    "    lines = readLines(filename)\n",
    "    category_lines[category] = lines\n",
    "\n",
    "n_categories = len(all_categories)"
   ]
  },
  {
   "cell_type": "markdown",
   "metadata": {},
   "source": [
    "现在我们有了`category_lines`字典，可以将每个`category`（语言种类）映射到`line`（名称）。在这个过程中同步建立了语言列表`all_categories`和语言数量`n_categories`，用于后续的处理。"
   ]
  },
  {
   "cell_type": "code",
   "execution_count": 3,
   "metadata": {},
   "outputs": [
    {
     "name": "stdout",
     "output_type": "stream",
     "text": [
      "['Abandonato', 'Abatangelo', 'Abatantuono', 'Abate', 'Abategiovanni']\n"
     ]
    }
   ],
   "source": [
    "print(category_lines['Italian'][:5])"
   ]
  },
  {
   "cell_type": "markdown",
   "metadata": {},
   "source": [
    "## 将名称转换为向量"
   ]
  },
  {
   "cell_type": "markdown",
   "metadata": {},
   "source": [
    "现在需要将名称转变为向量。\n",
    "\n",
    "为了表示单个字母，我们使用大小为`<1 x n_letters>`的one-hot向量。one-hot向量用0填充，但当前字母的索引处的数字为1，例如 `\"b\" = <0 1 0 0 0 ...>`。\n",
    "\n",
    "为了组成单词，我们将其中的一些向量连接成2D矩阵`<line_length x 1 x n_letters>`。"
   ]
  },
  {
   "cell_type": "code",
   "execution_count": 4,
   "metadata": {},
   "outputs": [
    {
     "name": "stdout",
     "output_type": "stream",
     "text": [
      "[[0. 0. 0. 0. 0. 0. 0. 0. 0. 0. 0. 0. 0. 0. 0. 0. 0. 0. 0. 0. 0. 0. 0. 0.\n",
      "  0. 0. 0. 0. 0. 0. 0. 0. 0. 0. 0. 1. 0. 0. 0. 0. 0. 0. 0. 0. 0. 0. 0. 0.\n",
      "  0. 0. 0. 0. 0. 0. 0. 0. 0.]]\n",
      "(5, 1, 57)\n"
     ]
    }
   ],
   "source": [
    "import numpy as np\n",
    "from mindspore import Tensor\n",
    "from mindspore import dtype as mstype\n",
    "\n",
    "# 查找字母索引，例如\"a\" = 0\n",
    "def letterToIndex(letter):\n",
    "    return all_letters.find(letter)\n",
    "\n",
    "# 将字母变为 <1 x n_letters> Tensor\n",
    "def letterToTensor(letter):\n",
    "    tensor = Tensor(np.zeros((1, n_letters)),mstype.float32)\n",
    "    tensor[0,letterToIndex(letter)] = 1.0\n",
    "    return tensor\n",
    "\n",
    "# 将一行转化为<line_length x 1 x n_letters>，或者array形式的one-hot向量\n",
    "def lineToTensor(line):\n",
    "    tensor = Tensor(np.zeros((len(line), 1, n_letters)),mstype.float32)\n",
    "    for li, letter in enumerate(line):\n",
    "        tensor[li,0,letterToIndex(letter)] = 1.0\n",
    "    return tensor\n",
    "\n",
    "print(letterToTensor('J'))\n",
    "\n",
    "print(lineToTensor('Jones').shape)"
   ]
  },
  {
   "cell_type": "markdown",
   "metadata": {},
   "source": [
    "## 创建网络\n",
    "\n",
    "创建的RNN网络只有两个线性层，它们在输入和隐藏状态下运行，在线性层的输出之后是`LogSoftmax`层。网络结构如图中所示。\n",
    "\n",
    "![rnn](images/run1.png)"
   ]
  },
  {
   "cell_type": "code",
   "execution_count": 5,
   "metadata": {},
   "outputs": [],
   "source": [
    "import mindspore.nn as nn\n",
    "import mindspore.ops as ops\n",
    "class RNN(nn.Cell):\n",
    "    \n",
    "    def __init__(self, input_size, hidden_size, output_size):\n",
    "        super(RNN, self).__init__()\n",
    "        self.hidden_size = hidden_size\n",
    "        self.i2h = nn.Dense(input_size + hidden_size, hidden_size)\n",
    "        self.i2o = nn.Dense(input_size + hidden_size, output_size)\n",
    "        self.softmax = nn.LogSoftmax(axis=1)\n",
    "\n",
    "    def construct(self, input, hidden):\n",
    "        op = ops.Concat(axis=1)\n",
    "        combined = op((input, hidden))\n",
    "        hidden = self.i2h(combined)\n",
    "        output = self.i2o(combined)\n",
    "        output = self.softmax(output)\n",
    "        return output, hidden\n",
    "\n",
    "    def initHidden(self):\n",
    "        return Tensor(np.zeros((1, self.hidden_size)),mstype.float32)\n",
    "\n",
    "       \n",
    "n_hidden = 128\n",
    "rnn = RNN(n_letters, n_hidden, n_categories)"
   ]
  },
  {
   "cell_type": "markdown",
   "metadata": {},
   "source": [
    "在运行网络之前，我们需要输入代表当前字母的向量，以及先前的隐藏状态。这里将隐藏状态初始化为0。在运行过程中，可以返回属于每种语言的概率和下一个隐藏状态。"
   ]
  },
  {
   "cell_type": "code",
   "execution_count": 6,
   "metadata": {},
   "outputs": [],
   "source": [
    "input = letterToTensor('A')\n",
    "hidden =Tensor(np.zeros((1, n_hidden)),mstype.float32)\n",
    "\n",
    "output, next_hidden = rnn(input, hidden)\n"
   ]
  },
  {
   "cell_type": "markdown",
   "metadata": {},
   "source": [
    "为了提高效率，避免在每一步中都创建一个新向量，因此将使用`lineToTensor`而不是`letterToTensor`，同时也采取切片操作。"
   ]
  },
  {
   "cell_type": "code",
   "execution_count": 7,
   "metadata": {},
   "outputs": [
    {
     "name": "stdout",
     "output_type": "stream",
     "text": [
      "[[-2.8951542 -2.8894851 -2.89519   -2.9023316 -2.88667   -2.8859577\n",
      "  -2.8895268 -2.8953846 -2.8703299 -2.8869376 -2.8837688 -2.8951073\n",
      "  -2.8964722 -2.898948  -2.8797808 -2.8864856 -2.885134  -2.9046268]]\n"
     ]
    }
   ],
   "source": [
    "input = lineToTensor('Albert')\n",
    "hidden = Tensor(np.zeros((1, n_hidden)),mstype.float32)\n",
    "\n",
    "output, next_hidden = rnn(input[0], hidden)\n",
    "print(output)"
   ]
  },
  {
   "cell_type": "markdown",
   "metadata": {},
   "source": [
    "可以看到，输出为`<1 x n_categories>`形式的向量，其中每个数字都代表了分类的可能性。"
   ]
  },
  {
   "cell_type": "markdown",
   "metadata": {},
   "source": [
    "## 训练\n",
    "\n",
    "### 准备训练\n",
    "\n",
    "在接受训练之前，需要一些前处理工作。这里使用`ops.TopK`获得网络输出的最大值，也就是最靠近类别的可能性。"
   ]
  },
  {
   "cell_type": "code",
   "execution_count": 8,
   "metadata": {},
   "outputs": [
    {
     "name": "stdout",
     "output_type": "stream",
     "text": [
      "('Greek', 8)\n"
     ]
    }
   ],
   "source": [
    "def categoryFromOutput(output):\n",
    "    topk = ops.TopK(sorted=True)\n",
    "    top_n, top_i = topk(output,1)\n",
    "    category_i = top_i.asnumpy().item(0)\n",
    "    return all_categories[category_i], category_i\n",
    "\n",
    "print(categoryFromOutput(output))"
   ]
  },
  {
   "cell_type": "markdown",
   "metadata": {},
   "source": [
    "我们还将希望有一种快速的方法来获取训练示例，包括名称及其所属的语言类别。"
   ]
  },
  {
   "cell_type": "code",
   "execution_count": 9,
   "metadata": {},
   "outputs": [
    {
     "name": "stdout",
     "output_type": "stream",
     "text": [
      "category = Russian / line = Avdulov\n",
      "category = Spanish / line = Puerta\n",
      "category = Polish / line = Kowalczyk\n",
      "category = Arabic / line = Hakimi\n",
      "category = Scottish / line = Miller\n",
      "category = Vietnamese / line = Thai\n",
      "category = Czech / line = Kacirek\n",
      "category = Portuguese / line = Ferreiro\n",
      "category = Vietnamese / line = Do\n",
      "category = Polish / line = Fabian\n"
     ]
    }
   ],
   "source": [
    "import random\n",
    "\n",
    "def randomChoice(l):\n",
    "    return l[random.randint(0, len(l) - 1)]\n",
    "\n",
    "def randomTrainingExample():\n",
    "    category = randomChoice(all_categories)\n",
    "    line = randomChoice(category_lines[category])\n",
    "    category_tensor = Tensor([all_categories.index(category)], mstype.int32)\n",
    "    line_tensor = lineToTensor(line)\n",
    "    return category, line, category_tensor, line_tensor\n",
    "\n",
    "for i in range(10):\n",
    "    category, line, category_tensor, line_tensor = randomTrainingExample()\n",
    "    print('category =', category, '/ line =', line)\n"
   ]
  },
  {
   "cell_type": "markdown",
   "metadata": {},
   "source": [
    "### 训练网络\n",
    "\n",
    "可以通过大量数据来进行网络训练。由于网络的最后一层是`nn.LogSoftmax`，所以采用`NLLLoss`来作为损失函数。"
   ]
  },
  {
   "cell_type": "code",
   "execution_count": 10,
   "metadata": {},
   "outputs": [],
   "source": [
    "import mindspore.ops as ops\n",
    "from mindspore.nn.loss import Loss\n",
    "\n",
    "class NLLLoss(Loss):\n",
    "    def __init__(self, reduction='mean'):\n",
    "        super(NLLLoss, self).__init__(reduction)\n",
    "        self.one_hot = ops.OneHot()\n",
    "        self.reduce_sum = ops.ReduceSum()\n",
    "    def construct(self, logits, label):\n",
    "        label_one_hot = self.one_hot(label, ops.shape(logits)[-1], ops.ScalarToArray(1.0), ops.ScalarToArray(0.0))\n",
    "        loss = self.reduce_sum(-1.0 * logits * label_one_hot, (1,))\n",
    "        return self.get_loss(loss)"
   ]
  },
  {
   "cell_type": "code",
   "execution_count": 11,
   "metadata": {},
   "outputs": [],
   "source": [
    "criterion = NLLLoss()"
   ]
  },
  {
   "cell_type": "markdown",
   "metadata": {},
   "source": [
    "每个训练循环将：\n",
    "\n",
    "- 创建输入和目标向量\n",
    "- 创建归零的初始隐藏状态\n",
    "- 阅读每个字母并保存下一个字母的隐藏状态\n",
    "- 比较最终输出与目标值\n",
    "- 反向传播\n",
    "- 返回输出和损失"
   ]
  },
  {
   "cell_type": "code",
   "execution_count": 12,
   "metadata": {},
   "outputs": [],
   "source": [
    "from mindspore import nn, ops, context\n",
    "\n",
    "class WithLossCellRnn(nn.Cell):\n",
    "    def __init__(self, backbone,loss_fn):\n",
    "        super(WithLossCellRnn, self).__init__(auto_prefix=True)\n",
    "        self._backbone = backbone\n",
    "        self._loss_fn = loss_fn\n",
    "\n",
    "    def construct(self, line_tensor, hidden, category_tensor):\n",
    "        for i in range(line_tensor.shape[0]):\n",
    "            output, hidden = self._backbone(line_tensor[i], hidden)\n",
    "        return self._loss_fn(output, category_tensor)"
   ]
  },
  {
   "cell_type": "code",
   "execution_count": 13,
   "metadata": {},
   "outputs": [],
   "source": [
    "from mindspore import ParameterTuple\n",
    "rnn_cf = RNN(n_letters, n_hidden, n_categories)\n",
    "optimizer = nn.Momentum(filter(lambda x:x.requires_grad,rnn_cf.get_parameters()),0.001,0.9)\n",
    "net_with_criterion = WithLossCellRnn(rnn_cf, criterion)\n",
    "net = nn.TrainOneStepCell(net_with_criterion, optimizer)\n",
    "net.set_train()\n",
    "def train(category_tensor, line_tensor):\n",
    "    hidden = rnn_cf.initHidden()\n",
    "    loss = net(line_tensor,hidden,category_tensor)\n",
    "    for i in range(line_tensor.shape[0]):\n",
    "        output, hidden = rnn_cf(line_tensor[i], hidden)\n",
    "    return  output, loss"
   ]
  },
  {
   "cell_type": "markdown",
   "metadata": {},
   "source": [
    "下面进行模型训练。通过`print_every`，每隔500个样本打印一次。通过✓、✗来表示每个节点上模型判断的正误。"
   ]
  },
  {
   "cell_type": "code",
   "execution_count": 14,
   "metadata": {},
   "outputs": [
    {
     "name": "stdout",
     "output_type": "stream",
     "text": [
      "500 5% (0m 55s) 2.9511454 Mai / Italian ✗ (Vietnamese)\n",
      "1000 10% (1m 39s) 2.7946725 Timonnikov / Portuguese ✗ (Russian)\n",
      "1500 15% (2m 23s) 2.581205 Morandi / Polish ✗ (Italian)\n",
      "2000 20% (3m 4s) 2.7694151 Ceallachan / Vietnamese ✗ (Irish)\n",
      "2500 25% (3m 47s) 2.8895192 Bairamkuloff / Polish ✗ (Russian)\n",
      "3000 30% (4m 29s) 3.07459 Sarkozi / Italian ✗ (French)\n",
      "3500 35% (5m 10s) 2.8098087 Mcnab / Chinese ✗ (Irish)\n",
      "4000 40% (5m 53s) 2.1731405 Arlotti / Italian ✓\n",
      "4500 45% (6m 35s) 3.2535906 De laurentis / Greek ✗ (Italian)\n",
      "5000 50% (7m 19s) 2.6969473 O'Neal / Irish ✓\n",
      "5500 55% (7m 59s) 3.0052674 Fabian / Scottish ✗ (French)\n",
      "6000 60% (8m 42s) 2.9978802 Chi / Italian ✗ (Korean)\n",
      "6500 65% (9m 24s) 1.4152222 Hagias / Greek ✓\n",
      "7000 70% (10m 7s) 2.5804625 Malouf / Arabic ✓\n",
      "7500 75% (10m 48s) 2.615438 Reid / Scottish ✓\n",
      "8000 80% (11m 31s) 2.6654413 O'Boyle / French ✗ (Irish)\n",
      "8500 85% (12m 14s) 3.0208545 Wruck / Polish ✗ (German)\n",
      "9000 90% (12m 55s) 1.734647 Wojewodzki / Polish ✓\n",
      "9500 95% (13m 38s) 2.5977328 Daly / English ✗ (Irish)\n",
      "10000 100% (14m 20s) 2.6486962 Rodagh / Vietnamese ✗ (Irish)\n"
     ]
    }
   ],
   "source": [
    "import time\n",
    "import math\n",
    "\n",
    "n_iters = 10000\n",
    "print_every = 500\n",
    "plot_every = 100\n",
    "\n",
    "# Keep track of losses for plotting\n",
    "current_loss = 0\n",
    "all_losses = []\n",
    "\n",
    "def timeSince(since):\n",
    "    now = time.time()\n",
    "    s = now - since\n",
    "    m = math.floor(s / 60)\n",
    "    s -= m * 60\n",
    "    return '%dm %ds' % (m, s)\n",
    "\n",
    "start = time.time()\n",
    "for iter in range(1, n_iters + 1):\n",
    "    category, line, category_tensor, line_tensor = randomTrainingExample()\n",
    "    output, loss = train(category_tensor, line_tensor)\n",
    "    current_loss += loss\n",
    "\n",
    "    # 根据迭代打印loss、对应的name和预测值\n",
    "    if iter % print_every == 0:\n",
    "        guess, guess_i = categoryFromOutput(output)\n",
    "        correct = '✓' if guess == category else '✗ (%s)' % category\n",
    "        print('%d %d%% (%s) %s %s / %s %s' % (iter, iter / n_iters * 100, timeSince(start), loss.asnumpy(), line, guess, correct))\n",
    "\n",
    "    # 将当前loss添加至all_losses\n",
    "    if iter % plot_every == 0:\n",
    "        all_losses.append((current_loss / plot_every).asnumpy())\n",
    "        current_loss = 0"
   ]
  },
  {
   "cell_type": "markdown",
   "metadata": {},
   "source": [
    "### 绘制结果\n",
    "\n",
    "从`all_losses`绘制历史损失可显示网络学习情况。"
   ]
  },
  {
   "cell_type": "code",
   "execution_count": 15,
   "metadata": {},
   "outputs": [
    {
     "data": {
      "text/plain": [
       "[<matplotlib.lines.Line2D at 0x7f60e8f5e250>]"
      ]
     },
     "execution_count": 15,
     "metadata": {},
     "output_type": "execute_result"
    },
    {
     "data": {
      "image/png": "[encoded data removed]",
      "text/plain": [
       "<Figure size 432x288 with 1 Axes>"
      ]
     },
     "metadata": {
      "needs_background": "light"
     },
     "output_type": "display_data"
    }
   ],
   "source": [
    "import matplotlib.pyplot as plt\n",
    "import matplotlib.ticker as ticker\n",
    "\n",
    "plt.figure()\n",
    "\n",
    "plt.plot(all_losses)"
   ]
  },
  {
   "cell_type": "markdown",
   "metadata": {},
   "source": [
    "## 评估结果\n",
    "\n",
    "为了查看网络在不同类别上的表现如何，我们将创建一个混淆矩阵，行坐标为实际语言，列坐标为预测的语言。 为了计算混淆矩阵，使用`evaluate()`通过RNN网络运行样本，这一过程相当于在`train()`时不进行反向传播。"
   ]
  },
  {
   "cell_type": "code",
   "execution_count": 16,
   "metadata": {},
   "outputs": [
    {
     "data": {
      "image/png": "[encoded data removed]",
      "text/plain": [
       "<Figure size 432x288 with 2 Axes>"
      ]
     },
     "metadata": {
      "needs_background": "light"
     },
     "output_type": "display_data"
    }
   ],
   "source": [
    "# 在混淆矩阵中记录正确预测\n",
    "confusion = Tensor(np.zeros((n_categories, n_categories)), mstype.float32)\n",
    "n_confusion = 1000\n",
    "\n",
    "# 获取每行的输出\n",
    "def evaluate(line_tensor):\n",
    "    hidden = rnn.initHidden()\n",
    "\n",
    "    for i in range(line_tensor.shape[0]):\n",
    "        output, hidden = rnn(line_tensor[i], hidden)\n",
    "\n",
    "    return output\n",
    "\n",
    "# 运行样本，并记录正确的预测\n",
    "for i in range(n_confusion):\n",
    "    category, line, category_tensor, line_tensor = randomTrainingExample()\n",
    "    output = evaluate(line_tensor)\n",
    "    guess, guess_i = categoryFromOutput(output)\n",
    "    category_i = all_categories.index(category)\n",
    "    confusion[category_i,guess_i] += 1\n",
    "\n",
    "# 标准化输出\n",
    "for i in range(n_categories):\n",
    "    confusion[i] = confusion[i] / np.sum(confusion[i])\n",
    "\n",
    "# 绘制图表\n",
    "fig = plt.figure()\n",
    "ax = fig.add_subplot(111)\n",
    "cax = ax.matshow(confusion.asnumpy())\n",
    "fig.colorbar(cax)\n",
    "\n",
    "# 设定轴\n",
    "ax.set_xticklabels([''] + all_categories, rotation=90)\n",
    "ax.set_yticklabels([''] + all_categories)\n",
    "\n",
    "# 在坐标处添加标签\n",
    "ax.xaxis.set_major_locator(ticker.MultipleLocator(1))\n",
    "ax.yaxis.set_major_locator(ticker.MultipleLocator(1))\n",
    "\n",
    "plt.show()"
   ]
  },
  {
   "cell_type": "markdown",
   "metadata": {},
   "source": [
    "## 自定义输入\n",
    "\n",
    "下面用户可以选择几个名称，通过RNN网络进行预测。"
   ]
  },
  {
   "cell_type": "code",
   "execution_count": 17,
   "metadata": {},
   "outputs": [
    {
     "name": "stdout",
     "output_type": "stream",
     "text": [
      "\n",
      "> Dovesky\n",
      "(-2.88) Vietnamese\n",
      "(-2.88) Chinese\n",
      "(-2.88) Arabic\n",
      "\n",
      "> Jackson\n",
      "(-2.87) Korean\n",
      "(-2.88) Irish\n",
      "(-2.88) German\n",
      "\n",
      "> Satoshi\n",
      "(-2.88) Spanish\n",
      "(-2.88) Greek\n",
      "(-2.88) Japanese\n"
     ]
    }
   ],
   "source": [
    "def predict(input_line, n_predictions=3):\n",
    "    print('\\n> %s' % input_line)\n",
    "    \n",
    "    output = evaluate(lineToTensor(input_line))\n",
    "\n",
    "    # Get top N categories\n",
    "    topk = ops.TopK(sorted=True)\n",
    "    top_n, top_i = topk(output,3)\n",
    "    predictions = []\n",
    "\n",
    "    for i in range(n_predictions):\n",
    "        value = top_n.asnumpy()[0][i].item()\n",
    "        category_index = top_i.asnumpy()[0][i].item()\n",
    "        print('(%.2f) %s' % (value, all_categories[category_index]))\n",
    "        predictions.append([value, all_categories[category_index]])\n",
    "\n",
    "predict('Dovesky')\n",
    "predict('Jackson')\n",
    "predict('Satoshi')"
   ]
  }
 ],
 "metadata": {
  "kernelspec": {
   "display_name": "Python 3",
   "language": "python",
   "name": "python3"
  },
  "language_info": {
   "codemirror_mode": {
    "name": "ipython",
    "version": 3
   },
   "file_extension": ".py",
   "mimetype": "text/x-python",
   "name": "python",
   "nbconvert_exporter": "python",
   "pygments_lexer": "ipython3",
   "version": "3.8.5"
  },
  "toc": {
   "base_numbering": 1,
   "nav_menu": {},
   "number_sections": true,
   "sideBar": true,
   "skip_h1_title": false,
   "title_cell": "Table of Contents",
   "title_sidebar": "Contents",
   "toc_cell": false,
   "toc_position": {},
   "toc_section_display": true,
   "toc_window_display": false
  }
 },
 "nbformat": 4,
 "nbformat_minor": 4
}
