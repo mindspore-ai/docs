{
 "cells": [
  {
   "cell_type": "markdown",
   "source": [
    "# Tensor\n",
    "\n",
    "[![View-Source](https://mindspore-website.obs.cn-north-4.myhuaweicloud.com/website-images/master/resource/_static/logo_source_en.png)](https://gitee.com/mindspore/docs/blob/master/tutorials/source_en/beginner/tensor.ipynb)\n",
    "\n",
    "Tensor is a multilinear function that can be used to represent linear relationships between vectors , scalars , and other tensors. The basic examples of these linear relations are the inner product , the outer product , the linear map , and the Cartesian product. In the $n$ dimensional space, its coordinates have $n^{r}$ components, where each component is a function of coordinates, and these components are also linearly transformed according to certain rules when the coordinates are transformed. $r$ is called the rank or order of this tensor (neither has anything to do with the rank and order of the matrix).\n",
    "\n",
    "Tensor is a special data structure that is very similar to arrays and matrices. [Tensor](https://www.mindspore.cn/docs/api/en/master/api_python/mindspore/mindspore.Tensor.html) is the basic data structure in MindSpore network operations, and this chapter mainly introduces the attributes and usage of the tensor and the sparse tensor."
   ],
   "metadata": {}
  },
  {
   "cell_type": "markdown",
   "source": [
    "## Building the Tensor\n",
    "\n",
    "There are multiple methods for initializing the tensor. When building the tensor, you can pass the Tensor with `float`, `int`, `bool`, `tuple`, `list`, and `NumPy.array` types.\n",
    "\n",
    "- **Generating a tensor based on data.**\n",
    "\n",
    "You can create a tensor based on data. The data type can be set or automatically inferred."
   ],
   "metadata": {}
  },
  {
   "cell_type": "code",
   "execution_count": 2,
   "source": [
    "from mindspore import Tensor\n",
    "\n",
    "x = Tensor(0.1)"
   ],
   "outputs": [],
   "metadata": {}
  },
  {
   "cell_type": "markdown",
   "source": [
    "- **Generating a tensor from the NumPy array.**\n",
    "\n",
    "You can create a tensor from the NumPy array."
   ],
   "metadata": {}
  },
  {
   "cell_type": "code",
   "execution_count": 3,
   "source": [
    "import numpy as np\n",
    "\n",
    "arr = np.array([1, 0, 1, 0])\n",
    "tensor_arr = Tensor(arr)\n",
    "\n",
    "print(type(arr))\n",
    "print(type(tensor_arr))"
   ],
   "outputs": [],
   "metadata": {}
  },
  {
   "cell_type": "markdown",
   "metadata": {},
   "source": [
    "<class 'numpy.ndarray'>\n",
    "\n",
    "<class 'mindspore.common.tensor.Tensor'>"
   ]
  },
  {
   "cell_type": "markdown",
   "source": [
    "If the initial value is `NumPy.array`, the generated `Tensor` data type corresponds to `NumPy.array`."
   ],
   "metadata": {}
  },
  {
   "cell_type": "markdown",
   "source": [
    "- **Generating a tensor by using the init**\n",
    "\n",
    "When using the `init` to initialize a tensor, the parameters that support passing are `init`, `shape` and `dtype`.\n",
    "\n",
    "- `init`: Support passing the subclass of [initializer](https://www.mindspore.cn/docs/api/en/master/api_python/mindspore.common.initializer.html).\n",
    "- `shape`: Support passing `list`, `tuple`, `int`.\n",
    "- `dtype`: Support passing [mindspore.dtype](https://www.mindspore.cn/docs/api/en/master/api_python/mindspore.html#mindspore.dtype)."
   ],
   "metadata": {}
  },
  {
   "cell_type": "code",
   "execution_count": 4,
   "source": [
    "from mindspore import Tensor\n",
    "from mindspore import set_seed\n",
    "from mindspore import dtype as mstype\n",
    "from mindspore.common.initializer import One, Normal\n",
    "\n",
    "set_seed(1)\n",
    "\n",
    "tensor1 = Tensor(shape=(2, 2), dtype=mstype.float32, init=One())\n",
    "tensor2 = Tensor(shape=(2, 2), dtype=mstype.float32, init=Normal())\n",
    "\n",
    "print(\"tensor1:\\n\", tensor1)\n",
    "print(\"tensor2:\\n\", tensor2)"
   ],
   "outputs": [
    {
     "output_type": "stream",
     "name": "stdout",
     "text": [
      "tensor1:\n",
      " [[1. 1.]\n",
      " [1. 1.]]\n",
      "tensor2:\n",
      " [[-0.00128023 -0.01392901]\n",
      " [ 0.0130886  -0.00107818]]\n"
     ]
    }
   ],
   "metadata": {}
  },
  {
   "cell_type": "markdown",
   "source": [
    "The `init` is used for delayed initialization in parallel mode. Usually, it is not recommended to use `init` interface to initialize parameters.\n",
    "\n",
    "- **Inheriting attributes of another tensor to form a new tensor.**"
   ],
   "metadata": {}
  },
  {
   "cell_type": "code",
   "execution_count": 5,
   "source": [
    "from mindspore import ops\n",
    "\n",
    "oneslike = ops.OnesLike()\n",
    "x = Tensor(np.array([[0, 1], [2, 1]]).astype(np.int32))\n",
    "output = oneslike(x)\n",
    "\n",
    "print(output)\n",
    "print(\"input shape:\", x.shape)\n",
    "print(\"output shape:\", output.shape)"
   ],
   "outputs": [
    {
     "output_type": "stream",
     "name": "stdout",
     "text": [
      "[[1 1]\n",
      " [1 1]]\n",
      "input shape: (2, 2)\n",
      "output shape: (2, 2)\n"
     ]
    }
   ],
   "metadata": {}
  },
  {
   "cell_type": "markdown",
   "source": [
    "- **Outputting a constant tensor of a specified size.**\n",
    "\n",
    "`shape` is the size tuple of a tensor, which determines the dimension of the output tensor."
   ],
   "metadata": {}
  },
  {
   "cell_type": "code",
   "execution_count": 6,
   "source": [
    "shape = (2, 2)\n",
    "ones = ops.Ones()\n",
    "output = ones(shape, mstype.float32)\n",
    "\n",
    "zeros = ops.Zeros()\n",
    "output = zeros(shape, mstype.float32)\n",
    "print(output)"
   ],
   "outputs": [
    {
     "output_type": "stream",
     "name": "stdout",
     "text": [
      "[[1. 1.]\n",
      " [1. 1.]]\n",
      "[[0. 0.]\n",
      " [0. 0.]]\n"
     ]
    }
   ],
   "metadata": {}
  },
  {
   "cell_type": "markdown",
   "source": [
    "During `Tensor` initialization, dtype can be specified, for example, `mstype.int32`, `mstype.float32` or `mstype.bool_`.\n",
    "\n",
    "## Tensor Attributes\n",
    "\n",
    "Tensor attributes include shape, data type, transposed tensor, item size, number of bytes occupied, dimension, size of elements, and stride per dimension.\n",
    "\n",
    "- shape: the shape of `Tensor`, a tuple.\n",
    "\n",
    "- dtype: the dtype of `Tensor`, a data type of MindSpore.\n",
    "\n",
    "- T: the Transpose of `Tensor`, also a `Tensor`.\n",
    "\n",
    "- itemsize: the number of bytes occupied by each element in `Tensor` is an integer.\n",
    "\n",
    "- nbytes: the total number of bytes occupied by `Tensor`, an integer.\n",
    "\n",
    "- ndim: the rank of a `Tensor`, which is len(tensor.shape), an integer.\n",
    "\n",
    "- size: the number of all elements in `Tensor`, an integer.\n",
    "\n",
    "- strides: the number of bytes to traverse in each dimension of `Tensor`."
   ],
   "metadata": {}
  },
  {
   "cell_type": "code",
   "execution_count": 7,
   "source": [
    "x = Tensor(np.array([[1, 2], [3, 4]]), mstype.int32)\n",
    "\n",
    "print(\"x_shape:\", x.shape)\n",
    "print(\"x_dtype:\", x.dtype)\n",
    "print(\"x_transposed:\\n\", x.T)\n",
    "print(\"x_itemsize:\", x.itemsize)\n",
    "print(\"x_nbytes:\", x.nbytes)\n",
    "print(\"x_ndim:\", x.ndim)\n",
    "print(\"x_size:\", x.size)\n",
    "print(\"x_strides:\", x.strides)"
   ],
   "outputs": [
    {
     "output_type": "stream",
     "name": "stdout",
     "text": [
      "x_shape: (2, 2)\n",
      "x_dtype: Int32\n",
      "x_transposed:\n",
      " [[1 3]\n",
      " [2 4]]\n",
      "x_itemsize: 4\n",
      "x_nbytes: 16\n",
      "x_ndim: 2\n",
      "x_size: 4\n",
      "x_strides: (8, 4)\n"
     ]
    }
   ],
   "metadata": {}
  },
  {
   "cell_type": "markdown",
   "source": [
    "## Tensor Indexing\n",
    "\n",
    "Tensor indexing is similar to Numpy indexing, indexing starts from 0, negative indexing means indexing in reverse order, and colons `:` and `...` are used for slicing."
   ],
   "metadata": {}
  },
  {
   "cell_type": "code",
   "execution_count": 8,
   "source": [
    "tensor = Tensor(np.array([[0, 1], [2, 3]]).astype(np.float32))\n",
    "\n",
    "print(\"First row: {}\".format(tensor[0]))\n",
    "print(\"value of top right corner: {}\".format(tensor[1, 1]))\n",
    "print(\"Last column: {}\".format(tensor[:, -1]))\n",
    "print(\"First column: {}\".format(tensor[..., 0]))"
   ],
   "outputs": [
    {
     "output_type": "stream",
     "name": "stdout",
     "text": [
      "First row: [0. 1.]\n",
      "value of top right corner: 3.0\n",
      "Last column: [1. 3.]\n",
      "First column: [0. 2.]\n"
     ]
    }
   ],
   "metadata": {}
  },
  {
   "cell_type": "markdown",
   "source": [
    "## Tensor Operation\n",
    "\n",
    "There are many operations between tensors, including arithmetic, linear algebra, matrix processing (transposing, indexing, and slicing), and sampling. The following describes several operations. The usage of tensor computation is similar to that of NumPy.\n",
    "\n",
    ">Common arithmetic operations include: addition (+), subtraction (-), multiplication (\\*), division (/), modulo (%), power (\\*\\*), and exact division (//)."
   ],
   "metadata": {}
  },
  {
   "cell_type": "code",
   "execution_count": 9,
   "source": [
    "x = Tensor(np.array([1, 2, 3]), mstype.int32)\n",
    "y = Tensor(np.array([4, 5, 6]), mstype.int32)\n",
    "\n",
    "output_add = x + y\n",
    "output_sub = x - y\n",
    "output_mul = x * y\n",
    "output_div = y / x\n",
    "output_mod = y % x\n",
    "output_floordiv = y // x\n",
    "\n",
    "print(\"add:\", output_add)\n",
    "print(\"sub:\", output_sub)\n",
    "print(\"mul:\", output_mul)\n",
    "print(\"div:\", output_div)\n",
    "print(\"mod:\", output_mod)\n",
    "print(\"floordiv:\", output_floordiv)"
   ],
   "outputs": [
    {
     "output_type": "stream",
     "name": "stdout",
     "text": [
      "add: [5 7 9]\n",
      "sub: [-3 -3 -3]\n",
      "mul: [ 4 10 18]\n",
      "div: [4 2 2]\n",
      "mod: [0 1 0]\n",
      "floordiv: [4 2 2]\n"
     ]
    }
   ],
   "metadata": {}
  },
  {
   "cell_type": "markdown",
   "source": [
    "`Concat` connects a series of tensors in a given dimension."
   ],
   "metadata": {}
  },
  {
   "cell_type": "code",
   "execution_count": 10,
   "source": [
    "data1 = Tensor(np.array([[0, 1], [2, 3]]).astype(np.float32))\n",
    "data2 = Tensor(np.array([[4, 5], [6, 7]]).astype(np.float32))\n",
    "op = ops.Concat()\n",
    "output = op((data1, data2))\n",
    "\n",
    "print(output)\n",
    "print(\"shape:\\n\", output.shape)"
   ],
   "outputs": [
    {
     "output_type": "stream",
     "name": "stdout",
     "text": [
      "[[0. 1.]\n",
      " [2. 3.]\n",
      " [4. 5.]\n",
      " [6. 7.]]\n",
      "shape:\n",
      " (4, 2)\n"
     ]
    }
   ],
   "metadata": {}
  },
  {
   "cell_type": "markdown",
   "source": [
    "`Stack` combines two tensors from another dimension."
   ],
   "metadata": {}
  },
  {
   "cell_type": "code",
   "execution_count": 11,
   "source": [
    "data1 = Tensor(np.array([[0, 1], [2, 3]]).astype(np.float32))\n",
    "data2 = Tensor(np.array([[4, 5], [6, 7]]).astype(np.float32))\n",
    "op = ops.Stack()\n",
    "output = op([data1, data2])\n",
    "\n",
    "print(output)\n",
    "print(\"shape:\\n\", output.shape)"
   ],
   "outputs": [
    {
     "output_type": "stream",
     "name": "stdout",
     "text": [
      "[[[0. 1.]\n",
      "  [2. 3.]]\n",
      "\n",
      " [[4. 5.]\n",
      "  [6. 7.]]]\n",
      "shape:\n",
      " (2, 2, 2)\n"
     ]
    }
   ],
   "metadata": {}
  },
  {
   "cell_type": "markdown",
   "source": [
    "## Conversion Between Tensor and NumPy\n",
    "\n",
    "Tensor and NumPy can be converted to each other.\n",
    "\n",
    "### Tensor to NumPy\n",
    "\n",
    "Use `asnumpy()` to convert Tensor to NumPy."
   ],
   "metadata": {}
  },
  {
   "cell_type": "code",
   "execution_count": 12,
   "source": [
    "zeros = ops.Zeros()\n",
    "\n",
    "output = zeros((2, 2), mstype.float32)\n",
    "print(\"output: {}\".format(type(output)))\n",
    "\n",
    "n_output = output.asnumpy()\n",
    "print(\"n_output: {}\".format(type(n_output)))"
   ],
   "outputs": [
    {
     "output_type": "stream",
     "name": "stdout",
     "text": [
      "output: <class 'mindspore.common.tensor.Tensor'>\n",
      "n_output: <class 'numpy.ndarray'>\n"
     ]
    }
   ],
   "metadata": {}
  },
  {
   "cell_type": "markdown",
   "source": [
    "### NumPy to Tensor\n",
    "\n",
    "Use `asnumpy()` to convert NumPy to Tensor."
   ],
   "metadata": {}
  },
  {
   "cell_type": "code",
   "execution_count": 13,
   "source": [
    "output = np.array([1, 0, 1, 0])\n",
    "print(\"output: {}\".format(type(output)))\n",
    "\n",
    "t_output = Tensor(output)\n",
    "print(\"t_output: {}\".format(type(t_output)))"
   ],
   "outputs": [
    {
     "output_type": "stream",
     "name": "stdout",
     "text": [
      "output: <class 'numpy.ndarray'>\n",
      "t_output: <class 'mindspore.common.tensor.Tensor'>\n"
     ]
    }
   ],
   "metadata": {}
  },
  {
   "cell_type": "markdown",
   "metadata": {},
   "source": [
    "## Sparse Tensor\n",
    "\n",
    "The sparse tensor is a special kind of tensor which most of the elements are zero.\n",
    "\n",
    "In some scenario (e.g., Recommendation Systems, Molecular Dynamics, Graph Neural Networks), the data is sparse. If we use common dense tensors to represent the data, we may introduce many\n",
    "unnecessary calculations, storage and communication costs. In this situation, it is better to use sparse tensor to\n",
    "represent the data.\n",
    "\n",
    "MindSpore now supports the two most commonly used `CSR` and `COO` sparse data formats.\n",
    "\n",
    "The common structure of the sparse tensor is `<indices:Tensor, values:Tensor, shape:Tensor>`. `indices` means index of\n",
    "non-zero elements, `values` means the values of these non-zero elements and shape means the dense shape of\n",
    "the sparse tensor. Using this structure, we define data structure `CSRTensor`, `COOTensor` and `RowTensor`."
   ]
  },
  {
   "cell_type": "markdown",
   "metadata": {},
   "source": [
    "### CSRTensor\n",
    "\n",
    "`CSR`(Compressed Sparse Row) is efficient in both storage and computation. All the non-zero values are stored in `values`, and their positions are stored in `indptr`(row position) and `indices` (column position).\n",
    "\n",
    "- `indptr`: 1-D integer tensor, indicating the start and end points of the non-zero element of each row of the sparse data in `values`. Index data type only supports int32 for now.\n",
    "\n",
    "- `indices`: 1-D integer tensor, indicating the position of the sparse tensor non-zero element in the column and has the same length as `values`. Index data type only supports int32 for now.\n",
    "\n",
    "- `values`: 1-D tensor, indicating that the value of the non-zero element corresponding to the `CSRTensor` and has the same length as `indices`.\n",
    "\n",
    "- `shape`: indicating that the shape of a compressed sparse tensor. The data type is `Tuple`, and currently only 2-D `CSRTensor` is supported.\n",
    "\n",
    ">For more details of the `CSRTensor`, please see [mindspore.CSRTensor](https://www.mindspore.cn/docs/api/en/master/api_python/mindspore/mindspore.CSRTensor.html).\n",
    "\n",
    "Here are some examples of how CSRTensor can be used:\n"
   ]
  },
  {
   "cell_type": "code",
   "execution_count": 14,
   "metadata": {},
   "outputs": [
    {
     "name": "stdout",
     "output_type": "stream",
     "text": [
      "Float64\n"
     ]
    }
   ],
   "source": [
    "import mindspore as ms\n",
    "from mindspore import Tensor, CSRTensor\n",
    "\n",
    "indptr = Tensor([0, 1, 2])\n",
    "indices = Tensor([0, 1])\n",
    "values = Tensor([1, 2], dtype=ms.float32)\n",
    "shape = (2, 4)\n",
    "\n",
    "# constructs CSRTensor\n",
    "csr_tensor = CSRTensor(indptr, indices, values, shape)\n",
    "\n",
    "print(csr_tensor.astype(ms.float64).dtype)"
   ]
  },
  {
   "cell_type": "markdown",
   "metadata": {},
   "source": [
    "### COOTensor\n",
    "\n",
    "`COOTensor` is used to compress Tensors with irregular distribution of non-zero elements. If the number of non-zero elements\n",
    "is `N` and the dense shape of the sparse tensor is `ndims`：\n",
    "\n",
    "- `indices`: 2-D integer Tensor and each row indicates a non-zero element subscript. Shape: `[N, ndims]`. Index data type only supports int32 for now.\n",
    "- `values`: 1-D tensor of any type, indicating the value of non-zero elements. Shape: `[N]`.\n",
    "- `shape`: indicating a dense shape of the sparse tensor, currently only 2-D `COOTensor` is supported.\n",
    "\n",
    ">For more details for `COOTensor`, please see [mindspore.COOTensor](https://www.mindspore.cn/docs/api/en/master/api_python/mindspore/mindspore.COOTensor.html).\n",
    "\n",
    "Here are some examples of how COOTensor can be used:"
   ]
  },
  {
   "cell_type": "code",
   "execution_count": 16,
   "metadata": {},
   "outputs": [
    {
     "name": "stdout",
     "output_type": "stream",
     "text": [
      "[1. 2.]\n",
      "[[0 1]\n",
      " [1 2]]\n",
      "(3, 4)\n",
      "Float64\n"
     ]
    }
   ],
   "source": [
    "import mindspore as ms\n",
    "import mindspore.nn as nn\n",
    "from mindspore import Tensor, COOTensor\n",
    "\n",
    "indices = Tensor([[0, 1], [1, 2]])\n",
    "values = Tensor([1, 2], dtype=ms.float32)\n",
    "shape = (3, 4)\n",
    "\n",
    "# constructs COOTensor\n",
    "coo_tensor = COOTensor(indices, values, shape)\n",
    "\n",
    "print(coo_tensor.values)\n",
    "print(coo_tensor.indices)\n",
    "print(coo_tensor.shape)\n",
    "print(coo_tensor.astype(ms.float64).dtype) # COOTensor cast to another data type"
   ]
  },
  {
   "cell_type": "markdown",
   "metadata": {},
   "source": [
    "The codes above produce a `COOTensor` as following:\n",
    "\n",
    "$$\n",
    " \\left[\n",
    " \\begin{matrix}\n",
    "   0 & 1 & 0 & 0 \\\\\n",
    "   0 & 0 & 2 & 0 \\\\\n",
    "   0 & 0 & 0 & 0\n",
    "  \\end{matrix}\n",
    "  \\right]\n",
    "$$"
   ]
  },
  {
   "cell_type": "markdown",
   "metadata": {},
   "source": [
    "### RowTensor\n",
    "\n",
    "`RowTensor` is used to compress tensors that are sparse in the zeroth dimension. If the dimension of `RowTensor` is `[L0, D1, D2, ..., DN ]`. The number of non-zero elements in the zeroth dimension is `D0`, then `L0 >> D0`.\n",
    "\n",
    "- `indices`: 1-D integer tensor, indicating the position of non-zero elements in the zeroth dimension of the sparse tensor, shape: `[D0]`.\n",
    "\n",
    "- `values`: indicating the value of the corresponding non-zero element, shape: `[D0, D1, D2, ..., DN]`.\n",
    "\n",
    "- `dense_shape`: indicating the shape of the compressed sparse tensor.\n",
    "\n",
    "> `RowTensor` can only be used in the constructor of `Cell`. For the detailed contents, refer to the code example in [mindspore.RowTensor](https://www.mindspore.cn/docs/api/en/master/api_python/mindspore/mindspore.RowTensor.html)"
   ]
  },
  {
   "cell_type": "code",
   "execution_count": 18,
   "metadata": {},
   "outputs": [
    {
     "name": "stdout",
     "output_type": "stream",
     "text": [
      "non-zero values: [[1. 2.]]\n",
      "non-zero indices: [0]\n",
      "shape: (3, 2)\n"
     ]
    }
   ],
   "source": [
    "from mindspore import RowTensor\n",
    "import mindspore.nn as nn\n",
    "\n",
    "class Net(nn.Cell):\n",
    "    def __init__(self, dense_shape):\n",
    "        super(Net, self).__init__()\n",
    "        self.dense_shape = dense_shape\n",
    "\n",
    "    def construct(self, indices, values):\n",
    "        x = RowTensor(indices, values, self.dense_shape)\n",
    "        return x.values, x.indices, x.dense_shape\n",
    "\n",
    "indices = Tensor([0])\n",
    "values = Tensor([[1, 2]], dtype=mstype.float32)\n",
    "out = Net((3, 2))(indices, values)\n",
    "\n",
    "print(\"non-zero values:\", out[0])\n",
    "print(\"non-zero indices:\", out[1])\n",
    "print(\"shape:\", out[2])"
   ]
  }
 ],
 "metadata": {
  "kernelspec": {
   "display_name": "Python [conda env:mindspore_py39] *",
   "language": "python",
   "name": "conda-env-mindspore_py39-py"
  },
  "language_info": {
   "codemirror_mode": {
    "name": "ipython",
    "version": 3
   },
   "file_extension": ".py",
   "mimetype": "text/x-python",
   "name": "python",
   "nbconvert_exporter": "python",
   "pygments_lexer": "ipython3",
   "version": "3.9.0"
  }
 },
 "nbformat": 4,
 "nbformat_minor": 4
}