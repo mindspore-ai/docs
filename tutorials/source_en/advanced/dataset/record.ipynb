{
 "cells": [
  {
   "cell_type": "markdown",
   "id": "353e041e",
   "metadata": {},
   "source": [
    "# Converting Dataset to MindRecord\n",
    "\n",
    "[![Download Notebook](https://mindspore-website.obs.cn-north-4.myhuaweicloud.com/website-images/r1.9/resource/_static/logo_notebook_en.png)](https://mindspore-website.obs.cn-north-4.myhuaweicloud.com/notebook/r1.9/tutorials/en/advanced/dataset/mindspore_record.ipynb)&emsp;[![View Source On Gitee](https://mindspore-website.obs.cn-north-4.myhuaweicloud.com/website-images/r1.9/resource/_static/logo_source_en.png)](https://gitee.com/mindspore/docs/blob/r1.9/tutorials/source_en/advanced/dataset/record.ipynb)"
   ]
  },
  {
   "cell_type": "markdown",
   "id": "c65401c3",
   "metadata": {},
   "source": [
    "In MindSpore, the dataset used to train the network model can be converted into MindSpore-specific format data (MindSpore Record format), making it easier to save and load data. The goal is to normalize the user's dataset and further enable the reading of the data through the MindDataset interface and use it during the training process.\n",
    "\n",
    "![conversion](https://mindspore-website.obs.cn-north-4.myhuaweicloud.com/website-images/r1.9/tutorials/source_en/advanced/dataset/images/data_conversion_concept.png)\n",
    "\n",
    "In addition, the performance of MindSpore in some scenarios is optimized, and using the MindSpore Record data format can reduce disk IO and network IO overhead, which results in a better user experience.\n",
    "\n",
    "The MindSpore data format has the following features:\n",
    "\n",
    "1. Unified storage and access of user data are implemented, simplifying training data loading.\n",
    "2. Data is aggregated for storage, which can be efficiently read, managed and moved.\n",
    "3. Data encoding and decoding are efficient and transparent to users.\n",
    "4. The partition size is flexibly controlled to implement distributed training.\n",
    "\n",
    "## Record File Structure\n",
    "\n",
    "As shown in the following figure, a MindSpore Record file consists of a data file and an index file."
   ]
  },
  {
   "cell_type": "markdown",
   "id": "c8d87dd3",
   "metadata": {},
   "source": [
    "![mindrecord](https://mindspore-website.obs.cn-north-4.myhuaweicloud.com/website-images/r1.9/tutorials/source_en/advanced/dataset/images/mindrecord.png)"
   ]
  },
  {
   "cell_type": "markdown",
   "id": "41124617",
   "metadata": {},
   "source": [
    "The data file contains file headers, scalar data pages, and block data pages, which are used to store the training data after user normalization, and a single MindSpore Record file is recommended to be less than 20G, and the user can store the large dataset as multiple MindSpore Record files.\n",
    "\n",
    "The index file contains index information generated based on scalar data (such as image Label, image file name) for convenient retrieval and statistical dataset information.\n",
    "\n",
    "The specific purposes of file headers, scalar data pages, and block data pages in data files are as follows:\n",
    "\n",
    "- **File header**: the meta information of MindSpore Record file, which is mainly used to store file header size, scalar data page size, block data page size, Schema information, index field, statistics, file segment information, the correspondence between scalar data and block data, etc.\n",
    "\n",
    "- **Scalar data page**: mainly used to store integer, string, floating-point data, such as the Label of the image, the file name of the image, the length and width of the image, that is, the information suitable for storing with scalars will be saved here.\n",
    "\n",
    "- **Block data page**: mainly used to store binary strings, NumPy arrays and other data, such as binary image files themselves, dictionaries converted into text, etc.\n",
    "\n",
    "> It should be noted that neither the data files nor the index files can support renaming operations at this time."
   ]
  },
  {
   "cell_type": "markdown",
   "id": "4df60044",
   "metadata": {},
   "source": [
    "## Converting Dataset to Record Format\n",
    "\n",
    "The following mainly describes how to convert CV class data and NLP class data to MindSpore Record file format, and read MindSpore Record file through the `MindDataset` interface.\n",
    "\n",
    "### Converting CV class dataset\n",
    "\n",
    "This example mainly uses a CV dataset containing 100 records and converts it to MindSpore Record format as an example, and describes how to convert a CV class dataset to the MindSpore Record file format and read it through the `MindDataset` interface.\n",
    "\n",
    "First, you need to create a dataset of 100 pictures and save it, whose sample contains three fields: `file_name` (string), `label` (integer), and `data` (binary), and then use the `MindDataset` interface to read the MindSpore Record file.\n",
    "\n",
    "1. Generate 100 images and convert them to MindSpore Record file format."
   ]
  },
  {
   "cell_type": "code",
   "execution_count": 1,
   "id": "aa5de140",
   "metadata": {},
   "outputs": [
    {
     "data": {
      "text/plain": [
       "MSRStatus.SUCCESS"
      ]
     },
     "execution_count": 1,
     "metadata": {},
     "output_type": "execute_result"
    }
   ],
   "source": [
    "import os\n",
    "from PIL import Image\n",
    "from io import BytesIO\n",
    "\n",
    "import mindspore.mindrecord as record\n",
    "\n",
    "\n",
    "# The full path to the output MindSpore Record file\n",
    "MINDRECORD_FILE = \"test.mindrecord\"\n",
    "\n",
    "if os.path.exists(MINDRECORD_FILE):\n",
    "    os.remove(MINDRECORD_FILE)\n",
    "    os.remove(MINDRECORD_FILE + \".db\")\n",
    "\n",
    "# Define the contained fields\n",
    "cv_schema = {\"file_name\": {\"type\": \"string\"},\n",
    "             \"label\": {\"type\": \"int32\"},\n",
    "             \"data\": {\"type\": \"bytes\"}}\n",
    "\n",
    "# Declare the MindSpore Record file format\n",
    "writer = record.FileWriter(file_name=MINDRECORD_FILE, shard_num=1)\n",
    "writer.add_schema(cv_schema, \"it is a cv dataset\")\n",
    "writer.add_index([\"file_name\", \"label\"])\n",
    "\n",
    "# Build a dataset\n",
    "data = []\n",
    "for i in range(100):\n",
    "    i += 1\n",
    "    sample = {}\n",
    "    white_io = BytesIO()\n",
    "    Image.new('RGB', (i*10, i*10), (255, 255, 255)).save(white_io, 'JPEG')\n",
    "    image_bytes = white_io.getvalue()\n",
    "    sample['file_name'] = str(i) + \".jpg\"\n",
    "    sample['label'] = i\n",
    "    sample['data'] = white_io.getvalue()\n",
    "\n",
    "    data.append(sample)\n",
    "    if i % 10 == 0:\n",
    "        writer.write_raw_data(data)\n",
    "        data = []\n",
    "\n",
    "if data:\n",
    "    writer.write_raw_data(data)\n",
    "\n",
    "writer.commit()"
   ]
  },
  {
   "cell_type": "markdown",
   "id": "b8973e00",
   "metadata": {},
   "source": [
    "As can be seen from the printed result `MSRStatus.SUCCESS` above, the dataset conversion was successful. In the examples that follow in this article, you can see this print result if the dataset is successfully converted.\n",
    "\n",
    "2. Read the MindSpore Record file format via the MindDataset interface."
   ]
  },
  {
   "cell_type": "code",
   "execution_count": 2,
   "id": "e39d80df",
   "metadata": {},
   "outputs": [
    {
     "name": "stdout",
     "output_type": "stream",
     "text": [
      "Got 100 samples\n"
     ]
    }
   ],
   "source": [
    "import mindspore.dataset as ds\n",
    "import mindspore.dataset.vision as vision\n",
    "\n",
    "# Read the MindSpore Record file format\n",
    "data_set = ds.MindDataset(dataset_files=MINDRECORD_FILE)\n",
    "decode_op = vision.Decode()\n",
    "data_set = data_set.map(operations=decode_op, input_columns=[\"data\"], num_parallel_workers=2)\n",
    "\n",
    "# Count the number of samples\n",
    "print(\"Got {} samples\".format(data_set.get_dataset_size()))"
   ]
  },
  {
   "cell_type": "markdown",
   "id": "c4d61285",
   "metadata": {},
   "source": [
    "### Converting NLP class dataset\n",
    "\n",
    "This example first creates a MindSpore Record file format with 100 records. Its sample contains eight fields, all of which are integer arrays, and then uses the `MindDataset` interface to read the MindSpore Record file.\n",
    "\n",
    "> For ease of presentation, the preprocessing process of converting text to lexicographic order is omitted here.\n",
    "\n",
    "1. Generate 100 images and convert them to MindSpore Record file format."
   ]
  },
  {
   "cell_type": "code",
   "execution_count": 3,
   "id": "2b89e3b9",
   "metadata": {},
   "outputs": [
    {
     "data": {
      "text/plain": [
       "MSRStatus.SUCCESS"
      ]
     },
     "execution_count": 3,
     "metadata": {},
     "output_type": "execute_result"
    }
   ],
   "source": [
    "import os\n",
    "import numpy as np\n",
    "import mindspore.mindrecord as record\n",
    "\n",
    "# The full path of the output MindSpore Record file\n",
    "MINDRECORD_FILE = \"test.mindrecord\"\n",
    "\n",
    "if os.path.exists(MINDRECORD_FILE):\n",
    "    os.remove(MINDRECORD_FILE)\n",
    "    os.remove(MINDRECORD_FILE + \".db\")\n",
    "\n",
    "# Defines the fields that the sample data contains\n",
    "nlp_schema = {\"source_sos_ids\": {\"type\": \"int64\", \"shape\": [-1]},\n",
    "              \"source_sos_mask\": {\"type\": \"int64\", \"shape\": [-1]},\n",
    "              \"source_eos_ids\": {\"type\": \"int64\", \"shape\": [-1]},\n",
    "              \"source_eos_mask\": {\"type\": \"int64\", \"shape\": [-1]},\n",
    "              \"target_sos_ids\": {\"type\": \"int64\", \"shape\": [-1]},\n",
    "              \"target_sos_mask\": {\"type\": \"int64\", \"shape\": [-1]},\n",
    "              \"target_eos_ids\": {\"type\": \"int64\", \"shape\": [-1]},\n",
    "              \"target_eos_mask\": {\"type\": \"int64\", \"shape\": [-1]}}\n",
    "\n",
    "# Declare the MindSpore Record file format\n",
    "writer = record.FileWriter(file_name=MINDRECORD_FILE, shard_num=1)\n",
    "writer.add_schema(nlp_schema, \"Preprocessed nlp dataset.\")\n",
    "\n",
    "# Build a virtual dataset\n",
    "data = []\n",
    "for i in range(100):\n",
    "    i += 1\n",
    "    sample = {\"source_sos_ids\": np.array([i, i + 1, i + 2, i + 3, i + 4], dtype=np.int64),\n",
    "              \"source_sos_mask\": np.array([i * 1, i * 2, i * 3, i * 4, i * 5, i * 6, i * 7], dtype=np.int64),\n",
    "              \"source_eos_ids\": np.array([i + 5, i + 6, i + 7, i + 8, i + 9, i + 10], dtype=np.int64),\n",
    "              \"source_eos_mask\": np.array([19, 20, 21, 22, 23, 24, 25, 26, 27], dtype=np.int64),\n",
    "              \"target_sos_ids\": np.array([28, 29, 30, 31, 32], dtype=np.int64),\n",
    "              \"target_sos_mask\": np.array([33, 34, 35, 36, 37, 38], dtype=np.int64),\n",
    "              \"target_eos_ids\": np.array([39, 40, 41, 42, 43, 44, 45, 46, 47], dtype=np.int64),\n",
    "              \"target_eos_mask\": np.array([48, 49, 50, 51], dtype=np.int64)}\n",
    "    data.append(sample)\n",
    "\n",
    "    if i % 10 == 0:\n",
    "        writer.write_raw_data(data)\n",
    "        data = []\n",
    "\n",
    "if data:\n",
    "    writer.write_raw_data(data)\n",
    "\n",
    "writer.commit()"
   ]
  },
  {
   "cell_type": "markdown",
   "id": "687c8253",
   "metadata": {},
   "source": [
    "2. Read the MindSpore Record format file through the MindDataset interface."
   ]
  },
  {
   "cell_type": "code",
   "execution_count": 4,
   "id": "257e205d",
   "metadata": {},
   "outputs": [
    {
     "name": "stdout",
     "output_type": "stream",
     "text": [
      "Got 100 samples\n",
      "source_sos_ids: [1 2 3 4 5]\n",
      "source_sos_ids: [2 3 4 5 6]\n",
      "source_sos_ids: [3 4 5 6 7]\n",
      "source_sos_ids: [4 5 6 7 8]\n",
      "source_sos_ids: [5 6 7 8 9]\n",
      "source_sos_ids: [ 6  7  8  9 10]\n",
      "source_sos_ids: [ 7  8  9 10 11]\n",
      "source_sos_ids: [ 8  9 10 11 12]\n",
      "source_sos_ids: [ 9 10 11 12 13]\n",
      "source_sos_ids: [10 11 12 13 14]\n"
     ]
    }
   ],
   "source": [
    "import mindspore.dataset as ds\n",
    "\n",
    "# Read MindSpore Record file format\n",
    "data_set = ds.MindDataset(dataset_files=MINDRECORD_FILE, shuffle=False)\n",
    "\n",
    "# Count the number of samples\n",
    "print(\"Got {} samples\".format(data_set.get_dataset_size()))\n",
    "\n",
    "# Print the part of data\n",
    "count = 0\n",
    "for item in data_set.create_dict_iterator():\n",
    "    print(\"source_sos_ids:\", item[\"source_sos_ids\"])\n",
    "    count += 1\n",
    "    if count == 10:\n",
    "        break"
   ]
  },
  {
   "cell_type": "markdown",
   "id": "91ed5f02",
   "metadata": {},
   "source": [
    "## Dumping Dataset to MindRecord\n",
    "\n",
    "MindSpore provides a tool class for converting commonly used datasets, capable of converting commonly used datasets to the MindSpore Record file format.\n",
    "\n",
    "> For more detailed descriptions of dataset transformations, refer to [API Documentation](https://www.mindspore.cn/docs/en/r1.9/api_python/mindspore.dataset.html).\n",
    "\n",
    "### Dumping the CIFAR-10 dataset\n",
    "\n",
    "Users can convert CIFAR-10 raw data to MindSpore Record and read it using the `MindDataset` interface via the `Dataset.save` class.\n",
    "\n",
    "1. Download the [CIFAR-10 Dataset](https://www.cs.toronto.edu/~kriz/cifar-10-python.tar.gz) and use `Cifar10Dataset` to load."
   ]
  },
  {
   "cell_type": "code",
   "execution_count": 5,
   "id": "1d7240b1",
   "metadata": {},
   "outputs": [
    {
     "name": "stdout",
     "output_type": "stream",
     "text": [
      "Downloading data from https://mindspore-website.obs.cn-north-4.myhuaweicloud.com/notebook/datasets/cifar-10-binary.tar.gz (162.2 MB)\n",
      "\n",
      "file_sizes: 100%|████████████████████████████| 170M/170M [00:26<00:00, 6.34MB/s]\n",
      "Extracting tar.gz file...\n",
      "Successfully downloaded / unzipped to ./\n"
     ]
    }
   ],
   "source": [
    "from download import download\n",
    "from mindspore.dataset import Cifar10Dataset\n",
    "\n",
    "url = \"https://mindspore-website.obs.cn-north-4.myhuaweicloud.com/notebook/datasets/cifar-10-binary.tar.gz\"\n",
    "\n",
    "path = download(url, \"./\", kind=\"tar.gz\", replace=True)\n",
    "dataset = Cifar10Dataset(\"./cifar-10-batches-bin/\")  # load data"
   ]
  },
  {
   "cell_type": "markdown",
   "id": "3682ebe4",
   "metadata": {},
   "source": [
    "2. Call the `Dataset.save` interface to dump the CIFAR-10 dataset into the MindSpore Record file format."
   ]
  },
  {
   "cell_type": "code",
   "execution_count": 6,
   "id": "7bd7d14c",
   "metadata": {},
   "outputs": [],
   "source": [
    "dataset.save(\"cifar10.mindrecord\")"
   ]
  },
  {
   "cell_type": "markdown",
   "id": "c312871d",
   "metadata": {},
   "source": [
    "3. Read the MindSpore Record file format through the `MindDataset` interface."
   ]
  },
  {
   "cell_type": "code",
   "execution_count": 7,
   "id": "c5a82b47",
   "metadata": {},
   "outputs": [
    {
     "name": "stdout",
     "output_type": "stream",
     "text": [
      "Got 60000 samples\n"
     ]
    }
   ],
   "source": [
    "from mindspore.dataset import MindDataset\n",
    "\n",
    "# Read MindSpore Record file format\n",
    "data_set = MindDataset(dataset_files=\"cifar10.mindrecord\")\n",
    "\n",
    "# Count the number of samples\n",
    "print(\"Got {} samples\".format(data_set.get_dataset_size()))"
   ]
  }
 ],
 "metadata": {
  "kernelspec": {
   "display_name": "MindSpore",
   "language": "python",
   "name": "mindspore"
  },
  "language_info": {
   "codemirror_mode": {
    "name": "ipython",
    "version": 3
   },
   "file_extension": ".py",
   "mimetype": "text/x-python",
   "name": "python",
   "nbconvert_exporter": "python",
   "pygments_lexer": "ipython3",
   "version": "3.7.11"
  }
 },
 "nbformat": 4,
 "nbformat_minor": 5
}
